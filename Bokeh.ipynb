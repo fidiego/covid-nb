{
 "cells": [
  {
   "cell_type": "code",
   "execution_count": 1,
   "metadata": {},
   "outputs": [
    {
     "data": {
      "text/html": [
       "\n",
       "    <div class=\"bk-root\">\n",
       "        <a href=\"https://bokeh.org\" target=\"_blank\" class=\"bk-logo bk-logo-small bk-logo-notebook\"></a>\n",
       "        <span id=\"1001\">Loading BokehJS ...</span>\n",
       "    </div>"
      ]
     },
     "metadata": {},
     "output_type": "display_data"
    },
    {
     "data": {
      "application/javascript": [
       "\n",
       "(function(root) {\n",
       "  function now() {\n",
       "    return new Date();\n",
       "  }\n",
       "\n",
       "  var force = true;\n",
       "\n",
       "  if (typeof root._bokeh_onload_callbacks === \"undefined\" || force === true) {\n",
       "    root._bokeh_onload_callbacks = [];\n",
       "    root._bokeh_is_loading = undefined;\n",
       "  }\n",
       "\n",
       "  var JS_MIME_TYPE = 'application/javascript';\n",
       "  var HTML_MIME_TYPE = 'text/html';\n",
       "  var EXEC_MIME_TYPE = 'application/vnd.bokehjs_exec.v0+json';\n",
       "  var CLASS_NAME = 'output_bokeh rendered_html';\n",
       "\n",
       "  /**\n",
       "   * Render data to the DOM node\n",
       "   */\n",
       "  function render(props, node) {\n",
       "    var script = document.createElement(\"script\");\n",
       "    node.appendChild(script);\n",
       "  }\n",
       "\n",
       "  /**\n",
       "   * Handle when an output is cleared or removed\n",
       "   */\n",
       "  function handleClearOutput(event, handle) {\n",
       "    var cell = handle.cell;\n",
       "\n",
       "    var id = cell.output_area._bokeh_element_id;\n",
       "    var server_id = cell.output_area._bokeh_server_id;\n",
       "    // Clean up Bokeh references\n",
       "    if (id != null && id in Bokeh.index) {\n",
       "      Bokeh.index[id].model.document.clear();\n",
       "      delete Bokeh.index[id];\n",
       "    }\n",
       "\n",
       "    if (server_id !== undefined) {\n",
       "      // Clean up Bokeh references\n",
       "      var cmd = \"from bokeh.io.state import curstate; print(curstate().uuid_to_server['\" + server_id + \"'].get_sessions()[0].document.roots[0]._id)\";\n",
       "      cell.notebook.kernel.execute(cmd, {\n",
       "        iopub: {\n",
       "          output: function(msg) {\n",
       "            var id = msg.content.text.trim();\n",
       "            if (id in Bokeh.index) {\n",
       "              Bokeh.index[id].model.document.clear();\n",
       "              delete Bokeh.index[id];\n",
       "            }\n",
       "          }\n",
       "        }\n",
       "      });\n",
       "      // Destroy server and session\n",
       "      var cmd = \"import bokeh.io.notebook as ion; ion.destroy_server('\" + server_id + \"')\";\n",
       "      cell.notebook.kernel.execute(cmd);\n",
       "    }\n",
       "  }\n",
       "\n",
       "  /**\n",
       "   * Handle when a new output is added\n",
       "   */\n",
       "  function handleAddOutput(event, handle) {\n",
       "    var output_area = handle.output_area;\n",
       "    var output = handle.output;\n",
       "\n",
       "    // limit handleAddOutput to display_data with EXEC_MIME_TYPE content only\n",
       "    if ((output.output_type != \"display_data\") || (!output.data.hasOwnProperty(EXEC_MIME_TYPE))) {\n",
       "      return\n",
       "    }\n",
       "\n",
       "    var toinsert = output_area.element.find(\".\" + CLASS_NAME.split(' ')[0]);\n",
       "\n",
       "    if (output.metadata[EXEC_MIME_TYPE][\"id\"] !== undefined) {\n",
       "      toinsert[toinsert.length - 1].firstChild.textContent = output.data[JS_MIME_TYPE];\n",
       "      // store reference to embed id on output_area\n",
       "      output_area._bokeh_element_id = output.metadata[EXEC_MIME_TYPE][\"id\"];\n",
       "    }\n",
       "    if (output.metadata[EXEC_MIME_TYPE][\"server_id\"] !== undefined) {\n",
       "      var bk_div = document.createElement(\"div\");\n",
       "      bk_div.innerHTML = output.data[HTML_MIME_TYPE];\n",
       "      var script_attrs = bk_div.children[0].attributes;\n",
       "      for (var i = 0; i < script_attrs.length; i++) {\n",
       "        toinsert[toinsert.length - 1].firstChild.setAttribute(script_attrs[i].name, script_attrs[i].value);\n",
       "        toinsert[toinsert.length - 1].firstChild.textContent = bk_div.children[0].textContent\n",
       "      }\n",
       "      // store reference to server id on output_area\n",
       "      output_area._bokeh_server_id = output.metadata[EXEC_MIME_TYPE][\"server_id\"];\n",
       "    }\n",
       "  }\n",
       "\n",
       "  function register_renderer(events, OutputArea) {\n",
       "\n",
       "    function append_mime(data, metadata, element) {\n",
       "      // create a DOM node to render to\n",
       "      var toinsert = this.create_output_subarea(\n",
       "        metadata,\n",
       "        CLASS_NAME,\n",
       "        EXEC_MIME_TYPE\n",
       "      );\n",
       "      this.keyboard_manager.register_events(toinsert);\n",
       "      // Render to node\n",
       "      var props = {data: data, metadata: metadata[EXEC_MIME_TYPE]};\n",
       "      render(props, toinsert[toinsert.length - 1]);\n",
       "      element.append(toinsert);\n",
       "      return toinsert\n",
       "    }\n",
       "\n",
       "    /* Handle when an output is cleared or removed */\n",
       "    events.on('clear_output.CodeCell', handleClearOutput);\n",
       "    events.on('delete.Cell', handleClearOutput);\n",
       "\n",
       "    /* Handle when a new output is added */\n",
       "    events.on('output_added.OutputArea', handleAddOutput);\n",
       "\n",
       "    /**\n",
       "     * Register the mime type and append_mime function with output_area\n",
       "     */\n",
       "    OutputArea.prototype.register_mime_type(EXEC_MIME_TYPE, append_mime, {\n",
       "      /* Is output safe? */\n",
       "      safe: true,\n",
       "      /* Index of renderer in `output_area.display_order` */\n",
       "      index: 0\n",
       "    });\n",
       "  }\n",
       "\n",
       "  // register the mime type if in Jupyter Notebook environment and previously unregistered\n",
       "  if (root.Jupyter !== undefined) {\n",
       "    var events = require('base/js/events');\n",
       "    var OutputArea = require('notebook/js/outputarea').OutputArea;\n",
       "\n",
       "    if (OutputArea.prototype.mime_types().indexOf(EXEC_MIME_TYPE) == -1) {\n",
       "      register_renderer(events, OutputArea);\n",
       "    }\n",
       "  }\n",
       "\n",
       "  \n",
       "  if (typeof (root._bokeh_timeout) === \"undefined\" || force === true) {\n",
       "    root._bokeh_timeout = Date.now() + 5000;\n",
       "    root._bokeh_failed_load = false;\n",
       "  }\n",
       "\n",
       "  var NB_LOAD_WARNING = {'data': {'text/html':\n",
       "     \"<div style='background-color: #fdd'>\\n\"+\n",
       "     \"<p>\\n\"+\n",
       "     \"BokehJS does not appear to have successfully loaded. If loading BokehJS from CDN, this \\n\"+\n",
       "     \"may be due to a slow or bad network connection. Possible fixes:\\n\"+\n",
       "     \"</p>\\n\"+\n",
       "     \"<ul>\\n\"+\n",
       "     \"<li>re-rerun `output_notebook()` to attempt to load from CDN again, or</li>\\n\"+\n",
       "     \"<li>use INLINE resources instead, as so:</li>\\n\"+\n",
       "     \"</ul>\\n\"+\n",
       "     \"<code>\\n\"+\n",
       "     \"from bokeh.resources import INLINE\\n\"+\n",
       "     \"output_notebook(resources=INLINE)\\n\"+\n",
       "     \"</code>\\n\"+\n",
       "     \"</div>\"}};\n",
       "\n",
       "  function display_loaded() {\n",
       "    var el = document.getElementById(\"1001\");\n",
       "    if (el != null) {\n",
       "      el.textContent = \"BokehJS is loading...\";\n",
       "    }\n",
       "    if (root.Bokeh !== undefined) {\n",
       "      if (el != null) {\n",
       "        el.textContent = \"BokehJS \" + root.Bokeh.version + \" successfully loaded.\";\n",
       "      }\n",
       "    } else if (Date.now() < root._bokeh_timeout) {\n",
       "      setTimeout(display_loaded, 100)\n",
       "    }\n",
       "  }\n",
       "\n",
       "\n",
       "  function run_callbacks() {\n",
       "    try {\n",
       "      root._bokeh_onload_callbacks.forEach(function(callback) {\n",
       "        if (callback != null)\n",
       "          callback();\n",
       "      });\n",
       "    } finally {\n",
       "      delete root._bokeh_onload_callbacks\n",
       "    }\n",
       "    console.debug(\"Bokeh: all callbacks have finished\");\n",
       "  }\n",
       "\n",
       "  function load_libs(css_urls, js_urls, callback) {\n",
       "    if (css_urls == null) css_urls = [];\n",
       "    if (js_urls == null) js_urls = [];\n",
       "\n",
       "    root._bokeh_onload_callbacks.push(callback);\n",
       "    if (root._bokeh_is_loading > 0) {\n",
       "      console.debug(\"Bokeh: BokehJS is being loaded, scheduling callback at\", now());\n",
       "      return null;\n",
       "    }\n",
       "    if (js_urls == null || js_urls.length === 0) {\n",
       "      run_callbacks();\n",
       "      return null;\n",
       "    }\n",
       "    console.debug(\"Bokeh: BokehJS not loaded, scheduling load and callback at\", now());\n",
       "    root._bokeh_is_loading = css_urls.length + js_urls.length;\n",
       "\n",
       "    function on_load() {\n",
       "      root._bokeh_is_loading--;\n",
       "      if (root._bokeh_is_loading === 0) {\n",
       "        console.debug(\"Bokeh: all BokehJS libraries/stylesheets loaded\");\n",
       "        run_callbacks()\n",
       "      }\n",
       "    }\n",
       "\n",
       "    function on_error() {\n",
       "      console.error(\"failed to load \" + url);\n",
       "    }\n",
       "\n",
       "    for (var i = 0; i < css_urls.length; i++) {\n",
       "      var url = css_urls[i];\n",
       "      const element = document.createElement(\"link\");\n",
       "      element.onload = on_load;\n",
       "      element.onerror = on_error;\n",
       "      element.rel = \"stylesheet\";\n",
       "      element.type = \"text/css\";\n",
       "      element.href = url;\n",
       "      console.debug(\"Bokeh: injecting link tag for BokehJS stylesheet: \", url);\n",
       "      document.body.appendChild(element);\n",
       "    }\n",
       "\n",
       "    const hashes = {\"https://cdn.bokeh.org/bokeh/release/bokeh-2.0.2.min.js\": \"ufR9RFnRs6lniiaFvtJziE0YeidtAgBRH6ux2oUItHw5WTvE1zuk9uzhUU/FJXDp\", \"https://cdn.bokeh.org/bokeh/release/bokeh-widgets-2.0.2.min.js\": \"8QM/PGWBT+IssZuRcDcjzwIh1mkOmJSoNMmyYDZbCfXJg3Ap1lEvdVgFuSAwhb/J\", \"https://cdn.bokeh.org/bokeh/release/bokeh-tables-2.0.2.min.js\": \"Jm8cH3Rg0P6UeZhVY5cLy1WzKajUT9KImCY+76hEqrcJt59/d8GPvFHjCkYgnSIn\", \"https://cdn.bokeh.org/bokeh/release/bokeh-gl-2.0.2.min.js\": \"Ozhzj+SI7ywm74aOI/UajcWz+C0NjsPunEVyVIrxzYkB+jA+2tUw8x5xJCbVtK5I\"};\n",
       "\n",
       "    for (var i = 0; i < js_urls.length; i++) {\n",
       "      var url = js_urls[i];\n",
       "      var element = document.createElement('script');\n",
       "      element.onload = on_load;\n",
       "      element.onerror = on_error;\n",
       "      element.async = false;\n",
       "      element.src = url;\n",
       "      if (url in hashes) {\n",
       "        element.crossOrigin = \"anonymous\";\n",
       "        element.integrity = \"sha384-\" + hashes[url];\n",
       "      }\n",
       "      console.debug(\"Bokeh: injecting script tag for BokehJS library: \", url);\n",
       "      document.head.appendChild(element);\n",
       "    }\n",
       "  };\n",
       "\n",
       "  function inject_raw_css(css) {\n",
       "    const element = document.createElement(\"style\");\n",
       "    element.appendChild(document.createTextNode(css));\n",
       "    document.body.appendChild(element);\n",
       "  }\n",
       "\n",
       "  \n",
       "  var js_urls = [\"https://cdn.bokeh.org/bokeh/release/bokeh-2.0.2.min.js\", \"https://cdn.bokeh.org/bokeh/release/bokeh-widgets-2.0.2.min.js\", \"https://cdn.bokeh.org/bokeh/release/bokeh-tables-2.0.2.min.js\", \"https://cdn.bokeh.org/bokeh/release/bokeh-gl-2.0.2.min.js\"];\n",
       "  var css_urls = [];\n",
       "  \n",
       "\n",
       "  var inline_js = [\n",
       "    function(Bokeh) {\n",
       "      Bokeh.set_log_level(\"info\");\n",
       "    },\n",
       "    function(Bokeh) {\n",
       "    \n",
       "    \n",
       "    }\n",
       "  ];\n",
       "\n",
       "  function run_inline_js() {\n",
       "    \n",
       "    if (root.Bokeh !== undefined || force === true) {\n",
       "      \n",
       "    for (var i = 0; i < inline_js.length; i++) {\n",
       "      inline_js[i].call(root, root.Bokeh);\n",
       "    }\n",
       "    if (force === true) {\n",
       "        display_loaded();\n",
       "      }} else if (Date.now() < root._bokeh_timeout) {\n",
       "      setTimeout(run_inline_js, 100);\n",
       "    } else if (!root._bokeh_failed_load) {\n",
       "      console.log(\"Bokeh: BokehJS failed to load within specified timeout.\");\n",
       "      root._bokeh_failed_load = true;\n",
       "    } else if (force !== true) {\n",
       "      var cell = $(document.getElementById(\"1001\")).parents('.cell').data().cell;\n",
       "      cell.output_area.append_execute_result(NB_LOAD_WARNING)\n",
       "    }\n",
       "\n",
       "  }\n",
       "\n",
       "  if (root._bokeh_is_loading === 0) {\n",
       "    console.debug(\"Bokeh: BokehJS loaded, going straight to plotting\");\n",
       "    run_inline_js();\n",
       "  } else {\n",
       "    load_libs(css_urls, js_urls, function() {\n",
       "      console.debug(\"Bokeh: BokehJS plotting callback run at\", now());\n",
       "      run_inline_js();\n",
       "    });\n",
       "  }\n",
       "}(window));"
      ],
      "application/vnd.bokehjs_load.v0+json": "\n(function(root) {\n  function now() {\n    return new Date();\n  }\n\n  var force = true;\n\n  if (typeof root._bokeh_onload_callbacks === \"undefined\" || force === true) {\n    root._bokeh_onload_callbacks = [];\n    root._bokeh_is_loading = undefined;\n  }\n\n  \n\n  \n  if (typeof (root._bokeh_timeout) === \"undefined\" || force === true) {\n    root._bokeh_timeout = Date.now() + 5000;\n    root._bokeh_failed_load = false;\n  }\n\n  var NB_LOAD_WARNING = {'data': {'text/html':\n     \"<div style='background-color: #fdd'>\\n\"+\n     \"<p>\\n\"+\n     \"BokehJS does not appear to have successfully loaded. If loading BokehJS from CDN, this \\n\"+\n     \"may be due to a slow or bad network connection. Possible fixes:\\n\"+\n     \"</p>\\n\"+\n     \"<ul>\\n\"+\n     \"<li>re-rerun `output_notebook()` to attempt to load from CDN again, or</li>\\n\"+\n     \"<li>use INLINE resources instead, as so:</li>\\n\"+\n     \"</ul>\\n\"+\n     \"<code>\\n\"+\n     \"from bokeh.resources import INLINE\\n\"+\n     \"output_notebook(resources=INLINE)\\n\"+\n     \"</code>\\n\"+\n     \"</div>\"}};\n\n  function display_loaded() {\n    var el = document.getElementById(\"1001\");\n    if (el != null) {\n      el.textContent = \"BokehJS is loading...\";\n    }\n    if (root.Bokeh !== undefined) {\n      if (el != null) {\n        el.textContent = \"BokehJS \" + root.Bokeh.version + \" successfully loaded.\";\n      }\n    } else if (Date.now() < root._bokeh_timeout) {\n      setTimeout(display_loaded, 100)\n    }\n  }\n\n\n  function run_callbacks() {\n    try {\n      root._bokeh_onload_callbacks.forEach(function(callback) {\n        if (callback != null)\n          callback();\n      });\n    } finally {\n      delete root._bokeh_onload_callbacks\n    }\n    console.debug(\"Bokeh: all callbacks have finished\");\n  }\n\n  function load_libs(css_urls, js_urls, callback) {\n    if (css_urls == null) css_urls = [];\n    if (js_urls == null) js_urls = [];\n\n    root._bokeh_onload_callbacks.push(callback);\n    if (root._bokeh_is_loading > 0) {\n      console.debug(\"Bokeh: BokehJS is being loaded, scheduling callback at\", now());\n      return null;\n    }\n    if (js_urls == null || js_urls.length === 0) {\n      run_callbacks();\n      return null;\n    }\n    console.debug(\"Bokeh: BokehJS not loaded, scheduling load and callback at\", now());\n    root._bokeh_is_loading = css_urls.length + js_urls.length;\n\n    function on_load() {\n      root._bokeh_is_loading--;\n      if (root._bokeh_is_loading === 0) {\n        console.debug(\"Bokeh: all BokehJS libraries/stylesheets loaded\");\n        run_callbacks()\n      }\n    }\n\n    function on_error() {\n      console.error(\"failed to load \" + url);\n    }\n\n    for (var i = 0; i < css_urls.length; i++) {\n      var url = css_urls[i];\n      const element = document.createElement(\"link\");\n      element.onload = on_load;\n      element.onerror = on_error;\n      element.rel = \"stylesheet\";\n      element.type = \"text/css\";\n      element.href = url;\n      console.debug(\"Bokeh: injecting link tag for BokehJS stylesheet: \", url);\n      document.body.appendChild(element);\n    }\n\n    const hashes = {\"https://cdn.bokeh.org/bokeh/release/bokeh-2.0.2.min.js\": \"ufR9RFnRs6lniiaFvtJziE0YeidtAgBRH6ux2oUItHw5WTvE1zuk9uzhUU/FJXDp\", \"https://cdn.bokeh.org/bokeh/release/bokeh-widgets-2.0.2.min.js\": \"8QM/PGWBT+IssZuRcDcjzwIh1mkOmJSoNMmyYDZbCfXJg3Ap1lEvdVgFuSAwhb/J\", \"https://cdn.bokeh.org/bokeh/release/bokeh-tables-2.0.2.min.js\": \"Jm8cH3Rg0P6UeZhVY5cLy1WzKajUT9KImCY+76hEqrcJt59/d8GPvFHjCkYgnSIn\", \"https://cdn.bokeh.org/bokeh/release/bokeh-gl-2.0.2.min.js\": \"Ozhzj+SI7ywm74aOI/UajcWz+C0NjsPunEVyVIrxzYkB+jA+2tUw8x5xJCbVtK5I\"};\n\n    for (var i = 0; i < js_urls.length; i++) {\n      var url = js_urls[i];\n      var element = document.createElement('script');\n      element.onload = on_load;\n      element.onerror = on_error;\n      element.async = false;\n      element.src = url;\n      if (url in hashes) {\n        element.crossOrigin = \"anonymous\";\n        element.integrity = \"sha384-\" + hashes[url];\n      }\n      console.debug(\"Bokeh: injecting script tag for BokehJS library: \", url);\n      document.head.appendChild(element);\n    }\n  };\n\n  function inject_raw_css(css) {\n    const element = document.createElement(\"style\");\n    element.appendChild(document.createTextNode(css));\n    document.body.appendChild(element);\n  }\n\n  \n  var js_urls = [\"https://cdn.bokeh.org/bokeh/release/bokeh-2.0.2.min.js\", \"https://cdn.bokeh.org/bokeh/release/bokeh-widgets-2.0.2.min.js\", \"https://cdn.bokeh.org/bokeh/release/bokeh-tables-2.0.2.min.js\", \"https://cdn.bokeh.org/bokeh/release/bokeh-gl-2.0.2.min.js\"];\n  var css_urls = [];\n  \n\n  var inline_js = [\n    function(Bokeh) {\n      Bokeh.set_log_level(\"info\");\n    },\n    function(Bokeh) {\n    \n    \n    }\n  ];\n\n  function run_inline_js() {\n    \n    if (root.Bokeh !== undefined || force === true) {\n      \n    for (var i = 0; i < inline_js.length; i++) {\n      inline_js[i].call(root, root.Bokeh);\n    }\n    if (force === true) {\n        display_loaded();\n      }} else if (Date.now() < root._bokeh_timeout) {\n      setTimeout(run_inline_js, 100);\n    } else if (!root._bokeh_failed_load) {\n      console.log(\"Bokeh: BokehJS failed to load within specified timeout.\");\n      root._bokeh_failed_load = true;\n    } else if (force !== true) {\n      var cell = $(document.getElementById(\"1001\")).parents('.cell').data().cell;\n      cell.output_area.append_execute_result(NB_LOAD_WARNING)\n    }\n\n  }\n\n  if (root._bokeh_is_loading === 0) {\n    console.debug(\"Bokeh: BokehJS loaded, going straight to plotting\");\n    run_inline_js();\n  } else {\n    load_libs(css_urls, js_urls, function() {\n      console.debug(\"Bokeh: BokehJS plotting callback run at\", now());\n      run_inline_js();\n    });\n  }\n}(window));"
     },
     "metadata": {},
     "output_type": "display_data"
    },
    {
     "data": {
      "text/html": [
       "<div>\n",
       "<style scoped>\n",
       "    .dataframe tbody tr th:only-of-type {\n",
       "        vertical-align: middle;\n",
       "    }\n",
       "\n",
       "    .dataframe tbody tr th {\n",
       "        vertical-align: top;\n",
       "    }\n",
       "\n",
       "    .dataframe thead th {\n",
       "        text-align: right;\n",
       "    }\n",
       "</style>\n",
       "<table border=\"1\" class=\"dataframe\">\n",
       "  <thead>\n",
       "    <tr style=\"text-align: right;\">\n",
       "      <th></th>\n",
       "      <th>date</th>\n",
       "      <th>county</th>\n",
       "      <th>state</th>\n",
       "      <th>fips</th>\n",
       "      <th>cases</th>\n",
       "      <th>deaths</th>\n",
       "    </tr>\n",
       "  </thead>\n",
       "  <tbody>\n",
       "    <tr>\n",
       "      <th>0</th>\n",
       "      <td>2020-01-21</td>\n",
       "      <td>Snohomish</td>\n",
       "      <td>Washington</td>\n",
       "      <td>53061.0</td>\n",
       "      <td>1</td>\n",
       "      <td>0</td>\n",
       "    </tr>\n",
       "    <tr>\n",
       "      <th>1</th>\n",
       "      <td>2020-01-22</td>\n",
       "      <td>Snohomish</td>\n",
       "      <td>Washington</td>\n",
       "      <td>53061.0</td>\n",
       "      <td>1</td>\n",
       "      <td>0</td>\n",
       "    </tr>\n",
       "    <tr>\n",
       "      <th>2</th>\n",
       "      <td>2020-01-23</td>\n",
       "      <td>Snohomish</td>\n",
       "      <td>Washington</td>\n",
       "      <td>53061.0</td>\n",
       "      <td>1</td>\n",
       "      <td>0</td>\n",
       "    </tr>\n",
       "    <tr>\n",
       "      <th>3</th>\n",
       "      <td>2020-01-24</td>\n",
       "      <td>Cook</td>\n",
       "      <td>Illinois</td>\n",
       "      <td>17031.0</td>\n",
       "      <td>1</td>\n",
       "      <td>0</td>\n",
       "    </tr>\n",
       "    <tr>\n",
       "      <th>4</th>\n",
       "      <td>2020-01-24</td>\n",
       "      <td>Snohomish</td>\n",
       "      <td>Washington</td>\n",
       "      <td>53061.0</td>\n",
       "      <td>1</td>\n",
       "      <td>0</td>\n",
       "    </tr>\n",
       "  </tbody>\n",
       "</table>\n",
       "</div>"
      ],
      "text/plain": [
       "        date     county       state     fips  cases  deaths\n",
       "0 2020-01-21  Snohomish  Washington  53061.0      1       0\n",
       "1 2020-01-22  Snohomish  Washington  53061.0      1       0\n",
       "2 2020-01-23  Snohomish  Washington  53061.0      1       0\n",
       "3 2020-01-24       Cook    Illinois  17031.0      1       0\n",
       "4 2020-01-24  Snohomish  Washington  53061.0      1       0"
      ]
     },
     "execution_count": 1,
     "metadata": {},
     "output_type": "execute_result"
    }
   ],
   "source": [
    "from datetime import datetime, timedelta\n",
    "import math\n",
    "\n",
    "from bokeh.io import output_notebook\n",
    "from bokeh.models import FuncTickFormatter, ColumnDataSource\n",
    "from bokeh.plotting import figure, output_file, show\n",
    "import pandas as pd\n",
    "import numpy as np\n",
    "\n",
    "# bokeh: configure for notebook\n",
    "# https://docs.bokeh.org/en/latest/docs/user_guide/jupyter.html#userguide-jupyter-notebook\n",
    "output_notebook()\n",
    "\n",
    "# load data\n",
    "df = pd.read_csv(\n",
    "    \"https://raw.githubusercontent.com/nytimes/covid-19-data/master/us-counties.csv\"\n",
    ")\n",
    "df.date = df.date.apply(pd.to_datetime)\n",
    "df.head()"
   ]
  },
  {
   "cell_type": "code",
   "execution_count": 2,
   "metadata": {},
   "outputs": [],
   "source": [
    "def get_r_squared(x, y, coeffs):\n",
    "    # source: https://stackoverflow.com/questions/893657/\n",
    "    p = np.poly1d(coeffs, r=True)\n",
    "    # fit values, and mean\n",
    "    yhat = p(x)  # or [p(z) for z in x]\n",
    "    ybar = np.sum(y) / len(y)  # or sum(y)/len(y)\n",
    "    ssreg = np.sum(\n",
    "        (yhat - ybar) ** 2\n",
    "    )  # or sum([ (yihat - ybar)**2 for yihat in yhat])\n",
    "    sstot = np.sum((y - ybar) ** 2)  # or sum([ (yi - ybar)**2 for yi in y])\n",
    "    return 1 - (ssreg / sstot)\n",
    "\n",
    "def unbiased_polyfit(df, steps=10):\n",
    "    # source: https://stackoverflow.com/questions/3433486\n",
    "    # generate x y values for calculation\n",
    "    x, y = list(range(len(df.index))), df[(\"cases\", \"sum\")]\n",
    "    b, a_ = np.polyfit(x, np.log(y), 1, w=np.sqrt(y))\n",
    "    a = math.exp(a_)\n",
    "    r_squared = get_r_squared(x, y, [b, a_])\n",
    "    print(f\"y ≈ exp({a_}) * exp({b} * x)\")\n",
    "    print(f\"y = {a} * exp({b} * x)\")\n",
    "    # print(f'r^2 = {r_squared}')\n",
    "    fnc = lambda x: a * math.exp(b * x)\n",
    "    x_range = [i for i in range(len(df.index) + steps)]\n",
    "    line = [fnc(x_val) for x_val in x_range]\n",
    "    return line\n",
    "\n",
    "\n",
    "def make_figure(df, title):\n",
    "    # make the figure\n",
    "    p = figure(\n",
    "        title=title,\n",
    "        x_axis_label=\"Date\",\n",
    "        y_axis_label=\"# of Cases & Deaths\",\n",
    "        y_range=[0, int(df[(\"cases\", \"sum\")].max() * 1.20)],\n",
    "        x_range=[df.index[0], pd.Timestamp(df.index.max() + timedelta(days=2))],\n",
    "        plot_width=880,\n",
    "        tools=\"pan,wheel_zoom,box_zoom,reset\",\n",
    "    )\n",
    "    # add actual values as an area graph\n",
    "    source = ColumnDataSource(\n",
    "        data=dict(x=df.index, cases=df[(\"cases\", \"sum\")], deaths=df[(\"deaths\", \"sum\")],)\n",
    "    )\n",
    "    p.varea_stack([\"deaths\", \"cases\"], x=\"x\", color=(\"red\", \"lightblue\"), source=source)\n",
    "    # add unbiased polyfit\n",
    "    steps = 10\n",
    "    extended_x = list(df.index) + [\n",
    "        pd.Timestamp(df.index.max() + timedelta(days=i)) for i in range(1, steps + 1)\n",
    "    ]\n",
    "    p.line(\n",
    "        extended_x,\n",
    "        unbiased_polyfit(df, steps=steps),\n",
    "        legend_label=f\"Projected # of Cases\",\n",
    "        line_width=1,\n",
    "        line_color=\"gray\",\n",
    "        line_dash=\"dashed\",\n",
    "        line_alpha=0.75,\n",
    "    )\n",
    "    # format axis\n",
    "    label_dict = {str(d): d.strftime(\"%d-%m-%Y\") for d in df.index}\n",
    "    p.xaxis.formatter = FuncTickFormatter(\n",
    "        code=\"\"\"\n",
    "        let date = new Date(tick);\n",
    "        return `${date.getDate()}-${date.getMonth()}-${date.getFullYear()}`\n",
    "    \"\"\"\n",
    "    )\n",
    "    p.legend.location = \"top_left\"\n",
    "    show(p)\n",
    "\n",
    "\n",
    "def plot_state_curve(df, state: str):\n",
    "    # get the state data\n",
    "    state_df = df[df[\"state\"] == state]\n",
    "    # arrange by day\n",
    "    day_df = (\n",
    "        state_df.drop(columns=[\"fips\", \"state\", \"county\"])\n",
    "        .groupby(by=\"date\")\n",
    "        .agg([\"sum\"])\n",
    "    )\n",
    "    day_df.columns = {(\"cases\", \"sum\"): \"cases_sum\", (\"deaths\", \"sum\"): \"deaths_sum\"}\n",
    "    make_figure(day_df, f\"{state} Cases\")\n",
    "\n",
    "\n",
    "def plot_state_counties_curve(df, state: str, counties: list, title=None):\n",
    "    # get the state and county data\n",
    "    counties_df = df[(df.state == state) & (df.county.isin(counties))]\n",
    "    # arrange by day\n",
    "    day_df = (\n",
    "        counties_df.drop(columns=[\"fips\", \"state\", \"county\"])\n",
    "        .groupby(by=\"date\")\n",
    "        .agg([\"sum\"])\n",
    "    )\n",
    "    day_df.columns = {(\"cases\", \"sum\"): \"cases_sum\", (\"deaths\", \"sum\"): \"deaths_sum\"}\n",
    "    make_figure(day_df, title or f'{state} Cases for counties {\",\".join(counties)}')\n",
    "\n",
    "\n",
    "def plot_states_and_counties_curve(df, state_county_map: dict, name):\n",
    "    \"\"\"for metropolitan area. i.e. chicagoland\"\"\"\n",
    "    states = state_county_map.keys()\n",
    "    # trim dataset to relevant states, counties\n",
    "    state_counties_df = df[\n",
    "        df.apply(\n",
    "            lambda x: x[\"state\"] in states\n",
    "            and x[\"county\"] in state_county_map[x[\"state\"]],\n",
    "            axis=1,\n",
    "        )\n",
    "    ]\n",
    "    # arrange by day\n",
    "    day_df = (\n",
    "        state_counties_df.drop(columns=[\"fips\", \"state\", \"county\"])\n",
    "        .groupby(by=\"date\")\n",
    "        .agg([\"sum\"])\n",
    "    )\n",
    "    day_df.columns = {(\"cases\", \"sum\"): \"cases_sum\", (\"deaths\", \"sum\"): \"deaths_sum\"}\n",
    "    make_figure(day_df, name)"
   ]
  },
  {
   "cell_type": "code",
   "execution_count": 3,
   "metadata": {},
   "outputs": [
    {
     "name": "stdout",
     "output_type": "stream",
     "text": [
      "y ≈ exp(6.684660660107597) * exp(0.05677075173113451 * x)\n",
      "y = 800.0391469095049 * exp(0.05677075173113451 * x)\n"
     ]
    },
    {
     "data": {
      "text/html": [
       "\n",
       "\n",
       "\n",
       "\n",
       "\n",
       "\n",
       "  <div class=\"bk-root\" id=\"e65df5e9-0038-4e16-aaf5-0806e1c8a1e0\" data-root-id=\"1002\"></div>\n"
      ]
     },
     "metadata": {},
     "output_type": "display_data"
    },
    {
     "data": {
      "application/javascript": [
       "(function(root) {\n",
       "  function embed_document(root) {\n",
       "    \n",
       "  var docs_json = {\"70131ce9-891e-4191-ba7f-1b33f9578c12\":{\"roots\":{\"references\":[{\"attributes\":{\"below\":[{\"id\":\"1013\"}],\"center\":[{\"id\":\"1016\"},{\"id\":\"1020\"},{\"id\":\"1071\"}],\"left\":[{\"id\":\"1017\"}],\"plot_width\":880,\"renderers\":[{\"id\":\"1039\"},{\"id\":\"1044\"},{\"id\":\"1049\"}],\"title\":{\"id\":\"1003\"},\"toolbar\":{\"id\":\"1026\"},\"x_range\":{\"id\":\"1005\"},\"x_scale\":{\"id\":\"1009\"},\"y_range\":{\"id\":\"1007\"},\"y_scale\":{\"id\":\"1011\"}},\"id\":\"1002\",\"subtype\":\"Figure\",\"type\":\"Plot\"},{\"attributes\":{\"fill_alpha\":0.1,\"fill_color\":\"lightblue\",\"x\":{\"field\":\"x\"},\"y1\":{\"expr\":{\"id\":\"1034\"}},\"y2\":{\"expr\":{\"id\":\"1035\"}}},\"id\":\"1043\",\"type\":\"VArea\"},{\"attributes\":{\"days\":[1,4,7,10,13,16,19,22,25,28]},\"id\":\"1062\",\"type\":\"DaysTicker\"},{\"attributes\":{\"fields\":[\"deaths\"]},\"id\":\"1034\",\"type\":\"Stack\"},{\"attributes\":{\"source\":{\"id\":\"1031\"}},\"id\":\"1045\",\"type\":\"CDSView\"},{\"attributes\":{\"label\":{\"value\":\"Projected # of Cases\"},\"renderers\":[{\"id\":\"1049\"}]},\"id\":\"1072\",\"type\":\"LegendItem\"},{\"attributes\":{\"fields\":[]},\"id\":\"1032\",\"type\":\"Stack\"},{\"attributes\":{\"base\":24,\"mantissas\":[1,2,4,6,8,12],\"max_interval\":43200000.0,\"min_interval\":3600000.0,\"num_minor_ticks\":0},\"id\":\"1060\",\"type\":\"AdaptiveTicker\"},{\"attributes\":{\"axis_label\":\"Date\",\"formatter\":{\"id\":\"1073\"},\"ticker\":{\"id\":\"1014\"}},\"id\":\"1013\",\"type\":\"DatetimeAxis\"},{\"attributes\":{\"items\":[{\"id\":\"1072\"}],\"location\":\"top_left\"},\"id\":\"1071\",\"type\":\"Legend\"},{\"attributes\":{\"fields\":[\"deaths\"]},\"id\":\"1033\",\"type\":\"Stack\"},{\"attributes\":{\"bottom_units\":\"screen\",\"fill_alpha\":0.5,\"fill_color\":\"lightgrey\",\"left_units\":\"screen\",\"level\":\"overlay\",\"line_alpha\":1.0,\"line_color\":\"black\",\"line_dash\":[4,4],\"line_width\":2,\"render_mode\":\"css\",\"right_units\":\"screen\",\"top_units\":\"screen\"},\"id\":\"1025\",\"type\":\"BoxAnnotation\"},{\"attributes\":{},\"id\":\"1056\",\"type\":\"Selection\"},{\"attributes\":{\"base\":60,\"mantissas\":[1,2,5,10,15,20,30],\"max_interval\":1800000.0,\"min_interval\":1000.0,\"num_minor_ticks\":0},\"id\":\"1059\",\"type\":\"AdaptiveTicker\"},{\"attributes\":{},\"id\":\"1057\",\"type\":\"UnionRenderers\"},{\"attributes\":{},\"id\":\"1081\",\"type\":\"Selection\"},{\"attributes\":{\"data\":{\"x\":[1583452800000.0,1583539200000.0,1583625600000.0,1583712000000.0,1583798400000.0,1583884800000.0,1583971200000.0,1584057600000.0,1584144000000.0,1584230400000.0,1584316800000.0,1584403200000.0,1584489600000.0,1584576000000.0,1584662400000.0,1584748800000.0,1584835200000.0,1584921600000.0,1585008000000.0,1585094400000.0,1585180800000.0,1585267200000.0,1585353600000.0,1585440000000.0,1585526400000.0,1585612800000.0,1585699200000.0,1585785600000.0,1585872000000.0,1585958400000.0,1586044800000.0,1586131200000.0,1586217600000.0,1586304000000.0,1586390400000.0,1586476800000.0,1586563200000.0,1586649600000.0,1586736000000.0,1586822400000.0,1586908800000.0,1586995200000.0,1587081600000.0,1587168000000.0,1587254400000.0,1587340800000.0,1587427200000.0,1587513600000.0,1587600000000.0,1587686400000.0,1587772800000.0,1587859200000.0,1587945600000.0,1588032000000.0,1588118400000.0,1588204800000.0,1588291200000.0,1588377600000.0,1588464000000.0,1588550400000.0,1588636800000.0,1588723200000.0,1588809600000.0,1588896000000.0,1588982400000.0,1589068800000.0,1589155200000.0,1589241600000.0,1589328000000.0,1589414400000.0,1589500800000.0,1589587200000.0,1589673600000.0],\"y\":[800.0391469095049,846.7719481637138,896.2345592297321,948.5864368790067,1003.996352254209,1062.6429349509351,1124.7152488809288,1190.4134017732845,1259.9491902785312,1333.5467827552757,1411.4434419405554,1493.8902898336441,1581.1531172591187,1673.5132407190536,1771.2684092966442,1874.7337645349196,1984.2428563849903,2100.148718499025,2222.8250063344726,2352.6672017385235,2490.0938878961424,2635.548098751819,2789.498747255283,2952.442137035547,3124.903562376576,3307.4390016525645,3500.636909682096,3705.120114779341,3921.547826617972,4150.617761380729,4393.068391045647,4649.681324060169,4921.283825077896,5208.751481881109,5513.011028086602,5835.04333073463,6175.886552392337,6536.639497965558,6918.465157008451,7322.594452950535,7750.330211327889,8203.051359811196,8682.21737357063,9189.37298030847,9726.153140127482,10294.288316289043,10895.610053852812,11532.0568841823,12205.680574351156,12918.652741596905,13673.271854145749,14471.970640977535,15317.323934418373,16212.056970843749,17159.054176251808,18161.368465029587,19222.231081889367,20345.062018703535,21533.48103981947,22791.31935139772,24122.63195239292,25531.710706994316,27023.09818066863,28601.602284409695,30272.31177440473,32040.61265708481,33912.205552445965,35893.124071616374,37989.75426791507,40208.855224108054,42557.58084223089,45043.502906223184,47674.63549172403]},\"selected\":{\"id\":\"1081\"},\"selection_policy\":{\"id\":\"1082\"}},\"id\":\"1046\",\"type\":\"ColumnDataSource\"},{\"attributes\":{},\"id\":\"1082\",\"type\":\"UnionRenderers\"},{\"attributes\":{\"mantissas\":[1,2,5],\"max_interval\":500.0,\"num_minor_ticks\":0},\"id\":\"1058\",\"type\":\"AdaptiveTicker\"},{\"attributes\":{\"axis_label\":\"# of Cases & Deaths\",\"formatter\":{\"id\":\"1052\"},\"ticker\":{\"id\":\"1018\"}},\"id\":\"1017\",\"type\":\"LinearAxis\"},{\"attributes\":{\"data_source\":{\"id\":\"1046\"},\"glyph\":{\"id\":\"1047\"},\"hover_glyph\":null,\"muted_glyph\":null,\"nonselection_glyph\":{\"id\":\"1048\"},\"selection_glyph\":null,\"view\":{\"id\":\"1050\"}},\"id\":\"1049\",\"type\":\"GlyphRenderer\"},{\"attributes\":{\"active_drag\":\"auto\",\"active_inspect\":\"auto\",\"active_multi\":null,\"active_scroll\":\"auto\",\"active_tap\":\"auto\",\"tools\":[{\"id\":\"1021\"},{\"id\":\"1022\"},{\"id\":\"1023\"},{\"id\":\"1024\"}]},\"id\":\"1026\",\"type\":\"Toolbar\"},{\"attributes\":{},\"id\":\"1022\",\"type\":\"WheelZoomTool\"},{\"attributes\":{\"end\":27530},\"id\":\"1007\",\"type\":\"Range1d\"},{\"attributes\":{},\"id\":\"1052\",\"type\":\"BasicTickFormatter\"},{\"attributes\":{\"source\":{\"id\":\"1031\"}},\"id\":\"1040\",\"type\":\"CDSView\"},{\"attributes\":{\"line_alpha\":0.1,\"line_color\":\"gray\",\"line_dash\":[6],\"x\":{\"field\":\"x\"},\"y\":{\"field\":\"y\"}},\"id\":\"1048\",\"type\":\"Line\"},{\"attributes\":{\"axis\":{\"id\":\"1017\"},\"dimension\":1,\"ticker\":null},\"id\":\"1020\",\"type\":\"Grid\"},{\"attributes\":{\"data\":{\"cases\":[1,1,2,4,6,11,12,12,15,19,24,30,39,56,79,126,201,259,366,479,656,986,1232,1514,1788,2168,2565,3039,3437,3953,4411,4956,5509,5943,6351,6907,7435,7928,8236,8527,8955,9542,10154,10641,11210,11686,12097,12438,13039,13680,14395,15012,16137,16783,17409,18099,18941,19629,20267,20855,21423,22286,22942],\"deaths\":[0,0,0,0,0,0,0,0,0,0,1,2,2,2,3,4,6,7,12,14,18,26,31,32,35,50,66,78,102,116,127,141,173,203,246,300,330,343,350,387,436,477,519,545,562,569,630,661,706,741,785,813,932,992,1065,1114,1175,1229,1246,1264,1326,1377,1414],\"x\":{\"__ndarray__\":\"AABARNIKd0IAAACqJAt3QgAAwA93C3dCAACAdckLd0IAAEDbGwx3QgAAAEFuDHdCAADApsAMd0IAAIAMEw13QgAAQHJlDXdCAAAA2LcNd0IAAMA9Cg53QgAAgKNcDndCAABACa8Od0IAAABvAQ93QgAAwNRTD3dCAACAOqYPd0IAAECg+A93QgAAAAZLEHdCAADAa50Qd0IAAIDR7xB3QgAAQDdCEXdCAAAAnZQRd0IAAMAC5xF3QgAAgGg5EndCAABAzosSd0IAAAA03hJ3QgAAwJkwE3dCAACA/4ITd0IAAEBl1RN3QgAAAMsnFHdCAADAMHoUd0IAAICWzBR3QgAAQPweFXdCAAAAYnEVd0IAAMDHwxV3QgAAgC0WFndCAABAk2gWd0IAAAD5uhZ3QgAAwF4NF3dCAACAxF8Xd0IAAEAqshd3QgAAAJAEGHdCAADA9VYYd0IAAIBbqRh3QgAAQMH7GHdCAAAAJ04Zd0IAAMCMoBl3QgAAgPLyGXdCAABAWEUad0IAAAC+lxp3QgAAwCPqGndCAACAiTwbd0IAAEDvjht3QgAAAFXhG3dCAADAujMcd0IAAIAghhx3QgAAQIbYHHdCAAAA7Codd0IAAMBRfR13QgAAgLfPHXdCAABAHSIed0IAAACDdB53QgAAwOjGHndC\",\"dtype\":\"float64\",\"shape\":[63]}},\"selected\":{\"id\":\"1056\"},\"selection_policy\":{\"id\":\"1057\"}},\"id\":\"1031\",\"type\":\"ColumnDataSource\"},{\"attributes\":{\"fill_color\":\"red\",\"x\":{\"field\":\"x\"},\"y1\":{\"expr\":{\"id\":\"1032\"}},\"y2\":{\"expr\":{\"id\":\"1033\"}}},\"id\":\"1037\",\"type\":\"VArea\"},{\"attributes\":{\"num_minor_ticks\":5,\"tickers\":[{\"id\":\"1058\"},{\"id\":\"1059\"},{\"id\":\"1060\"},{\"id\":\"1061\"},{\"id\":\"1062\"},{\"id\":\"1063\"},{\"id\":\"1064\"},{\"id\":\"1065\"},{\"id\":\"1066\"},{\"id\":\"1067\"},{\"id\":\"1068\"},{\"id\":\"1069\"}]},\"id\":\"1014\",\"type\":\"DatetimeTicker\"},{\"attributes\":{\"fill_alpha\":0.1,\"fill_color\":\"red\",\"x\":{\"field\":\"x\"},\"y1\":{\"expr\":{\"id\":\"1032\"}},\"y2\":{\"expr\":{\"id\":\"1033\"}}},\"id\":\"1038\",\"type\":\"VArea\"},{\"attributes\":{},\"id\":\"1021\",\"type\":\"PanTool\"},{\"attributes\":{\"days\":[1,2,3,4,5,6,7,8,9,10,11,12,13,14,15,16,17,18,19,20,21,22,23,24,25,26,27,28,29,30,31]},\"id\":\"1061\",\"type\":\"DaysTicker\"},{\"attributes\":{},\"id\":\"1069\",\"type\":\"YearsTicker\"},{\"attributes\":{\"line_alpha\":0.75,\"line_color\":\"gray\",\"line_dash\":[6],\"x\":{\"field\":\"x\"},\"y\":{\"field\":\"y\"}},\"id\":\"1047\",\"type\":\"Line\"},{\"attributes\":{\"fields\":[\"deaths\",\"cases\"]},\"id\":\"1035\",\"type\":\"Stack\"},{\"attributes\":{\"days\":[1,8,15,22]},\"id\":\"1063\",\"type\":\"DaysTicker\"},{\"attributes\":{\"text\":\"Indiana Cases\"},\"id\":\"1003\",\"type\":\"Title\"},{\"attributes\":{\"code\":\"\\n        let date = new Date(tick);\\n        return `${date.getDate()}-${date.getMonth()}-${date.getFullYear()}`\\n    \"},\"id\":\"1073\",\"type\":\"FuncTickFormatter\"},{\"attributes\":{\"days\":[1,15]},\"id\":\"1064\",\"type\":\"DaysTicker\"},{\"attributes\":{\"end\":1588982400000.0,\"start\":1583452800000.0},\"id\":\"1005\",\"type\":\"Range1d\"},{\"attributes\":{},\"id\":\"1018\",\"type\":\"BasicTicker\"},{\"attributes\":{\"months\":[0,1,2,3,4,5,6,7,8,9,10,11]},\"id\":\"1065\",\"type\":\"MonthsTicker\"},{\"attributes\":{\"axis\":{\"id\":\"1013\"},\"ticker\":null},\"id\":\"1016\",\"type\":\"Grid\"},{\"attributes\":{\"months\":[0,6]},\"id\":\"1068\",\"type\":\"MonthsTicker\"},{\"attributes\":{},\"id\":\"1009\",\"type\":\"LinearScale\"},{\"attributes\":{},\"id\":\"1011\",\"type\":\"LinearScale\"},{\"attributes\":{},\"id\":\"1024\",\"type\":\"ResetTool\"},{\"attributes\":{\"months\":[0,2,4,6,8,10]},\"id\":\"1066\",\"type\":\"MonthsTicker\"},{\"attributes\":{\"overlay\":{\"id\":\"1025\"}},\"id\":\"1023\",\"type\":\"BoxZoomTool\"},{\"attributes\":{\"source\":{\"id\":\"1046\"}},\"id\":\"1050\",\"type\":\"CDSView\"},{\"attributes\":{\"months\":[0,4,8]},\"id\":\"1067\",\"type\":\"MonthsTicker\"},{\"attributes\":{\"data_source\":{\"id\":\"1031\"},\"glyph\":{\"id\":\"1037\"},\"hover_glyph\":null,\"muted_glyph\":null,\"name\":\"deaths\",\"nonselection_glyph\":{\"id\":\"1038\"},\"selection_glyph\":null,\"view\":{\"id\":\"1040\"}},\"id\":\"1039\",\"type\":\"GlyphRenderer\"},{\"attributes\":{\"data_source\":{\"id\":\"1031\"},\"glyph\":{\"id\":\"1042\"},\"hover_glyph\":null,\"muted_glyph\":null,\"name\":\"cases\",\"nonselection_glyph\":{\"id\":\"1043\"},\"selection_glyph\":null,\"view\":{\"id\":\"1045\"}},\"id\":\"1044\",\"type\":\"GlyphRenderer\"},{\"attributes\":{\"fill_color\":\"lightblue\",\"x\":{\"field\":\"x\"},\"y1\":{\"expr\":{\"id\":\"1034\"}},\"y2\":{\"expr\":{\"id\":\"1035\"}}},\"id\":\"1042\",\"type\":\"VArea\"}],\"root_ids\":[\"1002\"]},\"title\":\"Bokeh Application\",\"version\":\"2.0.2\"}};\n",
       "  var render_items = [{\"docid\":\"70131ce9-891e-4191-ba7f-1b33f9578c12\",\"root_ids\":[\"1002\"],\"roots\":{\"1002\":\"e65df5e9-0038-4e16-aaf5-0806e1c8a1e0\"}}];\n",
       "  root.Bokeh.embed.embed_items_notebook(docs_json, render_items);\n",
       "\n",
       "  }\n",
       "  if (root.Bokeh !== undefined) {\n",
       "    embed_document(root);\n",
       "  } else {\n",
       "    var attempts = 0;\n",
       "    var timer = setInterval(function(root) {\n",
       "      if (root.Bokeh !== undefined) {\n",
       "        clearInterval(timer);\n",
       "        embed_document(root);\n",
       "      } else {\n",
       "        attempts++;\n",
       "        if (attempts > 100) {\n",
       "          clearInterval(timer);\n",
       "          console.log(\"Bokeh: ERROR: Unable to run BokehJS code because BokehJS library is missing\");\n",
       "        }\n",
       "      }\n",
       "    }, 10, root)\n",
       "  }\n",
       "})(window);"
      ],
      "application/vnd.bokehjs_exec.v0+json": ""
     },
     "metadata": {
      "application/vnd.bokehjs_exec.v0+json": {
       "id": "1002"
      }
     },
     "output_type": "display_data"
    }
   ],
   "source": [
    "plot_state_curve(df, \"Indiana\")"
   ]
  },
  {
   "cell_type": "code",
   "execution_count": 4,
   "metadata": {},
   "outputs": [
    {
     "name": "stdout",
     "output_type": "stream",
     "text": [
      "y ≈ exp(4.842654430212124) * exp(0.060888791172783834 * x)\n",
      "y = 126.80550174425558 * exp(0.060888791172783834 * x)\n"
     ]
    },
    {
     "data": {
      "text/html": [
       "\n",
       "\n",
       "\n",
       "\n",
       "\n",
       "\n",
       "  <div class=\"bk-root\" id=\"cce01ab1-a5cb-44a8-b56f-790b020adbb4\" data-root-id=\"1222\"></div>\n"
      ]
     },
     "metadata": {},
     "output_type": "display_data"
    },
    {
     "data": {
      "application/javascript": [
       "(function(root) {\n",
       "  function embed_document(root) {\n",
       "    \n",
       "  var docs_json = {\"7b4cb182-a314-44b7-89d9-c44a8df0d206\":{\"roots\":{\"references\":[{\"attributes\":{\"below\":[{\"id\":\"1233\"}],\"center\":[{\"id\":\"1236\"},{\"id\":\"1240\"},{\"id\":\"1291\"}],\"left\":[{\"id\":\"1237\"}],\"plot_width\":880,\"renderers\":[{\"id\":\"1259\"},{\"id\":\"1264\"},{\"id\":\"1269\"}],\"title\":{\"id\":\"1223\"},\"toolbar\":{\"id\":\"1246\"},\"x_range\":{\"id\":\"1225\"},\"x_scale\":{\"id\":\"1229\"},\"y_range\":{\"id\":\"1227\"},\"y_scale\":{\"id\":\"1231\"}},\"id\":\"1222\",\"subtype\":\"Figure\",\"type\":\"Plot\"},{\"attributes\":{\"axis\":{\"id\":\"1233\"},\"ticker\":null},\"id\":\"1236\",\"type\":\"Grid\"},{\"attributes\":{\"fill_alpha\":0.1,\"fill_color\":\"red\",\"x\":{\"field\":\"x\"},\"y1\":{\"expr\":{\"id\":\"1252\"}},\"y2\":{\"expr\":{\"id\":\"1253\"}}},\"id\":\"1258\",\"type\":\"VArea\"},{\"attributes\":{\"fill_color\":\"red\",\"x\":{\"field\":\"x\"},\"y1\":{\"expr\":{\"id\":\"1252\"}},\"y2\":{\"expr\":{\"id\":\"1253\"}}},\"id\":\"1257\",\"type\":\"VArea\"},{\"attributes\":{\"base\":60,\"mantissas\":[1,2,5,10,15,20,30],\"max_interval\":1800000.0,\"min_interval\":1000.0,\"num_minor_ticks\":0},\"id\":\"1279\",\"type\":\"AdaptiveTicker\"},{\"attributes\":{\"num_minor_ticks\":5,\"tickers\":[{\"id\":\"1278\"},{\"id\":\"1279\"},{\"id\":\"1280\"},{\"id\":\"1281\"},{\"id\":\"1282\"},{\"id\":\"1283\"},{\"id\":\"1284\"},{\"id\":\"1285\"},{\"id\":\"1286\"},{\"id\":\"1287\"},{\"id\":\"1288\"},{\"id\":\"1289\"}]},\"id\":\"1234\",\"type\":\"DatetimeTicker\"},{\"attributes\":{},\"id\":\"1322\",\"type\":\"Selection\"},{\"attributes\":{\"fields\":[]},\"id\":\"1252\",\"type\":\"Stack\"},{\"attributes\":{},\"id\":\"1323\",\"type\":\"UnionRenderers\"},{\"attributes\":{\"base\":24,\"mantissas\":[1,2,4,6,8,12],\"max_interval\":43200000.0,\"min_interval\":3600000.0,\"num_minor_ticks\":0},\"id\":\"1280\",\"type\":\"AdaptiveTicker\"},{\"attributes\":{},\"id\":\"1277\",\"type\":\"UnionRenderers\"},{\"attributes\":{\"fields\":[\"deaths\"]},\"id\":\"1253\",\"type\":\"Stack\"},{\"attributes\":{\"fields\":[\"deaths\",\"cases\"]},\"id\":\"1255\",\"type\":\"Stack\"},{\"attributes\":{\"text\":\"Indiana Cases for counties Lake\"},\"id\":\"1223\",\"type\":\"Title\"},{\"attributes\":{\"data\":{\"cases\":[2,3,4,6,7,10,11,17,19,31,47,68,85,97,146,180,215,244,313,335,369,418,461,525,576,676,744,796,819,876,978,1026,1095,1105,1182,1227,1292,1346,1445,1515,1533,1602,1731,1806,1866,1952,2015,2058,2120,2184,2257,2312],\"deaths\":[0,0,0,0,0,0,0,0,0,0,0,1,1,1,5,6,6,7,8,8,8,11,12,19,23,25,25,26,31,33,41,42,43,45,47,54,57,61,63,67,69,75,82,88,90,101,104,104,106,112,116,121],\"x\":{\"__ndarray__\":\"AACAo1wOd0IAAEAJrw53QgAAAG8BD3dCAADA1FMPd0IAAIA6pg93QgAAQKD4D3dCAAAABksQd0IAAMBrnRB3QgAAgNHvEHdCAABAN0IRd0IAAACdlBF3QgAAwALnEXdCAACAaDkSd0IAAEDOixJ3QgAAADTeEndCAADAmTATd0IAAID/ghN3QgAAQGXVE3dCAAAAyycUd0IAAMAwehR3QgAAgJbMFHdCAABA/B4Vd0IAAABicRV3QgAAwMfDFXdCAACALRYWd0IAAECTaBZ3QgAAAPm6FndCAADAXg0Xd0IAAIDEXxd3QgAAQCqyF3dCAAAAkAQYd0IAAMD1Vhh3QgAAgFupGHdCAABAwfsYd0IAAAAnThl3QgAAwIygGXdCAACA8vIZd0IAAEBYRRp3QgAAAL6XGndCAADAI+oad0IAAICJPBt3QgAAQO+OG3dCAAAAVeEbd0IAAMC6Mxx3QgAAgCCGHHdCAABAhtgcd0IAAADsKh13QgAAwFF9HXdCAACAt88dd0IAAEAdIh53QgAAAIN0HndCAADA6MYed0I=\",\"dtype\":\"float64\",\"shape\":[52]}},\"selected\":{\"id\":\"1276\"},\"selection_policy\":{\"id\":\"1277\"}},\"id\":\"1251\",\"type\":\"ColumnDataSource\"},{\"attributes\":{\"source\":{\"id\":\"1251\"}},\"id\":\"1265\",\"type\":\"CDSView\"},{\"attributes\":{\"fill_color\":\"lightblue\",\"x\":{\"field\":\"x\"},\"y1\":{\"expr\":{\"id\":\"1254\"}},\"y2\":{\"expr\":{\"id\":\"1255\"}}},\"id\":\"1262\",\"type\":\"VArea\"},{\"attributes\":{\"data\":{\"x\":[1584403200000.0,1584489600000.0,1584576000000.0,1584662400000.0,1584748800000.0,1584835200000.0,1584921600000.0,1585008000000.0,1585094400000.0,1585180800000.0,1585267200000.0,1585353600000.0,1585440000000.0,1585526400000.0,1585612800000.0,1585699200000.0,1585785600000.0,1585872000000.0,1585958400000.0,1586044800000.0,1586131200000.0,1586217600000.0,1586304000000.0,1586390400000.0,1586476800000.0,1586563200000.0,1586649600000.0,1586736000000.0,1586822400000.0,1586908800000.0,1586995200000.0,1587081600000.0,1587168000000.0,1587254400000.0,1587340800000.0,1587427200000.0,1587513600000.0,1587600000000.0,1587686400000.0,1587772800000.0,1587859200000.0,1587945600000.0,1588032000000.0,1588118400000.0,1588204800000.0,1588291200000.0,1588377600000.0,1588464000000.0,1588550400000.0,1588636800000.0,1588723200000.0,1588809600000.0,1588896000000.0,1588982400000.0,1589068800000.0,1589155200000.0,1589241600000.0,1589328000000.0,1589414400000.0,1589500800000.0,1589587200000.0,1589673600000.0],\"y\":[126.80550174425558,134.76644206557518,143.22717592840397,152.21908072963885,161.775503761652,171.93188588374133,182.72589295776328,194.19755553538866,206.38941731502482,219.34669291896978,233.117435575929,247.75271533076116,263.3068084423593,279.83739867206685,297.4057912091246,316.0771400265109,335.92068951034406,357.01003125895267,379.42337700397445,403.24384866563895,428.5597866179274,455.46507730684147,484.05950143678064,514.4491040163114,546.7465876356742,581.071730434535,617.5518303100501,656.3221770126347,697.5265538802405,741.3177710718705,787.858232277878,837.3205370087425,889.8881206959688,945.755934978978,1005.1311707008978,1068.2340262945465,1135.2985244082422,1206.5733797999615,1282.32292171852,1362.8280741925043,1448.3873978624404,1539.3181972199427,1635.9576973601202,1738.6642946113493,1847.8188856804807,1963.8262802427275,2087.116702214972,2218.1473852800746,2357.404268579349,2505.4037988618306,2662.6948457737594,2829.8607373913173,3007.5214235455633,3196.335774962464,3397.0040267445897,3610.2703752563275,3836.9257380434206,4077.8106870222427,4333.818565816775,4605.898802804262,4895.060432156227,5202.37583593297]},\"selected\":{\"id\":\"1322\"},\"selection_policy\":{\"id\":\"1323\"}},\"id\":\"1266\",\"type\":\"ColumnDataSource\"},{\"attributes\":{\"days\":[1,2,3,4,5,6,7,8,9,10,11,12,13,14,15,16,17,18,19,20,21,22,23,24,25,26,27,28,29,30,31]},\"id\":\"1281\",\"type\":\"DaysTicker\"},{\"attributes\":{\"line_alpha\":0.75,\"line_color\":\"gray\",\"line_dash\":[6],\"x\":{\"field\":\"x\"},\"y\":{\"field\":\"y\"}},\"id\":\"1267\",\"type\":\"Line\"},{\"attributes\":{\"label\":{\"value\":\"Projected # of Cases\"},\"renderers\":[{\"id\":\"1269\"}]},\"id\":\"1292\",\"type\":\"LegendItem\"},{\"attributes\":{\"overlay\":{\"id\":\"1245\"}},\"id\":\"1243\",\"type\":\"BoxZoomTool\"},{\"attributes\":{\"data_source\":{\"id\":\"1266\"},\"glyph\":{\"id\":\"1267\"},\"hover_glyph\":null,\"muted_glyph\":null,\"nonselection_glyph\":{\"id\":\"1268\"},\"selection_glyph\":null,\"view\":{\"id\":\"1270\"}},\"id\":\"1269\",\"type\":\"GlyphRenderer\"},{\"attributes\":{\"items\":[{\"id\":\"1292\"}],\"location\":\"top_left\"},\"id\":\"1291\",\"type\":\"Legend\"},{\"attributes\":{\"days\":[1,4,7,10,13,16,19,22,25,28]},\"id\":\"1282\",\"type\":\"DaysTicker\"},{\"attributes\":{},\"id\":\"1238\",\"type\":\"BasicTicker\"},{\"attributes\":{},\"id\":\"1272\",\"type\":\"BasicTickFormatter\"},{\"attributes\":{\"fields\":[\"deaths\"]},\"id\":\"1254\",\"type\":\"Stack\"},{\"attributes\":{\"days\":[1,8,15,22]},\"id\":\"1283\",\"type\":\"DaysTicker\"},{\"attributes\":{\"bottom_units\":\"screen\",\"fill_alpha\":0.5,\"fill_color\":\"lightgrey\",\"left_units\":\"screen\",\"level\":\"overlay\",\"line_alpha\":1.0,\"line_color\":\"black\",\"line_dash\":[4,4],\"line_width\":2,\"render_mode\":\"css\",\"right_units\":\"screen\",\"top_units\":\"screen\"},\"id\":\"1245\",\"type\":\"BoxAnnotation\"},{\"attributes\":{\"end\":1588982400000.0,\"start\":1584403200000.0},\"id\":\"1225\",\"type\":\"Range1d\"},{\"attributes\":{\"source\":{\"id\":\"1251\"}},\"id\":\"1260\",\"type\":\"CDSView\"},{\"attributes\":{\"days\":[1,15]},\"id\":\"1284\",\"type\":\"DaysTicker\"},{\"attributes\":{\"data_source\":{\"id\":\"1251\"},\"glyph\":{\"id\":\"1262\"},\"hover_glyph\":null,\"muted_glyph\":null,\"name\":\"cases\",\"nonselection_glyph\":{\"id\":\"1263\"},\"selection_glyph\":null,\"view\":{\"id\":\"1265\"}},\"id\":\"1264\",\"type\":\"GlyphRenderer\"},{\"attributes\":{\"end\":2774},\"id\":\"1227\",\"type\":\"Range1d\"},{\"attributes\":{\"data_source\":{\"id\":\"1251\"},\"glyph\":{\"id\":\"1257\"},\"hover_glyph\":null,\"muted_glyph\":null,\"name\":\"deaths\",\"nonselection_glyph\":{\"id\":\"1258\"},\"selection_glyph\":null,\"view\":{\"id\":\"1260\"}},\"id\":\"1259\",\"type\":\"GlyphRenderer\"},{\"attributes\":{\"fill_alpha\":0.1,\"fill_color\":\"lightblue\",\"x\":{\"field\":\"x\"},\"y1\":{\"expr\":{\"id\":\"1254\"}},\"y2\":{\"expr\":{\"id\":\"1255\"}}},\"id\":\"1263\",\"type\":\"VArea\"},{\"attributes\":{\"months\":[0,1,2,3,4,5,6,7,8,9,10,11]},\"id\":\"1285\",\"type\":\"MonthsTicker\"},{\"attributes\":{\"line_alpha\":0.1,\"line_color\":\"gray\",\"line_dash\":[6],\"x\":{\"field\":\"x\"},\"y\":{\"field\":\"y\"}},\"id\":\"1268\",\"type\":\"Line\"},{\"attributes\":{\"source\":{\"id\":\"1266\"}},\"id\":\"1270\",\"type\":\"CDSView\"},{\"attributes\":{\"months\":[0,2,4,6,8,10]},\"id\":\"1286\",\"type\":\"MonthsTicker\"},{\"attributes\":{\"axis\":{\"id\":\"1237\"},\"dimension\":1,\"ticker\":null},\"id\":\"1240\",\"type\":\"Grid\"},{\"attributes\":{\"active_drag\":\"auto\",\"active_inspect\":\"auto\",\"active_multi\":null,\"active_scroll\":\"auto\",\"active_tap\":\"auto\",\"tools\":[{\"id\":\"1241\"},{\"id\":\"1242\"},{\"id\":\"1243\"},{\"id\":\"1244\"}]},\"id\":\"1246\",\"type\":\"Toolbar\"},{\"attributes\":{\"months\":[0,4,8]},\"id\":\"1287\",\"type\":\"MonthsTicker\"},{\"attributes\":{},\"id\":\"1244\",\"type\":\"ResetTool\"},{\"attributes\":{},\"id\":\"1241\",\"type\":\"PanTool\"},{\"attributes\":{\"months\":[0,6]},\"id\":\"1288\",\"type\":\"MonthsTicker\"},{\"attributes\":{},\"id\":\"1289\",\"type\":\"YearsTicker\"},{\"attributes\":{},\"id\":\"1229\",\"type\":\"LinearScale\"},{\"attributes\":{\"code\":\"\\n        let date = new Date(tick);\\n        return `${date.getDate()}-${date.getMonth()}-${date.getFullYear()}`\\n    \"},\"id\":\"1293\",\"type\":\"FuncTickFormatter\"},{\"attributes\":{},\"id\":\"1276\",\"type\":\"Selection\"},{\"attributes\":{\"mantissas\":[1,2,5],\"max_interval\":500.0,\"num_minor_ticks\":0},\"id\":\"1278\",\"type\":\"AdaptiveTicker\"},{\"attributes\":{},\"id\":\"1231\",\"type\":\"LinearScale\"},{\"attributes\":{},\"id\":\"1242\",\"type\":\"WheelZoomTool\"},{\"attributes\":{\"axis_label\":\"# of Cases & Deaths\",\"formatter\":{\"id\":\"1272\"},\"ticker\":{\"id\":\"1238\"}},\"id\":\"1237\",\"type\":\"LinearAxis\"},{\"attributes\":{\"axis_label\":\"Date\",\"formatter\":{\"id\":\"1293\"},\"ticker\":{\"id\":\"1234\"}},\"id\":\"1233\",\"type\":\"DatetimeAxis\"}],\"root_ids\":[\"1222\"]},\"title\":\"Bokeh Application\",\"version\":\"2.0.2\"}};\n",
       "  var render_items = [{\"docid\":\"7b4cb182-a314-44b7-89d9-c44a8df0d206\",\"root_ids\":[\"1222\"],\"roots\":{\"1222\":\"cce01ab1-a5cb-44a8-b56f-790b020adbb4\"}}];\n",
       "  root.Bokeh.embed.embed_items_notebook(docs_json, render_items);\n",
       "\n",
       "  }\n",
       "  if (root.Bokeh !== undefined) {\n",
       "    embed_document(root);\n",
       "  } else {\n",
       "    var attempts = 0;\n",
       "    var timer = setInterval(function(root) {\n",
       "      if (root.Bokeh !== undefined) {\n",
       "        clearInterval(timer);\n",
       "        embed_document(root);\n",
       "      } else {\n",
       "        attempts++;\n",
       "        if (attempts > 100) {\n",
       "          clearInterval(timer);\n",
       "          console.log(\"Bokeh: ERROR: Unable to run BokehJS code because BokehJS library is missing\");\n",
       "        }\n",
       "      }\n",
       "    }, 10, root)\n",
       "  }\n",
       "})(window);"
      ],
      "application/vnd.bokehjs_exec.v0+json": ""
     },
     "metadata": {
      "application/vnd.bokehjs_exec.v0+json": {
       "id": "1222"
      }
     },
     "output_type": "display_data"
    }
   ],
   "source": [
    "plot_state_counties_curve(df, \"Indiana\", ['Lake'])"
   ]
  },
  {
   "cell_type": "code",
   "execution_count": 5,
   "metadata": {
    "scrolled": true
   },
   "outputs": [
    {
     "name": "stdout",
     "output_type": "stream",
     "text": [
      "y ≈ exp(5.966248936824368) * exp(0.04888294623592084 * x)\n",
      "y = 390.03985913998497 * exp(0.04888294623592084 * x)\n"
     ]
    },
    {
     "data": {
      "text/html": [
       "\n",
       "\n",
       "\n",
       "\n",
       "\n",
       "\n",
       "  <div class=\"bk-root\" id=\"9e2a3822-4e52-463c-8343-4d2b2a6c7766\" data-root-id=\"1463\"></div>\n"
      ]
     },
     "metadata": {},
     "output_type": "display_data"
    },
    {
     "data": {
      "application/javascript": [
       "(function(root) {\n",
       "  function embed_document(root) {\n",
       "    \n",
       "  var docs_json = {\"65e6d326-047b-4faa-81aa-35c3e2da76ff\":{\"roots\":{\"references\":[{\"attributes\":{\"below\":[{\"id\":\"1474\"}],\"center\":[{\"id\":\"1477\"},{\"id\":\"1481\"},{\"id\":\"1532\"}],\"left\":[{\"id\":\"1478\"}],\"plot_width\":880,\"renderers\":[{\"id\":\"1500\"},{\"id\":\"1505\"},{\"id\":\"1510\"}],\"title\":{\"id\":\"1464\"},\"toolbar\":{\"id\":\"1487\"},\"x_range\":{\"id\":\"1466\"},\"x_scale\":{\"id\":\"1470\"},\"y_range\":{\"id\":\"1468\"},\"y_scale\":{\"id\":\"1472\"}},\"id\":\"1463\",\"subtype\":\"Figure\",\"type\":\"Plot\"},{\"attributes\":{\"days\":[1,8,15,22]},\"id\":\"1524\",\"type\":\"DaysTicker\"},{\"attributes\":{\"data_source\":{\"id\":\"1492\"},\"glyph\":{\"id\":\"1503\"},\"hover_glyph\":null,\"muted_glyph\":null,\"name\":\"cases\",\"nonselection_glyph\":{\"id\":\"1504\"},\"selection_glyph\":null,\"view\":{\"id\":\"1506\"}},\"id\":\"1505\",\"type\":\"GlyphRenderer\"},{\"attributes\":{\"data\":{\"cases\":[1,1,1,1,1,1,2,2,3,6,7,9,11,19,25,46,82,110,161,226,293,484,584,676,804,964,1117,1304,1429,1570,1760,1956,2141,2290,2415,2600,2742,2887,3012,3063,3204,3320,3518,3624,3889,4052,4176,4263,4408,4537,4727,4796,4967,5121,5340,5576,5801,6032,6225,6375,6469,6784,6978],\"deaths\":[0,0,0,0,0,0,0,0,0,0,1,1,1,1,2,2,3,3,6,6,6,8,10,10,12,17,21,24,33,34,37,41,48,58,81,107,118,123,123,141,155,164,182,190,192,192,206,214,228,238,255,259,289,304,329,353,364,382,385,387,398,413,425],\"x\":{\"__ndarray__\":\"AABARNIKd0IAAACqJAt3QgAAwA93C3dCAACAdckLd0IAAEDbGwx3QgAAAEFuDHdCAADApsAMd0IAAIAMEw13QgAAQHJlDXdCAAAA2LcNd0IAAMA9Cg53QgAAgKNcDndCAABACa8Od0IAAABvAQ93QgAAwNRTD3dCAACAOqYPd0IAAECg+A93QgAAAAZLEHdCAADAa50Qd0IAAIDR7xB3QgAAQDdCEXdCAAAAnZQRd0IAAMAC5xF3QgAAgGg5EndCAABAzosSd0IAAAA03hJ3QgAAwJkwE3dCAACA/4ITd0IAAEBl1RN3QgAAAMsnFHdCAADAMHoUd0IAAICWzBR3QgAAQPweFXdCAAAAYnEVd0IAAMDHwxV3QgAAgC0WFndCAABAk2gWd0IAAAD5uhZ3QgAAwF4NF3dCAACAxF8Xd0IAAEAqshd3QgAAAJAEGHdCAADA9VYYd0IAAIBbqRh3QgAAQMH7GHdCAAAAJ04Zd0IAAMCMoBl3QgAAgPLyGXdCAABAWEUad0IAAAC+lxp3QgAAwCPqGndCAACAiTwbd0IAAEDvjht3QgAAAFXhG3dCAADAujMcd0IAAIAghhx3QgAAQIbYHHdCAAAA7Codd0IAAMBRfR13QgAAgLfPHXdCAABAHSIed0IAAACDdB53QgAAwOjGHndC\",\"dtype\":\"float64\",\"shape\":[63]}},\"selected\":{\"id\":\"1517\"},\"selection_policy\":{\"id\":\"1518\"}},\"id\":\"1492\",\"type\":\"ColumnDataSource\"},{\"attributes\":{\"source\":{\"id\":\"1492\"}},\"id\":\"1506\",\"type\":\"CDSView\"},{\"attributes\":{},\"id\":\"1513\",\"type\":\"BasicTickFormatter\"},{\"attributes\":{\"axis\":{\"id\":\"1474\"},\"ticker\":null},\"id\":\"1477\",\"type\":\"Grid\"},{\"attributes\":{\"source\":{\"id\":\"1492\"}},\"id\":\"1501\",\"type\":\"CDSView\"},{\"attributes\":{},\"id\":\"1517\",\"type\":\"Selection\"},{\"attributes\":{\"days\":[1,15]},\"id\":\"1525\",\"type\":\"DaysTicker\"},{\"attributes\":{\"num_minor_ticks\":5,\"tickers\":[{\"id\":\"1519\"},{\"id\":\"1520\"},{\"id\":\"1521\"},{\"id\":\"1522\"},{\"id\":\"1523\"},{\"id\":\"1524\"},{\"id\":\"1525\"},{\"id\":\"1526\"},{\"id\":\"1527\"},{\"id\":\"1528\"},{\"id\":\"1529\"},{\"id\":\"1530\"}]},\"id\":\"1475\",\"type\":\"DatetimeTicker\"},{\"attributes\":{},\"id\":\"1485\",\"type\":\"ResetTool\"},{\"attributes\":{},\"id\":\"1472\",\"type\":\"LinearScale\"},{\"attributes\":{},\"id\":\"1479\",\"type\":\"BasicTicker\"},{\"attributes\":{\"axis_label\":\"Date\",\"formatter\":{\"id\":\"1534\"},\"ticker\":{\"id\":\"1475\"}},\"id\":\"1474\",\"type\":\"DatetimeAxis\"},{\"attributes\":{\"end\":8373},\"id\":\"1468\",\"type\":\"Range1d\"},{\"attributes\":{},\"id\":\"1530\",\"type\":\"YearsTicker\"},{\"attributes\":{\"text\":\"Indiana Cases for counties Marion\"},\"id\":\"1464\",\"type\":\"Title\"},{\"attributes\":{},\"id\":\"1483\",\"type\":\"WheelZoomTool\"},{\"attributes\":{\"axis\":{\"id\":\"1478\"},\"dimension\":1,\"ticker\":null},\"id\":\"1481\",\"type\":\"Grid\"},{\"attributes\":{\"mantissas\":[1,2,5],\"max_interval\":500.0,\"num_minor_ticks\":0},\"id\":\"1519\",\"type\":\"AdaptiveTicker\"},{\"attributes\":{\"axis_label\":\"# of Cases & Deaths\",\"formatter\":{\"id\":\"1513\"},\"ticker\":{\"id\":\"1479\"}},\"id\":\"1478\",\"type\":\"LinearAxis\"},{\"attributes\":{\"end\":1588982400000.0,\"start\":1583452800000.0},\"id\":\"1466\",\"type\":\"Range1d\"},{\"attributes\":{\"fields\":[]},\"id\":\"1493\",\"type\":\"Stack\"},{\"attributes\":{\"overlay\":{\"id\":\"1486\"}},\"id\":\"1484\",\"type\":\"BoxZoomTool\"},{\"attributes\":{\"active_drag\":\"auto\",\"active_inspect\":\"auto\",\"active_multi\":null,\"active_scroll\":\"auto\",\"active_tap\":\"auto\",\"tools\":[{\"id\":\"1482\"},{\"id\":\"1483\"},{\"id\":\"1484\"},{\"id\":\"1485\"}]},\"id\":\"1487\",\"type\":\"Toolbar\"},{\"attributes\":{\"source\":{\"id\":\"1507\"}},\"id\":\"1511\",\"type\":\"CDSView\"},{\"attributes\":{},\"id\":\"1518\",\"type\":\"UnionRenderers\"},{\"attributes\":{},\"id\":\"1470\",\"type\":\"LinearScale\"},{\"attributes\":{\"fill_alpha\":0.1,\"fill_color\":\"lightblue\",\"x\":{\"field\":\"x\"},\"y1\":{\"expr\":{\"id\":\"1495\"}},\"y2\":{\"expr\":{\"id\":\"1496\"}}},\"id\":\"1504\",\"type\":\"VArea\"},{\"attributes\":{\"line_alpha\":0.1,\"line_color\":\"gray\",\"line_dash\":[6],\"x\":{\"field\":\"x\"},\"y\":{\"field\":\"y\"}},\"id\":\"1509\",\"type\":\"Line\"},{\"attributes\":{\"days\":[1,4,7,10,13,16,19,22,25,28]},\"id\":\"1523\",\"type\":\"DaysTicker\"},{\"attributes\":{},\"id\":\"1482\",\"type\":\"PanTool\"},{\"attributes\":{\"base\":24,\"mantissas\":[1,2,4,6,8,12],\"max_interval\":43200000.0,\"min_interval\":3600000.0,\"num_minor_ticks\":0},\"id\":\"1521\",\"type\":\"AdaptiveTicker\"},{\"attributes\":{\"code\":\"\\n        let date = new Date(tick);\\n        return `${date.getDate()}-${date.getMonth()}-${date.getFullYear()}`\\n    \"},\"id\":\"1534\",\"type\":\"FuncTickFormatter\"},{\"attributes\":{\"months\":[0,2,4,6,8,10]},\"id\":\"1527\",\"type\":\"MonthsTicker\"},{\"attributes\":{\"label\":{\"value\":\"Projected # of Cases\"},\"renderers\":[{\"id\":\"1510\"}]},\"id\":\"1533\",\"type\":\"LegendItem\"},{\"attributes\":{},\"id\":\"1584\",\"type\":\"Selection\"},{\"attributes\":{\"bottom_units\":\"screen\",\"fill_alpha\":0.5,\"fill_color\":\"lightgrey\",\"left_units\":\"screen\",\"level\":\"overlay\",\"line_alpha\":1.0,\"line_color\":\"black\",\"line_dash\":[4,4],\"line_width\":2,\"render_mode\":\"css\",\"right_units\":\"screen\",\"top_units\":\"screen\"},\"id\":\"1486\",\"type\":\"BoxAnnotation\"},{\"attributes\":{\"data_source\":{\"id\":\"1507\"},\"glyph\":{\"id\":\"1508\"},\"hover_glyph\":null,\"muted_glyph\":null,\"nonselection_glyph\":{\"id\":\"1509\"},\"selection_glyph\":null,\"view\":{\"id\":\"1511\"}},\"id\":\"1510\",\"type\":\"GlyphRenderer\"},{\"attributes\":{\"days\":[1,2,3,4,5,6,7,8,9,10,11,12,13,14,15,16,17,18,19,20,21,22,23,24,25,26,27,28,29,30,31]},\"id\":\"1522\",\"type\":\"DaysTicker\"},{\"attributes\":{\"fields\":[\"deaths\"]},\"id\":\"1494\",\"type\":\"Stack\"},{\"attributes\":{\"base\":60,\"mantissas\":[1,2,5,10,15,20,30],\"max_interval\":1800000.0,\"min_interval\":1000.0,\"num_minor_ticks\":0},\"id\":\"1520\",\"type\":\"AdaptiveTicker\"},{\"attributes\":{\"months\":[0,6]},\"id\":\"1529\",\"type\":\"MonthsTicker\"},{\"attributes\":{\"line_alpha\":0.75,\"line_color\":\"gray\",\"line_dash\":[6],\"x\":{\"field\":\"x\"},\"y\":{\"field\":\"y\"}},\"id\":\"1508\",\"type\":\"Line\"},{\"attributes\":{\"data_source\":{\"id\":\"1492\"},\"glyph\":{\"id\":\"1498\"},\"hover_glyph\":null,\"muted_glyph\":null,\"name\":\"deaths\",\"nonselection_glyph\":{\"id\":\"1499\"},\"selection_glyph\":null,\"view\":{\"id\":\"1501\"}},\"id\":\"1500\",\"type\":\"GlyphRenderer\"},{\"attributes\":{\"data\":{\"x\":[1583452800000.0,1583539200000.0,1583625600000.0,1583712000000.0,1583798400000.0,1583884800000.0,1583971200000.0,1584057600000.0,1584144000000.0,1584230400000.0,1584316800000.0,1584403200000.0,1584489600000.0,1584576000000.0,1584662400000.0,1584748800000.0,1584835200000.0,1584921600000.0,1585008000000.0,1585094400000.0,1585180800000.0,1585267200000.0,1585353600000.0,1585440000000.0,1585526400000.0,1585612800000.0,1585699200000.0,1585785600000.0,1585872000000.0,1585958400000.0,1586044800000.0,1586131200000.0,1586217600000.0,1586304000000.0,1586390400000.0,1586476800000.0,1586563200000.0,1586649600000.0,1586736000000.0,1586822400000.0,1586908800000.0,1586995200000.0,1587081600000.0,1587168000000.0,1587254400000.0,1587340800000.0,1587427200000.0,1587513600000.0,1587600000000.0,1587686400000.0,1587772800000.0,1587859200000.0,1587945600000.0,1588032000000.0,1588118400000.0,1588204800000.0,1588291200000.0,1588377600000.0,1588464000000.0,1588550400000.0,1588636800000.0,1588723200000.0,1588809600000.0,1588896000000.0,1588982400000.0,1589068800000.0,1589155200000.0,1589241600000.0,1589328000000.0,1589414400000.0,1589500800000.0,1589587200000.0,1589673600000.0],\"y\":[390.03985913998497,409.5798519991629,430.0987481985753,451.6455882755668,474.2718695721572,498.0316693146315,522.9817738590999,549.1818144119281,576.6944095494116,605.5853148773182,635.9235801879897,667.7817144906086,701.2358593090565,736.3659706615498,773.2560101569858,811.9941456647241,852.6729620374083,895.3896823904563,940.2464004670873,987.3503246442336,1036.8140341625244,1088.7557481927313,1143.2996083817472,1200.5759755533968,1260.7217412731882,1323.8806550216602,1390.2036677582707,1459.8492926969527,1532.9839841555931,1609.7825353849016,1690.428496327476,1775.1146123055225,1864.0432846857052,1957.4270546221128,2055.489111033508,2158.4638240289246,2266.597305056519,2380.1479951144315,2499.3872824295036,2624.600151080101,2756.085862113282,2894.1586687841673,3039.148567626979,3191.4020871527846,3351.283116058986,3519.1737729299657,3695.4753195074854,3880.6091197136047,4075.017646718149,4279.165540457695,4493.540718133507,4718.655540342593,4955.048035628884,5203.283186381317,5463.954279152074,5737.684322622292,6025.127536604224,6326.970915638542,6643.935870923878,6976.779954502768,7326.298669824921,7693.327373014982,8078.743269388995,8483.467509991126,8908.467393161533,9354.75867639708,9823.408004030354,10315.53545652914,10832.3172275092,11374.988434858587,11944.846072691946,12543.252111190215,13171.636751734246]},\"selected\":{\"id\":\"1584\"},\"selection_policy\":{\"id\":\"1585\"}},\"id\":\"1507\",\"type\":\"ColumnDataSource\"},{\"attributes\":{\"months\":[0,4,8]},\"id\":\"1528\",\"type\":\"MonthsTicker\"},{\"attributes\":{\"fill_alpha\":0.1,\"fill_color\":\"red\",\"x\":{\"field\":\"x\"},\"y1\":{\"expr\":{\"id\":\"1493\"}},\"y2\":{\"expr\":{\"id\":\"1494\"}}},\"id\":\"1499\",\"type\":\"VArea\"},{\"attributes\":{\"fill_color\":\"red\",\"x\":{\"field\":\"x\"},\"y1\":{\"expr\":{\"id\":\"1493\"}},\"y2\":{\"expr\":{\"id\":\"1494\"}}},\"id\":\"1498\",\"type\":\"VArea\"},{\"attributes\":{\"fill_color\":\"lightblue\",\"x\":{\"field\":\"x\"},\"y1\":{\"expr\":{\"id\":\"1495\"}},\"y2\":{\"expr\":{\"id\":\"1496\"}}},\"id\":\"1503\",\"type\":\"VArea\"},{\"attributes\":{},\"id\":\"1585\",\"type\":\"UnionRenderers\"},{\"attributes\":{\"fields\":[\"deaths\"]},\"id\":\"1495\",\"type\":\"Stack\"},{\"attributes\":{\"items\":[{\"id\":\"1533\"}],\"location\":\"top_left\"},\"id\":\"1532\",\"type\":\"Legend\"},{\"attributes\":{\"fields\":[\"deaths\",\"cases\"]},\"id\":\"1496\",\"type\":\"Stack\"},{\"attributes\":{\"months\":[0,1,2,3,4,5,6,7,8,9,10,11]},\"id\":\"1526\",\"type\":\"MonthsTicker\"}],\"root_ids\":[\"1463\"]},\"title\":\"Bokeh Application\",\"version\":\"2.0.2\"}};\n",
       "  var render_items = [{\"docid\":\"65e6d326-047b-4faa-81aa-35c3e2da76ff\",\"root_ids\":[\"1463\"],\"roots\":{\"1463\":\"9e2a3822-4e52-463c-8343-4d2b2a6c7766\"}}];\n",
       "  root.Bokeh.embed.embed_items_notebook(docs_json, render_items);\n",
       "\n",
       "  }\n",
       "  if (root.Bokeh !== undefined) {\n",
       "    embed_document(root);\n",
       "  } else {\n",
       "    var attempts = 0;\n",
       "    var timer = setInterval(function(root) {\n",
       "      if (root.Bokeh !== undefined) {\n",
       "        clearInterval(timer);\n",
       "        embed_document(root);\n",
       "      } else {\n",
       "        attempts++;\n",
       "        if (attempts > 100) {\n",
       "          clearInterval(timer);\n",
       "          console.log(\"Bokeh: ERROR: Unable to run BokehJS code because BokehJS library is missing\");\n",
       "        }\n",
       "      }\n",
       "    }, 10, root)\n",
       "  }\n",
       "})(window);"
      ],
      "application/vnd.bokehjs_exec.v0+json": ""
     },
     "metadata": {
      "application/vnd.bokehjs_exec.v0+json": {
       "id": "1463"
      }
     },
     "output_type": "display_data"
    }
   ],
   "source": [
    "plot_state_counties_curve(df, \"Indiana\", ['Marion'])"
   ]
  },
  {
   "cell_type": "code",
   "execution_count": 6,
   "metadata": {},
   "outputs": [
    {
     "name": "stdout",
     "output_type": "stream",
     "text": [
      "y ≈ exp(4.498835828488535) * exp(0.06204459853078653 * x)\n",
      "y = 89.91239689695125 * exp(0.06204459853078653 * x)\n"
     ]
    },
    {
     "data": {
      "text/html": [
       "\n",
       "\n",
       "\n",
       "\n",
       "\n",
       "\n",
       "  <div class=\"bk-root\" id=\"2a94109a-83ae-41f7-b1c2-7286758e2f7e\" data-root-id=\"1725\"></div>\n"
      ]
     },
     "metadata": {},
     "output_type": "display_data"
    },
    {
     "data": {
      "application/javascript": [
       "(function(root) {\n",
       "  function embed_document(root) {\n",
       "    \n",
       "  var docs_json = {\"68b1f2b6-019b-4e8b-a5e9-4c5328c9d30d\":{\"roots\":{\"references\":[{\"attributes\":{\"below\":[{\"id\":\"1736\"}],\"center\":[{\"id\":\"1739\"},{\"id\":\"1743\"},{\"id\":\"1794\"}],\"left\":[{\"id\":\"1740\"}],\"plot_width\":880,\"renderers\":[{\"id\":\"1762\"},{\"id\":\"1767\"},{\"id\":\"1772\"}],\"title\":{\"id\":\"1726\"},\"toolbar\":{\"id\":\"1749\"},\"x_range\":{\"id\":\"1728\"},\"x_scale\":{\"id\":\"1732\"},\"y_range\":{\"id\":\"1730\"},\"y_scale\":{\"id\":\"1734\"}},\"id\":\"1725\",\"subtype\":\"Figure\",\"type\":\"Plot\"},{\"attributes\":{\"data_source\":{\"id\":\"1769\"},\"glyph\":{\"id\":\"1770\"},\"hover_glyph\":null,\"muted_glyph\":null,\"nonselection_glyph\":{\"id\":\"1771\"},\"selection_glyph\":null,\"view\":{\"id\":\"1773\"}},\"id\":\"1772\",\"type\":\"GlyphRenderer\"},{\"attributes\":{\"label\":{\"value\":\"Projected # of Cases\"},\"renderers\":[{\"id\":\"1772\"}]},\"id\":\"1795\",\"type\":\"LegendItem\"},{\"attributes\":{},\"id\":\"1747\",\"type\":\"ResetTool\"},{\"attributes\":{\"fields\":[\"deaths\"]},\"id\":\"1756\",\"type\":\"Stack\"},{\"attributes\":{\"fill_color\":\"red\",\"x\":{\"field\":\"x\"},\"y1\":{\"expr\":{\"id\":\"1755\"}},\"y2\":{\"expr\":{\"id\":\"1756\"}}},\"id\":\"1760\",\"type\":\"VArea\"},{\"attributes\":{\"end\":58009},\"id\":\"1730\",\"type\":\"Range1d\"},{\"attributes\":{},\"id\":\"1741\",\"type\":\"BasicTicker\"},{\"attributes\":{\"overlay\":{\"id\":\"1748\"}},\"id\":\"1746\",\"type\":\"BoxZoomTool\"},{\"attributes\":{\"fields\":[\"deaths\",\"cases\"]},\"id\":\"1758\",\"type\":\"Stack\"},{\"attributes\":{},\"id\":\"1745\",\"type\":\"WheelZoomTool\"},{\"attributes\":{\"end\":1588982400000.0,\"start\":1579824000000.0},\"id\":\"1728\",\"type\":\"Range1d\"},{\"attributes\":{\"axis_label\":\"Date\",\"formatter\":{\"id\":\"1796\"},\"ticker\":{\"id\":\"1737\"}},\"id\":\"1736\",\"type\":\"DatetimeAxis\"},{\"attributes\":{},\"id\":\"1775\",\"type\":\"BasicTickFormatter\"},{\"attributes\":{\"active_drag\":\"auto\",\"active_inspect\":\"auto\",\"active_multi\":null,\"active_scroll\":\"auto\",\"active_tap\":\"auto\",\"tools\":[{\"id\":\"1744\"},{\"id\":\"1745\"},{\"id\":\"1746\"},{\"id\":\"1747\"}]},\"id\":\"1749\",\"type\":\"Toolbar\"},{\"attributes\":{},\"id\":\"1867\",\"type\":\"Selection\"},{\"attributes\":{\"source\":{\"id\":\"1769\"}},\"id\":\"1773\",\"type\":\"CDSView\"},{\"attributes\":{\"fields\":[]},\"id\":\"1755\",\"type\":\"Stack\"},{\"attributes\":{\"axis\":{\"id\":\"1736\"},\"ticker\":null},\"id\":\"1739\",\"type\":\"Grid\"},{\"attributes\":{\"axis\":{\"id\":\"1740\"},\"dimension\":1,\"ticker\":null},\"id\":\"1743\",\"type\":\"Grid\"},{\"attributes\":{\"days\":[1,4,7,10,13,16,19,22,25,28]},\"id\":\"1785\",\"type\":\"DaysTicker\"},{\"attributes\":{\"text\":\"Illinois Cases for counties Cook\"},\"id\":\"1726\",\"type\":\"Title\"},{\"attributes\":{},\"id\":\"1732\",\"type\":\"LinearScale\"},{\"attributes\":{\"source\":{\"id\":\"1754\"}},\"id\":\"1763\",\"type\":\"CDSView\"},{\"attributes\":{},\"id\":\"1744\",\"type\":\"PanTool\"},{\"attributes\":{\"code\":\"\\n        let date = new Date(tick);\\n        return `${date.getDate()}-${date.getMonth()}-${date.getFullYear()}`\\n    \"},\"id\":\"1796\",\"type\":\"FuncTickFormatter\"},{\"attributes\":{\"days\":[1,8,15,22]},\"id\":\"1786\",\"type\":\"DaysTicker\"},{\"attributes\":{\"bottom_units\":\"screen\",\"fill_alpha\":0.5,\"fill_color\":\"lightgrey\",\"left_units\":\"screen\",\"level\":\"overlay\",\"line_alpha\":1.0,\"line_color\":\"black\",\"line_dash\":[4,4],\"line_width\":2,\"render_mode\":\"css\",\"right_units\":\"screen\",\"top_units\":\"screen\"},\"id\":\"1748\",\"type\":\"BoxAnnotation\"},{\"attributes\":{\"axis_label\":\"# of Cases & Deaths\",\"formatter\":{\"id\":\"1775\"},\"ticker\":{\"id\":\"1741\"}},\"id\":\"1740\",\"type\":\"LinearAxis\"},{\"attributes\":{\"data_source\":{\"id\":\"1754\"},\"glyph\":{\"id\":\"1760\"},\"hover_glyph\":null,\"muted_glyph\":null,\"name\":\"deaths\",\"nonselection_glyph\":{\"id\":\"1761\"},\"selection_glyph\":null,\"view\":{\"id\":\"1763\"}},\"id\":\"1762\",\"type\":\"GlyphRenderer\"},{\"attributes\":{\"source\":{\"id\":\"1754\"}},\"id\":\"1768\",\"type\":\"CDSView\"},{\"attributes\":{\"days\":[1,2,3,4,5,6,7,8,9,10,11,12,13,14,15,16,17,18,19,20,21,22,23,24,25,26,27,28,29,30,31]},\"id\":\"1784\",\"type\":\"DaysTicker\"},{\"attributes\":{\"months\":[0,2,4,6,8,10]},\"id\":\"1789\",\"type\":\"MonthsTicker\"},{\"attributes\":{\"months\":[0,1,2,3,4,5,6,7,8,9,10,11]},\"id\":\"1788\",\"type\":\"MonthsTicker\"},{\"attributes\":{\"months\":[0,4,8]},\"id\":\"1790\",\"type\":\"MonthsTicker\"},{\"attributes\":{\"fill_alpha\":0.1,\"fill_color\":\"lightblue\",\"x\":{\"field\":\"x\"},\"y1\":{\"expr\":{\"id\":\"1757\"}},\"y2\":{\"expr\":{\"id\":\"1758\"}}},\"id\":\"1766\",\"type\":\"VArea\"},{\"attributes\":{\"months\":[0,6]},\"id\":\"1791\",\"type\":\"MonthsTicker\"},{\"attributes\":{},\"id\":\"1780\",\"type\":\"UnionRenderers\"},{\"attributes\":{\"days\":[1,15]},\"id\":\"1787\",\"type\":\"DaysTicker\"},{\"attributes\":{},\"id\":\"1734\",\"type\":\"LinearScale\"},{\"attributes\":{\"items\":[{\"id\":\"1795\"}],\"location\":\"top_left\"},\"id\":\"1794\",\"type\":\"Legend\"},{\"attributes\":{},\"id\":\"1792\",\"type\":\"YearsTicker\"},{\"attributes\":{\"fill_color\":\"lightblue\",\"x\":{\"field\":\"x\"},\"y1\":{\"expr\":{\"id\":\"1757\"}},\"y2\":{\"expr\":{\"id\":\"1758\"}}},\"id\":\"1765\",\"type\":\"VArea\"},{\"attributes\":{\"base\":60,\"mantissas\":[1,2,5,10,15,20,30],\"max_interval\":1800000.0,\"min_interval\":1000.0,\"num_minor_ticks\":0},\"id\":\"1782\",\"type\":\"AdaptiveTicker\"},{\"attributes\":{\"base\":24,\"mantissas\":[1,2,4,6,8,12],\"max_interval\":43200000.0,\"min_interval\":3600000.0,\"num_minor_ticks\":0},\"id\":\"1783\",\"type\":\"AdaptiveTicker\"},{\"attributes\":{\"data_source\":{\"id\":\"1754\"},\"glyph\":{\"id\":\"1765\"},\"hover_glyph\":null,\"muted_glyph\":null,\"name\":\"cases\",\"nonselection_glyph\":{\"id\":\"1766\"},\"selection_glyph\":null,\"view\":{\"id\":\"1768\"}},\"id\":\"1767\",\"type\":\"GlyphRenderer\"},{\"attributes\":{\"line_alpha\":0.75,\"line_color\":\"gray\",\"line_dash\":[6],\"x\":{\"field\":\"x\"},\"y\":{\"field\":\"y\"}},\"id\":\"1770\",\"type\":\"Line\"},{\"attributes\":{},\"id\":\"1779\",\"type\":\"Selection\"},{\"attributes\":{\"mantissas\":[1,2,5],\"max_interval\":500.0,\"num_minor_ticks\":0},\"id\":\"1781\",\"type\":\"AdaptiveTicker\"},{\"attributes\":{\"line_alpha\":0.1,\"line_color\":\"gray\",\"line_dash\":[6],\"x\":{\"field\":\"x\"},\"y\":{\"field\":\"y\"}},\"id\":\"1771\",\"type\":\"Line\"},{\"attributes\":{\"fields\":[\"deaths\"]},\"id\":\"1757\",\"type\":\"Stack\"},{\"attributes\":{\"data\":{\"cases\":[1,1,1,1,1,1,2,2,2,2,2,2,2,2,2,2,2,2,2,2,2,2,2,2,2,2,2,2,2,2,2,2,2,2,2,2,3,3,4,4,4,5,6,6,7,11,17,22,27,40,51,76,76,107,179,279,412,548,805,922,1194,1418,1904,2239,2613,3445,3727,4496,5152,5575,6473,7439,8043,8728,9509,10520,11415,12472,13417,14585,15474,16323,17306,18087,19391,20395,21272,22101,23181,24546,25811,27616,29058,30574,31953,33449,34880,36513,38668,40227,42324,43715,45223,46689,48341],\"deaths\":[0,0,0,0,0,0,0,0,0,0,0,0,0,0,0,0,0,0,0,0,0,0,0,0,0,0,0,0,0,0,0,0,0,0,0,0,0,0,0,0,0,0,0,0,0,0,0,0,0,0,0,0,0,1,1,2,3,4,6,9,12,13,18,20,28,40,44,61,95,107,141,167,186,209,249,312,351,398,453,485,543,577,630,722,760,860,877,915,1002,1072,1142,1220,1267,1313,1347,1457,1516,1607,1673,1743,1786,1802,1922,2004,2110],\"x\":{\"__ndarray__\":\"AADAkk39dkIAAID4n/12QgAAQF7y/XZCAAAAxET+dkIAAMApl/52QgAAgI/p/nZCAABA9Tv/dkIAAABbjv92QgAAwMDg/3ZCAACAJjMAd0IAAECMhQB3QgAAAPLXAHdCAADAVyoBd0IAAIC9fAF3QgAAQCPPAXdCAAAAiSECd0IAAMDucwJ3QgAAgFTGAndCAABAuhgDd0IAAAAgawN3QgAAwIW9A3dCAACA6w8Ed0IAAEBRYgR3QgAAALe0BHdCAADAHAcFd0IAAICCWQV3QgAAQOirBXdCAAAATv4Fd0IAAMCzUAZ3QgAAgBmjBndCAABAf/UGd0IAAADlRwd3QgAAwEqaB3dCAACAsOwHd0IAAEAWPwh3QgAAAHyRCHdCAADA4eMId0IAAIBHNgl3QgAAQK2ICXdCAAAAE9sJd0IAAMB4LQp3QgAAgN5/CndCAABARNIKd0IAAACqJAt3QgAAwA93C3dCAACAdckLd0IAAEDbGwx3QgAAAEFuDHdCAADApsAMd0IAAIAMEw13QgAAQHJlDXdCAAAA2LcNd0IAAMA9Cg53QgAAgKNcDndCAABACa8Od0IAAABvAQ93QgAAwNRTD3dCAACAOqYPd0IAAECg+A93QgAAAAZLEHdCAADAa50Qd0IAAIDR7xB3QgAAQDdCEXdCAAAAnZQRd0IAAMAC5xF3QgAAgGg5EndCAABAzosSd0IAAAA03hJ3QgAAwJkwE3dCAACA/4ITd0IAAEBl1RN3QgAAAMsnFHdCAADAMHoUd0IAAICWzBR3QgAAQPweFXdCAAAAYnEVd0IAAMDHwxV3QgAAgC0WFndCAABAk2gWd0IAAAD5uhZ3QgAAwF4NF3dCAACAxF8Xd0IAAEAqshd3QgAAAJAEGHdCAADA9VYYd0IAAIBbqRh3QgAAQMH7GHdCAAAAJ04Zd0IAAMCMoBl3QgAAgPLyGXdCAABAWEUad0IAAAC+lxp3QgAAwCPqGndCAACAiTwbd0IAAEDvjht3QgAAAFXhG3dCAADAujMcd0IAAIAghhx3QgAAQIbYHHdCAAAA7Codd0IAAMBRfR13QgAAgLfPHXdCAABAHSIed0IAAACDdB53QgAAwOjGHndC\",\"dtype\":\"float64\",\"shape\":[105]}},\"selected\":{\"id\":\"1779\"},\"selection_policy\":{\"id\":\"1780\"}},\"id\":\"1754\",\"type\":\"ColumnDataSource\"},{\"attributes\":{\"data\":{\"x\":[1579824000000.0,1579910400000.0,1579996800000.0,1580083200000.0,1580169600000.0,1580256000000.0,1580342400000.0,1580428800000.0,1580515200000.0,1580601600000.0,1580688000000.0,1580774400000.0,1580860800000.0,1580947200000.0,1581033600000.0,1581120000000.0,1581206400000.0,1581292800000.0,1581379200000.0,1581465600000.0,1581552000000.0,1581638400000.0,1581724800000.0,1581811200000.0,1581897600000.0,1581984000000.0,1582070400000.0,1582156800000.0,1582243200000.0,1582329600000.0,1582416000000.0,1582502400000.0,1582588800000.0,1582675200000.0,1582761600000.0,1582848000000.0,1582934400000.0,1583020800000.0,1583107200000.0,1583193600000.0,1583280000000.0,1583366400000.0,1583452800000.0,1583539200000.0,1583625600000.0,1583712000000.0,1583798400000.0,1583884800000.0,1583971200000.0,1584057600000.0,1584144000000.0,1584230400000.0,1584316800000.0,1584403200000.0,1584489600000.0,1584576000000.0,1584662400000.0,1584748800000.0,1584835200000.0,1584921600000.0,1585008000000.0,1585094400000.0,1585180800000.0,1585267200000.0,1585353600000.0,1585440000000.0,1585526400000.0,1585612800000.0,1585699200000.0,1585785600000.0,1585872000000.0,1585958400000.0,1586044800000.0,1586131200000.0,1586217600000.0,1586304000000.0,1586390400000.0,1586476800000.0,1586563200000.0,1586649600000.0,1586736000000.0,1586822400000.0,1586908800000.0,1586995200000.0,1587081600000.0,1587168000000.0,1587254400000.0,1587340800000.0,1587427200000.0,1587513600000.0,1587600000000.0,1587686400000.0,1587772800000.0,1587859200000.0,1587945600000.0,1588032000000.0,1588118400000.0,1588204800000.0,1588291200000.0,1588377600000.0,1588464000000.0,1588550400000.0,1588636800000.0,1588723200000.0,1588809600000.0,1588896000000.0,1588982400000.0,1589068800000.0,1589155200000.0,1589241600000.0,1589328000000.0,1589414400000.0,1589500800000.0,1589587200000.0,1589673600000.0],\"y\":[89.91239689695125,95.6676711650341,101.79133937037142,108.30698233408215,115.23969028085675,122.61615945557341,130.46479492432414,138.81581995571364,147.70139240363298,157.15572853967095,167.21523481201294,177.9186480382,189.3071845715983,201.4246990159838,214.31785309941512,228.03629535768894,242.6328523192968,258.1637319280923,274.68873998700184,292.2715104562528,310.9797504929458,330.885501175559,352.0654149173755,374.6010506370877,398.5791878232128,424.09216070170663,451.2382137935795,480.12188023168244,510.85438429347386,543.5540696998277,578.3468553291606,615.3667201017281,654.7562189012657,696.6670315206703,741.2605467455827,788.7084838250416,839.1935537223474,892.9101626924618,950.0651608952494,1010.8786389273072,1075.584775339629,1144.4327384047058,1217.6876456055559,1295.631584541452,1378.564699181617,1466.8063456497955,1560.6963219903678,1660.5961766515354,1766.8906007242565,1879.988909298105,2000.3266176384261,2128.3671182542644,2264.6034653150746,2409.560273287582,2563.7957371039943,2727.9037816407917,2902.5163487851946,3088.305830896305,3285.987660031597,3496.3230629092714,3720.121992215189,3958.246245542164,4211.612783971937,4481.1972630788905,4768.037789952618,5073.238920706719,5397.975913867332,5743.499256020223,6111.139477143575,6502.312274169327,6918.523962502535,7361.377276491497,7832.577541184667,8333.939239140609,8867.39299757799,9434.99302277172,10038.92501032327,10681.514561765707,11365.236139914039,12092.722597445569,12866.775315402892,13690.374990660277,14566.69311389366,15499.10418225319,16491.198693766324,17546.796973510256,18669.963884794553,19865.024482003904,21136.58066537588,22489.528901847807,23929.07908021147,25460.77457318224,27090.513583637465,28824.571857222905,30669.62684878888,32632.783435714668,34721.60127713803,36944.12392444298,39308.909795104366,41825.06512916182,44502.27905523072,47350.8609010818,50381.779892462895,53606.707393034725,57038.06184807581,60689.05660502553,64573.750795009604,68707.10347128233,73105.03121305948,77784.46941656017,82763.43750927695,88061.10833859694,93697.88200197562,99695.46440296399,106076.95083559182]},\"selected\":{\"id\":\"1867\"},\"selection_policy\":{\"id\":\"1868\"}},\"id\":\"1769\",\"type\":\"ColumnDataSource\"},{\"attributes\":{},\"id\":\"1868\",\"type\":\"UnionRenderers\"},{\"attributes\":{\"fill_alpha\":0.1,\"fill_color\":\"red\",\"x\":{\"field\":\"x\"},\"y1\":{\"expr\":{\"id\":\"1755\"}},\"y2\":{\"expr\":{\"id\":\"1756\"}}},\"id\":\"1761\",\"type\":\"VArea\"},{\"attributes\":{\"num_minor_ticks\":5,\"tickers\":[{\"id\":\"1781\"},{\"id\":\"1782\"},{\"id\":\"1783\"},{\"id\":\"1784\"},{\"id\":\"1785\"},{\"id\":\"1786\"},{\"id\":\"1787\"},{\"id\":\"1788\"},{\"id\":\"1789\"},{\"id\":\"1790\"},{\"id\":\"1791\"},{\"id\":\"1792\"}]},\"id\":\"1737\",\"type\":\"DatetimeTicker\"}],\"root_ids\":[\"1725\"]},\"title\":\"Bokeh Application\",\"version\":\"2.0.2\"}};\n",
       "  var render_items = [{\"docid\":\"68b1f2b6-019b-4e8b-a5e9-4c5328c9d30d\",\"root_ids\":[\"1725\"],\"roots\":{\"1725\":\"2a94109a-83ae-41f7-b1c2-7286758e2f7e\"}}];\n",
       "  root.Bokeh.embed.embed_items_notebook(docs_json, render_items);\n",
       "\n",
       "  }\n",
       "  if (root.Bokeh !== undefined) {\n",
       "    embed_document(root);\n",
       "  } else {\n",
       "    var attempts = 0;\n",
       "    var timer = setInterval(function(root) {\n",
       "      if (root.Bokeh !== undefined) {\n",
       "        clearInterval(timer);\n",
       "        embed_document(root);\n",
       "      } else {\n",
       "        attempts++;\n",
       "        if (attempts > 100) {\n",
       "          clearInterval(timer);\n",
       "          console.log(\"Bokeh: ERROR: Unable to run BokehJS code because BokehJS library is missing\");\n",
       "        }\n",
       "      }\n",
       "    }, 10, root)\n",
       "  }\n",
       "})(window);"
      ],
      "application/vnd.bokehjs_exec.v0+json": ""
     },
     "metadata": {
      "application/vnd.bokehjs_exec.v0+json": {
       "id": "1725"
      }
     },
     "output_type": "display_data"
    }
   ],
   "source": [
    "plot_state_counties_curve(df, 'Illinois', ['Cook'])"
   ]
  },
  {
   "cell_type": "code",
   "execution_count": 7,
   "metadata": {},
   "outputs": [
    {
     "name": "stdout",
     "output_type": "stream",
     "text": [
      "y ≈ exp(4.739307878904229) * exp(0.06230515769122992 * x)\n",
      "y = 114.35502675757579 * exp(0.06230515769122992 * x)\n"
     ]
    },
    {
     "data": {
      "text/html": [
       "\n",
       "\n",
       "\n",
       "\n",
       "\n",
       "\n",
       "  <div class=\"bk-root\" id=\"94b0707f-53e0-444e-ba2a-f249f5846e6c\" data-root-id=\"2008\"></div>\n"
      ]
     },
     "metadata": {},
     "output_type": "display_data"
    },
    {
     "data": {
      "application/javascript": [
       "(function(root) {\n",
       "  function embed_document(root) {\n",
       "    \n",
       "  var docs_json = {\"2286351f-38ac-47e2-aa8a-4300cbd9087f\":{\"roots\":{\"references\":[{\"attributes\":{\"below\":[{\"id\":\"2019\"}],\"center\":[{\"id\":\"2022\"},{\"id\":\"2026\"},{\"id\":\"2077\"}],\"left\":[{\"id\":\"2023\"}],\"plot_width\":880,\"renderers\":[{\"id\":\"2045\"},{\"id\":\"2050\"},{\"id\":\"2055\"}],\"title\":{\"id\":\"2009\"},\"toolbar\":{\"id\":\"2032\"},\"x_range\":{\"id\":\"2011\"},\"x_scale\":{\"id\":\"2015\"},\"y_range\":{\"id\":\"2013\"},\"y_scale\":{\"id\":\"2017\"}},\"id\":\"2008\",\"subtype\":\"Figure\",\"type\":\"Plot\"},{\"attributes\":{\"data_source\":{\"id\":\"2052\"},\"glyph\":{\"id\":\"2053\"},\"hover_glyph\":null,\"muted_glyph\":null,\"nonselection_glyph\":{\"id\":\"2054\"},\"selection_glyph\":null,\"view\":{\"id\":\"2056\"}},\"id\":\"2055\",\"type\":\"GlyphRenderer\"},{\"attributes\":{\"fields\":[\"deaths\"]},\"id\":\"2039\",\"type\":\"Stack\"},{\"attributes\":{},\"id\":\"2063\",\"type\":\"UnionRenderers\"},{\"attributes\":{\"fields\":[\"deaths\"]},\"id\":\"2040\",\"type\":\"Stack\"},{\"attributes\":{\"end\":1588982400000.0,\"start\":1579824000000.0},\"id\":\"2011\",\"type\":\"Range1d\"},{\"attributes\":{},\"id\":\"2027\",\"type\":\"PanTool\"},{\"attributes\":{\"axis_label\":\"Date\",\"formatter\":{\"id\":\"2079\"},\"ticker\":{\"id\":\"2020\"}},\"id\":\"2019\",\"type\":\"DatetimeAxis\"},{\"attributes\":{},\"id\":\"2028\",\"type\":\"WheelZoomTool\"},{\"attributes\":{\"fields\":[\"deaths\",\"cases\"]},\"id\":\"2041\",\"type\":\"Stack\"},{\"attributes\":{\"mantissas\":[1,2,5],\"max_interval\":500.0,\"num_minor_ticks\":0},\"id\":\"2064\",\"type\":\"AdaptiveTicker\"},{\"attributes\":{\"data_source\":{\"id\":\"2037\"},\"glyph\":{\"id\":\"2043\"},\"hover_glyph\":null,\"muted_glyph\":null,\"name\":\"deaths\",\"nonselection_glyph\":{\"id\":\"2044\"},\"selection_glyph\":null,\"view\":{\"id\":\"2046\"}},\"id\":\"2045\",\"type\":\"GlyphRenderer\"},{\"attributes\":{\"num_minor_ticks\":5,\"tickers\":[{\"id\":\"2064\"},{\"id\":\"2065\"},{\"id\":\"2066\"},{\"id\":\"2067\"},{\"id\":\"2068\"},{\"id\":\"2069\"},{\"id\":\"2070\"},{\"id\":\"2071\"},{\"id\":\"2072\"},{\"id\":\"2073\"},{\"id\":\"2074\"},{\"id\":\"2075\"}]},\"id\":\"2020\",\"type\":\"DatetimeTicker\"},{\"attributes\":{\"fill_color\":\"red\",\"x\":{\"field\":\"x\"},\"y1\":{\"expr\":{\"id\":\"2038\"}},\"y2\":{\"expr\":{\"id\":\"2039\"}}},\"id\":\"2043\",\"type\":\"VArea\"},{\"attributes\":{\"overlay\":{\"id\":\"2031\"}},\"id\":\"2029\",\"type\":\"BoxZoomTool\"},{\"attributes\":{\"fill_alpha\":0.1,\"fill_color\":\"red\",\"x\":{\"field\":\"x\"},\"y1\":{\"expr\":{\"id\":\"2038\"}},\"y2\":{\"expr\":{\"id\":\"2039\"}}},\"id\":\"2044\",\"type\":\"VArea\"},{\"attributes\":{},\"id\":\"2030\",\"type\":\"ResetTool\"},{\"attributes\":{},\"id\":\"2171\",\"type\":\"Selection\"},{\"attributes\":{\"base\":24,\"mantissas\":[1,2,4,6,8,12],\"max_interval\":43200000.0,\"min_interval\":3600000.0,\"num_minor_ticks\":0},\"id\":\"2066\",\"type\":\"AdaptiveTicker\"},{\"attributes\":{\"data\":{\"x\":[1579824000000.0,1579910400000.0,1579996800000.0,1580083200000.0,1580169600000.0,1580256000000.0,1580342400000.0,1580428800000.0,1580515200000.0,1580601600000.0,1580688000000.0,1580774400000.0,1580860800000.0,1580947200000.0,1581033600000.0,1581120000000.0,1581206400000.0,1581292800000.0,1581379200000.0,1581465600000.0,1581552000000.0,1581638400000.0,1581724800000.0,1581811200000.0,1581897600000.0,1581984000000.0,1582070400000.0,1582156800000.0,1582243200000.0,1582329600000.0,1582416000000.0,1582502400000.0,1582588800000.0,1582675200000.0,1582761600000.0,1582848000000.0,1582934400000.0,1583020800000.0,1583107200000.0,1583193600000.0,1583280000000.0,1583366400000.0,1583452800000.0,1583539200000.0,1583625600000.0,1583712000000.0,1583798400000.0,1583884800000.0,1583971200000.0,1584057600000.0,1584144000000.0,1584230400000.0,1584316800000.0,1584403200000.0,1584489600000.0,1584576000000.0,1584662400000.0,1584748800000.0,1584835200000.0,1584921600000.0,1585008000000.0,1585094400000.0,1585180800000.0,1585267200000.0,1585353600000.0,1585440000000.0,1585526400000.0,1585612800000.0,1585699200000.0,1585785600000.0,1585872000000.0,1585958400000.0,1586044800000.0,1586131200000.0,1586217600000.0,1586304000000.0,1586390400000.0,1586476800000.0,1586563200000.0,1586649600000.0,1586736000000.0,1586822400000.0,1586908800000.0,1586995200000.0,1587081600000.0,1587168000000.0,1587254400000.0,1587340800000.0,1587427200000.0,1587513600000.0,1587600000000.0,1587686400000.0,1587772800000.0,1587859200000.0,1587945600000.0,1588032000000.0,1588118400000.0,1588204800000.0,1588291200000.0,1588377600000.0,1588464000000.0,1588550400000.0,1588636800000.0,1588723200000.0,1588809600000.0,1588896000000.0,1588982400000.0,1589068800000.0,1589155200000.0,1589241600000.0,1589328000000.0,1589414400000.0,1589500800000.0,1589587200000.0,1589673600000.0],\"y\":[114.35502675757579,121.70657643214304,129.53073569939747,137.85788724557364,146.72036697079992,156.1525895554981,166.19118209907867,176.87512634987644,188.24591007863222,200.34768818333197,213.22745415100422,226.9352225422942,241.52422320743662,257.0511079878043,273.576170705694,291.16358129661114,309.881634993233,329.80301752867933,351.0050873889239,373.57017621038705,397.5859084892093,423.14554184369797,450.34832915124883,479.2999039659908,510.1126907138009,542.9063412575557,577.8081995278836,614.9537960236677,654.487374102536,696.5624501050268,741.3424094874955,789.0011412786597,839.723713323496,893.7070909365907,951.160901755607,1012.3082497649443,1077.3865816505881,1146.6486088503834,1220.3632888802103,1298.8168697467534,1382.3140015024992,1471.1789192593592,1565.7567022547603,1666.41461385942,1773.5435277302802,1887.5594456466538,2008.90511292359,2138.0517376754533,2275.500820605904,2421.786102429727,2577.4756364887044,2743.1739946098805,2919.5246147720127,3107.212299696596,3306.9658760660113,3519.5610246949927,3745.823292645554,3986.6312989819294,4242.920146614146,4515.685053478981,4805.985217158952,5114.947927946295,5443.772946323819,5793.737161861143,6166.199551617761,6562.606457307277,6984.497201715102,7433.510066179168,7911.388652345401,8419.988652901757,8961.285057582973,9537.37982242822,10150.510032072913,10803.056586770246,11497.553447876016,12236.697477698492,13023.35891192349,13860.592505280863,14751.649393733356,15699.989719250749,16709.296066193834,17783.487761484026,18926.736094089116,20143.48051292511,21438.445866073736,22816.660748258808,24283.47702782792,25844.590629066824,27506.06365054772,29274.34790540156,31156.309974925247,33159.25787281208,35290.96942354731,37559.722465167804,39974.326993668335,42544.15937387789,45279.19874965286,48190.06579477487,51288.06395503049,54585.2233416231,58094.34744636393,61829.06286004569,65803.87218706512,70034.21036177101,74536.5045852258,79328.23811512585,84428.01815658882,89855.64811744064,95632.20450858364,101780.11878806364,108323.26446665305,115287.04981319561,122698.51651970723,130586.44470936667,138981.46469516217]},\"selected\":{\"id\":\"2171\"},\"selection_policy\":{\"id\":\"2172\"}},\"id\":\"2052\",\"type\":\"ColumnDataSource\"},{\"attributes\":{\"base\":60,\"mantissas\":[1,2,5,10,15,20,30],\"max_interval\":1800000.0,\"min_interval\":1000.0,\"num_minor_ticks\":0},\"id\":\"2065\",\"type\":\"AdaptiveTicker\"},{\"attributes\":{\"axis_label\":\"# of Cases & Deaths\",\"formatter\":{\"id\":\"2058\"},\"ticker\":{\"id\":\"2024\"}},\"id\":\"2023\",\"type\":\"LinearAxis\"},{\"attributes\":{\"fill_color\":\"lightblue\",\"x\":{\"field\":\"x\"},\"y1\":{\"expr\":{\"id\":\"2040\"}},\"y2\":{\"expr\":{\"id\":\"2041\"}}},\"id\":\"2048\",\"type\":\"VArea\"},{\"attributes\":{\"data\":{\"cases\":[1,1,1,1,1,1,2,2,2,2,2,2,2,2,2,2,2,2,2,2,2,2,2,2,2,2,2,2,2,2,2,2,2,2,2,2,3,3,4,4,4,5,6,6,7,11,19,24,31,44,57,82,87,146,252,368,511,665,957,1107,1400,1707,2322,2776,3259,4263,4652,5563,6450,7087,8218,9586,10384,11265,12415,13748,14948,16248,17496,19055,20168,21270,22515,23624,25264,26600,27627,28715,30072,31825,33472,35886,37711,39536,41349,43350,45307,47549,50427,52643,55256,57404,59332,61397,63656],\"deaths\":[0,0,0,0,0,0,0,0,0,0,0,0,0,0,0,0,0,0,0,0,0,0,0,0,0,0,0,0,0,0,0,0,0,0,0,0,0,0,0,0,0,0,0,0,0,0,0,0,0,0,0,0,0,1,1,3,4,5,7,10,14,17,25,33,46,63,71,96,135,152,192,228,259,287,350,425,490,558,627,668,740,800,869,985,1040,1163,1190,1237,1351,1441,1550,1649,1709,1763,1811,1951,2033,2157,2261,2365,2412,2439,2597,2719,2855],\"x\":{\"__ndarray__\":\"AADAkk39dkIAAID4n/12QgAAQF7y/XZCAAAAxET+dkIAAMApl/52QgAAgI/p/nZCAABA9Tv/dkIAAABbjv92QgAAwMDg/3ZCAACAJjMAd0IAAECMhQB3QgAAAPLXAHdCAADAVyoBd0IAAIC9fAF3QgAAQCPPAXdCAAAAiSECd0IAAMDucwJ3QgAAgFTGAndCAABAuhgDd0IAAAAgawN3QgAAwIW9A3dCAACA6w8Ed0IAAEBRYgR3QgAAALe0BHdCAADAHAcFd0IAAICCWQV3QgAAQOirBXdCAAAATv4Fd0IAAMCzUAZ3QgAAgBmjBndCAABAf/UGd0IAAADlRwd3QgAAwEqaB3dCAACAsOwHd0IAAEAWPwh3QgAAAHyRCHdCAADA4eMId0IAAIBHNgl3QgAAQK2ICXdCAAAAE9sJd0IAAMB4LQp3QgAAgN5/CndCAABARNIKd0IAAACqJAt3QgAAwA93C3dCAACAdckLd0IAAEDbGwx3QgAAAEFuDHdCAADApsAMd0IAAIAMEw13QgAAQHJlDXdCAAAA2LcNd0IAAMA9Cg53QgAAgKNcDndCAABACa8Od0IAAABvAQ93QgAAwNRTD3dCAACAOqYPd0IAAECg+A93QgAAAAZLEHdCAADAa50Qd0IAAIDR7xB3QgAAQDdCEXdCAAAAnZQRd0IAAMAC5xF3QgAAgGg5EndCAABAzosSd0IAAAA03hJ3QgAAwJkwE3dCAACA/4ITd0IAAEBl1RN3QgAAAMsnFHdCAADAMHoUd0IAAICWzBR3QgAAQPweFXdCAAAAYnEVd0IAAMDHwxV3QgAAgC0WFndCAABAk2gWd0IAAAD5uhZ3QgAAwF4NF3dCAACAxF8Xd0IAAEAqshd3QgAAAJAEGHdCAADA9VYYd0IAAIBbqRh3QgAAQMH7GHdCAAAAJ04Zd0IAAMCMoBl3QgAAgPLyGXdCAABAWEUad0IAAAC+lxp3QgAAwCPqGndCAACAiTwbd0IAAEDvjht3QgAAAFXhG3dCAADAujMcd0IAAIAghhx3QgAAQIbYHHdCAAAA7Codd0IAAMBRfR13QgAAgLfPHXdCAABAHSIed0IAAACDdB53QgAAwOjGHndC\",\"dtype\":\"float64\",\"shape\":[105]}},\"selected\":{\"id\":\"2062\"},\"selection_policy\":{\"id\":\"2063\"}},\"id\":\"2037\",\"type\":\"ColumnDataSource\"},{\"attributes\":{\"data_source\":{\"id\":\"2037\"},\"glyph\":{\"id\":\"2048\"},\"hover_glyph\":null,\"muted_glyph\":null,\"name\":\"cases\",\"nonselection_glyph\":{\"id\":\"2049\"},\"selection_glyph\":null,\"view\":{\"id\":\"2051\"}},\"id\":\"2050\",\"type\":\"GlyphRenderer\"},{\"attributes\":{},\"id\":\"2017\",\"type\":\"LinearScale\"},{\"attributes\":{},\"id\":\"2024\",\"type\":\"BasicTicker\"},{\"attributes\":{\"days\":[1,2,3,4,5,6,7,8,9,10,11,12,13,14,15,16,17,18,19,20,21,22,23,24,25,26,27,28,29,30,31]},\"id\":\"2067\",\"type\":\"DaysTicker\"},{\"attributes\":{\"end\":76387},\"id\":\"2013\",\"type\":\"Range1d\"},{\"attributes\":{\"label\":{\"value\":\"Projected # of Cases\"},\"renderers\":[{\"id\":\"2055\"}]},\"id\":\"2078\",\"type\":\"LegendItem\"},{\"attributes\":{\"fill_alpha\":0.1,\"fill_color\":\"lightblue\",\"x\":{\"field\":\"x\"},\"y1\":{\"expr\":{\"id\":\"2040\"}},\"y2\":{\"expr\":{\"id\":\"2041\"}}},\"id\":\"2049\",\"type\":\"VArea\"},{\"attributes\":{},\"id\":\"2172\",\"type\":\"UnionRenderers\"},{\"attributes\":{\"days\":[1,4,7,10,13,16,19,22,25,28]},\"id\":\"2068\",\"type\":\"DaysTicker\"},{\"attributes\":{\"code\":\"\\n        let date = new Date(tick);\\n        return `${date.getDate()}-${date.getMonth()}-${date.getFullYear()}`\\n    \"},\"id\":\"2079\",\"type\":\"FuncTickFormatter\"},{\"attributes\":{\"fields\":[]},\"id\":\"2038\",\"type\":\"Stack\"},{\"attributes\":{\"days\":[1,8,15,22]},\"id\":\"2069\",\"type\":\"DaysTicker\"},{\"attributes\":{},\"id\":\"2058\",\"type\":\"BasicTickFormatter\"},{\"attributes\":{\"source\":{\"id\":\"2037\"}},\"id\":\"2046\",\"type\":\"CDSView\"},{\"attributes\":{\"days\":[1,15]},\"id\":\"2070\",\"type\":\"DaysTicker\"},{\"attributes\":{\"axis\":{\"id\":\"2023\"},\"dimension\":1,\"ticker\":null},\"id\":\"2026\",\"type\":\"Grid\"},{\"attributes\":{\"line_alpha\":0.1,\"line_color\":\"gray\",\"line_dash\":[6],\"x\":{\"field\":\"x\"},\"y\":{\"field\":\"y\"}},\"id\":\"2054\",\"type\":\"Line\"},{\"attributes\":{\"months\":[0,1,2,3,4,5,6,7,8,9,10,11]},\"id\":\"2071\",\"type\":\"MonthsTicker\"},{\"attributes\":{\"source\":{\"id\":\"2037\"}},\"id\":\"2051\",\"type\":\"CDSView\"},{\"attributes\":{\"line_alpha\":0.75,\"line_color\":\"gray\",\"line_dash\":[6],\"x\":{\"field\":\"x\"},\"y\":{\"field\":\"y\"}},\"id\":\"2053\",\"type\":\"Line\"},{\"attributes\":{\"months\":[0,2,4,6,8,10]},\"id\":\"2072\",\"type\":\"MonthsTicker\"},{\"attributes\":{\"source\":{\"id\":\"2052\"}},\"id\":\"2056\",\"type\":\"CDSView\"},{\"attributes\":{\"items\":[{\"id\":\"2078\"}],\"location\":\"top_left\"},\"id\":\"2077\",\"type\":\"Legend\"},{\"attributes\":{\"months\":[0,4,8]},\"id\":\"2073\",\"type\":\"MonthsTicker\"},{\"attributes\":{\"text\":\"Cases for the Chicago Metropolitan Area\"},\"id\":\"2009\",\"type\":\"Title\"},{\"attributes\":{\"axis\":{\"id\":\"2019\"},\"ticker\":null},\"id\":\"2022\",\"type\":\"Grid\"},{\"attributes\":{},\"id\":\"2062\",\"type\":\"Selection\"},{\"attributes\":{\"months\":[0,6]},\"id\":\"2074\",\"type\":\"MonthsTicker\"},{\"attributes\":{},\"id\":\"2015\",\"type\":\"LinearScale\"},{\"attributes\":{\"bottom_units\":\"screen\",\"fill_alpha\":0.5,\"fill_color\":\"lightgrey\",\"left_units\":\"screen\",\"level\":\"overlay\",\"line_alpha\":1.0,\"line_color\":\"black\",\"line_dash\":[4,4],\"line_width\":2,\"render_mode\":\"css\",\"right_units\":\"screen\",\"top_units\":\"screen\"},\"id\":\"2031\",\"type\":\"BoxAnnotation\"},{\"attributes\":{\"active_drag\":\"auto\",\"active_inspect\":\"auto\",\"active_multi\":null,\"active_scroll\":\"auto\",\"active_tap\":\"auto\",\"tools\":[{\"id\":\"2027\"},{\"id\":\"2028\"},{\"id\":\"2029\"},{\"id\":\"2030\"}]},\"id\":\"2032\",\"type\":\"Toolbar\"},{\"attributes\":{},\"id\":\"2075\",\"type\":\"YearsTicker\"}],\"root_ids\":[\"2008\"]},\"title\":\"Bokeh Application\",\"version\":\"2.0.2\"}};\n",
       "  var render_items = [{\"docid\":\"2286351f-38ac-47e2-aa8a-4300cbd9087f\",\"root_ids\":[\"2008\"],\"roots\":{\"2008\":\"94b0707f-53e0-444e-ba2a-f249f5846e6c\"}}];\n",
       "  root.Bokeh.embed.embed_items_notebook(docs_json, render_items);\n",
       "\n",
       "  }\n",
       "  if (root.Bokeh !== undefined) {\n",
       "    embed_document(root);\n",
       "  } else {\n",
       "    var attempts = 0;\n",
       "    var timer = setInterval(function(root) {\n",
       "      if (root.Bokeh !== undefined) {\n",
       "        clearInterval(timer);\n",
       "        embed_document(root);\n",
       "      } else {\n",
       "        attempts++;\n",
       "        if (attempts > 100) {\n",
       "          clearInterval(timer);\n",
       "          console.log(\"Bokeh: ERROR: Unable to run BokehJS code because BokehJS library is missing\");\n",
       "        }\n",
       "      }\n",
       "    }, 10, root)\n",
       "  }\n",
       "})(window);"
      ],
      "application/vnd.bokehjs_exec.v0+json": ""
     },
     "metadata": {
      "application/vnd.bokehjs_exec.v0+json": {
       "id": "2008"
      }
     },
     "output_type": "display_data"
    }
   ],
   "source": [
    "# https://en.wikipedia.org/wiki/Chicago_metropolitan_area\n",
    "chicago_metropolitan = dict(\n",
    "    Illinois=[\n",
    "        \"Cook\",\n",
    "        \"DeKalb\",\n",
    "        \"DuPage\",\n",
    "        \"Grundy\",\n",
    "        \"Kankakee\",\n",
    "        \"Kane\",\n",
    "        \"Kendall\",\n",
    "        \"McHenry\",\n",
    "        \"Will\",\n",
    "    ],\n",
    "    Indiana=[\"Jasper\", \"Lake\", \"Newton\", \"Porter\",],\n",
    "    Wisconsin=[\"Kenosha\"],\n",
    ")\n",
    "\n",
    "plot_states_and_counties_curve(\n",
    "    df, chicago_metropolitan, \"Cases for the Chicago Metropolitan Area\"\n",
    ")"
   ]
  },
  {
   "cell_type": "code",
   "execution_count": 8,
   "metadata": {},
   "outputs": [
    {
     "name": "stdout",
     "output_type": "stream",
     "text": [
      "y ≈ exp(6.041991748588782) * exp(0.05514828050941465 * x)\n",
      "y = 420.73018967052576 * exp(0.05514828050941465 * x)\n"
     ]
    },
    {
     "data": {
      "text/html": [
       "\n",
       "\n",
       "\n",
       "\n",
       "\n",
       "\n",
       "  <div class=\"bk-root\" id=\"ad6b4436-516f-44b4-af73-c7d2082cac97\" data-root-id=\"2312\"></div>\n"
      ]
     },
     "metadata": {},
     "output_type": "display_data"
    },
    {
     "data": {
      "application/javascript": [
       "(function(root) {\n",
       "  function embed_document(root) {\n",
       "    \n",
       "  var docs_json = {\"b4191bd4-c9ec-4999-b54e-f5a77f2eccdc\":{\"roots\":{\"references\":[{\"attributes\":{\"below\":[{\"id\":\"2323\"}],\"center\":[{\"id\":\"2326\"},{\"id\":\"2330\"},{\"id\":\"2381\"}],\"left\":[{\"id\":\"2327\"}],\"plot_width\":880,\"renderers\":[{\"id\":\"2349\"},{\"id\":\"2354\"},{\"id\":\"2359\"}],\"title\":{\"id\":\"2313\"},\"toolbar\":{\"id\":\"2336\"},\"x_range\":{\"id\":\"2315\"},\"x_scale\":{\"id\":\"2319\"},\"y_range\":{\"id\":\"2317\"},\"y_scale\":{\"id\":\"2321\"}},\"id\":\"2312\",\"subtype\":\"Figure\",\"type\":\"Plot\"},{\"attributes\":{\"data_source\":{\"id\":\"2356\"},\"glyph\":{\"id\":\"2357\"},\"hover_glyph\":null,\"muted_glyph\":null,\"nonselection_glyph\":{\"id\":\"2358\"},\"selection_glyph\":null,\"view\":{\"id\":\"2360\"}},\"id\":\"2359\",\"type\":\"GlyphRenderer\"},{\"attributes\":{\"active_drag\":\"auto\",\"active_inspect\":\"auto\",\"active_multi\":null,\"active_scroll\":\"auto\",\"active_tap\":\"auto\",\"tools\":[{\"id\":\"2331\"},{\"id\":\"2332\"},{\"id\":\"2333\"},{\"id\":\"2334\"}]},\"id\":\"2336\",\"type\":\"Toolbar\"},{\"attributes\":{},\"id\":\"2321\",\"type\":\"LinearScale\"},{\"attributes\":{\"axis\":{\"id\":\"2327\"},\"dimension\":1,\"ticker\":null},\"id\":\"2330\",\"type\":\"Grid\"},{\"attributes\":{\"items\":[{\"id\":\"2382\"}],\"location\":\"top_left\"},\"id\":\"2381\",\"type\":\"Legend\"},{\"attributes\":{\"line_alpha\":0.75,\"line_color\":\"gray\",\"line_dash\":[6],\"x\":{\"field\":\"x\"},\"y\":{\"field\":\"y\"}},\"id\":\"2357\",\"type\":\"Line\"},{\"attributes\":{\"axis\":{\"id\":\"2323\"},\"ticker\":null},\"id\":\"2326\",\"type\":\"Grid\"},{\"attributes\":{},\"id\":\"2332\",\"type\":\"WheelZoomTool\"},{\"attributes\":{},\"id\":\"2367\",\"type\":\"UnionRenderers\"},{\"attributes\":{},\"id\":\"2497\",\"type\":\"UnionRenderers\"},{\"attributes\":{\"axis_label\":\"# of Cases & Deaths\",\"formatter\":{\"id\":\"2362\"},\"ticker\":{\"id\":\"2328\"}},\"id\":\"2327\",\"type\":\"LinearAxis\"},{\"attributes\":{\"mantissas\":[1,2,5],\"max_interval\":500.0,\"num_minor_ticks\":0},\"id\":\"2368\",\"type\":\"AdaptiveTicker\"},{\"attributes\":{},\"id\":\"2328\",\"type\":\"BasicTicker\"},{\"attributes\":{\"fields\":[\"deaths\"]},\"id\":\"2343\",\"type\":\"Stack\"},{\"attributes\":{\"days\":[1,2,3,4,5,6,7,8,9,10,11,12,13,14,15,16,17,18,19,20,21,22,23,24,25,26,27,28,29,30,31]},\"id\":\"2371\",\"type\":\"DaysTicker\"},{\"attributes\":{\"fill_color\":\"red\",\"x\":{\"field\":\"x\"},\"y1\":{\"expr\":{\"id\":\"2342\"}},\"y2\":{\"expr\":{\"id\":\"2343\"}}},\"id\":\"2347\",\"type\":\"VArea\"},{\"attributes\":{\"fill_alpha\":0.1,\"fill_color\":\"red\",\"x\":{\"field\":\"x\"},\"y1\":{\"expr\":{\"id\":\"2342\"}},\"y2\":{\"expr\":{\"id\":\"2343\"}}},\"id\":\"2348\",\"type\":\"VArea\"},{\"attributes\":{\"line_alpha\":0.1,\"line_color\":\"gray\",\"line_dash\":[6],\"x\":{\"field\":\"x\"},\"y\":{\"field\":\"y\"}},\"id\":\"2358\",\"type\":\"Line\"},{\"attributes\":{\"days\":[1,4,7,10,13,16,19,22,25,28]},\"id\":\"2372\",\"type\":\"DaysTicker\"},{\"attributes\":{\"overlay\":{\"id\":\"2335\"}},\"id\":\"2333\",\"type\":\"BoxZoomTool\"},{\"attributes\":{\"source\":{\"id\":\"2356\"}},\"id\":\"2360\",\"type\":\"CDSView\"},{\"attributes\":{\"code\":\"\\n        let date = new Date(tick);\\n        return `${date.getDate()}-${date.getMonth()}-${date.getFullYear()}`\\n    \"},\"id\":\"2383\",\"type\":\"FuncTickFormatter\"},{\"attributes\":{},\"id\":\"2331\",\"type\":\"PanTool\"},{\"attributes\":{\"days\":[1,8,15,22]},\"id\":\"2373\",\"type\":\"DaysTicker\"},{\"attributes\":{\"days\":[1,15]},\"id\":\"2374\",\"type\":\"DaysTicker\"},{\"attributes\":{\"source\":{\"id\":\"2341\"}},\"id\":\"2355\",\"type\":\"CDSView\"},{\"attributes\":{},\"id\":\"2334\",\"type\":\"ResetTool\"},{\"attributes\":{\"fields\":[\"deaths\"]},\"id\":\"2344\",\"type\":\"Stack\"},{\"attributes\":{\"base\":60,\"mantissas\":[1,2,5,10,15,20,30],\"max_interval\":1800000.0,\"min_interval\":1000.0,\"num_minor_ticks\":0},\"id\":\"2369\",\"type\":\"AdaptiveTicker\"},{\"attributes\":{},\"id\":\"2362\",\"type\":\"BasicTickFormatter\"},{\"attributes\":{},\"id\":\"2366\",\"type\":\"Selection\"},{\"attributes\":{\"months\":[0,1,2,3,4,5,6,7,8,9,10,11]},\"id\":\"2375\",\"type\":\"MonthsTicker\"},{\"attributes\":{\"end\":1588982400000.0,\"start\":1583366400000.0},\"id\":\"2315\",\"type\":\"Range1d\"},{\"attributes\":{\"months\":[0,2,4,6,8,10]},\"id\":\"2376\",\"type\":\"MonthsTicker\"},{\"attributes\":{\"bottom_units\":\"screen\",\"fill_alpha\":0.5,\"fill_color\":\"lightgrey\",\"left_units\":\"screen\",\"level\":\"overlay\",\"line_alpha\":1.0,\"line_color\":\"black\",\"line_dash\":[4,4],\"line_width\":2,\"render_mode\":\"css\",\"right_units\":\"screen\",\"top_units\":\"screen\"},\"id\":\"2335\",\"type\":\"BoxAnnotation\"},{\"attributes\":{\"fill_alpha\":0.1,\"fill_color\":\"lightblue\",\"x\":{\"field\":\"x\"},\"y1\":{\"expr\":{\"id\":\"2344\"}},\"y2\":{\"expr\":{\"id\":\"2345\"}}},\"id\":\"2353\",\"type\":\"VArea\"},{\"attributes\":{\"data_source\":{\"id\":\"2341\"},\"glyph\":{\"id\":\"2347\"},\"hover_glyph\":null,\"muted_glyph\":null,\"name\":\"deaths\",\"nonselection_glyph\":{\"id\":\"2348\"},\"selection_glyph\":null,\"view\":{\"id\":\"2350\"}},\"id\":\"2349\",\"type\":\"GlyphRenderer\"},{\"attributes\":{\"months\":[0,4,8]},\"id\":\"2377\",\"type\":\"MonthsTicker\"},{\"attributes\":{},\"id\":\"2319\",\"type\":\"LinearScale\"},{\"attributes\":{},\"id\":\"2496\",\"type\":\"Selection\"},{\"attributes\":{\"label\":{\"value\":\"Projected # of Cases\"},\"renderers\":[{\"id\":\"2359\"}]},\"id\":\"2382\",\"type\":\"LegendItem\"},{\"attributes\":{\"months\":[0,6]},\"id\":\"2378\",\"type\":\"MonthsTicker\"},{\"attributes\":{\"end\":13561},\"id\":\"2317\",\"type\":\"Range1d\"},{\"attributes\":{\"text\":\"Cases for the Denver Metropolitan Area\"},\"id\":\"2313\",\"type\":\"Title\"},{\"attributes\":{},\"id\":\"2379\",\"type\":\"YearsTicker\"},{\"attributes\":{\"axis_label\":\"Date\",\"formatter\":{\"id\":\"2383\"},\"ticker\":{\"id\":\"2324\"}},\"id\":\"2323\",\"type\":\"DatetimeAxis\"},{\"attributes\":{\"data\":{\"x\":[1583366400000.0,1583452800000.0,1583539200000.0,1583625600000.0,1583712000000.0,1583798400000.0,1583884800000.0,1583971200000.0,1584057600000.0,1584144000000.0,1584230400000.0,1584316800000.0,1584403200000.0,1584489600000.0,1584576000000.0,1584662400000.0,1584748800000.0,1584835200000.0,1584921600000.0,1585008000000.0,1585094400000.0,1585180800000.0,1585267200000.0,1585353600000.0,1585440000000.0,1585526400000.0,1585612800000.0,1585699200000.0,1585785600000.0,1585872000000.0,1585958400000.0,1586044800000.0,1586131200000.0,1586217600000.0,1586304000000.0,1586390400000.0,1586476800000.0,1586563200000.0,1586649600000.0,1586736000000.0,1586822400000.0,1586908800000.0,1586995200000.0,1587081600000.0,1587168000000.0,1587254400000.0,1587340800000.0,1587427200000.0,1587513600000.0,1587600000000.0,1587686400000.0,1587772800000.0,1587859200000.0,1587945600000.0,1588032000000.0,1588118400000.0,1588204800000.0,1588291200000.0,1588377600000.0,1588464000000.0,1588550400000.0,1588636800000.0,1588723200000.0,1588809600000.0,1588896000000.0,1588982400000.0,1589068800000.0,1589155200000.0,1589241600000.0,1589328000000.0,1589414400000.0,1589500800000.0,1589587200000.0,1589673600000.0],\"y\":[420.73018967052576,444.5844515286632,469.7911854051318,496.42707279908046,524.5731428429042,554.3150188012706,585.7431785459722,618.9532297989979,654.0462009811405,691.1288485509331,730.3139817688689,771.7208058748739,815.4752847230118,861.7105239765942,910.5671760294155,962.1938678849251,1016.7476532949885,1074.3944905336912,1135.3097472596248,1199.678734002494,1267.6972678969703,1339.5722683787299,1415.5223866548365,1495.778670863399,1580.5852689459703,1670.2001713709126,1764.895995967164,1864.9608172559517,1970.699042803368,2082.4323392597635,2200.5006109030614,2325.263033662833,2457.099147770729,2596.410012361236,2743.6194255351675,2899.1752135974407,3063.550593391157,3237.2456118723185,3420.7886673045455,3614.738116701396,3819.683974406331,4036.249706977537,4265.094129837877,4506.913411459739,4762.443191181757,5032.460817099967,5317.787710841359,5619.291866413681,5937.890490733234,6274.552793863455,6630.3029374524795,7006.223150339092,7403.45702080513,7823.21297548965,8266.767955548126,8735.471301239886,9230.74885676116,9754.107307811026,10307.138765085596,10891.525607643885,11509.045600879464,12161.57730466715,12851.105788137025,13579.728668460652,14349.662492020094,15163.249477371906,16022.964640518974,16931.423324165924,17891.389153862892,18905.782445241155,19977.689087916177,21110.369933083944,22307.270713368536,23572.032525098177]},\"selected\":{\"id\":\"2496\"},\"selection_policy\":{\"id\":\"2497\"}},\"id\":\"2356\",\"type\":\"ColumnDataSource\"},{\"attributes\":{\"data_source\":{\"id\":\"2341\"},\"glyph\":{\"id\":\"2352\"},\"hover_glyph\":null,\"muted_glyph\":null,\"name\":\"cases\",\"nonselection_glyph\":{\"id\":\"2353\"},\"selection_glyph\":null,\"view\":{\"id\":\"2355\"}},\"id\":\"2354\",\"type\":\"GlyphRenderer\"},{\"attributes\":{\"num_minor_ticks\":5,\"tickers\":[{\"id\":\"2368\"},{\"id\":\"2369\"},{\"id\":\"2370\"},{\"id\":\"2371\"},{\"id\":\"2372\"},{\"id\":\"2373\"},{\"id\":\"2374\"},{\"id\":\"2375\"},{\"id\":\"2376\"},{\"id\":\"2377\"},{\"id\":\"2378\"},{\"id\":\"2379\"}]},\"id\":\"2324\",\"type\":\"DatetimeTicker\"},{\"attributes\":{\"source\":{\"id\":\"2341\"}},\"id\":\"2350\",\"type\":\"CDSView\"},{\"attributes\":{\"fill_color\":\"lightblue\",\"x\":{\"field\":\"x\"},\"y1\":{\"expr\":{\"id\":\"2344\"}},\"y2\":{\"expr\":{\"id\":\"2345\"}}},\"id\":\"2352\",\"type\":\"VArea\"},{\"attributes\":{\"fields\":[\"deaths\",\"cases\"]},\"id\":\"2345\",\"type\":\"Stack\"},{\"attributes\":{\"data\":{\"cases\":[2,6,6,6,8,11,16,22,39,53,70,77,97,115,145,178,230,280,343,410,506,646,795,963,1100,1329,1554,1730,1944,2197,2397,2599,2703,2872,3036,3400,3651,3884,4153,4387,4554,4744,5015,5292,5547,5702,5963,6192,6429,6710,7412,7716,7982,8239,8481,8751,9078,9403,9701,9986,10190,10563,10912,11301],\"deaths\":[0,0,0,0,0,0,0,0,0,0,0,0,0,0,0,0,0,0,0,0,5,7,9,13,13,11,22,30,40,50,54,63,67,93,100,116,133,146,152,160,172,191,198,208,223,230,248,278,307,325,399,403,406,418,442,458,464,499,503,510,513,554,569,583],\"x\":{\"__ndarray__\":\"AACA3n8Kd0IAAEBE0gp3QgAAAKokC3dCAADAD3cLd0IAAIB1yQt3QgAAQNsbDHdCAAAAQW4Md0IAAMCmwAx3QgAAgAwTDXdCAABAcmUNd0IAAADYtw13QgAAwD0KDndCAACAo1wOd0IAAEAJrw53QgAAAG8BD3dCAADA1FMPd0IAAIA6pg93QgAAQKD4D3dCAAAABksQd0IAAMBrnRB3QgAAgNHvEHdCAABAN0IRd0IAAACdlBF3QgAAwALnEXdCAACAaDkSd0IAAEDOixJ3QgAAADTeEndCAADAmTATd0IAAID/ghN3QgAAQGXVE3dCAAAAyycUd0IAAMAwehR3QgAAgJbMFHdCAABA/B4Vd0IAAABicRV3QgAAwMfDFXdCAACALRYWd0IAAECTaBZ3QgAAAPm6FndCAADAXg0Xd0IAAIDEXxd3QgAAQCqyF3dCAAAAkAQYd0IAAMD1Vhh3QgAAgFupGHdCAABAwfsYd0IAAAAnThl3QgAAwIygGXdCAACA8vIZd0IAAEBYRRp3QgAAAL6XGndCAADAI+oad0IAAICJPBt3QgAAQO+OG3dCAAAAVeEbd0IAAMC6Mxx3QgAAgCCGHHdCAABAhtgcd0IAAADsKh13QgAAwFF9HXdCAACAt88dd0IAAEAdIh53QgAAAIN0HndCAADA6MYed0I=\",\"dtype\":\"float64\",\"shape\":[64]}},\"selected\":{\"id\":\"2366\"},\"selection_policy\":{\"id\":\"2367\"}},\"id\":\"2341\",\"type\":\"ColumnDataSource\"},{\"attributes\":{\"fields\":[]},\"id\":\"2342\",\"type\":\"Stack\"},{\"attributes\":{\"base\":24,\"mantissas\":[1,2,4,6,8,12],\"max_interval\":43200000.0,\"min_interval\":3600000.0,\"num_minor_ticks\":0},\"id\":\"2370\",\"type\":\"AdaptiveTicker\"}],\"root_ids\":[\"2312\"]},\"title\":\"Bokeh Application\",\"version\":\"2.0.2\"}};\n",
       "  var render_items = [{\"docid\":\"b4191bd4-c9ec-4999-b54e-f5a77f2eccdc\",\"root_ids\":[\"2312\"],\"roots\":{\"2312\":\"ad6b4436-516f-44b4-af73-c7d2082cac97\"}}];\n",
       "  root.Bokeh.embed.embed_items_notebook(docs_json, render_items);\n",
       "\n",
       "  }\n",
       "  if (root.Bokeh !== undefined) {\n",
       "    embed_document(root);\n",
       "  } else {\n",
       "    var attempts = 0;\n",
       "    var timer = setInterval(function(root) {\n",
       "      if (root.Bokeh !== undefined) {\n",
       "        clearInterval(timer);\n",
       "        embed_document(root);\n",
       "      } else {\n",
       "        attempts++;\n",
       "        if (attempts > 100) {\n",
       "          clearInterval(timer);\n",
       "          console.log(\"Bokeh: ERROR: Unable to run BokehJS code because BokehJS library is missing\");\n",
       "        }\n",
       "      }\n",
       "    }, 10, root)\n",
       "  }\n",
       "})(window);"
      ],
      "application/vnd.bokehjs_exec.v0+json": ""
     },
     "metadata": {
      "application/vnd.bokehjs_exec.v0+json": {
       "id": "2312"
      }
     },
     "output_type": "display_data"
    }
   ],
   "source": [
    "# Denver Metropolitan Area\n",
    "# https://en.wikipedia.org/wiki/Denver_metropolitan_area\n",
    "denver_metropolitan = dict(\n",
    "    Colorado=[\n",
    "        \"Denver\",\n",
    "        \"Arapahoe\",\n",
    "        \"Jefferson\",\n",
    "        \"Adams\",\n",
    "        \"Douglas\",\n",
    "        \"Broomfield\",\n",
    "        \"Elbert\",\n",
    "        \"Park\",\n",
    "        \"Clear Creek\",\n",
    "        \"Gilpin\",\n",
    "    ],\n",
    ")\n",
    "\n",
    "plot_states_and_counties_curve(\n",
    "    df, denver_metropolitan, \"Cases for the Denver Metropolitan Area\"\n",
    ")"
   ]
  },
  {
   "cell_type": "code",
   "execution_count": 9,
   "metadata": {},
   "outputs": [
    {
     "name": "stdout",
     "output_type": "stream",
     "text": [
      "y ≈ exp(8.500190226866403) * exp(0.042452415038234104 * x)\n",
      "y = 4915.703850303911 * exp(0.042452415038234104 * x)\n"
     ]
    },
    {
     "data": {
      "text/html": [
       "\n",
       "\n",
       "\n",
       "\n",
       "\n",
       "\n",
       "  <div class=\"bk-root\" id=\"76d3786d-8b94-49a9-8d31-f81dc3d4b100\" data-root-id=\"2637\"></div>\n"
      ]
     },
     "metadata": {},
     "output_type": "display_data"
    },
    {
     "data": {
      "application/javascript": [
       "(function(root) {\n",
       "  function embed_document(root) {\n",
       "    \n",
       "  var docs_json = {\"a88941a8-b654-464e-af5f-b839c43f46a5\":{\"roots\":{\"references\":[{\"attributes\":{\"below\":[{\"id\":\"2648\"}],\"center\":[{\"id\":\"2651\"},{\"id\":\"2655\"},{\"id\":\"2706\"}],\"left\":[{\"id\":\"2652\"}],\"plot_width\":880,\"renderers\":[{\"id\":\"2674\"},{\"id\":\"2679\"},{\"id\":\"2684\"}],\"title\":{\"id\":\"2638\"},\"toolbar\":{\"id\":\"2661\"},\"x_range\":{\"id\":\"2640\"},\"x_scale\":{\"id\":\"2644\"},\"y_range\":{\"id\":\"2642\"},\"y_scale\":{\"id\":\"2646\"}},\"id\":\"2637\",\"subtype\":\"Figure\",\"type\":\"Plot\"},{\"attributes\":{\"source\":{\"id\":\"2666\"}},\"id\":\"2680\",\"type\":\"CDSView\"},{\"attributes\":{\"days\":[1,15]},\"id\":\"2699\",\"type\":\"DaysTicker\"},{\"attributes\":{\"fields\":[\"deaths\"]},\"id\":\"2668\",\"type\":\"Stack\"},{\"attributes\":{\"end\":54771},\"id\":\"2642\",\"type\":\"Range1d\"},{\"attributes\":{\"code\":\"\\n        let date = new Date(tick);\\n        return `${date.getDate()}-${date.getMonth()}-${date.getFullYear()}`\\n    \"},\"id\":\"2708\",\"type\":\"FuncTickFormatter\"},{\"attributes\":{\"months\":[0,4,8]},\"id\":\"2702\",\"type\":\"MonthsTicker\"},{\"attributes\":{\"data\":{\"cases\":[2,2,12,25,33,53,54,65,80,334,548,787,1033,1324,1783,2285,2877,3650,4636,5473,6509,7629,9292,10791,12669,14225,15633,17129,18851,20220,21375,22646,23855,24496,25490,26845,27894,29120,29954,30718,31349,31929,32936,33930,35253,36628,37185,37752,38191,39235,40361,41348,42348,43191,43736,43928,44333,45048,45643],\"deaths\":[0,0,0,0,0,0,0,0,1,3,4,6,9,16,24,43,63,93,112,132,197,264,336,417,478,542,617,727,845,959,1076,1280,1395,1488,1603,1767,1920,2092,2227,2307,2389,2466,2698,2812,2977,3084,3273,3314,3406,3566,3670,3788,3866,4020,4049,4135,4179,4250,4343],\"x\":{\"__ndarray__\":\"AABA2xsMd0IAAABBbgx3QgAAwKbADHdCAACADBMNd0IAAEByZQ13QgAAANi3DXdCAADAPQoOd0IAAICjXA53QgAAQAmvDndCAAAAbwEPd0IAAMDUUw93QgAAgDqmD3dCAABAoPgPd0IAAAAGSxB3QgAAwGudEHdCAACA0e8Qd0IAAEA3QhF3QgAAAJ2UEXdCAADAAucRd0IAAIBoORJ3QgAAQM6LEndCAAAANN4Sd0IAAMCZMBN3QgAAgP+CE3dCAABAZdUTd0IAAADLJxR3QgAAwDB6FHdCAACAlswUd0IAAED8HhV3QgAAAGJxFXdCAADAx8MVd0IAAIAtFhZ3QgAAQJNoFndCAAAA+boWd0IAAMBeDRd3QgAAgMRfF3dCAABAKrIXd0IAAACQBBh3QgAAwPVWGHdCAACAW6kYd0IAAEDB+xh3QgAAACdOGXdCAADAjKAZd0IAAIDy8hl3QgAAQFhFGndCAAAAvpcad0IAAMAj6hp3QgAAgIk8G3dCAABA744bd0IAAABV4Rt3QgAAwLozHHdCAACAIIYcd0IAAECG2Bx3QgAAAOwqHXdCAADAUX0dd0IAAIC3zx13QgAAQB0iHndCAAAAg3Qed0IAAMDoxh53Qg==\",\"dtype\":\"float64\",\"shape\":[59]}},\"selected\":{\"id\":\"2691\"},\"selection_policy\":{\"id\":\"2692\"}},\"id\":\"2666\",\"type\":\"ColumnDataSource\"},{\"attributes\":{\"source\":{\"id\":\"2666\"}},\"id\":\"2675\",\"type\":\"CDSView\"},{\"attributes\":{\"fill_alpha\":0.1,\"fill_color\":\"lightblue\",\"x\":{\"field\":\"x\"},\"y1\":{\"expr\":{\"id\":\"2669\"}},\"y2\":{\"expr\":{\"id\":\"2670\"}}},\"id\":\"2678\",\"type\":\"VArea\"},{\"attributes\":{\"source\":{\"id\":\"2681\"}},\"id\":\"2685\",\"type\":\"CDSView\"},{\"attributes\":{},\"id\":\"2842\",\"type\":\"Selection\"},{\"attributes\":{\"months\":[0,2,4,6,8,10]},\"id\":\"2701\",\"type\":\"MonthsTicker\"},{\"attributes\":{\"axis_label\":\"Date\",\"formatter\":{\"id\":\"2708\"},\"ticker\":{\"id\":\"2649\"}},\"id\":\"2648\",\"type\":\"DatetimeAxis\"},{\"attributes\":{\"line_alpha\":0.1,\"line_color\":\"gray\",\"line_dash\":[6],\"x\":{\"field\":\"x\"},\"y\":{\"field\":\"y\"}},\"id\":\"2683\",\"type\":\"Line\"},{\"attributes\":{\"months\":[0,1,2,3,4,5,6,7,8,9,10,11]},\"id\":\"2700\",\"type\":\"MonthsTicker\"},{\"attributes\":{\"axis_label\":\"# of Cases & Deaths\",\"formatter\":{\"id\":\"2687\"},\"ticker\":{\"id\":\"2653\"}},\"id\":\"2652\",\"type\":\"LinearAxis\"},{\"attributes\":{},\"id\":\"2691\",\"type\":\"Selection\"},{\"attributes\":{\"overlay\":{\"id\":\"2660\"}},\"id\":\"2658\",\"type\":\"BoxZoomTool\"},{\"attributes\":{\"base\":24,\"mantissas\":[1,2,4,6,8,12],\"max_interval\":43200000.0,\"min_interval\":3600000.0,\"num_minor_ticks\":0},\"id\":\"2695\",\"type\":\"AdaptiveTicker\"},{\"attributes\":{\"text\":\"Michigan Cases\"},\"id\":\"2638\",\"type\":\"Title\"},{\"attributes\":{\"data_source\":{\"id\":\"2666\"},\"glyph\":{\"id\":\"2677\"},\"hover_glyph\":null,\"muted_glyph\":null,\"name\":\"cases\",\"nonselection_glyph\":{\"id\":\"2678\"},\"selection_glyph\":null,\"view\":{\"id\":\"2680\"}},\"id\":\"2679\",\"type\":\"GlyphRenderer\"},{\"attributes\":{},\"id\":\"2659\",\"type\":\"ResetTool\"},{\"attributes\":{\"fill_color\":\"lightblue\",\"x\":{\"field\":\"x\"},\"y1\":{\"expr\":{\"id\":\"2669\"}},\"y2\":{\"expr\":{\"id\":\"2670\"}}},\"id\":\"2677\",\"type\":\"VArea\"},{\"attributes\":{\"axis\":{\"id\":\"2648\"},\"ticker\":null},\"id\":\"2651\",\"type\":\"Grid\"},{\"attributes\":{\"data_source\":{\"id\":\"2681\"},\"glyph\":{\"id\":\"2682\"},\"hover_glyph\":null,\"muted_glyph\":null,\"nonselection_glyph\":{\"id\":\"2683\"},\"selection_glyph\":null,\"view\":{\"id\":\"2685\"}},\"id\":\"2684\",\"type\":\"GlyphRenderer\"},{\"attributes\":{\"label\":{\"value\":\"Projected # of Cases\"},\"renderers\":[{\"id\":\"2684\"}]},\"id\":\"2707\",\"type\":\"LegendItem\"},{\"attributes\":{},\"id\":\"2843\",\"type\":\"UnionRenderers\"},{\"attributes\":{\"items\":[{\"id\":\"2707\"}],\"location\":\"top_left\"},\"id\":\"2706\",\"type\":\"Legend\"},{\"attributes\":{},\"id\":\"2653\",\"type\":\"BasicTicker\"},{\"attributes\":{\"fill_alpha\":0.1,\"fill_color\":\"red\",\"x\":{\"field\":\"x\"},\"y1\":{\"expr\":{\"id\":\"2667\"}},\"y2\":{\"expr\":{\"id\":\"2668\"}}},\"id\":\"2673\",\"type\":\"VArea\"},{\"attributes\":{\"mantissas\":[1,2,5],\"max_interval\":500.0,\"num_minor_ticks\":0},\"id\":\"2693\",\"type\":\"AdaptiveTicker\"},{\"attributes\":{\"base\":60,\"mantissas\":[1,2,5,10,15,20,30],\"max_interval\":1800000.0,\"min_interval\":1000.0,\"num_minor_ticks\":0},\"id\":\"2694\",\"type\":\"AdaptiveTicker\"},{\"attributes\":{\"months\":[0,6]},\"id\":\"2703\",\"type\":\"MonthsTicker\"},{\"attributes\":{},\"id\":\"2644\",\"type\":\"LinearScale\"},{\"attributes\":{\"fill_color\":\"red\",\"x\":{\"field\":\"x\"},\"y1\":{\"expr\":{\"id\":\"2667\"}},\"y2\":{\"expr\":{\"id\":\"2668\"}}},\"id\":\"2672\",\"type\":\"VArea\"},{\"attributes\":{\"data_source\":{\"id\":\"2666\"},\"glyph\":{\"id\":\"2672\"},\"hover_glyph\":null,\"muted_glyph\":null,\"name\":\"deaths\",\"nonselection_glyph\":{\"id\":\"2673\"},\"selection_glyph\":null,\"view\":{\"id\":\"2675\"}},\"id\":\"2674\",\"type\":\"GlyphRenderer\"},{\"attributes\":{\"days\":[1,2,3,4,5,6,7,8,9,10,11,12,13,14,15,16,17,18,19,20,21,22,23,24,25,26,27,28,29,30,31]},\"id\":\"2696\",\"type\":\"DaysTicker\"},{\"attributes\":{},\"id\":\"2646\",\"type\":\"LinearScale\"},{\"attributes\":{\"fields\":[\"deaths\",\"cases\"]},\"id\":\"2670\",\"type\":\"Stack\"},{\"attributes\":{\"num_minor_ticks\":5,\"tickers\":[{\"id\":\"2693\"},{\"id\":\"2694\"},{\"id\":\"2695\"},{\"id\":\"2696\"},{\"id\":\"2697\"},{\"id\":\"2698\"},{\"id\":\"2699\"},{\"id\":\"2700\"},{\"id\":\"2701\"},{\"id\":\"2702\"},{\"id\":\"2703\"},{\"id\":\"2704\"}]},\"id\":\"2649\",\"type\":\"DatetimeTicker\"},{\"attributes\":{\"fields\":[\"deaths\"]},\"id\":\"2669\",\"type\":\"Stack\"},{\"attributes\":{\"fields\":[]},\"id\":\"2667\",\"type\":\"Stack\"},{\"attributes\":{},\"id\":\"2692\",\"type\":\"UnionRenderers\"},{\"attributes\":{\"axis\":{\"id\":\"2652\"},\"dimension\":1,\"ticker\":null},\"id\":\"2655\",\"type\":\"Grid\"},{\"attributes\":{\"days\":[1,4,7,10,13,16,19,22,25,28]},\"id\":\"2697\",\"type\":\"DaysTicker\"},{\"attributes\":{\"data\":{\"x\":[1583798400000.0,1583884800000.0,1583971200000.0,1584057600000.0,1584144000000.0,1584230400000.0,1584316800000.0,1584403200000.0,1584489600000.0,1584576000000.0,1584662400000.0,1584748800000.0,1584835200000.0,1584921600000.0,1585008000000.0,1585094400000.0,1585180800000.0,1585267200000.0,1585353600000.0,1585440000000.0,1585526400000.0,1585612800000.0,1585699200000.0,1585785600000.0,1585872000000.0,1585958400000.0,1586044800000.0,1586131200000.0,1586217600000.0,1586304000000.0,1586390400000.0,1586476800000.0,1586563200000.0,1586649600000.0,1586736000000.0,1586822400000.0,1586908800000.0,1586995200000.0,1587081600000.0,1587168000000.0,1587254400000.0,1587340800000.0,1587427200000.0,1587513600000.0,1587600000000.0,1587686400000.0,1587772800000.0,1587859200000.0,1587945600000.0,1588032000000.0,1588118400000.0,1588204800000.0,1588291200000.0,1588377600000.0,1588464000000.0,1588550400000.0,1588636800000.0,1588723200000.0,1588809600000.0,1588896000000.0,1588982400000.0,1589068800000.0,1589155200000.0,1589241600000.0,1589328000000.0,1589414400000.0,1589500800000.0,1589587200000.0,1589673600000.0],\"y\":[4915.703850303911,5128.880262406997,5351.301369483792,5583.368080735804,5825.498691356002,6078.129636496791,6341.7162779348655,6616.7337248508975,6903.677690203488,7203.065384240977,7515.436446761657,7841.353919802747,8181.405262511416,8536.203410027088,8906.387878283695,9292.625916723204,9695.613710998225,10116.07763783147,10554.775574293986,11012.498263862066,11490.07074171515,11988.353821843755,12508.24564864796,13050.683315823118,13616.644555450843,14207.149500339776,14823.262522792775,15466.094153114793,16136.803081319587,16836.598245643218,17566.741011628892,18328.54744571089,19123.390687395655,19952.703424315827,20817.98047461853,21720.7814813425,22662.733723640715,23645.535049915616,24670.956938153886,25740.847688976926,26857.135757162494,28021.83322764242,29237.039442241887,30504.944783697345,31827.83462377372,33208.09344259719,34648.20912662872,36150.77745302524,37718.506768471416,39354.22287091553,41060.87410300885,42841.53666642888,44699.42016666609,46637.873398267715,48660.39038096714,50770.616657578335,52972.3558650073,55269.5765902249,57666.41952355834,60167.204922195284,62776.44039735347,65498.829039151686,68339.27789382718,71302.9068085799,74395.05765998522,77621.30398261047,80987.46101518943,84499.59618246343,88164.04003158252]},\"selected\":{\"id\":\"2842\"},\"selection_policy\":{\"id\":\"2843\"}},\"id\":\"2681\",\"type\":\"ColumnDataSource\"},{\"attributes\":{\"line_alpha\":0.75,\"line_color\":\"gray\",\"line_dash\":[6],\"x\":{\"field\":\"x\"},\"y\":{\"field\":\"y\"}},\"id\":\"2682\",\"type\":\"Line\"},{\"attributes\":{\"end\":1588982400000.0,\"start\":1583798400000.0},\"id\":\"2640\",\"type\":\"Range1d\"},{\"attributes\":{\"days\":[1,8,15,22]},\"id\":\"2698\",\"type\":\"DaysTicker\"},{\"attributes\":{\"active_drag\":\"auto\",\"active_inspect\":\"auto\",\"active_multi\":null,\"active_scroll\":\"auto\",\"active_tap\":\"auto\",\"tools\":[{\"id\":\"2656\"},{\"id\":\"2657\"},{\"id\":\"2658\"},{\"id\":\"2659\"}]},\"id\":\"2661\",\"type\":\"Toolbar\"},{\"attributes\":{},\"id\":\"2687\",\"type\":\"BasicTickFormatter\"},{\"attributes\":{},\"id\":\"2704\",\"type\":\"YearsTicker\"},{\"attributes\":{},\"id\":\"2656\",\"type\":\"PanTool\"},{\"attributes\":{\"bottom_units\":\"screen\",\"fill_alpha\":0.5,\"fill_color\":\"lightgrey\",\"left_units\":\"screen\",\"level\":\"overlay\",\"line_alpha\":1.0,\"line_color\":\"black\",\"line_dash\":[4,4],\"line_width\":2,\"render_mode\":\"css\",\"right_units\":\"screen\",\"top_units\":\"screen\"},\"id\":\"2660\",\"type\":\"BoxAnnotation\"},{\"attributes\":{},\"id\":\"2657\",\"type\":\"WheelZoomTool\"}],\"root_ids\":[\"2637\"]},\"title\":\"Bokeh Application\",\"version\":\"2.0.2\"}};\n",
       "  var render_items = [{\"docid\":\"a88941a8-b654-464e-af5f-b839c43f46a5\",\"root_ids\":[\"2637\"],\"roots\":{\"2637\":\"76d3786d-8b94-49a9-8d31-f81dc3d4b100\"}}];\n",
       "  root.Bokeh.embed.embed_items_notebook(docs_json, render_items);\n",
       "\n",
       "  }\n",
       "  if (root.Bokeh !== undefined) {\n",
       "    embed_document(root);\n",
       "  } else {\n",
       "    var attempts = 0;\n",
       "    var timer = setInterval(function(root) {\n",
       "      if (root.Bokeh !== undefined) {\n",
       "        clearInterval(timer);\n",
       "        embed_document(root);\n",
       "      } else {\n",
       "        attempts++;\n",
       "        if (attempts > 100) {\n",
       "          clearInterval(timer);\n",
       "          console.log(\"Bokeh: ERROR: Unable to run BokehJS code because BokehJS library is missing\");\n",
       "        }\n",
       "      }\n",
       "    }, 10, root)\n",
       "  }\n",
       "})(window);"
      ],
      "application/vnd.bokehjs_exec.v0+json": ""
     },
     "metadata": {
      "application/vnd.bokehjs_exec.v0+json": {
       "id": "2637"
      }
     },
     "output_type": "display_data"
    }
   ],
   "source": [
    "plot_state_curve(df, \"Michigan\")"
   ]
  },
  {
   "cell_type": "code",
   "execution_count": 10,
   "metadata": {},
   "outputs": [
    {
     "name": "stdout",
     "output_type": "stream",
     "text": [
      "y ≈ exp(-1.0026248940856124) * exp(0.13128616248284541 * x)\n",
      "y = 0.36691506285128683 * exp(0.13128616248284541 * x)\n"
     ]
    },
    {
     "data": {
      "text/html": [
       "\n",
       "\n",
       "\n",
       "\n",
       "\n",
       "\n",
       "  <div class=\"bk-root\" id=\"5c3bff10-90fb-435b-853f-037a0b9d1ac5\" data-root-id=\"2983\"></div>\n"
      ]
     },
     "metadata": {},
     "output_type": "display_data"
    },
    {
     "data": {
      "application/javascript": [
       "(function(root) {\n",
       "  function embed_document(root) {\n",
       "    \n",
       "  var docs_json = {\"cc5aa996-663c-4ffe-a7d9-f886e78a941d\":{\"roots\":{\"references\":[{\"attributes\":{\"below\":[{\"id\":\"2994\"}],\"center\":[{\"id\":\"2997\"},{\"id\":\"3001\"},{\"id\":\"3052\"}],\"left\":[{\"id\":\"2998\"}],\"plot_width\":880,\"renderers\":[{\"id\":\"3020\"},{\"id\":\"3025\"},{\"id\":\"3030\"}],\"title\":{\"id\":\"2984\"},\"toolbar\":{\"id\":\"3007\"},\"x_range\":{\"id\":\"2986\"},\"x_scale\":{\"id\":\"2990\"},\"y_range\":{\"id\":\"2988\"},\"y_scale\":{\"id\":\"2992\"}},\"id\":\"2983\",\"subtype\":\"Figure\",\"type\":\"Plot\"},{\"attributes\":{},\"id\":\"2999\",\"type\":\"BasicTicker\"},{\"attributes\":{},\"id\":\"3002\",\"type\":\"PanTool\"},{\"attributes\":{\"axis\":{\"id\":\"2994\"},\"ticker\":null},\"id\":\"2997\",\"type\":\"Grid\"},{\"attributes\":{\"items\":[{\"id\":\"3053\"}],\"location\":\"top_left\"},\"id\":\"3052\",\"type\":\"Legend\"},{\"attributes\":{\"text\":\"Texas Cases for counties Frio\"},\"id\":\"2984\",\"type\":\"Title\"},{\"attributes\":{\"active_drag\":\"auto\",\"active_inspect\":\"auto\",\"active_multi\":null,\"active_scroll\":\"auto\",\"active_tap\":\"auto\",\"tools\":[{\"id\":\"3002\"},{\"id\":\"3003\"},{\"id\":\"3004\"},{\"id\":\"3005\"}]},\"id\":\"3007\",\"type\":\"Toolbar\"},{\"attributes\":{},\"id\":\"2990\",\"type\":\"LinearScale\"},{\"attributes\":{\"num_minor_ticks\":5,\"tickers\":[{\"id\":\"3039\"},{\"id\":\"3040\"},{\"id\":\"3041\"},{\"id\":\"3042\"},{\"id\":\"3043\"},{\"id\":\"3044\"},{\"id\":\"3045\"},{\"id\":\"3046\"},{\"id\":\"3047\"},{\"id\":\"3048\"},{\"id\":\"3049\"},{\"id\":\"3050\"}]},\"id\":\"2995\",\"type\":\"DatetimeTicker\"},{\"attributes\":{},\"id\":\"3005\",\"type\":\"ResetTool\"},{\"attributes\":{\"end\":30},\"id\":\"2988\",\"type\":\"Range1d\"},{\"attributes\":{\"line_alpha\":0.75,\"line_color\":\"gray\",\"line_dash\":[6],\"x\":{\"field\":\"x\"},\"y\":{\"field\":\"y\"}},\"id\":\"3028\",\"type\":\"Line\"},{\"attributes\":{\"bottom_units\":\"screen\",\"fill_alpha\":0.5,\"fill_color\":\"lightgrey\",\"left_units\":\"screen\",\"level\":\"overlay\",\"line_alpha\":1.0,\"line_color\":\"black\",\"line_dash\":[4,4],\"line_width\":2,\"render_mode\":\"css\",\"right_units\":\"screen\",\"top_units\":\"screen\"},\"id\":\"3006\",\"type\":\"BoxAnnotation\"},{\"attributes\":{\"source\":{\"id\":\"3027\"}},\"id\":\"3031\",\"type\":\"CDSView\"},{\"attributes\":{\"axis_label\":\"# of Cases & Deaths\",\"formatter\":{\"id\":\"3033\"},\"ticker\":{\"id\":\"2999\"}},\"id\":\"2998\",\"type\":\"LinearAxis\"},{\"attributes\":{\"days\":[1,15]},\"id\":\"3045\",\"type\":\"DaysTicker\"},{\"attributes\":{\"months\":[0,1,2,3,4,5,6,7,8,9,10,11]},\"id\":\"3046\",\"type\":\"MonthsTicker\"},{\"attributes\":{\"data_source\":{\"id\":\"3012\"},\"glyph\":{\"id\":\"3018\"},\"hover_glyph\":null,\"muted_glyph\":null,\"name\":\"deaths\",\"nonselection_glyph\":{\"id\":\"3019\"},\"selection_glyph\":null,\"view\":{\"id\":\"3021\"}},\"id\":\"3020\",\"type\":\"GlyphRenderer\"},{\"attributes\":{\"data_source\":{\"id\":\"3027\"},\"glyph\":{\"id\":\"3028\"},\"hover_glyph\":null,\"muted_glyph\":null,\"nonselection_glyph\":{\"id\":\"3029\"},\"selection_glyph\":null,\"view\":{\"id\":\"3031\"}},\"id\":\"3030\",\"type\":\"GlyphRenderer\"},{\"attributes\":{\"days\":[1,2,3,4,5,6,7,8,9,10,11,12,13,14,15,16,17,18,19,20,21,22,23,24,25,26,27,28,29,30,31]},\"id\":\"3042\",\"type\":\"DaysTicker\"},{\"attributes\":{\"data\":{\"cases\":[1,1,1,1,1,1,1,1,1,1,1,1,1,1,1,1,1,3,3,3,4,7,7,7,8,10,10,10,10,25],\"deaths\":[0,0,0,0,0,0,0,0,0,0,0,0,0,0,0,0,0,0,0,0,0,0,0,0,0,0,0,0,0,0],\"x\":{\"__ndarray__\":\"AAAAYnEVd0IAAMDHwxV3QgAAgC0WFndCAABAk2gWd0IAAAD5uhZ3QgAAwF4NF3dCAACAxF8Xd0IAAEAqshd3QgAAAJAEGHdCAADA9VYYd0IAAIBbqRh3QgAAQMH7GHdCAAAAJ04Zd0IAAMCMoBl3QgAAgPLyGXdCAABAWEUad0IAAAC+lxp3QgAAwCPqGndCAACAiTwbd0IAAEDvjht3QgAAAFXhG3dCAADAujMcd0IAAIAghhx3QgAAQIbYHHdCAAAA7Codd0IAAMBRfR13QgAAgLfPHXdCAABAHSIed0IAAACDdB53QgAAwOjGHndC\",\"dtype\":\"float64\",\"shape\":[30]}},\"selected\":{\"id\":\"3037\"},\"selection_policy\":{\"id\":\"3038\"}},\"id\":\"3012\",\"type\":\"ColumnDataSource\"},{\"attributes\":{\"days\":[1,4,7,10,13,16,19,22,25,28]},\"id\":\"3043\",\"type\":\"DaysTicker\"},{\"attributes\":{\"days\":[1,8,15,22]},\"id\":\"3044\",\"type\":\"DaysTicker\"},{\"attributes\":{\"data\":{\"x\":[1586304000000.0,1586390400000.0,1586476800000.0,1586563200000.0,1586649600000.0,1586736000000.0,1586822400000.0,1586908800000.0,1586995200000.0,1587081600000.0,1587168000000.0,1587254400000.0,1587340800000.0,1587427200000.0,1587513600000.0,1587600000000.0,1587686400000.0,1587772800000.0,1587859200000.0,1587945600000.0,1588032000000.0,1588118400000.0,1588204800000.0,1588291200000.0,1588377600000.0,1588464000000.0,1588550400000.0,1588636800000.0,1588723200000.0,1588809600000.0,1588896000000.0,1588982400000.0,1589068800000.0,1589155200000.0,1589241600000.0,1589328000000.0,1589414400000.0,1589500800000.0,1589587200000.0,1589673600000.0],\"y\":[0.36691506285128683,0.41839106082412486,0.4770888347216367,0.5440215566931748,0.6203445409061948,0.7073751852247985,0.806615710587002,0.9197790905812014,1.0488186187877788,1.1959616242426314,1.3637479169794269,1.5550736272524546,1.7732411951413354,2.0220163733995373,2.3056932274630246,2.6291682545729858,2.998024901370021,3.4186299388034125,3.898243357866159,4.445143683047083,5.068770866513917,5.7798892294992035,6.590773263392133,7.515419497616964,8.569788091312873,9.772078318887608,11.14304270455349,12.706345228067843,14.48896978460533,16.521685949117618,18.839580084658596,21.48266096204429,24.496550344344083,27.933270456262914,31.85214193078755,36.320807732399324,41.41640073061483,47.22687507714082,53.852524367313755,61.407712790547286]},\"selected\":{\"id\":\"3209\"},\"selection_policy\":{\"id\":\"3210\"}},\"id\":\"3027\",\"type\":\"ColumnDataSource\"},{\"attributes\":{},\"id\":\"3038\",\"type\":\"UnionRenderers\"},{\"attributes\":{\"axis_label\":\"Date\",\"formatter\":{\"id\":\"3054\"},\"ticker\":{\"id\":\"2995\"}},\"id\":\"2994\",\"type\":\"DatetimeAxis\"},{\"attributes\":{},\"id\":\"3209\",\"type\":\"Selection\"},{\"attributes\":{},\"id\":\"3033\",\"type\":\"BasicTickFormatter\"},{\"attributes\":{\"fields\":[]},\"id\":\"3013\",\"type\":\"Stack\"},{\"attributes\":{\"line_alpha\":0.1,\"line_color\":\"gray\",\"line_dash\":[6],\"x\":{\"field\":\"x\"},\"y\":{\"field\":\"y\"}},\"id\":\"3029\",\"type\":\"Line\"},{\"attributes\":{\"base\":60,\"mantissas\":[1,2,5,10,15,20,30],\"max_interval\":1800000.0,\"min_interval\":1000.0,\"num_minor_ticks\":0},\"id\":\"3040\",\"type\":\"AdaptiveTicker\"},{\"attributes\":{},\"id\":\"3050\",\"type\":\"YearsTicker\"},{\"attributes\":{\"overlay\":{\"id\":\"3006\"}},\"id\":\"3004\",\"type\":\"BoxZoomTool\"},{\"attributes\":{\"fields\":[\"deaths\",\"cases\"]},\"id\":\"3016\",\"type\":\"Stack\"},{\"attributes\":{\"mantissas\":[1,2,5],\"max_interval\":500.0,\"num_minor_ticks\":0},\"id\":\"3039\",\"type\":\"AdaptiveTicker\"},{\"attributes\":{\"fill_alpha\":0.1,\"fill_color\":\"red\",\"x\":{\"field\":\"x\"},\"y1\":{\"expr\":{\"id\":\"3013\"}},\"y2\":{\"expr\":{\"id\":\"3014\"}}},\"id\":\"3019\",\"type\":\"VArea\"},{\"attributes\":{\"axis\":{\"id\":\"2998\"},\"dimension\":1,\"ticker\":null},\"id\":\"3001\",\"type\":\"Grid\"},{\"attributes\":{\"months\":[0,2,4,6,8,10]},\"id\":\"3047\",\"type\":\"MonthsTicker\"},{\"attributes\":{\"data_source\":{\"id\":\"3012\"},\"glyph\":{\"id\":\"3023\"},\"hover_glyph\":null,\"muted_glyph\":null,\"name\":\"cases\",\"nonselection_glyph\":{\"id\":\"3024\"},\"selection_glyph\":null,\"view\":{\"id\":\"3026\"}},\"id\":\"3025\",\"type\":\"GlyphRenderer\"},{\"attributes\":{},\"id\":\"2992\",\"type\":\"LinearScale\"},{\"attributes\":{\"label\":{\"value\":\"Projected # of Cases\"},\"renderers\":[{\"id\":\"3030\"}]},\"id\":\"3053\",\"type\":\"LegendItem\"},{\"attributes\":{\"fill_color\":\"red\",\"x\":{\"field\":\"x\"},\"y1\":{\"expr\":{\"id\":\"3013\"}},\"y2\":{\"expr\":{\"id\":\"3014\"}}},\"id\":\"3018\",\"type\":\"VArea\"},{\"attributes\":{\"fill_color\":\"lightblue\",\"x\":{\"field\":\"x\"},\"y1\":{\"expr\":{\"id\":\"3015\"}},\"y2\":{\"expr\":{\"id\":\"3016\"}}},\"id\":\"3023\",\"type\":\"VArea\"},{\"attributes\":{\"source\":{\"id\":\"3012\"}},\"id\":\"3021\",\"type\":\"CDSView\"},{\"attributes\":{\"fields\":[\"deaths\"]},\"id\":\"3015\",\"type\":\"Stack\"},{\"attributes\":{},\"id\":\"3210\",\"type\":\"UnionRenderers\"},{\"attributes\":{\"fill_alpha\":0.1,\"fill_color\":\"lightblue\",\"x\":{\"field\":\"x\"},\"y1\":{\"expr\":{\"id\":\"3015\"}},\"y2\":{\"expr\":{\"id\":\"3016\"}}},\"id\":\"3024\",\"type\":\"VArea\"},{\"attributes\":{},\"id\":\"3037\",\"type\":\"Selection\"},{\"attributes\":{},\"id\":\"3003\",\"type\":\"WheelZoomTool\"},{\"attributes\":{\"fields\":[\"deaths\"]},\"id\":\"3014\",\"type\":\"Stack\"},{\"attributes\":{\"months\":[0,6]},\"id\":\"3049\",\"type\":\"MonthsTicker\"},{\"attributes\":{\"months\":[0,4,8]},\"id\":\"3048\",\"type\":\"MonthsTicker\"},{\"attributes\":{\"end\":1588982400000.0,\"start\":1586304000000.0},\"id\":\"2986\",\"type\":\"Range1d\"},{\"attributes\":{\"base\":24,\"mantissas\":[1,2,4,6,8,12],\"max_interval\":43200000.0,\"min_interval\":3600000.0,\"num_minor_ticks\":0},\"id\":\"3041\",\"type\":\"AdaptiveTicker\"},{\"attributes\":{\"code\":\"\\n        let date = new Date(tick);\\n        return `${date.getDate()}-${date.getMonth()}-${date.getFullYear()}`\\n    \"},\"id\":\"3054\",\"type\":\"FuncTickFormatter\"},{\"attributes\":{\"source\":{\"id\":\"3012\"}},\"id\":\"3026\",\"type\":\"CDSView\"}],\"root_ids\":[\"2983\"]},\"title\":\"Bokeh Application\",\"version\":\"2.0.2\"}};\n",
       "  var render_items = [{\"docid\":\"cc5aa996-663c-4ffe-a7d9-f886e78a941d\",\"root_ids\":[\"2983\"],\"roots\":{\"2983\":\"5c3bff10-90fb-435b-853f-037a0b9d1ac5\"}}];\n",
       "  root.Bokeh.embed.embed_items_notebook(docs_json, render_items);\n",
       "\n",
       "  }\n",
       "  if (root.Bokeh !== undefined) {\n",
       "    embed_document(root);\n",
       "  } else {\n",
       "    var attempts = 0;\n",
       "    var timer = setInterval(function(root) {\n",
       "      if (root.Bokeh !== undefined) {\n",
       "        clearInterval(timer);\n",
       "        embed_document(root);\n",
       "      } else {\n",
       "        attempts++;\n",
       "        if (attempts > 100) {\n",
       "          clearInterval(timer);\n",
       "          console.log(\"Bokeh: ERROR: Unable to run BokehJS code because BokehJS library is missing\");\n",
       "        }\n",
       "      }\n",
       "    }, 10, root)\n",
       "  }\n",
       "})(window);"
      ],
      "application/vnd.bokehjs_exec.v0+json": ""
     },
     "metadata": {
      "application/vnd.bokehjs_exec.v0+json": {
       "id": "2983"
      }
     },
     "output_type": "display_data"
    }
   ],
   "source": [
    "plot_state_counties_curve(df, \"Texas\", ['Frio'])"
   ]
  },
  {
   "cell_type": "code",
   "execution_count": 11,
   "metadata": {},
   "outputs": [
    {
     "name": "stdout",
     "output_type": "stream",
     "text": [
      "y ≈ exp(3.311904311233799) * exp(0.05540840757772734 * x)\n",
      "y = 27.437324960239685 * exp(0.05540840757772734 * x)\n"
     ]
    },
    {
     "data": {
      "text/html": [
       "\n",
       "\n",
       "\n",
       "\n",
       "\n",
       "\n",
       "  <div class=\"bk-root\" id=\"a3b09c74-fa21-4fd2-a400-34acd42cafd2\" data-root-id=\"3350\"></div>\n"
      ]
     },
     "metadata": {},
     "output_type": "display_data"
    },
    {
     "data": {
      "application/javascript": [
       "(function(root) {\n",
       "  function embed_document(root) {\n",
       "    \n",
       "  var docs_json = {\"77f55b8a-9b1a-4ffe-be0b-d478705ed653\":{\"roots\":{\"references\":[{\"attributes\":{\"below\":[{\"id\":\"3361\"}],\"center\":[{\"id\":\"3364\"},{\"id\":\"3368\"},{\"id\":\"3419\"}],\"left\":[{\"id\":\"3365\"}],\"plot_width\":880,\"renderers\":[{\"id\":\"3387\"},{\"id\":\"3392\"},{\"id\":\"3397\"}],\"title\":{\"id\":\"3351\"},\"toolbar\":{\"id\":\"3374\"},\"x_range\":{\"id\":\"3353\"},\"x_scale\":{\"id\":\"3357\"},\"y_range\":{\"id\":\"3355\"},\"y_scale\":{\"id\":\"3359\"}},\"id\":\"3350\",\"subtype\":\"Figure\",\"type\":\"Plot\"},{\"attributes\":{},\"id\":\"3370\",\"type\":\"WheelZoomTool\"},{\"attributes\":{\"fields\":[]},\"id\":\"3380\",\"type\":\"Stack\"},{\"attributes\":{},\"id\":\"3597\",\"type\":\"Selection\"},{\"attributes\":{\"overlay\":{\"id\":\"3373\"}},\"id\":\"3371\",\"type\":\"BoxZoomTool\"},{\"attributes\":{\"line_alpha\":0.1,\"line_color\":\"gray\",\"line_dash\":[6],\"x\":{\"field\":\"x\"},\"y\":{\"field\":\"y\"}},\"id\":\"3396\",\"type\":\"Line\"},{\"attributes\":{},\"id\":\"3372\",\"type\":\"ResetTool\"},{\"attributes\":{\"days\":[1,8,15,22]},\"id\":\"3411\",\"type\":\"DaysTicker\"},{\"attributes\":{\"line_alpha\":0.75,\"line_color\":\"gray\",\"line_dash\":[6],\"x\":{\"field\":\"x\"},\"y\":{\"field\":\"y\"}},\"id\":\"3395\",\"type\":\"Line\"},{\"attributes\":{\"fields\":[\"deaths\"]},\"id\":\"3381\",\"type\":\"Stack\"},{\"attributes\":{\"days\":[1,15]},\"id\":\"3412\",\"type\":\"DaysTicker\"},{\"attributes\":{\"label\":{\"value\":\"Projected # of Cases\"},\"renderers\":[{\"id\":\"3397\"}]},\"id\":\"3420\",\"type\":\"LegendItem\"},{\"attributes\":{\"months\":[0,1,2,3,4,5,6,7,8,9,10,11]},\"id\":\"3413\",\"type\":\"MonthsTicker\"},{\"attributes\":{\"axis\":{\"id\":\"3365\"},\"dimension\":1,\"ticker\":null},\"id\":\"3368\",\"type\":\"Grid\"},{\"attributes\":{},\"id\":\"3400\",\"type\":\"BasicTickFormatter\"},{\"attributes\":{\"months\":[0,2,4,6,8,10]},\"id\":\"3414\",\"type\":\"MonthsTicker\"},{\"attributes\":{\"fill_color\":\"lightblue\",\"x\":{\"field\":\"x\"},\"y1\":{\"expr\":{\"id\":\"3382\"}},\"y2\":{\"expr\":{\"id\":\"3383\"}}},\"id\":\"3390\",\"type\":\"VArea\"},{\"attributes\":{\"source\":{\"id\":\"3394\"}},\"id\":\"3398\",\"type\":\"CDSView\"},{\"attributes\":{\"items\":[{\"id\":\"3420\"}],\"location\":\"top_left\"},\"id\":\"3419\",\"type\":\"Legend\"},{\"attributes\":{\"num_minor_ticks\":5,\"tickers\":[{\"id\":\"3406\"},{\"id\":\"3407\"},{\"id\":\"3408\"},{\"id\":\"3409\"},{\"id\":\"3410\"},{\"id\":\"3411\"},{\"id\":\"3412\"},{\"id\":\"3413\"},{\"id\":\"3414\"},{\"id\":\"3415\"},{\"id\":\"3416\"},{\"id\":\"3417\"}]},\"id\":\"3362\",\"type\":\"DatetimeTicker\"},{\"attributes\":{\"months\":[0,4,8]},\"id\":\"3415\",\"type\":\"MonthsTicker\"},{\"attributes\":{\"axis\":{\"id\":\"3361\"},\"ticker\":null},\"id\":\"3364\",\"type\":\"Grid\"},{\"attributes\":{\"data_source\":{\"id\":\"3394\"},\"glyph\":{\"id\":\"3395\"},\"hover_glyph\":null,\"muted_glyph\":null,\"nonselection_glyph\":{\"id\":\"3396\"},\"selection_glyph\":null,\"view\":{\"id\":\"3398\"}},\"id\":\"3397\",\"type\":\"GlyphRenderer\"},{\"attributes\":{},\"id\":\"3404\",\"type\":\"Selection\"},{\"attributes\":{},\"id\":\"3598\",\"type\":\"UnionRenderers\"},{\"attributes\":{\"axis_label\":\"Date\",\"formatter\":{\"id\":\"3421\"},\"ticker\":{\"id\":\"3362\"}},\"id\":\"3361\",\"type\":\"DatetimeAxis\"},{\"attributes\":{\"code\":\"\\n        let date = new Date(tick);\\n        return `${date.getDate()}-${date.getMonth()}-${date.getFullYear()}`\\n    \"},\"id\":\"3421\",\"type\":\"FuncTickFormatter\"},{\"attributes\":{\"months\":[0,6]},\"id\":\"3416\",\"type\":\"MonthsTicker\"},{\"attributes\":{},\"id\":\"3417\",\"type\":\"YearsTicker\"},{\"attributes\":{\"data\":{\"cases\":[1,2,2,2,2,2,2,2,2,4,4,4,10,10,10,10,11,11,11,11,11,11,11,11,11,11,11,11,11,11,11,12,12,13,13,15,20,43,53,53,53,77,91,119,155,175,194,217,275,318,357,467,526,571,646,710,734,861,943,998,1017,1071,1109,1216,1224,1305,1342,1364,1392,1449,1505,1574,1602,1667,1693,1734,1769,1810,1872,2007,2118,2169,2214,2251,2332,2400],\"deaths\":[0,0,0,0,0,0,0,0,0,0,0,0,0,0,0,0,0,0,0,0,0,0,0,0,0,0,0,0,0,0,0,0,0,0,0,0,0,0,0,1,1,1,1,4,6,6,6,7,11,11,11,12,13,13,14,20,21,27,29,29,32,34,41,46,47,47,49,51,51,53,54,59,59,61,61,62,65,67,70,70,72,72,72,76,78,79],\"x\":{\"__ndarray__\":\"AAAAIGsDd0IAAMCFvQN3QgAAgOsPBHdCAABAUWIEd0IAAAC3tAR3QgAAwBwHBXdCAACAglkFd0IAAEDoqwV3QgAAAE7+BXdCAADAs1AGd0IAAIAZowZ3QgAAQH/1BndCAAAA5UcHd0IAAMBKmgd3QgAAgLDsB3dCAABAFj8Id0IAAAB8kQh3QgAAwOHjCHdCAACARzYJd0IAAECtiAl3QgAAABPbCXdCAADAeC0Kd0IAAIDefwp3QgAAQETSCndCAAAAqiQLd0IAAMAPdwt3QgAAgHXJC3dCAABA2xsMd0IAAABBbgx3QgAAwKbADHdCAACADBMNd0IAAEByZQ13QgAAANi3DXdCAADAPQoOd0IAAICjXA53QgAAQAmvDndCAAAAbwEPd0IAAMDUUw93QgAAgDqmD3dCAABAoPgPd0IAAAAGSxB3QgAAwGudEHdCAACA0e8Qd0IAAEA3QhF3QgAAAJ2UEXdCAADAAucRd0IAAIBoORJ3QgAAQM6LEndCAAAANN4Sd0IAAMCZMBN3QgAAgP+CE3dCAABAZdUTd0IAAADLJxR3QgAAwDB6FHdCAACAlswUd0IAAED8HhV3QgAAAGJxFXdCAADAx8MVd0IAAIAtFhZ3QgAAQJNoFndCAAAA+boWd0IAAMBeDRd3QgAAgMRfF3dCAABAKrIXd0IAAACQBBh3QgAAwPVWGHdCAACAW6kYd0IAAEDB+xh3QgAAACdOGXdCAADAjKAZd0IAAIDy8hl3QgAAQFhFGndCAAAAvpcad0IAAMAj6hp3QgAAgIk8G3dCAABA744bd0IAAABV4Rt3QgAAwLozHHdCAACAIIYcd0IAAECG2Bx3QgAAAOwqHXdCAADAUX0dd0IAAIC3zx13QgAAQB0iHndCAAAAg3Qed0IAAMDoxh53Qg==\",\"dtype\":\"float64\",\"shape\":[86]}},\"selected\":{\"id\":\"3404\"},\"selection_policy\":{\"id\":\"3405\"}},\"id\":\"3379\",\"type\":\"ColumnDataSource\"},{\"attributes\":{\"source\":{\"id\":\"3379\"}},\"id\":\"3393\",\"type\":\"CDSView\"},{\"attributes\":{\"fill_alpha\":0.1,\"fill_color\":\"red\",\"x\":{\"field\":\"x\"},\"y1\":{\"expr\":{\"id\":\"3380\"}},\"y2\":{\"expr\":{\"id\":\"3381\"}}},\"id\":\"3386\",\"type\":\"VArea\"},{\"attributes\":{},\"id\":\"3366\",\"type\":\"BasicTicker\"},{\"attributes\":{},\"id\":\"3405\",\"type\":\"UnionRenderers\"},{\"attributes\":{\"fill_color\":\"red\",\"x\":{\"field\":\"x\"},\"y1\":{\"expr\":{\"id\":\"3380\"}},\"y2\":{\"expr\":{\"id\":\"3381\"}}},\"id\":\"3385\",\"type\":\"VArea\"},{\"attributes\":{\"fields\":[\"deaths\",\"cases\"]},\"id\":\"3383\",\"type\":\"Stack\"},{\"attributes\":{\"data_source\":{\"id\":\"3379\"},\"glyph\":{\"id\":\"3390\"},\"hover_glyph\":null,\"muted_glyph\":null,\"name\":\"cases\",\"nonselection_glyph\":{\"id\":\"3391\"},\"selection_glyph\":null,\"view\":{\"id\":\"3393\"}},\"id\":\"3392\",\"type\":\"GlyphRenderer\"},{\"attributes\":{\"data_source\":{\"id\":\"3379\"},\"glyph\":{\"id\":\"3385\"},\"hover_glyph\":null,\"muted_glyph\":null,\"name\":\"deaths\",\"nonselection_glyph\":{\"id\":\"3386\"},\"selection_glyph\":null,\"view\":{\"id\":\"3388\"}},\"id\":\"3387\",\"type\":\"GlyphRenderer\"},{\"attributes\":{\"mantissas\":[1,2,5],\"max_interval\":500.0,\"num_minor_ticks\":0},\"id\":\"3406\",\"type\":\"AdaptiveTicker\"},{\"attributes\":{\"end\":1588982400000.0,\"start\":1581465600000.0},\"id\":\"3353\",\"type\":\"Range1d\"},{\"attributes\":{\"end\":2880},\"id\":\"3355\",\"type\":\"Range1d\"},{\"attributes\":{},\"id\":\"3359\",\"type\":\"LinearScale\"},{\"attributes\":{\"fill_alpha\":0.1,\"fill_color\":\"lightblue\",\"x\":{\"field\":\"x\"},\"y1\":{\"expr\":{\"id\":\"3382\"}},\"y2\":{\"expr\":{\"id\":\"3383\"}}},\"id\":\"3391\",\"type\":\"VArea\"},{\"attributes\":{\"fields\":[\"deaths\"]},\"id\":\"3382\",\"type\":\"Stack\"},{\"attributes\":{\"days\":[1,4,7,10,13,16,19,22,25,28]},\"id\":\"3410\",\"type\":\"DaysTicker\"},{\"attributes\":{\"bottom_units\":\"screen\",\"fill_alpha\":0.5,\"fill_color\":\"lightgrey\",\"left_units\":\"screen\",\"level\":\"overlay\",\"line_alpha\":1.0,\"line_color\":\"black\",\"line_dash\":[4,4],\"line_width\":2,\"render_mode\":\"css\",\"right_units\":\"screen\",\"top_units\":\"screen\"},\"id\":\"3373\",\"type\":\"BoxAnnotation\"},{\"attributes\":{},\"id\":\"3357\",\"type\":\"LinearScale\"},{\"attributes\":{},\"id\":\"3369\",\"type\":\"PanTool\"},{\"attributes\":{\"text\":\"Texas Cases for counties Atascosa,Bandera,Bexar,Calhoun,Comal,DeWitt,Dimmit,Edwards,Frio,Gillespie,Goliad,Gonzales,Guadalupe,Jackson,Karnes,Kendall,Kerr,Kinney,LaSalle,Lavaca,Maverick,Medina,Real,Uvalde,Val Verde,Victoria,Wilson,Zavala\"},\"id\":\"3351\",\"type\":\"Title\"},{\"attributes\":{\"active_drag\":\"auto\",\"active_inspect\":\"auto\",\"active_multi\":null,\"active_scroll\":\"auto\",\"active_tap\":\"auto\",\"tools\":[{\"id\":\"3369\"},{\"id\":\"3370\"},{\"id\":\"3371\"},{\"id\":\"3372\"}]},\"id\":\"3374\",\"type\":\"Toolbar\"},{\"attributes\":{\"base\":24,\"mantissas\":[1,2,4,6,8,12],\"max_interval\":43200000.0,\"min_interval\":3600000.0,\"num_minor_ticks\":0},\"id\":\"3408\",\"type\":\"AdaptiveTicker\"},{\"attributes\":{\"source\":{\"id\":\"3379\"}},\"id\":\"3388\",\"type\":\"CDSView\"},{\"attributes\":{\"data\":{\"x\":[1581465600000.0,1581552000000.0,1581638400000.0,1581724800000.0,1581811200000.0,1581897600000.0,1581984000000.0,1582070400000.0,1582156800000.0,1582243200000.0,1582329600000.0,1582416000000.0,1582502400000.0,1582588800000.0,1582675200000.0,1582761600000.0,1582848000000.0,1582934400000.0,1583020800000.0,1583107200000.0,1583193600000.0,1583280000000.0,1583366400000.0,1583452800000.0,1583539200000.0,1583625600000.0,1583712000000.0,1583798400000.0,1583884800000.0,1583971200000.0,1584057600000.0,1584144000000.0,1584230400000.0,1584316800000.0,1584403200000.0,1584489600000.0,1584576000000.0,1584662400000.0,1584748800000.0,1584835200000.0,1584921600000.0,1585008000000.0,1585094400000.0,1585180800000.0,1585267200000.0,1585353600000.0,1585440000000.0,1585526400000.0,1585612800000.0,1585699200000.0,1585785600000.0,1585872000000.0,1585958400000.0,1586044800000.0,1586131200000.0,1586217600000.0,1586304000000.0,1586390400000.0,1586476800000.0,1586563200000.0,1586649600000.0,1586736000000.0,1586822400000.0,1586908800000.0,1586995200000.0,1587081600000.0,1587168000000.0,1587254400000.0,1587340800000.0,1587427200000.0,1587513600000.0,1587600000000.0,1587686400000.0,1587772800000.0,1587859200000.0,1587945600000.0,1588032000000.0,1588118400000.0,1588204800000.0,1588291200000.0,1588377600000.0,1588464000000.0,1588550400000.0,1588636800000.0,1588723200000.0,1588809600000.0,1588896000000.0,1588982400000.0,1589068800000.0,1589155200000.0,1589241600000.0,1589328000000.0,1589414400000.0,1589500800000.0,1589587200000.0,1589673600000.0],\"y\":[27.437324960239685,29.000489780062406,30.652711541750723,32.399064015385605,34.24491003490196,36.195917966692896,38.25807911646663,40.43772612781043,42.74155242896116,45.17663278750122,47.750445036100786,50.47089303602342,53.346330948913106,56.3855888913985,59.59800005129647,62.99342934868544,66.58230372986318,70.3756441872182,74.38509960334343,78.62298252332398,83.10230696505057,87.83682838367,92.84108591289815,98.13044701291383,103.72115466194133,109.63037723644125,115.87626123308588,122.47798699442134,129.45582760934374,136.83121116926475,144.62678657114824,152.866493069491,161.57563379083246,170.78095343654846,180.51072041254392,190.7948136380549,201.66481430013968,213.15410283562477,225.2979614383263,238.13368240633318,251.7006826620741,266.0406247968441,281.19754501150527,297.2179883462501,314.1511516147031,332.0490344812918,350.966599145829,370.9619391256778,392.0964576538068,414.43505624057593,438.0463339783042,463.00279820065384,489.3810871437469,517.2622052927743,546.7317721368199,577.8802850957942,610.8033974268943,645.6022119640087,682.3835915920997,721.2604874099974,762.3522855893506,805.7851739948941,851.6925296918815,900.2153285306692,951.502578066238,1005.711775142088,1063.009389543701,1123.5713752068045,1187.5837105502926,1255.2429695931078,1326.756925608906,1402.3451891722602,1482.2398825557575,1566.6863525489857,1655.9439238883874,1750.2866956116734,1850.0043827822983,1955.4032061688279,2066.806832611315,2184.557368962401,2309.016412655437,2440.566162125791,2579.6105904952947,2726.576686124069,2881.9157638393476,3046.1048508678527,3219.6481517278335,3403.0785965792,3596.9594777865705,3801.8861797209543,4018.4880071120074,4247.430117565551,4489.415564180896,4745.187454540536,5015.531232702248,5301.277091201338]},\"selected\":{\"id\":\"3597\"},\"selection_policy\":{\"id\":\"3598\"}},\"id\":\"3394\",\"type\":\"ColumnDataSource\"},{\"attributes\":{\"base\":60,\"mantissas\":[1,2,5,10,15,20,30],\"max_interval\":1800000.0,\"min_interval\":1000.0,\"num_minor_ticks\":0},\"id\":\"3407\",\"type\":\"AdaptiveTicker\"},{\"attributes\":{\"days\":[1,2,3,4,5,6,7,8,9,10,11,12,13,14,15,16,17,18,19,20,21,22,23,24,25,26,27,28,29,30,31]},\"id\":\"3409\",\"type\":\"DaysTicker\"},{\"attributes\":{\"axis_label\":\"# of Cases & Deaths\",\"formatter\":{\"id\":\"3400\"},\"ticker\":{\"id\":\"3366\"}},\"id\":\"3365\",\"type\":\"LinearAxis\"}],\"root_ids\":[\"3350\"]},\"title\":\"Bokeh Application\",\"version\":\"2.0.2\"}};\n",
       "  var render_items = [{\"docid\":\"77f55b8a-9b1a-4ffe-be0b-d478705ed653\",\"root_ids\":[\"3350\"],\"roots\":{\"3350\":\"a3b09c74-fa21-4fd2-a400-34acd42cafd2\"}}];\n",
       "  root.Bokeh.embed.embed_items_notebook(docs_json, render_items);\n",
       "\n",
       "  }\n",
       "  if (root.Bokeh !== undefined) {\n",
       "    embed_document(root);\n",
       "  } else {\n",
       "    var attempts = 0;\n",
       "    var timer = setInterval(function(root) {\n",
       "      if (root.Bokeh !== undefined) {\n",
       "        clearInterval(timer);\n",
       "        embed_document(root);\n",
       "      } else {\n",
       "        attempts++;\n",
       "        if (attempts > 100) {\n",
       "          clearInterval(timer);\n",
       "          console.log(\"Bokeh: ERROR: Unable to run BokehJS code because BokehJS library is missing\");\n",
       "        }\n",
       "      }\n",
       "    }, 10, root)\n",
       "  }\n",
       "})(window);"
      ],
      "application/vnd.bokehjs_exec.v0+json": ""
     },
     "metadata": {
      "application/vnd.bokehjs_exec.v0+json": {
       "id": "3350"
      }
     },
     "output_type": "display_data"
    }
   ],
   "source": [
    "# https://duckduckgo.com/?t=ffab&q=texas+departhment+of+health+section+8&ia=web\n",
    "\n",
    "plot_state_counties_curve(\n",
    "    df,\n",
    "    \"Texas\",\n",
    "    [\n",
    "        \"Atascosa\",\n",
    "        \"Bandera\",\n",
    "        \"Bexar\",\n",
    "        \"Calhoun\",\n",
    "        \"Comal\",\n",
    "        \"DeWitt\",\n",
    "        \"Dimmit\",\n",
    "        \"Edwards\",\n",
    "        \"Frio\",\n",
    "        \"Gillespie\",\n",
    "        \"Goliad\",\n",
    "        \"Gonzales\",\n",
    "        \"Guadalupe\",\n",
    "        \"Jackson\",\n",
    "        \"Karnes\",\n",
    "        \"Kendall\",\n",
    "        \"Kerr\",\n",
    "        \"Kinney\",\n",
    "        \"LaSalle\",\n",
    "        \"Lavaca\",\n",
    "        \"Maverick\",\n",
    "        \"Medina\",\n",
    "        \"Real\",\n",
    "        \"Uvalde\",\n",
    "        \"Val Verde\",\n",
    "        \"Victoria\",\n",
    "        \"Wilson\",\n",
    "        \"Zavala\",\n",
    "    ],\n",
    ")"
   ]
  },
  {
   "cell_type": "code",
   "execution_count": 12,
   "metadata": {},
   "outputs": [
    {
     "name": "stdout",
     "output_type": "stream",
     "text": [
      "y ≈ exp(7.120001539333625) * exp(0.051841881662759666 * x)\n",
      "y = 1236.4523367768268 * exp(0.051841881662759666 * x)\n"
     ]
    },
    {
     "data": {
      "text/html": [
       "\n",
       "\n",
       "\n",
       "\n",
       "\n",
       "\n",
       "  <div class=\"bk-root\" id=\"de4b0906-63ac-470e-b080-69bb578a5442\" data-root-id=\"3738\"></div>\n"
      ]
     },
     "metadata": {},
     "output_type": "display_data"
    },
    {
     "data": {
      "application/javascript": [
       "(function(root) {\n",
       "  function embed_document(root) {\n",
       "    \n",
       "  var docs_json = {\"77f2b2bb-7f39-465a-91ff-0a546815fd51\":{\"roots\":{\"references\":[{\"attributes\":{\"below\":[{\"id\":\"3749\"}],\"center\":[{\"id\":\"3752\"},{\"id\":\"3756\"},{\"id\":\"3807\"}],\"left\":[{\"id\":\"3753\"}],\"plot_width\":880,\"renderers\":[{\"id\":\"3775\"},{\"id\":\"3780\"},{\"id\":\"3785\"}],\"title\":{\"id\":\"3739\"},\"toolbar\":{\"id\":\"3762\"},\"x_range\":{\"id\":\"3741\"},\"x_scale\":{\"id\":\"3745\"},\"y_range\":{\"id\":\"3743\"},\"y_scale\":{\"id\":\"3747\"}},\"id\":\"3738\",\"subtype\":\"Figure\",\"type\":\"Plot\"},{\"attributes\":{\"months\":[0,4,8]},\"id\":\"3803\",\"type\":\"MonthsTicker\"},{\"attributes\":{\"fields\":[\"deaths\",\"cases\"]},\"id\":\"3771\",\"type\":\"Stack\"},{\"attributes\":{\"days\":[1,2,3,4,5,6,7,8,9,10,11,12,13,14,15,16,17,18,19,20,21,22,23,24,25,26,27,28,29,30,31]},\"id\":\"3797\",\"type\":\"DaysTicker\"},{\"attributes\":{\"mantissas\":[1,2,5],\"max_interval\":500.0,\"num_minor_ticks\":0},\"id\":\"3794\",\"type\":\"AdaptiveTicker\"},{\"attributes\":{\"num_minor_ticks\":5,\"tickers\":[{\"id\":\"3794\"},{\"id\":\"3795\"},{\"id\":\"3796\"},{\"id\":\"3797\"},{\"id\":\"3798\"},{\"id\":\"3799\"},{\"id\":\"3800\"},{\"id\":\"3801\"},{\"id\":\"3802\"},{\"id\":\"3803\"},{\"id\":\"3804\"},{\"id\":\"3805\"}]},\"id\":\"3750\",\"type\":\"DatetimeTicker\"},{\"attributes\":{\"months\":[0,2,4,6,8,10]},\"id\":\"3802\",\"type\":\"MonthsTicker\"},{\"attributes\":{\"text\":\"Georgia Cases\"},\"id\":\"3739\",\"type\":\"Title\"},{\"attributes\":{},\"id\":\"3805\",\"type\":\"YearsTicker\"},{\"attributes\":{\"axis\":{\"id\":\"3749\"},\"ticker\":null},\"id\":\"3752\",\"type\":\"Grid\"},{\"attributes\":{\"base\":60,\"mantissas\":[1,2,5,10,15,20,30],\"max_interval\":1800000.0,\"min_interval\":1000.0,\"num_minor_ticks\":0},\"id\":\"3795\",\"type\":\"AdaptiveTicker\"},{\"attributes\":{},\"id\":\"3793\",\"type\":\"UnionRenderers\"},{\"attributes\":{\"label\":{\"value\":\"Projected # of Cases\"},\"renderers\":[{\"id\":\"3785\"}]},\"id\":\"3808\",\"type\":\"LegendItem\"},{\"attributes\":{},\"id\":\"3792\",\"type\":\"Selection\"},{\"attributes\":{\"base\":24,\"mantissas\":[1,2,4,6,8,12],\"max_interval\":43200000.0,\"min_interval\":3600000.0,\"num_minor_ticks\":0},\"id\":\"3796\",\"type\":\"AdaptiveTicker\"},{\"attributes\":{},\"id\":\"3747\",\"type\":\"LinearScale\"},{\"attributes\":{\"source\":{\"id\":\"3767\"}},\"id\":\"3776\",\"type\":\"CDSView\"},{\"attributes\":{\"fill_color\":\"lightblue\",\"x\":{\"field\":\"x\"},\"y1\":{\"expr\":{\"id\":\"3770\"}},\"y2\":{\"expr\":{\"id\":\"3771\"}}},\"id\":\"3778\",\"type\":\"VArea\"},{\"attributes\":{\"days\":[1,4,7,10,13,16,19,22,25,28]},\"id\":\"3798\",\"type\":\"DaysTicker\"},{\"attributes\":{\"axis_label\":\"Date\",\"formatter\":{\"id\":\"3809\"},\"ticker\":{\"id\":\"3750\"}},\"id\":\"3749\",\"type\":\"DatetimeAxis\"},{\"attributes\":{\"fill_alpha\":0.1,\"fill_color\":\"red\",\"x\":{\"field\":\"x\"},\"y1\":{\"expr\":{\"id\":\"3768\"}},\"y2\":{\"expr\":{\"id\":\"3769\"}}},\"id\":\"3774\",\"type\":\"VArea\"},{\"attributes\":{},\"id\":\"3760\",\"type\":\"ResetTool\"},{\"attributes\":{\"months\":[0,6]},\"id\":\"3804\",\"type\":\"MonthsTicker\"},{\"attributes\":{\"data_source\":{\"id\":\"3767\"},\"glyph\":{\"id\":\"3778\"},\"hover_glyph\":null,\"muted_glyph\":null,\"name\":\"cases\",\"nonselection_glyph\":{\"id\":\"3779\"},\"selection_glyph\":null,\"view\":{\"id\":\"3781\"}},\"id\":\"3780\",\"type\":\"GlyphRenderer\"},{\"attributes\":{\"overlay\":{\"id\":\"3761\"}},\"id\":\"3759\",\"type\":\"BoxZoomTool\"},{\"attributes\":{},\"id\":\"4006\",\"type\":\"Selection\"},{\"attributes\":{\"end\":1588982400000.0,\"start\":1583107200000.0},\"id\":\"3741\",\"type\":\"Range1d\"},{\"attributes\":{\"days\":[1,15]},\"id\":\"3800\",\"type\":\"DaysTicker\"},{\"attributes\":{},\"id\":\"3758\",\"type\":\"WheelZoomTool\"},{\"attributes\":{\"fields\":[\"deaths\"]},\"id\":\"3770\",\"type\":\"Stack\"},{\"attributes\":{},\"id\":\"4007\",\"type\":\"UnionRenderers\"},{\"attributes\":{\"days\":[1,8,15,22]},\"id\":\"3799\",\"type\":\"DaysTicker\"},{\"attributes\":{\"data_source\":{\"id\":\"3782\"},\"glyph\":{\"id\":\"3783\"},\"hover_glyph\":null,\"muted_glyph\":null,\"nonselection_glyph\":{\"id\":\"3784\"},\"selection_glyph\":null,\"view\":{\"id\":\"3786\"}},\"id\":\"3785\",\"type\":\"GlyphRenderer\"},{\"attributes\":{},\"id\":\"3757\",\"type\":\"PanTool\"},{\"attributes\":{},\"id\":\"3754\",\"type\":\"BasicTicker\"},{\"attributes\":{\"code\":\"\\n        let date = new Date(tick);\\n        return `${date.getDate()}-${date.getMonth()}-${date.getFullYear()}`\\n    \"},\"id\":\"3809\",\"type\":\"FuncTickFormatter\"},{\"attributes\":{\"fill_alpha\":0.1,\"fill_color\":\"lightblue\",\"x\":{\"field\":\"x\"},\"y1\":{\"expr\":{\"id\":\"3770\"}},\"y2\":{\"expr\":{\"id\":\"3771\"}}},\"id\":\"3779\",\"type\":\"VArea\"},{\"attributes\":{\"fields\":[]},\"id\":\"3768\",\"type\":\"Stack\"},{\"attributes\":{\"data\":{\"x\":[1583107200000.0,1583193600000.0,1583280000000.0,1583366400000.0,1583452800000.0,1583539200000.0,1583625600000.0,1583712000000.0,1583798400000.0,1583884800000.0,1583971200000.0,1584057600000.0,1584144000000.0,1584230400000.0,1584316800000.0,1584403200000.0,1584489600000.0,1584576000000.0,1584662400000.0,1584748800000.0,1584835200000.0,1584921600000.0,1585008000000.0,1585094400000.0,1585180800000.0,1585267200000.0,1585353600000.0,1585440000000.0,1585526400000.0,1585612800000.0,1585699200000.0,1585785600000.0,1585872000000.0,1585958400000.0,1586044800000.0,1586131200000.0,1586217600000.0,1586304000000.0,1586390400000.0,1586476800000.0,1586563200000.0,1586649600000.0,1586736000000.0,1586822400000.0,1586908800000.0,1586995200000.0,1587081600000.0,1587168000000.0,1587254400000.0,1587340800000.0,1587427200000.0,1587513600000.0,1587600000000.0,1587686400000.0,1587772800000.0,1587859200000.0,1587945600000.0,1588032000000.0,1588118400000.0,1588204800000.0,1588291200000.0,1588377600000.0,1588464000000.0,1588550400000.0,1588636800000.0,1588723200000.0,1588809600000.0,1588896000000.0,1588982400000.0,1589068800000.0,1589155200000.0,1589241600000.0,1589328000000.0,1589414400000.0,1589500800000.0,1589587200000.0,1589673600000.0],\"y\":[1236.4523367768268,1302.2429735612002,1371.5342773423915,1444.5125158025758,1521.3738677778456,1602.3249506227603,1687.583375635538,1777.3783330369768,1871.951208075634,1971.5562299154708,2076.4611550502837,2186.9479870820714,2303.313734798235,2425.871210585448,2554.949871326499,2690.896704040571,2834.077158647738,2984.8761303651067,3143.698994375465,3310.9726955498336,3487.1468961532605,3672.6951846191364,3868.1163486414152,4073.9357160070476,4290.706566773035,4519.011620584294,4759.464603130507,5012.711895952891,5279.434274035847,5560.348735854489,5856.21043079751,6167.814689146693,6495.999160069987,6841.646063375487,7205.684561079436,7589.09325516346,7992.902818235454,8418.198764165829,8866.124366147089,9337.883730021016,9834.74503113513,10358.04392342969,10909.187129919452,11489.656224222144,12101.011613298944,12744.89673211346,13423.042461485129,14137.271781013025,14889.504669578042,15681.763266596856,16516.17730790205,17394.989850861082,18320.56330412427,19295.38577821072,20322.07777400397,21403.399227137026,22542.256927203525,23741.712331739156,25004.98979597873,26335.485240512095,27736.77528013897,29212.62683846295,30767.00727407019,32404.095045514052,34128.29094377497,35944.229922390514,37856.79355705719,39871.12316819764,41992.63364176907,44227.02798546589,46580.312659446245,49058.813722793995,51669.19383912123,54418.4701870251,57314.03332354578,60363.66705133375,63575.56934293333]},\"selected\":{\"id\":\"4006\"},\"selection_policy\":{\"id\":\"4007\"}},\"id\":\"3782\",\"type\":\"ColumnDataSource\"},{\"attributes\":{\"months\":[0,1,2,3,4,5,6,7,8,9,10,11]},\"id\":\"3801\",\"type\":\"MonthsTicker\"},{\"attributes\":{\"active_drag\":\"auto\",\"active_inspect\":\"auto\",\"active_multi\":null,\"active_scroll\":\"auto\",\"active_tap\":\"auto\",\"tools\":[{\"id\":\"3757\"},{\"id\":\"3758\"},{\"id\":\"3759\"},{\"id\":\"3760\"}]},\"id\":\"3762\",\"type\":\"Toolbar\"},{\"attributes\":{\"fill_color\":\"red\",\"x\":{\"field\":\"x\"},\"y1\":{\"expr\":{\"id\":\"3768\"}},\"y2\":{\"expr\":{\"id\":\"3769\"}}},\"id\":\"3773\",\"type\":\"VArea\"},{\"attributes\":{\"line_alpha\":0.1,\"line_color\":\"gray\",\"line_dash\":[6],\"x\":{\"field\":\"x\"},\"y\":{\"field\":\"y\"}},\"id\":\"3784\",\"type\":\"Line\"},{\"attributes\":{\"data_source\":{\"id\":\"3767\"},\"glyph\":{\"id\":\"3773\"},\"hover_glyph\":null,\"muted_glyph\":null,\"name\":\"deaths\",\"nonselection_glyph\":{\"id\":\"3774\"},\"selection_glyph\":null,\"view\":{\"id\":\"3776\"}},\"id\":\"3775\",\"type\":\"GlyphRenderer\"},{\"attributes\":{\"source\":{\"id\":\"3782\"}},\"id\":\"3786\",\"type\":\"CDSView\"},{\"attributes\":{\"axis_label\":\"# of Cases & Deaths\",\"formatter\":{\"id\":\"3788\"},\"ticker\":{\"id\":\"3754\"}},\"id\":\"3753\",\"type\":\"LinearAxis\"},{\"attributes\":{\"bottom_units\":\"screen\",\"fill_alpha\":0.5,\"fill_color\":\"lightgrey\",\"left_units\":\"screen\",\"level\":\"overlay\",\"line_alpha\":1.0,\"line_color\":\"black\",\"line_dash\":[4,4],\"line_width\":2,\"render_mode\":\"css\",\"right_units\":\"screen\",\"top_units\":\"screen\"},\"id\":\"3761\",\"type\":\"BoxAnnotation\"},{\"attributes\":{},\"id\":\"3788\",\"type\":\"BasicTickFormatter\"},{\"attributes\":{\"data\":{\"cases\":[2,2,2,2,3,7,11,17,22,31,31,41,65,97,118,142,193,282,482,552,620,800,1096,1391,1647,2211,2448,2687,3032,4125,4740,5444,5967,6383,6742,7558,9156,10204,10885,11859,12261,12103,13125,13913,14583,15644,16658,17014,17619,18447,19189,20099,20905,21575,22225,22459,23229,23800,24300,25431,26436,27268,27618,28350,28876,29724,30524],\"deaths\":[0,0,0,0,0,0,0,0,0,0,1,1,1,1,1,1,3,10,14,20,25,25,39,47,56,64,79,83,105,126,154,176,198,208,219,294,348,370,412,425,432,438,479,517,569,611,661,670,682,767,810,837,871,889,897,907,981,1022,1086,1121,1153,1161,1168,1228,1277,1309,1333],\"x\":{\"__ndarray__\":\"AABArYgJd0IAAAAT2wl3QgAAwHgtCndCAACA3n8Kd0IAAEBE0gp3QgAAAKokC3dCAADAD3cLd0IAAIB1yQt3QgAAQNsbDHdCAAAAQW4Md0IAAMCmwAx3QgAAgAwTDXdCAABAcmUNd0IAAADYtw13QgAAwD0KDndCAACAo1wOd0IAAEAJrw53QgAAAG8BD3dCAADA1FMPd0IAAIA6pg93QgAAQKD4D3dCAAAABksQd0IAAMBrnRB3QgAAgNHvEHdCAABAN0IRd0IAAACdlBF3QgAAwALnEXdCAACAaDkSd0IAAEDOixJ3QgAAADTeEndCAADAmTATd0IAAID/ghN3QgAAQGXVE3dCAAAAyycUd0IAAMAwehR3QgAAgJbMFHdCAABA/B4Vd0IAAABicRV3QgAAwMfDFXdCAACALRYWd0IAAECTaBZ3QgAAAPm6FndCAADAXg0Xd0IAAIDEXxd3QgAAQCqyF3dCAAAAkAQYd0IAAMD1Vhh3QgAAgFupGHdCAABAwfsYd0IAAAAnThl3QgAAwIygGXdCAACA8vIZd0IAAEBYRRp3QgAAAL6XGndCAADAI+oad0IAAICJPBt3QgAAQO+OG3dCAAAAVeEbd0IAAMC6Mxx3QgAAgCCGHHdCAABAhtgcd0IAAADsKh13QgAAwFF9HXdCAACAt88dd0IAAEAdIh53QgAAAIN0HndCAADA6MYed0I=\",\"dtype\":\"float64\",\"shape\":[67]}},\"selected\":{\"id\":\"3792\"},\"selection_policy\":{\"id\":\"3793\"}},\"id\":\"3767\",\"type\":\"ColumnDataSource\"},{\"attributes\":{\"fields\":[\"deaths\"]},\"id\":\"3769\",\"type\":\"Stack\"},{\"attributes\":{\"end\":36628},\"id\":\"3743\",\"type\":\"Range1d\"},{\"attributes\":{\"axis\":{\"id\":\"3753\"},\"dimension\":1,\"ticker\":null},\"id\":\"3756\",\"type\":\"Grid\"},{\"attributes\":{\"items\":[{\"id\":\"3808\"}],\"location\":\"top_left\"},\"id\":\"3807\",\"type\":\"Legend\"},{\"attributes\":{\"line_alpha\":0.75,\"line_color\":\"gray\",\"line_dash\":[6],\"x\":{\"field\":\"x\"},\"y\":{\"field\":\"y\"}},\"id\":\"3783\",\"type\":\"Line\"},{\"attributes\":{\"source\":{\"id\":\"3767\"}},\"id\":\"3781\",\"type\":\"CDSView\"},{\"attributes\":{},\"id\":\"3745\",\"type\":\"LinearScale\"}],\"root_ids\":[\"3738\"]},\"title\":\"Bokeh Application\",\"version\":\"2.0.2\"}};\n",
       "  var render_items = [{\"docid\":\"77f2b2bb-7f39-465a-91ff-0a546815fd51\",\"root_ids\":[\"3738\"],\"roots\":{\"3738\":\"de4b0906-63ac-470e-b080-69bb578a5442\"}}];\n",
       "  root.Bokeh.embed.embed_items_notebook(docs_json, render_items);\n",
       "\n",
       "  }\n",
       "  if (root.Bokeh !== undefined) {\n",
       "    embed_document(root);\n",
       "  } else {\n",
       "    var attempts = 0;\n",
       "    var timer = setInterval(function(root) {\n",
       "      if (root.Bokeh !== undefined) {\n",
       "        clearInterval(timer);\n",
       "        embed_document(root);\n",
       "      } else {\n",
       "        attempts++;\n",
       "        if (attempts > 100) {\n",
       "          clearInterval(timer);\n",
       "          console.log(\"Bokeh: ERROR: Unable to run BokehJS code because BokehJS library is missing\");\n",
       "        }\n",
       "      }\n",
       "    }, 10, root)\n",
       "  }\n",
       "})(window);"
      ],
      "application/vnd.bokehjs_exec.v0+json": ""
     },
     "metadata": {
      "application/vnd.bokehjs_exec.v0+json": {
       "id": "3738"
      }
     },
     "output_type": "display_data"
    }
   ],
   "source": [
    "plot_state_curve(df, \"Georgia\")"
   ]
  }
 ],
 "metadata": {
  "kernelspec": {
   "display_name": "Python 3",
   "language": "python",
   "name": "python3"
  },
  "language_info": {
   "codemirror_mode": {
    "name": "ipython",
    "version": 3
   },
   "file_extension": ".py",
   "mimetype": "text/x-python",
   "name": "python",
   "nbconvert_exporter": "python",
   "pygments_lexer": "ipython3",
   "version": "3.7.6"
  }
 },
 "nbformat": 4,
 "nbformat_minor": 4
}
