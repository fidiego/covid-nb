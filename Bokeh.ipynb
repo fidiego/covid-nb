{
 "cells": [
  {
   "cell_type": "code",
   "execution_count": 1,
   "metadata": {},
   "outputs": [
    {
     "data": {
      "text/html": [
       "\n",
       "    <div class=\"bk-root\">\n",
       "        <a href=\"https://bokeh.org\" target=\"_blank\" class=\"bk-logo bk-logo-small bk-logo-notebook\"></a>\n",
       "        <span id=\"1001\">Loading BokehJS ...</span>\n",
       "    </div>"
      ]
     },
     "metadata": {},
     "output_type": "display_data"
    },
    {
     "data": {
      "application/javascript": [
       "\n",
       "(function(root) {\n",
       "  function now() {\n",
       "    return new Date();\n",
       "  }\n",
       "\n",
       "  var force = true;\n",
       "\n",
       "  if (typeof root._bokeh_onload_callbacks === \"undefined\" || force === true) {\n",
       "    root._bokeh_onload_callbacks = [];\n",
       "    root._bokeh_is_loading = undefined;\n",
       "  }\n",
       "\n",
       "  var JS_MIME_TYPE = 'application/javascript';\n",
       "  var HTML_MIME_TYPE = 'text/html';\n",
       "  var EXEC_MIME_TYPE = 'application/vnd.bokehjs_exec.v0+json';\n",
       "  var CLASS_NAME = 'output_bokeh rendered_html';\n",
       "\n",
       "  /**\n",
       "   * Render data to the DOM node\n",
       "   */\n",
       "  function render(props, node) {\n",
       "    var script = document.createElement(\"script\");\n",
       "    node.appendChild(script);\n",
       "  }\n",
       "\n",
       "  /**\n",
       "   * Handle when an output is cleared or removed\n",
       "   */\n",
       "  function handleClearOutput(event, handle) {\n",
       "    var cell = handle.cell;\n",
       "\n",
       "    var id = cell.output_area._bokeh_element_id;\n",
       "    var server_id = cell.output_area._bokeh_server_id;\n",
       "    // Clean up Bokeh references\n",
       "    if (id != null && id in Bokeh.index) {\n",
       "      Bokeh.index[id].model.document.clear();\n",
       "      delete Bokeh.index[id];\n",
       "    }\n",
       "\n",
       "    if (server_id !== undefined) {\n",
       "      // Clean up Bokeh references\n",
       "      var cmd = \"from bokeh.io.state import curstate; print(curstate().uuid_to_server['\" + server_id + \"'].get_sessions()[0].document.roots[0]._id)\";\n",
       "      cell.notebook.kernel.execute(cmd, {\n",
       "        iopub: {\n",
       "          output: function(msg) {\n",
       "            var id = msg.content.text.trim();\n",
       "            if (id in Bokeh.index) {\n",
       "              Bokeh.index[id].model.document.clear();\n",
       "              delete Bokeh.index[id];\n",
       "            }\n",
       "          }\n",
       "        }\n",
       "      });\n",
       "      // Destroy server and session\n",
       "      var cmd = \"import bokeh.io.notebook as ion; ion.destroy_server('\" + server_id + \"')\";\n",
       "      cell.notebook.kernel.execute(cmd);\n",
       "    }\n",
       "  }\n",
       "\n",
       "  /**\n",
       "   * Handle when a new output is added\n",
       "   */\n",
       "  function handleAddOutput(event, handle) {\n",
       "    var output_area = handle.output_area;\n",
       "    var output = handle.output;\n",
       "\n",
       "    // limit handleAddOutput to display_data with EXEC_MIME_TYPE content only\n",
       "    if ((output.output_type != \"display_data\") || (!output.data.hasOwnProperty(EXEC_MIME_TYPE))) {\n",
       "      return\n",
       "    }\n",
       "\n",
       "    var toinsert = output_area.element.find(\".\" + CLASS_NAME.split(' ')[0]);\n",
       "\n",
       "    if (output.metadata[EXEC_MIME_TYPE][\"id\"] !== undefined) {\n",
       "      toinsert[toinsert.length - 1].firstChild.textContent = output.data[JS_MIME_TYPE];\n",
       "      // store reference to embed id on output_area\n",
       "      output_area._bokeh_element_id = output.metadata[EXEC_MIME_TYPE][\"id\"];\n",
       "    }\n",
       "    if (output.metadata[EXEC_MIME_TYPE][\"server_id\"] !== undefined) {\n",
       "      var bk_div = document.createElement(\"div\");\n",
       "      bk_div.innerHTML = output.data[HTML_MIME_TYPE];\n",
       "      var script_attrs = bk_div.children[0].attributes;\n",
       "      for (var i = 0; i < script_attrs.length; i++) {\n",
       "        toinsert[toinsert.length - 1].firstChild.setAttribute(script_attrs[i].name, script_attrs[i].value);\n",
       "        toinsert[toinsert.length - 1].firstChild.textContent = bk_div.children[0].textContent\n",
       "      }\n",
       "      // store reference to server id on output_area\n",
       "      output_area._bokeh_server_id = output.metadata[EXEC_MIME_TYPE][\"server_id\"];\n",
       "    }\n",
       "  }\n",
       "\n",
       "  function register_renderer(events, OutputArea) {\n",
       "\n",
       "    function append_mime(data, metadata, element) {\n",
       "      // create a DOM node to render to\n",
       "      var toinsert = this.create_output_subarea(\n",
       "        metadata,\n",
       "        CLASS_NAME,\n",
       "        EXEC_MIME_TYPE\n",
       "      );\n",
       "      this.keyboard_manager.register_events(toinsert);\n",
       "      // Render to node\n",
       "      var props = {data: data, metadata: metadata[EXEC_MIME_TYPE]};\n",
       "      render(props, toinsert[toinsert.length - 1]);\n",
       "      element.append(toinsert);\n",
       "      return toinsert\n",
       "    }\n",
       "\n",
       "    /* Handle when an output is cleared or removed */\n",
       "    events.on('clear_output.CodeCell', handleClearOutput);\n",
       "    events.on('delete.Cell', handleClearOutput);\n",
       "\n",
       "    /* Handle when a new output is added */\n",
       "    events.on('output_added.OutputArea', handleAddOutput);\n",
       "\n",
       "    /**\n",
       "     * Register the mime type and append_mime function with output_area\n",
       "     */\n",
       "    OutputArea.prototype.register_mime_type(EXEC_MIME_TYPE, append_mime, {\n",
       "      /* Is output safe? */\n",
       "      safe: true,\n",
       "      /* Index of renderer in `output_area.display_order` */\n",
       "      index: 0\n",
       "    });\n",
       "  }\n",
       "\n",
       "  // register the mime type if in Jupyter Notebook environment and previously unregistered\n",
       "  if (root.Jupyter !== undefined) {\n",
       "    var events = require('base/js/events');\n",
       "    var OutputArea = require('notebook/js/outputarea').OutputArea;\n",
       "\n",
       "    if (OutputArea.prototype.mime_types().indexOf(EXEC_MIME_TYPE) == -1) {\n",
       "      register_renderer(events, OutputArea);\n",
       "    }\n",
       "  }\n",
       "\n",
       "  \n",
       "  if (typeof (root._bokeh_timeout) === \"undefined\" || force === true) {\n",
       "    root._bokeh_timeout = Date.now() + 5000;\n",
       "    root._bokeh_failed_load = false;\n",
       "  }\n",
       "\n",
       "  var NB_LOAD_WARNING = {'data': {'text/html':\n",
       "     \"<div style='background-color: #fdd'>\\n\"+\n",
       "     \"<p>\\n\"+\n",
       "     \"BokehJS does not appear to have successfully loaded. If loading BokehJS from CDN, this \\n\"+\n",
       "     \"may be due to a slow or bad network connection. Possible fixes:\\n\"+\n",
       "     \"</p>\\n\"+\n",
       "     \"<ul>\\n\"+\n",
       "     \"<li>re-rerun `output_notebook()` to attempt to load from CDN again, or</li>\\n\"+\n",
       "     \"<li>use INLINE resources instead, as so:</li>\\n\"+\n",
       "     \"</ul>\\n\"+\n",
       "     \"<code>\\n\"+\n",
       "     \"from bokeh.resources import INLINE\\n\"+\n",
       "     \"output_notebook(resources=INLINE)\\n\"+\n",
       "     \"</code>\\n\"+\n",
       "     \"</div>\"}};\n",
       "\n",
       "  function display_loaded() {\n",
       "    var el = document.getElementById(\"1001\");\n",
       "    if (el != null) {\n",
       "      el.textContent = \"BokehJS is loading...\";\n",
       "    }\n",
       "    if (root.Bokeh !== undefined) {\n",
       "      if (el != null) {\n",
       "        el.textContent = \"BokehJS \" + root.Bokeh.version + \" successfully loaded.\";\n",
       "      }\n",
       "    } else if (Date.now() < root._bokeh_timeout) {\n",
       "      setTimeout(display_loaded, 100)\n",
       "    }\n",
       "  }\n",
       "\n",
       "\n",
       "  function run_callbacks() {\n",
       "    try {\n",
       "      root._bokeh_onload_callbacks.forEach(function(callback) {\n",
       "        if (callback != null)\n",
       "          callback();\n",
       "      });\n",
       "    } finally {\n",
       "      delete root._bokeh_onload_callbacks\n",
       "    }\n",
       "    console.debug(\"Bokeh: all callbacks have finished\");\n",
       "  }\n",
       "\n",
       "  function load_libs(css_urls, js_urls, callback) {\n",
       "    if (css_urls == null) css_urls = [];\n",
       "    if (js_urls == null) js_urls = [];\n",
       "\n",
       "    root._bokeh_onload_callbacks.push(callback);\n",
       "    if (root._bokeh_is_loading > 0) {\n",
       "      console.debug(\"Bokeh: BokehJS is being loaded, scheduling callback at\", now());\n",
       "      return null;\n",
       "    }\n",
       "    if (js_urls == null || js_urls.length === 0) {\n",
       "      run_callbacks();\n",
       "      return null;\n",
       "    }\n",
       "    console.debug(\"Bokeh: BokehJS not loaded, scheduling load and callback at\", now());\n",
       "    root._bokeh_is_loading = css_urls.length + js_urls.length;\n",
       "\n",
       "    function on_load() {\n",
       "      root._bokeh_is_loading--;\n",
       "      if (root._bokeh_is_loading === 0) {\n",
       "        console.debug(\"Bokeh: all BokehJS libraries/stylesheets loaded\");\n",
       "        run_callbacks()\n",
       "      }\n",
       "    }\n",
       "\n",
       "    function on_error() {\n",
       "      console.error(\"failed to load \" + url);\n",
       "    }\n",
       "\n",
       "    for (var i = 0; i < css_urls.length; i++) {\n",
       "      var url = css_urls[i];\n",
       "      const element = document.createElement(\"link\");\n",
       "      element.onload = on_load;\n",
       "      element.onerror = on_error;\n",
       "      element.rel = \"stylesheet\";\n",
       "      element.type = \"text/css\";\n",
       "      element.href = url;\n",
       "      console.debug(\"Bokeh: injecting link tag for BokehJS stylesheet: \", url);\n",
       "      document.body.appendChild(element);\n",
       "    }\n",
       "\n",
       "    const hashes = {\"https://cdn.bokeh.org/bokeh/release/bokeh-2.0.1.min.js\": \"JpP8FXbgAZLkfur7LiK3j9AGBhHNIvF742meBJrjO2ShJDhCG2I1uVvW+0DUtrmc\", \"https://cdn.bokeh.org/bokeh/release/bokeh-widgets-2.0.1.min.js\": \"xZlADit0Q04ISQEdKg2k3L4W9AwQBAuDs9nJL9fM/WwzL1tEU9VPNezOFX0nLEAz\", \"https://cdn.bokeh.org/bokeh/release/bokeh-tables-2.0.1.min.js\": \"4BuPRZkdMKSnj3zoxiNrQ86XgNw0rYmBOxe7nshquXwwcauupgBF2DHLVG1WuZlV\", \"https://cdn.bokeh.org/bokeh/release/bokeh-gl-2.0.1.min.js\": \"Dv1SQ87hmDqK6S5OhBf0bCuwAEvL5QYL0PuR/F1SPVhCS/r/abjkbpKDYL2zeM19\"};\n",
       "\n",
       "    for (var i = 0; i < js_urls.length; i++) {\n",
       "      var url = js_urls[i];\n",
       "      var element = document.createElement('script');\n",
       "      element.onload = on_load;\n",
       "      element.onerror = on_error;\n",
       "      element.async = false;\n",
       "      element.src = url;\n",
       "      if (url in hashes) {\n",
       "        element.crossOrigin = \"anonymous\";\n",
       "        element.integrity = \"sha384-\" + hashes[url];\n",
       "      }\n",
       "      console.debug(\"Bokeh: injecting script tag for BokehJS library: \", url);\n",
       "      document.head.appendChild(element);\n",
       "    }\n",
       "  };var element = document.getElementById(\"1001\");\n",
       "  if (element == null) {\n",
       "    console.error(\"Bokeh: ERROR: autoload.js configured with elementid '1001' but no matching script tag was found. \")\n",
       "    return false;\n",
       "  }\n",
       "\n",
       "  function inject_raw_css(css) {\n",
       "    const element = document.createElement(\"style\");\n",
       "    element.appendChild(document.createTextNode(css));\n",
       "    document.body.appendChild(element);\n",
       "  }\n",
       "\n",
       "  \n",
       "  var js_urls = [\"https://cdn.bokeh.org/bokeh/release/bokeh-2.0.1.min.js\", \"https://cdn.bokeh.org/bokeh/release/bokeh-widgets-2.0.1.min.js\", \"https://cdn.bokeh.org/bokeh/release/bokeh-tables-2.0.1.min.js\", \"https://cdn.bokeh.org/bokeh/release/bokeh-gl-2.0.1.min.js\"];\n",
       "  var css_urls = [];\n",
       "  \n",
       "\n",
       "  var inline_js = [\n",
       "    function(Bokeh) {\n",
       "      Bokeh.set_log_level(\"info\");\n",
       "    },\n",
       "    function(Bokeh) {\n",
       "    \n",
       "    \n",
       "    }\n",
       "  ];\n",
       "\n",
       "  function run_inline_js() {\n",
       "    \n",
       "    if (root.Bokeh !== undefined || force === true) {\n",
       "      \n",
       "    for (var i = 0; i < inline_js.length; i++) {\n",
       "      inline_js[i].call(root, root.Bokeh);\n",
       "    }\n",
       "    if (force === true) {\n",
       "        display_loaded();\n",
       "      }} else if (Date.now() < root._bokeh_timeout) {\n",
       "      setTimeout(run_inline_js, 100);\n",
       "    } else if (!root._bokeh_failed_load) {\n",
       "      console.log(\"Bokeh: BokehJS failed to load within specified timeout.\");\n",
       "      root._bokeh_failed_load = true;\n",
       "    } else if (force !== true) {\n",
       "      var cell = $(document.getElementById(\"1001\")).parents('.cell').data().cell;\n",
       "      cell.output_area.append_execute_result(NB_LOAD_WARNING)\n",
       "    }\n",
       "\n",
       "  }\n",
       "\n",
       "  if (root._bokeh_is_loading === 0) {\n",
       "    console.debug(\"Bokeh: BokehJS loaded, going straight to plotting\");\n",
       "    run_inline_js();\n",
       "  } else {\n",
       "    load_libs(css_urls, js_urls, function() {\n",
       "      console.debug(\"Bokeh: BokehJS plotting callback run at\", now());\n",
       "      run_inline_js();\n",
       "    });\n",
       "  }\n",
       "}(window));"
      ],
      "application/vnd.bokehjs_load.v0+json": "\n(function(root) {\n  function now() {\n    return new Date();\n  }\n\n  var force = true;\n\n  if (typeof root._bokeh_onload_callbacks === \"undefined\" || force === true) {\n    root._bokeh_onload_callbacks = [];\n    root._bokeh_is_loading = undefined;\n  }\n\n  \n\n  \n  if (typeof (root._bokeh_timeout) === \"undefined\" || force === true) {\n    root._bokeh_timeout = Date.now() + 5000;\n    root._bokeh_failed_load = false;\n  }\n\n  var NB_LOAD_WARNING = {'data': {'text/html':\n     \"<div style='background-color: #fdd'>\\n\"+\n     \"<p>\\n\"+\n     \"BokehJS does not appear to have successfully loaded. If loading BokehJS from CDN, this \\n\"+\n     \"may be due to a slow or bad network connection. Possible fixes:\\n\"+\n     \"</p>\\n\"+\n     \"<ul>\\n\"+\n     \"<li>re-rerun `output_notebook()` to attempt to load from CDN again, or</li>\\n\"+\n     \"<li>use INLINE resources instead, as so:</li>\\n\"+\n     \"</ul>\\n\"+\n     \"<code>\\n\"+\n     \"from bokeh.resources import INLINE\\n\"+\n     \"output_notebook(resources=INLINE)\\n\"+\n     \"</code>\\n\"+\n     \"</div>\"}};\n\n  function display_loaded() {\n    var el = document.getElementById(\"1001\");\n    if (el != null) {\n      el.textContent = \"BokehJS is loading...\";\n    }\n    if (root.Bokeh !== undefined) {\n      if (el != null) {\n        el.textContent = \"BokehJS \" + root.Bokeh.version + \" successfully loaded.\";\n      }\n    } else if (Date.now() < root._bokeh_timeout) {\n      setTimeout(display_loaded, 100)\n    }\n  }\n\n\n  function run_callbacks() {\n    try {\n      root._bokeh_onload_callbacks.forEach(function(callback) {\n        if (callback != null)\n          callback();\n      });\n    } finally {\n      delete root._bokeh_onload_callbacks\n    }\n    console.debug(\"Bokeh: all callbacks have finished\");\n  }\n\n  function load_libs(css_urls, js_urls, callback) {\n    if (css_urls == null) css_urls = [];\n    if (js_urls == null) js_urls = [];\n\n    root._bokeh_onload_callbacks.push(callback);\n    if (root._bokeh_is_loading > 0) {\n      console.debug(\"Bokeh: BokehJS is being loaded, scheduling callback at\", now());\n      return null;\n    }\n    if (js_urls == null || js_urls.length === 0) {\n      run_callbacks();\n      return null;\n    }\n    console.debug(\"Bokeh: BokehJS not loaded, scheduling load and callback at\", now());\n    root._bokeh_is_loading = css_urls.length + js_urls.length;\n\n    function on_load() {\n      root._bokeh_is_loading--;\n      if (root._bokeh_is_loading === 0) {\n        console.debug(\"Bokeh: all BokehJS libraries/stylesheets loaded\");\n        run_callbacks()\n      }\n    }\n\n    function on_error() {\n      console.error(\"failed to load \" + url);\n    }\n\n    for (var i = 0; i < css_urls.length; i++) {\n      var url = css_urls[i];\n      const element = document.createElement(\"link\");\n      element.onload = on_load;\n      element.onerror = on_error;\n      element.rel = \"stylesheet\";\n      element.type = \"text/css\";\n      element.href = url;\n      console.debug(\"Bokeh: injecting link tag for BokehJS stylesheet: \", url);\n      document.body.appendChild(element);\n    }\n\n    const hashes = {\"https://cdn.bokeh.org/bokeh/release/bokeh-2.0.1.min.js\": \"JpP8FXbgAZLkfur7LiK3j9AGBhHNIvF742meBJrjO2ShJDhCG2I1uVvW+0DUtrmc\", \"https://cdn.bokeh.org/bokeh/release/bokeh-widgets-2.0.1.min.js\": \"xZlADit0Q04ISQEdKg2k3L4W9AwQBAuDs9nJL9fM/WwzL1tEU9VPNezOFX0nLEAz\", \"https://cdn.bokeh.org/bokeh/release/bokeh-tables-2.0.1.min.js\": \"4BuPRZkdMKSnj3zoxiNrQ86XgNw0rYmBOxe7nshquXwwcauupgBF2DHLVG1WuZlV\", \"https://cdn.bokeh.org/bokeh/release/bokeh-gl-2.0.1.min.js\": \"Dv1SQ87hmDqK6S5OhBf0bCuwAEvL5QYL0PuR/F1SPVhCS/r/abjkbpKDYL2zeM19\"};\n\n    for (var i = 0; i < js_urls.length; i++) {\n      var url = js_urls[i];\n      var element = document.createElement('script');\n      element.onload = on_load;\n      element.onerror = on_error;\n      element.async = false;\n      element.src = url;\n      if (url in hashes) {\n        element.crossOrigin = \"anonymous\";\n        element.integrity = \"sha384-\" + hashes[url];\n      }\n      console.debug(\"Bokeh: injecting script tag for BokehJS library: \", url);\n      document.head.appendChild(element);\n    }\n  };var element = document.getElementById(\"1001\");\n  if (element == null) {\n    console.error(\"Bokeh: ERROR: autoload.js configured with elementid '1001' but no matching script tag was found. \")\n    return false;\n  }\n\n  function inject_raw_css(css) {\n    const element = document.createElement(\"style\");\n    element.appendChild(document.createTextNode(css));\n    document.body.appendChild(element);\n  }\n\n  \n  var js_urls = [\"https://cdn.bokeh.org/bokeh/release/bokeh-2.0.1.min.js\", \"https://cdn.bokeh.org/bokeh/release/bokeh-widgets-2.0.1.min.js\", \"https://cdn.bokeh.org/bokeh/release/bokeh-tables-2.0.1.min.js\", \"https://cdn.bokeh.org/bokeh/release/bokeh-gl-2.0.1.min.js\"];\n  var css_urls = [];\n  \n\n  var inline_js = [\n    function(Bokeh) {\n      Bokeh.set_log_level(\"info\");\n    },\n    function(Bokeh) {\n    \n    \n    }\n  ];\n\n  function run_inline_js() {\n    \n    if (root.Bokeh !== undefined || force === true) {\n      \n    for (var i = 0; i < inline_js.length; i++) {\n      inline_js[i].call(root, root.Bokeh);\n    }\n    if (force === true) {\n        display_loaded();\n      }} else if (Date.now() < root._bokeh_timeout) {\n      setTimeout(run_inline_js, 100);\n    } else if (!root._bokeh_failed_load) {\n      console.log(\"Bokeh: BokehJS failed to load within specified timeout.\");\n      root._bokeh_failed_load = true;\n    } else if (force !== true) {\n      var cell = $(document.getElementById(\"1001\")).parents('.cell').data().cell;\n      cell.output_area.append_execute_result(NB_LOAD_WARNING)\n    }\n\n  }\n\n  if (root._bokeh_is_loading === 0) {\n    console.debug(\"Bokeh: BokehJS loaded, going straight to plotting\");\n    run_inline_js();\n  } else {\n    load_libs(css_urls, js_urls, function() {\n      console.debug(\"Bokeh: BokehJS plotting callback run at\", now());\n      run_inline_js();\n    });\n  }\n}(window));"
     },
     "metadata": {},
     "output_type": "display_data"
    },
    {
     "data": {
      "text/html": [
       "<div>\n",
       "<style scoped>\n",
       "    .dataframe tbody tr th:only-of-type {\n",
       "        vertical-align: middle;\n",
       "    }\n",
       "\n",
       "    .dataframe tbody tr th {\n",
       "        vertical-align: top;\n",
       "    }\n",
       "\n",
       "    .dataframe thead th {\n",
       "        text-align: right;\n",
       "    }\n",
       "</style>\n",
       "<table border=\"1\" class=\"dataframe\">\n",
       "  <thead>\n",
       "    <tr style=\"text-align: right;\">\n",
       "      <th></th>\n",
       "      <th>date</th>\n",
       "      <th>county</th>\n",
       "      <th>state</th>\n",
       "      <th>fips</th>\n",
       "      <th>cases</th>\n",
       "      <th>deaths</th>\n",
       "    </tr>\n",
       "  </thead>\n",
       "  <tbody>\n",
       "    <tr>\n",
       "      <th>0</th>\n",
       "      <td>2020-01-21</td>\n",
       "      <td>Snohomish</td>\n",
       "      <td>Washington</td>\n",
       "      <td>53061.0</td>\n",
       "      <td>1</td>\n",
       "      <td>0</td>\n",
       "    </tr>\n",
       "    <tr>\n",
       "      <th>1</th>\n",
       "      <td>2020-01-22</td>\n",
       "      <td>Snohomish</td>\n",
       "      <td>Washington</td>\n",
       "      <td>53061.0</td>\n",
       "      <td>1</td>\n",
       "      <td>0</td>\n",
       "    </tr>\n",
       "    <tr>\n",
       "      <th>2</th>\n",
       "      <td>2020-01-23</td>\n",
       "      <td>Snohomish</td>\n",
       "      <td>Washington</td>\n",
       "      <td>53061.0</td>\n",
       "      <td>1</td>\n",
       "      <td>0</td>\n",
       "    </tr>\n",
       "    <tr>\n",
       "      <th>3</th>\n",
       "      <td>2020-01-24</td>\n",
       "      <td>Cook</td>\n",
       "      <td>Illinois</td>\n",
       "      <td>17031.0</td>\n",
       "      <td>1</td>\n",
       "      <td>0</td>\n",
       "    </tr>\n",
       "    <tr>\n",
       "      <th>4</th>\n",
       "      <td>2020-01-24</td>\n",
       "      <td>Snohomish</td>\n",
       "      <td>Washington</td>\n",
       "      <td>53061.0</td>\n",
       "      <td>1</td>\n",
       "      <td>0</td>\n",
       "    </tr>\n",
       "  </tbody>\n",
       "</table>\n",
       "</div>"
      ],
      "text/plain": [
       "        date     county       state     fips  cases  deaths\n",
       "0 2020-01-21  Snohomish  Washington  53061.0      1       0\n",
       "1 2020-01-22  Snohomish  Washington  53061.0      1       0\n",
       "2 2020-01-23  Snohomish  Washington  53061.0      1       0\n",
       "3 2020-01-24       Cook    Illinois  17031.0      1       0\n",
       "4 2020-01-24  Snohomish  Washington  53061.0      1       0"
      ]
     },
     "execution_count": 1,
     "metadata": {},
     "output_type": "execute_result"
    }
   ],
   "source": [
    "from datetime import datetime, timedelta\n",
    "import math\n",
    "\n",
    "from bokeh.io import output_notebook\n",
    "from bokeh.models import FuncTickFormatter, ColumnDataSource\n",
    "from bokeh.plotting import figure, output_file, show\n",
    "import pandas as pd\n",
    "import numpy as np\n",
    "\n",
    "# bokeh: configure for notebook\n",
    "# https://docs.bokeh.org/en/latest/docs/user_guide/jupyter.html#userguide-jupyter-notebook\n",
    "output_notebook()\n",
    "\n",
    "# load data\n",
    "df = pd.read_csv(\n",
    "    \"https://raw.githubusercontent.com/nytimes/covid-19-data/master/us-counties.csv\"\n",
    ")\n",
    "df.date = df.date.apply(pd.to_datetime)\n",
    "df.head()"
   ]
  },
  {
   "cell_type": "code",
   "execution_count": 2,
   "metadata": {},
   "outputs": [],
   "source": [
    "def get_r_squared(x, y, coeffs):\n",
    "    # source: https://stackoverflow.com/questions/893657/\n",
    "    p = np.poly1d(coeffs, r=True)\n",
    "    # fit values, and mean\n",
    "    yhat = p(x)  # or [p(z) for z in x]\n",
    "    ybar = np.sum(y) / len(y)  # or sum(y)/len(y)\n",
    "    ssreg = np.sum(\n",
    "        (yhat - ybar) ** 2\n",
    "    )  # or sum([ (yihat - ybar)**2 for yihat in yhat])\n",
    "    sstot = np.sum((y - ybar) ** 2)  # or sum([ (yi - ybar)**2 for yi in y])\n",
    "    return 1 - (ssreg / sstot)\n",
    "\n",
    "def unbiased_polyfit(df, steps=10):\n",
    "    # source: https://stackoverflow.com/questions/3433486\n",
    "    # generate x y values for calculation\n",
    "    x, y = list(range(len(df.index))), df[(\"cases\", \"sum\")]\n",
    "    b, a_ = np.polyfit(x, np.log(y), 1, w=np.sqrt(y))\n",
    "    a = math.exp(a_)\n",
    "    r_squared = get_r_squared(x, y, [b, a_])\n",
    "    print(f\"y ≈ exp({a_}) * exp({b} * x)\")\n",
    "    print(f\"y = {a} * exp({b} * x)\")\n",
    "    # print(f'r^2 = {r_squared}')\n",
    "    fnc = lambda x: a * math.exp(b * x)\n",
    "    x_range = [i for i in range(len(df.index) + steps)]\n",
    "    line = [fnc(x_val) for x_val in x_range]\n",
    "    return line\n",
    "\n",
    "\n",
    "def make_figure(df, title):\n",
    "    # make the figure\n",
    "    p = figure(\n",
    "        title=title,\n",
    "        x_axis_label=\"Date\",\n",
    "        y_axis_label=\"# of Cases & Deaths\",\n",
    "        y_range=[0, int(df[(\"cases\", \"sum\")].max() * 1.20)],\n",
    "        x_range=[df.index[0], pd.Timestamp(df.index.max() + timedelta(days=2))],\n",
    "        plot_width=880,\n",
    "        tools=\"pan,wheel_zoom,box_zoom,reset\",\n",
    "    )\n",
    "    # add actual values as an area graph\n",
    "    source = ColumnDataSource(\n",
    "        data=dict(x=df.index, cases=df[(\"cases\", \"sum\")], deaths=df[(\"deaths\", \"sum\")],)\n",
    "    )\n",
    "    p.varea_stack([\"deaths\", \"cases\"], x=\"x\", color=(\"red\", \"lightblue\"), source=source)\n",
    "    # add unbiased polyfit\n",
    "    steps = 10\n",
    "    extended_x = list(df.index) + [\n",
    "        pd.Timestamp(df.index.max() + timedelta(days=i)) for i in range(1, steps + 1)\n",
    "    ]\n",
    "    p.line(\n",
    "        extended_x,\n",
    "        unbiased_polyfit(df, steps=steps),\n",
    "        legend_label=f\"Projected # of Cases\",\n",
    "        line_width=1,\n",
    "        line_color=\"gray\",\n",
    "        line_dash=\"dashed\",\n",
    "        line_alpha=0.75,\n",
    "    )\n",
    "    # format axis\n",
    "    label_dict = {str(d): d.strftime(\"%d-%m-%Y\") for d in df.index}\n",
    "    p.xaxis.formatter = FuncTickFormatter(\n",
    "        code=\"\"\"\n",
    "        let date = new Date(tick);\n",
    "        return `${date.getDate()}-${date.getMonth()}-${date.getFullYear()}`\n",
    "    \"\"\"\n",
    "    )\n",
    "    p.legend.location = \"top_left\"\n",
    "    show(p)\n",
    "\n",
    "\n",
    "def plot_state_curve(df, state: str):\n",
    "    # get the state data\n",
    "    state_df = df[df[\"state\"] == state]\n",
    "    # arrange by day\n",
    "    day_df = (\n",
    "        state_df.drop(columns=[\"fips\", \"state\", \"county\"])\n",
    "        .groupby(by=\"date\")\n",
    "        .agg([\"sum\"])\n",
    "    )\n",
    "    day_df.columns = {(\"cases\", \"sum\"): \"cases_sum\", (\"deaths\", \"sum\"): \"deaths_sum\"}\n",
    "    make_figure(day_df, f\"{state} Cases\")\n",
    "\n",
    "\n",
    "def plot_state_counties_curve(df, state: str, counties: list, title=None):\n",
    "    # get the state and county data\n",
    "    counties_df = df[(df.state == state) & (df.county.isin(counties))]\n",
    "    # arrange by day\n",
    "    day_df = (\n",
    "        counties_df.drop(columns=[\"fips\", \"state\", \"county\"])\n",
    "        .groupby(by=\"date\")\n",
    "        .agg([\"sum\"])\n",
    "    )\n",
    "    day_df.columns = {(\"cases\", \"sum\"): \"cases_sum\", (\"deaths\", \"sum\"): \"deaths_sum\"}\n",
    "    make_figure(day_df, title or f'{state} Cases for counties {\",\".join(counties)}')\n",
    "\n",
    "\n",
    "def plot_states_and_counties_curve(df, state_county_map: dict, name):\n",
    "    \"\"\"for metropolitan area. i.e. chicagoland\"\"\"\n",
    "    states = state_county_map.keys()\n",
    "    # trim dataset to relevant states, counties\n",
    "    state_counties_df = df[\n",
    "        df.apply(\n",
    "            lambda x: x[\"state\"] in states\n",
    "            and x[\"county\"] in state_county_map[x[\"state\"]],\n",
    "            axis=1,\n",
    "        )\n",
    "    ]\n",
    "    # arrange by day\n",
    "    day_df = (\n",
    "        state_counties_df.drop(columns=[\"fips\", \"state\", \"county\"])\n",
    "        .groupby(by=\"date\")\n",
    "        .agg([\"sum\"])\n",
    "    )\n",
    "    day_df.columns = {(\"cases\", \"sum\"): \"cases_sum\", (\"deaths\", \"sum\"): \"deaths_sum\"}\n",
    "    make_figure(day_df, name)"
   ]
  },
  {
   "cell_type": "code",
   "execution_count": 3,
   "metadata": {},
   "outputs": [
    {
     "name": "stdout",
     "output_type": "stream",
     "text": [
      "y ≈ exp(6.115572153715892) * exp(0.0716723030607093 * x)\n",
      "y = 452.855075976519 * exp(0.0716723030607093 * x)\n"
     ]
    },
    {
     "data": {
      "text/html": [
       "\n",
       "\n",
       "\n",
       "\n",
       "\n",
       "\n",
       "  <div class=\"bk-root\" id=\"5eda3d11-728a-4279-8128-0963389528b2\" data-root-id=\"1002\"></div>\n"
      ]
     },
     "metadata": {},
     "output_type": "display_data"
    },
    {
     "data": {
      "application/javascript": [
       "(function(root) {\n",
       "  function embed_document(root) {\n",
       "    \n",
       "  var docs_json = {\"85d49425-776f-48b9-8ef2-ea1026334867\":{\"roots\":{\"references\":[{\"attributes\":{\"below\":[{\"id\":\"1013\"}],\"center\":[{\"id\":\"1016\"},{\"id\":\"1020\"},{\"id\":\"1071\"}],\"left\":[{\"id\":\"1017\"}],\"plot_width\":880,\"renderers\":[{\"id\":\"1039\"},{\"id\":\"1044\"},{\"id\":\"1049\"}],\"title\":{\"id\":\"1003\"},\"toolbar\":{\"id\":\"1026\"},\"x_range\":{\"id\":\"1005\"},\"x_scale\":{\"id\":\"1009\"},\"y_range\":{\"id\":\"1007\"},\"y_scale\":{\"id\":\"1011\"}},\"id\":\"1002\",\"subtype\":\"Figure\",\"type\":\"Plot\"},{\"attributes\":{\"months\":[0,1,2,3,4,5,6,7,8,9,10,11]},\"id\":\"1066\",\"type\":\"MonthsTicker\"},{\"attributes\":{\"line_alpha\":0.1,\"line_color\":\"gray\",\"line_dash\":[6],\"x\":{\"field\":\"x\"},\"y\":{\"field\":\"y\"}},\"id\":\"1048\",\"type\":\"Line\"},{\"attributes\":{\"label\":{\"value\":\"Projected # of Cases\"},\"renderers\":[{\"id\":\"1049\"}]},\"id\":\"1072\",\"type\":\"LegendItem\"},{\"attributes\":{},\"id\":\"1054\",\"type\":\"BasicTickFormatter\"},{\"attributes\":{\"end\":19153},\"id\":\"1007\",\"type\":\"Range1d\"},{\"attributes\":{},\"id\":\"1056\",\"type\":\"Selection\"},{\"attributes\":{\"data\":{\"cases\":[1,1,2,4,6,11,12,12,15,19,24,30,39,56,79,126,201,259,366,479,656,986,1232,1514,1788,2168,2566,3038,3435,3951,4409,4956,5509,5943,6351,6907,7435,7928,8236,8527,8955,9542,10154,10641,11210,11686,12097,12438,13039,13680,14395,15012,15961],\"deaths\":[0,0,0,0,0,0,0,0,0,0,1,2,2,2,3,4,6,7,12,14,18,26,31,32,35,50,66,78,102,116,127,141,173,203,246,300,330,343,350,387,436,477,519,545,562,569,630,661,706,741,785,813,844],\"x\":{\"__ndarray__\":\"AABARNIKd0IAAACqJAt3QgAAwA93C3dCAACAdckLd0IAAEDbGwx3QgAAAEFuDHdCAADApsAMd0IAAIAMEw13QgAAQHJlDXdCAAAA2LcNd0IAAMA9Cg53QgAAgKNcDndCAABACa8Od0IAAABvAQ93QgAAwNRTD3dCAACAOqYPd0IAAECg+A93QgAAAAZLEHdCAADAa50Qd0IAAIDR7xB3QgAAQDdCEXdCAAAAnZQRd0IAAMAC5xF3QgAAgGg5EndCAABAzosSd0IAAAA03hJ3QgAAwJkwE3dCAACA/4ITd0IAAEBl1RN3QgAAAMsnFHdCAADAMHoUd0IAAICWzBR3QgAAQPweFXdCAAAAYnEVd0IAAMDHwxV3QgAAgC0WFndCAABAk2gWd0IAAAD5uhZ3QgAAwF4NF3dCAACAxF8Xd0IAAEAqshd3QgAAAJAEGHdCAADA9VYYd0IAAIBbqRh3QgAAQMH7GHdCAAAAJ04Zd0IAAMCMoBl3QgAAgPLyGXdCAABAWEUad0IAAAC+lxp3QgAAwCPqGndCAACAiTwbd0IAAEDvjht3Qg==\",\"dtype\":\"float64\",\"shape\":[53]}},\"selected\":{\"id\":\"1056\"},\"selection_policy\":{\"id\":\"1057\"}},\"id\":\"1031\",\"type\":\"ColumnDataSource\"},{\"attributes\":{},\"id\":\"1082\",\"type\":\"UnionRenderers\"},{\"attributes\":{\"end\":1588118400000.0,\"start\":1583452800000.0},\"id\":\"1005\",\"type\":\"Range1d\"},{\"attributes\":{},\"id\":\"1057\",\"type\":\"UnionRenderers\"},{\"attributes\":{\"source\":{\"id\":\"1046\"}},\"id\":\"1050\",\"type\":\"CDSView\"},{\"attributes\":{\"days\":[1,4,7,10,13,16,19,22,25,28]},\"id\":\"1063\",\"type\":\"DaysTicker\"},{\"attributes\":{\"data_source\":{\"id\":\"1031\"},\"glyph\":{\"id\":\"1042\"},\"hover_glyph\":null,\"muted_glyph\":null,\"name\":\"cases\",\"nonselection_glyph\":{\"id\":\"1043\"},\"selection_glyph\":null,\"view\":{\"id\":\"1045\"}},\"id\":\"1044\",\"type\":\"GlyphRenderer\"},{\"attributes\":{\"overlay\":{\"id\":\"1025\"}},\"id\":\"1023\",\"type\":\"BoxZoomTool\"},{\"attributes\":{},\"id\":\"1081\",\"type\":\"Selection\"},{\"attributes\":{},\"id\":\"1024\",\"type\":\"ResetTool\"},{\"attributes\":{\"active_drag\":\"auto\",\"active_inspect\":\"auto\",\"active_multi\":null,\"active_scroll\":\"auto\",\"active_tap\":\"auto\",\"tools\":[{\"id\":\"1021\"},{\"id\":\"1022\"},{\"id\":\"1023\"},{\"id\":\"1024\"}]},\"id\":\"1026\",\"type\":\"Toolbar\"},{\"attributes\":{\"fields\":[]},\"id\":\"1032\",\"type\":\"Stack\"},{\"attributes\":{\"base\":24,\"mantissas\":[1,2,4,6,8,12],\"max_interval\":43200000.0,\"min_interval\":3600000.0,\"num_minor_ticks\":0},\"id\":\"1061\",\"type\":\"AdaptiveTicker\"},{\"attributes\":{\"num_minor_ticks\":5,\"tickers\":[{\"id\":\"1059\"},{\"id\":\"1060\"},{\"id\":\"1061\"},{\"id\":\"1062\"},{\"id\":\"1063\"},{\"id\":\"1064\"},{\"id\":\"1065\"},{\"id\":\"1066\"},{\"id\":\"1067\"},{\"id\":\"1068\"},{\"id\":\"1069\"},{\"id\":\"1070\"}]},\"id\":\"1014\",\"type\":\"DatetimeTicker\"},{\"attributes\":{\"axis\":{\"id\":\"1013\"},\"ticker\":null},\"id\":\"1016\",\"type\":\"Grid\"},{\"attributes\":{\"items\":[{\"id\":\"1072\"}],\"location\":\"top_left\"},\"id\":\"1071\",\"type\":\"Legend\"},{\"attributes\":{},\"id\":\"1018\",\"type\":\"BasicTicker\"},{\"attributes\":{\"fields\":[\"deaths\",\"cases\"]},\"id\":\"1035\",\"type\":\"Stack\"},{\"attributes\":{\"fields\":[\"deaths\"]},\"id\":\"1033\",\"type\":\"Stack\"},{\"attributes\":{\"fill_color\":\"red\",\"x\":{\"field\":\"x\"},\"y1\":{\"expr\":{\"id\":\"1032\"}},\"y2\":{\"expr\":{\"id\":\"1033\"}}},\"id\":\"1037\",\"type\":\"VArea\"},{\"attributes\":{\"mantissas\":[1,2,5],\"max_interval\":500.0,\"num_minor_ticks\":0},\"id\":\"1059\",\"type\":\"AdaptiveTicker\"},{\"attributes\":{\"fill_color\":\"lightblue\",\"x\":{\"field\":\"x\"},\"y1\":{\"expr\":{\"id\":\"1034\"}},\"y2\":{\"expr\":{\"id\":\"1035\"}}},\"id\":\"1042\",\"type\":\"VArea\"},{\"attributes\":{\"data\":{\"x\":[1583452800000.0,1583539200000.0,1583625600000.0,1583712000000.0,1583798400000.0,1583884800000.0,1583971200000.0,1584057600000.0,1584144000000.0,1584230400000.0,1584316800000.0,1584403200000.0,1584489600000.0,1584576000000.0,1584662400000.0,1584748800000.0,1584835200000.0,1584921600000.0,1585008000000.0,1585094400000.0,1585180800000.0,1585267200000.0,1585353600000.0,1585440000000.0,1585526400000.0,1585612800000.0,1585699200000.0,1585785600000.0,1585872000000.0,1585958400000.0,1586044800000.0,1586131200000.0,1586217600000.0,1586304000000.0,1586390400000.0,1586476800000.0,1586563200000.0,1586649600000.0,1586736000000.0,1586822400000.0,1586908800000.0,1586995200000.0,1587081600000.0,1587168000000.0,1587254400000.0,1587340800000.0,1587427200000.0,1587513600000.0,1587600000000.0,1587686400000.0,1587772800000.0,1587859200000.0,1587945600000.0,1588032000000.0,1588118400000.0,1588204800000.0,1588291200000.0,1588377600000.0,1588464000000.0,1588550400000.0,1588636800000.0,1588723200000.0,1588809600000.0],\"y\":[452.855075976519,486.50367559462313,522.6524752023554,561.4872477608219,603.207569764135,648.0278468866452,696.1784158390875,747.9067280962083,803.478621579192,863.1796868282129,927.3167346860338,996.2193730352527,1070.241700692236,1149.7641271628609,1235.1953276120046,1326.974343093603,1425.5728368346086,1531.4975181681575,1645.2927465728237,1767.5433292004336,1898.8775262692552,2039.9702797676464,2191.5466820608444,2354.3857022264788,2529.324189268888,2717.261172785239,2919.1624831850627,3136.0657152070844,3369.085560241433,3619.419534860673,3888.3541349992543,4177.271447408432,4487.656252363722,4821.103654126529,5179.327278373802,5564.168078723277,5977.603797612077,6421.759130149274,6898.9166431755875,7411.528505644648,7962.22909060957,8553.84851357798,9189.427176810681,9872.231394308867,10605.770177788469,11393.813269906836,12240.410517416582,13149.912683807534,14126.993808395415,15176.675226763311,16304.351375999715,17515.81751734942,18817.299518747208,20215.485850290286,21717.56195707801,23331.24718606499,25064.834456699078,26927.23287921618,28928.01353961263,31077.4586865894,33386.61457324538,35867.34822508006,38532.40842604249]},\"selected\":{\"id\":\"1081\"},\"selection_policy\":{\"id\":\"1082\"}},\"id\":\"1046\",\"type\":\"ColumnDataSource\"},{\"attributes\":{},\"id\":\"1070\",\"type\":\"YearsTicker\"},{\"attributes\":{\"days\":[1,8,15,22]},\"id\":\"1064\",\"type\":\"DaysTicker\"},{\"attributes\":{\"text\":\"Indiana Cases\"},\"id\":\"1003\",\"type\":\"Title\"},{\"attributes\":{},\"id\":\"1011\",\"type\":\"LinearScale\"},{\"attributes\":{},\"id\":\"1021\",\"type\":\"PanTool\"},{\"attributes\":{\"axis\":{\"id\":\"1017\"},\"dimension\":1,\"ticker\":null},\"id\":\"1020\",\"type\":\"Grid\"},{\"attributes\":{\"fields\":[\"deaths\"]},\"id\":\"1034\",\"type\":\"Stack\"},{\"attributes\":{\"days\":[1,15]},\"id\":\"1065\",\"type\":\"DaysTicker\"},{\"attributes\":{\"line_alpha\":0.75,\"line_color\":\"gray\",\"line_dash\":[6],\"x\":{\"field\":\"x\"},\"y\":{\"field\":\"y\"}},\"id\":\"1047\",\"type\":\"Line\"},{\"attributes\":{\"months\":[0,6]},\"id\":\"1069\",\"type\":\"MonthsTicker\"},{\"attributes\":{\"fill_alpha\":0.1,\"fill_color\":\"red\",\"x\":{\"field\":\"x\"},\"y1\":{\"expr\":{\"id\":\"1032\"}},\"y2\":{\"expr\":{\"id\":\"1033\"}}},\"id\":\"1038\",\"type\":\"VArea\"},{\"attributes\":{\"axis_label\":\"# of Cases & Deaths\",\"formatter\":{\"id\":\"1054\"},\"ticker\":{\"id\":\"1018\"}},\"id\":\"1017\",\"type\":\"LinearAxis\"},{\"attributes\":{\"bottom_units\":\"screen\",\"fill_alpha\":0.5,\"fill_color\":\"lightgrey\",\"left_units\":\"screen\",\"level\":\"overlay\",\"line_alpha\":1.0,\"line_color\":\"black\",\"line_dash\":[4,4],\"line_width\":2,\"render_mode\":\"css\",\"right_units\":\"screen\",\"top_units\":\"screen\"},\"id\":\"1025\",\"type\":\"BoxAnnotation\"},{\"attributes\":{\"axis_label\":\"Date\",\"formatter\":{\"id\":\"1073\"},\"ticker\":{\"id\":\"1014\"}},\"id\":\"1013\",\"type\":\"DatetimeAxis\"},{\"attributes\":{},\"id\":\"1009\",\"type\":\"LinearScale\"},{\"attributes\":{\"months\":[0,2,4,6,8,10]},\"id\":\"1067\",\"type\":\"MonthsTicker\"},{\"attributes\":{\"source\":{\"id\":\"1031\"}},\"id\":\"1040\",\"type\":\"CDSView\"},{\"attributes\":{\"code\":\"\\n        let date = new Date(tick);\\n        return `${date.getDate()}-${date.getMonth()}-${date.getFullYear()}`\\n    \"},\"id\":\"1073\",\"type\":\"FuncTickFormatter\"},{\"attributes\":{\"months\":[0,4,8]},\"id\":\"1068\",\"type\":\"MonthsTicker\"},{\"attributes\":{\"data_source\":{\"id\":\"1046\"},\"glyph\":{\"id\":\"1047\"},\"hover_glyph\":null,\"muted_glyph\":null,\"nonselection_glyph\":{\"id\":\"1048\"},\"selection_glyph\":null,\"view\":{\"id\":\"1050\"}},\"id\":\"1049\",\"type\":\"GlyphRenderer\"},{\"attributes\":{},\"id\":\"1022\",\"type\":\"WheelZoomTool\"},{\"attributes\":{\"fill_alpha\":0.1,\"fill_color\":\"lightblue\",\"x\":{\"field\":\"x\"},\"y1\":{\"expr\":{\"id\":\"1034\"}},\"y2\":{\"expr\":{\"id\":\"1035\"}}},\"id\":\"1043\",\"type\":\"VArea\"},{\"attributes\":{\"source\":{\"id\":\"1031\"}},\"id\":\"1045\",\"type\":\"CDSView\"},{\"attributes\":{\"base\":60,\"mantissas\":[1,2,5,10,15,20,30],\"max_interval\":1800000.0,\"min_interval\":1000.0,\"num_minor_ticks\":0},\"id\":\"1060\",\"type\":\"AdaptiveTicker\"},{\"attributes\":{\"days\":[1,2,3,4,5,6,7,8,9,10,11,12,13,14,15,16,17,18,19,20,21,22,23,24,25,26,27,28,29,30,31]},\"id\":\"1062\",\"type\":\"DaysTicker\"},{\"attributes\":{\"data_source\":{\"id\":\"1031\"},\"glyph\":{\"id\":\"1037\"},\"hover_glyph\":null,\"muted_glyph\":null,\"name\":\"deaths\",\"nonselection_glyph\":{\"id\":\"1038\"},\"selection_glyph\":null,\"view\":{\"id\":\"1040\"}},\"id\":\"1039\",\"type\":\"GlyphRenderer\"}],\"root_ids\":[\"1002\"]},\"title\":\"Bokeh Application\",\"version\":\"2.0.1\"}};\n",
       "  var render_items = [{\"docid\":\"85d49425-776f-48b9-8ef2-ea1026334867\",\"root_ids\":[\"1002\"],\"roots\":{\"1002\":\"5eda3d11-728a-4279-8128-0963389528b2\"}}];\n",
       "  root.Bokeh.embed.embed_items_notebook(docs_json, render_items);\n",
       "\n",
       "  }\n",
       "  if (root.Bokeh !== undefined) {\n",
       "    embed_document(root);\n",
       "  } else {\n",
       "    var attempts = 0;\n",
       "    var timer = setInterval(function(root) {\n",
       "      if (root.Bokeh !== undefined) {\n",
       "        clearInterval(timer);\n",
       "        embed_document(root);\n",
       "      } else {\n",
       "        attempts++;\n",
       "        if (attempts > 100) {\n",
       "          clearInterval(timer);\n",
       "          console.log(\"Bokeh: ERROR: Unable to run BokehJS code because BokehJS library is missing\");\n",
       "        }\n",
       "      }\n",
       "    }, 10, root)\n",
       "  }\n",
       "})(window);"
      ],
      "application/vnd.bokehjs_exec.v0+json": ""
     },
     "metadata": {
      "application/vnd.bokehjs_exec.v0+json": {
       "id": "1002"
      }
     },
     "output_type": "display_data"
    }
   ],
   "source": [
    "plot_state_curve(df, \"Indiana\")"
   ]
  },
  {
   "cell_type": "code",
   "execution_count": 4,
   "metadata": {},
   "outputs": [
    {
     "name": "stdout",
     "output_type": "stream",
     "text": [
      "y ≈ exp(4.252168939454813) * exp(0.08149849233548244 * x)\n",
      "y = 70.2576317591935 * exp(0.08149849233548244 * x)\n"
     ]
    },
    {
     "data": {
      "text/html": [
       "\n",
       "\n",
       "\n",
       "\n",
       "\n",
       "\n",
       "  <div class=\"bk-root\" id=\"de74a909-afd8-47a5-8deb-99b22fd45b0a\" data-root-id=\"1222\"></div>\n"
      ]
     },
     "metadata": {},
     "output_type": "display_data"
    },
    {
     "data": {
      "application/javascript": [
       "(function(root) {\n",
       "  function embed_document(root) {\n",
       "    \n",
       "  var docs_json = {\"68ea8846-df10-467a-96ed-5914d8465b6c\":{\"roots\":{\"references\":[{\"attributes\":{\"below\":[{\"id\":\"1233\"}],\"center\":[{\"id\":\"1236\"},{\"id\":\"1240\"},{\"id\":\"1291\"}],\"left\":[{\"id\":\"1237\"}],\"plot_width\":880,\"renderers\":[{\"id\":\"1259\"},{\"id\":\"1264\"},{\"id\":\"1269\"}],\"title\":{\"id\":\"1223\"},\"toolbar\":{\"id\":\"1246\"},\"x_range\":{\"id\":\"1225\"},\"x_scale\":{\"id\":\"1229\"},\"y_range\":{\"id\":\"1227\"},\"y_scale\":{\"id\":\"1231\"}},\"id\":\"1222\",\"subtype\":\"Figure\",\"type\":\"Plot\"},{\"attributes\":{\"fill_alpha\":0.1,\"fill_color\":\"lightblue\",\"x\":{\"field\":\"x\"},\"y1\":{\"expr\":{\"id\":\"1254\"}},\"y2\":{\"expr\":{\"id\":\"1255\"}}},\"id\":\"1263\",\"type\":\"VArea\"},{\"attributes\":{},\"id\":\"1229\",\"type\":\"LinearScale\"},{\"attributes\":{\"fill_alpha\":0.1,\"fill_color\":\"red\",\"x\":{\"field\":\"x\"},\"y1\":{\"expr\":{\"id\":\"1252\"}},\"y2\":{\"expr\":{\"id\":\"1253\"}}},\"id\":\"1258\",\"type\":\"VArea\"},{\"attributes\":{\"source\":{\"id\":\"1266\"}},\"id\":\"1270\",\"type\":\"CDSView\"},{\"attributes\":{\"fields\":[\"deaths\"]},\"id\":\"1254\",\"type\":\"Stack\"},{\"attributes\":{\"days\":[1,4,7,10,13,16,19,22,25,28]},\"id\":\"1283\",\"type\":\"DaysTicker\"},{\"attributes\":{\"axis\":{\"id\":\"1233\"},\"ticker\":null},\"id\":\"1236\",\"type\":\"Grid\"},{\"attributes\":{\"fields\":[\"deaths\"]},\"id\":\"1253\",\"type\":\"Stack\"},{\"attributes\":{\"data\":{\"x\":[1584403200000.0,1584489600000.0,1584576000000.0,1584662400000.0,1584748800000.0,1584835200000.0,1584921600000.0,1585008000000.0,1585094400000.0,1585180800000.0,1585267200000.0,1585353600000.0,1585440000000.0,1585526400000.0,1585612800000.0,1585699200000.0,1585785600000.0,1585872000000.0,1585958400000.0,1586044800000.0,1586131200000.0,1586217600000.0,1586304000000.0,1586390400000.0,1586476800000.0,1586563200000.0,1586649600000.0,1586736000000.0,1586822400000.0,1586908800000.0,1586995200000.0,1587081600000.0,1587168000000.0,1587254400000.0,1587340800000.0,1587427200000.0,1587513600000.0,1587600000000.0,1587686400000.0,1587772800000.0,1587859200000.0,1587945600000.0,1588032000000.0,1588118400000.0,1588204800000.0,1588291200000.0,1588377600000.0,1588464000000.0,1588550400000.0,1588636800000.0,1588723200000.0,1588809600000.0],\"y\":[70.2576317591935,76.2233184124192,82.69556095649047,89.7173718534197,97.3354158214104,105.60031995370744,114.56701017013026,124.29507623723742,134.84916778293106,146.29942393728768,158.72193945487174,172.199270416232,186.82098286931216,202.68424805687133,219.89448818560643,238.5660770285525,258.82310001674085,280.80017887144237,304.6433662572391,330.51111640150367,358.5753381307135,389.02253732174484,422.05505636051316,457.8924188450075,496.7727884691864,538.9545517830139,584.7180353471527,634.3673686939804,688.2325054755713,746.6714162305506,810.0724673422521,878.8570019979755,953.4821403015766,1034.4438171480479,1122.2800780488353,1217.5746548108957,1320.9608448323206,1433.1257197950858,1554.814691724563,1686.8364667603653,1830.0684195597125,1985.4624240498886,2154.051179279112,2336.955072405413,2535.3896244327484,2750.6735681763575,2984.237612140922,3237.6339485534954,3512.5465687385404,3810.8024543877927,4134.38371909853,4485.440780869079]},\"selected\":{\"id\":\"1322\"},\"selection_policy\":{\"id\":\"1323\"}},\"id\":\"1266\",\"type\":\"ColumnDataSource\"},{\"attributes\":{},\"id\":\"1322\",\"type\":\"Selection\"},{\"attributes\":{\"base\":60,\"mantissas\":[1,2,5,10,15,20,30],\"max_interval\":1800000.0,\"min_interval\":1000.0,\"num_minor_ticks\":0},\"id\":\"1280\",\"type\":\"AdaptiveTicker\"},{\"attributes\":{},\"id\":\"1242\",\"type\":\"WheelZoomTool\"},{\"attributes\":{\"bottom_units\":\"screen\",\"fill_alpha\":0.5,\"fill_color\":\"lightgrey\",\"left_units\":\"screen\",\"level\":\"overlay\",\"line_alpha\":1.0,\"line_color\":\"black\",\"line_dash\":[4,4],\"line_width\":2,\"render_mode\":\"css\",\"right_units\":\"screen\",\"top_units\":\"screen\"},\"id\":\"1245\",\"type\":\"BoxAnnotation\"},{\"attributes\":{\"days\":[1,8,15,22]},\"id\":\"1284\",\"type\":\"DaysTicker\"},{\"attributes\":{\"label\":{\"value\":\"Projected # of Cases\"},\"renderers\":[{\"id\":\"1269\"}]},\"id\":\"1292\",\"type\":\"LegendItem\"},{\"attributes\":{\"num_minor_ticks\":5,\"tickers\":[{\"id\":\"1279\"},{\"id\":\"1280\"},{\"id\":\"1281\"},{\"id\":\"1282\"},{\"id\":\"1283\"},{\"id\":\"1284\"},{\"id\":\"1285\"},{\"id\":\"1286\"},{\"id\":\"1287\"},{\"id\":\"1288\"},{\"id\":\"1289\"},{\"id\":\"1290\"}]},\"id\":\"1234\",\"type\":\"DatetimeTicker\"},{\"attributes\":{\"days\":[1,15]},\"id\":\"1285\",\"type\":\"DaysTicker\"},{\"attributes\":{},\"id\":\"1323\",\"type\":\"UnionRenderers\"},{\"attributes\":{\"code\":\"\\n        let date = new Date(tick);\\n        return `${date.getDate()}-${date.getMonth()}-${date.getFullYear()}`\\n    \"},\"id\":\"1293\",\"type\":\"FuncTickFormatter\"},{\"attributes\":{},\"id\":\"1238\",\"type\":\"BasicTicker\"},{\"attributes\":{\"months\":[0,1,2,3,4,5,6,7,8,9,10,11]},\"id\":\"1286\",\"type\":\"MonthsTicker\"},{\"attributes\":{\"fill_color\":\"red\",\"x\":{\"field\":\"x\"},\"y1\":{\"expr\":{\"id\":\"1252\"}},\"y2\":{\"expr\":{\"id\":\"1253\"}}},\"id\":\"1257\",\"type\":\"VArea\"},{\"attributes\":{\"data\":{\"cases\":[2,3,4,6,7,10,11,17,19,31,47,68,85,97,146,180,215,244,313,335,369,418,461,525,576,676,744,796,819,876,978,1026,1095,1105,1182,1227,1292,1346,1445,1515,1533,1586],\"deaths\":[0,0,0,0,0,0,0,0,0,0,0,1,1,1,5,6,6,7,8,8,8,11,12,19,23,25,25,26,31,33,41,42,43,45,47,54,57,61,63,67,69,70],\"x\":{\"__ndarray__\":\"AACAo1wOd0IAAEAJrw53QgAAAG8BD3dCAADA1FMPd0IAAIA6pg93QgAAQKD4D3dCAAAABksQd0IAAMBrnRB3QgAAgNHvEHdCAABAN0IRd0IAAACdlBF3QgAAwALnEXdCAACAaDkSd0IAAEDOixJ3QgAAADTeEndCAADAmTATd0IAAID/ghN3QgAAQGXVE3dCAAAAyycUd0IAAMAwehR3QgAAgJbMFHdCAABA/B4Vd0IAAABicRV3QgAAwMfDFXdCAACALRYWd0IAAECTaBZ3QgAAAPm6FndCAADAXg0Xd0IAAIDEXxd3QgAAQCqyF3dCAAAAkAQYd0IAAMD1Vhh3QgAAgFupGHdCAABAwfsYd0IAAAAnThl3QgAAwIygGXdCAACA8vIZd0IAAEBYRRp3QgAAAL6XGndCAADAI+oad0IAAICJPBt3QgAAQO+OG3dC\",\"dtype\":\"float64\",\"shape\":[42]}},\"selected\":{\"id\":\"1276\"},\"selection_policy\":{\"id\":\"1277\"}},\"id\":\"1251\",\"type\":\"ColumnDataSource\"},{\"attributes\":{},\"id\":\"1277\",\"type\":\"UnionRenderers\"},{\"attributes\":{\"axis_label\":\"Date\",\"formatter\":{\"id\":\"1293\"},\"ticker\":{\"id\":\"1234\"}},\"id\":\"1233\",\"type\":\"DatetimeAxis\"},{\"attributes\":{\"end\":1588118400000.0,\"start\":1584403200000.0},\"id\":\"1225\",\"type\":\"Range1d\"},{\"attributes\":{},\"id\":\"1276\",\"type\":\"Selection\"},{\"attributes\":{\"months\":[0,2,4,6,8,10]},\"id\":\"1287\",\"type\":\"MonthsTicker\"},{\"attributes\":{\"axis_label\":\"# of Cases & Deaths\",\"formatter\":{\"id\":\"1274\"},\"ticker\":{\"id\":\"1238\"}},\"id\":\"1237\",\"type\":\"LinearAxis\"},{\"attributes\":{\"days\":[1,2,3,4,5,6,7,8,9,10,11,12,13,14,15,16,17,18,19,20,21,22,23,24,25,26,27,28,29,30,31]},\"id\":\"1282\",\"type\":\"DaysTicker\"},{\"attributes\":{},\"id\":\"1231\",\"type\":\"LinearScale\"},{\"attributes\":{\"items\":[{\"id\":\"1292\"}],\"location\":\"top_left\"},\"id\":\"1291\",\"type\":\"Legend\"},{\"attributes\":{\"months\":[0,4,8]},\"id\":\"1288\",\"type\":\"MonthsTicker\"},{\"attributes\":{\"end\":1903},\"id\":\"1227\",\"type\":\"Range1d\"},{\"attributes\":{\"source\":{\"id\":\"1251\"}},\"id\":\"1265\",\"type\":\"CDSView\"},{\"attributes\":{\"data_source\":{\"id\":\"1251\"},\"glyph\":{\"id\":\"1257\"},\"hover_glyph\":null,\"muted_glyph\":null,\"name\":\"deaths\",\"nonselection_glyph\":{\"id\":\"1258\"},\"selection_glyph\":null,\"view\":{\"id\":\"1260\"}},\"id\":\"1259\",\"type\":\"GlyphRenderer\"},{\"attributes\":{\"months\":[0,6]},\"id\":\"1289\",\"type\":\"MonthsTicker\"},{\"attributes\":{\"data_source\":{\"id\":\"1251\"},\"glyph\":{\"id\":\"1262\"},\"hover_glyph\":null,\"muted_glyph\":null,\"name\":\"cases\",\"nonselection_glyph\":{\"id\":\"1263\"},\"selection_glyph\":null,\"view\":{\"id\":\"1265\"}},\"id\":\"1264\",\"type\":\"GlyphRenderer\"},{\"attributes\":{},\"id\":\"1290\",\"type\":\"YearsTicker\"},{\"attributes\":{\"fields\":[]},\"id\":\"1252\",\"type\":\"Stack\"},{\"attributes\":{\"mantissas\":[1,2,5],\"max_interval\":500.0,\"num_minor_ticks\":0},\"id\":\"1279\",\"type\":\"AdaptiveTicker\"},{\"attributes\":{\"text\":\"Indiana Cases for counties Lake\"},\"id\":\"1223\",\"type\":\"Title\"},{\"attributes\":{\"data_source\":{\"id\":\"1266\"},\"glyph\":{\"id\":\"1267\"},\"hover_glyph\":null,\"muted_glyph\":null,\"nonselection_glyph\":{\"id\":\"1268\"},\"selection_glyph\":null,\"view\":{\"id\":\"1270\"}},\"id\":\"1269\",\"type\":\"GlyphRenderer\"},{\"attributes\":{\"fill_color\":\"lightblue\",\"x\":{\"field\":\"x\"},\"y1\":{\"expr\":{\"id\":\"1254\"}},\"y2\":{\"expr\":{\"id\":\"1255\"}}},\"id\":\"1262\",\"type\":\"VArea\"},{\"attributes\":{\"axis\":{\"id\":\"1237\"},\"dimension\":1,\"ticker\":null},\"id\":\"1240\",\"type\":\"Grid\"},{\"attributes\":{\"line_alpha\":0.75,\"line_color\":\"gray\",\"line_dash\":[6],\"x\":{\"field\":\"x\"},\"y\":{\"field\":\"y\"}},\"id\":\"1267\",\"type\":\"Line\"},{\"attributes\":{\"base\":24,\"mantissas\":[1,2,4,6,8,12],\"max_interval\":43200000.0,\"min_interval\":3600000.0,\"num_minor_ticks\":0},\"id\":\"1281\",\"type\":\"AdaptiveTicker\"},{\"attributes\":{},\"id\":\"1244\",\"type\":\"ResetTool\"},{\"attributes\":{\"source\":{\"id\":\"1251\"}},\"id\":\"1260\",\"type\":\"CDSView\"},{\"attributes\":{\"line_alpha\":0.1,\"line_color\":\"gray\",\"line_dash\":[6],\"x\":{\"field\":\"x\"},\"y\":{\"field\":\"y\"}},\"id\":\"1268\",\"type\":\"Line\"},{\"attributes\":{\"overlay\":{\"id\":\"1245\"}},\"id\":\"1243\",\"type\":\"BoxZoomTool\"},{\"attributes\":{\"fields\":[\"deaths\",\"cases\"]},\"id\":\"1255\",\"type\":\"Stack\"},{\"attributes\":{\"active_drag\":\"auto\",\"active_inspect\":\"auto\",\"active_multi\":null,\"active_scroll\":\"auto\",\"active_tap\":\"auto\",\"tools\":[{\"id\":\"1241\"},{\"id\":\"1242\"},{\"id\":\"1243\"},{\"id\":\"1244\"}]},\"id\":\"1246\",\"type\":\"Toolbar\"},{\"attributes\":{},\"id\":\"1274\",\"type\":\"BasicTickFormatter\"},{\"attributes\":{},\"id\":\"1241\",\"type\":\"PanTool\"}],\"root_ids\":[\"1222\"]},\"title\":\"Bokeh Application\",\"version\":\"2.0.1\"}};\n",
       "  var render_items = [{\"docid\":\"68ea8846-df10-467a-96ed-5914d8465b6c\",\"root_ids\":[\"1222\"],\"roots\":{\"1222\":\"de74a909-afd8-47a5-8deb-99b22fd45b0a\"}}];\n",
       "  root.Bokeh.embed.embed_items_notebook(docs_json, render_items);\n",
       "\n",
       "  }\n",
       "  if (root.Bokeh !== undefined) {\n",
       "    embed_document(root);\n",
       "  } else {\n",
       "    var attempts = 0;\n",
       "    var timer = setInterval(function(root) {\n",
       "      if (root.Bokeh !== undefined) {\n",
       "        clearInterval(timer);\n",
       "        embed_document(root);\n",
       "      } else {\n",
       "        attempts++;\n",
       "        if (attempts > 100) {\n",
       "          clearInterval(timer);\n",
       "          console.log(\"Bokeh: ERROR: Unable to run BokehJS code because BokehJS library is missing\");\n",
       "        }\n",
       "      }\n",
       "    }, 10, root)\n",
       "  }\n",
       "})(window);"
      ],
      "application/vnd.bokehjs_exec.v0+json": ""
     },
     "metadata": {
      "application/vnd.bokehjs_exec.v0+json": {
       "id": "1222"
      }
     },
     "output_type": "display_data"
    }
   ],
   "source": [
    "plot_state_counties_curve(df, \"Indiana\", ['Lake'])"
   ]
  },
  {
   "cell_type": "code",
   "execution_count": 5,
   "metadata": {
    "scrolled": true
   },
   "outputs": [
    {
     "name": "stdout",
     "output_type": "stream",
     "text": [
      "y ≈ exp(5.451117409912162) * exp(0.0627404233935188 * x)\n",
      "y = 233.01839755501783 * exp(0.0627404233935188 * x)\n"
     ]
    },
    {
     "data": {
      "text/html": [
       "\n",
       "\n",
       "\n",
       "\n",
       "\n",
       "\n",
       "  <div class=\"bk-root\" id=\"353a022e-ff65-4711-b477-61cd184b98f4\" data-root-id=\"1463\"></div>\n"
      ]
     },
     "metadata": {},
     "output_type": "display_data"
    },
    {
     "data": {
      "application/javascript": [
       "(function(root) {\n",
       "  function embed_document(root) {\n",
       "    \n",
       "  var docs_json = {\"d4301b49-d2b9-491a-9549-240fc84d573b\":{\"roots\":{\"references\":[{\"attributes\":{\"below\":[{\"id\":\"1474\"}],\"center\":[{\"id\":\"1477\"},{\"id\":\"1481\"},{\"id\":\"1532\"}],\"left\":[{\"id\":\"1478\"}],\"plot_width\":880,\"renderers\":[{\"id\":\"1500\"},{\"id\":\"1505\"},{\"id\":\"1510\"}],\"title\":{\"id\":\"1464\"},\"toolbar\":{\"id\":\"1487\"},\"x_range\":{\"id\":\"1466\"},\"x_scale\":{\"id\":\"1470\"},\"y_range\":{\"id\":\"1468\"},\"y_scale\":{\"id\":\"1472\"}},\"id\":\"1463\",\"subtype\":\"Figure\",\"type\":\"Plot\"},{\"attributes\":{\"overlay\":{\"id\":\"1486\"}},\"id\":\"1484\",\"type\":\"BoxZoomTool\"},{\"attributes\":{\"source\":{\"id\":\"1492\"}},\"id\":\"1506\",\"type\":\"CDSView\"},{\"attributes\":{\"end\":5911},\"id\":\"1468\",\"type\":\"Range1d\"},{\"attributes\":{\"data_source\":{\"id\":\"1507\"},\"glyph\":{\"id\":\"1508\"},\"hover_glyph\":null,\"muted_glyph\":null,\"nonselection_glyph\":{\"id\":\"1509\"},\"selection_glyph\":null,\"view\":{\"id\":\"1511\"}},\"id\":\"1510\",\"type\":\"GlyphRenderer\"},{\"attributes\":{},\"id\":\"1518\",\"type\":\"UnionRenderers\"},{\"attributes\":{\"fields\":[]},\"id\":\"1493\",\"type\":\"Stack\"},{\"attributes\":{},\"id\":\"1485\",\"type\":\"ResetTool\"},{\"attributes\":{\"axis\":{\"id\":\"1478\"},\"dimension\":1,\"ticker\":null},\"id\":\"1481\",\"type\":\"Grid\"},{\"attributes\":{},\"id\":\"1470\",\"type\":\"LinearScale\"},{\"attributes\":{\"axis_label\":\"Date\",\"formatter\":{\"id\":\"1534\"},\"ticker\":{\"id\":\"1475\"}},\"id\":\"1474\",\"type\":\"DatetimeAxis\"},{\"attributes\":{\"source\":{\"id\":\"1507\"}},\"id\":\"1511\",\"type\":\"CDSView\"},{\"attributes\":{},\"id\":\"1479\",\"type\":\"BasicTicker\"},{\"attributes\":{},\"id\":\"1483\",\"type\":\"WheelZoomTool\"},{\"attributes\":{\"days\":[1,8,15,22]},\"id\":\"1525\",\"type\":\"DaysTicker\"},{\"attributes\":{\"line_alpha\":0.1,\"line_color\":\"gray\",\"line_dash\":[6],\"x\":{\"field\":\"x\"},\"y\":{\"field\":\"y\"}},\"id\":\"1509\",\"type\":\"Line\"},{\"attributes\":{},\"id\":\"1482\",\"type\":\"PanTool\"},{\"attributes\":{\"days\":[1,15]},\"id\":\"1526\",\"type\":\"DaysTicker\"},{\"attributes\":{\"fill_alpha\":0.1,\"fill_color\":\"red\",\"x\":{\"field\":\"x\"},\"y1\":{\"expr\":{\"id\":\"1493\"}},\"y2\":{\"expr\":{\"id\":\"1494\"}}},\"id\":\"1499\",\"type\":\"VArea\"},{\"attributes\":{\"mantissas\":[1,2,5],\"max_interval\":500.0,\"num_minor_ticks\":0},\"id\":\"1520\",\"type\":\"AdaptiveTicker\"},{\"attributes\":{},\"id\":\"1472\",\"type\":\"LinearScale\"},{\"attributes\":{\"months\":[0,2,4,6,8,10]},\"id\":\"1528\",\"type\":\"MonthsTicker\"},{\"attributes\":{\"data\":{\"cases\":[1,1,1,1,1,1,2,2,3,6,7,9,11,19,25,46,82,110,161,226,293,484,584,676,804,964,1117,1304,1429,1570,1760,1956,2141,2290,2415,2600,2742,2887,3012,3063,3204,3320,3518,3624,3889,4052,4176,4263,4408,4537,4727,4796,4926],\"deaths\":[0,0,0,0,0,0,0,0,0,0,1,1,1,1,2,2,3,3,6,6,6,8,10,10,12,17,21,24,33,34,37,41,48,58,81,107,118,123,123,141,155,164,182,190,192,192,206,214,228,238,255,259,267],\"x\":{\"__ndarray__\":\"AABARNIKd0IAAACqJAt3QgAAwA93C3dCAACAdckLd0IAAEDbGwx3QgAAAEFuDHdCAADApsAMd0IAAIAMEw13QgAAQHJlDXdCAAAA2LcNd0IAAMA9Cg53QgAAgKNcDndCAABACa8Od0IAAABvAQ93QgAAwNRTD3dCAACAOqYPd0IAAECg+A93QgAAAAZLEHdCAADAa50Qd0IAAIDR7xB3QgAAQDdCEXdCAAAAnZQRd0IAAMAC5xF3QgAAgGg5EndCAABAzosSd0IAAAA03hJ3QgAAwJkwE3dCAACA/4ITd0IAAEBl1RN3QgAAAMsnFHdCAADAMHoUd0IAAICWzBR3QgAAQPweFXdCAAAAYnEVd0IAAMDHwxV3QgAAgC0WFndCAABAk2gWd0IAAAD5uhZ3QgAAwF4NF3dCAACAxF8Xd0IAAEAqshd3QgAAAJAEGHdCAADA9VYYd0IAAIBbqRh3QgAAQMH7GHdCAAAAJ04Zd0IAAMCMoBl3QgAAgPLyGXdCAABAWEUad0IAAAC+lxp3QgAAwCPqGndCAACAiTwbd0IAAEDvjht3Qg==\",\"dtype\":\"float64\",\"shape\":[53]}},\"selected\":{\"id\":\"1517\"},\"selection_policy\":{\"id\":\"1518\"}},\"id\":\"1492\",\"type\":\"ColumnDataSource\"},{\"attributes\":{\"code\":\"\\n        let date = new Date(tick);\\n        return `${date.getDate()}-${date.getMonth()}-${date.getFullYear()}`\\n    \"},\"id\":\"1534\",\"type\":\"FuncTickFormatter\"},{\"attributes\":{\"num_minor_ticks\":5,\"tickers\":[{\"id\":\"1520\"},{\"id\":\"1521\"},{\"id\":\"1522\"},{\"id\":\"1523\"},{\"id\":\"1524\"},{\"id\":\"1525\"},{\"id\":\"1526\"},{\"id\":\"1527\"},{\"id\":\"1528\"},{\"id\":\"1529\"},{\"id\":\"1530\"},{\"id\":\"1531\"}]},\"id\":\"1475\",\"type\":\"DatetimeTicker\"},{\"attributes\":{\"fields\":[\"deaths\"]},\"id\":\"1495\",\"type\":\"Stack\"},{\"attributes\":{},\"id\":\"1584\",\"type\":\"Selection\"},{\"attributes\":{\"label\":{\"value\":\"Projected # of Cases\"},\"renderers\":[{\"id\":\"1510\"}]},\"id\":\"1533\",\"type\":\"LegendItem\"},{\"attributes\":{\"base\":24,\"mantissas\":[1,2,4,6,8,12],\"max_interval\":43200000.0,\"min_interval\":3600000.0,\"num_minor_ticks\":0},\"id\":\"1522\",\"type\":\"AdaptiveTicker\"},{\"attributes\":{\"active_drag\":\"auto\",\"active_inspect\":\"auto\",\"active_multi\":null,\"active_scroll\":\"auto\",\"active_tap\":\"auto\",\"tools\":[{\"id\":\"1482\"},{\"id\":\"1483\"},{\"id\":\"1484\"},{\"id\":\"1485\"}]},\"id\":\"1487\",\"type\":\"Toolbar\"},{\"attributes\":{\"end\":1588118400000.0,\"start\":1583452800000.0},\"id\":\"1466\",\"type\":\"Range1d\"},{\"attributes\":{\"fill_alpha\":0.1,\"fill_color\":\"lightblue\",\"x\":{\"field\":\"x\"},\"y1\":{\"expr\":{\"id\":\"1495\"}},\"y2\":{\"expr\":{\"id\":\"1496\"}}},\"id\":\"1504\",\"type\":\"VArea\"},{\"attributes\":{\"line_alpha\":0.75,\"line_color\":\"gray\",\"line_dash\":[6],\"x\":{\"field\":\"x\"},\"y\":{\"field\":\"y\"}},\"id\":\"1508\",\"type\":\"Line\"},{\"attributes\":{\"text\":\"Indiana Cases for counties Marion\"},\"id\":\"1464\",\"type\":\"Title\"},{\"attributes\":{},\"id\":\"1515\",\"type\":\"BasicTickFormatter\"},{\"attributes\":{\"fields\":[\"deaths\",\"cases\"]},\"id\":\"1496\",\"type\":\"Stack\"},{\"attributes\":{\"bottom_units\":\"screen\",\"fill_alpha\":0.5,\"fill_color\":\"lightgrey\",\"left_units\":\"screen\",\"level\":\"overlay\",\"line_alpha\":1.0,\"line_color\":\"black\",\"line_dash\":[4,4],\"line_width\":2,\"render_mode\":\"css\",\"right_units\":\"screen\",\"top_units\":\"screen\"},\"id\":\"1486\",\"type\":\"BoxAnnotation\"},{\"attributes\":{\"fill_color\":\"lightblue\",\"x\":{\"field\":\"x\"},\"y1\":{\"expr\":{\"id\":\"1495\"}},\"y2\":{\"expr\":{\"id\":\"1496\"}}},\"id\":\"1503\",\"type\":\"VArea\"},{\"attributes\":{\"fields\":[\"deaths\"]},\"id\":\"1494\",\"type\":\"Stack\"},{\"attributes\":{\"base\":60,\"mantissas\":[1,2,5,10,15,20,30],\"max_interval\":1800000.0,\"min_interval\":1000.0,\"num_minor_ticks\":0},\"id\":\"1521\",\"type\":\"AdaptiveTicker\"},{\"attributes\":{\"days\":[1,2,3,4,5,6,7,8,9,10,11,12,13,14,15,16,17,18,19,20,21,22,23,24,25,26,27,28,29,30,31]},\"id\":\"1523\",\"type\":\"DaysTicker\"},{\"attributes\":{\"data\":{\"x\":[1583452800000.0,1583539200000.0,1583625600000.0,1583712000000.0,1583798400000.0,1583884800000.0,1583971200000.0,1584057600000.0,1584144000000.0,1584230400000.0,1584316800000.0,1584403200000.0,1584489600000.0,1584576000000.0,1584662400000.0,1584748800000.0,1584835200000.0,1584921600000.0,1585008000000.0,1585094400000.0,1585180800000.0,1585267200000.0,1585353600000.0,1585440000000.0,1585526400000.0,1585612800000.0,1585699200000.0,1585785600000.0,1585872000000.0,1585958400000.0,1586044800000.0,1586131200000.0,1586217600000.0,1586304000000.0,1586390400000.0,1586476800000.0,1586563200000.0,1586649600000.0,1586736000000.0,1586822400000.0,1586908800000.0,1586995200000.0,1587081600000.0,1587168000000.0,1587254400000.0,1587340800000.0,1587427200000.0,1587513600000.0,1587600000000.0,1587686400000.0,1587772800000.0,1587859200000.0,1587945600000.0,1588032000000.0,1588118400000.0,1588204800000.0,1588291200000.0,1588377600000.0,1588464000000.0,1588550400000.0,1588636800000.0,1588723200000.0,1588809600000.0],\"y\":[233.01839755501783,248.10643644451505,264.1714321748438,281.2766431108478,299.4894236230032,318.8814893054996,339.52919936730353,361.51385730816065,384.92203106349604,409.8458938788303,436.38358725595725,464.6396074000388,494.7252166893107,526.7588817876248,560.8667401249614,597.183096582751,635.8509523397777,677.0225679610772,720.8600629470781,767.5360541037973,817.2343352477789,870.1506009222071,926.4932169739453,986.4840410257572,1050.3592960744522,1118.3705006548737,1190.7854592323956,1267.8893167237516,1349.9856812985238,1437.3978198825055,1530.4699310704004,1629.5685004601594,1735.083743745777,1847.431143250958,1967.053083953976,2094.420595445835,2230.0352066809387,2374.4309208236623,2528.17631796705,2691.8767940034386,2866.1769444628862,3051.763102706145,3249.3660424666905,3459.763855383472,3683.7850148551306,3922.311638280038,4176.282960527776,4446.699032319316,4734.624658078897,5041.193588763438,5367.61298617942,5715.168176366167,6085.227710762671,6479.248755087104,6898.782827148511,7345.481906184258,7821.104937779599,8327.52475998353,8866.73547789355,9440.860315747843,10052.159977443791,10703.041548403478,11396.067973838784]},\"selected\":{\"id\":\"1584\"},\"selection_policy\":{\"id\":\"1585\"}},\"id\":\"1507\",\"type\":\"ColumnDataSource\"},{\"attributes\":{\"months\":[0,4,8]},\"id\":\"1529\",\"type\":\"MonthsTicker\"},{\"attributes\":{\"days\":[1,4,7,10,13,16,19,22,25,28]},\"id\":\"1524\",\"type\":\"DaysTicker\"},{\"attributes\":{\"data_source\":{\"id\":\"1492\"},\"glyph\":{\"id\":\"1498\"},\"hover_glyph\":null,\"muted_glyph\":null,\"name\":\"deaths\",\"nonselection_glyph\":{\"id\":\"1499\"},\"selection_glyph\":null,\"view\":{\"id\":\"1501\"}},\"id\":\"1500\",\"type\":\"GlyphRenderer\"},{\"attributes\":{},\"id\":\"1585\",\"type\":\"UnionRenderers\"},{\"attributes\":{\"data_source\":{\"id\":\"1492\"},\"glyph\":{\"id\":\"1503\"},\"hover_glyph\":null,\"muted_glyph\":null,\"name\":\"cases\",\"nonselection_glyph\":{\"id\":\"1504\"},\"selection_glyph\":null,\"view\":{\"id\":\"1506\"}},\"id\":\"1505\",\"type\":\"GlyphRenderer\"},{\"attributes\":{},\"id\":\"1531\",\"type\":\"YearsTicker\"},{\"attributes\":{\"months\":[0,6]},\"id\":\"1530\",\"type\":\"MonthsTicker\"},{\"attributes\":{\"axis\":{\"id\":\"1474\"},\"ticker\":null},\"id\":\"1477\",\"type\":\"Grid\"},{\"attributes\":{\"fill_color\":\"red\",\"x\":{\"field\":\"x\"},\"y1\":{\"expr\":{\"id\":\"1493\"}},\"y2\":{\"expr\":{\"id\":\"1494\"}}},\"id\":\"1498\",\"type\":\"VArea\"},{\"attributes\":{},\"id\":\"1517\",\"type\":\"Selection\"},{\"attributes\":{\"months\":[0,1,2,3,4,5,6,7,8,9,10,11]},\"id\":\"1527\",\"type\":\"MonthsTicker\"},{\"attributes\":{\"axis_label\":\"# of Cases & Deaths\",\"formatter\":{\"id\":\"1515\"},\"ticker\":{\"id\":\"1479\"}},\"id\":\"1478\",\"type\":\"LinearAxis\"},{\"attributes\":{\"source\":{\"id\":\"1492\"}},\"id\":\"1501\",\"type\":\"CDSView\"},{\"attributes\":{\"items\":[{\"id\":\"1533\"}],\"location\":\"top_left\"},\"id\":\"1532\",\"type\":\"Legend\"}],\"root_ids\":[\"1463\"]},\"title\":\"Bokeh Application\",\"version\":\"2.0.1\"}};\n",
       "  var render_items = [{\"docid\":\"d4301b49-d2b9-491a-9549-240fc84d573b\",\"root_ids\":[\"1463\"],\"roots\":{\"1463\":\"353a022e-ff65-4711-b477-61cd184b98f4\"}}];\n",
       "  root.Bokeh.embed.embed_items_notebook(docs_json, render_items);\n",
       "\n",
       "  }\n",
       "  if (root.Bokeh !== undefined) {\n",
       "    embed_document(root);\n",
       "  } else {\n",
       "    var attempts = 0;\n",
       "    var timer = setInterval(function(root) {\n",
       "      if (root.Bokeh !== undefined) {\n",
       "        clearInterval(timer);\n",
       "        embed_document(root);\n",
       "      } else {\n",
       "        attempts++;\n",
       "        if (attempts > 100) {\n",
       "          clearInterval(timer);\n",
       "          console.log(\"Bokeh: ERROR: Unable to run BokehJS code because BokehJS library is missing\");\n",
       "        }\n",
       "      }\n",
       "    }, 10, root)\n",
       "  }\n",
       "})(window);"
      ],
      "application/vnd.bokehjs_exec.v0+json": ""
     },
     "metadata": {
      "application/vnd.bokehjs_exec.v0+json": {
       "id": "1463"
      }
     },
     "output_type": "display_data"
    }
   ],
   "source": [
    "plot_state_counties_curve(df, \"Indiana\", ['Marion'])"
   ]
  },
  {
   "cell_type": "code",
   "execution_count": 6,
   "metadata": {},
   "outputs": [
    {
     "name": "stdout",
     "output_type": "stream",
     "text": [
      "y ≈ exp(3.3178596243736216) * exp(0.07684498036348972 * x)\n",
      "y = 27.60121033209161 * exp(0.07684498036348972 * x)\n"
     ]
    },
    {
     "data": {
      "text/html": [
       "\n",
       "\n",
       "\n",
       "\n",
       "\n",
       "\n",
       "  <div class=\"bk-root\" id=\"0a42c91b-9e94-45ad-846a-ea12ac706f08\" data-root-id=\"1725\"></div>\n"
      ]
     },
     "metadata": {},
     "output_type": "display_data"
    },
    {
     "data": {
      "application/javascript": [
       "(function(root) {\n",
       "  function embed_document(root) {\n",
       "    \n",
       "  var docs_json = {\"7a1b970d-c328-4d77-945d-886839a1ccc1\":{\"roots\":{\"references\":[{\"attributes\":{\"below\":[{\"id\":\"1736\"}],\"center\":[{\"id\":\"1739\"},{\"id\":\"1743\"},{\"id\":\"1794\"}],\"left\":[{\"id\":\"1740\"}],\"plot_width\":880,\"renderers\":[{\"id\":\"1762\"},{\"id\":\"1767\"},{\"id\":\"1772\"}],\"title\":{\"id\":\"1726\"},\"toolbar\":{\"id\":\"1749\"},\"x_range\":{\"id\":\"1728\"},\"x_scale\":{\"id\":\"1732\"},\"y_range\":{\"id\":\"1730\"},\"y_scale\":{\"id\":\"1734\"}},\"id\":\"1725\",\"subtype\":\"Figure\",\"type\":\"Plot\"},{\"attributes\":{\"data\":{\"x\":[1579824000000.0,1579910400000.0,1579996800000.0,1580083200000.0,1580169600000.0,1580256000000.0,1580342400000.0,1580428800000.0,1580515200000.0,1580601600000.0,1580688000000.0,1580774400000.0,1580860800000.0,1580947200000.0,1581033600000.0,1581120000000.0,1581206400000.0,1581292800000.0,1581379200000.0,1581465600000.0,1581552000000.0,1581638400000.0,1581724800000.0,1581811200000.0,1581897600000.0,1581984000000.0,1582070400000.0,1582156800000.0,1582243200000.0,1582329600000.0,1582416000000.0,1582502400000.0,1582588800000.0,1582675200000.0,1582761600000.0,1582848000000.0,1582934400000.0,1583020800000.0,1583107200000.0,1583193600000.0,1583280000000.0,1583366400000.0,1583452800000.0,1583539200000.0,1583625600000.0,1583712000000.0,1583798400000.0,1583884800000.0,1583971200000.0,1584057600000.0,1584144000000.0,1584230400000.0,1584316800000.0,1584403200000.0,1584489600000.0,1584576000000.0,1584662400000.0,1584748800000.0,1584835200000.0,1584921600000.0,1585008000000.0,1585094400000.0,1585180800000.0,1585267200000.0,1585353600000.0,1585440000000.0,1585526400000.0,1585612800000.0,1585699200000.0,1585785600000.0,1585872000000.0,1585958400000.0,1586044800000.0,1586131200000.0,1586217600000.0,1586304000000.0,1586390400000.0,1586476800000.0,1586563200000.0,1586649600000.0,1586736000000.0,1586822400000.0,1586908800000.0,1586995200000.0,1587081600000.0,1587168000000.0,1587254400000.0,1587340800000.0,1587427200000.0,1587513600000.0,1587600000000.0,1587686400000.0,1587772800000.0,1587859200000.0,1587945600000.0,1588032000000.0,1588118400000.0,1588204800000.0,1588291200000.0,1588377600000.0,1588464000000.0,1588550400000.0,1588636800000.0,1588723200000.0,1588809600000.0],\"y\":[27.60121033209161,29.80584766819774,32.18657966556232,34.75747182566983,37.53371312717661,40.53170576326981,43.76916204676754,47.26520905548111,51.04050163609015,55.11734443416403,59.51982367128997,64.27394944785459,69.40780941221217,74.95173470412546,80.9384791528829,87.40341278880477,94.38473081141527,101.92367924887691,110.06479864189562,118.8561871917954,128.3497849274565,138.6016805699915,149.67244290813358,161.62747864212193,174.53741881024624,188.4785360810808,203.53319537679468,219.790340489846,237.34601956802032,256.303952572409,276.77614406090044,298.8835449175464,322.7567669373375,348.53685448819516,376.3761178092044,406.4390328682619,438.9032130955474,473.96045873387857,511.8178900055715,552.6991707906172,596.8458300457424,644.5186887713684,695.9994009570738,751.5921176095535,811.6252836942494,876.4535786070861,946.460011640727,1022.0581848254916,1103.6947365139258,1191.8519801458585,1287.050753783929,1389.8534972548007,1500.8675750759817,1620.7488648003086,1750.2056319782296,1890.00271463138,2040.9660419595878,2203.9875139780543,2380.0302709139055,2570.134383494027,2775.422997742694,2997.1089705928357,3236.502035514522,3495.016540495584,3774.1798040908116,4075.6411389077807,4401.181595840538,4752.724486620642,5132.346746853445,5542.291206673029,5984.97984151153,6463.028081269243,6979.2602624247875,7536.7263143773525,8138.719778604927,8788.79726709665,9490.799475020856,10248.873871772923,11067.499204462856,11951.511958610603,12906.134932380583,13937.008093173363,15050.221898877318,16252.353280643898,17550.504499774837,18952.34510829028,20466.15726108289,22100.884647364994,23866.18533049859,25772.48880838881,27831.05763155698,30054.05394293656,32454.611332512635,35046.91243132636,37846.272703274575,40869.23092975069,44133.64692171575,47658.807036488375,51465.53812265223,55576.33056627453,60015.471165399824,64809.186617848805,69985.79847005632,75575.89044239602,81612.48911955798]},\"selected\":{\"id\":\"1867\"},\"selection_policy\":{\"id\":\"1868\"}},\"id\":\"1769\",\"type\":\"ColumnDataSource\"},{\"attributes\":{\"fields\":[]},\"id\":\"1755\",\"type\":\"Stack\"},{\"attributes\":{\"months\":[0,6]},\"id\":\"1792\",\"type\":\"MonthsTicker\"},{\"attributes\":{\"line_alpha\":0.1,\"line_color\":\"gray\",\"line_dash\":[6],\"x\":{\"field\":\"x\"},\"y\":{\"field\":\"y\"}},\"id\":\"1771\",\"type\":\"Line\"},{\"attributes\":{},\"id\":\"1747\",\"type\":\"ResetTool\"},{\"attributes\":{\"label\":{\"value\":\"Projected # of Cases\"},\"renderers\":[{\"id\":\"1772\"}]},\"id\":\"1795\",\"type\":\"LegendItem\"},{\"attributes\":{},\"id\":\"1741\",\"type\":\"BasicTicker\"},{\"attributes\":{\"base\":60,\"mantissas\":[1,2,5,10,15,20,30],\"max_interval\":1800000.0,\"min_interval\":1000.0,\"num_minor_ticks\":0},\"id\":\"1783\",\"type\":\"AdaptiveTicker\"},{\"attributes\":{\"months\":[0,4,8]},\"id\":\"1791\",\"type\":\"MonthsTicker\"},{\"attributes\":{\"axis\":{\"id\":\"1736\"},\"ticker\":null},\"id\":\"1739\",\"type\":\"Grid\"},{\"attributes\":{\"text\":\"Illinois Cases for counties Cook\"},\"id\":\"1726\",\"type\":\"Title\"},{\"attributes\":{\"overlay\":{\"id\":\"1748\"}},\"id\":\"1746\",\"type\":\"BoxZoomTool\"},{\"attributes\":{\"base\":24,\"mantissas\":[1,2,4,6,8,12],\"max_interval\":43200000.0,\"min_interval\":3600000.0,\"num_minor_ticks\":0},\"id\":\"1784\",\"type\":\"AdaptiveTicker\"},{\"attributes\":{\"source\":{\"id\":\"1769\"}},\"id\":\"1773\",\"type\":\"CDSView\"},{\"attributes\":{},\"id\":\"1745\",\"type\":\"WheelZoomTool\"},{\"attributes\":{\"active_drag\":\"auto\",\"active_inspect\":\"auto\",\"active_multi\":null,\"active_scroll\":\"auto\",\"active_tap\":\"auto\",\"tools\":[{\"id\":\"1744\"},{\"id\":\"1745\"},{\"id\":\"1746\"},{\"id\":\"1747\"}]},\"id\":\"1749\",\"type\":\"Toolbar\"},{\"attributes\":{\"end\":1588118400000.0,\"start\":1579824000000.0},\"id\":\"1728\",\"type\":\"Range1d\"},{\"attributes\":{\"code\":\"\\n        let date = new Date(tick);\\n        return `${date.getDate()}-${date.getMonth()}-${date.getFullYear()}`\\n    \"},\"id\":\"1796\",\"type\":\"FuncTickFormatter\"},{\"attributes\":{\"num_minor_ticks\":5,\"tickers\":[{\"id\":\"1782\"},{\"id\":\"1783\"},{\"id\":\"1784\"},{\"id\":\"1785\"},{\"id\":\"1786\"},{\"id\":\"1787\"},{\"id\":\"1788\"},{\"id\":\"1789\"},{\"id\":\"1790\"},{\"id\":\"1791\"},{\"id\":\"1792\"},{\"id\":\"1793\"}]},\"id\":\"1737\",\"type\":\"DatetimeTicker\"},{\"attributes\":{\"data\":{\"cases\":[1,1,1,1,1,1,2,2,2,2,2,2,2,2,2,2,2,2,2,2,2,2,2,2,2,2,2,2,2,2,2,2,2,2,2,2,3,3,4,4,4,5,6,6,7,11,17,22,27,40,51,76,76,107,179,279,412,548,805,922,1194,1418,1904,2239,2613,3445,3727,4496,5152,5575,6473,7439,8043,8728,9509,10520,11415,12472,13417,14585,15474,16323,17306,18087,19391,20395,21272,22101,23181,24546,25811,27616,29058,30574,31953],\"deaths\":[0,0,0,0,0,0,0,0,0,0,0,0,0,0,0,0,0,0,0,0,0,0,0,0,0,0,0,0,0,0,0,0,0,0,0,0,0,0,0,0,0,0,0,0,0,0,0,0,0,0,0,0,0,1,1,2,3,4,6,9,12,13,18,20,28,40,44,61,95,107,141,167,186,209,249,312,351,398,453,485,543,577,630,722,760,860,877,915,1002,1072,1142,1220,1267,1313,1347],\"x\":{\"__ndarray__\":\"AADAkk39dkIAAID4n/12QgAAQF7y/XZCAAAAxET+dkIAAMApl/52QgAAgI/p/nZCAABA9Tv/dkIAAABbjv92QgAAwMDg/3ZCAACAJjMAd0IAAECMhQB3QgAAAPLXAHdCAADAVyoBd0IAAIC9fAF3QgAAQCPPAXdCAAAAiSECd0IAAMDucwJ3QgAAgFTGAndCAABAuhgDd0IAAAAgawN3QgAAwIW9A3dCAACA6w8Ed0IAAEBRYgR3QgAAALe0BHdCAADAHAcFd0IAAICCWQV3QgAAQOirBXdCAAAATv4Fd0IAAMCzUAZ3QgAAgBmjBndCAABAf/UGd0IAAADlRwd3QgAAwEqaB3dCAACAsOwHd0IAAEAWPwh3QgAAAHyRCHdCAADA4eMId0IAAIBHNgl3QgAAQK2ICXdCAAAAE9sJd0IAAMB4LQp3QgAAgN5/CndCAABARNIKd0IAAACqJAt3QgAAwA93C3dCAACAdckLd0IAAEDbGwx3QgAAAEFuDHdCAADApsAMd0IAAIAMEw13QgAAQHJlDXdCAAAA2LcNd0IAAMA9Cg53QgAAgKNcDndCAABACa8Od0IAAABvAQ93QgAAwNRTD3dCAACAOqYPd0IAAECg+A93QgAAAAZLEHdCAADAa50Qd0IAAIDR7xB3QgAAQDdCEXdCAAAAnZQRd0IAAMAC5xF3QgAAgGg5EndCAABAzosSd0IAAAA03hJ3QgAAwJkwE3dCAACA/4ITd0IAAEBl1RN3QgAAAMsnFHdCAADAMHoUd0IAAICWzBR3QgAAQPweFXdCAAAAYnEVd0IAAMDHwxV3QgAAgC0WFndCAABAk2gWd0IAAAD5uhZ3QgAAwF4NF3dCAACAxF8Xd0IAAEAqshd3QgAAAJAEGHdCAADA9VYYd0IAAIBbqRh3QgAAQMH7GHdCAAAAJ04Zd0IAAMCMoBl3QgAAgPLyGXdCAABAWEUad0IAAAC+lxp3QgAAwCPqGndCAACAiTwbd0IAAEDvjht3Qg==\",\"dtype\":\"float64\",\"shape\":[95]}},\"selected\":{\"id\":\"1779\"},\"selection_policy\":{\"id\":\"1780\"}},\"id\":\"1754\",\"type\":\"ColumnDataSource\"},{\"attributes\":{\"source\":{\"id\":\"1754\"}},\"id\":\"1768\",\"type\":\"CDSView\"},{\"attributes\":{\"bottom_units\":\"screen\",\"fill_alpha\":0.5,\"fill_color\":\"lightgrey\",\"left_units\":\"screen\",\"level\":\"overlay\",\"line_alpha\":1.0,\"line_color\":\"black\",\"line_dash\":[4,4],\"line_width\":2,\"render_mode\":\"css\",\"right_units\":\"screen\",\"top_units\":\"screen\"},\"id\":\"1748\",\"type\":\"BoxAnnotation\"},{\"attributes\":{},\"id\":\"1732\",\"type\":\"LinearScale\"},{\"attributes\":{\"axis_label\":\"Date\",\"formatter\":{\"id\":\"1796\"},\"ticker\":{\"id\":\"1737\"}},\"id\":\"1736\",\"type\":\"DatetimeAxis\"},{\"attributes\":{\"fields\":[\"deaths\",\"cases\"]},\"id\":\"1758\",\"type\":\"Stack\"},{\"attributes\":{\"mantissas\":[1,2,5],\"max_interval\":500.0,\"num_minor_ticks\":0},\"id\":\"1782\",\"type\":\"AdaptiveTicker\"},{\"attributes\":{\"months\":[0,1,2,3,4,5,6,7,8,9,10,11]},\"id\":\"1789\",\"type\":\"MonthsTicker\"},{\"attributes\":{},\"id\":\"1734\",\"type\":\"LinearScale\"},{\"attributes\":{\"days\":[1,4,7,10,13,16,19,22,25,28]},\"id\":\"1786\",\"type\":\"DaysTicker\"},{\"attributes\":{\"days\":[1,8,15,22]},\"id\":\"1787\",\"type\":\"DaysTicker\"},{\"attributes\":{\"days\":[1,15]},\"id\":\"1788\",\"type\":\"DaysTicker\"},{\"attributes\":{\"data_source\":{\"id\":\"1754\"},\"glyph\":{\"id\":\"1760\"},\"hover_glyph\":null,\"muted_glyph\":null,\"name\":\"deaths\",\"nonselection_glyph\":{\"id\":\"1761\"},\"selection_glyph\":null,\"view\":{\"id\":\"1763\"}},\"id\":\"1762\",\"type\":\"GlyphRenderer\"},{\"attributes\":{},\"id\":\"1777\",\"type\":\"BasicTickFormatter\"},{\"attributes\":{},\"id\":\"1793\",\"type\":\"YearsTicker\"},{\"attributes\":{\"axis_label\":\"# of Cases & Deaths\",\"formatter\":{\"id\":\"1777\"},\"ticker\":{\"id\":\"1741\"}},\"id\":\"1740\",\"type\":\"LinearAxis\"},{\"attributes\":{},\"id\":\"1867\",\"type\":\"Selection\"},{\"attributes\":{},\"id\":\"1779\",\"type\":\"Selection\"},{\"attributes\":{\"data_source\":{\"id\":\"1769\"},\"glyph\":{\"id\":\"1770\"},\"hover_glyph\":null,\"muted_glyph\":null,\"nonselection_glyph\":{\"id\":\"1771\"},\"selection_glyph\":null,\"view\":{\"id\":\"1773\"}},\"id\":\"1772\",\"type\":\"GlyphRenderer\"},{\"attributes\":{\"line_alpha\":0.75,\"line_color\":\"gray\",\"line_dash\":[6],\"x\":{\"field\":\"x\"},\"y\":{\"field\":\"y\"}},\"id\":\"1770\",\"type\":\"Line\"},{\"attributes\":{\"source\":{\"id\":\"1754\"}},\"id\":\"1763\",\"type\":\"CDSView\"},{\"attributes\":{\"days\":[1,2,3,4,5,6,7,8,9,10,11,12,13,14,15,16,17,18,19,20,21,22,23,24,25,26,27,28,29,30,31]},\"id\":\"1785\",\"type\":\"DaysTicker\"},{\"attributes\":{\"data_source\":{\"id\":\"1754\"},\"glyph\":{\"id\":\"1765\"},\"hover_glyph\":null,\"muted_glyph\":null,\"name\":\"cases\",\"nonselection_glyph\":{\"id\":\"1766\"},\"selection_glyph\":null,\"view\":{\"id\":\"1768\"}},\"id\":\"1767\",\"type\":\"GlyphRenderer\"},{\"attributes\":{\"axis\":{\"id\":\"1740\"},\"dimension\":1,\"ticker\":null},\"id\":\"1743\",\"type\":\"Grid\"},{\"attributes\":{},\"id\":\"1744\",\"type\":\"PanTool\"},{\"attributes\":{},\"id\":\"1780\",\"type\":\"UnionRenderers\"},{\"attributes\":{\"fill_color\":\"lightblue\",\"x\":{\"field\":\"x\"},\"y1\":{\"expr\":{\"id\":\"1757\"}},\"y2\":{\"expr\":{\"id\":\"1758\"}}},\"id\":\"1765\",\"type\":\"VArea\"},{\"attributes\":{\"fill_alpha\":0.1,\"fill_color\":\"red\",\"x\":{\"field\":\"x\"},\"y1\":{\"expr\":{\"id\":\"1755\"}},\"y2\":{\"expr\":{\"id\":\"1756\"}}},\"id\":\"1761\",\"type\":\"VArea\"},{\"attributes\":{\"months\":[0,2,4,6,8,10]},\"id\":\"1790\",\"type\":\"MonthsTicker\"},{\"attributes\":{\"fields\":[\"deaths\"]},\"id\":\"1757\",\"type\":\"Stack\"},{\"attributes\":{\"end\":38343},\"id\":\"1730\",\"type\":\"Range1d\"},{\"attributes\":{\"fields\":[\"deaths\"]},\"id\":\"1756\",\"type\":\"Stack\"},{\"attributes\":{\"fill_color\":\"red\",\"x\":{\"field\":\"x\"},\"y1\":{\"expr\":{\"id\":\"1755\"}},\"y2\":{\"expr\":{\"id\":\"1756\"}}},\"id\":\"1760\",\"type\":\"VArea\"},{\"attributes\":{\"fill_alpha\":0.1,\"fill_color\":\"lightblue\",\"x\":{\"field\":\"x\"},\"y1\":{\"expr\":{\"id\":\"1757\"}},\"y2\":{\"expr\":{\"id\":\"1758\"}}},\"id\":\"1766\",\"type\":\"VArea\"},{\"attributes\":{},\"id\":\"1868\",\"type\":\"UnionRenderers\"},{\"attributes\":{\"items\":[{\"id\":\"1795\"}],\"location\":\"top_left\"},\"id\":\"1794\",\"type\":\"Legend\"}],\"root_ids\":[\"1725\"]},\"title\":\"Bokeh Application\",\"version\":\"2.0.1\"}};\n",
       "  var render_items = [{\"docid\":\"7a1b970d-c328-4d77-945d-886839a1ccc1\",\"root_ids\":[\"1725\"],\"roots\":{\"1725\":\"0a42c91b-9e94-45ad-846a-ea12ac706f08\"}}];\n",
       "  root.Bokeh.embed.embed_items_notebook(docs_json, render_items);\n",
       "\n",
       "  }\n",
       "  if (root.Bokeh !== undefined) {\n",
       "    embed_document(root);\n",
       "  } else {\n",
       "    var attempts = 0;\n",
       "    var timer = setInterval(function(root) {\n",
       "      if (root.Bokeh !== undefined) {\n",
       "        clearInterval(timer);\n",
       "        embed_document(root);\n",
       "      } else {\n",
       "        attempts++;\n",
       "        if (attempts > 100) {\n",
       "          clearInterval(timer);\n",
       "          console.log(\"Bokeh: ERROR: Unable to run BokehJS code because BokehJS library is missing\");\n",
       "        }\n",
       "      }\n",
       "    }, 10, root)\n",
       "  }\n",
       "})(window);"
      ],
      "application/vnd.bokehjs_exec.v0+json": ""
     },
     "metadata": {
      "application/vnd.bokehjs_exec.v0+json": {
       "id": "1725"
      }
     },
     "output_type": "display_data"
    }
   ],
   "source": [
    "plot_state_counties_curve(df, 'Illinois', ['Cook'])"
   ]
  },
  {
   "cell_type": "code",
   "execution_count": 7,
   "metadata": {},
   "outputs": [
    {
     "name": "stdout",
     "output_type": "stream",
     "text": [
      "y ≈ exp(3.563761229727553) * exp(0.07701792034414139 * x)\n",
      "y = 35.29570304387565 * exp(0.07701792034414139 * x)\n"
     ]
    },
    {
     "data": {
      "text/html": [
       "\n",
       "\n",
       "\n",
       "\n",
       "\n",
       "\n",
       "  <div class=\"bk-root\" id=\"ff664cbe-3657-4093-b36e-ff6325eb29bc\" data-root-id=\"2008\"></div>\n"
      ]
     },
     "metadata": {},
     "output_type": "display_data"
    },
    {
     "data": {
      "application/javascript": [
       "(function(root) {\n",
       "  function embed_document(root) {\n",
       "    \n",
       "  var docs_json = {\"26590793-fdfb-4c75-be41-e58e54dea5e2\":{\"roots\":{\"references\":[{\"attributes\":{\"below\":[{\"id\":\"2019\"}],\"center\":[{\"id\":\"2022\"},{\"id\":\"2026\"},{\"id\":\"2077\"}],\"left\":[{\"id\":\"2023\"}],\"plot_width\":880,\"renderers\":[{\"id\":\"2045\"},{\"id\":\"2050\"},{\"id\":\"2055\"}],\"title\":{\"id\":\"2009\"},\"toolbar\":{\"id\":\"2032\"},\"x_range\":{\"id\":\"2011\"},\"x_scale\":{\"id\":\"2015\"},\"y_range\":{\"id\":\"2013\"},\"y_scale\":{\"id\":\"2017\"}},\"id\":\"2008\",\"subtype\":\"Figure\",\"type\":\"Plot\"},{\"attributes\":{\"active_drag\":\"auto\",\"active_inspect\":\"auto\",\"active_multi\":null,\"active_scroll\":\"auto\",\"active_tap\":\"auto\",\"tools\":[{\"id\":\"2027\"},{\"id\":\"2028\"},{\"id\":\"2029\"},{\"id\":\"2030\"}]},\"id\":\"2032\",\"type\":\"Toolbar\"},{\"attributes\":{},\"id\":\"2171\",\"type\":\"Selection\"},{\"attributes\":{\"items\":[{\"id\":\"2078\"}],\"location\":\"top_left\"},\"id\":\"2077\",\"type\":\"Legend\"},{\"attributes\":{},\"id\":\"2015\",\"type\":\"LinearScale\"},{\"attributes\":{\"line_alpha\":0.75,\"line_color\":\"gray\",\"line_dash\":[6],\"x\":{\"field\":\"x\"},\"y\":{\"field\":\"y\"}},\"id\":\"2053\",\"type\":\"Line\"},{\"attributes\":{\"fields\":[]},\"id\":\"2038\",\"type\":\"Stack\"},{\"attributes\":{},\"id\":\"2062\",\"type\":\"Selection\"},{\"attributes\":{\"data\":{\"cases\":[1,1,1,1,1,1,2,2,2,2,2,2,2,2,2,2,2,2,2,2,2,2,2,2,2,2,2,2,2,2,2,2,2,2,2,2,3,3,4,4,4,5,6,6,7,11,19,24,31,44,57,82,87,146,252,368,511,665,957,1107,1400,1707,2322,2776,3259,4263,4652,5563,6450,7087,8218,9586,10384,11265,12415,13748,14948,16248,17496,19055,20168,21270,22515,23624,25264,26600,27627,28715,30072,31825,33472,35886,37711,39536,41326],\"deaths\":[0,0,0,0,0,0,0,0,0,0,0,0,0,0,0,0,0,0,0,0,0,0,0,0,0,0,0,0,0,0,0,0,0,0,0,0,0,0,0,0,0,0,0,0,0,0,0,0,0,0,0,0,0,1,1,3,4,5,7,10,14,17,25,33,46,63,71,96,135,152,192,228,259,287,350,425,490,558,627,668,740,800,869,985,1040,1163,1190,1237,1351,1441,1550,1649,1709,1763,1803],\"x\":{\"__ndarray__\":\"AADAkk39dkIAAID4n/12QgAAQF7y/XZCAAAAxET+dkIAAMApl/52QgAAgI/p/nZCAABA9Tv/dkIAAABbjv92QgAAwMDg/3ZCAACAJjMAd0IAAECMhQB3QgAAAPLXAHdCAADAVyoBd0IAAIC9fAF3QgAAQCPPAXdCAAAAiSECd0IAAMDucwJ3QgAAgFTGAndCAABAuhgDd0IAAAAgawN3QgAAwIW9A3dCAACA6w8Ed0IAAEBRYgR3QgAAALe0BHdCAADAHAcFd0IAAICCWQV3QgAAQOirBXdCAAAATv4Fd0IAAMCzUAZ3QgAAgBmjBndCAABAf/UGd0IAAADlRwd3QgAAwEqaB3dCAACAsOwHd0IAAEAWPwh3QgAAAHyRCHdCAADA4eMId0IAAIBHNgl3QgAAQK2ICXdCAAAAE9sJd0IAAMB4LQp3QgAAgN5/CndCAABARNIKd0IAAACqJAt3QgAAwA93C3dCAACAdckLd0IAAEDbGwx3QgAAAEFuDHdCAADApsAMd0IAAIAMEw13QgAAQHJlDXdCAAAA2LcNd0IAAMA9Cg53QgAAgKNcDndCAABACa8Od0IAAABvAQ93QgAAwNRTD3dCAACAOqYPd0IAAECg+A93QgAAAAZLEHdCAADAa50Qd0IAAIDR7xB3QgAAQDdCEXdCAAAAnZQRd0IAAMAC5xF3QgAAgGg5EndCAABAzosSd0IAAAA03hJ3QgAAwJkwE3dCAACA/4ITd0IAAEBl1RN3QgAAAMsnFHdCAADAMHoUd0IAAICWzBR3QgAAQPweFXdCAAAAYnEVd0IAAMDHwxV3QgAAgC0WFndCAABAk2gWd0IAAAD5uhZ3QgAAwF4NF3dCAACAxF8Xd0IAAEAqshd3QgAAAJAEGHdCAADA9VYYd0IAAIBbqRh3QgAAQMH7GHdCAAAAJ04Zd0IAAMCMoBl3QgAAgPLyGXdCAABAWEUad0IAAAC+lxp3QgAAwCPqGndCAACAiTwbd0IAAEDvjht3Qg==\",\"dtype\":\"float64\",\"shape\":[95]}},\"selected\":{\"id\":\"2062\"},\"selection_policy\":{\"id\":\"2063\"}},\"id\":\"2037\",\"type\":\"ColumnDataSource\"},{\"attributes\":{\"line_alpha\":0.1,\"line_color\":\"gray\",\"line_dash\":[6],\"x\":{\"field\":\"x\"},\"y\":{\"field\":\"y\"}},\"id\":\"2054\",\"type\":\"Line\"},{\"attributes\":{},\"id\":\"2027\",\"type\":\"PanTool\"},{\"attributes\":{\"fields\":[\"deaths\"]},\"id\":\"2040\",\"type\":\"Stack\"},{\"attributes\":{\"fill_alpha\":0.1,\"fill_color\":\"red\",\"x\":{\"field\":\"x\"},\"y1\":{\"expr\":{\"id\":\"2038\"}},\"y2\":{\"expr\":{\"id\":\"2039\"}}},\"id\":\"2044\",\"type\":\"VArea\"},{\"attributes\":{},\"id\":\"2024\",\"type\":\"BasicTicker\"},{\"attributes\":{},\"id\":\"2063\",\"type\":\"UnionRenderers\"},{\"attributes\":{},\"id\":\"2028\",\"type\":\"WheelZoomTool\"},{\"attributes\":{\"fields\":[\"deaths\",\"cases\"]},\"id\":\"2041\",\"type\":\"Stack\"},{\"attributes\":{\"num_minor_ticks\":5,\"tickers\":[{\"id\":\"2065\"},{\"id\":\"2066\"},{\"id\":\"2067\"},{\"id\":\"2068\"},{\"id\":\"2069\"},{\"id\":\"2070\"},{\"id\":\"2071\"},{\"id\":\"2072\"},{\"id\":\"2073\"},{\"id\":\"2074\"},{\"id\":\"2075\"},{\"id\":\"2076\"}]},\"id\":\"2020\",\"type\":\"DatetimeTicker\"},{\"attributes\":{\"mantissas\":[1,2,5],\"max_interval\":500.0,\"num_minor_ticks\":0},\"id\":\"2065\",\"type\":\"AdaptiveTicker\"},{\"attributes\":{\"fill_color\":\"red\",\"x\":{\"field\":\"x\"},\"y1\":{\"expr\":{\"id\":\"2038\"}},\"y2\":{\"expr\":{\"id\":\"2039\"}}},\"id\":\"2043\",\"type\":\"VArea\"},{\"attributes\":{\"overlay\":{\"id\":\"2031\"}},\"id\":\"2029\",\"type\":\"BoxZoomTool\"},{\"attributes\":{},\"id\":\"2172\",\"type\":\"UnionRenderers\"},{\"attributes\":{\"bottom_units\":\"screen\",\"fill_alpha\":0.5,\"fill_color\":\"lightgrey\",\"left_units\":\"screen\",\"level\":\"overlay\",\"line_alpha\":1.0,\"line_color\":\"black\",\"line_dash\":[4,4],\"line_width\":2,\"render_mode\":\"css\",\"right_units\":\"screen\",\"top_units\":\"screen\"},\"id\":\"2031\",\"type\":\"BoxAnnotation\"},{\"attributes\":{},\"id\":\"2030\",\"type\":\"ResetTool\"},{\"attributes\":{\"data_source\":{\"id\":\"2037\"},\"glyph\":{\"id\":\"2043\"},\"hover_glyph\":null,\"muted_glyph\":null,\"name\":\"deaths\",\"nonselection_glyph\":{\"id\":\"2044\"},\"selection_glyph\":null,\"view\":{\"id\":\"2046\"}},\"id\":\"2045\",\"type\":\"GlyphRenderer\"},{\"attributes\":{\"end\":1588118400000.0,\"start\":1579824000000.0},\"id\":\"2011\",\"type\":\"Range1d\"},{\"attributes\":{\"fill_color\":\"lightblue\",\"x\":{\"field\":\"x\"},\"y1\":{\"expr\":{\"id\":\"2040\"}},\"y2\":{\"expr\":{\"id\":\"2041\"}}},\"id\":\"2048\",\"type\":\"VArea\"},{\"attributes\":{\"base\":60,\"mantissas\":[1,2,5,10,15,20,30],\"max_interval\":1800000.0,\"min_interval\":1000.0,\"num_minor_ticks\":0},\"id\":\"2066\",\"type\":\"AdaptiveTicker\"},{\"attributes\":{\"data\":{\"x\":[1579824000000.0,1579910400000.0,1579996800000.0,1580083200000.0,1580169600000.0,1580256000000.0,1580342400000.0,1580428800000.0,1580515200000.0,1580601600000.0,1580688000000.0,1580774400000.0,1580860800000.0,1580947200000.0,1581033600000.0,1581120000000.0,1581206400000.0,1581292800000.0,1581379200000.0,1581465600000.0,1581552000000.0,1581638400000.0,1581724800000.0,1581811200000.0,1581897600000.0,1581984000000.0,1582070400000.0,1582156800000.0,1582243200000.0,1582329600000.0,1582416000000.0,1582502400000.0,1582588800000.0,1582675200000.0,1582761600000.0,1582848000000.0,1582934400000.0,1583020800000.0,1583107200000.0,1583193600000.0,1583280000000.0,1583366400000.0,1583452800000.0,1583539200000.0,1583625600000.0,1583712000000.0,1583798400000.0,1583884800000.0,1583971200000.0,1584057600000.0,1584144000000.0,1584230400000.0,1584316800000.0,1584403200000.0,1584489600000.0,1584576000000.0,1584662400000.0,1584748800000.0,1584835200000.0,1584921600000.0,1585008000000.0,1585094400000.0,1585180800000.0,1585267200000.0,1585353600000.0,1585440000000.0,1585526400000.0,1585612800000.0,1585699200000.0,1585785600000.0,1585872000000.0,1585958400000.0,1586044800000.0,1586131200000.0,1586217600000.0,1586304000000.0,1586390400000.0,1586476800000.0,1586563200000.0,1586649600000.0,1586736000000.0,1586822400000.0,1586908800000.0,1586995200000.0,1587081600000.0,1587168000000.0,1587254400000.0,1587340800000.0,1587427200000.0,1587513600000.0,1587600000000.0,1587686400000.0,1587772800000.0,1587859200000.0,1587945600000.0,1588032000000.0,1588118400000.0,1588204800000.0,1588291200000.0,1588377600000.0,1588464000000.0,1588550400000.0,1588636800000.0,1588723200000.0,1588809600000.0],\"y\":[35.29570304387565,38.12152754801582,41.17359160653667,44.4700082819767,48.03034079458637,51.87571862403,56.02896290635633,60.51472187042987,65.35961711759677,70.59240161271032,76.24413032414378,82.3483445254871,88.9412708527012,96.06203629807291,103.75290041689371,112.05950612493741,121.03115057514309,130.72107772107262,141.1867943034177,152.4904111348389,164.69901170855684,177.8850503182755,192.12678205215613,207.50872721272393,224.12217291889746,242.0657148669946,261.4458424658994,282.37757081898866,304.98512330343567,329.4026687977901,355.77511793305325,384.25898309275374,415.0233072658601,448.2506672649879,484.138257263691,522.8990590833007,564.7631061746027,609.9788487956987,658.8146284879574,711.5602706006256,768.5288043152347,830.058320377626,896.5139775626589,968.2901697793576,1045.8128666775947,1129.542141647099,1219.9749022116794,1317.6478390227217,1423.140610953321,1537.0792851956157,1660.1400527772294,1793.0532415472849,1936.6076504478172,2091.655230793162,2259.116142339275,2439.984214149183,2635.332842663169,2846.3213619768558,3074.201924132917,3320.3269302587573,3586.1570566517125,3873.269923444149,4183.369457294253,4518.296003667296,4880.037248720552,5270.740015610021,5692.723005226301,6148.490556972013,6640.7475112468155,7172.415261844155,7746.649093525973,8366.856907668358,9036.71944710929,9760.212140226578,10541.628693883926,11385.606575262136,12297.154533802026,13281.682326593665,14345.032823622692,15493.51668340861,16733.949804824442,18073.693777362463,19520.699569906352,21083.55471728869,22771.534284672092,24594.65591221141,26563.739266670385,28690.470252820072,30987.47036569333,33468.371595280485,36147.89732820175,39041.949726483675,42167.70410200532,45543.71084669755,49190.005523420376,53128.22777087295,57381.74972820149,61975.81474146455,66937.6871751366,72296.81421773543,78085.00064183881,84336.59755563928,91088.70626621743,98381.39846440173,106257.95403794273]},\"selected\":{\"id\":\"2171\"},\"selection_policy\":{\"id\":\"2172\"}},\"id\":\"2052\",\"type\":\"ColumnDataSource\"},{\"attributes\":{\"days\":[1,2,3,4,5,6,7,8,9,10,11,12,13,14,15,16,17,18,19,20,21,22,23,24,25,26,27,28,29,30,31]},\"id\":\"2068\",\"type\":\"DaysTicker\"},{\"attributes\":{\"months\":[0,1,2,3,4,5,6,7,8,9,10,11]},\"id\":\"2072\",\"type\":\"MonthsTicker\"},{\"attributes\":{\"source\":{\"id\":\"2037\"}},\"id\":\"2046\",\"type\":\"CDSView\"},{\"attributes\":{\"source\":{\"id\":\"2052\"}},\"id\":\"2056\",\"type\":\"CDSView\"},{\"attributes\":{\"days\":[1,15]},\"id\":\"2071\",\"type\":\"DaysTicker\"},{\"attributes\":{},\"id\":\"2017\",\"type\":\"LinearScale\"},{\"attributes\":{\"data_source\":{\"id\":\"2052\"},\"glyph\":{\"id\":\"2053\"},\"hover_glyph\":null,\"muted_glyph\":null,\"nonselection_glyph\":{\"id\":\"2054\"},\"selection_glyph\":null,\"view\":{\"id\":\"2056\"}},\"id\":\"2055\",\"type\":\"GlyphRenderer\"},{\"attributes\":{\"text\":\"Cases for the Chicago Metropolitan Area\"},\"id\":\"2009\",\"type\":\"Title\"},{\"attributes\":{\"end\":49591},\"id\":\"2013\",\"type\":\"Range1d\"},{\"attributes\":{\"code\":\"\\n        let date = new Date(tick);\\n        return `${date.getDate()}-${date.getMonth()}-${date.getFullYear()}`\\n    \"},\"id\":\"2079\",\"type\":\"FuncTickFormatter\"},{\"attributes\":{\"months\":[0,2,4,6,8,10]},\"id\":\"2073\",\"type\":\"MonthsTicker\"},{\"attributes\":{\"axis_label\":\"# of Cases & Deaths\",\"formatter\":{\"id\":\"2060\"},\"ticker\":{\"id\":\"2024\"}},\"id\":\"2023\",\"type\":\"LinearAxis\"},{\"attributes\":{\"fill_alpha\":0.1,\"fill_color\":\"lightblue\",\"x\":{\"field\":\"x\"},\"y1\":{\"expr\":{\"id\":\"2040\"}},\"y2\":{\"expr\":{\"id\":\"2041\"}}},\"id\":\"2049\",\"type\":\"VArea\"},{\"attributes\":{\"axis\":{\"id\":\"2023\"},\"dimension\":1,\"ticker\":null},\"id\":\"2026\",\"type\":\"Grid\"},{\"attributes\":{},\"id\":\"2060\",\"type\":\"BasicTickFormatter\"},{\"attributes\":{\"months\":[0,4,8]},\"id\":\"2074\",\"type\":\"MonthsTicker\"},{\"attributes\":{\"axis_label\":\"Date\",\"formatter\":{\"id\":\"2079\"},\"ticker\":{\"id\":\"2020\"}},\"id\":\"2019\",\"type\":\"DatetimeAxis\"},{\"attributes\":{\"data_source\":{\"id\":\"2037\"},\"glyph\":{\"id\":\"2048\"},\"hover_glyph\":null,\"muted_glyph\":null,\"name\":\"cases\",\"nonselection_glyph\":{\"id\":\"2049\"},\"selection_glyph\":null,\"view\":{\"id\":\"2051\"}},\"id\":\"2050\",\"type\":\"GlyphRenderer\"},{\"attributes\":{\"base\":24,\"mantissas\":[1,2,4,6,8,12],\"max_interval\":43200000.0,\"min_interval\":3600000.0,\"num_minor_ticks\":0},\"id\":\"2067\",\"type\":\"AdaptiveTicker\"},{\"attributes\":{\"months\":[0,6]},\"id\":\"2075\",\"type\":\"MonthsTicker\"},{\"attributes\":{},\"id\":\"2076\",\"type\":\"YearsTicker\"},{\"attributes\":{\"source\":{\"id\":\"2037\"}},\"id\":\"2051\",\"type\":\"CDSView\"},{\"attributes\":{\"days\":[1,4,7,10,13,16,19,22,25,28]},\"id\":\"2069\",\"type\":\"DaysTicker\"},{\"attributes\":{\"days\":[1,8,15,22]},\"id\":\"2070\",\"type\":\"DaysTicker\"},{\"attributes\":{\"fields\":[\"deaths\"]},\"id\":\"2039\",\"type\":\"Stack\"},{\"attributes\":{\"label\":{\"value\":\"Projected # of Cases\"},\"renderers\":[{\"id\":\"2055\"}]},\"id\":\"2078\",\"type\":\"LegendItem\"},{\"attributes\":{\"axis\":{\"id\":\"2019\"},\"ticker\":null},\"id\":\"2022\",\"type\":\"Grid\"}],\"root_ids\":[\"2008\"]},\"title\":\"Bokeh Application\",\"version\":\"2.0.1\"}};\n",
       "  var render_items = [{\"docid\":\"26590793-fdfb-4c75-be41-e58e54dea5e2\",\"root_ids\":[\"2008\"],\"roots\":{\"2008\":\"ff664cbe-3657-4093-b36e-ff6325eb29bc\"}}];\n",
       "  root.Bokeh.embed.embed_items_notebook(docs_json, render_items);\n",
       "\n",
       "  }\n",
       "  if (root.Bokeh !== undefined) {\n",
       "    embed_document(root);\n",
       "  } else {\n",
       "    var attempts = 0;\n",
       "    var timer = setInterval(function(root) {\n",
       "      if (root.Bokeh !== undefined) {\n",
       "        clearInterval(timer);\n",
       "        embed_document(root);\n",
       "      } else {\n",
       "        attempts++;\n",
       "        if (attempts > 100) {\n",
       "          clearInterval(timer);\n",
       "          console.log(\"Bokeh: ERROR: Unable to run BokehJS code because BokehJS library is missing\");\n",
       "        }\n",
       "      }\n",
       "    }, 10, root)\n",
       "  }\n",
       "})(window);"
      ],
      "application/vnd.bokehjs_exec.v0+json": ""
     },
     "metadata": {
      "application/vnd.bokehjs_exec.v0+json": {
       "id": "2008"
      }
     },
     "output_type": "display_data"
    }
   ],
   "source": [
    "# https://en.wikipedia.org/wiki/Chicago_metropolitan_area\n",
    "chicago_metropolitan = dict(\n",
    "    Illinois=[\n",
    "        \"Cook\",\n",
    "        \"DeKalb\",\n",
    "        \"DuPage\",\n",
    "        \"Grundy\",\n",
    "        \"Kankakee\",\n",
    "        \"Kane\",\n",
    "        \"Kendall\",\n",
    "        \"McHenry\",\n",
    "        \"Will\",\n",
    "    ],\n",
    "    Indiana=[\"Jasper\", \"Lake\", \"Newton\", \"Porter\",],\n",
    "    Wisconsin=[\"Kenosha\"],\n",
    ")\n",
    "\n",
    "plot_states_and_counties_curve(\n",
    "    df, chicago_metropolitan, \"Cases for the Chicago Metropolitan Area\"\n",
    ")"
   ]
  },
  {
   "cell_type": "code",
   "execution_count": 8,
   "metadata": {},
   "outputs": [
    {
     "name": "stdout",
     "output_type": "stream",
     "text": [
      "y ≈ exp(5.47416464278099) * exp(0.0702195018553838 * x)\n",
      "y = 238.45119178484296 * exp(0.0702195018553838 * x)\n"
     ]
    },
    {
     "data": {
      "text/html": [
       "\n",
       "\n",
       "\n",
       "\n",
       "\n",
       "\n",
       "  <div class=\"bk-root\" id=\"b9e1ca76-4c9a-4b81-bc11-3831cd6483d6\" data-root-id=\"2312\"></div>\n"
      ]
     },
     "metadata": {},
     "output_type": "display_data"
    },
    {
     "data": {
      "application/javascript": [
       "(function(root) {\n",
       "  function embed_document(root) {\n",
       "    \n",
       "  var docs_json = {\"63d20582-5529-4436-9e59-fcd3542c1617\":{\"roots\":{\"references\":[{\"attributes\":{\"below\":[{\"id\":\"2323\"}],\"center\":[{\"id\":\"2326\"},{\"id\":\"2330\"},{\"id\":\"2381\"}],\"left\":[{\"id\":\"2327\"}],\"plot_width\":880,\"renderers\":[{\"id\":\"2349\"},{\"id\":\"2354\"},{\"id\":\"2359\"}],\"title\":{\"id\":\"2313\"},\"toolbar\":{\"id\":\"2336\"},\"x_range\":{\"id\":\"2315\"},\"x_scale\":{\"id\":\"2319\"},\"y_range\":{\"id\":\"2317\"},\"y_scale\":{\"id\":\"2321\"}},\"id\":\"2312\",\"subtype\":\"Figure\",\"type\":\"Plot\"},{\"attributes\":{\"data\":{\"cases\":[2,6,6,6,8,11,16,22,39,53,70,77,97,115,145,178,230,280,343,410,506,646,795,963,1100,1329,1554,1730,1944,2197,2397,2599,2703,2872,3036,3400,3651,3884,4153,4387,4554,4744,5015,5292,5547,5702,5963,6192,6429,6710,7412,7716,7982,8239],\"deaths\":[0,0,0,0,0,0,0,0,0,0,0,0,0,0,0,0,0,0,0,0,5,7,9,13,13,11,22,30,40,50,54,63,67,93,100,116,133,146,152,160,172,191,198,208,223,230,248,278,307,325,399,403,406,418],\"x\":{\"__ndarray__\":\"AACA3n8Kd0IAAEBE0gp3QgAAAKokC3dCAADAD3cLd0IAAIB1yQt3QgAAQNsbDHdCAAAAQW4Md0IAAMCmwAx3QgAAgAwTDXdCAABAcmUNd0IAAADYtw13QgAAwD0KDndCAACAo1wOd0IAAEAJrw53QgAAAG8BD3dCAADA1FMPd0IAAIA6pg93QgAAQKD4D3dCAAAABksQd0IAAMBrnRB3QgAAgNHvEHdCAABAN0IRd0IAAACdlBF3QgAAwALnEXdCAACAaDkSd0IAAEDOixJ3QgAAADTeEndCAADAmTATd0IAAID/ghN3QgAAQGXVE3dCAAAAyycUd0IAAMAwehR3QgAAgJbMFHdCAABA/B4Vd0IAAABicRV3QgAAwMfDFXdCAACALRYWd0IAAECTaBZ3QgAAAPm6FndCAADAXg0Xd0IAAIDEXxd3QgAAQCqyF3dCAAAAkAQYd0IAAMD1Vhh3QgAAgFupGHdCAABAwfsYd0IAAAAnThl3QgAAwIygGXdCAACA8vIZd0IAAEBYRRp3QgAAAL6XGndCAADAI+oad0IAAICJPBt3QgAAQO+OG3dC\",\"dtype\":\"float64\",\"shape\":[54]}},\"selected\":{\"id\":\"2366\"},\"selection_policy\":{\"id\":\"2367\"}},\"id\":\"2341\",\"type\":\"ColumnDataSource\"},{\"attributes\":{\"axis_label\":\"Date\",\"formatter\":{\"id\":\"2383\"},\"ticker\":{\"id\":\"2324\"}},\"id\":\"2323\",\"type\":\"DatetimeAxis\"},{\"attributes\":{},\"id\":\"2332\",\"type\":\"WheelZoomTool\"},{\"attributes\":{\"label\":{\"value\":\"Projected # of Cases\"},\"renderers\":[{\"id\":\"2359\"}]},\"id\":\"2382\",\"type\":\"LegendItem\"},{\"attributes\":{\"num_minor_ticks\":5,\"tickers\":[{\"id\":\"2369\"},{\"id\":\"2370\"},{\"id\":\"2371\"},{\"id\":\"2372\"},{\"id\":\"2373\"},{\"id\":\"2374\"},{\"id\":\"2375\"},{\"id\":\"2376\"},{\"id\":\"2377\"},{\"id\":\"2378\"},{\"id\":\"2379\"},{\"id\":\"2380\"}]},\"id\":\"2324\",\"type\":\"DatetimeTicker\"},{\"attributes\":{},\"id\":\"2380\",\"type\":\"YearsTicker\"},{\"attributes\":{},\"id\":\"2334\",\"type\":\"ResetTool\"},{\"attributes\":{\"months\":[0,6]},\"id\":\"2379\",\"type\":\"MonthsTicker\"},{\"attributes\":{\"axis\":{\"id\":\"2323\"},\"ticker\":null},\"id\":\"2326\",\"type\":\"Grid\"},{\"attributes\":{\"months\":[0,4,8]},\"id\":\"2378\",\"type\":\"MonthsTicker\"},{\"attributes\":{},\"id\":\"2328\",\"type\":\"BasicTicker\"},{\"attributes\":{\"fields\":[]},\"id\":\"2342\",\"type\":\"Stack\"},{\"attributes\":{\"base\":24,\"mantissas\":[1,2,4,6,8,12],\"max_interval\":43200000.0,\"min_interval\":3600000.0,\"num_minor_ticks\":0},\"id\":\"2371\",\"type\":\"AdaptiveTicker\"},{\"attributes\":{\"months\":[0,2,4,6,8,10]},\"id\":\"2377\",\"type\":\"MonthsTicker\"},{\"attributes\":{\"fill_color\":\"red\",\"x\":{\"field\":\"x\"},\"y1\":{\"expr\":{\"id\":\"2342\"}},\"y2\":{\"expr\":{\"id\":\"2343\"}}},\"id\":\"2347\",\"type\":\"VArea\"},{\"attributes\":{\"months\":[0,1,2,3,4,5,6,7,8,9,10,11]},\"id\":\"2376\",\"type\":\"MonthsTicker\"},{\"attributes\":{},\"id\":\"2331\",\"type\":\"PanTool\"},{\"attributes\":{\"days\":[1,2,3,4,5,6,7,8,9,10,11,12,13,14,15,16,17,18,19,20,21,22,23,24,25,26,27,28,29,30,31]},\"id\":\"2372\",\"type\":\"DaysTicker\"},{\"attributes\":{\"source\":{\"id\":\"2356\"}},\"id\":\"2360\",\"type\":\"CDSView\"},{\"attributes\":{\"days\":[1,15]},\"id\":\"2375\",\"type\":\"DaysTicker\"},{\"attributes\":{\"data_source\":{\"id\":\"2341\"},\"glyph\":{\"id\":\"2347\"},\"hover_glyph\":null,\"muted_glyph\":null,\"name\":\"deaths\",\"nonselection_glyph\":{\"id\":\"2348\"},\"selection_glyph\":null,\"view\":{\"id\":\"2350\"}},\"id\":\"2349\",\"type\":\"GlyphRenderer\"},{\"attributes\":{\"fill_alpha\":0.1,\"fill_color\":\"red\",\"x\":{\"field\":\"x\"},\"y1\":{\"expr\":{\"id\":\"2342\"}},\"y2\":{\"expr\":{\"id\":\"2343\"}}},\"id\":\"2348\",\"type\":\"VArea\"},{\"attributes\":{\"days\":[1,8,15,22]},\"id\":\"2374\",\"type\":\"DaysTicker\"},{\"attributes\":{\"line_alpha\":0.75,\"line_color\":\"gray\",\"line_dash\":[6],\"x\":{\"field\":\"x\"},\"y\":{\"field\":\"y\"}},\"id\":\"2357\",\"type\":\"Line\"},{\"attributes\":{\"fields\":[\"deaths\",\"cases\"]},\"id\":\"2345\",\"type\":\"Stack\"},{\"attributes\":{\"fill_alpha\":0.1,\"fill_color\":\"lightblue\",\"x\":{\"field\":\"x\"},\"y1\":{\"expr\":{\"id\":\"2344\"}},\"y2\":{\"expr\":{\"id\":\"2345\"}}},\"id\":\"2353\",\"type\":\"VArea\"},{\"attributes\":{\"days\":[1,4,7,10,13,16,19,22,25,28]},\"id\":\"2373\",\"type\":\"DaysTicker\"},{\"attributes\":{\"fields\":[\"deaths\"]},\"id\":\"2344\",\"type\":\"Stack\"},{\"attributes\":{\"items\":[{\"id\":\"2382\"}],\"location\":\"top_left\"},\"id\":\"2381\",\"type\":\"Legend\"},{\"attributes\":{\"text\":\"Cases for the Denver Metropolitan Area\"},\"id\":\"2313\",\"type\":\"Title\"},{\"attributes\":{\"data\":{\"x\":[1583366400000.0,1583452800000.0,1583539200000.0,1583625600000.0,1583712000000.0,1583798400000.0,1583884800000.0,1583971200000.0,1584057600000.0,1584144000000.0,1584230400000.0,1584316800000.0,1584403200000.0,1584489600000.0,1584576000000.0,1584662400000.0,1584748800000.0,1584835200000.0,1584921600000.0,1585008000000.0,1585094400000.0,1585180800000.0,1585267200000.0,1585353600000.0,1585440000000.0,1585526400000.0,1585612800000.0,1585699200000.0,1585785600000.0,1585872000000.0,1585958400000.0,1586044800000.0,1586131200000.0,1586217600000.0,1586304000000.0,1586390400000.0,1586476800000.0,1586563200000.0,1586649600000.0,1586736000000.0,1586822400000.0,1586908800000.0,1586995200000.0,1587081600000.0,1587168000000.0,1587254400000.0,1587340800000.0,1587427200000.0,1587513600000.0,1587600000000.0,1587686400000.0,1587772800000.0,1587859200000.0,1587945600000.0,1588032000000.0,1588118400000.0,1588204800000.0,1588291200000.0,1588377600000.0,1588464000000.0,1588550400000.0,1588636800000.0,1588723200000.0,1588809600000.0],\"y\":[238.45119178484296,255.796995772401,274.4045964141199,294.3657813721682,315.7790152759568,338.74992542893773,363.39182284747585,389.8262612019769,418.18363641741877,448.60382989099935,481.2368984997666,516.2438148019057,553.7972610829501,594.0824811637915,637.2981941722945,683.657574785967,733.3893047810378,786.7387010750259,843.9689258272131,905.3622845662122,971.2216187480407,1041.8717996139148,1117.6613307166738,1198.9640670207873,1286.181059055926,1379.7425312209482,1480.1100039968885,1587.7785705374129,1703.279338866715,1827.1820517317365,1960.097897031938,2102.6825226899164,2255.63927083464,2419.7226472508905,2595.74204320904,2784.56572803421,2987.1251321093873,3204.419441439702,3437.52052644198,3687.5782292722997,3955.8260357729237,4243.587160017208,4552.281071466368,4883.4304969352725,5238.668931906628,5619.74869824537,6028.549588060401,6467.088136352179,6937.527568186289,7442.188469460461,7983.560233901904,8564.313342760672,9187.312537772441,9855.63095237038,10572.565270852545,11341.651990282102,12166.684865337062,13051.73362216168,14001.16403353122,15019.659454356863,16112.243923761504,17284.3069476841,18541.63008426057,19890.415463121637]},\"selected\":{\"id\":\"2496\"},\"selection_policy\":{\"id\":\"2497\"}},\"id\":\"2356\",\"type\":\"ColumnDataSource\"},{\"attributes\":{\"code\":\"\\n        let date = new Date(tick);\\n        return `${date.getDate()}-${date.getMonth()}-${date.getFullYear()}`\\n    \"},\"id\":\"2383\",\"type\":\"FuncTickFormatter\"},{\"attributes\":{\"active_drag\":\"auto\",\"active_inspect\":\"auto\",\"active_multi\":null,\"active_scroll\":\"auto\",\"active_tap\":\"auto\",\"tools\":[{\"id\":\"2331\"},{\"id\":\"2332\"},{\"id\":\"2333\"},{\"id\":\"2334\"}]},\"id\":\"2336\",\"type\":\"Toolbar\"},{\"attributes\":{\"source\":{\"id\":\"2341\"}},\"id\":\"2355\",\"type\":\"CDSView\"},{\"attributes\":{},\"id\":\"2367\",\"type\":\"UnionRenderers\"},{\"attributes\":{},\"id\":\"2497\",\"type\":\"UnionRenderers\"},{\"attributes\":{\"end\":1588118400000.0,\"start\":1583366400000.0},\"id\":\"2315\",\"type\":\"Range1d\"},{\"attributes\":{},\"id\":\"2319\",\"type\":\"LinearScale\"},{\"attributes\":{\"bottom_units\":\"screen\",\"fill_alpha\":0.5,\"fill_color\":\"lightgrey\",\"left_units\":\"screen\",\"level\":\"overlay\",\"line_alpha\":1.0,\"line_color\":\"black\",\"line_dash\":[4,4],\"line_width\":2,\"render_mode\":\"css\",\"right_units\":\"screen\",\"top_units\":\"screen\"},\"id\":\"2335\",\"type\":\"BoxAnnotation\"},{\"attributes\":{},\"id\":\"2366\",\"type\":\"Selection\"},{\"attributes\":{\"data_source\":{\"id\":\"2356\"},\"glyph\":{\"id\":\"2357\"},\"hover_glyph\":null,\"muted_glyph\":null,\"nonselection_glyph\":{\"id\":\"2358\"},\"selection_glyph\":null,\"view\":{\"id\":\"2360\"}},\"id\":\"2359\",\"type\":\"GlyphRenderer\"},{\"attributes\":{\"fields\":[\"deaths\"]},\"id\":\"2343\",\"type\":\"Stack\"},{\"attributes\":{},\"id\":\"2496\",\"type\":\"Selection\"},{\"attributes\":{\"axis_label\":\"# of Cases & Deaths\",\"formatter\":{\"id\":\"2364\"},\"ticker\":{\"id\":\"2328\"}},\"id\":\"2327\",\"type\":\"LinearAxis\"},{\"attributes\":{\"end\":9886},\"id\":\"2317\",\"type\":\"Range1d\"},{\"attributes\":{\"mantissas\":[1,2,5],\"max_interval\":500.0,\"num_minor_ticks\":0},\"id\":\"2369\",\"type\":\"AdaptiveTicker\"},{\"attributes\":{},\"id\":\"2321\",\"type\":\"LinearScale\"},{\"attributes\":{\"overlay\":{\"id\":\"2335\"}},\"id\":\"2333\",\"type\":\"BoxZoomTool\"},{\"attributes\":{\"base\":60,\"mantissas\":[1,2,5,10,15,20,30],\"max_interval\":1800000.0,\"min_interval\":1000.0,\"num_minor_ticks\":0},\"id\":\"2370\",\"type\":\"AdaptiveTicker\"},{\"attributes\":{\"data_source\":{\"id\":\"2341\"},\"glyph\":{\"id\":\"2352\"},\"hover_glyph\":null,\"muted_glyph\":null,\"name\":\"cases\",\"nonselection_glyph\":{\"id\":\"2353\"},\"selection_glyph\":null,\"view\":{\"id\":\"2355\"}},\"id\":\"2354\",\"type\":\"GlyphRenderer\"},{\"attributes\":{\"line_alpha\":0.1,\"line_color\":\"gray\",\"line_dash\":[6],\"x\":{\"field\":\"x\"},\"y\":{\"field\":\"y\"}},\"id\":\"2358\",\"type\":\"Line\"},{\"attributes\":{},\"id\":\"2364\",\"type\":\"BasicTickFormatter\"},{\"attributes\":{\"source\":{\"id\":\"2341\"}},\"id\":\"2350\",\"type\":\"CDSView\"},{\"attributes\":{\"fill_color\":\"lightblue\",\"x\":{\"field\":\"x\"},\"y1\":{\"expr\":{\"id\":\"2344\"}},\"y2\":{\"expr\":{\"id\":\"2345\"}}},\"id\":\"2352\",\"type\":\"VArea\"},{\"attributes\":{\"axis\":{\"id\":\"2327\"},\"dimension\":1,\"ticker\":null},\"id\":\"2330\",\"type\":\"Grid\"}],\"root_ids\":[\"2312\"]},\"title\":\"Bokeh Application\",\"version\":\"2.0.1\"}};\n",
       "  var render_items = [{\"docid\":\"63d20582-5529-4436-9e59-fcd3542c1617\",\"root_ids\":[\"2312\"],\"roots\":{\"2312\":\"b9e1ca76-4c9a-4b81-bc11-3831cd6483d6\"}}];\n",
       "  root.Bokeh.embed.embed_items_notebook(docs_json, render_items);\n",
       "\n",
       "  }\n",
       "  if (root.Bokeh !== undefined) {\n",
       "    embed_document(root);\n",
       "  } else {\n",
       "    var attempts = 0;\n",
       "    var timer = setInterval(function(root) {\n",
       "      if (root.Bokeh !== undefined) {\n",
       "        clearInterval(timer);\n",
       "        embed_document(root);\n",
       "      } else {\n",
       "        attempts++;\n",
       "        if (attempts > 100) {\n",
       "          clearInterval(timer);\n",
       "          console.log(\"Bokeh: ERROR: Unable to run BokehJS code because BokehJS library is missing\");\n",
       "        }\n",
       "      }\n",
       "    }, 10, root)\n",
       "  }\n",
       "})(window);"
      ],
      "application/vnd.bokehjs_exec.v0+json": ""
     },
     "metadata": {
      "application/vnd.bokehjs_exec.v0+json": {
       "id": "2312"
      }
     },
     "output_type": "display_data"
    }
   ],
   "source": [
    "# Denver Metropolitan Area\n",
    "# https://en.wikipedia.org/wiki/Denver_metropolitan_area\n",
    "denver_metropolitan = dict(\n",
    "    Colorado=[\n",
    "        \"Denver\",\n",
    "        \"Arapahoe\",\n",
    "        \"Jefferson\",\n",
    "        \"Adams\",\n",
    "        \"Douglas\",\n",
    "        \"Broomfield\",\n",
    "        \"Elbert\",\n",
    "        \"Park\",\n",
    "        \"Clear Creek\",\n",
    "        \"Gilpin\",\n",
    "    ],\n",
    ")\n",
    "\n",
    "plot_states_and_counties_curve(\n",
    "    df, denver_metropolitan, \"Cases for the Denver Metropolitan Area\"\n",
    ")"
   ]
  },
  {
   "cell_type": "code",
   "execution_count": 9,
   "metadata": {},
   "outputs": [
    {
     "name": "stdout",
     "output_type": "stream",
     "text": [
      "y ≈ exp(7.9279002401654575) * exp(0.05986859908021695 * x)\n",
      "y = 2773.5967986978717 * exp(0.05986859908021695 * x)\n"
     ]
    },
    {
     "data": {
      "text/html": [
       "\n",
       "\n",
       "\n",
       "\n",
       "\n",
       "\n",
       "  <div class=\"bk-root\" id=\"87cbe3b4-4f5d-445f-a055-6a4212ef04e8\" data-root-id=\"2637\"></div>\n"
      ]
     },
     "metadata": {},
     "output_type": "display_data"
    },
    {
     "data": {
      "application/javascript": [
       "(function(root) {\n",
       "  function embed_document(root) {\n",
       "    \n",
       "  var docs_json = {\"38763dc9-b05e-4327-8fe4-1237f741b6ba\":{\"roots\":{\"references\":[{\"attributes\":{\"below\":[{\"id\":\"2648\"}],\"center\":[{\"id\":\"2651\"},{\"id\":\"2655\"},{\"id\":\"2706\"}],\"left\":[{\"id\":\"2652\"}],\"plot_width\":880,\"renderers\":[{\"id\":\"2674\"},{\"id\":\"2679\"},{\"id\":\"2684\"}],\"title\":{\"id\":\"2638\"},\"toolbar\":{\"id\":\"2661\"},\"x_range\":{\"id\":\"2640\"},\"x_scale\":{\"id\":\"2644\"},\"y_range\":{\"id\":\"2642\"},\"y_scale\":{\"id\":\"2646\"}},\"id\":\"2637\",\"subtype\":\"Figure\",\"type\":\"Plot\"},{\"attributes\":{\"source\":{\"id\":\"2666\"}},\"id\":\"2680\",\"type\":\"CDSView\"},{\"attributes\":{\"fields\":[\"deaths\"]},\"id\":\"2668\",\"type\":\"Stack\"},{\"attributes\":{\"text\":\"Michigan Cases\"},\"id\":\"2638\",\"type\":\"Title\"},{\"attributes\":{\"axis\":{\"id\":\"2652\"},\"dimension\":1,\"ticker\":null},\"id\":\"2655\",\"type\":\"Grid\"},{\"attributes\":{\"bottom_units\":\"screen\",\"fill_alpha\":0.5,\"fill_color\":\"lightgrey\",\"left_units\":\"screen\",\"level\":\"overlay\",\"line_alpha\":1.0,\"line_color\":\"black\",\"line_dash\":[4,4],\"line_width\":2,\"render_mode\":\"css\",\"right_units\":\"screen\",\"top_units\":\"screen\"},\"id\":\"2660\",\"type\":\"BoxAnnotation\"},{\"attributes\":{\"axis_label\":\"# of Cases & Deaths\",\"formatter\":{\"id\":\"2689\"},\"ticker\":{\"id\":\"2653\"}},\"id\":\"2652\",\"type\":\"LinearAxis\"},{\"attributes\":{\"days\":[1,8,15,22]},\"id\":\"2699\",\"type\":\"DaysTicker\"},{\"attributes\":{\"data\":{\"cases\":[2,2,12,25,33,53,54,65,80,334,548,787,1033,1324,1783,2286,2878,3652,4637,5473,6509,7630,9293,10791,12670,14225,15635,17130,18852,20220,21375,22646,23855,24496,25490,26845,27894,29120,29954,30718,31349,31929,32936,33930,35253,36628,37185,37752,38191],\"deaths\":[0,0,0,0,0,0,0,0,1,3,4,6,9,16,24,43,63,93,112,132,197,264,336,417,478,542,617,727,845,959,1076,1280,1395,1488,1603,1767,1920,2092,2227,2307,2389,2466,2698,2812,2977,3084,3273,3314,3406],\"x\":{\"__ndarray__\":\"AABA2xsMd0IAAABBbgx3QgAAwKbADHdCAACADBMNd0IAAEByZQ13QgAAANi3DXdCAADAPQoOd0IAAICjXA53QgAAQAmvDndCAAAAbwEPd0IAAMDUUw93QgAAgDqmD3dCAABAoPgPd0IAAAAGSxB3QgAAwGudEHdCAACA0e8Qd0IAAEA3QhF3QgAAAJ2UEXdCAADAAucRd0IAAIBoORJ3QgAAQM6LEndCAAAANN4Sd0IAAMCZMBN3QgAAgP+CE3dCAABAZdUTd0IAAADLJxR3QgAAwDB6FHdCAACAlswUd0IAAED8HhV3QgAAAGJxFXdCAADAx8MVd0IAAIAtFhZ3QgAAQJNoFndCAAAA+boWd0IAAMBeDRd3QgAAgMRfF3dCAABAKrIXd0IAAACQBBh3QgAAwPVWGHdCAACAW6kYd0IAAEDB+xh3QgAAACdOGXdCAADAjKAZd0IAAIDy8hl3QgAAQFhFGndCAAAAvpcad0IAAMAj6hp3QgAAgIk8G3dCAABA744bd0I=\",\"dtype\":\"float64\",\"shape\":[49]}},\"selected\":{\"id\":\"2691\"},\"selection_policy\":{\"id\":\"2692\"}},\"id\":\"2666\",\"type\":\"ColumnDataSource\"},{\"attributes\":{\"data\":{\"x\":[1583798400000.0,1583884800000.0,1583971200000.0,1584057600000.0,1584144000000.0,1584230400000.0,1584316800000.0,1584403200000.0,1584489600000.0,1584576000000.0,1584662400000.0,1584748800000.0,1584835200000.0,1584921600000.0,1585008000000.0,1585094400000.0,1585180800000.0,1585267200000.0,1585353600000.0,1585440000000.0,1585526400000.0,1585612800000.0,1585699200000.0,1585785600000.0,1585872000000.0,1585958400000.0,1586044800000.0,1586131200000.0,1586217600000.0,1586304000000.0,1586390400000.0,1586476800000.0,1586563200000.0,1586649600000.0,1586736000000.0,1586822400000.0,1586908800000.0,1586995200000.0,1587081600000.0,1587168000000.0,1587254400000.0,1587340800000.0,1587427200000.0,1587513600000.0,1587600000000.0,1587686400000.0,1587772800000.0,1587859200000.0,1587945600000.0,1588032000000.0,1588118400000.0,1588204800000.0,1588291200000.0,1588377600000.0,1588464000000.0,1588550400000.0,1588636800000.0,1588723200000.0,1588809600000.0],\"y\":[2773.5967986978717,2944.719481967006,3126.3999264590316,3319.2895146786527,3524.0798174961265,3741.505073650032,3972.3448222279994,4217.426697563677,4477.62939657054,4753.885829151376,5047.186462978691,5358.582874638108,5689.191519866786,6040.197736404339,6412.859993807762,6808.514405467331,7228.579519000452,7674.561402198612,8148.059042762124,8650.770081182482,9184.496897326513,9751.153072544701,10352.770250472398,10991.505421122083,11669.648654382472,12389.631310651574,13154.034758041378,13965.599627408208,14827.23563839094,15742.032031686595,16713.26864496634,17744.427672142614,18839.20614814809,20001.52920398842,21235.56413959237,22545.735364914974,23936.7402628624,25413.566030912167,26981.5075618112,28646.18642746001,30413.57103404601,32289.998020688665,34282.1949783176,36397.30457023792,38642.9101408627,41027.062904428385,43558.31081117293,46245.72919447154,49098.95330880962,52128.21287525199,55344.36875826482,58758.95190538881,62384.20468937407,66233.12480100253,70319.51184996656,74658.01684088347,79264.19470183355,84154.56005375233,89346.64642062884]},\"selected\":{\"id\":\"2842\"},\"selection_policy\":{\"id\":\"2843\"}},\"id\":\"2681\",\"type\":\"ColumnDataSource\"},{\"attributes\":{\"num_minor_ticks\":5,\"tickers\":[{\"id\":\"2694\"},{\"id\":\"2695\"},{\"id\":\"2696\"},{\"id\":\"2697\"},{\"id\":\"2698\"},{\"id\":\"2699\"},{\"id\":\"2700\"},{\"id\":\"2701\"},{\"id\":\"2702\"},{\"id\":\"2703\"},{\"id\":\"2704\"},{\"id\":\"2705\"}]},\"id\":\"2649\",\"type\":\"DatetimeTicker\"},{\"attributes\":{\"months\":[0,6]},\"id\":\"2704\",\"type\":\"MonthsTicker\"},{\"attributes\":{\"axis\":{\"id\":\"2648\"},\"ticker\":null},\"id\":\"2651\",\"type\":\"Grid\"},{\"attributes\":{\"fields\":[\"deaths\"]},\"id\":\"2669\",\"type\":\"Stack\"},{\"attributes\":{\"months\":[0,4,8]},\"id\":\"2703\",\"type\":\"MonthsTicker\"},{\"attributes\":{\"fill_alpha\":0.1,\"fill_color\":\"red\",\"x\":{\"field\":\"x\"},\"y1\":{\"expr\":{\"id\":\"2667\"}},\"y2\":{\"expr\":{\"id\":\"2668\"}}},\"id\":\"2673\",\"type\":\"VArea\"},{\"attributes\":{\"fields\":[]},\"id\":\"2667\",\"type\":\"Stack\"},{\"attributes\":{\"items\":[{\"id\":\"2707\"}],\"location\":\"top_left\"},\"id\":\"2706\",\"type\":\"Legend\"},{\"attributes\":{\"axis_label\":\"Date\",\"formatter\":{\"id\":\"2708\"},\"ticker\":{\"id\":\"2649\"}},\"id\":\"2648\",\"type\":\"DatetimeAxis\"},{\"attributes\":{\"fields\":[\"deaths\",\"cases\"]},\"id\":\"2670\",\"type\":\"Stack\"},{\"attributes\":{\"base\":24,\"mantissas\":[1,2,4,6,8,12],\"max_interval\":43200000.0,\"min_interval\":3600000.0,\"num_minor_ticks\":0},\"id\":\"2696\",\"type\":\"AdaptiveTicker\"},{\"attributes\":{\"end\":1588118400000.0,\"start\":1583798400000.0},\"id\":\"2640\",\"type\":\"Range1d\"},{\"attributes\":{\"source\":{\"id\":\"2681\"}},\"id\":\"2685\",\"type\":\"CDSView\"},{\"attributes\":{},\"id\":\"2842\",\"type\":\"Selection\"},{\"attributes\":{\"months\":[0,1,2,3,4,5,6,7,8,9,10,11]},\"id\":\"2701\",\"type\":\"MonthsTicker\"},{\"attributes\":{\"data_source\":{\"id\":\"2681\"},\"glyph\":{\"id\":\"2682\"},\"hover_glyph\":null,\"muted_glyph\":null,\"nonselection_glyph\":{\"id\":\"2683\"},\"selection_glyph\":null,\"view\":{\"id\":\"2685\"}},\"id\":\"2684\",\"type\":\"GlyphRenderer\"},{\"attributes\":{\"fill_color\":\"red\",\"x\":{\"field\":\"x\"},\"y1\":{\"expr\":{\"id\":\"2667\"}},\"y2\":{\"expr\":{\"id\":\"2668\"}}},\"id\":\"2672\",\"type\":\"VArea\"},{\"attributes\":{\"base\":60,\"mantissas\":[1,2,5,10,15,20,30],\"max_interval\":1800000.0,\"min_interval\":1000.0,\"num_minor_ticks\":0},\"id\":\"2695\",\"type\":\"AdaptiveTicker\"},{\"attributes\":{\"days\":[1,2,3,4,5,6,7,8,9,10,11,12,13,14,15,16,17,18,19,20,21,22,23,24,25,26,27,28,29,30,31]},\"id\":\"2697\",\"type\":\"DaysTicker\"},{\"attributes\":{\"days\":[1,15]},\"id\":\"2700\",\"type\":\"DaysTicker\"},{\"attributes\":{},\"id\":\"2657\",\"type\":\"WheelZoomTool\"},{\"attributes\":{},\"id\":\"2843\",\"type\":\"UnionRenderers\"},{\"attributes\":{\"code\":\"\\n        let date = new Date(tick);\\n        return `${date.getDate()}-${date.getMonth()}-${date.getFullYear()}`\\n    \"},\"id\":\"2708\",\"type\":\"FuncTickFormatter\"},{\"attributes\":{},\"id\":\"2705\",\"type\":\"YearsTicker\"},{\"attributes\":{\"data_source\":{\"id\":\"2666\"},\"glyph\":{\"id\":\"2672\"},\"hover_glyph\":null,\"muted_glyph\":null,\"name\":\"deaths\",\"nonselection_glyph\":{\"id\":\"2673\"},\"selection_glyph\":null,\"view\":{\"id\":\"2675\"}},\"id\":\"2674\",\"type\":\"GlyphRenderer\"},{\"attributes\":{},\"id\":\"2659\",\"type\":\"ResetTool\"},{\"attributes\":{\"active_drag\":\"auto\",\"active_inspect\":\"auto\",\"active_multi\":null,\"active_scroll\":\"auto\",\"active_tap\":\"auto\",\"tools\":[{\"id\":\"2656\"},{\"id\":\"2657\"},{\"id\":\"2658\"},{\"id\":\"2659\"}]},\"id\":\"2661\",\"type\":\"Toolbar\"},{\"attributes\":{\"fill_color\":\"lightblue\",\"x\":{\"field\":\"x\"},\"y1\":{\"expr\":{\"id\":\"2669\"}},\"y2\":{\"expr\":{\"id\":\"2670\"}}},\"id\":\"2677\",\"type\":\"VArea\"},{\"attributes\":{\"end\":45829},\"id\":\"2642\",\"type\":\"Range1d\"},{\"attributes\":{},\"id\":\"2689\",\"type\":\"BasicTickFormatter\"},{\"attributes\":{},\"id\":\"2691\",\"type\":\"Selection\"},{\"attributes\":{\"overlay\":{\"id\":\"2660\"}},\"id\":\"2658\",\"type\":\"BoxZoomTool\"},{\"attributes\":{},\"id\":\"2644\",\"type\":\"LinearScale\"},{\"attributes\":{\"source\":{\"id\":\"2666\"}},\"id\":\"2675\",\"type\":\"CDSView\"},{\"attributes\":{\"label\":{\"value\":\"Projected # of Cases\"},\"renderers\":[{\"id\":\"2684\"}]},\"id\":\"2707\",\"type\":\"LegendItem\"},{\"attributes\":{\"months\":[0,2,4,6,8,10]},\"id\":\"2702\",\"type\":\"MonthsTicker\"},{\"attributes\":{},\"id\":\"2656\",\"type\":\"PanTool\"},{\"attributes\":{\"fill_alpha\":0.1,\"fill_color\":\"lightblue\",\"x\":{\"field\":\"x\"},\"y1\":{\"expr\":{\"id\":\"2669\"}},\"y2\":{\"expr\":{\"id\":\"2670\"}}},\"id\":\"2678\",\"type\":\"VArea\"},{\"attributes\":{\"line_alpha\":0.1,\"line_color\":\"gray\",\"line_dash\":[6],\"x\":{\"field\":\"x\"},\"y\":{\"field\":\"y\"}},\"id\":\"2683\",\"type\":\"Line\"},{\"attributes\":{},\"id\":\"2692\",\"type\":\"UnionRenderers\"},{\"attributes\":{\"data_source\":{\"id\":\"2666\"},\"glyph\":{\"id\":\"2677\"},\"hover_glyph\":null,\"muted_glyph\":null,\"name\":\"cases\",\"nonselection_glyph\":{\"id\":\"2678\"},\"selection_glyph\":null,\"view\":{\"id\":\"2680\"}},\"id\":\"2679\",\"type\":\"GlyphRenderer\"},{\"attributes\":{},\"id\":\"2653\",\"type\":\"BasicTicker\"},{\"attributes\":{},\"id\":\"2646\",\"type\":\"LinearScale\"},{\"attributes\":{\"line_alpha\":0.75,\"line_color\":\"gray\",\"line_dash\":[6],\"x\":{\"field\":\"x\"},\"y\":{\"field\":\"y\"}},\"id\":\"2682\",\"type\":\"Line\"},{\"attributes\":{\"mantissas\":[1,2,5],\"max_interval\":500.0,\"num_minor_ticks\":0},\"id\":\"2694\",\"type\":\"AdaptiveTicker\"},{\"attributes\":{\"days\":[1,4,7,10,13,16,19,22,25,28]},\"id\":\"2698\",\"type\":\"DaysTicker\"}],\"root_ids\":[\"2637\"]},\"title\":\"Bokeh Application\",\"version\":\"2.0.1\"}};\n",
       "  var render_items = [{\"docid\":\"38763dc9-b05e-4327-8fe4-1237f741b6ba\",\"root_ids\":[\"2637\"],\"roots\":{\"2637\":\"87cbe3b4-4f5d-445f-a055-6a4212ef04e8\"}}];\n",
       "  root.Bokeh.embed.embed_items_notebook(docs_json, render_items);\n",
       "\n",
       "  }\n",
       "  if (root.Bokeh !== undefined) {\n",
       "    embed_document(root);\n",
       "  } else {\n",
       "    var attempts = 0;\n",
       "    var timer = setInterval(function(root) {\n",
       "      if (root.Bokeh !== undefined) {\n",
       "        clearInterval(timer);\n",
       "        embed_document(root);\n",
       "      } else {\n",
       "        attempts++;\n",
       "        if (attempts > 100) {\n",
       "          clearInterval(timer);\n",
       "          console.log(\"Bokeh: ERROR: Unable to run BokehJS code because BokehJS library is missing\");\n",
       "        }\n",
       "      }\n",
       "    }, 10, root)\n",
       "  }\n",
       "})(window);"
      ],
      "application/vnd.bokehjs_exec.v0+json": ""
     },
     "metadata": {
      "application/vnd.bokehjs_exec.v0+json": {
       "id": "2637"
      }
     },
     "output_type": "display_data"
    }
   ],
   "source": [
    "plot_state_curve(df, \"Michigan\")"
   ]
  },
  {
   "cell_type": "code",
   "execution_count": 10,
   "metadata": {},
   "outputs": [
    {
     "name": "stdout",
     "output_type": "stream",
     "text": [
      "y ≈ exp(-0.3588698981629942) * exp(0.06449036224916388 * x)\n",
      "y = 0.6984652170483711 * exp(0.06449036224916388 * x)\n"
     ]
    },
    {
     "data": {
      "text/html": [
       "\n",
       "\n",
       "\n",
       "\n",
       "\n",
       "\n",
       "  <div class=\"bk-root\" id=\"84cf8a83-ac66-434a-b745-18a5ec475042\" data-root-id=\"2983\"></div>\n"
      ]
     },
     "metadata": {},
     "output_type": "display_data"
    },
    {
     "data": {
      "application/javascript": [
       "(function(root) {\n",
       "  function embed_document(root) {\n",
       "    \n",
       "  var docs_json = {\"3bddfbc2-25dc-4c7c-aca2-d801956b0756\":{\"roots\":{\"references\":[{\"attributes\":{\"below\":[{\"id\":\"2994\"}],\"center\":[{\"id\":\"2997\"},{\"id\":\"3001\"},{\"id\":\"3052\"}],\"left\":[{\"id\":\"2998\"}],\"plot_width\":880,\"renderers\":[{\"id\":\"3020\"},{\"id\":\"3025\"},{\"id\":\"3030\"}],\"title\":{\"id\":\"2984\"},\"toolbar\":{\"id\":\"3007\"},\"x_range\":{\"id\":\"2986\"},\"x_scale\":{\"id\":\"2990\"},\"y_range\":{\"id\":\"2988\"},\"y_scale\":{\"id\":\"2992\"}},\"id\":\"2983\",\"subtype\":\"Figure\",\"type\":\"Plot\"},{\"attributes\":{\"fields\":[\"deaths\"]},\"id\":\"3015\",\"type\":\"Stack\"},{\"attributes\":{\"text\":\"Texas Cases for counties Frio\"},\"id\":\"2984\",\"type\":\"Title\"},{\"attributes\":{\"label\":{\"value\":\"Projected # of Cases\"},\"renderers\":[{\"id\":\"3030\"}]},\"id\":\"3053\",\"type\":\"LegendItem\"},{\"attributes\":{},\"id\":\"3035\",\"type\":\"BasicTickFormatter\"},{\"attributes\":{\"axis_label\":\"Date\",\"formatter\":{\"id\":\"3054\"},\"ticker\":{\"id\":\"2995\"}},\"id\":\"2994\",\"type\":\"DatetimeAxis\"},{\"attributes\":{\"data_source\":{\"id\":\"3012\"},\"glyph\":{\"id\":\"3023\"},\"hover_glyph\":null,\"muted_glyph\":null,\"name\":\"cases\",\"nonselection_glyph\":{\"id\":\"3024\"},\"selection_glyph\":null,\"view\":{\"id\":\"3026\"}},\"id\":\"3025\",\"type\":\"GlyphRenderer\"},{\"attributes\":{},\"id\":\"2992\",\"type\":\"LinearScale\"},{\"attributes\":{\"data\":{\"x\":[1586304000000.0,1586390400000.0,1586476800000.0,1586563200000.0,1586649600000.0,1586736000000.0,1586822400000.0,1586908800000.0,1586995200000.0,1587081600000.0,1587168000000.0,1587254400000.0,1587340800000.0,1587427200000.0,1587513600000.0,1587600000000.0,1587686400000.0,1587772800000.0,1587859200000.0,1587945600000.0,1588032000000.0,1588118400000.0,1588204800000.0,1588291200000.0,1588377600000.0,1588464000000.0,1588550400000.0,1588636800000.0,1588723200000.0,1588809600000.0],\"y\":[0.6984652170483711,0.7449936859198737,0.7946216626303994,0.8475556218196078,0.9040157924968968,0.9642370742928458,1.028470014747025,1.0969818516981222,1.1700576251131993,1.2480013629817859,1.3311373462086635,1.419811457767858,1.51439262173093,1.6152743381565613,1.7228763202272728,1.8376462404444909,1.9600615931469203,2.0906316811011334,2.2298997344294853,2.3784451706910428,2.5368860055184843,2.7058814238402857,2.886134522385651,3.0783952348822186,3.283463452116692,3.5021923498392367,3.7354919383572214,3.9843328485862064,4.2497503703098545,4.532848759449718]},\"selected\":{\"id\":\"3209\"},\"selection_policy\":{\"id\":\"3210\"}},\"id\":\"3027\",\"type\":\"ColumnDataSource\"},{\"attributes\":{},\"id\":\"2999\",\"type\":\"BasicTicker\"},{\"attributes\":{\"active_drag\":\"auto\",\"active_inspect\":\"auto\",\"active_multi\":null,\"active_scroll\":\"auto\",\"active_tap\":\"auto\",\"tools\":[{\"id\":\"3002\"},{\"id\":\"3003\"},{\"id\":\"3004\"},{\"id\":\"3005\"}]},\"id\":\"3007\",\"type\":\"Toolbar\"},{\"attributes\":{\"end\":3},\"id\":\"2988\",\"type\":\"Range1d\"},{\"attributes\":{},\"id\":\"3051\",\"type\":\"YearsTicker\"},{\"attributes\":{},\"id\":\"2990\",\"type\":\"LinearScale\"},{\"attributes\":{\"fields\":[\"deaths\",\"cases\"]},\"id\":\"3016\",\"type\":\"Stack\"},{\"attributes\":{\"bottom_units\":\"screen\",\"fill_alpha\":0.5,\"fill_color\":\"lightgrey\",\"left_units\":\"screen\",\"level\":\"overlay\",\"line_alpha\":1.0,\"line_color\":\"black\",\"line_dash\":[4,4],\"line_width\":2,\"render_mode\":\"css\",\"right_units\":\"screen\",\"top_units\":\"screen\"},\"id\":\"3006\",\"type\":\"BoxAnnotation\"},{\"attributes\":{\"source\":{\"id\":\"3012\"}},\"id\":\"3026\",\"type\":\"CDSView\"},{\"attributes\":{},\"id\":\"3037\",\"type\":\"Selection\"},{\"attributes\":{\"months\":[0,1,2,3,4,5,6,7,8,9,10,11]},\"id\":\"3047\",\"type\":\"MonthsTicker\"},{\"attributes\":{\"data_source\":{\"id\":\"3027\"},\"glyph\":{\"id\":\"3028\"},\"hover_glyph\":null,\"muted_glyph\":null,\"nonselection_glyph\":{\"id\":\"3029\"},\"selection_glyph\":null,\"view\":{\"id\":\"3031\"}},\"id\":\"3030\",\"type\":\"GlyphRenderer\"},{\"attributes\":{\"axis\":{\"id\":\"2994\"},\"ticker\":null},\"id\":\"2997\",\"type\":\"Grid\"},{\"attributes\":{},\"id\":\"3038\",\"type\":\"UnionRenderers\"},{\"attributes\":{\"fill_alpha\":0.1,\"fill_color\":\"lightblue\",\"x\":{\"field\":\"x\"},\"y1\":{\"expr\":{\"id\":\"3015\"}},\"y2\":{\"expr\":{\"id\":\"3016\"}}},\"id\":\"3024\",\"type\":\"VArea\"},{\"attributes\":{\"mantissas\":[1,2,5],\"max_interval\":500.0,\"num_minor_ticks\":0},\"id\":\"3040\",\"type\":\"AdaptiveTicker\"},{\"attributes\":{\"base\":24,\"mantissas\":[1,2,4,6,8,12],\"max_interval\":43200000.0,\"min_interval\":3600000.0,\"num_minor_ticks\":0},\"id\":\"3042\",\"type\":\"AdaptiveTicker\"},{\"attributes\":{\"line_alpha\":0.75,\"line_color\":\"gray\",\"line_dash\":[6],\"x\":{\"field\":\"x\"},\"y\":{\"field\":\"y\"}},\"id\":\"3028\",\"type\":\"Line\"},{\"attributes\":{\"days\":[1,4,7,10,13,16,19,22,25,28]},\"id\":\"3044\",\"type\":\"DaysTicker\"},{\"attributes\":{\"end\":1588118400000.0,\"start\":1586304000000.0},\"id\":\"2986\",\"type\":\"Range1d\"},{\"attributes\":{},\"id\":\"3209\",\"type\":\"Selection\"},{\"attributes\":{\"source\":{\"id\":\"3027\"}},\"id\":\"3031\",\"type\":\"CDSView\"},{\"attributes\":{\"base\":60,\"mantissas\":[1,2,5,10,15,20,30],\"max_interval\":1800000.0,\"min_interval\":1000.0,\"num_minor_ticks\":0},\"id\":\"3041\",\"type\":\"AdaptiveTicker\"},{\"attributes\":{\"items\":[{\"id\":\"3053\"}],\"location\":\"top_left\"},\"id\":\"3052\",\"type\":\"Legend\"},{\"attributes\":{\"data\":{\"cases\":[1,1,1,1,1,1,1,1,1,1,1,1,1,1,1,1,1,3,3,3],\"deaths\":[0,0,0,0,0,0,0,0,0,0,0,0,0,0,0,0,0,0,0,0],\"x\":{\"__ndarray__\":\"AAAAYnEVd0IAAMDHwxV3QgAAgC0WFndCAABAk2gWd0IAAAD5uhZ3QgAAwF4NF3dCAACAxF8Xd0IAAEAqshd3QgAAAJAEGHdCAADA9VYYd0IAAIBbqRh3QgAAQMH7GHdCAAAAJ04Zd0IAAMCMoBl3QgAAgPLyGXdCAABAWEUad0IAAAC+lxp3QgAAwCPqGndCAACAiTwbd0IAAEDvjht3Qg==\",\"dtype\":\"float64\",\"shape\":[20]}},\"selected\":{\"id\":\"3037\"},\"selection_policy\":{\"id\":\"3038\"}},\"id\":\"3012\",\"type\":\"ColumnDataSource\"},{\"attributes\":{},\"id\":\"3003\",\"type\":\"WheelZoomTool\"},{\"attributes\":{\"source\":{\"id\":\"3012\"}},\"id\":\"3021\",\"type\":\"CDSView\"},{\"attributes\":{\"line_alpha\":0.1,\"line_color\":\"gray\",\"line_dash\":[6],\"x\":{\"field\":\"x\"},\"y\":{\"field\":\"y\"}},\"id\":\"3029\",\"type\":\"Line\"},{\"attributes\":{\"fields\":[\"deaths\"]},\"id\":\"3014\",\"type\":\"Stack\"},{\"attributes\":{},\"id\":\"3210\",\"type\":\"UnionRenderers\"},{\"attributes\":{\"days\":[1,8,15,22]},\"id\":\"3045\",\"type\":\"DaysTicker\"},{\"attributes\":{\"days\":[1,2,3,4,5,6,7,8,9,10,11,12,13,14,15,16,17,18,19,20,21,22,23,24,25,26,27,28,29,30,31]},\"id\":\"3043\",\"type\":\"DaysTicker\"},{\"attributes\":{\"days\":[1,15]},\"id\":\"3046\",\"type\":\"DaysTicker\"},{\"attributes\":{\"num_minor_ticks\":5,\"tickers\":[{\"id\":\"3040\"},{\"id\":\"3041\"},{\"id\":\"3042\"},{\"id\":\"3043\"},{\"id\":\"3044\"},{\"id\":\"3045\"},{\"id\":\"3046\"},{\"id\":\"3047\"},{\"id\":\"3048\"},{\"id\":\"3049\"},{\"id\":\"3050\"},{\"id\":\"3051\"}]},\"id\":\"2995\",\"type\":\"DatetimeTicker\"},{\"attributes\":{\"months\":[0,4,8]},\"id\":\"3049\",\"type\":\"MonthsTicker\"},{\"attributes\":{\"fill_color\":\"lightblue\",\"x\":{\"field\":\"x\"},\"y1\":{\"expr\":{\"id\":\"3015\"}},\"y2\":{\"expr\":{\"id\":\"3016\"}}},\"id\":\"3023\",\"type\":\"VArea\"},{\"attributes\":{\"months\":[0,6]},\"id\":\"3050\",\"type\":\"MonthsTicker\"},{\"attributes\":{\"data_source\":{\"id\":\"3012\"},\"glyph\":{\"id\":\"3018\"},\"hover_glyph\":null,\"muted_glyph\":null,\"name\":\"deaths\",\"nonselection_glyph\":{\"id\":\"3019\"},\"selection_glyph\":null,\"view\":{\"id\":\"3021\"}},\"id\":\"3020\",\"type\":\"GlyphRenderer\"},{\"attributes\":{\"code\":\"\\n        let date = new Date(tick);\\n        return `${date.getDate()}-${date.getMonth()}-${date.getFullYear()}`\\n    \"},\"id\":\"3054\",\"type\":\"FuncTickFormatter\"},{\"attributes\":{\"fields\":[]},\"id\":\"3013\",\"type\":\"Stack\"},{\"attributes\":{\"months\":[0,2,4,6,8,10]},\"id\":\"3048\",\"type\":\"MonthsTicker\"},{\"attributes\":{\"axis_label\":\"# of Cases & Deaths\",\"formatter\":{\"id\":\"3035\"},\"ticker\":{\"id\":\"2999\"}},\"id\":\"2998\",\"type\":\"LinearAxis\"},{\"attributes\":{},\"id\":\"3005\",\"type\":\"ResetTool\"},{\"attributes\":{\"overlay\":{\"id\":\"3006\"}},\"id\":\"3004\",\"type\":\"BoxZoomTool\"},{\"attributes\":{\"fill_color\":\"red\",\"x\":{\"field\":\"x\"},\"y1\":{\"expr\":{\"id\":\"3013\"}},\"y2\":{\"expr\":{\"id\":\"3014\"}}},\"id\":\"3018\",\"type\":\"VArea\"},{\"attributes\":{},\"id\":\"3002\",\"type\":\"PanTool\"},{\"attributes\":{\"axis\":{\"id\":\"2998\"},\"dimension\":1,\"ticker\":null},\"id\":\"3001\",\"type\":\"Grid\"},{\"attributes\":{\"fill_alpha\":0.1,\"fill_color\":\"red\",\"x\":{\"field\":\"x\"},\"y1\":{\"expr\":{\"id\":\"3013\"}},\"y2\":{\"expr\":{\"id\":\"3014\"}}},\"id\":\"3019\",\"type\":\"VArea\"}],\"root_ids\":[\"2983\"]},\"title\":\"Bokeh Application\",\"version\":\"2.0.1\"}};\n",
       "  var render_items = [{\"docid\":\"3bddfbc2-25dc-4c7c-aca2-d801956b0756\",\"root_ids\":[\"2983\"],\"roots\":{\"2983\":\"84cf8a83-ac66-434a-b745-18a5ec475042\"}}];\n",
       "  root.Bokeh.embed.embed_items_notebook(docs_json, render_items);\n",
       "\n",
       "  }\n",
       "  if (root.Bokeh !== undefined) {\n",
       "    embed_document(root);\n",
       "  } else {\n",
       "    var attempts = 0;\n",
       "    var timer = setInterval(function(root) {\n",
       "      if (root.Bokeh !== undefined) {\n",
       "        clearInterval(timer);\n",
       "        embed_document(root);\n",
       "      } else {\n",
       "        attempts++;\n",
       "        if (attempts > 100) {\n",
       "          clearInterval(timer);\n",
       "          console.log(\"Bokeh: ERROR: Unable to run BokehJS code because BokehJS library is missing\");\n",
       "        }\n",
       "      }\n",
       "    }, 10, root)\n",
       "  }\n",
       "})(window);"
      ],
      "application/vnd.bokehjs_exec.v0+json": ""
     },
     "metadata": {
      "application/vnd.bokehjs_exec.v0+json": {
       "id": "2983"
      }
     },
     "output_type": "display_data"
    }
   ],
   "source": [
    "plot_state_counties_curve(df, \"Texas\", ['Frio'])"
   ]
  },
  {
   "cell_type": "code",
   "execution_count": 11,
   "metadata": {},
   "outputs": [
    {
     "name": "stdout",
     "output_type": "stream",
     "text": [
      "y ≈ exp(2.135266891875636) * exp(0.07534109747251562 * x)\n",
      "y = 8.459303925096007 * exp(0.07534109747251562 * x)\n"
     ]
    },
    {
     "data": {
      "text/html": [
       "\n",
       "\n",
       "\n",
       "\n",
       "\n",
       "\n",
       "  <div class=\"bk-root\" id=\"e7268d3f-e995-4f92-96b8-263eef07385a\" data-root-id=\"3350\"></div>\n"
      ]
     },
     "metadata": {},
     "output_type": "display_data"
    },
    {
     "data": {
      "application/javascript": [
       "(function(root) {\n",
       "  function embed_document(root) {\n",
       "    \n",
       "  var docs_json = {\"f29a75e7-cd45-4d08-80d8-e6c2fc7d50c0\":{\"roots\":{\"references\":[{\"attributes\":{\"below\":[{\"id\":\"3361\"}],\"center\":[{\"id\":\"3364\"},{\"id\":\"3368\"},{\"id\":\"3419\"}],\"left\":[{\"id\":\"3365\"}],\"plot_width\":880,\"renderers\":[{\"id\":\"3387\"},{\"id\":\"3392\"},{\"id\":\"3397\"}],\"title\":{\"id\":\"3351\"},\"toolbar\":{\"id\":\"3374\"},\"x_range\":{\"id\":\"3353\"},\"x_scale\":{\"id\":\"3357\"},\"y_range\":{\"id\":\"3355\"},\"y_scale\":{\"id\":\"3359\"}},\"id\":\"3350\",\"subtype\":\"Figure\",\"type\":\"Plot\"},{\"attributes\":{\"axis\":{\"id\":\"3361\"},\"ticker\":null},\"id\":\"3364\",\"type\":\"Grid\"},{\"attributes\":{\"data\":{\"x\":[1581465600000.0,1581552000000.0,1581638400000.0,1581724800000.0,1581811200000.0,1581897600000.0,1581984000000.0,1582070400000.0,1582156800000.0,1582243200000.0,1582329600000.0,1582416000000.0,1582502400000.0,1582588800000.0,1582675200000.0,1582761600000.0,1582848000000.0,1582934400000.0,1583020800000.0,1583107200000.0,1583193600000.0,1583280000000.0,1583366400000.0,1583452800000.0,1583539200000.0,1583625600000.0,1583712000000.0,1583798400000.0,1583884800000.0,1583971200000.0,1584057600000.0,1584144000000.0,1584230400000.0,1584316800000.0,1584403200000.0,1584489600000.0,1584576000000.0,1584662400000.0,1584748800000.0,1584835200000.0,1584921600000.0,1585008000000.0,1585094400000.0,1585180800000.0,1585267200000.0,1585353600000.0,1585440000000.0,1585526400000.0,1585612800000.0,1585699200000.0,1585785600000.0,1585872000000.0,1585958400000.0,1586044800000.0,1586131200000.0,1586217600000.0,1586304000000.0,1586390400000.0,1586476800000.0,1586563200000.0,1586649600000.0,1586736000000.0,1586822400000.0,1586908800000.0,1586995200000.0,1587081600000.0,1587168000000.0,1587254400000.0,1587340800000.0,1587427200000.0,1587513600000.0,1587600000000.0,1587686400000.0,1587772800000.0,1587859200000.0,1587945600000.0,1588032000000.0,1588118400000.0,1588204800000.0,1588291200000.0,1588377600000.0,1588464000000.0,1588550400000.0,1588636800000.0,1588723200000.0,1588809600000.0],\"y\":[8.459303925096007,9.121260336666607,9.835016080037954,10.60462455015888,11.434456327741806,12.32922399964417,13.294008921491265,14.334290074524553,15.455975180552546,16.665434251704987,17.969535765518273,19.375685670789235,20.891869445710167,22.526697447131905,24.28945380849183,26.190149164096585,28.23957749917882,30.44937744857763,32.832098392155785,35.40127172230749,38.1714876882823,41.15847825372175,44.37920643795364,47.85196264841043,51.5964685512401,55.63398906998733,59.987453148381796,64.68158396304118,69.74303932556278,75.20056307134223,81.0851482948515,87.430213358384,94.27179167381388,101.64873633513491,109.60294076387913,118.17957662045389,127.42735033248783,137.39877969700095,148.15049212721416,159.74354623773135,172.24377859436592,185.72217759779144,200.25528662429048,215.9256387130237,232.82222526839325,251.04100143924688,270.685431044952,291.8670741429595,314.7062205746313,339.33257308721863,365.8859839114176,394.5172489775006,425.38896428035133,458.6764492566708,494.5687424181846,533.2696748950146,574.9990279858389,619.9937812885188,668.5094584992983,720.821578523308,777.2272201371983,838.0467090895564,903.6254372200951,974.3358239283424,1050.5794311309248,1132.789243718243,1221.43212846115,1317.0114853316977,1420.070106294716,1531.1932578051824,1651.0120045168162,1780.2067930770982,1919.5113163609738,2069.7166800881146,2231.675895485779,2406.3087235109997,2594.60689814223,2797.639758403372,3016.560321104269,3252.611828784529,3507.1348100462346,3781.574692370974,4077.4900106540517,4396.56125807195,4740.600429546761,5111.561312004615]},\"selected\":{\"id\":\"3597\"},\"selection_policy\":{\"id\":\"3598\"}},\"id\":\"3394\",\"type\":\"ColumnDataSource\"},{\"attributes\":{\"data_source\":{\"id\":\"3379\"},\"glyph\":{\"id\":\"3385\"},\"hover_glyph\":null,\"muted_glyph\":null,\"name\":\"deaths\",\"nonselection_glyph\":{\"id\":\"3386\"},\"selection_glyph\":null,\"view\":{\"id\":\"3388\"}},\"id\":\"3387\",\"type\":\"GlyphRenderer\"},{\"attributes\":{\"fill_color\":\"lightblue\",\"x\":{\"field\":\"x\"},\"y1\":{\"expr\":{\"id\":\"3382\"}},\"y2\":{\"expr\":{\"id\":\"3383\"}}},\"id\":\"3390\",\"type\":\"VArea\"},{\"attributes\":{\"days\":[1,15]},\"id\":\"3413\",\"type\":\"DaysTicker\"},{\"attributes\":{\"months\":[0,1,2,3,4,5,6,7,8,9,10,11]},\"id\":\"3414\",\"type\":\"MonthsTicker\"},{\"attributes\":{},\"id\":\"3369\",\"type\":\"PanTool\"},{\"attributes\":{\"fields\":[\"deaths\"]},\"id\":\"3381\",\"type\":\"Stack\"},{\"attributes\":{},\"id\":\"3370\",\"type\":\"WheelZoomTool\"},{\"attributes\":{},\"id\":\"3366\",\"type\":\"BasicTicker\"},{\"attributes\":{\"items\":[{\"id\":\"3420\"}],\"location\":\"top_left\"},\"id\":\"3419\",\"type\":\"Legend\"},{\"attributes\":{\"end\":2080},\"id\":\"3355\",\"type\":\"Range1d\"},{\"attributes\":{\"overlay\":{\"id\":\"3373\"}},\"id\":\"3371\",\"type\":\"BoxZoomTool\"},{\"attributes\":{},\"id\":\"3598\",\"type\":\"UnionRenderers\"},{\"attributes\":{\"months\":[0,2,4,6,8,10]},\"id\":\"3415\",\"type\":\"MonthsTicker\"},{\"attributes\":{},\"id\":\"3372\",\"type\":\"ResetTool\"},{\"attributes\":{\"months\":[0,4,8]},\"id\":\"3416\",\"type\":\"MonthsTicker\"},{\"attributes\":{\"days\":[1,2,3,4,5,6,7,8,9,10,11,12,13,14,15,16,17,18,19,20,21,22,23,24,25,26,27,28,29,30,31]},\"id\":\"3410\",\"type\":\"DaysTicker\"},{\"attributes\":{\"source\":{\"id\":\"3394\"}},\"id\":\"3398\",\"type\":\"CDSView\"},{\"attributes\":{\"days\":[1,8,15,22]},\"id\":\"3412\",\"type\":\"DaysTicker\"},{\"attributes\":{\"months\":[0,6]},\"id\":\"3417\",\"type\":\"MonthsTicker\"},{\"attributes\":{\"data_source\":{\"id\":\"3394\"},\"glyph\":{\"id\":\"3395\"},\"hover_glyph\":null,\"muted_glyph\":null,\"nonselection_glyph\":{\"id\":\"3396\"},\"selection_glyph\":null,\"view\":{\"id\":\"3398\"}},\"id\":\"3397\",\"type\":\"GlyphRenderer\"},{\"attributes\":{\"fill_color\":\"red\",\"x\":{\"field\":\"x\"},\"y1\":{\"expr\":{\"id\":\"3380\"}},\"y2\":{\"expr\":{\"id\":\"3381\"}}},\"id\":\"3385\",\"type\":\"VArea\"},{\"attributes\":{\"code\":\"\\n        let date = new Date(tick);\\n        return `${date.getDate()}-${date.getMonth()}-${date.getFullYear()}`\\n    \"},\"id\":\"3421\",\"type\":\"FuncTickFormatter\"},{\"attributes\":{\"source\":{\"id\":\"3379\"}},\"id\":\"3393\",\"type\":\"CDSView\"},{\"attributes\":{},\"id\":\"3418\",\"type\":\"YearsTicker\"},{\"attributes\":{\"fields\":[\"deaths\"]},\"id\":\"3382\",\"type\":\"Stack\"},{\"attributes\":{},\"id\":\"3402\",\"type\":\"BasicTickFormatter\"},{\"attributes\":{\"fields\":[]},\"id\":\"3380\",\"type\":\"Stack\"},{\"attributes\":{\"base\":24,\"mantissas\":[1,2,4,6,8,12],\"max_interval\":43200000.0,\"min_interval\":3600000.0,\"num_minor_ticks\":0},\"id\":\"3409\",\"type\":\"AdaptiveTicker\"},{\"attributes\":{\"line_alpha\":0.75,\"line_color\":\"gray\",\"line_dash\":[6],\"x\":{\"field\":\"x\"},\"y\":{\"field\":\"y\"}},\"id\":\"3395\",\"type\":\"Line\"},{\"attributes\":{\"label\":{\"value\":\"Projected # of Cases\"},\"renderers\":[{\"id\":\"3397\"}]},\"id\":\"3420\",\"type\":\"LegendItem\"},{\"attributes\":{\"num_minor_ticks\":5,\"tickers\":[{\"id\":\"3407\"},{\"id\":\"3408\"},{\"id\":\"3409\"},{\"id\":\"3410\"},{\"id\":\"3411\"},{\"id\":\"3412\"},{\"id\":\"3413\"},{\"id\":\"3414\"},{\"id\":\"3415\"},{\"id\":\"3416\"},{\"id\":\"3417\"},{\"id\":\"3418\"}]},\"id\":\"3362\",\"type\":\"DatetimeTicker\"},{\"attributes\":{\"fill_alpha\":0.1,\"fill_color\":\"red\",\"x\":{\"field\":\"x\"},\"y1\":{\"expr\":{\"id\":\"3380\"}},\"y2\":{\"expr\":{\"id\":\"3381\"}}},\"id\":\"3386\",\"type\":\"VArea\"},{\"attributes\":{\"fill_alpha\":0.1,\"fill_color\":\"lightblue\",\"x\":{\"field\":\"x\"},\"y1\":{\"expr\":{\"id\":\"3382\"}},\"y2\":{\"expr\":{\"id\":\"3383\"}}},\"id\":\"3391\",\"type\":\"VArea\"},{\"attributes\":{\"data_source\":{\"id\":\"3379\"},\"glyph\":{\"id\":\"3390\"},\"hover_glyph\":null,\"muted_glyph\":null,\"name\":\"cases\",\"nonselection_glyph\":{\"id\":\"3391\"},\"selection_glyph\":null,\"view\":{\"id\":\"3393\"}},\"id\":\"3392\",\"type\":\"GlyphRenderer\"},{\"attributes\":{\"days\":[1,4,7,10,13,16,19,22,25,28]},\"id\":\"3411\",\"type\":\"DaysTicker\"},{\"attributes\":{},\"id\":\"3404\",\"type\":\"Selection\"},{\"attributes\":{\"axis_label\":\"# of Cases & Deaths\",\"formatter\":{\"id\":\"3402\"},\"ticker\":{\"id\":\"3366\"}},\"id\":\"3365\",\"type\":\"LinearAxis\"},{\"attributes\":{\"end\":1588118400000.0,\"start\":1581465600000.0},\"id\":\"3353\",\"type\":\"Range1d\"},{\"attributes\":{\"data\":{\"cases\":[1,2,2,2,2,2,2,2,2,4,4,4,10,10,10,10,11,11,11,11,11,11,11,11,11,11,11,11,11,11,11,12,12,13,13,15,20,43,53,53,53,77,91,119,155,175,194,217,275,318,357,467,526,571,646,710,734,861,943,998,1017,1071,1109,1216,1224,1305,1342,1364,1392,1449,1505,1574,1602,1667,1693,1734],\"deaths\":[0,0,0,0,0,0,0,0,0,0,0,0,0,0,0,0,0,0,0,0,0,0,0,0,0,0,0,0,0,0,0,0,0,0,0,0,0,0,0,1,1,1,1,4,6,6,6,7,11,11,11,12,13,13,14,20,21,27,29,29,32,34,41,46,47,47,49,51,51,53,54,59,59,61,61,62],\"x\":{\"__ndarray__\":\"AAAAIGsDd0IAAMCFvQN3QgAAgOsPBHdCAABAUWIEd0IAAAC3tAR3QgAAwBwHBXdCAACAglkFd0IAAEDoqwV3QgAAAE7+BXdCAADAs1AGd0IAAIAZowZ3QgAAQH/1BndCAAAA5UcHd0IAAMBKmgd3QgAAgLDsB3dCAABAFj8Id0IAAAB8kQh3QgAAwOHjCHdCAACARzYJd0IAAECtiAl3QgAAABPbCXdCAADAeC0Kd0IAAIDefwp3QgAAQETSCndCAAAAqiQLd0IAAMAPdwt3QgAAgHXJC3dCAABA2xsMd0IAAABBbgx3QgAAwKbADHdCAACADBMNd0IAAEByZQ13QgAAANi3DXdCAADAPQoOd0IAAICjXA53QgAAQAmvDndCAAAAbwEPd0IAAMDUUw93QgAAgDqmD3dCAABAoPgPd0IAAAAGSxB3QgAAwGudEHdCAACA0e8Qd0IAAEA3QhF3QgAAAJ2UEXdCAADAAucRd0IAAIBoORJ3QgAAQM6LEndCAAAANN4Sd0IAAMCZMBN3QgAAgP+CE3dCAABAZdUTd0IAAADLJxR3QgAAwDB6FHdCAACAlswUd0IAAED8HhV3QgAAAGJxFXdCAADAx8MVd0IAAIAtFhZ3QgAAQJNoFndCAAAA+boWd0IAAMBeDRd3QgAAgMRfF3dCAABAKrIXd0IAAACQBBh3QgAAwPVWGHdCAACAW6kYd0IAAEDB+xh3QgAAACdOGXdCAADAjKAZd0IAAIDy8hl3QgAAQFhFGndCAAAAvpcad0IAAMAj6hp3QgAAgIk8G3dCAABA744bd0I=\",\"dtype\":\"float64\",\"shape\":[76]}},\"selected\":{\"id\":\"3404\"},\"selection_policy\":{\"id\":\"3405\"}},\"id\":\"3379\",\"type\":\"ColumnDataSource\"},{\"attributes\":{\"source\":{\"id\":\"3379\"}},\"id\":\"3388\",\"type\":\"CDSView\"},{\"attributes\":{\"active_drag\":\"auto\",\"active_inspect\":\"auto\",\"active_multi\":null,\"active_scroll\":\"auto\",\"active_tap\":\"auto\",\"tools\":[{\"id\":\"3369\"},{\"id\":\"3370\"},{\"id\":\"3371\"},{\"id\":\"3372\"}]},\"id\":\"3374\",\"type\":\"Toolbar\"},{\"attributes\":{\"axis\":{\"id\":\"3365\"},\"dimension\":1,\"ticker\":null},\"id\":\"3368\",\"type\":\"Grid\"},{\"attributes\":{},\"id\":\"3359\",\"type\":\"LinearScale\"},{\"attributes\":{},\"id\":\"3405\",\"type\":\"UnionRenderers\"},{\"attributes\":{\"fields\":[\"deaths\",\"cases\"]},\"id\":\"3383\",\"type\":\"Stack\"},{\"attributes\":{\"line_alpha\":0.1,\"line_color\":\"gray\",\"line_dash\":[6],\"x\":{\"field\":\"x\"},\"y\":{\"field\":\"y\"}},\"id\":\"3396\",\"type\":\"Line\"},{\"attributes\":{},\"id\":\"3597\",\"type\":\"Selection\"},{\"attributes\":{\"mantissas\":[1,2,5],\"max_interval\":500.0,\"num_minor_ticks\":0},\"id\":\"3407\",\"type\":\"AdaptiveTicker\"},{\"attributes\":{\"base\":60,\"mantissas\":[1,2,5,10,15,20,30],\"max_interval\":1800000.0,\"min_interval\":1000.0,\"num_minor_ticks\":0},\"id\":\"3408\",\"type\":\"AdaptiveTicker\"},{\"attributes\":{\"axis_label\":\"Date\",\"formatter\":{\"id\":\"3421\"},\"ticker\":{\"id\":\"3362\"}},\"id\":\"3361\",\"type\":\"DatetimeAxis\"},{\"attributes\":{\"bottom_units\":\"screen\",\"fill_alpha\":0.5,\"fill_color\":\"lightgrey\",\"left_units\":\"screen\",\"level\":\"overlay\",\"line_alpha\":1.0,\"line_color\":\"black\",\"line_dash\":[4,4],\"line_width\":2,\"render_mode\":\"css\",\"right_units\":\"screen\",\"top_units\":\"screen\"},\"id\":\"3373\",\"type\":\"BoxAnnotation\"},{\"attributes\":{},\"id\":\"3357\",\"type\":\"LinearScale\"},{\"attributes\":{\"text\":\"Texas Cases for counties Atascosa,Bandera,Bexar,Calhoun,Comal,DeWitt,Dimmit,Edwards,Frio,Gillespie,Goliad,Gonzales,Guadalupe,Jackson,Karnes,Kendall,Kerr,Kinney,LaSalle,Lavaca,Maverick,Medina,Real,Uvalde,Val Verde,Victoria,Wilson,Zavala\"},\"id\":\"3351\",\"type\":\"Title\"}],\"root_ids\":[\"3350\"]},\"title\":\"Bokeh Application\",\"version\":\"2.0.1\"}};\n",
       "  var render_items = [{\"docid\":\"f29a75e7-cd45-4d08-80d8-e6c2fc7d50c0\",\"root_ids\":[\"3350\"],\"roots\":{\"3350\":\"e7268d3f-e995-4f92-96b8-263eef07385a\"}}];\n",
       "  root.Bokeh.embed.embed_items_notebook(docs_json, render_items);\n",
       "\n",
       "  }\n",
       "  if (root.Bokeh !== undefined) {\n",
       "    embed_document(root);\n",
       "  } else {\n",
       "    var attempts = 0;\n",
       "    var timer = setInterval(function(root) {\n",
       "      if (root.Bokeh !== undefined) {\n",
       "        clearInterval(timer);\n",
       "        embed_document(root);\n",
       "      } else {\n",
       "        attempts++;\n",
       "        if (attempts > 100) {\n",
       "          clearInterval(timer);\n",
       "          console.log(\"Bokeh: ERROR: Unable to run BokehJS code because BokehJS library is missing\");\n",
       "        }\n",
       "      }\n",
       "    }, 10, root)\n",
       "  }\n",
       "})(window);"
      ],
      "application/vnd.bokehjs_exec.v0+json": ""
     },
     "metadata": {
      "application/vnd.bokehjs_exec.v0+json": {
       "id": "3350"
      }
     },
     "output_type": "display_data"
    }
   ],
   "source": [
    "# https://duckduckgo.com/?t=ffab&q=texas+departhment+of+health+section+8&ia=web\n",
    "\n",
    "plot_state_counties_curve(\n",
    "    df,\n",
    "    \"Texas\",\n",
    "    [\n",
    "        \"Atascosa\",\n",
    "        \"Bandera\",\n",
    "        \"Bexar\",\n",
    "        \"Calhoun\",\n",
    "        \"Comal\",\n",
    "        \"DeWitt\",\n",
    "        \"Dimmit\",\n",
    "        \"Edwards\",\n",
    "        \"Frio\",\n",
    "        \"Gillespie\",\n",
    "        \"Goliad\",\n",
    "        \"Gonzales\",\n",
    "        \"Guadalupe\",\n",
    "        \"Jackson\",\n",
    "        \"Karnes\",\n",
    "        \"Kendall\",\n",
    "        \"Kerr\",\n",
    "        \"Kinney\",\n",
    "        \"LaSalle\",\n",
    "        \"Lavaca\",\n",
    "        \"Maverick\",\n",
    "        \"Medina\",\n",
    "        \"Real\",\n",
    "        \"Uvalde\",\n",
    "        \"Val Verde\",\n",
    "        \"Victoria\",\n",
    "        \"Wilson\",\n",
    "        \"Zavala\",\n",
    "    ],\n",
    ")"
   ]
  },
  {
   "cell_type": "code",
   "execution_count": null,
   "metadata": {},
   "outputs": [],
   "source": []
  }
 ],
 "metadata": {
  "kernelspec": {
   "display_name": "Python 3",
   "language": "python",
   "name": "python3"
  },
  "language_info": {
   "codemirror_mode": {
    "name": "ipython",
    "version": 3
   },
   "file_extension": ".py",
   "mimetype": "text/x-python",
   "name": "python",
   "nbconvert_exporter": "python",
   "pygments_lexer": "ipython3",
   "version": "3.7.6"
  }
 },
 "nbformat": 4,
 "nbformat_minor": 4
}
