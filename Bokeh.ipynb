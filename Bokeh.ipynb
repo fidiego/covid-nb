{
 "cells": [
  {
   "cell_type": "code",
   "execution_count": 1,
   "metadata": {},
   "outputs": [
    {
     "data": {
      "text/html": [
       "\n",
       "    <div class=\"bk-root\">\n",
       "        <a href=\"https://bokeh.org\" target=\"_blank\" class=\"bk-logo bk-logo-small bk-logo-notebook\"></a>\n",
       "        <span id=\"1001\">Loading BokehJS ...</span>\n",
       "    </div>"
      ]
     },
     "metadata": {},
     "output_type": "display_data"
    },
    {
     "data": {
      "application/javascript": [
       "\n",
       "(function(root) {\n",
       "  function now() {\n",
       "    return new Date();\n",
       "  }\n",
       "\n",
       "  var force = true;\n",
       "\n",
       "  if (typeof root._bokeh_onload_callbacks === \"undefined\" || force === true) {\n",
       "    root._bokeh_onload_callbacks = [];\n",
       "    root._bokeh_is_loading = undefined;\n",
       "  }\n",
       "\n",
       "  var JS_MIME_TYPE = 'application/javascript';\n",
       "  var HTML_MIME_TYPE = 'text/html';\n",
       "  var EXEC_MIME_TYPE = 'application/vnd.bokehjs_exec.v0+json';\n",
       "  var CLASS_NAME = 'output_bokeh rendered_html';\n",
       "\n",
       "  /**\n",
       "   * Render data to the DOM node\n",
       "   */\n",
       "  function render(props, node) {\n",
       "    var script = document.createElement(\"script\");\n",
       "    node.appendChild(script);\n",
       "  }\n",
       "\n",
       "  /**\n",
       "   * Handle when an output is cleared or removed\n",
       "   */\n",
       "  function handleClearOutput(event, handle) {\n",
       "    var cell = handle.cell;\n",
       "\n",
       "    var id = cell.output_area._bokeh_element_id;\n",
       "    var server_id = cell.output_area._bokeh_server_id;\n",
       "    // Clean up Bokeh references\n",
       "    if (id != null && id in Bokeh.index) {\n",
       "      Bokeh.index[id].model.document.clear();\n",
       "      delete Bokeh.index[id];\n",
       "    }\n",
       "\n",
       "    if (server_id !== undefined) {\n",
       "      // Clean up Bokeh references\n",
       "      var cmd = \"from bokeh.io.state import curstate; print(curstate().uuid_to_server['\" + server_id + \"'].get_sessions()[0].document.roots[0]._id)\";\n",
       "      cell.notebook.kernel.execute(cmd, {\n",
       "        iopub: {\n",
       "          output: function(msg) {\n",
       "            var id = msg.content.text.trim();\n",
       "            if (id in Bokeh.index) {\n",
       "              Bokeh.index[id].model.document.clear();\n",
       "              delete Bokeh.index[id];\n",
       "            }\n",
       "          }\n",
       "        }\n",
       "      });\n",
       "      // Destroy server and session\n",
       "      var cmd = \"import bokeh.io.notebook as ion; ion.destroy_server('\" + server_id + \"')\";\n",
       "      cell.notebook.kernel.execute(cmd);\n",
       "    }\n",
       "  }\n",
       "\n",
       "  /**\n",
       "   * Handle when a new output is added\n",
       "   */\n",
       "  function handleAddOutput(event, handle) {\n",
       "    var output_area = handle.output_area;\n",
       "    var output = handle.output;\n",
       "\n",
       "    // limit handleAddOutput to display_data with EXEC_MIME_TYPE content only\n",
       "    if ((output.output_type != \"display_data\") || (!output.data.hasOwnProperty(EXEC_MIME_TYPE))) {\n",
       "      return\n",
       "    }\n",
       "\n",
       "    var toinsert = output_area.element.find(\".\" + CLASS_NAME.split(' ')[0]);\n",
       "\n",
       "    if (output.metadata[EXEC_MIME_TYPE][\"id\"] !== undefined) {\n",
       "      toinsert[toinsert.length - 1].firstChild.textContent = output.data[JS_MIME_TYPE];\n",
       "      // store reference to embed id on output_area\n",
       "      output_area._bokeh_element_id = output.metadata[EXEC_MIME_TYPE][\"id\"];\n",
       "    }\n",
       "    if (output.metadata[EXEC_MIME_TYPE][\"server_id\"] !== undefined) {\n",
       "      var bk_div = document.createElement(\"div\");\n",
       "      bk_div.innerHTML = output.data[HTML_MIME_TYPE];\n",
       "      var script_attrs = bk_div.children[0].attributes;\n",
       "      for (var i = 0; i < script_attrs.length; i++) {\n",
       "        toinsert[toinsert.length - 1].firstChild.setAttribute(script_attrs[i].name, script_attrs[i].value);\n",
       "        toinsert[toinsert.length - 1].firstChild.textContent = bk_div.children[0].textContent\n",
       "      }\n",
       "      // store reference to server id on output_area\n",
       "      output_area._bokeh_server_id = output.metadata[EXEC_MIME_TYPE][\"server_id\"];\n",
       "    }\n",
       "  }\n",
       "\n",
       "  function register_renderer(events, OutputArea) {\n",
       "\n",
       "    function append_mime(data, metadata, element) {\n",
       "      // create a DOM node to render to\n",
       "      var toinsert = this.create_output_subarea(\n",
       "        metadata,\n",
       "        CLASS_NAME,\n",
       "        EXEC_MIME_TYPE\n",
       "      );\n",
       "      this.keyboard_manager.register_events(toinsert);\n",
       "      // Render to node\n",
       "      var props = {data: data, metadata: metadata[EXEC_MIME_TYPE]};\n",
       "      render(props, toinsert[toinsert.length - 1]);\n",
       "      element.append(toinsert);\n",
       "      return toinsert\n",
       "    }\n",
       "\n",
       "    /* Handle when an output is cleared or removed */\n",
       "    events.on('clear_output.CodeCell', handleClearOutput);\n",
       "    events.on('delete.Cell', handleClearOutput);\n",
       "\n",
       "    /* Handle when a new output is added */\n",
       "    events.on('output_added.OutputArea', handleAddOutput);\n",
       "\n",
       "    /**\n",
       "     * Register the mime type and append_mime function with output_area\n",
       "     */\n",
       "    OutputArea.prototype.register_mime_type(EXEC_MIME_TYPE, append_mime, {\n",
       "      /* Is output safe? */\n",
       "      safe: true,\n",
       "      /* Index of renderer in `output_area.display_order` */\n",
       "      index: 0\n",
       "    });\n",
       "  }\n",
       "\n",
       "  // register the mime type if in Jupyter Notebook environment and previously unregistered\n",
       "  if (root.Jupyter !== undefined) {\n",
       "    var events = require('base/js/events');\n",
       "    var OutputArea = require('notebook/js/outputarea').OutputArea;\n",
       "\n",
       "    if (OutputArea.prototype.mime_types().indexOf(EXEC_MIME_TYPE) == -1) {\n",
       "      register_renderer(events, OutputArea);\n",
       "    }\n",
       "  }\n",
       "\n",
       "  \n",
       "  if (typeof (root._bokeh_timeout) === \"undefined\" || force === true) {\n",
       "    root._bokeh_timeout = Date.now() + 5000;\n",
       "    root._bokeh_failed_load = false;\n",
       "  }\n",
       "\n",
       "  var NB_LOAD_WARNING = {'data': {'text/html':\n",
       "     \"<div style='background-color: #fdd'>\\n\"+\n",
       "     \"<p>\\n\"+\n",
       "     \"BokehJS does not appear to have successfully loaded. If loading BokehJS from CDN, this \\n\"+\n",
       "     \"may be due to a slow or bad network connection. Possible fixes:\\n\"+\n",
       "     \"</p>\\n\"+\n",
       "     \"<ul>\\n\"+\n",
       "     \"<li>re-rerun `output_notebook()` to attempt to load from CDN again, or</li>\\n\"+\n",
       "     \"<li>use INLINE resources instead, as so:</li>\\n\"+\n",
       "     \"</ul>\\n\"+\n",
       "     \"<code>\\n\"+\n",
       "     \"from bokeh.resources import INLINE\\n\"+\n",
       "     \"output_notebook(resources=INLINE)\\n\"+\n",
       "     \"</code>\\n\"+\n",
       "     \"</div>\"}};\n",
       "\n",
       "  function display_loaded() {\n",
       "    var el = document.getElementById(\"1001\");\n",
       "    if (el != null) {\n",
       "      el.textContent = \"BokehJS is loading...\";\n",
       "    }\n",
       "    if (root.Bokeh !== undefined) {\n",
       "      if (el != null) {\n",
       "        el.textContent = \"BokehJS \" + root.Bokeh.version + \" successfully loaded.\";\n",
       "      }\n",
       "    } else if (Date.now() < root._bokeh_timeout) {\n",
       "      setTimeout(display_loaded, 100)\n",
       "    }\n",
       "  }\n",
       "\n",
       "\n",
       "  function run_callbacks() {\n",
       "    try {\n",
       "      root._bokeh_onload_callbacks.forEach(function(callback) {\n",
       "        if (callback != null)\n",
       "          callback();\n",
       "      });\n",
       "    } finally {\n",
       "      delete root._bokeh_onload_callbacks\n",
       "    }\n",
       "    console.debug(\"Bokeh: all callbacks have finished\");\n",
       "  }\n",
       "\n",
       "  function load_libs(css_urls, js_urls, callback) {\n",
       "    if (css_urls == null) css_urls = [];\n",
       "    if (js_urls == null) js_urls = [];\n",
       "\n",
       "    root._bokeh_onload_callbacks.push(callback);\n",
       "    if (root._bokeh_is_loading > 0) {\n",
       "      console.debug(\"Bokeh: BokehJS is being loaded, scheduling callback at\", now());\n",
       "      return null;\n",
       "    }\n",
       "    if (js_urls == null || js_urls.length === 0) {\n",
       "      run_callbacks();\n",
       "      return null;\n",
       "    }\n",
       "    console.debug(\"Bokeh: BokehJS not loaded, scheduling load and callback at\", now());\n",
       "    root._bokeh_is_loading = css_urls.length + js_urls.length;\n",
       "\n",
       "    function on_load() {\n",
       "      root._bokeh_is_loading--;\n",
       "      if (root._bokeh_is_loading === 0) {\n",
       "        console.debug(\"Bokeh: all BokehJS libraries/stylesheets loaded\");\n",
       "        run_callbacks()\n",
       "      }\n",
       "    }\n",
       "\n",
       "    function on_error() {\n",
       "      console.error(\"failed to load \" + url);\n",
       "    }\n",
       "\n",
       "    for (var i = 0; i < css_urls.length; i++) {\n",
       "      var url = css_urls[i];\n",
       "      const element = document.createElement(\"link\");\n",
       "      element.onload = on_load;\n",
       "      element.onerror = on_error;\n",
       "      element.rel = \"stylesheet\";\n",
       "      element.type = \"text/css\";\n",
       "      element.href = url;\n",
       "      console.debug(\"Bokeh: injecting link tag for BokehJS stylesheet: \", url);\n",
       "      document.body.appendChild(element);\n",
       "    }\n",
       "\n",
       "    const hashes = {\"https://cdn.bokeh.org/bokeh/release/bokeh-2.0.2.min.js\": \"ufR9RFnRs6lniiaFvtJziE0YeidtAgBRH6ux2oUItHw5WTvE1zuk9uzhUU/FJXDp\", \"https://cdn.bokeh.org/bokeh/release/bokeh-widgets-2.0.2.min.js\": \"8QM/PGWBT+IssZuRcDcjzwIh1mkOmJSoNMmyYDZbCfXJg3Ap1lEvdVgFuSAwhb/J\", \"https://cdn.bokeh.org/bokeh/release/bokeh-tables-2.0.2.min.js\": \"Jm8cH3Rg0P6UeZhVY5cLy1WzKajUT9KImCY+76hEqrcJt59/d8GPvFHjCkYgnSIn\", \"https://cdn.bokeh.org/bokeh/release/bokeh-gl-2.0.2.min.js\": \"Ozhzj+SI7ywm74aOI/UajcWz+C0NjsPunEVyVIrxzYkB+jA+2tUw8x5xJCbVtK5I\"};\n",
       "\n",
       "    for (var i = 0; i < js_urls.length; i++) {\n",
       "      var url = js_urls[i];\n",
       "      var element = document.createElement('script');\n",
       "      element.onload = on_load;\n",
       "      element.onerror = on_error;\n",
       "      element.async = false;\n",
       "      element.src = url;\n",
       "      if (url in hashes) {\n",
       "        element.crossOrigin = \"anonymous\";\n",
       "        element.integrity = \"sha384-\" + hashes[url];\n",
       "      }\n",
       "      console.debug(\"Bokeh: injecting script tag for BokehJS library: \", url);\n",
       "      document.head.appendChild(element);\n",
       "    }\n",
       "  };\n",
       "\n",
       "  function inject_raw_css(css) {\n",
       "    const element = document.createElement(\"style\");\n",
       "    element.appendChild(document.createTextNode(css));\n",
       "    document.body.appendChild(element);\n",
       "  }\n",
       "\n",
       "  \n",
       "  var js_urls = [\"https://cdn.bokeh.org/bokeh/release/bokeh-2.0.2.min.js\", \"https://cdn.bokeh.org/bokeh/release/bokeh-widgets-2.0.2.min.js\", \"https://cdn.bokeh.org/bokeh/release/bokeh-tables-2.0.2.min.js\", \"https://cdn.bokeh.org/bokeh/release/bokeh-gl-2.0.2.min.js\"];\n",
       "  var css_urls = [];\n",
       "  \n",
       "\n",
       "  var inline_js = [\n",
       "    function(Bokeh) {\n",
       "      Bokeh.set_log_level(\"info\");\n",
       "    },\n",
       "    function(Bokeh) {\n",
       "    \n",
       "    \n",
       "    }\n",
       "  ];\n",
       "\n",
       "  function run_inline_js() {\n",
       "    \n",
       "    if (root.Bokeh !== undefined || force === true) {\n",
       "      \n",
       "    for (var i = 0; i < inline_js.length; i++) {\n",
       "      inline_js[i].call(root, root.Bokeh);\n",
       "    }\n",
       "    if (force === true) {\n",
       "        display_loaded();\n",
       "      }} else if (Date.now() < root._bokeh_timeout) {\n",
       "      setTimeout(run_inline_js, 100);\n",
       "    } else if (!root._bokeh_failed_load) {\n",
       "      console.log(\"Bokeh: BokehJS failed to load within specified timeout.\");\n",
       "      root._bokeh_failed_load = true;\n",
       "    } else if (force !== true) {\n",
       "      var cell = $(document.getElementById(\"1001\")).parents('.cell').data().cell;\n",
       "      cell.output_area.append_execute_result(NB_LOAD_WARNING)\n",
       "    }\n",
       "\n",
       "  }\n",
       "\n",
       "  if (root._bokeh_is_loading === 0) {\n",
       "    console.debug(\"Bokeh: BokehJS loaded, going straight to plotting\");\n",
       "    run_inline_js();\n",
       "  } else {\n",
       "    load_libs(css_urls, js_urls, function() {\n",
       "      console.debug(\"Bokeh: BokehJS plotting callback run at\", now());\n",
       "      run_inline_js();\n",
       "    });\n",
       "  }\n",
       "}(window));"
      ],
      "application/vnd.bokehjs_load.v0+json": "\n(function(root) {\n  function now() {\n    return new Date();\n  }\n\n  var force = true;\n\n  if (typeof root._bokeh_onload_callbacks === \"undefined\" || force === true) {\n    root._bokeh_onload_callbacks = [];\n    root._bokeh_is_loading = undefined;\n  }\n\n  \n\n  \n  if (typeof (root._bokeh_timeout) === \"undefined\" || force === true) {\n    root._bokeh_timeout = Date.now() + 5000;\n    root._bokeh_failed_load = false;\n  }\n\n  var NB_LOAD_WARNING = {'data': {'text/html':\n     \"<div style='background-color: #fdd'>\\n\"+\n     \"<p>\\n\"+\n     \"BokehJS does not appear to have successfully loaded. If loading BokehJS from CDN, this \\n\"+\n     \"may be due to a slow or bad network connection. Possible fixes:\\n\"+\n     \"</p>\\n\"+\n     \"<ul>\\n\"+\n     \"<li>re-rerun `output_notebook()` to attempt to load from CDN again, or</li>\\n\"+\n     \"<li>use INLINE resources instead, as so:</li>\\n\"+\n     \"</ul>\\n\"+\n     \"<code>\\n\"+\n     \"from bokeh.resources import INLINE\\n\"+\n     \"output_notebook(resources=INLINE)\\n\"+\n     \"</code>\\n\"+\n     \"</div>\"}};\n\n  function display_loaded() {\n    var el = document.getElementById(\"1001\");\n    if (el != null) {\n      el.textContent = \"BokehJS is loading...\";\n    }\n    if (root.Bokeh !== undefined) {\n      if (el != null) {\n        el.textContent = \"BokehJS \" + root.Bokeh.version + \" successfully loaded.\";\n      }\n    } else if (Date.now() < root._bokeh_timeout) {\n      setTimeout(display_loaded, 100)\n    }\n  }\n\n\n  function run_callbacks() {\n    try {\n      root._bokeh_onload_callbacks.forEach(function(callback) {\n        if (callback != null)\n          callback();\n      });\n    } finally {\n      delete root._bokeh_onload_callbacks\n    }\n    console.debug(\"Bokeh: all callbacks have finished\");\n  }\n\n  function load_libs(css_urls, js_urls, callback) {\n    if (css_urls == null) css_urls = [];\n    if (js_urls == null) js_urls = [];\n\n    root._bokeh_onload_callbacks.push(callback);\n    if (root._bokeh_is_loading > 0) {\n      console.debug(\"Bokeh: BokehJS is being loaded, scheduling callback at\", now());\n      return null;\n    }\n    if (js_urls == null || js_urls.length === 0) {\n      run_callbacks();\n      return null;\n    }\n    console.debug(\"Bokeh: BokehJS not loaded, scheduling load and callback at\", now());\n    root._bokeh_is_loading = css_urls.length + js_urls.length;\n\n    function on_load() {\n      root._bokeh_is_loading--;\n      if (root._bokeh_is_loading === 0) {\n        console.debug(\"Bokeh: all BokehJS libraries/stylesheets loaded\");\n        run_callbacks()\n      }\n    }\n\n    function on_error() {\n      console.error(\"failed to load \" + url);\n    }\n\n    for (var i = 0; i < css_urls.length; i++) {\n      var url = css_urls[i];\n      const element = document.createElement(\"link\");\n      element.onload = on_load;\n      element.onerror = on_error;\n      element.rel = \"stylesheet\";\n      element.type = \"text/css\";\n      element.href = url;\n      console.debug(\"Bokeh: injecting link tag for BokehJS stylesheet: \", url);\n      document.body.appendChild(element);\n    }\n\n    const hashes = {\"https://cdn.bokeh.org/bokeh/release/bokeh-2.0.2.min.js\": \"ufR9RFnRs6lniiaFvtJziE0YeidtAgBRH6ux2oUItHw5WTvE1zuk9uzhUU/FJXDp\", \"https://cdn.bokeh.org/bokeh/release/bokeh-widgets-2.0.2.min.js\": \"8QM/PGWBT+IssZuRcDcjzwIh1mkOmJSoNMmyYDZbCfXJg3Ap1lEvdVgFuSAwhb/J\", \"https://cdn.bokeh.org/bokeh/release/bokeh-tables-2.0.2.min.js\": \"Jm8cH3Rg0P6UeZhVY5cLy1WzKajUT9KImCY+76hEqrcJt59/d8GPvFHjCkYgnSIn\", \"https://cdn.bokeh.org/bokeh/release/bokeh-gl-2.0.2.min.js\": \"Ozhzj+SI7ywm74aOI/UajcWz+C0NjsPunEVyVIrxzYkB+jA+2tUw8x5xJCbVtK5I\"};\n\n    for (var i = 0; i < js_urls.length; i++) {\n      var url = js_urls[i];\n      var element = document.createElement('script');\n      element.onload = on_load;\n      element.onerror = on_error;\n      element.async = false;\n      element.src = url;\n      if (url in hashes) {\n        element.crossOrigin = \"anonymous\";\n        element.integrity = \"sha384-\" + hashes[url];\n      }\n      console.debug(\"Bokeh: injecting script tag for BokehJS library: \", url);\n      document.head.appendChild(element);\n    }\n  };\n\n  function inject_raw_css(css) {\n    const element = document.createElement(\"style\");\n    element.appendChild(document.createTextNode(css));\n    document.body.appendChild(element);\n  }\n\n  \n  var js_urls = [\"https://cdn.bokeh.org/bokeh/release/bokeh-2.0.2.min.js\", \"https://cdn.bokeh.org/bokeh/release/bokeh-widgets-2.0.2.min.js\", \"https://cdn.bokeh.org/bokeh/release/bokeh-tables-2.0.2.min.js\", \"https://cdn.bokeh.org/bokeh/release/bokeh-gl-2.0.2.min.js\"];\n  var css_urls = [];\n  \n\n  var inline_js = [\n    function(Bokeh) {\n      Bokeh.set_log_level(\"info\");\n    },\n    function(Bokeh) {\n    \n    \n    }\n  ];\n\n  function run_inline_js() {\n    \n    if (root.Bokeh !== undefined || force === true) {\n      \n    for (var i = 0; i < inline_js.length; i++) {\n      inline_js[i].call(root, root.Bokeh);\n    }\n    if (force === true) {\n        display_loaded();\n      }} else if (Date.now() < root._bokeh_timeout) {\n      setTimeout(run_inline_js, 100);\n    } else if (!root._bokeh_failed_load) {\n      console.log(\"Bokeh: BokehJS failed to load within specified timeout.\");\n      root._bokeh_failed_load = true;\n    } else if (force !== true) {\n      var cell = $(document.getElementById(\"1001\")).parents('.cell').data().cell;\n      cell.output_area.append_execute_result(NB_LOAD_WARNING)\n    }\n\n  }\n\n  if (root._bokeh_is_loading === 0) {\n    console.debug(\"Bokeh: BokehJS loaded, going straight to plotting\");\n    run_inline_js();\n  } else {\n    load_libs(css_urls, js_urls, function() {\n      console.debug(\"Bokeh: BokehJS plotting callback run at\", now());\n      run_inline_js();\n    });\n  }\n}(window));"
     },
     "metadata": {},
     "output_type": "display_data"
    },
    {
     "data": {
      "text/html": [
       "<div>\n",
       "<style scoped>\n",
       "    .dataframe tbody tr th:only-of-type {\n",
       "        vertical-align: middle;\n",
       "    }\n",
       "\n",
       "    .dataframe tbody tr th {\n",
       "        vertical-align: top;\n",
       "    }\n",
       "\n",
       "    .dataframe thead th {\n",
       "        text-align: right;\n",
       "    }\n",
       "</style>\n",
       "<table border=\"1\" class=\"dataframe\">\n",
       "  <thead>\n",
       "    <tr style=\"text-align: right;\">\n",
       "      <th></th>\n",
       "      <th>date</th>\n",
       "      <th>county</th>\n",
       "      <th>state</th>\n",
       "      <th>fips</th>\n",
       "      <th>cases</th>\n",
       "      <th>deaths</th>\n",
       "    </tr>\n",
       "  </thead>\n",
       "  <tbody>\n",
       "    <tr>\n",
       "      <th>0</th>\n",
       "      <td>2020-01-21</td>\n",
       "      <td>Snohomish</td>\n",
       "      <td>Washington</td>\n",
       "      <td>53061.0</td>\n",
       "      <td>1</td>\n",
       "      <td>0</td>\n",
       "    </tr>\n",
       "    <tr>\n",
       "      <th>1</th>\n",
       "      <td>2020-01-22</td>\n",
       "      <td>Snohomish</td>\n",
       "      <td>Washington</td>\n",
       "      <td>53061.0</td>\n",
       "      <td>1</td>\n",
       "      <td>0</td>\n",
       "    </tr>\n",
       "    <tr>\n",
       "      <th>2</th>\n",
       "      <td>2020-01-23</td>\n",
       "      <td>Snohomish</td>\n",
       "      <td>Washington</td>\n",
       "      <td>53061.0</td>\n",
       "      <td>1</td>\n",
       "      <td>0</td>\n",
       "    </tr>\n",
       "    <tr>\n",
       "      <th>3</th>\n",
       "      <td>2020-01-24</td>\n",
       "      <td>Cook</td>\n",
       "      <td>Illinois</td>\n",
       "      <td>17031.0</td>\n",
       "      <td>1</td>\n",
       "      <td>0</td>\n",
       "    </tr>\n",
       "    <tr>\n",
       "      <th>4</th>\n",
       "      <td>2020-01-24</td>\n",
       "      <td>Snohomish</td>\n",
       "      <td>Washington</td>\n",
       "      <td>53061.0</td>\n",
       "      <td>1</td>\n",
       "      <td>0</td>\n",
       "    </tr>\n",
       "  </tbody>\n",
       "</table>\n",
       "</div>"
      ],
      "text/plain": [
       "        date     county       state     fips  cases  deaths\n",
       "0 2020-01-21  Snohomish  Washington  53061.0      1       0\n",
       "1 2020-01-22  Snohomish  Washington  53061.0      1       0\n",
       "2 2020-01-23  Snohomish  Washington  53061.0      1       0\n",
       "3 2020-01-24       Cook    Illinois  17031.0      1       0\n",
       "4 2020-01-24  Snohomish  Washington  53061.0      1       0"
      ]
     },
     "execution_count": 1,
     "metadata": {},
     "output_type": "execute_result"
    }
   ],
   "source": [
    "from datetime import datetime, timedelta\n",
    "import math\n",
    "\n",
    "from bokeh.io import output_notebook\n",
    "from bokeh.models import FuncTickFormatter, ColumnDataSource\n",
    "from bokeh.plotting import figure, output_file, show\n",
    "import pandas as pd\n",
    "import numpy as np\n",
    "\n",
    "# bokeh: configure for notebook\n",
    "# https://docs.bokeh.org/en/latest/docs/user_guide/jupyter.html#userguide-jupyter-notebook\n",
    "output_notebook()\n",
    "\n",
    "# load data\n",
    "df = pd.read_csv(\n",
    "    \"https://raw.githubusercontent.com/nytimes/covid-19-data/master/us-counties.csv\"\n",
    ")\n",
    "df.date = df.date.apply(pd.to_datetime)\n",
    "df.head()"
   ]
  },
  {
   "cell_type": "code",
   "execution_count": 2,
   "metadata": {},
   "outputs": [],
   "source": [
    "def get_r_squared(x, y, coeffs):\n",
    "    # source: https://stackoverflow.com/questions/893657/\n",
    "    p = np.poly1d(coeffs, r=True)\n",
    "    # fit values, and mean\n",
    "    yhat = p(x)  # or [p(z) for z in x]\n",
    "    ybar = np.sum(y) / len(y)  # or sum(y)/len(y)\n",
    "    ssreg = np.sum(\n",
    "        (yhat - ybar) ** 2\n",
    "    )  # or sum([ (yihat - ybar)**2 for yihat in yhat])\n",
    "    sstot = np.sum((y - ybar) ** 2)  # or sum([ (yi - ybar)**2 for yi in y])\n",
    "    return 1 - (ssreg / sstot)\n",
    "\n",
    "def unbiased_polyfit(df, steps=10):\n",
    "    # source: https://stackoverflow.com/questions/3433486\n",
    "    # generate x y values for calculation\n",
    "    x, y = list(range(len(df.index))), df[(\"cases\", \"sum\")]\n",
    "    b, a_ = np.polyfit(x, np.log(y), 1, w=np.sqrt(y))\n",
    "    a = math.exp(a_)\n",
    "    r_squared = get_r_squared(x, y, [b, a_])\n",
    "    print(f\"y ≈ exp({a_}) * exp({b} * x)\")\n",
    "    print(f\"y = {a} * exp({b} * x)\")\n",
    "    # print(f'r^2 = {r_squared}')\n",
    "    fnc = lambda x: a * math.exp(b * x)\n",
    "    x_range = [i for i in range(len(df.index) + steps)]\n",
    "    line = [fnc(x_val) for x_val in x_range]\n",
    "    return line\n",
    "\n",
    "\n",
    "def make_figure(df, title):\n",
    "    # make the figure\n",
    "    p = figure(\n",
    "        title=title,\n",
    "        x_axis_label=\"Date\",\n",
    "        y_axis_label=\"# of Cases & Deaths\",\n",
    "        y_range=[0, int(df[(\"cases\", \"sum\")].max() * 1.20)],\n",
    "        x_range=[df.index[0], pd.Timestamp(df.index.max() + timedelta(days=2))],\n",
    "        plot_width=880,\n",
    "        tools=\"pan,wheel_zoom,box_zoom,reset\",\n",
    "    )\n",
    "    # add actual values as an area graph\n",
    "    source = ColumnDataSource(\n",
    "        data=dict(x=df.index, cases=df[(\"cases\", \"sum\")], deaths=df[(\"deaths\", \"sum\")],)\n",
    "    )\n",
    "    p.varea_stack([\"deaths\", \"cases\"], x=\"x\", color=(\"red\", \"lightblue\"), source=source)\n",
    "    # add unbiased polyfit\n",
    "    steps = 10\n",
    "    extended_x = list(df.index) + [\n",
    "        pd.Timestamp(df.index.max() + timedelta(days=i)) for i in range(1, steps + 1)\n",
    "    ]\n",
    "    p.line(\n",
    "        extended_x,\n",
    "        unbiased_polyfit(df, steps=steps),\n",
    "        legend_label=f\"Projected # of Cases\",\n",
    "        line_width=1,\n",
    "        line_color=\"gray\",\n",
    "        line_dash=\"dashed\",\n",
    "        line_alpha=0.75,\n",
    "    )\n",
    "    # format axis\n",
    "    label_dict = {str(d): d.strftime(\"%d-%m-%Y\") for d in df.index}\n",
    "    p.xaxis.formatter = FuncTickFormatter(\n",
    "        code=\"\"\"\n",
    "        let date = new Date(tick);\n",
    "        return `${date.getDate()}-${date.getMonth()}-${date.getFullYear()}`\n",
    "    \"\"\"\n",
    "    )\n",
    "    p.legend.location = \"top_left\"\n",
    "    show(p)\n",
    "\n",
    "\n",
    "def plot_state_curve(df, state: str):\n",
    "    # get the state data\n",
    "    state_df = df[df[\"state\"] == state]\n",
    "    # arrange by day\n",
    "    day_df = (\n",
    "        state_df.drop(columns=[\"fips\", \"state\", \"county\"])\n",
    "        .groupby(by=\"date\")\n",
    "        .agg([\"sum\"])\n",
    "    )\n",
    "    day_df.columns = {(\"cases\", \"sum\"): \"cases_sum\", (\"deaths\", \"sum\"): \"deaths_sum\"}\n",
    "    make_figure(day_df, f\"{state} Cases\")\n",
    "\n",
    "\n",
    "def plot_state_counties_curve(df, state: str, counties: list, title=None):\n",
    "    # get the state and county data\n",
    "    counties_df = df[(df.state == state) & (df.county.isin(counties))]\n",
    "    # arrange by day\n",
    "    day_df = (\n",
    "        counties_df.drop(columns=[\"fips\", \"state\", \"county\"])\n",
    "        .groupby(by=\"date\")\n",
    "        .agg([\"sum\"])\n",
    "    )\n",
    "    day_df.columns = {(\"cases\", \"sum\"): \"cases_sum\", (\"deaths\", \"sum\"): \"deaths_sum\"}\n",
    "    make_figure(day_df, title or f'{state} Cases for counties {\",\".join(counties)}')\n",
    "\n",
    "\n",
    "def plot_states_and_counties_curve(df, state_county_map: dict, name):\n",
    "    \"\"\"for metropolitan area. i.e. chicagoland\"\"\"\n",
    "    states = state_county_map.keys()\n",
    "    # trim dataset to relevant states, counties\n",
    "    state_counties_df = df[\n",
    "        df.apply(\n",
    "            lambda x: x[\"state\"] in states\n",
    "            and x[\"county\"] in state_county_map[x[\"state\"]],\n",
    "            axis=1,\n",
    "        )\n",
    "    ]\n",
    "    # arrange by day\n",
    "    day_df = (\n",
    "        state_counties_df.drop(columns=[\"fips\", \"state\", \"county\"])\n",
    "        .groupby(by=\"date\")\n",
    "        .agg([\"sum\"])\n",
    "    )\n",
    "    day_df.columns = {(\"cases\", \"sum\"): \"cases_sum\", (\"deaths\", \"sum\"): \"deaths_sum\"}\n",
    "    make_figure(day_df, name)"
   ]
  },
  {
   "cell_type": "code",
   "execution_count": 3,
   "metadata": {},
   "outputs": [
    {
     "name": "stdout",
     "output_type": "stream",
     "text": [
      "y ≈ exp(6.378045218784149) * exp(0.06451472101049828 * x)\n",
      "y = 588.7756544296828 * exp(0.06451472101049828 * x)\n"
     ]
    },
    {
     "data": {
      "text/html": [
       "\n",
       "\n",
       "\n",
       "\n",
       "\n",
       "\n",
       "  <div class=\"bk-root\" id=\"582730e2-9250-4001-9462-9ab598dc2f51\" data-root-id=\"1002\"></div>\n"
      ]
     },
     "metadata": {},
     "output_type": "display_data"
    },
    {
     "data": {
      "application/javascript": [
       "(function(root) {\n",
       "  function embed_document(root) {\n",
       "    \n",
       "  var docs_json = {\"78df56cd-c42a-4cb4-90a4-b5b9a9803fed\":{\"roots\":{\"references\":[{\"attributes\":{\"below\":[{\"id\":\"1013\"}],\"center\":[{\"id\":\"1016\"},{\"id\":\"1020\"},{\"id\":\"1071\"}],\"left\":[{\"id\":\"1017\"}],\"plot_width\":880,\"renderers\":[{\"id\":\"1039\"},{\"id\":\"1044\"},{\"id\":\"1049\"}],\"title\":{\"id\":\"1003\"},\"toolbar\":{\"id\":\"1026\"},\"x_range\":{\"id\":\"1005\"},\"x_scale\":{\"id\":\"1009\"},\"y_range\":{\"id\":\"1007\"},\"y_scale\":{\"id\":\"1011\"}},\"id\":\"1002\",\"subtype\":\"Figure\",\"type\":\"Plot\"},{\"attributes\":{},\"id\":\"1022\",\"type\":\"WheelZoomTool\"},{\"attributes\":{},\"id\":\"1024\",\"type\":\"ResetTool\"},{\"attributes\":{\"days\":[1,4,7,10,13,16,19,22,25,28]},\"id\":\"1061\",\"type\":\"DaysTicker\"},{\"attributes\":{\"fields\":[\"deaths\"]},\"id\":\"1033\",\"type\":\"Stack\"},{\"attributes\":{\"line_alpha\":0.1,\"line_color\":\"gray\",\"line_dash\":[6],\"x\":{\"field\":\"x\"},\"y\":{\"field\":\"y\"}},\"id\":\"1048\",\"type\":\"Line\"},{\"attributes\":{\"bottom_units\":\"screen\",\"fill_alpha\":0.5,\"fill_color\":\"lightgrey\",\"left_units\":\"screen\",\"level\":\"overlay\",\"line_alpha\":1.0,\"line_color\":\"black\",\"line_dash\":[4,4],\"line_width\":2,\"render_mode\":\"css\",\"right_units\":\"screen\",\"top_units\":\"screen\"},\"id\":\"1025\",\"type\":\"BoxAnnotation\"},{\"attributes\":{},\"id\":\"1021\",\"type\":\"PanTool\"},{\"attributes\":{\"days\":[1,8,15,22]},\"id\":\"1062\",\"type\":\"DaysTicker\"},{\"attributes\":{\"num_minor_ticks\":5,\"tickers\":[{\"id\":\"1057\"},{\"id\":\"1058\"},{\"id\":\"1059\"},{\"id\":\"1060\"},{\"id\":\"1061\"},{\"id\":\"1062\"},{\"id\":\"1063\"},{\"id\":\"1064\"},{\"id\":\"1065\"},{\"id\":\"1066\"},{\"id\":\"1067\"},{\"id\":\"1068\"}]},\"id\":\"1014\",\"type\":\"DatetimeTicker\"},{\"attributes\":{\"days\":[1,15]},\"id\":\"1063\",\"type\":\"DaysTicker\"},{\"attributes\":{\"data\":{\"x\":[1583452800000.0,1583539200000.0,1583625600000.0,1583712000000.0,1583798400000.0,1583884800000.0,1583971200000.0,1584057600000.0,1584144000000.0,1584230400000.0,1584316800000.0,1584403200000.0,1584489600000.0,1584576000000.0,1584662400000.0,1584748800000.0,1584835200000.0,1584921600000.0,1585008000000.0,1585094400000.0,1585180800000.0,1585267200000.0,1585353600000.0,1585440000000.0,1585526400000.0,1585612800000.0,1585699200000.0,1585785600000.0,1585872000000.0,1585958400000.0,1586044800000.0,1586131200000.0,1586217600000.0,1586304000000.0,1586390400000.0,1586476800000.0,1586563200000.0,1586649600000.0,1586736000000.0,1586822400000.0,1586908800000.0,1586995200000.0,1587081600000.0,1587168000000.0,1587254400000.0,1587340800000.0,1587427200000.0,1587513600000.0,1587600000000.0,1587686400000.0,1587772800000.0,1587859200000.0,1587945600000.0,1588032000000.0,1588118400000.0,1588204800000.0,1588291200000.0,1588377600000.0,1588464000000.0,1588550400000.0,1588636800000.0,1588723200000.0,1588809600000.0,1588896000000.0,1588982400000.0,1589068800000.0,1589155200000.0],\"y\":[588.7756544296828,628.0124177717797,669.8639692525862,714.5045617010302,762.1200603776322,812.9087168418117,867.0819943907039,924.8654485062725,986.4996659765482,1052.2412666011069,1122.363971651485,1197.1597435351619,1276.9400014082132,1362.0369177979424,1452.80480163411,1549.621573447129,1652.890338875361,1763.0410670329509,1880.5323807262403,2005.853465972502,2139.526108771436,2282.1068676097384,2434.189390744144,2596.4068879111874,2769.4347667548573,2953.993444949173,3150.851349724206,3360.828117284353,3584.798005439945,3823.693533660985,4078.5093657087423,4350.306451010868,4640.216442023067,4949.446405969395,5279.283850578964,5631.102084744178,6006.365936420103,6406.637851571945,6833.584399564226,7288.983212077401,7774.730384442787,8292.84837021189,8845.494401829963,9434.969472474031,10063.72791645209,10734.387628052382,11449.740961389854,12212.766356632348,13026.640741013398,13894.752756264363,14820.716867539626,15808.388412578566,16861.87965376298,17985.576899904172,19184.15876904786,20462.6156683357,21826.270572029858,23280.8011842116,24832.26357843056,26487.117412730564,28252.252825036856,30135.01912088656,32143.25537294613,34285.32305971985,36570.140879343584,39007.22188341441,41606.713085466115]},\"selected\":{\"id\":\"1094\"},\"selection_policy\":{\"id\":\"1095\"}},\"id\":\"1046\",\"type\":\"ColumnDataSource\"},{\"attributes\":{\"months\":[0,1,2,3,4,5,6,7,8,9,10,11]},\"id\":\"1064\",\"type\":\"MonthsTicker\"},{\"attributes\":{\"code\":\"\\n        let date = new Date(tick);\\n        return `${date.getDate()}-${date.getMonth()}-${date.getFullYear()}`\\n    \"},\"id\":\"1073\",\"type\":\"FuncTickFormatter\"},{\"attributes\":{},\"id\":\"1011\",\"type\":\"LinearScale\"},{\"attributes\":{},\"id\":\"1053\",\"type\":\"BasicTickFormatter\"},{\"attributes\":{\"months\":[0,2,4,6,8,10]},\"id\":\"1065\",\"type\":\"MonthsTicker\"},{\"attributes\":{\"label\":{\"value\":\"Projected # of Cases\"},\"renderers\":[{\"id\":\"1049\"}]},\"id\":\"1072\",\"type\":\"LegendItem\"},{\"attributes\":{\"data_source\":{\"id\":\"1031\"},\"glyph\":{\"id\":\"1037\"},\"hover_glyph\":null,\"muted_glyph\":null,\"name\":\"deaths\",\"nonselection_glyph\":{\"id\":\"1038\"},\"selection_glyph\":null,\"view\":{\"id\":\"1040\"}},\"id\":\"1039\",\"type\":\"GlyphRenderer\"},{\"attributes\":{\"data_source\":{\"id\":\"1031\"},\"glyph\":{\"id\":\"1042\"},\"hover_glyph\":null,\"muted_glyph\":null,\"name\":\"cases\",\"nonselection_glyph\":{\"id\":\"1043\"},\"selection_glyph\":null,\"view\":{\"id\":\"1045\"}},\"id\":\"1044\",\"type\":\"GlyphRenderer\"},{\"attributes\":{\"data\":{\"cases\":[1,1,2,4,6,11,12,12,15,19,24,30,39,56,79,126,201,259,366,479,656,986,1232,1514,1788,2168,2566,3038,3435,3951,4409,4956,5509,5943,6351,6907,7435,7928,8236,8527,8955,9542,10154,10641,11210,11686,12097,12438,13039,13680,14395,15012,15961,16579,17168,17822,18630],\"deaths\":[0,0,0,0,0,0,0,0,0,0,1,2,2,2,3,4,6,7,12,14,18,26,31,32,35,50,66,78,102,116,127,141,173,203,246,300,330,343,350,387,436,477,519,545,562,569,630,661,706,741,785,813,844,901,964,1007,1062],\"x\":{\"__ndarray__\":\"AABARNIKd0IAAACqJAt3QgAAwA93C3dCAACAdckLd0IAAEDbGwx3QgAAAEFuDHdCAADApsAMd0IAAIAMEw13QgAAQHJlDXdCAAAA2LcNd0IAAMA9Cg53QgAAgKNcDndCAABACa8Od0IAAABvAQ93QgAAwNRTD3dCAACAOqYPd0IAAECg+A93QgAAAAZLEHdCAADAa50Qd0IAAIDR7xB3QgAAQDdCEXdCAAAAnZQRd0IAAMAC5xF3QgAAgGg5EndCAABAzosSd0IAAAA03hJ3QgAAwJkwE3dCAACA/4ITd0IAAEBl1RN3QgAAAMsnFHdCAADAMHoUd0IAAICWzBR3QgAAQPweFXdCAAAAYnEVd0IAAMDHwxV3QgAAgC0WFndCAABAk2gWd0IAAAD5uhZ3QgAAwF4NF3dCAACAxF8Xd0IAAEAqshd3QgAAAJAEGHdCAADA9VYYd0IAAIBbqRh3QgAAQMH7GHdCAAAAJ04Zd0IAAMCMoBl3QgAAgPLyGXdCAABAWEUad0IAAAC+lxp3QgAAwCPqGndCAACAiTwbd0IAAEDvjht3QgAAAFXhG3dCAADAujMcd0IAAIAghhx3QgAAQIbYHHdC\",\"dtype\":\"float64\",\"shape\":[57]}},\"selected\":{\"id\":\"1069\"},\"selection_policy\":{\"id\":\"1070\"}},\"id\":\"1031\",\"type\":\"ColumnDataSource\"},{\"attributes\":{\"source\":{\"id\":\"1031\"}},\"id\":\"1045\",\"type\":\"CDSView\"},{\"attributes\":{\"fill_alpha\":0.1,\"fill_color\":\"red\",\"x\":{\"field\":\"x\"},\"y1\":{\"expr\":{\"id\":\"1032\"}},\"y2\":{\"expr\":{\"id\":\"1033\"}}},\"id\":\"1038\",\"type\":\"VArea\"},{\"attributes\":{\"line_alpha\":0.75,\"line_color\":\"gray\",\"line_dash\":[6],\"x\":{\"field\":\"x\"},\"y\":{\"field\":\"y\"}},\"id\":\"1047\",\"type\":\"Line\"},{\"attributes\":{\"months\":[0,4,8]},\"id\":\"1066\",\"type\":\"MonthsTicker\"},{\"attributes\":{\"fields\":[\"deaths\",\"cases\"]},\"id\":\"1035\",\"type\":\"Stack\"},{\"attributes\":{\"fill_color\":\"lightblue\",\"x\":{\"field\":\"x\"},\"y1\":{\"expr\":{\"id\":\"1034\"}},\"y2\":{\"expr\":{\"id\":\"1035\"}}},\"id\":\"1042\",\"type\":\"VArea\"},{\"attributes\":{\"months\":[0,6]},\"id\":\"1067\",\"type\":\"MonthsTicker\"},{\"attributes\":{\"fields\":[]},\"id\":\"1032\",\"type\":\"Stack\"},{\"attributes\":{\"items\":[{\"id\":\"1072\"}],\"location\":\"top_left\"},\"id\":\"1071\",\"type\":\"Legend\"},{\"attributes\":{\"axis\":{\"id\":\"1013\"},\"ticker\":null},\"id\":\"1016\",\"type\":\"Grid\"},{\"attributes\":{},\"id\":\"1070\",\"type\":\"UnionRenderers\"},{\"attributes\":{},\"id\":\"1068\",\"type\":\"YearsTicker\"},{\"attributes\":{\"source\":{\"id\":\"1046\"}},\"id\":\"1050\",\"type\":\"CDSView\"},{\"attributes\":{\"data_source\":{\"id\":\"1046\"},\"glyph\":{\"id\":\"1047\"},\"hover_glyph\":null,\"muted_glyph\":null,\"nonselection_glyph\":{\"id\":\"1048\"},\"selection_glyph\":null,\"view\":{\"id\":\"1050\"}},\"id\":\"1049\",\"type\":\"GlyphRenderer\"},{\"attributes\":{\"days\":[1,2,3,4,5,6,7,8,9,10,11,12,13,14,15,16,17,18,19,20,21,22,23,24,25,26,27,28,29,30,31]},\"id\":\"1060\",\"type\":\"DaysTicker\"},{\"attributes\":{},\"id\":\"1069\",\"type\":\"Selection\"},{\"attributes\":{\"end\":22356},\"id\":\"1007\",\"type\":\"Range1d\"},{\"attributes\":{\"axis_label\":\"Date\",\"formatter\":{\"id\":\"1073\"},\"ticker\":{\"id\":\"1014\"}},\"id\":\"1013\",\"type\":\"DatetimeAxis\"},{\"attributes\":{\"overlay\":{\"id\":\"1025\"}},\"id\":\"1023\",\"type\":\"BoxZoomTool\"},{\"attributes\":{\"active_drag\":\"auto\",\"active_inspect\":\"auto\",\"active_multi\":null,\"active_scroll\":\"auto\",\"active_tap\":\"auto\",\"tools\":[{\"id\":\"1021\"},{\"id\":\"1022\"},{\"id\":\"1023\"},{\"id\":\"1024\"}]},\"id\":\"1026\",\"type\":\"Toolbar\"},{\"attributes\":{\"mantissas\":[1,2,5],\"max_interval\":500.0,\"num_minor_ticks\":0},\"id\":\"1057\",\"type\":\"AdaptiveTicker\"},{\"attributes\":{},\"id\":\"1094\",\"type\":\"Selection\"},{\"attributes\":{\"axis_label\":\"# of Cases & Deaths\",\"formatter\":{\"id\":\"1053\"},\"ticker\":{\"id\":\"1018\"}},\"id\":\"1017\",\"type\":\"LinearAxis\"},{\"attributes\":{\"fill_alpha\":0.1,\"fill_color\":\"lightblue\",\"x\":{\"field\":\"x\"},\"y1\":{\"expr\":{\"id\":\"1034\"}},\"y2\":{\"expr\":{\"id\":\"1035\"}}},\"id\":\"1043\",\"type\":\"VArea\"},{\"attributes\":{},\"id\":\"1095\",\"type\":\"UnionRenderers\"},{\"attributes\":{\"fields\":[\"deaths\"]},\"id\":\"1034\",\"type\":\"Stack\"},{\"attributes\":{\"axis\":{\"id\":\"1017\"},\"dimension\":1,\"ticker\":null},\"id\":\"1020\",\"type\":\"Grid\"},{\"attributes\":{},\"id\":\"1018\",\"type\":\"BasicTicker\"},{\"attributes\":{\"text\":\"Indiana Cases\"},\"id\":\"1003\",\"type\":\"Title\"},{\"attributes\":{\"base\":24,\"mantissas\":[1,2,4,6,8,12],\"max_interval\":43200000.0,\"min_interval\":3600000.0,\"num_minor_ticks\":0},\"id\":\"1059\",\"type\":\"AdaptiveTicker\"},{\"attributes\":{\"source\":{\"id\":\"1031\"}},\"id\":\"1040\",\"type\":\"CDSView\"},{\"attributes\":{\"base\":60,\"mantissas\":[1,2,5,10,15,20,30],\"max_interval\":1800000.0,\"min_interval\":1000.0,\"num_minor_ticks\":0},\"id\":\"1058\",\"type\":\"AdaptiveTicker\"},{\"attributes\":{\"end\":1588464000000.0,\"start\":1583452800000.0},\"id\":\"1005\",\"type\":\"Range1d\"},{\"attributes\":{\"fill_color\":\"red\",\"x\":{\"field\":\"x\"},\"y1\":{\"expr\":{\"id\":\"1032\"}},\"y2\":{\"expr\":{\"id\":\"1033\"}}},\"id\":\"1037\",\"type\":\"VArea\"},{\"attributes\":{},\"id\":\"1009\",\"type\":\"LinearScale\"}],\"root_ids\":[\"1002\"]},\"title\":\"Bokeh Application\",\"version\":\"2.0.2\"}};\n",
       "  var render_items = [{\"docid\":\"78df56cd-c42a-4cb4-90a4-b5b9a9803fed\",\"root_ids\":[\"1002\"],\"roots\":{\"1002\":\"582730e2-9250-4001-9462-9ab598dc2f51\"}}];\n",
       "  root.Bokeh.embed.embed_items_notebook(docs_json, render_items);\n",
       "\n",
       "  }\n",
       "  if (root.Bokeh !== undefined) {\n",
       "    embed_document(root);\n",
       "  } else {\n",
       "    var attempts = 0;\n",
       "    var timer = setInterval(function(root) {\n",
       "      if (root.Bokeh !== undefined) {\n",
       "        clearInterval(timer);\n",
       "        embed_document(root);\n",
       "      } else {\n",
       "        attempts++;\n",
       "        if (attempts > 100) {\n",
       "          clearInterval(timer);\n",
       "          console.log(\"Bokeh: ERROR: Unable to run BokehJS code because BokehJS library is missing\");\n",
       "        }\n",
       "      }\n",
       "    }, 10, root)\n",
       "  }\n",
       "})(window);"
      ],
      "application/vnd.bokehjs_exec.v0+json": ""
     },
     "metadata": {
      "application/vnd.bokehjs_exec.v0+json": {
       "id": "1002"
      }
     },
     "output_type": "display_data"
    }
   ],
   "source": [
    "plot_state_curve(df, \"Indiana\")"
   ]
  },
  {
   "cell_type": "code",
   "execution_count": 4,
   "metadata": {},
   "outputs": [
    {
     "name": "stdout",
     "output_type": "stream",
     "text": [
      "y ≈ exp(4.5125189487156545) * exp(0.07190138159140035 * x)\n",
      "y = 91.15113460497959 * exp(0.07190138159140035 * x)\n"
     ]
    },
    {
     "data": {
      "text/html": [
       "\n",
       "\n",
       "\n",
       "\n",
       "\n",
       "\n",
       "  <div class=\"bk-root\" id=\"3c3a421b-131e-4452-9836-2d9fd53139c6\" data-root-id=\"1222\"></div>\n"
      ]
     },
     "metadata": {},
     "output_type": "display_data"
    },
    {
     "data": {
      "application/javascript": [
       "(function(root) {\n",
       "  function embed_document(root) {\n",
       "    \n",
       "  var docs_json = {\"fb7a20a0-70ad-47ad-a202-3f48133ad24b\":{\"roots\":{\"references\":[{\"attributes\":{\"below\":[{\"id\":\"1233\"}],\"center\":[{\"id\":\"1236\"},{\"id\":\"1240\"},{\"id\":\"1291\"}],\"left\":[{\"id\":\"1237\"}],\"plot_width\":880,\"renderers\":[{\"id\":\"1259\"},{\"id\":\"1264\"},{\"id\":\"1269\"}],\"title\":{\"id\":\"1223\"},\"toolbar\":{\"id\":\"1246\"},\"x_range\":{\"id\":\"1225\"},\"x_scale\":{\"id\":\"1229\"},\"y_range\":{\"id\":\"1227\"},\"y_scale\":{\"id\":\"1231\"}},\"id\":\"1222\",\"subtype\":\"Figure\",\"type\":\"Plot\"},{\"attributes\":{\"base\":60,\"mantissas\":[1,2,5,10,15,20,30],\"max_interval\":1800000.0,\"min_interval\":1000.0,\"num_minor_ticks\":0},\"id\":\"1278\",\"type\":\"AdaptiveTicker\"},{\"attributes\":{},\"id\":\"1244\",\"type\":\"ResetTool\"},{\"attributes\":{\"bottom_units\":\"screen\",\"fill_alpha\":0.5,\"fill_color\":\"lightgrey\",\"left_units\":\"screen\",\"level\":\"overlay\",\"line_alpha\":1.0,\"line_color\":\"black\",\"line_dash\":[4,4],\"line_width\":2,\"render_mode\":\"css\",\"right_units\":\"screen\",\"top_units\":\"screen\"},\"id\":\"1245\",\"type\":\"BoxAnnotation\"},{\"attributes\":{\"days\":[1,2,3,4,5,6,7,8,9,10,11,12,13,14,15,16,17,18,19,20,21,22,23,24,25,26,27,28,29,30,31]},\"id\":\"1280\",\"type\":\"DaysTicker\"},{\"attributes\":{\"data\":{\"cases\":[2,3,4,6,7,10,11,17,19,31,47,68,85,97,146,180,215,244,313,335,369,418,461,525,576,676,744,796,819,876,978,1026,1095,1105,1182,1227,1292,1346,1445,1515,1533,1586,1715,1786,1846,1929],\"deaths\":[0,0,0,0,0,0,0,0,0,0,0,1,1,1,5,6,6,7,8,8,8,11,12,19,23,25,25,26,31,33,41,42,43,45,47,54,57,61,63,67,69,70,77,81,83,92],\"x\":{\"__ndarray__\":\"AACAo1wOd0IAAEAJrw53QgAAAG8BD3dCAADA1FMPd0IAAIA6pg93QgAAQKD4D3dCAAAABksQd0IAAMBrnRB3QgAAgNHvEHdCAABAN0IRd0IAAACdlBF3QgAAwALnEXdCAACAaDkSd0IAAEDOixJ3QgAAADTeEndCAADAmTATd0IAAID/ghN3QgAAQGXVE3dCAAAAyycUd0IAAMAwehR3QgAAgJbMFHdCAABA/B4Vd0IAAABicRV3QgAAwMfDFXdCAACALRYWd0IAAECTaBZ3QgAAAPm6FndCAADAXg0Xd0IAAIDEXxd3QgAAQCqyF3dCAAAAkAQYd0IAAMD1Vhh3QgAAgFupGHdCAABAwfsYd0IAAAAnThl3QgAAwIygGXdCAACA8vIZd0IAAEBYRRp3QgAAAL6XGndCAADAI+oad0IAAICJPBt3QgAAQO+OG3dCAAAAVeEbd0IAAMC6Mxx3QgAAgCCGHHdCAABAhtgcd0I=\",\"dtype\":\"float64\",\"shape\":[46]}},\"selected\":{\"id\":\"1289\"},\"selection_policy\":{\"id\":\"1290\"}},\"id\":\"1251\",\"type\":\"ColumnDataSource\"},{\"attributes\":{\"end\":1588464000000.0,\"start\":1584403200000.0},\"id\":\"1225\",\"type\":\"Range1d\"},{\"attributes\":{},\"id\":\"1289\",\"type\":\"Selection\"},{\"attributes\":{\"end\":2314},\"id\":\"1227\",\"type\":\"Range1d\"},{\"attributes\":{\"code\":\"\\n        let date = new Date(tick);\\n        return `${date.getDate()}-${date.getMonth()}-${date.getFullYear()}`\\n    \"},\"id\":\"1293\",\"type\":\"FuncTickFormatter\"},{\"attributes\":{\"days\":[1,4,7,10,13,16,19,22,25,28]},\"id\":\"1281\",\"type\":\"DaysTicker\"},{\"attributes\":{\"fields\":[\"deaths\"]},\"id\":\"1253\",\"type\":\"Stack\"},{\"attributes\":{\"axis\":{\"id\":\"1237\"},\"dimension\":1,\"ticker\":null},\"id\":\"1240\",\"type\":\"Grid\"},{\"attributes\":{\"base\":24,\"mantissas\":[1,2,4,6,8,12],\"max_interval\":43200000.0,\"min_interval\":3600000.0,\"num_minor_ticks\":0},\"id\":\"1279\",\"type\":\"AdaptiveTicker\"},{\"attributes\":{\"fill_alpha\":0.1,\"fill_color\":\"lightblue\",\"x\":{\"field\":\"x\"},\"y1\":{\"expr\":{\"id\":\"1254\"}},\"y2\":{\"expr\":{\"id\":\"1255\"}}},\"id\":\"1263\",\"type\":\"VArea\"},{\"attributes\":{\"fields\":[\"deaths\"]},\"id\":\"1254\",\"type\":\"Stack\"},{\"attributes\":{},\"id\":\"1336\",\"type\":\"UnionRenderers\"},{\"attributes\":{\"days\":[1,8,15,22]},\"id\":\"1282\",\"type\":\"DaysTicker\"},{\"attributes\":{\"data_source\":{\"id\":\"1251\"},\"glyph\":{\"id\":\"1262\"},\"hover_glyph\":null,\"muted_glyph\":null,\"name\":\"cases\",\"nonselection_glyph\":{\"id\":\"1263\"},\"selection_glyph\":null,\"view\":{\"id\":\"1265\"}},\"id\":\"1264\",\"type\":\"GlyphRenderer\"},{\"attributes\":{\"data\":{\"x\":[1584403200000.0,1584489600000.0,1584576000000.0,1584662400000.0,1584748800000.0,1584835200000.0,1584921600000.0,1585008000000.0,1585094400000.0,1585180800000.0,1585267200000.0,1585353600000.0,1585440000000.0,1585526400000.0,1585612800000.0,1585699200000.0,1585785600000.0,1585872000000.0,1585958400000.0,1586044800000.0,1586131200000.0,1586217600000.0,1586304000000.0,1586390400000.0,1586476800000.0,1586563200000.0,1586649600000.0,1586736000000.0,1586822400000.0,1586908800000.0,1586995200000.0,1587081600000.0,1587168000000.0,1587254400000.0,1587340800000.0,1587427200000.0,1587513600000.0,1587600000000.0,1587686400000.0,1587772800000.0,1587859200000.0,1587945600000.0,1588032000000.0,1588118400000.0,1588204800000.0,1588291200000.0,1588377600000.0,1588464000000.0,1588550400000.0,1588636800000.0,1588723200000.0,1588809600000.0,1588896000000.0,1588982400000.0,1589068800000.0,1589155200000.0],\"y\":[91.15113460497959,97.94639412689554,105.24823595489357,113.09442547998016,121.525543479212,130.58519600094832,140.32023989691564,150.78102516754635,162.02165537400833,174.10026746378776,187.0793324570916,201.02597854923232,216.01233830009073,232.11592170633423,249.4200170859336,268.01412184836676,287.9944053784695,309.4642064279855,332.5345675873413,357.3248096019551,383.9631485034639,412.58735874769326,443.3454857891449,476.39661177746103,511.9116783360778,550.0743706785072,591.0820676349294,635.1468625026677,682.4966600004216,733.3763549997456,788.0490991302154,846.7976618092074,909.9258927355926,977.7602934114083,1050.6517058194797,1128.9771269908917,1213.1416588473176,1303.5806034028665,1400.7617141619019,1505.1876153571461,1617.3984015404578,1737.9744309714615,1867.5393272515357,2006.7632047277161,2156.3661343484264,2317.1218678965606,2489.8618398617978,2675.4794676499628,2874.9347723702817,3089.259344099412,3319.561677302761,3567.0329040081115,3832.9529543837043,4118.697176583534,4425.743450097924,4755.679829399912]},\"selected\":{\"id\":\"1335\"},\"selection_policy\":{\"id\":\"1336\"}},\"id\":\"1266\",\"type\":\"ColumnDataSource\"},{\"attributes\":{\"months\":[0,1,2,3,4,5,6,7,8,9,10,11]},\"id\":\"1284\",\"type\":\"MonthsTicker\"},{\"attributes\":{\"fields\":[\"deaths\",\"cases\"]},\"id\":\"1255\",\"type\":\"Stack\"},{\"attributes\":{\"axis\":{\"id\":\"1233\"},\"ticker\":null},\"id\":\"1236\",\"type\":\"Grid\"},{\"attributes\":{},\"id\":\"1238\",\"type\":\"BasicTicker\"},{\"attributes\":{\"days\":[1,15]},\"id\":\"1283\",\"type\":\"DaysTicker\"},{\"attributes\":{},\"id\":\"1335\",\"type\":\"Selection\"},{\"attributes\":{\"fill_color\":\"red\",\"x\":{\"field\":\"x\"},\"y1\":{\"expr\":{\"id\":\"1252\"}},\"y2\":{\"expr\":{\"id\":\"1253\"}}},\"id\":\"1257\",\"type\":\"VArea\"},{\"attributes\":{\"source\":{\"id\":\"1251\"}},\"id\":\"1265\",\"type\":\"CDSView\"},{\"attributes\":{},\"id\":\"1273\",\"type\":\"BasicTickFormatter\"},{\"attributes\":{\"line_alpha\":0.75,\"line_color\":\"gray\",\"line_dash\":[6],\"x\":{\"field\":\"x\"},\"y\":{\"field\":\"y\"}},\"id\":\"1267\",\"type\":\"Line\"},{\"attributes\":{\"months\":[0,2,4,6,8,10]},\"id\":\"1285\",\"type\":\"MonthsTicker\"},{\"attributes\":{},\"id\":\"1241\",\"type\":\"PanTool\"},{\"attributes\":{\"data_source\":{\"id\":\"1266\"},\"glyph\":{\"id\":\"1267\"},\"hover_glyph\":null,\"muted_glyph\":null,\"nonselection_glyph\":{\"id\":\"1268\"},\"selection_glyph\":null,\"view\":{\"id\":\"1270\"}},\"id\":\"1269\",\"type\":\"GlyphRenderer\"},{\"attributes\":{\"text\":\"Indiana Cases for counties Lake\"},\"id\":\"1223\",\"type\":\"Title\"},{\"attributes\":{\"num_minor_ticks\":5,\"tickers\":[{\"id\":\"1277\"},{\"id\":\"1278\"},{\"id\":\"1279\"},{\"id\":\"1280\"},{\"id\":\"1281\"},{\"id\":\"1282\"},{\"id\":\"1283\"},{\"id\":\"1284\"},{\"id\":\"1285\"},{\"id\":\"1286\"},{\"id\":\"1287\"},{\"id\":\"1288\"}]},\"id\":\"1234\",\"type\":\"DatetimeTicker\"},{\"attributes\":{\"source\":{\"id\":\"1251\"}},\"id\":\"1260\",\"type\":\"CDSView\"},{\"attributes\":{\"months\":[0,6]},\"id\":\"1287\",\"type\":\"MonthsTicker\"},{\"attributes\":{\"active_drag\":\"auto\",\"active_inspect\":\"auto\",\"active_multi\":null,\"active_scroll\":\"auto\",\"active_tap\":\"auto\",\"tools\":[{\"id\":\"1241\"},{\"id\":\"1242\"},{\"id\":\"1243\"},{\"id\":\"1244\"}]},\"id\":\"1246\",\"type\":\"Toolbar\"},{\"attributes\":{\"source\":{\"id\":\"1266\"}},\"id\":\"1270\",\"type\":\"CDSView\"},{\"attributes\":{\"months\":[0,4,8]},\"id\":\"1286\",\"type\":\"MonthsTicker\"},{\"attributes\":{},\"id\":\"1242\",\"type\":\"WheelZoomTool\"},{\"attributes\":{\"axis_label\":\"# of Cases & Deaths\",\"formatter\":{\"id\":\"1273\"},\"ticker\":{\"id\":\"1238\"}},\"id\":\"1237\",\"type\":\"LinearAxis\"},{\"attributes\":{},\"id\":\"1229\",\"type\":\"LinearScale\"},{\"attributes\":{\"line_alpha\":0.1,\"line_color\":\"gray\",\"line_dash\":[6],\"x\":{\"field\":\"x\"},\"y\":{\"field\":\"y\"}},\"id\":\"1268\",\"type\":\"Line\"},{\"attributes\":{},\"id\":\"1290\",\"type\":\"UnionRenderers\"},{\"attributes\":{},\"id\":\"1288\",\"type\":\"YearsTicker\"},{\"attributes\":{\"fields\":[]},\"id\":\"1252\",\"type\":\"Stack\"},{\"attributes\":{\"items\":[{\"id\":\"1292\"}],\"location\":\"top_left\"},\"id\":\"1291\",\"type\":\"Legend\"},{\"attributes\":{\"label\":{\"value\":\"Projected # of Cases\"},\"renderers\":[{\"id\":\"1269\"}]},\"id\":\"1292\",\"type\":\"LegendItem\"},{\"attributes\":{\"overlay\":{\"id\":\"1245\"}},\"id\":\"1243\",\"type\":\"BoxZoomTool\"},{\"attributes\":{},\"id\":\"1231\",\"type\":\"LinearScale\"},{\"attributes\":{\"fill_alpha\":0.1,\"fill_color\":\"red\",\"x\":{\"field\":\"x\"},\"y1\":{\"expr\":{\"id\":\"1252\"}},\"y2\":{\"expr\":{\"id\":\"1253\"}}},\"id\":\"1258\",\"type\":\"VArea\"},{\"attributes\":{\"fill_color\":\"lightblue\",\"x\":{\"field\":\"x\"},\"y1\":{\"expr\":{\"id\":\"1254\"}},\"y2\":{\"expr\":{\"id\":\"1255\"}}},\"id\":\"1262\",\"type\":\"VArea\"},{\"attributes\":{\"mantissas\":[1,2,5],\"max_interval\":500.0,\"num_minor_ticks\":0},\"id\":\"1277\",\"type\":\"AdaptiveTicker\"},{\"attributes\":{\"data_source\":{\"id\":\"1251\"},\"glyph\":{\"id\":\"1257\"},\"hover_glyph\":null,\"muted_glyph\":null,\"name\":\"deaths\",\"nonselection_glyph\":{\"id\":\"1258\"},\"selection_glyph\":null,\"view\":{\"id\":\"1260\"}},\"id\":\"1259\",\"type\":\"GlyphRenderer\"},{\"attributes\":{\"axis_label\":\"Date\",\"formatter\":{\"id\":\"1293\"},\"ticker\":{\"id\":\"1234\"}},\"id\":\"1233\",\"type\":\"DatetimeAxis\"}],\"root_ids\":[\"1222\"]},\"title\":\"Bokeh Application\",\"version\":\"2.0.2\"}};\n",
       "  var render_items = [{\"docid\":\"fb7a20a0-70ad-47ad-a202-3f48133ad24b\",\"root_ids\":[\"1222\"],\"roots\":{\"1222\":\"3c3a421b-131e-4452-9836-2d9fd53139c6\"}}];\n",
       "  root.Bokeh.embed.embed_items_notebook(docs_json, render_items);\n",
       "\n",
       "  }\n",
       "  if (root.Bokeh !== undefined) {\n",
       "    embed_document(root);\n",
       "  } else {\n",
       "    var attempts = 0;\n",
       "    var timer = setInterval(function(root) {\n",
       "      if (root.Bokeh !== undefined) {\n",
       "        clearInterval(timer);\n",
       "        embed_document(root);\n",
       "      } else {\n",
       "        attempts++;\n",
       "        if (attempts > 100) {\n",
       "          clearInterval(timer);\n",
       "          console.log(\"Bokeh: ERROR: Unable to run BokehJS code because BokehJS library is missing\");\n",
       "        }\n",
       "      }\n",
       "    }, 10, root)\n",
       "  }\n",
       "})(window);"
      ],
      "application/vnd.bokehjs_exec.v0+json": ""
     },
     "metadata": {
      "application/vnd.bokehjs_exec.v0+json": {
       "id": "1222"
      }
     },
     "output_type": "display_data"
    }
   ],
   "source": [
    "plot_state_counties_curve(df, \"Indiana\", ['Lake'])"
   ]
  },
  {
   "cell_type": "code",
   "execution_count": 5,
   "metadata": {
    "scrolled": true
   },
   "outputs": [
    {
     "name": "stdout",
     "output_type": "stream",
     "text": [
      "y ≈ exp(5.705327387099374) * exp(0.05565490361309297 * x)\n",
      "y = 300.4638319305581 * exp(0.05565490361309297 * x)\n"
     ]
    },
    {
     "data": {
      "text/html": [
       "\n",
       "\n",
       "\n",
       "\n",
       "\n",
       "\n",
       "  <div class=\"bk-root\" id=\"edd03fc0-70bd-4e96-9a60-97f757d78acc\" data-root-id=\"1463\"></div>\n"
      ]
     },
     "metadata": {},
     "output_type": "display_data"
    },
    {
     "data": {
      "application/javascript": [
       "(function(root) {\n",
       "  function embed_document(root) {\n",
       "    \n",
       "  var docs_json = {\"7163e2de-a766-4926-987a-9a85630f8d7c\":{\"roots\":{\"references\":[{\"attributes\":{\"below\":[{\"id\":\"1474\"}],\"center\":[{\"id\":\"1477\"},{\"id\":\"1481\"},{\"id\":\"1532\"}],\"left\":[{\"id\":\"1478\"}],\"plot_width\":880,\"renderers\":[{\"id\":\"1500\"},{\"id\":\"1505\"},{\"id\":\"1510\"}],\"title\":{\"id\":\"1464\"},\"toolbar\":{\"id\":\"1487\"},\"x_range\":{\"id\":\"1466\"},\"x_scale\":{\"id\":\"1470\"},\"y_range\":{\"id\":\"1468\"},\"y_scale\":{\"id\":\"1472\"}},\"id\":\"1463\",\"subtype\":\"Figure\",\"type\":\"Plot\"},{\"attributes\":{\"axis_label\":\"# of Cases & Deaths\",\"formatter\":{\"id\":\"1514\"},\"ticker\":{\"id\":\"1479\"}},\"id\":\"1478\",\"type\":\"LinearAxis\"},{\"attributes\":{\"data_source\":{\"id\":\"1507\"},\"glyph\":{\"id\":\"1508\"},\"hover_glyph\":null,\"muted_glyph\":null,\"nonselection_glyph\":{\"id\":\"1509\"},\"selection_glyph\":null,\"view\":{\"id\":\"1511\"}},\"id\":\"1510\",\"type\":\"GlyphRenderer\"},{\"attributes\":{\"fill_alpha\":0.1,\"fill_color\":\"lightblue\",\"x\":{\"field\":\"x\"},\"y1\":{\"expr\":{\"id\":\"1495\"}},\"y2\":{\"expr\":{\"id\":\"1496\"}}},\"id\":\"1504\",\"type\":\"VArea\"},{\"attributes\":{\"days\":[1,4,7,10,13,16,19,22,25,28]},\"id\":\"1522\",\"type\":\"DaysTicker\"},{\"attributes\":{\"base\":24,\"mantissas\":[1,2,4,6,8,12],\"max_interval\":43200000.0,\"min_interval\":3600000.0,\"num_minor_ticks\":0},\"id\":\"1520\",\"type\":\"AdaptiveTicker\"},{\"attributes\":{\"months\":[0,6]},\"id\":\"1528\",\"type\":\"MonthsTicker\"},{\"attributes\":{\"end\":6904},\"id\":\"1468\",\"type\":\"Range1d\"},{\"attributes\":{\"label\":{\"value\":\"Projected # of Cases\"},\"renderers\":[{\"id\":\"1510\"}]},\"id\":\"1533\",\"type\":\"LegendItem\"},{\"attributes\":{\"source\":{\"id\":\"1492\"}},\"id\":\"1501\",\"type\":\"CDSView\"},{\"attributes\":{\"days\":[1,15]},\"id\":\"1524\",\"type\":\"DaysTicker\"},{\"attributes\":{\"end\":1588464000000.0,\"start\":1583452800000.0},\"id\":\"1466\",\"type\":\"Range1d\"},{\"attributes\":{\"data\":{\"cases\":[1,1,1,1,1,1,2,2,3,6,7,9,11,19,25,46,82,110,161,226,293,484,584,676,804,964,1117,1304,1429,1570,1760,1956,2141,2290,2415,2600,2742,2887,3012,3063,3204,3320,3518,3624,3889,4052,4176,4263,4408,4537,4727,4796,4926,5080,5295,5530,5754],\"deaths\":[0,0,0,0,0,0,0,0,0,0,1,1,1,1,2,2,3,3,6,6,6,8,10,10,12,17,21,24,33,34,37,41,48,58,81,107,118,123,123,141,155,164,182,190,192,192,206,214,228,238,255,259,267,282,305,328,339],\"x\":{\"__ndarray__\":\"AABARNIKd0IAAACqJAt3QgAAwA93C3dCAACAdckLd0IAAEDbGwx3QgAAAEFuDHdCAADApsAMd0IAAIAMEw13QgAAQHJlDXdCAAAA2LcNd0IAAMA9Cg53QgAAgKNcDndCAABACa8Od0IAAABvAQ93QgAAwNRTD3dCAACAOqYPd0IAAECg+A93QgAAAAZLEHdCAADAa50Qd0IAAIDR7xB3QgAAQDdCEXdCAAAAnZQRd0IAAMAC5xF3QgAAgGg5EndCAABAzosSd0IAAAA03hJ3QgAAwJkwE3dCAACA/4ITd0IAAEBl1RN3QgAAAMsnFHdCAADAMHoUd0IAAICWzBR3QgAAQPweFXdCAAAAYnEVd0IAAMDHwxV3QgAAgC0WFndCAABAk2gWd0IAAAD5uhZ3QgAAwF4NF3dCAACAxF8Xd0IAAEAqshd3QgAAAJAEGHdCAADA9VYYd0IAAIBbqRh3QgAAQMH7GHdCAAAAJ04Zd0IAAMCMoBl3QgAAgPLyGXdCAABAWEUad0IAAAC+lxp3QgAAwCPqGndCAACAiTwbd0IAAEDvjht3QgAAAFXhG3dCAADAujMcd0IAAIAghhx3QgAAQIbYHHdC\",\"dtype\":\"float64\",\"shape\":[57]}},\"selected\":{\"id\":\"1530\"},\"selection_policy\":{\"id\":\"1531\"}},\"id\":\"1492\",\"type\":\"ColumnDataSource\"},{\"attributes\":{\"fill_color\":\"lightblue\",\"x\":{\"field\":\"x\"},\"y1\":{\"expr\":{\"id\":\"1495\"}},\"y2\":{\"expr\":{\"id\":\"1496\"}}},\"id\":\"1503\",\"type\":\"VArea\"},{\"attributes\":{},\"id\":\"1531\",\"type\":\"UnionRenderers\"},{\"attributes\":{\"days\":[1,8,15,22]},\"id\":\"1523\",\"type\":\"DaysTicker\"},{\"attributes\":{},\"id\":\"1597\",\"type\":\"Selection\"},{\"attributes\":{},\"id\":\"1470\",\"type\":\"LinearScale\"},{\"attributes\":{},\"id\":\"1514\",\"type\":\"BasicTickFormatter\"},{\"attributes\":{\"axis\":{\"id\":\"1478\"},\"dimension\":1,\"ticker\":null},\"id\":\"1481\",\"type\":\"Grid\"},{\"attributes\":{\"data_source\":{\"id\":\"1492\"},\"glyph\":{\"id\":\"1503\"},\"hover_glyph\":null,\"muted_glyph\":null,\"name\":\"cases\",\"nonselection_glyph\":{\"id\":\"1504\"},\"selection_glyph\":null,\"view\":{\"id\":\"1506\"}},\"id\":\"1505\",\"type\":\"GlyphRenderer\"},{\"attributes\":{},\"id\":\"1530\",\"type\":\"Selection\"},{\"attributes\":{\"days\":[1,2,3,4,5,6,7,8,9,10,11,12,13,14,15,16,17,18,19,20,21,22,23,24,25,26,27,28,29,30,31]},\"id\":\"1521\",\"type\":\"DaysTicker\"},{\"attributes\":{\"base\":60,\"mantissas\":[1,2,5,10,15,20,30],\"max_interval\":1800000.0,\"min_interval\":1000.0,\"num_minor_ticks\":0},\"id\":\"1519\",\"type\":\"AdaptiveTicker\"},{\"attributes\":{\"fields\":[]},\"id\":\"1493\",\"type\":\"Stack\"},{\"attributes\":{\"code\":\"\\n        let date = new Date(tick);\\n        return `${date.getDate()}-${date.getMonth()}-${date.getFullYear()}`\\n    \"},\"id\":\"1534\",\"type\":\"FuncTickFormatter\"},{\"attributes\":{\"source\":{\"id\":\"1507\"}},\"id\":\"1511\",\"type\":\"CDSView\"},{\"attributes\":{\"line_alpha\":0.75,\"line_color\":\"gray\",\"line_dash\":[6],\"x\":{\"field\":\"x\"},\"y\":{\"field\":\"y\"}},\"id\":\"1508\",\"type\":\"Line\"},{\"attributes\":{\"months\":[0,4,8]},\"id\":\"1527\",\"type\":\"MonthsTicker\"},{\"attributes\":{},\"id\":\"1479\",\"type\":\"BasicTicker\"},{\"attributes\":{},\"id\":\"1472\",\"type\":\"LinearScale\"},{\"attributes\":{\"source\":{\"id\":\"1492\"}},\"id\":\"1506\",\"type\":\"CDSView\"},{\"attributes\":{\"months\":[0,2,4,6,8,10]},\"id\":\"1526\",\"type\":\"MonthsTicker\"},{\"attributes\":{},\"id\":\"1598\",\"type\":\"UnionRenderers\"},{\"attributes\":{\"bottom_units\":\"screen\",\"fill_alpha\":0.5,\"fill_color\":\"lightgrey\",\"left_units\":\"screen\",\"level\":\"overlay\",\"line_alpha\":1.0,\"line_color\":\"black\",\"line_dash\":[4,4],\"line_width\":2,\"render_mode\":\"css\",\"right_units\":\"screen\",\"top_units\":\"screen\"},\"id\":\"1486\",\"type\":\"BoxAnnotation\"},{\"attributes\":{\"data\":{\"x\":[1583452800000.0,1583539200000.0,1583625600000.0,1583712000000.0,1583798400000.0,1583884800000.0,1583971200000.0,1584057600000.0,1584144000000.0,1584230400000.0,1584316800000.0,1584403200000.0,1584489600000.0,1584576000000.0,1584662400000.0,1584748800000.0,1584835200000.0,1584921600000.0,1585008000000.0,1585094400000.0,1585180800000.0,1585267200000.0,1585353600000.0,1585440000000.0,1585526400000.0,1585612800000.0,1585699200000.0,1585785600000.0,1585872000000.0,1585958400000.0,1586044800000.0,1586131200000.0,1586217600000.0,1586304000000.0,1586390400000.0,1586476800000.0,1586563200000.0,1586649600000.0,1586736000000.0,1586822400000.0,1586908800000.0,1586995200000.0,1587081600000.0,1587168000000.0,1587254400000.0,1587340800000.0,1587427200000.0,1587513600000.0,1587600000000.0,1587686400000.0,1587772800000.0,1587859200000.0,1587945600000.0,1588032000000.0,1588118400000.0,1588204800000.0,1588291200000.0,1588377600000.0,1588464000000.0,1588550400000.0,1588636800000.0,1588723200000.0,1588809600000.0,1588896000000.0,1588982400000.0,1589068800000.0,1589155200000.0],\"y\":[300.4638319305581,317.6602103880216,335.8407852798854,355.06188489782335,375.38306135787207,396.8672751088406,419.5810900006482,443.5948795169643,468.983044811114,495.82424522078384,524.2016419757229,554.2031558535117,585.9217395816864,619.4556658301897,654.9088316864312,692.3910805562983,732.0185424884553,773.9139939763454,818.2072383526607,865.0355079548409,914.5438893076208,966.8857726399519,1022.2233271290269,1080.7280033438365,1142.581064444963,1207.974147786415,1277.1098586594896,1350.202398018243,1427.4782261314335,1509.1767642171026,1595.55113623365,1686.8689531256712,1783.4131419543564,1885.482822481326,1993.3942339217847,2107.481714738334,2228.0987385111002,2355.6190090935806,2490.4376184473026,2632.972270742563,2783.6645765178573,2942.981420907631,3111.4164101775123,3289.491401048762,3477.7581175502005,3676.79986040706,3887.233314262903,4109.710458333855,4344.920586414887,4593.592442496662,4856.496478609643,5134.447241890903,5428.305898269357,5738.982900588541,6067.440809433425,6414.697275400981,6781.828192054368,7169.971029329425,7580.3283577212605,8014.1715741698345,8472.844841188278,8957.769251438476,9470.447230656846,10012.467192571765,10585.508460234867,11191.34646901374,11831.85826736635]},\"selected\":{\"id\":\"1597\"},\"selection_policy\":{\"id\":\"1598\"}},\"id\":\"1507\",\"type\":\"ColumnDataSource\"},{\"attributes\":{\"overlay\":{\"id\":\"1486\"}},\"id\":\"1484\",\"type\":\"BoxZoomTool\"},{\"attributes\":{\"mantissas\":[1,2,5],\"max_interval\":500.0,\"num_minor_ticks\":0},\"id\":\"1518\",\"type\":\"AdaptiveTicker\"},{\"attributes\":{},\"id\":\"1482\",\"type\":\"PanTool\"},{\"attributes\":{\"months\":[0,1,2,3,4,5,6,7,8,9,10,11]},\"id\":\"1525\",\"type\":\"MonthsTicker\"},{\"attributes\":{},\"id\":\"1529\",\"type\":\"YearsTicker\"},{\"attributes\":{\"fields\":[\"deaths\"]},\"id\":\"1495\",\"type\":\"Stack\"},{\"attributes\":{\"axis\":{\"id\":\"1474\"},\"ticker\":null},\"id\":\"1477\",\"type\":\"Grid\"},{\"attributes\":{\"fields\":[\"deaths\"]},\"id\":\"1494\",\"type\":\"Stack\"},{\"attributes\":{\"fields\":[\"deaths\",\"cases\"]},\"id\":\"1496\",\"type\":\"Stack\"},{\"attributes\":{\"text\":\"Indiana Cases for counties Marion\"},\"id\":\"1464\",\"type\":\"Title\"},{\"attributes\":{\"data_source\":{\"id\":\"1492\"},\"glyph\":{\"id\":\"1498\"},\"hover_glyph\":null,\"muted_glyph\":null,\"name\":\"deaths\",\"nonselection_glyph\":{\"id\":\"1499\"},\"selection_glyph\":null,\"view\":{\"id\":\"1501\"}},\"id\":\"1500\",\"type\":\"GlyphRenderer\"},{\"attributes\":{},\"id\":\"1483\",\"type\":\"WheelZoomTool\"},{\"attributes\":{\"items\":[{\"id\":\"1533\"}],\"location\":\"top_left\"},\"id\":\"1532\",\"type\":\"Legend\"},{\"attributes\":{},\"id\":\"1485\",\"type\":\"ResetTool\"},{\"attributes\":{\"fill_color\":\"red\",\"x\":{\"field\":\"x\"},\"y1\":{\"expr\":{\"id\":\"1493\"}},\"y2\":{\"expr\":{\"id\":\"1494\"}}},\"id\":\"1498\",\"type\":\"VArea\"},{\"attributes\":{\"active_drag\":\"auto\",\"active_inspect\":\"auto\",\"active_multi\":null,\"active_scroll\":\"auto\",\"active_tap\":\"auto\",\"tools\":[{\"id\":\"1482\"},{\"id\":\"1483\"},{\"id\":\"1484\"},{\"id\":\"1485\"}]},\"id\":\"1487\",\"type\":\"Toolbar\"},{\"attributes\":{\"fill_alpha\":0.1,\"fill_color\":\"red\",\"x\":{\"field\":\"x\"},\"y1\":{\"expr\":{\"id\":\"1493\"}},\"y2\":{\"expr\":{\"id\":\"1494\"}}},\"id\":\"1499\",\"type\":\"VArea\"},{\"attributes\":{\"line_alpha\":0.1,\"line_color\":\"gray\",\"line_dash\":[6],\"x\":{\"field\":\"x\"},\"y\":{\"field\":\"y\"}},\"id\":\"1509\",\"type\":\"Line\"},{\"attributes\":{\"axis_label\":\"Date\",\"formatter\":{\"id\":\"1534\"},\"ticker\":{\"id\":\"1475\"}},\"id\":\"1474\",\"type\":\"DatetimeAxis\"},{\"attributes\":{\"num_minor_ticks\":5,\"tickers\":[{\"id\":\"1518\"},{\"id\":\"1519\"},{\"id\":\"1520\"},{\"id\":\"1521\"},{\"id\":\"1522\"},{\"id\":\"1523\"},{\"id\":\"1524\"},{\"id\":\"1525\"},{\"id\":\"1526\"},{\"id\":\"1527\"},{\"id\":\"1528\"},{\"id\":\"1529\"}]},\"id\":\"1475\",\"type\":\"DatetimeTicker\"}],\"root_ids\":[\"1463\"]},\"title\":\"Bokeh Application\",\"version\":\"2.0.2\"}};\n",
       "  var render_items = [{\"docid\":\"7163e2de-a766-4926-987a-9a85630f8d7c\",\"root_ids\":[\"1463\"],\"roots\":{\"1463\":\"edd03fc0-70bd-4e96-9a60-97f757d78acc\"}}];\n",
       "  root.Bokeh.embed.embed_items_notebook(docs_json, render_items);\n",
       "\n",
       "  }\n",
       "  if (root.Bokeh !== undefined) {\n",
       "    embed_document(root);\n",
       "  } else {\n",
       "    var attempts = 0;\n",
       "    var timer = setInterval(function(root) {\n",
       "      if (root.Bokeh !== undefined) {\n",
       "        clearInterval(timer);\n",
       "        embed_document(root);\n",
       "      } else {\n",
       "        attempts++;\n",
       "        if (attempts > 100) {\n",
       "          clearInterval(timer);\n",
       "          console.log(\"Bokeh: ERROR: Unable to run BokehJS code because BokehJS library is missing\");\n",
       "        }\n",
       "      }\n",
       "    }, 10, root)\n",
       "  }\n",
       "})(window);"
      ],
      "application/vnd.bokehjs_exec.v0+json": ""
     },
     "metadata": {
      "application/vnd.bokehjs_exec.v0+json": {
       "id": "1463"
      }
     },
     "output_type": "display_data"
    }
   ],
   "source": [
    "plot_state_counties_curve(df, \"Indiana\", ['Marion'])"
   ]
  },
  {
   "cell_type": "code",
   "execution_count": 6,
   "metadata": {},
   "outputs": [
    {
     "name": "stdout",
     "output_type": "stream",
     "text": [
      "y ≈ exp(3.854423560791703) * exp(0.06998315239649612 * x)\n",
      "y = 47.2014003598221 * exp(0.06998315239649612 * x)\n"
     ]
    },
    {
     "data": {
      "text/html": [
       "\n",
       "\n",
       "\n",
       "\n",
       "\n",
       "\n",
       "  <div class=\"bk-root\" id=\"54ebe841-1bb9-41c2-84c0-8e3b91796b56\" data-root-id=\"1725\"></div>\n"
      ]
     },
     "metadata": {},
     "output_type": "display_data"
    },
    {
     "data": {
      "application/javascript": [
       "(function(root) {\n",
       "  function embed_document(root) {\n",
       "    \n",
       "  var docs_json = {\"9ce86c1a-5453-4010-9def-f439ceb032eb\":{\"roots\":{\"references\":[{\"attributes\":{\"below\":[{\"id\":\"1736\"}],\"center\":[{\"id\":\"1739\"},{\"id\":\"1743\"},{\"id\":\"1794\"}],\"left\":[{\"id\":\"1740\"}],\"plot_width\":880,\"renderers\":[{\"id\":\"1762\"},{\"id\":\"1767\"},{\"id\":\"1772\"}],\"title\":{\"id\":\"1726\"},\"toolbar\":{\"id\":\"1749\"},\"x_range\":{\"id\":\"1728\"},\"x_scale\":{\"id\":\"1732\"},\"y_range\":{\"id\":\"1730\"},\"y_scale\":{\"id\":\"1734\"}},\"id\":\"1725\",\"subtype\":\"Figure\",\"type\":\"Plot\"},{\"attributes\":{\"days\":[1,4,7,10,13,16,19,22,25,28]},\"id\":\"1784\",\"type\":\"DaysTicker\"},{\"attributes\":{\"months\":[0,1,2,3,4,5,6,7,8,9,10,11]},\"id\":\"1787\",\"type\":\"MonthsTicker\"},{\"attributes\":{\"fields\":[]},\"id\":\"1755\",\"type\":\"Stack\"},{\"attributes\":{\"axis\":{\"id\":\"1740\"},\"dimension\":1,\"ticker\":null},\"id\":\"1743\",\"type\":\"Grid\"},{\"attributes\":{\"fields\":[\"deaths\"]},\"id\":\"1757\",\"type\":\"Stack\"},{\"attributes\":{\"data_source\":{\"id\":\"1754\"},\"glyph\":{\"id\":\"1760\"},\"hover_glyph\":null,\"muted_glyph\":null,\"name\":\"deaths\",\"nonselection_glyph\":{\"id\":\"1761\"},\"selection_glyph\":null,\"view\":{\"id\":\"1763\"}},\"id\":\"1762\",\"type\":\"GlyphRenderer\"},{\"attributes\":{\"items\":[{\"id\":\"1795\"}],\"location\":\"top_left\"},\"id\":\"1794\",\"type\":\"Legend\"},{\"attributes\":{\"code\":\"\\n        let date = new Date(tick);\\n        return `${date.getDate()}-${date.getMonth()}-${date.getFullYear()}`\\n    \"},\"id\":\"1796\",\"type\":\"FuncTickFormatter\"},{\"attributes\":{\"fill_alpha\":0.1,\"fill_color\":\"red\",\"x\":{\"field\":\"x\"},\"y1\":{\"expr\":{\"id\":\"1755\"}},\"y2\":{\"expr\":{\"id\":\"1756\"}}},\"id\":\"1761\",\"type\":\"VArea\"},{\"attributes\":{\"axis_label\":\"Date\",\"formatter\":{\"id\":\"1796\"},\"ticker\":{\"id\":\"1737\"}},\"id\":\"1736\",\"type\":\"DatetimeAxis\"},{\"attributes\":{\"fill_color\":\"red\",\"x\":{\"field\":\"x\"},\"y1\":{\"expr\":{\"id\":\"1755\"}},\"y2\":{\"expr\":{\"id\":\"1756\"}}},\"id\":\"1760\",\"type\":\"VArea\"},{\"attributes\":{\"days\":[1,2,3,4,5,6,7,8,9,10,11,12,13,14,15,16,17,18,19,20,21,22,23,24,25,26,27,28,29,30,31]},\"id\":\"1783\",\"type\":\"DaysTicker\"},{\"attributes\":{},\"id\":\"1732\",\"type\":\"LinearScale\"},{\"attributes\":{},\"id\":\"1776\",\"type\":\"BasicTickFormatter\"},{\"attributes\":{\"source\":{\"id\":\"1754\"}},\"id\":\"1768\",\"type\":\"CDSView\"},{\"attributes\":{},\"id\":\"1880\",\"type\":\"Selection\"},{\"attributes\":{\"line_alpha\":0.75,\"line_color\":\"gray\",\"line_dash\":[6],\"x\":{\"field\":\"x\"},\"y\":{\"field\":\"y\"}},\"id\":\"1770\",\"type\":\"Line\"},{\"attributes\":{},\"id\":\"1792\",\"type\":\"Selection\"},{\"attributes\":{},\"id\":\"1747\",\"type\":\"ResetTool\"},{\"attributes\":{},\"id\":\"1881\",\"type\":\"UnionRenderers\"},{\"attributes\":{\"active_drag\":\"auto\",\"active_inspect\":\"auto\",\"active_multi\":null,\"active_scroll\":\"auto\",\"active_tap\":\"auto\",\"tools\":[{\"id\":\"1744\"},{\"id\":\"1745\"},{\"id\":\"1746\"},{\"id\":\"1747\"}]},\"id\":\"1749\",\"type\":\"Toolbar\"},{\"attributes\":{\"fill_alpha\":0.1,\"fill_color\":\"lightblue\",\"x\":{\"field\":\"x\"},\"y1\":{\"expr\":{\"id\":\"1757\"}},\"y2\":{\"expr\":{\"id\":\"1758\"}}},\"id\":\"1766\",\"type\":\"VArea\"},{\"attributes\":{\"end\":46401},\"id\":\"1730\",\"type\":\"Range1d\"},{\"attributes\":{\"overlay\":{\"id\":\"1748\"}},\"id\":\"1746\",\"type\":\"BoxZoomTool\"},{\"attributes\":{\"line_alpha\":0.1,\"line_color\":\"gray\",\"line_dash\":[6],\"x\":{\"field\":\"x\"},\"y\":{\"field\":\"y\"}},\"id\":\"1771\",\"type\":\"Line\"},{\"attributes\":{\"days\":[1,8,15,22]},\"id\":\"1785\",\"type\":\"DaysTicker\"},{\"attributes\":{\"axis_label\":\"# of Cases & Deaths\",\"formatter\":{\"id\":\"1776\"},\"ticker\":{\"id\":\"1741\"}},\"id\":\"1740\",\"type\":\"LinearAxis\"},{\"attributes\":{\"num_minor_ticks\":5,\"tickers\":[{\"id\":\"1780\"},{\"id\":\"1781\"},{\"id\":\"1782\"},{\"id\":\"1783\"},{\"id\":\"1784\"},{\"id\":\"1785\"},{\"id\":\"1786\"},{\"id\":\"1787\"},{\"id\":\"1788\"},{\"id\":\"1789\"},{\"id\":\"1790\"},{\"id\":\"1791\"}]},\"id\":\"1737\",\"type\":\"DatetimeTicker\"},{\"attributes\":{\"bottom_units\":\"screen\",\"fill_alpha\":0.5,\"fill_color\":\"lightgrey\",\"left_units\":\"screen\",\"level\":\"overlay\",\"line_alpha\":1.0,\"line_color\":\"black\",\"line_dash\":[4,4],\"line_width\":2,\"render_mode\":\"css\",\"right_units\":\"screen\",\"top_units\":\"screen\"},\"id\":\"1748\",\"type\":\"BoxAnnotation\"},{\"attributes\":{},\"id\":\"1734\",\"type\":\"LinearScale\"},{\"attributes\":{},\"id\":\"1745\",\"type\":\"WheelZoomTool\"},{\"attributes\":{\"end\":1588464000000.0,\"start\":1579824000000.0},\"id\":\"1728\",\"type\":\"Range1d\"},{\"attributes\":{\"data_source\":{\"id\":\"1769\"},\"glyph\":{\"id\":\"1770\"},\"hover_glyph\":null,\"muted_glyph\":null,\"nonselection_glyph\":{\"id\":\"1771\"},\"selection_glyph\":null,\"view\":{\"id\":\"1773\"}},\"id\":\"1772\",\"type\":\"GlyphRenderer\"},{\"attributes\":{\"base\":24,\"mantissas\":[1,2,4,6,8,12],\"max_interval\":43200000.0,\"min_interval\":3600000.0,\"num_minor_ticks\":0},\"id\":\"1782\",\"type\":\"AdaptiveTicker\"},{\"attributes\":{},\"id\":\"1791\",\"type\":\"YearsTicker\"},{\"attributes\":{},\"id\":\"1741\",\"type\":\"BasicTicker\"},{\"attributes\":{\"months\":[0,4,8]},\"id\":\"1789\",\"type\":\"MonthsTicker\"},{\"attributes\":{\"base\":60,\"mantissas\":[1,2,5,10,15,20,30],\"max_interval\":1800000.0,\"min_interval\":1000.0,\"num_minor_ticks\":0},\"id\":\"1781\",\"type\":\"AdaptiveTicker\"},{\"attributes\":{\"months\":[0,6]},\"id\":\"1790\",\"type\":\"MonthsTicker\"},{\"attributes\":{\"fields\":[\"deaths\"]},\"id\":\"1756\",\"type\":\"Stack\"},{\"attributes\":{\"label\":{\"value\":\"Projected # of Cases\"},\"renderers\":[{\"id\":\"1772\"}]},\"id\":\"1795\",\"type\":\"LegendItem\"},{\"attributes\":{\"source\":{\"id\":\"1769\"}},\"id\":\"1773\",\"type\":\"CDSView\"},{\"attributes\":{\"data\":{\"x\":[1579824000000.0,1579910400000.0,1579996800000.0,1580083200000.0,1580169600000.0,1580256000000.0,1580342400000.0,1580428800000.0,1580515200000.0,1580601600000.0,1580688000000.0,1580774400000.0,1580860800000.0,1580947200000.0,1581033600000.0,1581120000000.0,1581206400000.0,1581292800000.0,1581379200000.0,1581465600000.0,1581552000000.0,1581638400000.0,1581724800000.0,1581811200000.0,1581897600000.0,1581984000000.0,1582070400000.0,1582156800000.0,1582243200000.0,1582329600000.0,1582416000000.0,1582502400000.0,1582588800000.0,1582675200000.0,1582761600000.0,1582848000000.0,1582934400000.0,1583020800000.0,1583107200000.0,1583193600000.0,1583280000000.0,1583366400000.0,1583452800000.0,1583539200000.0,1583625600000.0,1583712000000.0,1583798400000.0,1583884800000.0,1583971200000.0,1584057600000.0,1584144000000.0,1584230400000.0,1584316800000.0,1584403200000.0,1584489600000.0,1584576000000.0,1584662400000.0,1584748800000.0,1584835200000.0,1584921600000.0,1585008000000.0,1585094400000.0,1585180800000.0,1585267200000.0,1585353600000.0,1585440000000.0,1585526400000.0,1585612800000.0,1585699200000.0,1585785600000.0,1585872000000.0,1585958400000.0,1586044800000.0,1586131200000.0,1586217600000.0,1586304000000.0,1586390400000.0,1586476800000.0,1586563200000.0,1586649600000.0,1586736000000.0,1586822400000.0,1586908800000.0,1586995200000.0,1587081600000.0,1587168000000.0,1587254400000.0,1587340800000.0,1587427200000.0,1587513600000.0,1587600000000.0,1587686400000.0,1587772800000.0,1587859200000.0,1587945600000.0,1588032000000.0,1588118400000.0,1588204800000.0,1588291200000.0,1588377600000.0,1588464000000.0,1588550400000.0,1588636800000.0,1588723200000.0,1588809600000.0,1588896000000.0,1588982400000.0,1589068800000.0,1589155200000.0],\"y\":[47.2014003598221,50.62303516855573,54.292704668529225,58.228388922343484,62.449371369354964,66.97633330760293,71.83145522474226,77.03852547446684,82.62305683089929,88.6124114920212,95.03593514461629,101.9251007475962,109.31366273819587,117.23782241659293,125.73640531927735,134.85105145023593,144.6264193020171,155.11040466630544,166.35437530609914,178.41342263930065,191.3466316668778,205.21737046814906,220.09360068161317,236.0482104925702,253.15937175905148,271.5109230258489,291.1927803032745,312.3013776233173,334.9401395317667,359.2199878313418,385.259885058688,413.1874173580814,443.1394196077131,475.26264586144964,509.7144883909902,546.6637488514702,586.2914653489487,628.7917994621073,674.3729875642547,723.2583611067662,775.6874408629895,831.91711049401,892.2228751863296,956.9002115283366,1026.2660152394676,1100.6601538454217,1180.4471319069726,1266.0178769614079,1357.7916549270612,1456.2181243557318,1561.779539598098,1674.9931136768346,1796.413552444669,1926.635772443836,2066.297815783477,2216.083976316822,2376.7281524353098,2549.017442907125,2733.796003378483,2931.969182433121,3144.5079574752026,3372.453692169878,3616.923238751232,3879.1144101971345,4160.311849082626,4461.893321867171,4785.336469455479,5132.226047107261,5504.261689168836,5903.266236670994,6331.1946685954135,6790.143680569526,7282.361957922068,7810.261193433597,8376.427903764954,8983.636102459977,9634.860891615554,10333.29303881345,11082.35461073547,11885.715740061189,12747.312607799962,13671.366729164207,14662.405637477816,15725.28506746334,16865.21274659829,18087.77391110939,19398.958671624176,20805.191362561745,22313.362019064145,23930.86013569403,25665.61087230407,27526.113884473998,29521.4849687703,31661.50072687548,33956.64646742509,36418.16758025423,39058.12463476912,41889.45247240546,44926.02358270621,48182.71607353796,51675.48656847604,55421.44838852935,59438.955401267085,63747.69194817803,68368.76929087446,73324.8290486917,78640.15413449157,84340.7877322141,90454.66089912549]},\"selected\":{\"id\":\"1880\"},\"selection_policy\":{\"id\":\"1881\"}},\"id\":\"1769\",\"type\":\"ColumnDataSource\"},{\"attributes\":{\"axis\":{\"id\":\"1736\"},\"ticker\":null},\"id\":\"1739\",\"type\":\"Grid\"},{\"attributes\":{\"data_source\":{\"id\":\"1754\"},\"glyph\":{\"id\":\"1765\"},\"hover_glyph\":null,\"muted_glyph\":null,\"name\":\"cases\",\"nonselection_glyph\":{\"id\":\"1766\"},\"selection_glyph\":null,\"view\":{\"id\":\"1768\"}},\"id\":\"1767\",\"type\":\"GlyphRenderer\"},{\"attributes\":{\"text\":\"Illinois Cases for counties Cook\"},\"id\":\"1726\",\"type\":\"Title\"},{\"attributes\":{},\"id\":\"1744\",\"type\":\"PanTool\"},{\"attributes\":{\"days\":[1,15]},\"id\":\"1786\",\"type\":\"DaysTicker\"},{\"attributes\":{\"mantissas\":[1,2,5],\"max_interval\":500.0,\"num_minor_ticks\":0},\"id\":\"1780\",\"type\":\"AdaptiveTicker\"},{\"attributes\":{\"fields\":[\"deaths\",\"cases\"]},\"id\":\"1758\",\"type\":\"Stack\"},{\"attributes\":{\"source\":{\"id\":\"1754\"}},\"id\":\"1763\",\"type\":\"CDSView\"},{\"attributes\":{\"months\":[0,2,4,6,8,10]},\"id\":\"1788\",\"type\":\"MonthsTicker\"},{\"attributes\":{},\"id\":\"1793\",\"type\":\"UnionRenderers\"},{\"attributes\":{\"data\":{\"cases\":[1,1,1,1,1,1,2,2,2,2,2,2,2,2,2,2,2,2,2,2,2,2,2,2,2,2,2,2,2,2,2,2,2,2,2,2,3,3,4,4,4,5,6,6,7,11,17,22,27,40,51,76,76,107,179,279,412,548,805,922,1194,1418,1904,2239,2613,3445,3727,4496,5152,5575,6473,7439,8043,8728,9509,10520,11415,12472,13417,14585,15474,16323,17306,18087,19391,20395,21272,22101,23181,24546,25811,27616,29058,30574,31953,33449,34880,36513,38668],\"deaths\":[0,0,0,0,0,0,0,0,0,0,0,0,0,0,0,0,0,0,0,0,0,0,0,0,0,0,0,0,0,0,0,0,0,0,0,0,0,0,0,0,0,0,0,0,0,0,0,0,0,0,0,0,0,1,1,2,3,4,6,9,12,13,18,20,28,40,44,61,95,107,141,167,186,209,249,312,351,398,453,485,543,577,630,722,760,860,877,915,1002,1072,1142,1220,1267,1313,1347,1457,1516,1607,1673],\"x\":{\"__ndarray__\":\"AADAkk39dkIAAID4n/12QgAAQF7y/XZCAAAAxET+dkIAAMApl/52QgAAgI/p/nZCAABA9Tv/dkIAAABbjv92QgAAwMDg/3ZCAACAJjMAd0IAAECMhQB3QgAAAPLXAHdCAADAVyoBd0IAAIC9fAF3QgAAQCPPAXdCAAAAiSECd0IAAMDucwJ3QgAAgFTGAndCAABAuhgDd0IAAAAgawN3QgAAwIW9A3dCAACA6w8Ed0IAAEBRYgR3QgAAALe0BHdCAADAHAcFd0IAAICCWQV3QgAAQOirBXdCAAAATv4Fd0IAAMCzUAZ3QgAAgBmjBndCAABAf/UGd0IAAADlRwd3QgAAwEqaB3dCAACAsOwHd0IAAEAWPwh3QgAAAHyRCHdCAADA4eMId0IAAIBHNgl3QgAAQK2ICXdCAAAAE9sJd0IAAMB4LQp3QgAAgN5/CndCAABARNIKd0IAAACqJAt3QgAAwA93C3dCAACAdckLd0IAAEDbGwx3QgAAAEFuDHdCAADApsAMd0IAAIAMEw13QgAAQHJlDXdCAAAA2LcNd0IAAMA9Cg53QgAAgKNcDndCAABACa8Od0IAAABvAQ93QgAAwNRTD3dCAACAOqYPd0IAAECg+A93QgAAAAZLEHdCAADAa50Qd0IAAIDR7xB3QgAAQDdCEXdCAAAAnZQRd0IAAMAC5xF3QgAAgGg5EndCAABAzosSd0IAAAA03hJ3QgAAwJkwE3dCAACA/4ITd0IAAEBl1RN3QgAAAMsnFHdCAADAMHoUd0IAAICWzBR3QgAAQPweFXdCAAAAYnEVd0IAAMDHwxV3QgAAgC0WFndCAABAk2gWd0IAAAD5uhZ3QgAAwF4NF3dCAACAxF8Xd0IAAEAqshd3QgAAAJAEGHdCAADA9VYYd0IAAIBbqRh3QgAAQMH7GHdCAAAAJ04Zd0IAAMCMoBl3QgAAgPLyGXdCAABAWEUad0IAAAC+lxp3QgAAwCPqGndCAACAiTwbd0IAAEDvjht3QgAAAFXhG3dCAADAujMcd0IAAIAghhx3QgAAQIbYHHdC\",\"dtype\":\"float64\",\"shape\":[99]}},\"selected\":{\"id\":\"1792\"},\"selection_policy\":{\"id\":\"1793\"}},\"id\":\"1754\",\"type\":\"ColumnDataSource\"},{\"attributes\":{\"fill_color\":\"lightblue\",\"x\":{\"field\":\"x\"},\"y1\":{\"expr\":{\"id\":\"1757\"}},\"y2\":{\"expr\":{\"id\":\"1758\"}}},\"id\":\"1765\",\"type\":\"VArea\"}],\"root_ids\":[\"1725\"]},\"title\":\"Bokeh Application\",\"version\":\"2.0.2\"}};\n",
       "  var render_items = [{\"docid\":\"9ce86c1a-5453-4010-9def-f439ceb032eb\",\"root_ids\":[\"1725\"],\"roots\":{\"1725\":\"54ebe841-1bb9-41c2-84c0-8e3b91796b56\"}}];\n",
       "  root.Bokeh.embed.embed_items_notebook(docs_json, render_items);\n",
       "\n",
       "  }\n",
       "  if (root.Bokeh !== undefined) {\n",
       "    embed_document(root);\n",
       "  } else {\n",
       "    var attempts = 0;\n",
       "    var timer = setInterval(function(root) {\n",
       "      if (root.Bokeh !== undefined) {\n",
       "        clearInterval(timer);\n",
       "        embed_document(root);\n",
       "      } else {\n",
       "        attempts++;\n",
       "        if (attempts > 100) {\n",
       "          clearInterval(timer);\n",
       "          console.log(\"Bokeh: ERROR: Unable to run BokehJS code because BokehJS library is missing\");\n",
       "        }\n",
       "      }\n",
       "    }, 10, root)\n",
       "  }\n",
       "})(window);"
      ],
      "application/vnd.bokehjs_exec.v0+json": ""
     },
     "metadata": {
      "application/vnd.bokehjs_exec.v0+json": {
       "id": "1725"
      }
     },
     "output_type": "display_data"
    }
   ],
   "source": [
    "plot_state_counties_curve(df, 'Illinois', ['Cook'])"
   ]
  },
  {
   "cell_type": "code",
   "execution_count": 7,
   "metadata": {},
   "outputs": [
    {
     "name": "stdout",
     "output_type": "stream",
     "text": [
      "y ≈ exp(4.109188386037101) * exp(0.07005494862578265 * x)\n",
      "y = 60.89727243054665 * exp(0.07005494862578265 * x)\n"
     ]
    },
    {
     "data": {
      "text/html": [
       "\n",
       "\n",
       "\n",
       "\n",
       "\n",
       "\n",
       "  <div class=\"bk-root\" id=\"4f487ea0-bf77-40a8-9318-dfbef64a44b7\" data-root-id=\"2008\"></div>\n"
      ]
     },
     "metadata": {},
     "output_type": "display_data"
    },
    {
     "data": {
      "application/javascript": [
       "(function(root) {\n",
       "  function embed_document(root) {\n",
       "    \n",
       "  var docs_json = {\"c763fdd8-19fa-461e-a9f2-f668ae00d945\":{\"roots\":{\"references\":[{\"attributes\":{\"below\":[{\"id\":\"2019\"}],\"center\":[{\"id\":\"2022\"},{\"id\":\"2026\"},{\"id\":\"2077\"}],\"left\":[{\"id\":\"2023\"}],\"plot_width\":880,\"renderers\":[{\"id\":\"2045\"},{\"id\":\"2050\"},{\"id\":\"2055\"}],\"title\":{\"id\":\"2009\"},\"toolbar\":{\"id\":\"2032\"},\"x_range\":{\"id\":\"2011\"},\"x_scale\":{\"id\":\"2015\"},\"y_range\":{\"id\":\"2013\"},\"y_scale\":{\"id\":\"2017\"}},\"id\":\"2008\",\"subtype\":\"Figure\",\"type\":\"Plot\"},{\"attributes\":{\"axis_label\":\"Date\",\"formatter\":{\"id\":\"2079\"},\"ticker\":{\"id\":\"2020\"}},\"id\":\"2019\",\"type\":\"DatetimeAxis\"},{\"attributes\":{\"data_source\":{\"id\":\"2037\"},\"glyph\":{\"id\":\"2043\"},\"hover_glyph\":null,\"muted_glyph\":null,\"name\":\"deaths\",\"nonselection_glyph\":{\"id\":\"2044\"},\"selection_glyph\":null,\"view\":{\"id\":\"2046\"}},\"id\":\"2045\",\"type\":\"GlyphRenderer\"},{\"attributes\":{\"num_minor_ticks\":5,\"tickers\":[{\"id\":\"2063\"},{\"id\":\"2064\"},{\"id\":\"2065\"},{\"id\":\"2066\"},{\"id\":\"2067\"},{\"id\":\"2068\"},{\"id\":\"2069\"},{\"id\":\"2070\"},{\"id\":\"2071\"},{\"id\":\"2072\"},{\"id\":\"2073\"},{\"id\":\"2074\"}]},\"id\":\"2020\",\"type\":\"DatetimeTicker\"},{\"attributes\":{\"code\":\"\\n        let date = new Date(tick);\\n        return `${date.getDate()}-${date.getMonth()}-${date.getFullYear()}`\\n    \"},\"id\":\"2079\",\"type\":\"FuncTickFormatter\"},{\"attributes\":{\"fill_color\":\"red\",\"x\":{\"field\":\"x\"},\"y1\":{\"expr\":{\"id\":\"2038\"}},\"y2\":{\"expr\":{\"id\":\"2039\"}}},\"id\":\"2043\",\"type\":\"VArea\"},{\"attributes\":{\"base\":24,\"mantissas\":[1,2,4,6,8,12],\"max_interval\":43200000.0,\"min_interval\":3600000.0,\"num_minor_ticks\":0},\"id\":\"2065\",\"type\":\"AdaptiveTicker\"},{\"attributes\":{\"overlay\":{\"id\":\"2031\"}},\"id\":\"2029\",\"type\":\"BoxZoomTool\"},{\"attributes\":{\"fill_alpha\":0.1,\"fill_color\":\"red\",\"x\":{\"field\":\"x\"},\"y1\":{\"expr\":{\"id\":\"2038\"}},\"y2\":{\"expr\":{\"id\":\"2039\"}}},\"id\":\"2044\",\"type\":\"VArea\"},{\"attributes\":{\"axis\":{\"id\":\"2019\"},\"ticker\":null},\"id\":\"2022\",\"type\":\"Grid\"},{\"attributes\":{},\"id\":\"2030\",\"type\":\"ResetTool\"},{\"attributes\":{\"days\":[1,2,3,4,5,6,7,8,9,10,11,12,13,14,15,16,17,18,19,20,21,22,23,24,25,26,27,28,29,30,31]},\"id\":\"2066\",\"type\":\"DaysTicker\"},{\"attributes\":{\"mantissas\":[1,2,5],\"max_interval\":500.0,\"num_minor_ticks\":0},\"id\":\"2063\",\"type\":\"AdaptiveTicker\"},{\"attributes\":{\"fields\":[\"deaths\",\"cases\"]},\"id\":\"2041\",\"type\":\"Stack\"},{\"attributes\":{\"fill_color\":\"lightblue\",\"x\":{\"field\":\"x\"},\"y1\":{\"expr\":{\"id\":\"2040\"}},\"y2\":{\"expr\":{\"id\":\"2041\"}}},\"id\":\"2048\",\"type\":\"VArea\"},{\"attributes\":{\"base\":60,\"mantissas\":[1,2,5,10,15,20,30],\"max_interval\":1800000.0,\"min_interval\":1000.0,\"num_minor_ticks\":0},\"id\":\"2064\",\"type\":\"AdaptiveTicker\"},{\"attributes\":{},\"id\":\"2059\",\"type\":\"BasicTickFormatter\"},{\"attributes\":{\"data\":{\"x\":[1579824000000.0,1579910400000.0,1579996800000.0,1580083200000.0,1580169600000.0,1580256000000.0,1580342400000.0,1580428800000.0,1580515200000.0,1580601600000.0,1580688000000.0,1580774400000.0,1580860800000.0,1580947200000.0,1581033600000.0,1581120000000.0,1581206400000.0,1581292800000.0,1581379200000.0,1581465600000.0,1581552000000.0,1581638400000.0,1581724800000.0,1581811200000.0,1581897600000.0,1581984000000.0,1582070400000.0,1582156800000.0,1582243200000.0,1582329600000.0,1582416000000.0,1582502400000.0,1582588800000.0,1582675200000.0,1582761600000.0,1582848000000.0,1582934400000.0,1583020800000.0,1583107200000.0,1583193600000.0,1583280000000.0,1583366400000.0,1583452800000.0,1583539200000.0,1583625600000.0,1583712000000.0,1583798400000.0,1583884800000.0,1583971200000.0,1584057600000.0,1584144000000.0,1584230400000.0,1584316800000.0,1584403200000.0,1584489600000.0,1584576000000.0,1584662400000.0,1584748800000.0,1584835200000.0,1584921600000.0,1585008000000.0,1585094400000.0,1585180800000.0,1585267200000.0,1585353600000.0,1585440000000.0,1585526400000.0,1585612800000.0,1585699200000.0,1585785600000.0,1585872000000.0,1585958400000.0,1586044800000.0,1586131200000.0,1586217600000.0,1586304000000.0,1586390400000.0,1586476800000.0,1586563200000.0,1586649600000.0,1586736000000.0,1586822400000.0,1586908800000.0,1586995200000.0,1587081600000.0,1587168000000.0,1587254400000.0,1587340800000.0,1587427200000.0,1587513600000.0,1587600000000.0,1587686400000.0,1587772800000.0,1587859200000.0,1587945600000.0,1588032000000.0,1588118400000.0,1588204800000.0,1588291200000.0,1588377600000.0,1588464000000.0,1588550400000.0,1588636800000.0,1588723200000.0,1588809600000.0,1588896000000.0,1588982400000.0,1589068800000.0,1589155200000.0],\"y\":[60.89727243054665,65.31641184629534,70.05623546342753,75.14001440949592,80.59270853065931,86.44108893712124,92.71386944133734,99.44184753431469,106.65805559215426,114.39792305521614,122.69945037615913,131.60339559088766,141.15347442841428,151.3965749421179,162.3829877161729,174.16665277739529,186.80542442476928,200.36135527688856,214.9010009319013,230.49574673574855,247.22215826303128,265.16235723126306,284.4044246941356,305.04283349335714,327.17891209227275,350.92134206855343,376.3866917084938,403.69998832271006,432.9953320931365,464.41655446512823,498.11792431718067,534.2649053753471,573.0349685910379,614.618463470732,659.2195526355727,707.0572141992587,758.3663168856064,813.3987731642932,872.4247760663362,935.7341257517022,1003.6376523421026,1076.4687420046623,1154.5849737790763,1238.3698751845936,1328.2348052263364,1424.620974045955,1528.0016091325085,1638.884278729017,1757.8133838419315,1885.3728310885365,2022.1888995051866,2168.9333153915422,2326.3265502873865,2495.1413582741056,2676.2065699679365,2870.4111618323595,3078.708620788758,3302.121625554277,3541.7470676908824,3798.7614370174483,4074.4265978256913,4370.095984259407,4687.221245274521,5027.3593718047505,5392.180341125078,5783.475315944647,6203.165438484196,6653.311262714328,7136.122871064089,7653.970725269899,8209.397304639326,8805.129588870084,9444.0924467112,10129.422996200667,10864.486006984176,11652.890420335707,12498.50706798831,13405.487676769335,14378.285252347261,15421.675942168262,16540.78248492295,17741.0993616733,19028.519772124353,20409.364568486155,21890.413288982567,23478.937443372255,25182.73621390402,27010.17474698752,28970.225223579968,31072.510909932353,33327.35340497133,35745.82331628739,38339.79461353317,41122.002926091154,44106.108071235016,47306.76111977936,50739.67632849011,54421.70829242236,58370.934695981014,62606.74506898732,67149.93598351693,72022.81315889781,77249.30097617378,82855.05993971649,88867.61266268806,95316.47899490467,102233.32095654031,109652.09818925116,117609.23468793949]},\"selected\":{\"id\":\"2184\"},\"selection_policy\":{\"id\":\"2185\"}},\"id\":\"2052\",\"type\":\"ColumnDataSource\"},{\"attributes\":{\"days\":[1,4,7,10,13,16,19,22,25,28]},\"id\":\"2067\",\"type\":\"DaysTicker\"},{\"attributes\":{\"axis\":{\"id\":\"2023\"},\"dimension\":1,\"ticker\":null},\"id\":\"2026\",\"type\":\"Grid\"},{\"attributes\":{\"source\":{\"id\":\"2037\"}},\"id\":\"2046\",\"type\":\"CDSView\"},{\"attributes\":{\"days\":[1,8,15,22]},\"id\":\"2068\",\"type\":\"DaysTicker\"},{\"attributes\":{\"fill_alpha\":0.1,\"fill_color\":\"lightblue\",\"x\":{\"field\":\"x\"},\"y1\":{\"expr\":{\"id\":\"2040\"}},\"y2\":{\"expr\":{\"id\":\"2041\"}}},\"id\":\"2049\",\"type\":\"VArea\"},{\"attributes\":{},\"id\":\"2015\",\"type\":\"LinearScale\"},{\"attributes\":{\"data_source\":{\"id\":\"2037\"},\"glyph\":{\"id\":\"2048\"},\"hover_glyph\":null,\"muted_glyph\":null,\"name\":\"cases\",\"nonselection_glyph\":{\"id\":\"2049\"},\"selection_glyph\":null,\"view\":{\"id\":\"2051\"}},\"id\":\"2050\",\"type\":\"GlyphRenderer\"},{\"attributes\":{\"days\":[1,15]},\"id\":\"2069\",\"type\":\"DaysTicker\"},{\"attributes\":{\"end\":1588464000000.0,\"start\":1579824000000.0},\"id\":\"2011\",\"type\":\"Range1d\"},{\"attributes\":{\"months\":[0,1,2,3,4,5,6,7,8,9,10,11]},\"id\":\"2070\",\"type\":\"MonthsTicker\"},{\"attributes\":{\"fields\":[\"deaths\"]},\"id\":\"2039\",\"type\":\"Stack\"},{\"attributes\":{\"data_source\":{\"id\":\"2052\"},\"glyph\":{\"id\":\"2053\"},\"hover_glyph\":null,\"muted_glyph\":null,\"nonselection_glyph\":{\"id\":\"2054\"},\"selection_glyph\":null,\"view\":{\"id\":\"2056\"}},\"id\":\"2055\",\"type\":\"GlyphRenderer\"},{\"attributes\":{},\"id\":\"2024\",\"type\":\"BasicTicker\"},{\"attributes\":{\"months\":[0,2,4,6,8,10]},\"id\":\"2071\",\"type\":\"MonthsTicker\"},{\"attributes\":{\"label\":{\"value\":\"Projected # of Cases\"},\"renderers\":[{\"id\":\"2055\"}]},\"id\":\"2078\",\"type\":\"LegendItem\"},{\"attributes\":{\"data\":{\"cases\":[1,1,1,1,1,1,2,2,2,2,2,2,2,2,2,2,2,2,2,2,2,2,2,2,2,2,2,2,2,2,2,2,2,2,2,2,3,3,4,4,4,5,6,6,7,11,19,24,31,44,57,82,87,146,252,368,511,665,957,1107,1400,1707,2322,2776,3259,4263,4652,5563,6450,7087,8218,9586,10384,11265,12415,13748,14948,16248,17496,19055,20168,21270,22515,23624,25264,26600,27627,28715,30072,31825,33472,35886,37711,39536,41326,43327,45280,47521,50396],\"deaths\":[0,0,0,0,0,0,0,0,0,0,0,0,0,0,0,0,0,0,0,0,0,0,0,0,0,0,0,0,0,0,0,0,0,0,0,0,0,0,0,0,0,0,0,0,0,0,0,0,0,0,0,0,0,1,1,3,4,5,7,10,14,17,25,33,46,63,71,96,135,152,192,228,259,287,350,425,490,558,627,668,740,800,869,985,1040,1163,1190,1237,1351,1441,1550,1649,1709,1763,1803,1943,2023,2147,2249],\"x\":{\"__ndarray__\":\"AADAkk39dkIAAID4n/12QgAAQF7y/XZCAAAAxET+dkIAAMApl/52QgAAgI/p/nZCAABA9Tv/dkIAAABbjv92QgAAwMDg/3ZCAACAJjMAd0IAAECMhQB3QgAAAPLXAHdCAADAVyoBd0IAAIC9fAF3QgAAQCPPAXdCAAAAiSECd0IAAMDucwJ3QgAAgFTGAndCAABAuhgDd0IAAAAgawN3QgAAwIW9A3dCAACA6w8Ed0IAAEBRYgR3QgAAALe0BHdCAADAHAcFd0IAAICCWQV3QgAAQOirBXdCAAAATv4Fd0IAAMCzUAZ3QgAAgBmjBndCAABAf/UGd0IAAADlRwd3QgAAwEqaB3dCAACAsOwHd0IAAEAWPwh3QgAAAHyRCHdCAADA4eMId0IAAIBHNgl3QgAAQK2ICXdCAAAAE9sJd0IAAMB4LQp3QgAAgN5/CndCAABARNIKd0IAAACqJAt3QgAAwA93C3dCAACAdckLd0IAAEDbGwx3QgAAAEFuDHdCAADApsAMd0IAAIAMEw13QgAAQHJlDXdCAAAA2LcNd0IAAMA9Cg53QgAAgKNcDndCAABACa8Od0IAAABvAQ93QgAAwNRTD3dCAACAOqYPd0IAAECg+A93QgAAAAZLEHdCAADAa50Qd0IAAIDR7xB3QgAAQDdCEXdCAAAAnZQRd0IAAMAC5xF3QgAAgGg5EndCAABAzosSd0IAAAA03hJ3QgAAwJkwE3dCAACA/4ITd0IAAEBl1RN3QgAAAMsnFHdCAADAMHoUd0IAAICWzBR3QgAAQPweFXdCAAAAYnEVd0IAAMDHwxV3QgAAgC0WFndCAABAk2gWd0IAAAD5uhZ3QgAAwF4NF3dCAACAxF8Xd0IAAEAqshd3QgAAAJAEGHdCAADA9VYYd0IAAIBbqRh3QgAAQMH7GHdCAAAAJ04Zd0IAAMCMoBl3QgAAgPLyGXdCAABAWEUad0IAAAC+lxp3QgAAwCPqGndCAACAiTwbd0IAAEDvjht3QgAAAFXhG3dCAADAujMcd0IAAIAghhx3QgAAQIbYHHdC\",\"dtype\":\"float64\",\"shape\":[99]}},\"selected\":{\"id\":\"2075\"},\"selection_policy\":{\"id\":\"2076\"}},\"id\":\"2037\",\"type\":\"ColumnDataSource\"},{\"attributes\":{\"months\":[0,4,8]},\"id\":\"2072\",\"type\":\"MonthsTicker\"},{\"attributes\":{\"source\":{\"id\":\"2037\"}},\"id\":\"2051\",\"type\":\"CDSView\"},{\"attributes\":{\"months\":[0,6]},\"id\":\"2073\",\"type\":\"MonthsTicker\"},{\"attributes\":{},\"id\":\"2076\",\"type\":\"UnionRenderers\"},{\"attributes\":{\"line_alpha\":0.1,\"line_color\":\"gray\",\"line_dash\":[6],\"x\":{\"field\":\"x\"},\"y\":{\"field\":\"y\"}},\"id\":\"2054\",\"type\":\"Line\"},{\"attributes\":{},\"id\":\"2074\",\"type\":\"YearsTicker\"},{\"attributes\":{},\"id\":\"2017\",\"type\":\"LinearScale\"},{\"attributes\":{\"bottom_units\":\"screen\",\"fill_alpha\":0.5,\"fill_color\":\"lightgrey\",\"left_units\":\"screen\",\"level\":\"overlay\",\"line_alpha\":1.0,\"line_color\":\"black\",\"line_dash\":[4,4],\"line_width\":2,\"render_mode\":\"css\",\"right_units\":\"screen\",\"top_units\":\"screen\"},\"id\":\"2031\",\"type\":\"BoxAnnotation\"},{\"attributes\":{},\"id\":\"2075\",\"type\":\"Selection\"},{\"attributes\":{\"active_drag\":\"auto\",\"active_inspect\":\"auto\",\"active_multi\":null,\"active_scroll\":\"auto\",\"active_tap\":\"auto\",\"tools\":[{\"id\":\"2027\"},{\"id\":\"2028\"},{\"id\":\"2029\"},{\"id\":\"2030\"}]},\"id\":\"2032\",\"type\":\"Toolbar\"},{\"attributes\":{\"items\":[{\"id\":\"2078\"}],\"location\":\"top_left\"},\"id\":\"2077\",\"type\":\"Legend\"},{\"attributes\":{},\"id\":\"2027\",\"type\":\"PanTool\"},{\"attributes\":{\"source\":{\"id\":\"2052\"}},\"id\":\"2056\",\"type\":\"CDSView\"},{\"attributes\":{},\"id\":\"2184\",\"type\":\"Selection\"},{\"attributes\":{\"fields\":[]},\"id\":\"2038\",\"type\":\"Stack\"},{\"attributes\":{},\"id\":\"2185\",\"type\":\"UnionRenderers\"},{\"attributes\":{\"text\":\"Cases for the Chicago Metropolitan Area\"},\"id\":\"2009\",\"type\":\"Title\"},{\"attributes\":{\"line_alpha\":0.75,\"line_color\":\"gray\",\"line_dash\":[6],\"x\":{\"field\":\"x\"},\"y\":{\"field\":\"y\"}},\"id\":\"2053\",\"type\":\"Line\"},{\"attributes\":{\"axis_label\":\"# of Cases & Deaths\",\"formatter\":{\"id\":\"2059\"},\"ticker\":{\"id\":\"2024\"}},\"id\":\"2023\",\"type\":\"LinearAxis\"},{\"attributes\":{\"fields\":[\"deaths\"]},\"id\":\"2040\",\"type\":\"Stack\"},{\"attributes\":{},\"id\":\"2028\",\"type\":\"WheelZoomTool\"},{\"attributes\":{\"end\":60475},\"id\":\"2013\",\"type\":\"Range1d\"}],\"root_ids\":[\"2008\"]},\"title\":\"Bokeh Application\",\"version\":\"2.0.2\"}};\n",
       "  var render_items = [{\"docid\":\"c763fdd8-19fa-461e-a9f2-f668ae00d945\",\"root_ids\":[\"2008\"],\"roots\":{\"2008\":\"4f487ea0-bf77-40a8-9318-dfbef64a44b7\"}}];\n",
       "  root.Bokeh.embed.embed_items_notebook(docs_json, render_items);\n",
       "\n",
       "  }\n",
       "  if (root.Bokeh !== undefined) {\n",
       "    embed_document(root);\n",
       "  } else {\n",
       "    var attempts = 0;\n",
       "    var timer = setInterval(function(root) {\n",
       "      if (root.Bokeh !== undefined) {\n",
       "        clearInterval(timer);\n",
       "        embed_document(root);\n",
       "      } else {\n",
       "        attempts++;\n",
       "        if (attempts > 100) {\n",
       "          clearInterval(timer);\n",
       "          console.log(\"Bokeh: ERROR: Unable to run BokehJS code because BokehJS library is missing\");\n",
       "        }\n",
       "      }\n",
       "    }, 10, root)\n",
       "  }\n",
       "})(window);"
      ],
      "application/vnd.bokehjs_exec.v0+json": ""
     },
     "metadata": {
      "application/vnd.bokehjs_exec.v0+json": {
       "id": "2008"
      }
     },
     "output_type": "display_data"
    }
   ],
   "source": [
    "# https://en.wikipedia.org/wiki/Chicago_metropolitan_area\n",
    "chicago_metropolitan = dict(\n",
    "    Illinois=[\n",
    "        \"Cook\",\n",
    "        \"DeKalb\",\n",
    "        \"DuPage\",\n",
    "        \"Grundy\",\n",
    "        \"Kankakee\",\n",
    "        \"Kane\",\n",
    "        \"Kendall\",\n",
    "        \"McHenry\",\n",
    "        \"Will\",\n",
    "    ],\n",
    "    Indiana=[\"Jasper\", \"Lake\", \"Newton\", \"Porter\",],\n",
    "    Wisconsin=[\"Kenosha\"],\n",
    ")\n",
    "\n",
    "plot_states_and_counties_curve(\n",
    "    df, chicago_metropolitan, \"Cases for the Chicago Metropolitan Area\"\n",
    ")"
   ]
  },
  {
   "cell_type": "code",
   "execution_count": 8,
   "metadata": {},
   "outputs": [
    {
     "name": "stdout",
     "output_type": "stream",
     "text": [
      "y ≈ exp(5.72016877844998) * exp(0.06341322888683384 * x)\n",
      "y = 304.9563886802269 * exp(0.06341322888683384 * x)\n"
     ]
    },
    {
     "data": {
      "text/html": [
       "\n",
       "\n",
       "\n",
       "\n",
       "\n",
       "\n",
       "  <div class=\"bk-root\" id=\"5dbe8a43-c55a-4f38-8985-8f72213cd953\" data-root-id=\"2312\"></div>\n"
      ]
     },
     "metadata": {},
     "output_type": "display_data"
    },
    {
     "data": {
      "application/javascript": [
       "(function(root) {\n",
       "  function embed_document(root) {\n",
       "    \n",
       "  var docs_json = {\"95b9103e-cf13-4e40-b90a-0276b4fe4447\":{\"roots\":{\"references\":[{\"attributes\":{\"below\":[{\"id\":\"2323\"}],\"center\":[{\"id\":\"2326\"},{\"id\":\"2330\"},{\"id\":\"2381\"}],\"left\":[{\"id\":\"2327\"}],\"plot_width\":880,\"renderers\":[{\"id\":\"2349\"},{\"id\":\"2354\"},{\"id\":\"2359\"}],\"title\":{\"id\":\"2313\"},\"toolbar\":{\"id\":\"2336\"},\"x_range\":{\"id\":\"2315\"},\"x_scale\":{\"id\":\"2319\"},\"y_range\":{\"id\":\"2317\"},\"y_scale\":{\"id\":\"2321\"}},\"id\":\"2312\",\"subtype\":\"Figure\",\"type\":\"Plot\"},{\"attributes\":{\"days\":[1,15]},\"id\":\"2373\",\"type\":\"DaysTicker\"},{\"attributes\":{\"fields\":[\"deaths\"]},\"id\":\"2343\",\"type\":\"Stack\"},{\"attributes\":{\"code\":\"\\n        let date = new Date(tick);\\n        return `${date.getDate()}-${date.getMonth()}-${date.getFullYear()}`\\n    \"},\"id\":\"2383\",\"type\":\"FuncTickFormatter\"},{\"attributes\":{\"months\":[0,1,2,3,4,5,6,7,8,9,10,11]},\"id\":\"2374\",\"type\":\"MonthsTicker\"},{\"attributes\":{\"fill_alpha\":0.1,\"fill_color\":\"lightblue\",\"x\":{\"field\":\"x\"},\"y1\":{\"expr\":{\"id\":\"2344\"}},\"y2\":{\"expr\":{\"id\":\"2345\"}}},\"id\":\"2353\",\"type\":\"VArea\"},{\"attributes\":{},\"id\":\"2321\",\"type\":\"LinearScale\"},{\"attributes\":{\"data_source\":{\"id\":\"2341\"},\"glyph\":{\"id\":\"2352\"},\"hover_glyph\":null,\"muted_glyph\":null,\"name\":\"cases\",\"nonselection_glyph\":{\"id\":\"2353\"},\"selection_glyph\":null,\"view\":{\"id\":\"2355\"}},\"id\":\"2354\",\"type\":\"GlyphRenderer\"},{\"attributes\":{\"months\":[0,2,4,6,8,10]},\"id\":\"2375\",\"type\":\"MonthsTicker\"},{\"attributes\":{},\"id\":\"2319\",\"type\":\"LinearScale\"},{\"attributes\":{\"months\":[0,4,8]},\"id\":\"2376\",\"type\":\"MonthsTicker\"},{\"attributes\":{\"axis_label\":\"# of Cases & Deaths\",\"formatter\":{\"id\":\"2363\"},\"ticker\":{\"id\":\"2328\"}},\"id\":\"2327\",\"type\":\"LinearAxis\"},{\"attributes\":{\"source\":{\"id\":\"2341\"}},\"id\":\"2355\",\"type\":\"CDSView\"},{\"attributes\":{\"data\":{\"x\":[1583366400000.0,1583452800000.0,1583539200000.0,1583625600000.0,1583712000000.0,1583798400000.0,1583884800000.0,1583971200000.0,1584057600000.0,1584144000000.0,1584230400000.0,1584316800000.0,1584403200000.0,1584489600000.0,1584576000000.0,1584662400000.0,1584748800000.0,1584835200000.0,1584921600000.0,1585008000000.0,1585094400000.0,1585180800000.0,1585267200000.0,1585353600000.0,1585440000000.0,1585526400000.0,1585612800000.0,1585699200000.0,1585785600000.0,1585872000000.0,1585958400000.0,1586044800000.0,1586131200000.0,1586217600000.0,1586304000000.0,1586390400000.0,1586476800000.0,1586563200000.0,1586649600000.0,1586736000000.0,1586822400000.0,1586908800000.0,1586995200000.0,1587081600000.0,1587168000000.0,1587254400000.0,1587340800000.0,1587427200000.0,1587513600000.0,1587600000000.0,1587686400000.0,1587772800000.0,1587859200000.0,1587945600000.0,1588032000000.0,1588118400000.0,1588204800000.0,1588291200000.0,1588377600000.0,1588464000000.0,1588550400000.0,1588636800000.0,1588723200000.0,1588809600000.0,1588896000000.0,1588982400000.0,1589068800000.0,1589155200000.0],\"y\":[304.9563886802269,324.92097773580855,346.1925891426294,368.85678977220795,393.0047483050101,418.7336019642434,446.14684725862423,475.35475630591327,506.47482041191586,539.632222689283,574.9603416172607,612.6012875680013,652.7064744576581,695.4372288217806,740.9654387650654,789.4742453959213,841.1587795272011,896.2269466065421,954.9002630337656,1017.4147472294925,1084.0218690393733,1154.9895612929963,1230.60329758655,1311.167240624718,1397.005465741104,1488.46326451891,1585.908533755784,1689.7332553600745,1800.355073131493,1918.2189727689313,2043.7990718633916,2177.600527076445,2320.1615661759943,2472.0556531033876,2633.893794781043,2806.326998939915,2990.0488928536333,3185.7985135133763,3394.363280467221,3616.5821632824404,3853.3490563721684,4105.616374761919,4374.39888526029,4660.77778844501,4965.905067884492,5291.008124090026,5637.394711839024,6006.458200730192,6399.6831801315875,6818.651431068017,7265.04828907014,7740.669423580399,8247.428061186569,8787.362681738881,9362.645218309155,9975.589793976831,10628.66203058649,11324.488966922068,12065.869626194437,12855.786275351084,13697.416421499296,14594.145593699586,15549.580961545124,16567.565845309175,17652.19517602873,18807.831967713963,20039.124867944276,21351.026857449764]},\"selected\":{\"id\":\"2509\"},\"selection_policy\":{\"id\":\"2510\"}},\"id\":\"2356\",\"type\":\"ColumnDataSource\"},{\"attributes\":{\"months\":[0,6]},\"id\":\"2377\",\"type\":\"MonthsTicker\"},{\"attributes\":{\"axis\":{\"id\":\"2327\"},\"dimension\":1,\"ticker\":null},\"id\":\"2330\",\"type\":\"Grid\"},{\"attributes\":{},\"id\":\"2380\",\"type\":\"UnionRenderers\"},{\"attributes\":{},\"id\":\"2328\",\"type\":\"BasicTicker\"},{\"attributes\":{\"fill_color\":\"lightblue\",\"x\":{\"field\":\"x\"},\"y1\":{\"expr\":{\"id\":\"2344\"}},\"y2\":{\"expr\":{\"id\":\"2345\"}}},\"id\":\"2352\",\"type\":\"VArea\"},{\"attributes\":{\"line_alpha\":0.1,\"line_color\":\"gray\",\"line_dash\":[6],\"x\":{\"field\":\"x\"},\"y\":{\"field\":\"y\"}},\"id\":\"2358\",\"type\":\"Line\"},{\"attributes\":{},\"id\":\"2378\",\"type\":\"YearsTicker\"},{\"attributes\":{\"source\":{\"id\":\"2356\"}},\"id\":\"2360\",\"type\":\"CDSView\"},{\"attributes\":{\"data_source\":{\"id\":\"2356\"},\"glyph\":{\"id\":\"2357\"},\"hover_glyph\":null,\"muted_glyph\":null,\"nonselection_glyph\":{\"id\":\"2358\"},\"selection_glyph\":null,\"view\":{\"id\":\"2360\"}},\"id\":\"2359\",\"type\":\"GlyphRenderer\"},{\"attributes\":{},\"id\":\"2363\",\"type\":\"BasicTickFormatter\"},{\"attributes\":{\"source\":{\"id\":\"2341\"}},\"id\":\"2350\",\"type\":\"CDSView\"},{\"attributes\":{},\"id\":\"2379\",\"type\":\"Selection\"},{\"attributes\":{\"items\":[{\"id\":\"2382\"}],\"location\":\"top_left\"},\"id\":\"2381\",\"type\":\"Legend\"},{\"attributes\":{\"label\":{\"value\":\"Projected # of Cases\"},\"renderers\":[{\"id\":\"2359\"}]},\"id\":\"2382\",\"type\":\"LegendItem\"},{\"attributes\":{\"num_minor_ticks\":5,\"tickers\":[{\"id\":\"2367\"},{\"id\":\"2368\"},{\"id\":\"2369\"},{\"id\":\"2370\"},{\"id\":\"2371\"},{\"id\":\"2372\"},{\"id\":\"2373\"},{\"id\":\"2374\"},{\"id\":\"2375\"},{\"id\":\"2376\"},{\"id\":\"2377\"},{\"id\":\"2378\"}]},\"id\":\"2324\",\"type\":\"DatetimeTicker\"},{\"attributes\":{\"fill_color\":\"red\",\"x\":{\"field\":\"x\"},\"y1\":{\"expr\":{\"id\":\"2342\"}},\"y2\":{\"expr\":{\"id\":\"2343\"}}},\"id\":\"2347\",\"type\":\"VArea\"},{\"attributes\":{},\"id\":\"2510\",\"type\":\"UnionRenderers\"},{\"attributes\":{\"end\":1588464000000.0,\"start\":1583366400000.0},\"id\":\"2315\",\"type\":\"Range1d\"},{\"attributes\":{\"data_source\":{\"id\":\"2341\"},\"glyph\":{\"id\":\"2347\"},\"hover_glyph\":null,\"muted_glyph\":null,\"name\":\"deaths\",\"nonselection_glyph\":{\"id\":\"2348\"},\"selection_glyph\":null,\"view\":{\"id\":\"2350\"}},\"id\":\"2349\",\"type\":\"GlyphRenderer\"},{\"attributes\":{},\"id\":\"2334\",\"type\":\"ResetTool\"},{\"attributes\":{\"text\":\"Cases for the Denver Metropolitan Area\"},\"id\":\"2313\",\"type\":\"Title\"},{\"attributes\":{\"overlay\":{\"id\":\"2335\"}},\"id\":\"2333\",\"type\":\"BoxZoomTool\"},{\"attributes\":{\"bottom_units\":\"screen\",\"fill_alpha\":0.5,\"fill_color\":\"lightgrey\",\"left_units\":\"screen\",\"level\":\"overlay\",\"line_alpha\":1.0,\"line_color\":\"black\",\"line_dash\":[4,4],\"line_width\":2,\"render_mode\":\"css\",\"right_units\":\"screen\",\"top_units\":\"screen\"},\"id\":\"2335\",\"type\":\"BoxAnnotation\"},{\"attributes\":{\"axis_label\":\"Date\",\"formatter\":{\"id\":\"2383\"},\"ticker\":{\"id\":\"2324\"}},\"id\":\"2323\",\"type\":\"DatetimeAxis\"},{\"attributes\":{\"mantissas\":[1,2,5],\"max_interval\":500.0,\"num_minor_ticks\":0},\"id\":\"2367\",\"type\":\"AdaptiveTicker\"},{\"attributes\":{\"base\":24,\"mantissas\":[1,2,4,6,8,12],\"max_interval\":43200000.0,\"min_interval\":3600000.0,\"num_minor_ticks\":0},\"id\":\"2369\",\"type\":\"AdaptiveTicker\"},{\"attributes\":{\"fields\":[\"deaths\",\"cases\"]},\"id\":\"2345\",\"type\":\"Stack\"},{\"attributes\":{},\"id\":\"2332\",\"type\":\"WheelZoomTool\"},{\"attributes\":{\"base\":60,\"mantissas\":[1,2,5,10,15,20,30],\"max_interval\":1800000.0,\"min_interval\":1000.0,\"num_minor_ticks\":0},\"id\":\"2368\",\"type\":\"AdaptiveTicker\"},{\"attributes\":{\"end\":11283},\"id\":\"2317\",\"type\":\"Range1d\"},{\"attributes\":{\"fields\":[]},\"id\":\"2342\",\"type\":\"Stack\"},{\"attributes\":{\"fields\":[\"deaths\"]},\"id\":\"2344\",\"type\":\"Stack\"},{\"attributes\":{\"days\":[1,2,3,4,5,6,7,8,9,10,11,12,13,14,15,16,17,18,19,20,21,22,23,24,25,26,27,28,29,30,31]},\"id\":\"2370\",\"type\":\"DaysTicker\"},{\"attributes\":{\"axis\":{\"id\":\"2323\"},\"ticker\":null},\"id\":\"2326\",\"type\":\"Grid\"},{\"attributes\":{},\"id\":\"2331\",\"type\":\"PanTool\"},{\"attributes\":{},\"id\":\"2509\",\"type\":\"Selection\"},{\"attributes\":{\"active_drag\":\"auto\",\"active_inspect\":\"auto\",\"active_multi\":null,\"active_scroll\":\"auto\",\"active_tap\":\"auto\",\"tools\":[{\"id\":\"2331\"},{\"id\":\"2332\"},{\"id\":\"2333\"},{\"id\":\"2334\"}]},\"id\":\"2336\",\"type\":\"Toolbar\"},{\"attributes\":{\"fill_alpha\":0.1,\"fill_color\":\"red\",\"x\":{\"field\":\"x\"},\"y1\":{\"expr\":{\"id\":\"2342\"}},\"y2\":{\"expr\":{\"id\":\"2343\"}}},\"id\":\"2348\",\"type\":\"VArea\"},{\"attributes\":{\"days\":[1,4,7,10,13,16,19,22,25,28]},\"id\":\"2371\",\"type\":\"DaysTicker\"},{\"attributes\":{\"days\":[1,8,15,22]},\"id\":\"2372\",\"type\":\"DaysTicker\"},{\"attributes\":{\"data\":{\"cases\":[2,6,6,6,8,11,16,22,39,53,70,77,97,115,145,178,230,280,343,410,506,646,795,963,1100,1329,1554,1730,1944,2197,2397,2599,2703,2872,3036,3400,3651,3884,4153,4387,4554,4744,5015,5292,5547,5702,5963,6192,6429,6710,7412,7716,7982,8239,8481,8751,9078,9403],\"deaths\":[0,0,0,0,0,0,0,0,0,0,0,0,0,0,0,0,0,0,0,0,5,7,9,13,13,11,22,30,40,50,54,63,67,93,100,116,133,146,152,160,172,191,198,208,223,230,248,278,307,325,399,403,406,418,442,458,464,499],\"x\":{\"__ndarray__\":\"AACA3n8Kd0IAAEBE0gp3QgAAAKokC3dCAADAD3cLd0IAAIB1yQt3QgAAQNsbDHdCAAAAQW4Md0IAAMCmwAx3QgAAgAwTDXdCAABAcmUNd0IAAADYtw13QgAAwD0KDndCAACAo1wOd0IAAEAJrw53QgAAAG8BD3dCAADA1FMPd0IAAIA6pg93QgAAQKD4D3dCAAAABksQd0IAAMBrnRB3QgAAgNHvEHdCAABAN0IRd0IAAACdlBF3QgAAwALnEXdCAACAaDkSd0IAAEDOixJ3QgAAADTeEndCAADAmTATd0IAAID/ghN3QgAAQGXVE3dCAAAAyycUd0IAAMAwehR3QgAAgJbMFHdCAABA/B4Vd0IAAABicRV3QgAAwMfDFXdCAACALRYWd0IAAECTaBZ3QgAAAPm6FndCAADAXg0Xd0IAAIDEXxd3QgAAQCqyF3dCAAAAkAQYd0IAAMD1Vhh3QgAAgFupGHdCAABAwfsYd0IAAAAnThl3QgAAwIygGXdCAACA8vIZd0IAAEBYRRp3QgAAAL6XGndCAADAI+oad0IAAICJPBt3QgAAQO+OG3dCAAAAVeEbd0IAAMC6Mxx3QgAAgCCGHHdCAABAhtgcd0I=\",\"dtype\":\"float64\",\"shape\":[58]}},\"selected\":{\"id\":\"2379\"},\"selection_policy\":{\"id\":\"2380\"}},\"id\":\"2341\",\"type\":\"ColumnDataSource\"},{\"attributes\":{\"line_alpha\":0.75,\"line_color\":\"gray\",\"line_dash\":[6],\"x\":{\"field\":\"x\"},\"y\":{\"field\":\"y\"}},\"id\":\"2357\",\"type\":\"Line\"}],\"root_ids\":[\"2312\"]},\"title\":\"Bokeh Application\",\"version\":\"2.0.2\"}};\n",
       "  var render_items = [{\"docid\":\"95b9103e-cf13-4e40-b90a-0276b4fe4447\",\"root_ids\":[\"2312\"],\"roots\":{\"2312\":\"5dbe8a43-c55a-4f38-8985-8f72213cd953\"}}];\n",
       "  root.Bokeh.embed.embed_items_notebook(docs_json, render_items);\n",
       "\n",
       "  }\n",
       "  if (root.Bokeh !== undefined) {\n",
       "    embed_document(root);\n",
       "  } else {\n",
       "    var attempts = 0;\n",
       "    var timer = setInterval(function(root) {\n",
       "      if (root.Bokeh !== undefined) {\n",
       "        clearInterval(timer);\n",
       "        embed_document(root);\n",
       "      } else {\n",
       "        attempts++;\n",
       "        if (attempts > 100) {\n",
       "          clearInterval(timer);\n",
       "          console.log(\"Bokeh: ERROR: Unable to run BokehJS code because BokehJS library is missing\");\n",
       "        }\n",
       "      }\n",
       "    }, 10, root)\n",
       "  }\n",
       "})(window);"
      ],
      "application/vnd.bokehjs_exec.v0+json": ""
     },
     "metadata": {
      "application/vnd.bokehjs_exec.v0+json": {
       "id": "2312"
      }
     },
     "output_type": "display_data"
    }
   ],
   "source": [
    "# Denver Metropolitan Area\n",
    "# https://en.wikipedia.org/wiki/Denver_metropolitan_area\n",
    "denver_metropolitan = dict(\n",
    "    Colorado=[\n",
    "        \"Denver\",\n",
    "        \"Arapahoe\",\n",
    "        \"Jefferson\",\n",
    "        \"Adams\",\n",
    "        \"Douglas\",\n",
    "        \"Broomfield\",\n",
    "        \"Elbert\",\n",
    "        \"Park\",\n",
    "        \"Clear Creek\",\n",
    "        \"Gilpin\",\n",
    "    ],\n",
    ")\n",
    "\n",
    "plot_states_and_counties_curve(\n",
    "    df, denver_metropolitan, \"Cases for the Denver Metropolitan Area\"\n",
    ")"
   ]
  },
  {
   "cell_type": "code",
   "execution_count": 9,
   "metadata": {},
   "outputs": [
    {
     "name": "stdout",
     "output_type": "stream",
     "text": [
      "y ≈ exp(8.186335355384442) * exp(0.05168914788514678 * x)\n",
      "y = 3591.536395977031 * exp(0.05168914788514678 * x)\n"
     ]
    },
    {
     "data": {
      "text/html": [
       "\n",
       "\n",
       "\n",
       "\n",
       "\n",
       "\n",
       "  <div class=\"bk-root\" id=\"928872f5-0abb-410c-9548-d2a1e2edd2c7\" data-root-id=\"2637\"></div>\n"
      ]
     },
     "metadata": {},
     "output_type": "display_data"
    },
    {
     "data": {
      "application/javascript": [
       "(function(root) {\n",
       "  function embed_document(root) {\n",
       "    \n",
       "  var docs_json = {\"b598efb3-4aec-4f5c-8e7e-59bf77214df8\":{\"roots\":{\"references\":[{\"attributes\":{\"below\":[{\"id\":\"2648\"}],\"center\":[{\"id\":\"2651\"},{\"id\":\"2655\"},{\"id\":\"2706\"}],\"left\":[{\"id\":\"2652\"}],\"plot_width\":880,\"renderers\":[{\"id\":\"2674\"},{\"id\":\"2679\"},{\"id\":\"2684\"}],\"title\":{\"id\":\"2638\"},\"toolbar\":{\"id\":\"2661\"},\"x_range\":{\"id\":\"2640\"},\"x_scale\":{\"id\":\"2644\"},\"y_range\":{\"id\":\"2642\"},\"y_scale\":{\"id\":\"2646\"}},\"id\":\"2637\",\"subtype\":\"Figure\",\"type\":\"Plot\"},{\"attributes\":{\"data_source\":{\"id\":\"2666\"},\"glyph\":{\"id\":\"2672\"},\"hover_glyph\":null,\"muted_glyph\":null,\"name\":\"deaths\",\"nonselection_glyph\":{\"id\":\"2673\"},\"selection_glyph\":null,\"view\":{\"id\":\"2675\"}},\"id\":\"2674\",\"type\":\"GlyphRenderer\"},{\"attributes\":{\"source\":{\"id\":\"2681\"}},\"id\":\"2685\",\"type\":\"CDSView\"},{\"attributes\":{\"fill_alpha\":0.1,\"fill_color\":\"red\",\"x\":{\"field\":\"x\"},\"y1\":{\"expr\":{\"id\":\"2667\"}},\"y2\":{\"expr\":{\"id\":\"2668\"}}},\"id\":\"2673\",\"type\":\"VArea\"},{\"attributes\":{},\"id\":\"2703\",\"type\":\"YearsTicker\"},{\"attributes\":{},\"id\":\"2688\",\"type\":\"BasicTickFormatter\"},{\"attributes\":{\"days\":[1,2,3,4,5,6,7,8,9,10,11,12,13,14,15,16,17,18,19,20,21,22,23,24,25,26,27,28,29,30,31]},\"id\":\"2695\",\"type\":\"DaysTicker\"},{\"attributes\":{\"data_source\":{\"id\":\"2681\"},\"glyph\":{\"id\":\"2682\"},\"hover_glyph\":null,\"muted_glyph\":null,\"nonselection_glyph\":{\"id\":\"2683\"},\"selection_glyph\":null,\"view\":{\"id\":\"2685\"}},\"id\":\"2684\",\"type\":\"GlyphRenderer\"},{\"attributes\":{\"fields\":[]},\"id\":\"2667\",\"type\":\"Stack\"},{\"attributes\":{\"end\":1588464000000.0,\"start\":1583798400000.0},\"id\":\"2640\",\"type\":\"Range1d\"},{\"attributes\":{\"label\":{\"value\":\"Projected # of Cases\"},\"renderers\":[{\"id\":\"2684\"}]},\"id\":\"2707\",\"type\":\"LegendItem\"},{\"attributes\":{\"fill_color\":\"lightblue\",\"x\":{\"field\":\"x\"},\"y1\":{\"expr\":{\"id\":\"2669\"}},\"y2\":{\"expr\":{\"id\":\"2670\"}}},\"id\":\"2677\",\"type\":\"VArea\"},{\"attributes\":{\"line_alpha\":0.1,\"line_color\":\"gray\",\"line_dash\":[6],\"x\":{\"field\":\"x\"},\"y\":{\"field\":\"y\"}},\"id\":\"2683\",\"type\":\"Line\"},{\"attributes\":{},\"id\":\"2855\",\"type\":\"Selection\"},{\"attributes\":{},\"id\":\"2856\",\"type\":\"UnionRenderers\"},{\"attributes\":{\"items\":[{\"id\":\"2707\"}],\"location\":\"top_left\"},\"id\":\"2706\",\"type\":\"Legend\"},{\"attributes\":{},\"id\":\"2659\",\"type\":\"ResetTool\"},{\"attributes\":{\"num_minor_ticks\":5,\"tickers\":[{\"id\":\"2692\"},{\"id\":\"2693\"},{\"id\":\"2694\"},{\"id\":\"2695\"},{\"id\":\"2696\"},{\"id\":\"2697\"},{\"id\":\"2698\"},{\"id\":\"2699\"},{\"id\":\"2700\"},{\"id\":\"2701\"},{\"id\":\"2702\"},{\"id\":\"2703\"}]},\"id\":\"2649\",\"type\":\"DatetimeTicker\"},{\"attributes\":{\"source\":{\"id\":\"2666\"}},\"id\":\"2675\",\"type\":\"CDSView\"},{\"attributes\":{\"base\":60,\"mantissas\":[1,2,5,10,15,20,30],\"max_interval\":1800000.0,\"min_interval\":1000.0,\"num_minor_ticks\":0},\"id\":\"2693\",\"type\":\"AdaptiveTicker\"},{\"attributes\":{\"overlay\":{\"id\":\"2660\"}},\"id\":\"2658\",\"type\":\"BoxZoomTool\"},{\"attributes\":{\"fill_alpha\":0.1,\"fill_color\":\"lightblue\",\"x\":{\"field\":\"x\"},\"y1\":{\"expr\":{\"id\":\"2669\"}},\"y2\":{\"expr\":{\"id\":\"2670\"}}},\"id\":\"2678\",\"type\":\"VArea\"},{\"attributes\":{\"data_source\":{\"id\":\"2666\"},\"glyph\":{\"id\":\"2677\"},\"hover_glyph\":null,\"muted_glyph\":null,\"name\":\"cases\",\"nonselection_glyph\":{\"id\":\"2678\"},\"selection_glyph\":null,\"view\":{\"id\":\"2680\"}},\"id\":\"2679\",\"type\":\"GlyphRenderer\"},{\"attributes\":{\"fields\":[\"deaths\"]},\"id\":\"2669\",\"type\":\"Stack\"},{\"attributes\":{\"axis_label\":\"Date\",\"formatter\":{\"id\":\"2708\"},\"ticker\":{\"id\":\"2649\"}},\"id\":\"2648\",\"type\":\"DatetimeAxis\"},{\"attributes\":{\"active_drag\":\"auto\",\"active_inspect\":\"auto\",\"active_multi\":null,\"active_scroll\":\"auto\",\"active_tap\":\"auto\",\"tools\":[{\"id\":\"2656\"},{\"id\":\"2657\"},{\"id\":\"2658\"},{\"id\":\"2659\"}]},\"id\":\"2661\",\"type\":\"Toolbar\"},{\"attributes\":{\"days\":[1,4,7,10,13,16,19,22,25,28]},\"id\":\"2696\",\"type\":\"DaysTicker\"},{\"attributes\":{},\"id\":\"2657\",\"type\":\"WheelZoomTool\"},{\"attributes\":{},\"id\":\"2644\",\"type\":\"LinearScale\"},{\"attributes\":{\"fill_color\":\"red\",\"x\":{\"field\":\"x\"},\"y1\":{\"expr\":{\"id\":\"2667\"}},\"y2\":{\"expr\":{\"id\":\"2668\"}}},\"id\":\"2672\",\"type\":\"VArea\"},{\"attributes\":{\"code\":\"\\n        let date = new Date(tick);\\n        return `${date.getDate()}-${date.getMonth()}-${date.getFullYear()}`\\n    \"},\"id\":\"2708\",\"type\":\"FuncTickFormatter\"},{\"attributes\":{},\"id\":\"2704\",\"type\":\"Selection\"},{\"attributes\":{\"fields\":[\"deaths\",\"cases\"]},\"id\":\"2670\",\"type\":\"Stack\"},{\"attributes\":{\"axis\":{\"id\":\"2652\"},\"dimension\":1,\"ticker\":null},\"id\":\"2655\",\"type\":\"Grid\"},{\"attributes\":{},\"id\":\"2646\",\"type\":\"LinearScale\"},{\"attributes\":{},\"id\":\"2656\",\"type\":\"PanTool\"},{\"attributes\":{\"data\":{\"x\":[1583798400000.0,1583884800000.0,1583971200000.0,1584057600000.0,1584144000000.0,1584230400000.0,1584316800000.0,1584403200000.0,1584489600000.0,1584576000000.0,1584662400000.0,1584748800000.0,1584835200000.0,1584921600000.0,1585008000000.0,1585094400000.0,1585180800000.0,1585267200000.0,1585353600000.0,1585440000000.0,1585526400000.0,1585612800000.0,1585699200000.0,1585785600000.0,1585872000000.0,1585958400000.0,1586044800000.0,1586131200000.0,1586217600000.0,1586304000000.0,1586390400000.0,1586476800000.0,1586563200000.0,1586649600000.0,1586736000000.0,1586822400000.0,1586908800000.0,1586995200000.0,1587081600000.0,1587168000000.0,1587254400000.0,1587340800000.0,1587427200000.0,1587513600000.0,1587600000000.0,1587686400000.0,1587772800000.0,1587859200000.0,1587945600000.0,1588032000000.0,1588118400000.0,1588204800000.0,1588291200000.0,1588377600000.0,1588464000000.0,1588550400000.0,1588636800000.0,1588723200000.0,1588809600000.0,1588896000000.0,1588982400000.0,1589068800000.0,1589155200000.0],\"y\":[3591.536395977031,3782.0614733211773,3982.693591523285,4193.968912417419,4416.452040337915,4650.737530947064,4897.451480103625,5157.25319701818,5430.836966166629,5718.93390267028,6022.313906100791,6341.787717931243,6678.209088131589,7032.477056698428,7405.538356216155,7798.389941870016,8212.081655672182,8647.719032020628,9106.46625208826,9589.549254937514,10098.25901367447,10633.954985397502,11198.06874416003,11792.107806655946,12417.65966085133,13076.396008328435,13770.077231679006,14500.557098885478,15269.787717261768,16079.82475019251,16932.832910611647,17831.091745901038,18777.001729668358,19773.090676683758,20822.020498118338,21926.594315136885,23089.763949854936,24314.637813678743,25604.48921410867,26962.765102204838,28393.095284091287,29899.30212111531,31485.410744584187,33155.65981237686,34914.51283617612,36766.670109591716,38717.08126905068,40770.95852102234,42933.790570925485,45211.35729094134,47609.745165929635,50135.36355872506,52794.961838280986,55595.64741643268,58544.90474148121,61650.61529935571,64921.07867580401,68365.03473589793,71991.68698012471,75810.72713948037,79832.36107529246,84067.33605298534,88526.96946267379]},\"selected\":{\"id\":\"2855\"},\"selection_policy\":{\"id\":\"2856\"}},\"id\":\"2681\",\"type\":\"ColumnDataSource\"},{\"attributes\":{\"days\":[1,8,15,22]},\"id\":\"2697\",\"type\":\"DaysTicker\"},{\"attributes\":{\"source\":{\"id\":\"2666\"}},\"id\":\"2680\",\"type\":\"CDSView\"},{\"attributes\":{},\"id\":\"2653\",\"type\":\"BasicTicker\"},{\"attributes\":{\"line_alpha\":0.75,\"line_color\":\"gray\",\"line_dash\":[6],\"x\":{\"field\":\"x\"},\"y\":{\"field\":\"y\"}},\"id\":\"2682\",\"type\":\"Line\"},{\"attributes\":{\"text\":\"Michigan Cases\"},\"id\":\"2638\",\"type\":\"Title\"},{\"attributes\":{\"fields\":[\"deaths\"]},\"id\":\"2668\",\"type\":\"Stack\"},{\"attributes\":{\"axis\":{\"id\":\"2648\"},\"ticker\":null},\"id\":\"2651\",\"type\":\"Grid\"},{\"attributes\":{\"months\":[0,1,2,3,4,5,6,7,8,9,10,11]},\"id\":\"2699\",\"type\":\"MonthsTicker\"},{\"attributes\":{\"axis_label\":\"# of Cases & Deaths\",\"formatter\":{\"id\":\"2688\"},\"ticker\":{\"id\":\"2653\"}},\"id\":\"2652\",\"type\":\"LinearAxis\"},{\"attributes\":{\"bottom_units\":\"screen\",\"fill_alpha\":0.5,\"fill_color\":\"lightgrey\",\"left_units\":\"screen\",\"level\":\"overlay\",\"line_alpha\":1.0,\"line_color\":\"black\",\"line_dash\":[4,4],\"line_width\":2,\"render_mode\":\"css\",\"right_units\":\"screen\",\"top_units\":\"screen\"},\"id\":\"2660\",\"type\":\"BoxAnnotation\"},{\"attributes\":{\"end\":50817},\"id\":\"2642\",\"type\":\"Range1d\"},{\"attributes\":{\"mantissas\":[1,2,5],\"max_interval\":500.0,\"num_minor_ticks\":0},\"id\":\"2692\",\"type\":\"AdaptiveTicker\"},{\"attributes\":{\"data\":{\"cases\":[2,2,12,25,33,53,54,65,80,334,548,787,1033,1324,1783,2286,2878,3652,4637,5473,6509,7630,9293,10791,12670,14225,15635,17130,18852,20220,21375,22646,23855,24496,25490,26845,27894,29120,29954,30718,31349,31929,32936,33930,35253,36628,37185,37752,38191,39235,40361,41348,42348],\"deaths\":[0,0,0,0,0,0,0,0,1,3,4,6,9,16,24,43,63,93,112,132,197,264,336,417,478,542,617,727,845,959,1076,1280,1395,1488,1603,1767,1920,2092,2227,2307,2389,2466,2698,2812,2977,3084,3273,3314,3406,3566,3670,3788,3866],\"x\":{\"__ndarray__\":\"AABA2xsMd0IAAABBbgx3QgAAwKbADHdCAACADBMNd0IAAEByZQ13QgAAANi3DXdCAADAPQoOd0IAAICjXA53QgAAQAmvDndCAAAAbwEPd0IAAMDUUw93QgAAgDqmD3dCAABAoPgPd0IAAAAGSxB3QgAAwGudEHdCAACA0e8Qd0IAAEA3QhF3QgAAAJ2UEXdCAADAAucRd0IAAIBoORJ3QgAAQM6LEndCAAAANN4Sd0IAAMCZMBN3QgAAgP+CE3dCAABAZdUTd0IAAADLJxR3QgAAwDB6FHdCAACAlswUd0IAAED8HhV3QgAAAGJxFXdCAADAx8MVd0IAAIAtFhZ3QgAAQJNoFndCAAAA+boWd0IAAMBeDRd3QgAAgMRfF3dCAABAKrIXd0IAAACQBBh3QgAAwPVWGHdCAACAW6kYd0IAAEDB+xh3QgAAACdOGXdCAADAjKAZd0IAAIDy8hl3QgAAQFhFGndCAAAAvpcad0IAAMAj6hp3QgAAgIk8G3dCAABA744bd0IAAABV4Rt3QgAAwLozHHdCAACAIIYcd0IAAECG2Bx3Qg==\",\"dtype\":\"float64\",\"shape\":[53]}},\"selected\":{\"id\":\"2704\"},\"selection_policy\":{\"id\":\"2705\"}},\"id\":\"2666\",\"type\":\"ColumnDataSource\"},{\"attributes\":{\"days\":[1,15]},\"id\":\"2698\",\"type\":\"DaysTicker\"},{\"attributes\":{\"months\":[0,2,4,6,8,10]},\"id\":\"2700\",\"type\":\"MonthsTicker\"},{\"attributes\":{\"months\":[0,6]},\"id\":\"2702\",\"type\":\"MonthsTicker\"},{\"attributes\":{},\"id\":\"2705\",\"type\":\"UnionRenderers\"},{\"attributes\":{\"base\":24,\"mantissas\":[1,2,4,6,8,12],\"max_interval\":43200000.0,\"min_interval\":3600000.0,\"num_minor_ticks\":0},\"id\":\"2694\",\"type\":\"AdaptiveTicker\"},{\"attributes\":{\"months\":[0,4,8]},\"id\":\"2701\",\"type\":\"MonthsTicker\"}],\"root_ids\":[\"2637\"]},\"title\":\"Bokeh Application\",\"version\":\"2.0.2\"}};\n",
       "  var render_items = [{\"docid\":\"b598efb3-4aec-4f5c-8e7e-59bf77214df8\",\"root_ids\":[\"2637\"],\"roots\":{\"2637\":\"928872f5-0abb-410c-9548-d2a1e2edd2c7\"}}];\n",
       "  root.Bokeh.embed.embed_items_notebook(docs_json, render_items);\n",
       "\n",
       "  }\n",
       "  if (root.Bokeh !== undefined) {\n",
       "    embed_document(root);\n",
       "  } else {\n",
       "    var attempts = 0;\n",
       "    var timer = setInterval(function(root) {\n",
       "      if (root.Bokeh !== undefined) {\n",
       "        clearInterval(timer);\n",
       "        embed_document(root);\n",
       "      } else {\n",
       "        attempts++;\n",
       "        if (attempts > 100) {\n",
       "          clearInterval(timer);\n",
       "          console.log(\"Bokeh: ERROR: Unable to run BokehJS code because BokehJS library is missing\");\n",
       "        }\n",
       "      }\n",
       "    }, 10, root)\n",
       "  }\n",
       "})(window);"
      ],
      "application/vnd.bokehjs_exec.v0+json": ""
     },
     "metadata": {
      "application/vnd.bokehjs_exec.v0+json": {
       "id": "2637"
      }
     },
     "output_type": "display_data"
    }
   ],
   "source": [
    "plot_state_curve(df, \"Michigan\")"
   ]
  },
  {
   "cell_type": "code",
   "execution_count": 10,
   "metadata": {},
   "outputs": [
    {
     "name": "stdout",
     "output_type": "stream",
     "text": [
      "y ≈ exp(-0.7146745752541012) * exp(0.1104109577507301 * x)\n",
      "y = 0.4893513329208504 * exp(0.1104109577507301 * x)\n"
     ]
    },
    {
     "data": {
      "text/html": [
       "\n",
       "\n",
       "\n",
       "\n",
       "\n",
       "\n",
       "  <div class=\"bk-root\" id=\"309df600-0d1b-495b-a21e-ddf4e11eb07d\" data-root-id=\"2983\"></div>\n"
      ]
     },
     "metadata": {},
     "output_type": "display_data"
    },
    {
     "data": {
      "application/javascript": [
       "(function(root) {\n",
       "  function embed_document(root) {\n",
       "    \n",
       "  var docs_json = {\"a099fc29-92c6-449f-95e7-732c08763082\":{\"roots\":{\"references\":[{\"attributes\":{\"below\":[{\"id\":\"2994\"}],\"center\":[{\"id\":\"2997\"},{\"id\":\"3001\"},{\"id\":\"3052\"}],\"left\":[{\"id\":\"2998\"}],\"plot_width\":880,\"renderers\":[{\"id\":\"3020\"},{\"id\":\"3025\"},{\"id\":\"3030\"}],\"title\":{\"id\":\"2984\"},\"toolbar\":{\"id\":\"3007\"},\"x_range\":{\"id\":\"2986\"},\"x_scale\":{\"id\":\"2990\"},\"y_range\":{\"id\":\"2988\"},\"y_scale\":{\"id\":\"2992\"}},\"id\":\"2983\",\"subtype\":\"Figure\",\"type\":\"Plot\"},{\"attributes\":{\"base\":24,\"mantissas\":[1,2,4,6,8,12],\"max_interval\":43200000.0,\"min_interval\":3600000.0,\"num_minor_ticks\":0},\"id\":\"3040\",\"type\":\"AdaptiveTicker\"},{\"attributes\":{\"months\":[0,2,4,6,8,10]},\"id\":\"3046\",\"type\":\"MonthsTicker\"},{\"attributes\":{\"fields\":[\"deaths\"]},\"id\":\"3014\",\"type\":\"Stack\"},{\"attributes\":{},\"id\":\"2992\",\"type\":\"LinearScale\"},{\"attributes\":{\"fill_alpha\":0.1,\"fill_color\":\"red\",\"x\":{\"field\":\"x\"},\"y1\":{\"expr\":{\"id\":\"3013\"}},\"y2\":{\"expr\":{\"id\":\"3014\"}}},\"id\":\"3019\",\"type\":\"VArea\"},{\"attributes\":{\"data\":{\"cases\":[1,1,1,1,1,1,1,1,1,1,1,1,1,1,1,1,1,3,3,3,4,7,7,7],\"deaths\":[0,0,0,0,0,0,0,0,0,0,0,0,0,0,0,0,0,0,0,0,0,0,0,0],\"x\":{\"__ndarray__\":\"AAAAYnEVd0IAAMDHwxV3QgAAgC0WFndCAABAk2gWd0IAAAD5uhZ3QgAAwF4NF3dCAACAxF8Xd0IAAEAqshd3QgAAAJAEGHdCAADA9VYYd0IAAIBbqRh3QgAAQMH7GHdCAAAAJ04Zd0IAAMCMoBl3QgAAgPLyGXdCAABAWEUad0IAAAC+lxp3QgAAwCPqGndCAACAiTwbd0IAAEDvjht3QgAAAFXhG3dCAADAujMcd0IAAIAghhx3QgAAQIbYHHdC\",\"dtype\":\"float64\",\"shape\":[24]}},\"selected\":{\"id\":\"3050\"},\"selection_policy\":{\"id\":\"3051\"}},\"id\":\"3012\",\"type\":\"ColumnDataSource\"},{\"attributes\":{},\"id\":\"2990\",\"type\":\"LinearScale\"},{\"attributes\":{\"fill_color\":\"red\",\"x\":{\"field\":\"x\"},\"y1\":{\"expr\":{\"id\":\"3013\"}},\"y2\":{\"expr\":{\"id\":\"3014\"}}},\"id\":\"3018\",\"type\":\"VArea\"},{\"attributes\":{\"days\":[1,8,15,22]},\"id\":\"3043\",\"type\":\"DaysTicker\"},{\"attributes\":{\"num_minor_ticks\":5,\"tickers\":[{\"id\":\"3038\"},{\"id\":\"3039\"},{\"id\":\"3040\"},{\"id\":\"3041\"},{\"id\":\"3042\"},{\"id\":\"3043\"},{\"id\":\"3044\"},{\"id\":\"3045\"},{\"id\":\"3046\"},{\"id\":\"3047\"},{\"id\":\"3048\"},{\"id\":\"3049\"}]},\"id\":\"2995\",\"type\":\"DatetimeTicker\"},{\"attributes\":{\"source\":{\"id\":\"3012\"}},\"id\":\"3026\",\"type\":\"CDSView\"},{\"attributes\":{\"days\":[1,4,7,10,13,16,19,22,25,28]},\"id\":\"3042\",\"type\":\"DaysTicker\"},{\"attributes\":{\"base\":60,\"mantissas\":[1,2,5,10,15,20,30],\"max_interval\":1800000.0,\"min_interval\":1000.0,\"num_minor_ticks\":0},\"id\":\"3039\",\"type\":\"AdaptiveTicker\"},{\"attributes\":{\"axis\":{\"id\":\"2998\"},\"dimension\":1,\"ticker\":null},\"id\":\"3001\",\"type\":\"Grid\"},{\"attributes\":{\"months\":[0,1,2,3,4,5,6,7,8,9,10,11]},\"id\":\"3045\",\"type\":\"MonthsTicker\"},{\"attributes\":{},\"id\":\"3049\",\"type\":\"YearsTicker\"},{\"attributes\":{},\"id\":\"3050\",\"type\":\"Selection\"},{\"attributes\":{},\"id\":\"3034\",\"type\":\"BasicTickFormatter\"},{\"attributes\":{\"label\":{\"value\":\"Projected # of Cases\"},\"renderers\":[{\"id\":\"3030\"}]},\"id\":\"3053\",\"type\":\"LegendItem\"},{\"attributes\":{},\"id\":\"2999\",\"type\":\"BasicTicker\"},{\"attributes\":{\"overlay\":{\"id\":\"3006\"}},\"id\":\"3004\",\"type\":\"BoxZoomTool\"},{\"attributes\":{\"bottom_units\":\"screen\",\"fill_alpha\":0.5,\"fill_color\":\"lightgrey\",\"left_units\":\"screen\",\"level\":\"overlay\",\"line_alpha\":1.0,\"line_color\":\"black\",\"line_dash\":[4,4],\"line_width\":2,\"render_mode\":\"css\",\"right_units\":\"screen\",\"top_units\":\"screen\"},\"id\":\"3006\",\"type\":\"BoxAnnotation\"},{\"attributes\":{\"axis\":{\"id\":\"2994\"},\"ticker\":null},\"id\":\"2997\",\"type\":\"Grid\"},{\"attributes\":{\"data\":{\"x\":[1586304000000.0,1586390400000.0,1586476800000.0,1586563200000.0,1586649600000.0,1586736000000.0,1586822400000.0,1586908800000.0,1586995200000.0,1587081600000.0,1587168000000.0,1587254400000.0,1587340800000.0,1587427200000.0,1587513600000.0,1587600000000.0,1587686400000.0,1587772800000.0,1587859200000.0,1587945600000.0,1588032000000.0,1588118400000.0,1588204800000.0,1588291200000.0,1588377600000.0,1588464000000.0,1588550400000.0,1588636800000.0,1588723200000.0,1588809600000.0,1588896000000.0,1588982400000.0,1589068800000.0,1589155200000.0],\"y\":[0.4893513329208504,0.5464766943826281,0.610270693901772,0.6815118076647284,0.7610693887607918,0.8499142758707375,0.9491306403809656,1.0599292164931122,1.1836620757757526,1.3218391264515799,1.4761465387603565,1.6484673212417578,1.840904299029852,2.055805774562627,2.2957941838433986,2.5637980979455666,2.8630879602740866,3.1973159956843333,3.5705607784681037,3.987377003068492,4.452851064874124,4.972663129343436,5.553156446886611,6.201414759352491,6.925348742709422,7.733792540777364,8.636611568009412,9.644822896836647,10.77072969865942,12.028071379064206,13.432191239361472,15.000223710413017,16.75130344355737,18.706798810163257]},\"selected\":{\"id\":\"3222\"},\"selection_policy\":{\"id\":\"3223\"}},\"id\":\"3027\",\"type\":\"ColumnDataSource\"},{\"attributes\":{\"data_source\":{\"id\":\"3012\"},\"glyph\":{\"id\":\"3018\"},\"hover_glyph\":null,\"muted_glyph\":null,\"name\":\"deaths\",\"nonselection_glyph\":{\"id\":\"3019\"},\"selection_glyph\":null,\"view\":{\"id\":\"3021\"}},\"id\":\"3020\",\"type\":\"GlyphRenderer\"},{\"attributes\":{},\"id\":\"3005\",\"type\":\"ResetTool\"},{\"attributes\":{\"axis_label\":\"# of Cases & Deaths\",\"formatter\":{\"id\":\"3034\"},\"ticker\":{\"id\":\"2999\"}},\"id\":\"2998\",\"type\":\"LinearAxis\"},{\"attributes\":{\"fields\":[\"deaths\",\"cases\"]},\"id\":\"3016\",\"type\":\"Stack\"},{\"attributes\":{\"end\":8},\"id\":\"2988\",\"type\":\"Range1d\"},{\"attributes\":{},\"id\":\"3003\",\"type\":\"WheelZoomTool\"},{\"attributes\":{\"axis_label\":\"Date\",\"formatter\":{\"id\":\"3054\"},\"ticker\":{\"id\":\"2995\"}},\"id\":\"2994\",\"type\":\"DatetimeAxis\"},{\"attributes\":{\"end\":1588464000000.0,\"start\":1586304000000.0},\"id\":\"2986\",\"type\":\"Range1d\"},{\"attributes\":{\"days\":[1,15]},\"id\":\"3044\",\"type\":\"DaysTicker\"},{\"attributes\":{},\"id\":\"3051\",\"type\":\"UnionRenderers\"},{\"attributes\":{\"line_alpha\":0.75,\"line_color\":\"gray\",\"line_dash\":[6],\"x\":{\"field\":\"x\"},\"y\":{\"field\":\"y\"}},\"id\":\"3028\",\"type\":\"Line\"},{\"attributes\":{\"months\":[0,4,8]},\"id\":\"3047\",\"type\":\"MonthsTicker\"},{\"attributes\":{\"months\":[0,6]},\"id\":\"3048\",\"type\":\"MonthsTicker\"},{\"attributes\":{\"fields\":[\"deaths\"]},\"id\":\"3015\",\"type\":\"Stack\"},{\"attributes\":{\"source\":{\"id\":\"3027\"}},\"id\":\"3031\",\"type\":\"CDSView\"},{\"attributes\":{\"mantissas\":[1,2,5],\"max_interval\":500.0,\"num_minor_ticks\":0},\"id\":\"3038\",\"type\":\"AdaptiveTicker\"},{\"attributes\":{},\"id\":\"3222\",\"type\":\"Selection\"},{\"attributes\":{\"code\":\"\\n        let date = new Date(tick);\\n        return `${date.getDate()}-${date.getMonth()}-${date.getFullYear()}`\\n    \"},\"id\":\"3054\",\"type\":\"FuncTickFormatter\"},{\"attributes\":{\"days\":[1,2,3,4,5,6,7,8,9,10,11,12,13,14,15,16,17,18,19,20,21,22,23,24,25,26,27,28,29,30,31]},\"id\":\"3041\",\"type\":\"DaysTicker\"},{\"attributes\":{\"data_source\":{\"id\":\"3012\"},\"glyph\":{\"id\":\"3023\"},\"hover_glyph\":null,\"muted_glyph\":null,\"name\":\"cases\",\"nonselection_glyph\":{\"id\":\"3024\"},\"selection_glyph\":null,\"view\":{\"id\":\"3026\"}},\"id\":\"3025\",\"type\":\"GlyphRenderer\"},{\"attributes\":{\"text\":\"Texas Cases for counties Frio\"},\"id\":\"2984\",\"type\":\"Title\"},{\"attributes\":{\"fill_alpha\":0.1,\"fill_color\":\"lightblue\",\"x\":{\"field\":\"x\"},\"y1\":{\"expr\":{\"id\":\"3015\"}},\"y2\":{\"expr\":{\"id\":\"3016\"}}},\"id\":\"3024\",\"type\":\"VArea\"},{\"attributes\":{\"line_alpha\":0.1,\"line_color\":\"gray\",\"line_dash\":[6],\"x\":{\"field\":\"x\"},\"y\":{\"field\":\"y\"}},\"id\":\"3029\",\"type\":\"Line\"},{\"attributes\":{\"data_source\":{\"id\":\"3027\"},\"glyph\":{\"id\":\"3028\"},\"hover_glyph\":null,\"muted_glyph\":null,\"nonselection_glyph\":{\"id\":\"3029\"},\"selection_glyph\":null,\"view\":{\"id\":\"3031\"}},\"id\":\"3030\",\"type\":\"GlyphRenderer\"},{\"attributes\":{\"active_drag\":\"auto\",\"active_inspect\":\"auto\",\"active_multi\":null,\"active_scroll\":\"auto\",\"active_tap\":\"auto\",\"tools\":[{\"id\":\"3002\"},{\"id\":\"3003\"},{\"id\":\"3004\"},{\"id\":\"3005\"}]},\"id\":\"3007\",\"type\":\"Toolbar\"},{\"attributes\":{},\"id\":\"3002\",\"type\":\"PanTool\"},{\"attributes\":{\"fill_color\":\"lightblue\",\"x\":{\"field\":\"x\"},\"y1\":{\"expr\":{\"id\":\"3015\"}},\"y2\":{\"expr\":{\"id\":\"3016\"}}},\"id\":\"3023\",\"type\":\"VArea\"},{\"attributes\":{\"source\":{\"id\":\"3012\"}},\"id\":\"3021\",\"type\":\"CDSView\"},{\"attributes\":{\"fields\":[]},\"id\":\"3013\",\"type\":\"Stack\"},{\"attributes\":{},\"id\":\"3223\",\"type\":\"UnionRenderers\"},{\"attributes\":{\"items\":[{\"id\":\"3053\"}],\"location\":\"top_left\"},\"id\":\"3052\",\"type\":\"Legend\"}],\"root_ids\":[\"2983\"]},\"title\":\"Bokeh Application\",\"version\":\"2.0.2\"}};\n",
       "  var render_items = [{\"docid\":\"a099fc29-92c6-449f-95e7-732c08763082\",\"root_ids\":[\"2983\"],\"roots\":{\"2983\":\"309df600-0d1b-495b-a21e-ddf4e11eb07d\"}}];\n",
       "  root.Bokeh.embed.embed_items_notebook(docs_json, render_items);\n",
       "\n",
       "  }\n",
       "  if (root.Bokeh !== undefined) {\n",
       "    embed_document(root);\n",
       "  } else {\n",
       "    var attempts = 0;\n",
       "    var timer = setInterval(function(root) {\n",
       "      if (root.Bokeh !== undefined) {\n",
       "        clearInterval(timer);\n",
       "        embed_document(root);\n",
       "      } else {\n",
       "        attempts++;\n",
       "        if (attempts > 100) {\n",
       "          clearInterval(timer);\n",
       "          console.log(\"Bokeh: ERROR: Unable to run BokehJS code because BokehJS library is missing\");\n",
       "        }\n",
       "      }\n",
       "    }, 10, root)\n",
       "  }\n",
       "})(window);"
      ],
      "application/vnd.bokehjs_exec.v0+json": ""
     },
     "metadata": {
      "application/vnd.bokehjs_exec.v0+json": {
       "id": "2983"
      }
     },
     "output_type": "display_data"
    }
   ],
   "source": [
    "plot_state_counties_curve(df, \"Texas\", ['Frio'])"
   ]
  },
  {
   "cell_type": "code",
   "execution_count": 11,
   "metadata": {},
   "outputs": [
    {
     "name": "stdout",
     "output_type": "stream",
     "text": [
      "y ≈ exp(2.705980828751722) * exp(0.0654348879865053 * x)\n",
      "y = 14.968991509864383 * exp(0.0654348879865053 * x)\n"
     ]
    },
    {
     "data": {
      "text/html": [
       "\n",
       "\n",
       "\n",
       "\n",
       "\n",
       "\n",
       "  <div class=\"bk-root\" id=\"fabf66f0-7303-4018-985e-baf8438584cd\" data-root-id=\"3350\"></div>\n"
      ]
     },
     "metadata": {},
     "output_type": "display_data"
    },
    {
     "data": {
      "application/javascript": [
       "(function(root) {\n",
       "  function embed_document(root) {\n",
       "    \n",
       "  var docs_json = {\"35eea1d5-4dc5-45d3-90bb-8e3aa412af6c\":{\"roots\":{\"references\":[{\"attributes\":{\"below\":[{\"id\":\"3361\"}],\"center\":[{\"id\":\"3364\"},{\"id\":\"3368\"},{\"id\":\"3419\"}],\"left\":[{\"id\":\"3365\"}],\"plot_width\":880,\"renderers\":[{\"id\":\"3387\"},{\"id\":\"3392\"},{\"id\":\"3397\"}],\"title\":{\"id\":\"3351\"},\"toolbar\":{\"id\":\"3374\"},\"x_range\":{\"id\":\"3353\"},\"x_scale\":{\"id\":\"3357\"},\"y_range\":{\"id\":\"3355\"},\"y_scale\":{\"id\":\"3359\"}},\"id\":\"3350\",\"subtype\":\"Figure\",\"type\":\"Plot\"},{\"attributes\":{\"axis\":{\"id\":\"3365\"},\"dimension\":1,\"ticker\":null},\"id\":\"3368\",\"type\":\"Grid\"},{\"attributes\":{\"fields\":[\"deaths\",\"cases\"]},\"id\":\"3383\",\"type\":\"Stack\"},{\"attributes\":{\"fill_color\":\"red\",\"x\":{\"field\":\"x\"},\"y1\":{\"expr\":{\"id\":\"3380\"}},\"y2\":{\"expr\":{\"id\":\"3381\"}}},\"id\":\"3385\",\"type\":\"VArea\"},{\"attributes\":{\"fill_alpha\":0.1,\"fill_color\":\"lightblue\",\"x\":{\"field\":\"x\"},\"y1\":{\"expr\":{\"id\":\"3382\"}},\"y2\":{\"expr\":{\"id\":\"3383\"}}},\"id\":\"3391\",\"type\":\"VArea\"},{\"attributes\":{\"source\":{\"id\":\"3394\"}},\"id\":\"3398\",\"type\":\"CDSView\"},{\"attributes\":{\"source\":{\"id\":\"3379\"}},\"id\":\"3393\",\"type\":\"CDSView\"},{\"attributes\":{\"source\":{\"id\":\"3379\"}},\"id\":\"3388\",\"type\":\"CDSView\"},{\"attributes\":{\"data_source\":{\"id\":\"3394\"},\"glyph\":{\"id\":\"3395\"},\"hover_glyph\":null,\"muted_glyph\":null,\"nonselection_glyph\":{\"id\":\"3396\"},\"selection_glyph\":null,\"view\":{\"id\":\"3398\"}},\"id\":\"3397\",\"type\":\"GlyphRenderer\"},{\"attributes\":{\"data\":{\"cases\":[1,2,2,2,2,2,2,2,2,4,4,4,10,10,10,10,11,11,11,11,11,11,11,11,11,11,11,11,11,11,11,12,12,13,13,15,20,43,53,53,53,77,91,119,155,175,194,217,275,318,357,467,526,571,646,710,734,861,943,998,1017,1071,1109,1216,1224,1305,1342,1364,1392,1449,1505,1574,1602,1667,1693,1734,1769,1810,1872,2007],\"deaths\":[0,0,0,0,0,0,0,0,0,0,0,0,0,0,0,0,0,0,0,0,0,0,0,0,0,0,0,0,0,0,0,0,0,0,0,0,0,0,0,1,1,1,1,4,6,6,6,7,11,11,11,12,13,13,14,20,21,27,29,29,32,34,41,46,47,47,49,51,51,53,54,59,59,61,61,62,65,67,70,70],\"x\":{\"__ndarray__\":\"AAAAIGsDd0IAAMCFvQN3QgAAgOsPBHdCAABAUWIEd0IAAAC3tAR3QgAAwBwHBXdCAACAglkFd0IAAEDoqwV3QgAAAE7+BXdCAADAs1AGd0IAAIAZowZ3QgAAQH/1BndCAAAA5UcHd0IAAMBKmgd3QgAAgLDsB3dCAABAFj8Id0IAAAB8kQh3QgAAwOHjCHdCAACARzYJd0IAAECtiAl3QgAAABPbCXdCAADAeC0Kd0IAAIDefwp3QgAAQETSCndCAAAAqiQLd0IAAMAPdwt3QgAAgHXJC3dCAABA2xsMd0IAAABBbgx3QgAAwKbADHdCAACADBMNd0IAAEByZQ13QgAAANi3DXdCAADAPQoOd0IAAICjXA53QgAAQAmvDndCAAAAbwEPd0IAAMDUUw93QgAAgDqmD3dCAABAoPgPd0IAAAAGSxB3QgAAwGudEHdCAACA0e8Qd0IAAEA3QhF3QgAAAJ2UEXdCAADAAucRd0IAAIBoORJ3QgAAQM6LEndCAAAANN4Sd0IAAMCZMBN3QgAAgP+CE3dCAABAZdUTd0IAAADLJxR3QgAAwDB6FHdCAACAlswUd0IAAED8HhV3QgAAAGJxFXdCAADAx8MVd0IAAIAtFhZ3QgAAQJNoFndCAAAA+boWd0IAAMBeDRd3QgAAgMRfF3dCAABAKrIXd0IAAACQBBh3QgAAwPVWGHdCAACAW6kYd0IAAEDB+xh3QgAAACdOGXdCAADAjKAZd0IAAIDy8hl3QgAAQFhFGndCAAAAvpcad0IAAMAj6hp3QgAAgIk8G3dCAABA744bd0IAAABV4Rt3QgAAwLozHHdCAACAIIYcd0IAAECG2Bx3Qg==\",\"dtype\":\"float64\",\"shape\":[80]}},\"selected\":{\"id\":\"3417\"},\"selection_policy\":{\"id\":\"3418\"}},\"id\":\"3379\",\"type\":\"ColumnDataSource\"},{\"attributes\":{\"months\":[0,6]},\"id\":\"3415\",\"type\":\"MonthsTicker\"},{\"attributes\":{\"code\":\"\\n        let date = new Date(tick);\\n        return `${date.getDate()}-${date.getMonth()}-${date.getFullYear()}`\\n    \"},\"id\":\"3421\",\"type\":\"FuncTickFormatter\"},{\"attributes\":{},\"id\":\"3359\",\"type\":\"LinearScale\"},{\"attributes\":{\"fill_alpha\":0.1,\"fill_color\":\"red\",\"x\":{\"field\":\"x\"},\"y1\":{\"expr\":{\"id\":\"3380\"}},\"y2\":{\"expr\":{\"id\":\"3381\"}}},\"id\":\"3386\",\"type\":\"VArea\"},{\"attributes\":{\"line_alpha\":0.1,\"line_color\":\"gray\",\"line_dash\":[6],\"x\":{\"field\":\"x\"},\"y\":{\"field\":\"y\"}},\"id\":\"3396\",\"type\":\"Line\"},{\"attributes\":{},\"id\":\"3416\",\"type\":\"YearsTicker\"},{\"attributes\":{\"fields\":[]},\"id\":\"3380\",\"type\":\"Stack\"},{\"attributes\":{\"data_source\":{\"id\":\"3379\"},\"glyph\":{\"id\":\"3390\"},\"hover_glyph\":null,\"muted_glyph\":null,\"name\":\"cases\",\"nonselection_glyph\":{\"id\":\"3391\"},\"selection_glyph\":null,\"view\":{\"id\":\"3393\"}},\"id\":\"3392\",\"type\":\"GlyphRenderer\"},{\"attributes\":{},\"id\":\"3417\",\"type\":\"Selection\"},{\"attributes\":{\"items\":[{\"id\":\"3420\"}],\"location\":\"top_left\"},\"id\":\"3419\",\"type\":\"Legend\"},{\"attributes\":{\"data_source\":{\"id\":\"3379\"},\"glyph\":{\"id\":\"3385\"},\"hover_glyph\":null,\"muted_glyph\":null,\"name\":\"deaths\",\"nonselection_glyph\":{\"id\":\"3386\"},\"selection_glyph\":null,\"view\":{\"id\":\"3388\"}},\"id\":\"3387\",\"type\":\"GlyphRenderer\"},{\"attributes\":{},\"id\":\"3366\",\"type\":\"BasicTicker\"},{\"attributes\":{},\"id\":\"3357\",\"type\":\"LinearScale\"},{\"attributes\":{\"line_alpha\":0.75,\"line_color\":\"gray\",\"line_dash\":[6],\"x\":{\"field\":\"x\"},\"y\":{\"field\":\"y\"}},\"id\":\"3395\",\"type\":\"Line\"},{\"attributes\":{\"text\":\"Texas Cases for counties Atascosa,Bandera,Bexar,Calhoun,Comal,DeWitt,Dimmit,Edwards,Frio,Gillespie,Goliad,Gonzales,Guadalupe,Jackson,Karnes,Kendall,Kerr,Kinney,LaSalle,Lavaca,Maverick,Medina,Real,Uvalde,Val Verde,Victoria,Wilson,Zavala\"},\"id\":\"3351\",\"type\":\"Title\"},{\"attributes\":{\"fill_color\":\"lightblue\",\"x\":{\"field\":\"x\"},\"y1\":{\"expr\":{\"id\":\"3382\"}},\"y2\":{\"expr\":{\"id\":\"3383\"}}},\"id\":\"3390\",\"type\":\"VArea\"},{\"attributes\":{\"axis\":{\"id\":\"3361\"},\"ticker\":null},\"id\":\"3364\",\"type\":\"Grid\"},{\"attributes\":{\"end\":1588464000000.0,\"start\":1581465600000.0},\"id\":\"3353\",\"type\":\"Range1d\"},{\"attributes\":{\"bottom_units\":\"screen\",\"fill_alpha\":0.5,\"fill_color\":\"lightgrey\",\"left_units\":\"screen\",\"level\":\"overlay\",\"line_alpha\":1.0,\"line_color\":\"black\",\"line_dash\":[4,4],\"line_width\":2,\"render_mode\":\"css\",\"right_units\":\"screen\",\"top_units\":\"screen\"},\"id\":\"3373\",\"type\":\"BoxAnnotation\"},{\"attributes\":{\"base\":24,\"mantissas\":[1,2,4,6,8,12],\"max_interval\":43200000.0,\"min_interval\":3600000.0,\"num_minor_ticks\":0},\"id\":\"3407\",\"type\":\"AdaptiveTicker\"},{\"attributes\":{},\"id\":\"3369\",\"type\":\"PanTool\"},{\"attributes\":{\"num_minor_ticks\":5,\"tickers\":[{\"id\":\"3405\"},{\"id\":\"3406\"},{\"id\":\"3407\"},{\"id\":\"3408\"},{\"id\":\"3409\"},{\"id\":\"3410\"},{\"id\":\"3411\"},{\"id\":\"3412\"},{\"id\":\"3413\"},{\"id\":\"3414\"},{\"id\":\"3415\"},{\"id\":\"3416\"}]},\"id\":\"3362\",\"type\":\"DatetimeTicker\"},{\"attributes\":{\"base\":60,\"mantissas\":[1,2,5,10,15,20,30],\"max_interval\":1800000.0,\"min_interval\":1000.0,\"num_minor_ticks\":0},\"id\":\"3406\",\"type\":\"AdaptiveTicker\"},{\"attributes\":{\"end\":2408},\"id\":\"3355\",\"type\":\"Range1d\"},{\"attributes\":{\"data\":{\"x\":[1581465600000.0,1581552000000.0,1581638400000.0,1581724800000.0,1581811200000.0,1581897600000.0,1581984000000.0,1582070400000.0,1582156800000.0,1582243200000.0,1582329600000.0,1582416000000.0,1582502400000.0,1582588800000.0,1582675200000.0,1582761600000.0,1582848000000.0,1582934400000.0,1583020800000.0,1583107200000.0,1583193600000.0,1583280000000.0,1583366400000.0,1583452800000.0,1583539200000.0,1583625600000.0,1583712000000.0,1583798400000.0,1583884800000.0,1583971200000.0,1584057600000.0,1584144000000.0,1584230400000.0,1584316800000.0,1584403200000.0,1584489600000.0,1584576000000.0,1584662400000.0,1584748800000.0,1584835200000.0,1584921600000.0,1585008000000.0,1585094400000.0,1585180800000.0,1585267200000.0,1585353600000.0,1585440000000.0,1585526400000.0,1585612800000.0,1585699200000.0,1585785600000.0,1585872000000.0,1585958400000.0,1586044800000.0,1586131200000.0,1586217600000.0,1586304000000.0,1586390400000.0,1586476800000.0,1586563200000.0,1586649600000.0,1586736000000.0,1586822400000.0,1586908800000.0,1586995200000.0,1587081600000.0,1587168000000.0,1587254400000.0,1587340800000.0,1587427200000.0,1587513600000.0,1587600000000.0,1587686400000.0,1587772800000.0,1587859200000.0,1587945600000.0,1588032000000.0,1588118400000.0,1588204800000.0,1588291200000.0,1588377600000.0,1588464000000.0,1588550400000.0,1588636800000.0,1588723200000.0,1588809600000.0,1588896000000.0,1588982400000.0,1589068800000.0,1589155200000.0],\"y\":[14.968991509864383,15.98124291520769,17.061946019982067,18.21572974851429,19.447536047899014,20.76264105560629,22.166677698510803,23.665659820140252,25.266007939485977,26.974576751707282,28.798684488521943,30.746144264040844,32.8252975403089,35.045049855893645,37.41490897055594,39.94502558938621,42.64623684083791,45.53011269488552,48.609005520128,51.89610299210297,55.40548457943164,59.152181849738575,63.152242853652076,67.42280086265787,71.98214775522788,76.84981236555535,82.04664413048347,87.5949023929091,93.51835174416972,99.84236381378999,106.59402594257838,113.8022572045489,121.49793227461839,129.71401367263655,138.48569295018302,147.8505414248706,157.84867110778669,168.52290651336736,179.9189680876076,192.08566804027856,205.07511941994878,218.94295932733272,233.74858722304413,249.5554193504867,266.4311603636404,284.44809332319323,303.683389303145,324.2194379340065,346.1442002983942,369.5515856905621,394.5418538536248,421.22204441735795,449.70643537596516,480.1170325695883,512.5840922661322,547.2466790817564,584.2532616297467,623.7623484490819,665.9431669365356,710.9763881903556,759.0549008702067,810.3846373880111,865.1854559684787,923.6920823574075,986.1551152113317,1052.8420994748567,1124.0386723432234,1200.049786718554,1281.2010174001446,1367.8399556035588,1460.3376977815803,1559.0904351240447,1664.5211505447608,1777.0814304241537,1897.253398867781,2025.5517827656317,2162.5261164973995,2308.763095727,2464.8890903682773,2631.5728274855337,2809.528255620427,2999.517602813882,3202.3546414212888,3418.908173705023,3650.105753133939,3896.9376573291333,4160.46112967309,4441.804907750091,4742.174058014348,5062.855137393958]},\"selected\":{\"id\":\"3610\"},\"selection_policy\":{\"id\":\"3611\"}},\"id\":\"3394\",\"type\":\"ColumnDataSource\"},{\"attributes\":{},\"id\":\"3610\",\"type\":\"Selection\"},{\"attributes\":{\"mantissas\":[1,2,5],\"max_interval\":500.0,\"num_minor_ticks\":0},\"id\":\"3405\",\"type\":\"AdaptiveTicker\"},{\"attributes\":{\"days\":[1,2,3,4,5,6,7,8,9,10,11,12,13,14,15,16,17,18,19,20,21,22,23,24,25,26,27,28,29,30,31]},\"id\":\"3408\",\"type\":\"DaysTicker\"},{\"attributes\":{},\"id\":\"3418\",\"type\":\"UnionRenderers\"},{\"attributes\":{\"fields\":[\"deaths\"]},\"id\":\"3382\",\"type\":\"Stack\"},{\"attributes\":{\"axis_label\":\"# of Cases & Deaths\",\"formatter\":{\"id\":\"3401\"},\"ticker\":{\"id\":\"3366\"}},\"id\":\"3365\",\"type\":\"LinearAxis\"},{\"attributes\":{},\"id\":\"3611\",\"type\":\"UnionRenderers\"},{\"attributes\":{},\"id\":\"3370\",\"type\":\"WheelZoomTool\"},{\"attributes\":{\"days\":[1,4,7,10,13,16,19,22,25,28]},\"id\":\"3409\",\"type\":\"DaysTicker\"},{\"attributes\":{\"active_drag\":\"auto\",\"active_inspect\":\"auto\",\"active_multi\":null,\"active_scroll\":\"auto\",\"active_tap\":\"auto\",\"tools\":[{\"id\":\"3369\"},{\"id\":\"3370\"},{\"id\":\"3371\"},{\"id\":\"3372\"}]},\"id\":\"3374\",\"type\":\"Toolbar\"},{\"attributes\":{\"fields\":[\"deaths\"]},\"id\":\"3381\",\"type\":\"Stack\"},{\"attributes\":{\"overlay\":{\"id\":\"3373\"}},\"id\":\"3371\",\"type\":\"BoxZoomTool\"},{\"attributes\":{\"days\":[1,8,15,22]},\"id\":\"3410\",\"type\":\"DaysTicker\"},{\"attributes\":{},\"id\":\"3401\",\"type\":\"BasicTickFormatter\"},{\"attributes\":{},\"id\":\"3372\",\"type\":\"ResetTool\"},{\"attributes\":{\"days\":[1,15]},\"id\":\"3411\",\"type\":\"DaysTicker\"},{\"attributes\":{\"months\":[0,2,4,6,8,10]},\"id\":\"3413\",\"type\":\"MonthsTicker\"},{\"attributes\":{\"label\":{\"value\":\"Projected # of Cases\"},\"renderers\":[{\"id\":\"3397\"}]},\"id\":\"3420\",\"type\":\"LegendItem\"},{\"attributes\":{\"months\":[0,4,8]},\"id\":\"3414\",\"type\":\"MonthsTicker\"},{\"attributes\":{\"months\":[0,1,2,3,4,5,6,7,8,9,10,11]},\"id\":\"3412\",\"type\":\"MonthsTicker\"},{\"attributes\":{\"axis_label\":\"Date\",\"formatter\":{\"id\":\"3421\"},\"ticker\":{\"id\":\"3362\"}},\"id\":\"3361\",\"type\":\"DatetimeAxis\"}],\"root_ids\":[\"3350\"]},\"title\":\"Bokeh Application\",\"version\":\"2.0.2\"}};\n",
       "  var render_items = [{\"docid\":\"35eea1d5-4dc5-45d3-90bb-8e3aa412af6c\",\"root_ids\":[\"3350\"],\"roots\":{\"3350\":\"fabf66f0-7303-4018-985e-baf8438584cd\"}}];\n",
       "  root.Bokeh.embed.embed_items_notebook(docs_json, render_items);\n",
       "\n",
       "  }\n",
       "  if (root.Bokeh !== undefined) {\n",
       "    embed_document(root);\n",
       "  } else {\n",
       "    var attempts = 0;\n",
       "    var timer = setInterval(function(root) {\n",
       "      if (root.Bokeh !== undefined) {\n",
       "        clearInterval(timer);\n",
       "        embed_document(root);\n",
       "      } else {\n",
       "        attempts++;\n",
       "        if (attempts > 100) {\n",
       "          clearInterval(timer);\n",
       "          console.log(\"Bokeh: ERROR: Unable to run BokehJS code because BokehJS library is missing\");\n",
       "        }\n",
       "      }\n",
       "    }, 10, root)\n",
       "  }\n",
       "})(window);"
      ],
      "application/vnd.bokehjs_exec.v0+json": ""
     },
     "metadata": {
      "application/vnd.bokehjs_exec.v0+json": {
       "id": "3350"
      }
     },
     "output_type": "display_data"
    }
   ],
   "source": [
    "# https://duckduckgo.com/?t=ffab&q=texas+departhment+of+health+section+8&ia=web\n",
    "\n",
    "plot_state_counties_curve(\n",
    "    df,\n",
    "    \"Texas\",\n",
    "    [\n",
    "        \"Atascosa\",\n",
    "        \"Bandera\",\n",
    "        \"Bexar\",\n",
    "        \"Calhoun\",\n",
    "        \"Comal\",\n",
    "        \"DeWitt\",\n",
    "        \"Dimmit\",\n",
    "        \"Edwards\",\n",
    "        \"Frio\",\n",
    "        \"Gillespie\",\n",
    "        \"Goliad\",\n",
    "        \"Gonzales\",\n",
    "        \"Guadalupe\",\n",
    "        \"Jackson\",\n",
    "        \"Karnes\",\n",
    "        \"Kendall\",\n",
    "        \"Kerr\",\n",
    "        \"Kinney\",\n",
    "        \"LaSalle\",\n",
    "        \"Lavaca\",\n",
    "        \"Maverick\",\n",
    "        \"Medina\",\n",
    "        \"Real\",\n",
    "        \"Uvalde\",\n",
    "        \"Val Verde\",\n",
    "        \"Victoria\",\n",
    "        \"Wilson\",\n",
    "        \"Zavala\",\n",
    "    ],\n",
    ")"
   ]
  },
  {
   "cell_type": "code",
   "execution_count": 12,
   "metadata": {},
   "outputs": [
    {
     "name": "stdout",
     "output_type": "stream",
     "text": [
      "y ≈ exp(6.709730079131051) * exp(0.06151782255041716 * x)\n",
      "y = 820.3491802001747 * exp(0.06151782255041716 * x)\n"
     ]
    },
    {
     "data": {
      "text/html": [
       "\n",
       "\n",
       "\n",
       "\n",
       "\n",
       "\n",
       "  <div class=\"bk-root\" id=\"111dfb09-e8e6-4909-a199-253a605aec17\" data-root-id=\"3738\"></div>\n"
      ]
     },
     "metadata": {},
     "output_type": "display_data"
    },
    {
     "data": {
      "application/javascript": [
       "(function(root) {\n",
       "  function embed_document(root) {\n",
       "    \n",
       "  var docs_json = {\"11dfe46f-cd69-4a1e-b81a-eb77181c3d11\":{\"roots\":{\"references\":[{\"attributes\":{\"below\":[{\"id\":\"3749\"}],\"center\":[{\"id\":\"3752\"},{\"id\":\"3756\"},{\"id\":\"3807\"}],\"left\":[{\"id\":\"3753\"}],\"plot_width\":880,\"renderers\":[{\"id\":\"3775\"},{\"id\":\"3780\"},{\"id\":\"3785\"}],\"title\":{\"id\":\"3739\"},\"toolbar\":{\"id\":\"3762\"},\"x_range\":{\"id\":\"3741\"},\"x_scale\":{\"id\":\"3745\"},\"y_range\":{\"id\":\"3743\"},\"y_scale\":{\"id\":\"3747\"}},\"id\":\"3738\",\"subtype\":\"Figure\",\"type\":\"Plot\"},{\"attributes\":{\"months\":[0,1,2,3,4,5,6,7,8,9,10,11]},\"id\":\"3800\",\"type\":\"MonthsTicker\"},{\"attributes\":{\"mantissas\":[1,2,5],\"max_interval\":500.0,\"num_minor_ticks\":0},\"id\":\"3793\",\"type\":\"AdaptiveTicker\"},{\"attributes\":{\"months\":[0,2,4,6,8,10]},\"id\":\"3801\",\"type\":\"MonthsTicker\"},{\"attributes\":{\"data_source\":{\"id\":\"3782\"},\"glyph\":{\"id\":\"3783\"},\"hover_glyph\":null,\"muted_glyph\":null,\"nonselection_glyph\":{\"id\":\"3784\"},\"selection_glyph\":null,\"view\":{\"id\":\"3786\"}},\"id\":\"3785\",\"type\":\"GlyphRenderer\"},{\"attributes\":{},\"id\":\"3760\",\"type\":\"ResetTool\"},{\"attributes\":{\"fields\":[\"deaths\"]},\"id\":\"3770\",\"type\":\"Stack\"},{\"attributes\":{\"overlay\":{\"id\":\"3761\"}},\"id\":\"3759\",\"type\":\"BoxZoomTool\"},{\"attributes\":{\"source\":{\"id\":\"3767\"}},\"id\":\"3776\",\"type\":\"CDSView\"},{\"attributes\":{\"items\":[{\"id\":\"3808\"}],\"location\":\"top_left\"},\"id\":\"3807\",\"type\":\"Legend\"},{\"attributes\":{\"fill_color\":\"red\",\"x\":{\"field\":\"x\"},\"y1\":{\"expr\":{\"id\":\"3768\"}},\"y2\":{\"expr\":{\"id\":\"3769\"}}},\"id\":\"3773\",\"type\":\"VArea\"},{\"attributes\":{\"line_alpha\":0.1,\"line_color\":\"gray\",\"line_dash\":[6],\"x\":{\"field\":\"x\"},\"y\":{\"field\":\"y\"}},\"id\":\"3784\",\"type\":\"Line\"},{\"attributes\":{},\"id\":\"3758\",\"type\":\"WheelZoomTool\"},{\"attributes\":{\"fill_alpha\":0.1,\"fill_color\":\"lightblue\",\"x\":{\"field\":\"x\"},\"y1\":{\"expr\":{\"id\":\"3770\"}},\"y2\":{\"expr\":{\"id\":\"3771\"}}},\"id\":\"3779\",\"type\":\"VArea\"},{\"attributes\":{\"fields\":[\"deaths\",\"cases\"]},\"id\":\"3771\",\"type\":\"Stack\"},{\"attributes\":{\"axis\":{\"id\":\"3753\"},\"dimension\":1,\"ticker\":null},\"id\":\"3756\",\"type\":\"Grid\"},{\"attributes\":{\"fill_alpha\":0.1,\"fill_color\":\"red\",\"x\":{\"field\":\"x\"},\"y1\":{\"expr\":{\"id\":\"3768\"}},\"y2\":{\"expr\":{\"id\":\"3769\"}}},\"id\":\"3774\",\"type\":\"VArea\"},{\"attributes\":{},\"id\":\"3757\",\"type\":\"PanTool\"},{\"attributes\":{\"end\":1588464000000.0,\"start\":1583107200000.0},\"id\":\"3741\",\"type\":\"Range1d\"},{\"attributes\":{\"line_alpha\":0.75,\"line_color\":\"gray\",\"line_dash\":[6],\"x\":{\"field\":\"x\"},\"y\":{\"field\":\"y\"}},\"id\":\"3783\",\"type\":\"Line\"},{\"attributes\":{\"active_drag\":\"auto\",\"active_inspect\":\"auto\",\"active_multi\":null,\"active_scroll\":\"auto\",\"active_tap\":\"auto\",\"tools\":[{\"id\":\"3757\"},{\"id\":\"3758\"},{\"id\":\"3759\"},{\"id\":\"3760\"}]},\"id\":\"3762\",\"type\":\"Toolbar\"},{\"attributes\":{},\"id\":\"3747\",\"type\":\"LinearScale\"},{\"attributes\":{\"source\":{\"id\":\"3767\"}},\"id\":\"3781\",\"type\":\"CDSView\"},{\"attributes\":{\"fields\":[]},\"id\":\"3768\",\"type\":\"Stack\"},{\"attributes\":{\"axis_label\":\"# of Cases & Deaths\",\"formatter\":{\"id\":\"3789\"},\"ticker\":{\"id\":\"3754\"}},\"id\":\"3753\",\"type\":\"LinearAxis\"},{\"attributes\":{\"code\":\"\\n        let date = new Date(tick);\\n        return `${date.getDate()}-${date.getMonth()}-${date.getFullYear()}`\\n    \"},\"id\":\"3809\",\"type\":\"FuncTickFormatter\"},{\"attributes\":{\"months\":[0,4,8]},\"id\":\"3802\",\"type\":\"MonthsTicker\"},{\"attributes\":{\"bottom_units\":\"screen\",\"fill_alpha\":0.5,\"fill_color\":\"lightgrey\",\"left_units\":\"screen\",\"level\":\"overlay\",\"line_alpha\":1.0,\"line_color\":\"black\",\"line_dash\":[4,4],\"line_width\":2,\"render_mode\":\"css\",\"right_units\":\"screen\",\"top_units\":\"screen\"},\"id\":\"3761\",\"type\":\"BoxAnnotation\"},{\"attributes\":{},\"id\":\"3804\",\"type\":\"YearsTicker\"},{\"attributes\":{\"data\":{\"x\":[1583107200000.0,1583193600000.0,1583280000000.0,1583366400000.0,1583452800000.0,1583539200000.0,1583625600000.0,1583712000000.0,1583798400000.0,1583884800000.0,1583971200000.0,1584057600000.0,1584144000000.0,1584230400000.0,1584316800000.0,1584403200000.0,1584489600000.0,1584576000000.0,1584662400000.0,1584748800000.0,1584835200000.0,1584921600000.0,1585008000000.0,1585094400000.0,1585180800000.0,1585267200000.0,1585353600000.0,1585440000000.0,1585526400000.0,1585612800000.0,1585699200000.0,1585785600000.0,1585872000000.0,1585958400000.0,1586044800000.0,1586131200000.0,1586217600000.0,1586304000000.0,1586390400000.0,1586476800000.0,1586563200000.0,1586649600000.0,1586736000000.0,1586822400000.0,1586908800000.0,1586995200000.0,1587081600000.0,1587168000000.0,1587254400000.0,1587340800000.0,1587427200000.0,1587513600000.0,1587600000000.0,1587686400000.0,1587772800000.0,1587859200000.0,1587945600000.0,1588032000000.0,1588118400000.0,1588204800000.0,1588291200000.0,1588377600000.0,1588464000000.0,1588550400000.0,1588636800000.0,1588723200000.0,1588809600000.0,1588896000000.0,1588982400000.0,1589068800000.0,1589155200000.0],\"y\":[820.3491802001747,872.3998842796319,927.7531768915798,986.6186054611267,1049.2190130821994,1115.7913821204124,1186.5877313420774,1261.8760699655525,1341.9414122466262,1427.086856438786,1517.63473221292,1613.9278208801695,1716.3306530372495,1825.230888546651,1941.0407840758257,2064.198753750928,2195.1710288331756,2334.4534227007634,2482.573207817905,2640.0911117965343,2807.6034401070165,2985.7443334736886,3175.1881685009057,3376.6521106174887,3590.898829004089,3818.739383781206,4061.036296387692,4318.706814773083,4592.726385764593,4884.132347753872,5194.027857682714,5523.586067193852,5874.054563756212,6246.760093577127,6643.113584180734,7064.615485666193,7512.861450865836,7989.548375906165,8496.480824039198,9035.577857062297,9608.8803001879,10218.558467865183,10866.9203798009,11556.420498282176,12289.669019877678,13069.441756692057,13898.690644580609,14780.554918104299,15718.372994529616,16715.695111861594,17776.296768753153,18904.19301716923,20103.653661912624,21379.219424551367,22735.719132938437,24178.28800139694,25712.387070773126,27343.82388194992,29078.774461083645,30923.80669979181,32885.90521880105,34972.49780917969,37191.483551252226,39551.26271764312,42060.768573652604,44729.501195348545,47567.56343339782,50585.69915878303,53795.33393518857,57208.61827202768,60838.47362184998]},\"selected\":{\"id\":\"4019\"},\"selection_policy\":{\"id\":\"4020\"}},\"id\":\"3782\",\"type\":\"ColumnDataSource\"},{\"attributes\":{\"text\":\"Georgia Cases\"},\"id\":\"3739\",\"type\":\"Title\"},{\"attributes\":{\"fields\":[\"deaths\"]},\"id\":\"3769\",\"type\":\"Stack\"},{\"attributes\":{},\"id\":\"3805\",\"type\":\"Selection\"},{\"attributes\":{},\"id\":\"3806\",\"type\":\"UnionRenderers\"},{\"attributes\":{\"end\":31723},\"id\":\"3743\",\"type\":\"Range1d\"},{\"attributes\":{\"fill_color\":\"lightblue\",\"x\":{\"field\":\"x\"},\"y1\":{\"expr\":{\"id\":\"3770\"}},\"y2\":{\"expr\":{\"id\":\"3771\"}}},\"id\":\"3778\",\"type\":\"VArea\"},{\"attributes\":{},\"id\":\"3745\",\"type\":\"LinearScale\"},{\"attributes\":{\"axis\":{\"id\":\"3749\"},\"ticker\":null},\"id\":\"3752\",\"type\":\"Grid\"},{\"attributes\":{\"base\":60,\"mantissas\":[1,2,5,10,15,20,30],\"max_interval\":1800000.0,\"min_interval\":1000.0,\"num_minor_ticks\":0},\"id\":\"3794\",\"type\":\"AdaptiveTicker\"},{\"attributes\":{},\"id\":\"3754\",\"type\":\"BasicTicker\"},{\"attributes\":{\"num_minor_ticks\":5,\"tickers\":[{\"id\":\"3793\"},{\"id\":\"3794\"},{\"id\":\"3795\"},{\"id\":\"3796\"},{\"id\":\"3797\"},{\"id\":\"3798\"},{\"id\":\"3799\"},{\"id\":\"3800\"},{\"id\":\"3801\"},{\"id\":\"3802\"},{\"id\":\"3803\"},{\"id\":\"3804\"}]},\"id\":\"3750\",\"type\":\"DatetimeTicker\"},{\"attributes\":{\"days\":[1,2,3,4,5,6,7,8,9,10,11,12,13,14,15,16,17,18,19,20,21,22,23,24,25,26,27,28,29,30,31]},\"id\":\"3796\",\"type\":\"DaysTicker\"},{\"attributes\":{\"months\":[0,6]},\"id\":\"3803\",\"type\":\"MonthsTicker\"},{\"attributes\":{\"label\":{\"value\":\"Projected # of Cases\"},\"renderers\":[{\"id\":\"3785\"}]},\"id\":\"3808\",\"type\":\"LegendItem\"},{\"attributes\":{},\"id\":\"4019\",\"type\":\"Selection\"},{\"attributes\":{},\"id\":\"3789\",\"type\":\"BasicTickFormatter\"},{\"attributes\":{\"data\":{\"cases\":[2,2,2,2,3,7,11,17,22,31,31,41,65,97,118,142,193,282,482,552,620,800,1098,1393,1649,2211,2448,2687,3032,4126,4741,5444,5967,6383,6742,7558,9156,10204,10885,11859,12261,12103,13125,13913,14583,15644,16658,17014,17619,18447,19189,20099,20905,21575,22225,22459,23229,23800,24300,25431,26436],\"deaths\":[0,0,0,0,0,0,0,0,0,0,1,1,1,1,1,1,3,10,14,20,25,25,39,47,56,64,79,83,105,126,154,176,198,208,219,294,348,370,412,425,432,438,479,517,569,611,661,670,682,767,810,837,871,889,897,907,981,1022,1086,1121,1153],\"x\":{\"__ndarray__\":\"AABArYgJd0IAAAAT2wl3QgAAwHgtCndCAACA3n8Kd0IAAEBE0gp3QgAAAKokC3dCAADAD3cLd0IAAIB1yQt3QgAAQNsbDHdCAAAAQW4Md0IAAMCmwAx3QgAAgAwTDXdCAABAcmUNd0IAAADYtw13QgAAwD0KDndCAACAo1wOd0IAAEAJrw53QgAAAG8BD3dCAADA1FMPd0IAAIA6pg93QgAAQKD4D3dCAAAABksQd0IAAMBrnRB3QgAAgNHvEHdCAABAN0IRd0IAAACdlBF3QgAAwALnEXdCAACAaDkSd0IAAEDOixJ3QgAAADTeEndCAADAmTATd0IAAID/ghN3QgAAQGXVE3dCAAAAyycUd0IAAMAwehR3QgAAgJbMFHdCAABA/B4Vd0IAAABicRV3QgAAwMfDFXdCAACALRYWd0IAAECTaBZ3QgAAAPm6FndCAADAXg0Xd0IAAIDEXxd3QgAAQCqyF3dCAAAAkAQYd0IAAMD1Vhh3QgAAgFupGHdCAABAwfsYd0IAAAAnThl3QgAAwIygGXdCAACA8vIZd0IAAEBYRRp3QgAAAL6XGndCAADAI+oad0IAAICJPBt3QgAAQO+OG3dCAAAAVeEbd0IAAMC6Mxx3QgAAgCCGHHdCAABAhtgcd0I=\",\"dtype\":\"float64\",\"shape\":[61]}},\"selected\":{\"id\":\"3805\"},\"selection_policy\":{\"id\":\"3806\"}},\"id\":\"3767\",\"type\":\"ColumnDataSource\"},{\"attributes\":{\"base\":24,\"mantissas\":[1,2,4,6,8,12],\"max_interval\":43200000.0,\"min_interval\":3600000.0,\"num_minor_ticks\":0},\"id\":\"3795\",\"type\":\"AdaptiveTicker\"},{\"attributes\":{},\"id\":\"4020\",\"type\":\"UnionRenderers\"},{\"attributes\":{\"days\":[1,8,15,22]},\"id\":\"3798\",\"type\":\"DaysTicker\"},{\"attributes\":{\"axis_label\":\"Date\",\"formatter\":{\"id\":\"3809\"},\"ticker\":{\"id\":\"3750\"}},\"id\":\"3749\",\"type\":\"DatetimeAxis\"},{\"attributes\":{\"data_source\":{\"id\":\"3767\"},\"glyph\":{\"id\":\"3778\"},\"hover_glyph\":null,\"muted_glyph\":null,\"name\":\"cases\",\"nonselection_glyph\":{\"id\":\"3779\"},\"selection_glyph\":null,\"view\":{\"id\":\"3781\"}},\"id\":\"3780\",\"type\":\"GlyphRenderer\"},{\"attributes\":{\"source\":{\"id\":\"3782\"}},\"id\":\"3786\",\"type\":\"CDSView\"},{\"attributes\":{\"days\":[1,15]},\"id\":\"3799\",\"type\":\"DaysTicker\"},{\"attributes\":{\"data_source\":{\"id\":\"3767\"},\"glyph\":{\"id\":\"3773\"},\"hover_glyph\":null,\"muted_glyph\":null,\"name\":\"deaths\",\"nonselection_glyph\":{\"id\":\"3774\"},\"selection_glyph\":null,\"view\":{\"id\":\"3776\"}},\"id\":\"3775\",\"type\":\"GlyphRenderer\"},{\"attributes\":{\"days\":[1,4,7,10,13,16,19,22,25,28]},\"id\":\"3797\",\"type\":\"DaysTicker\"}],\"root_ids\":[\"3738\"]},\"title\":\"Bokeh Application\",\"version\":\"2.0.2\"}};\n",
       "  var render_items = [{\"docid\":\"11dfe46f-cd69-4a1e-b81a-eb77181c3d11\",\"root_ids\":[\"3738\"],\"roots\":{\"3738\":\"111dfb09-e8e6-4909-a199-253a605aec17\"}}];\n",
       "  root.Bokeh.embed.embed_items_notebook(docs_json, render_items);\n",
       "\n",
       "  }\n",
       "  if (root.Bokeh !== undefined) {\n",
       "    embed_document(root);\n",
       "  } else {\n",
       "    var attempts = 0;\n",
       "    var timer = setInterval(function(root) {\n",
       "      if (root.Bokeh !== undefined) {\n",
       "        clearInterval(timer);\n",
       "        embed_document(root);\n",
       "      } else {\n",
       "        attempts++;\n",
       "        if (attempts > 100) {\n",
       "          clearInterval(timer);\n",
       "          console.log(\"Bokeh: ERROR: Unable to run BokehJS code because BokehJS library is missing\");\n",
       "        }\n",
       "      }\n",
       "    }, 10, root)\n",
       "  }\n",
       "})(window);"
      ],
      "application/vnd.bokehjs_exec.v0+json": ""
     },
     "metadata": {
      "application/vnd.bokehjs_exec.v0+json": {
       "id": "3738"
      }
     },
     "output_type": "display_data"
    }
   ],
   "source": [
    "plot_state_curve(df, \"Georgia\")"
   ]
  }
 ],
 "metadata": {
  "kernelspec": {
   "display_name": "Python 3",
   "language": "python",
   "name": "python3"
  },
  "language_info": {
   "codemirror_mode": {
    "name": "ipython",
    "version": 3
   },
   "file_extension": ".py",
   "mimetype": "text/x-python",
   "name": "python",
   "nbconvert_exporter": "python",
   "pygments_lexer": "ipython3",
   "version": "3.7.6"
  }
 },
 "nbformat": 4,
 "nbformat_minor": 4
}
