{
 "cells": [
  {
   "cell_type": "code",
   "execution_count": 1,
   "metadata": {},
   "outputs": [
    {
     "data": {
      "text/html": [
       "\n",
       "    <div class=\"bk-root\">\n",
       "        <a href=\"https://bokeh.org\" target=\"_blank\" class=\"bk-logo bk-logo-small bk-logo-notebook\"></a>\n",
       "        <span id=\"1001\">Loading BokehJS ...</span>\n",
       "    </div>"
      ]
     },
     "metadata": {},
     "output_type": "display_data"
    },
    {
     "data": {
      "application/javascript": [
       "\n",
       "(function(root) {\n",
       "  function now() {\n",
       "    return new Date();\n",
       "  }\n",
       "\n",
       "  var force = true;\n",
       "\n",
       "  if (typeof root._bokeh_onload_callbacks === \"undefined\" || force === true) {\n",
       "    root._bokeh_onload_callbacks = [];\n",
       "    root._bokeh_is_loading = undefined;\n",
       "  }\n",
       "\n",
       "  var JS_MIME_TYPE = 'application/javascript';\n",
       "  var HTML_MIME_TYPE = 'text/html';\n",
       "  var EXEC_MIME_TYPE = 'application/vnd.bokehjs_exec.v0+json';\n",
       "  var CLASS_NAME = 'output_bokeh rendered_html';\n",
       "\n",
       "  /**\n",
       "   * Render data to the DOM node\n",
       "   */\n",
       "  function render(props, node) {\n",
       "    var script = document.createElement(\"script\");\n",
       "    node.appendChild(script);\n",
       "  }\n",
       "\n",
       "  /**\n",
       "   * Handle when an output is cleared or removed\n",
       "   */\n",
       "  function handleClearOutput(event, handle) {\n",
       "    var cell = handle.cell;\n",
       "\n",
       "    var id = cell.output_area._bokeh_element_id;\n",
       "    var server_id = cell.output_area._bokeh_server_id;\n",
       "    // Clean up Bokeh references\n",
       "    if (id != null && id in Bokeh.index) {\n",
       "      Bokeh.index[id].model.document.clear();\n",
       "      delete Bokeh.index[id];\n",
       "    }\n",
       "\n",
       "    if (server_id !== undefined) {\n",
       "      // Clean up Bokeh references\n",
       "      var cmd = \"from bokeh.io.state import curstate; print(curstate().uuid_to_server['\" + server_id + \"'].get_sessions()[0].document.roots[0]._id)\";\n",
       "      cell.notebook.kernel.execute(cmd, {\n",
       "        iopub: {\n",
       "          output: function(msg) {\n",
       "            var id = msg.content.text.trim();\n",
       "            if (id in Bokeh.index) {\n",
       "              Bokeh.index[id].model.document.clear();\n",
       "              delete Bokeh.index[id];\n",
       "            }\n",
       "          }\n",
       "        }\n",
       "      });\n",
       "      // Destroy server and session\n",
       "      var cmd = \"import bokeh.io.notebook as ion; ion.destroy_server('\" + server_id + \"')\";\n",
       "      cell.notebook.kernel.execute(cmd);\n",
       "    }\n",
       "  }\n",
       "\n",
       "  /**\n",
       "   * Handle when a new output is added\n",
       "   */\n",
       "  function handleAddOutput(event, handle) {\n",
       "    var output_area = handle.output_area;\n",
       "    var output = handle.output;\n",
       "\n",
       "    // limit handleAddOutput to display_data with EXEC_MIME_TYPE content only\n",
       "    if ((output.output_type != \"display_data\") || (!output.data.hasOwnProperty(EXEC_MIME_TYPE))) {\n",
       "      return\n",
       "    }\n",
       "\n",
       "    var toinsert = output_area.element.find(\".\" + CLASS_NAME.split(' ')[0]);\n",
       "\n",
       "    if (output.metadata[EXEC_MIME_TYPE][\"id\"] !== undefined) {\n",
       "      toinsert[toinsert.length - 1].firstChild.textContent = output.data[JS_MIME_TYPE];\n",
       "      // store reference to embed id on output_area\n",
       "      output_area._bokeh_element_id = output.metadata[EXEC_MIME_TYPE][\"id\"];\n",
       "    }\n",
       "    if (output.metadata[EXEC_MIME_TYPE][\"server_id\"] !== undefined) {\n",
       "      var bk_div = document.createElement(\"div\");\n",
       "      bk_div.innerHTML = output.data[HTML_MIME_TYPE];\n",
       "      var script_attrs = bk_div.children[0].attributes;\n",
       "      for (var i = 0; i < script_attrs.length; i++) {\n",
       "        toinsert[toinsert.length - 1].firstChild.setAttribute(script_attrs[i].name, script_attrs[i].value);\n",
       "        toinsert[toinsert.length - 1].firstChild.textContent = bk_div.children[0].textContent\n",
       "      }\n",
       "      // store reference to server id on output_area\n",
       "      output_area._bokeh_server_id = output.metadata[EXEC_MIME_TYPE][\"server_id\"];\n",
       "    }\n",
       "  }\n",
       "\n",
       "  function register_renderer(events, OutputArea) {\n",
       "\n",
       "    function append_mime(data, metadata, element) {\n",
       "      // create a DOM node to render to\n",
       "      var toinsert = this.create_output_subarea(\n",
       "        metadata,\n",
       "        CLASS_NAME,\n",
       "        EXEC_MIME_TYPE\n",
       "      );\n",
       "      this.keyboard_manager.register_events(toinsert);\n",
       "      // Render to node\n",
       "      var props = {data: data, metadata: metadata[EXEC_MIME_TYPE]};\n",
       "      render(props, toinsert[toinsert.length - 1]);\n",
       "      element.append(toinsert);\n",
       "      return toinsert\n",
       "    }\n",
       "\n",
       "    /* Handle when an output is cleared or removed */\n",
       "    events.on('clear_output.CodeCell', handleClearOutput);\n",
       "    events.on('delete.Cell', handleClearOutput);\n",
       "\n",
       "    /* Handle when a new output is added */\n",
       "    events.on('output_added.OutputArea', handleAddOutput);\n",
       "\n",
       "    /**\n",
       "     * Register the mime type and append_mime function with output_area\n",
       "     */\n",
       "    OutputArea.prototype.register_mime_type(EXEC_MIME_TYPE, append_mime, {\n",
       "      /* Is output safe? */\n",
       "      safe: true,\n",
       "      /* Index of renderer in `output_area.display_order` */\n",
       "      index: 0\n",
       "    });\n",
       "  }\n",
       "\n",
       "  // register the mime type if in Jupyter Notebook environment and previously unregistered\n",
       "  if (root.Jupyter !== undefined) {\n",
       "    var events = require('base/js/events');\n",
       "    var OutputArea = require('notebook/js/outputarea').OutputArea;\n",
       "\n",
       "    if (OutputArea.prototype.mime_types().indexOf(EXEC_MIME_TYPE) == -1) {\n",
       "      register_renderer(events, OutputArea);\n",
       "    }\n",
       "  }\n",
       "\n",
       "  \n",
       "  if (typeof (root._bokeh_timeout) === \"undefined\" || force === true) {\n",
       "    root._bokeh_timeout = Date.now() + 5000;\n",
       "    root._bokeh_failed_load = false;\n",
       "  }\n",
       "\n",
       "  var NB_LOAD_WARNING = {'data': {'text/html':\n",
       "     \"<div style='background-color: #fdd'>\\n\"+\n",
       "     \"<p>\\n\"+\n",
       "     \"BokehJS does not appear to have successfully loaded. If loading BokehJS from CDN, this \\n\"+\n",
       "     \"may be due to a slow or bad network connection. Possible fixes:\\n\"+\n",
       "     \"</p>\\n\"+\n",
       "     \"<ul>\\n\"+\n",
       "     \"<li>re-rerun `output_notebook()` to attempt to load from CDN again, or</li>\\n\"+\n",
       "     \"<li>use INLINE resources instead, as so:</li>\\n\"+\n",
       "     \"</ul>\\n\"+\n",
       "     \"<code>\\n\"+\n",
       "     \"from bokeh.resources import INLINE\\n\"+\n",
       "     \"output_notebook(resources=INLINE)\\n\"+\n",
       "     \"</code>\\n\"+\n",
       "     \"</div>\"}};\n",
       "\n",
       "  function display_loaded() {\n",
       "    var el = document.getElementById(\"1001\");\n",
       "    if (el != null) {\n",
       "      el.textContent = \"BokehJS is loading...\";\n",
       "    }\n",
       "    if (root.Bokeh !== undefined) {\n",
       "      if (el != null) {\n",
       "        el.textContent = \"BokehJS \" + root.Bokeh.version + \" successfully loaded.\";\n",
       "      }\n",
       "    } else if (Date.now() < root._bokeh_timeout) {\n",
       "      setTimeout(display_loaded, 100)\n",
       "    }\n",
       "  }\n",
       "\n",
       "\n",
       "  function run_callbacks() {\n",
       "    try {\n",
       "      root._bokeh_onload_callbacks.forEach(function(callback) {\n",
       "        if (callback != null)\n",
       "          callback();\n",
       "      });\n",
       "    } finally {\n",
       "      delete root._bokeh_onload_callbacks\n",
       "    }\n",
       "    console.debug(\"Bokeh: all callbacks have finished\");\n",
       "  }\n",
       "\n",
       "  function load_libs(css_urls, js_urls, callback) {\n",
       "    if (css_urls == null) css_urls = [];\n",
       "    if (js_urls == null) js_urls = [];\n",
       "\n",
       "    root._bokeh_onload_callbacks.push(callback);\n",
       "    if (root._bokeh_is_loading > 0) {\n",
       "      console.debug(\"Bokeh: BokehJS is being loaded, scheduling callback at\", now());\n",
       "      return null;\n",
       "    }\n",
       "    if (js_urls == null || js_urls.length === 0) {\n",
       "      run_callbacks();\n",
       "      return null;\n",
       "    }\n",
       "    console.debug(\"Bokeh: BokehJS not loaded, scheduling load and callback at\", now());\n",
       "    root._bokeh_is_loading = css_urls.length + js_urls.length;\n",
       "\n",
       "    function on_load() {\n",
       "      root._bokeh_is_loading--;\n",
       "      if (root._bokeh_is_loading === 0) {\n",
       "        console.debug(\"Bokeh: all BokehJS libraries/stylesheets loaded\");\n",
       "        run_callbacks()\n",
       "      }\n",
       "    }\n",
       "\n",
       "    function on_error() {\n",
       "      console.error(\"failed to load \" + url);\n",
       "    }\n",
       "\n",
       "    for (var i = 0; i < css_urls.length; i++) {\n",
       "      var url = css_urls[i];\n",
       "      const element = document.createElement(\"link\");\n",
       "      element.onload = on_load;\n",
       "      element.onerror = on_error;\n",
       "      element.rel = \"stylesheet\";\n",
       "      element.type = \"text/css\";\n",
       "      element.href = url;\n",
       "      console.debug(\"Bokeh: injecting link tag for BokehJS stylesheet: \", url);\n",
       "      document.body.appendChild(element);\n",
       "    }\n",
       "\n",
       "    const hashes = {\"https://cdn.bokeh.org/bokeh/release/bokeh-2.0.2.min.js\": \"ufR9RFnRs6lniiaFvtJziE0YeidtAgBRH6ux2oUItHw5WTvE1zuk9uzhUU/FJXDp\", \"https://cdn.bokeh.org/bokeh/release/bokeh-widgets-2.0.2.min.js\": \"8QM/PGWBT+IssZuRcDcjzwIh1mkOmJSoNMmyYDZbCfXJg3Ap1lEvdVgFuSAwhb/J\", \"https://cdn.bokeh.org/bokeh/release/bokeh-tables-2.0.2.min.js\": \"Jm8cH3Rg0P6UeZhVY5cLy1WzKajUT9KImCY+76hEqrcJt59/d8GPvFHjCkYgnSIn\", \"https://cdn.bokeh.org/bokeh/release/bokeh-gl-2.0.2.min.js\": \"Ozhzj+SI7ywm74aOI/UajcWz+C0NjsPunEVyVIrxzYkB+jA+2tUw8x5xJCbVtK5I\"};\n",
       "\n",
       "    for (var i = 0; i < js_urls.length; i++) {\n",
       "      var url = js_urls[i];\n",
       "      var element = document.createElement('script');\n",
       "      element.onload = on_load;\n",
       "      element.onerror = on_error;\n",
       "      element.async = false;\n",
       "      element.src = url;\n",
       "      if (url in hashes) {\n",
       "        element.crossOrigin = \"anonymous\";\n",
       "        element.integrity = \"sha384-\" + hashes[url];\n",
       "      }\n",
       "      console.debug(\"Bokeh: injecting script tag for BokehJS library: \", url);\n",
       "      document.head.appendChild(element);\n",
       "    }\n",
       "  };\n",
       "\n",
       "  function inject_raw_css(css) {\n",
       "    const element = document.createElement(\"style\");\n",
       "    element.appendChild(document.createTextNode(css));\n",
       "    document.body.appendChild(element);\n",
       "  }\n",
       "\n",
       "  \n",
       "  var js_urls = [\"https://cdn.bokeh.org/bokeh/release/bokeh-2.0.2.min.js\", \"https://cdn.bokeh.org/bokeh/release/bokeh-widgets-2.0.2.min.js\", \"https://cdn.bokeh.org/bokeh/release/bokeh-tables-2.0.2.min.js\", \"https://cdn.bokeh.org/bokeh/release/bokeh-gl-2.0.2.min.js\"];\n",
       "  var css_urls = [];\n",
       "  \n",
       "\n",
       "  var inline_js = [\n",
       "    function(Bokeh) {\n",
       "      Bokeh.set_log_level(\"info\");\n",
       "    },\n",
       "    function(Bokeh) {\n",
       "    \n",
       "    \n",
       "    }\n",
       "  ];\n",
       "\n",
       "  function run_inline_js() {\n",
       "    \n",
       "    if (root.Bokeh !== undefined || force === true) {\n",
       "      \n",
       "    for (var i = 0; i < inline_js.length; i++) {\n",
       "      inline_js[i].call(root, root.Bokeh);\n",
       "    }\n",
       "    if (force === true) {\n",
       "        display_loaded();\n",
       "      }} else if (Date.now() < root._bokeh_timeout) {\n",
       "      setTimeout(run_inline_js, 100);\n",
       "    } else if (!root._bokeh_failed_load) {\n",
       "      console.log(\"Bokeh: BokehJS failed to load within specified timeout.\");\n",
       "      root._bokeh_failed_load = true;\n",
       "    } else if (force !== true) {\n",
       "      var cell = $(document.getElementById(\"1001\")).parents('.cell').data().cell;\n",
       "      cell.output_area.append_execute_result(NB_LOAD_WARNING)\n",
       "    }\n",
       "\n",
       "  }\n",
       "\n",
       "  if (root._bokeh_is_loading === 0) {\n",
       "    console.debug(\"Bokeh: BokehJS loaded, going straight to plotting\");\n",
       "    run_inline_js();\n",
       "  } else {\n",
       "    load_libs(css_urls, js_urls, function() {\n",
       "      console.debug(\"Bokeh: BokehJS plotting callback run at\", now());\n",
       "      run_inline_js();\n",
       "    });\n",
       "  }\n",
       "}(window));"
      ],
      "application/vnd.bokehjs_load.v0+json": "\n(function(root) {\n  function now() {\n    return new Date();\n  }\n\n  var force = true;\n\n  if (typeof root._bokeh_onload_callbacks === \"undefined\" || force === true) {\n    root._bokeh_onload_callbacks = [];\n    root._bokeh_is_loading = undefined;\n  }\n\n  \n\n  \n  if (typeof (root._bokeh_timeout) === \"undefined\" || force === true) {\n    root._bokeh_timeout = Date.now() + 5000;\n    root._bokeh_failed_load = false;\n  }\n\n  var NB_LOAD_WARNING = {'data': {'text/html':\n     \"<div style='background-color: #fdd'>\\n\"+\n     \"<p>\\n\"+\n     \"BokehJS does not appear to have successfully loaded. If loading BokehJS from CDN, this \\n\"+\n     \"may be due to a slow or bad network connection. Possible fixes:\\n\"+\n     \"</p>\\n\"+\n     \"<ul>\\n\"+\n     \"<li>re-rerun `output_notebook()` to attempt to load from CDN again, or</li>\\n\"+\n     \"<li>use INLINE resources instead, as so:</li>\\n\"+\n     \"</ul>\\n\"+\n     \"<code>\\n\"+\n     \"from bokeh.resources import INLINE\\n\"+\n     \"output_notebook(resources=INLINE)\\n\"+\n     \"</code>\\n\"+\n     \"</div>\"}};\n\n  function display_loaded() {\n    var el = document.getElementById(\"1001\");\n    if (el != null) {\n      el.textContent = \"BokehJS is loading...\";\n    }\n    if (root.Bokeh !== undefined) {\n      if (el != null) {\n        el.textContent = \"BokehJS \" + root.Bokeh.version + \" successfully loaded.\";\n      }\n    } else if (Date.now() < root._bokeh_timeout) {\n      setTimeout(display_loaded, 100)\n    }\n  }\n\n\n  function run_callbacks() {\n    try {\n      root._bokeh_onload_callbacks.forEach(function(callback) {\n        if (callback != null)\n          callback();\n      });\n    } finally {\n      delete root._bokeh_onload_callbacks\n    }\n    console.debug(\"Bokeh: all callbacks have finished\");\n  }\n\n  function load_libs(css_urls, js_urls, callback) {\n    if (css_urls == null) css_urls = [];\n    if (js_urls == null) js_urls = [];\n\n    root._bokeh_onload_callbacks.push(callback);\n    if (root._bokeh_is_loading > 0) {\n      console.debug(\"Bokeh: BokehJS is being loaded, scheduling callback at\", now());\n      return null;\n    }\n    if (js_urls == null || js_urls.length === 0) {\n      run_callbacks();\n      return null;\n    }\n    console.debug(\"Bokeh: BokehJS not loaded, scheduling load and callback at\", now());\n    root._bokeh_is_loading = css_urls.length + js_urls.length;\n\n    function on_load() {\n      root._bokeh_is_loading--;\n      if (root._bokeh_is_loading === 0) {\n        console.debug(\"Bokeh: all BokehJS libraries/stylesheets loaded\");\n        run_callbacks()\n      }\n    }\n\n    function on_error() {\n      console.error(\"failed to load \" + url);\n    }\n\n    for (var i = 0; i < css_urls.length; i++) {\n      var url = css_urls[i];\n      const element = document.createElement(\"link\");\n      element.onload = on_load;\n      element.onerror = on_error;\n      element.rel = \"stylesheet\";\n      element.type = \"text/css\";\n      element.href = url;\n      console.debug(\"Bokeh: injecting link tag for BokehJS stylesheet: \", url);\n      document.body.appendChild(element);\n    }\n\n    const hashes = {\"https://cdn.bokeh.org/bokeh/release/bokeh-2.0.2.min.js\": \"ufR9RFnRs6lniiaFvtJziE0YeidtAgBRH6ux2oUItHw5WTvE1zuk9uzhUU/FJXDp\", \"https://cdn.bokeh.org/bokeh/release/bokeh-widgets-2.0.2.min.js\": \"8QM/PGWBT+IssZuRcDcjzwIh1mkOmJSoNMmyYDZbCfXJg3Ap1lEvdVgFuSAwhb/J\", \"https://cdn.bokeh.org/bokeh/release/bokeh-tables-2.0.2.min.js\": \"Jm8cH3Rg0P6UeZhVY5cLy1WzKajUT9KImCY+76hEqrcJt59/d8GPvFHjCkYgnSIn\", \"https://cdn.bokeh.org/bokeh/release/bokeh-gl-2.0.2.min.js\": \"Ozhzj+SI7ywm74aOI/UajcWz+C0NjsPunEVyVIrxzYkB+jA+2tUw8x5xJCbVtK5I\"};\n\n    for (var i = 0; i < js_urls.length; i++) {\n      var url = js_urls[i];\n      var element = document.createElement('script');\n      element.onload = on_load;\n      element.onerror = on_error;\n      element.async = false;\n      element.src = url;\n      if (url in hashes) {\n        element.crossOrigin = \"anonymous\";\n        element.integrity = \"sha384-\" + hashes[url];\n      }\n      console.debug(\"Bokeh: injecting script tag for BokehJS library: \", url);\n      document.head.appendChild(element);\n    }\n  };\n\n  function inject_raw_css(css) {\n    const element = document.createElement(\"style\");\n    element.appendChild(document.createTextNode(css));\n    document.body.appendChild(element);\n  }\n\n  \n  var js_urls = [\"https://cdn.bokeh.org/bokeh/release/bokeh-2.0.2.min.js\", \"https://cdn.bokeh.org/bokeh/release/bokeh-widgets-2.0.2.min.js\", \"https://cdn.bokeh.org/bokeh/release/bokeh-tables-2.0.2.min.js\", \"https://cdn.bokeh.org/bokeh/release/bokeh-gl-2.0.2.min.js\"];\n  var css_urls = [];\n  \n\n  var inline_js = [\n    function(Bokeh) {\n      Bokeh.set_log_level(\"info\");\n    },\n    function(Bokeh) {\n    \n    \n    }\n  ];\n\n  function run_inline_js() {\n    \n    if (root.Bokeh !== undefined || force === true) {\n      \n    for (var i = 0; i < inline_js.length; i++) {\n      inline_js[i].call(root, root.Bokeh);\n    }\n    if (force === true) {\n        display_loaded();\n      }} else if (Date.now() < root._bokeh_timeout) {\n      setTimeout(run_inline_js, 100);\n    } else if (!root._bokeh_failed_load) {\n      console.log(\"Bokeh: BokehJS failed to load within specified timeout.\");\n      root._bokeh_failed_load = true;\n    } else if (force !== true) {\n      var cell = $(document.getElementById(\"1001\")).parents('.cell').data().cell;\n      cell.output_area.append_execute_result(NB_LOAD_WARNING)\n    }\n\n  }\n\n  if (root._bokeh_is_loading === 0) {\n    console.debug(\"Bokeh: BokehJS loaded, going straight to plotting\");\n    run_inline_js();\n  } else {\n    load_libs(css_urls, js_urls, function() {\n      console.debug(\"Bokeh: BokehJS plotting callback run at\", now());\n      run_inline_js();\n    });\n  }\n}(window));"
     },
     "metadata": {},
     "output_type": "display_data"
    },
    {
     "data": {
      "text/html": [
       "<div>\n",
       "<style scoped>\n",
       "    .dataframe tbody tr th:only-of-type {\n",
       "        vertical-align: middle;\n",
       "    }\n",
       "\n",
       "    .dataframe tbody tr th {\n",
       "        vertical-align: top;\n",
       "    }\n",
       "\n",
       "    .dataframe thead th {\n",
       "        text-align: right;\n",
       "    }\n",
       "</style>\n",
       "<table border=\"1\" class=\"dataframe\">\n",
       "  <thead>\n",
       "    <tr style=\"text-align: right;\">\n",
       "      <th></th>\n",
       "      <th>date</th>\n",
       "      <th>county</th>\n",
       "      <th>state</th>\n",
       "      <th>fips</th>\n",
       "      <th>cases</th>\n",
       "      <th>deaths</th>\n",
       "    </tr>\n",
       "  </thead>\n",
       "  <tbody>\n",
       "    <tr>\n",
       "      <th>0</th>\n",
       "      <td>2020-01-21</td>\n",
       "      <td>Snohomish</td>\n",
       "      <td>Washington</td>\n",
       "      <td>53061.0</td>\n",
       "      <td>1</td>\n",
       "      <td>0</td>\n",
       "    </tr>\n",
       "    <tr>\n",
       "      <th>1</th>\n",
       "      <td>2020-01-22</td>\n",
       "      <td>Snohomish</td>\n",
       "      <td>Washington</td>\n",
       "      <td>53061.0</td>\n",
       "      <td>1</td>\n",
       "      <td>0</td>\n",
       "    </tr>\n",
       "    <tr>\n",
       "      <th>2</th>\n",
       "      <td>2020-01-23</td>\n",
       "      <td>Snohomish</td>\n",
       "      <td>Washington</td>\n",
       "      <td>53061.0</td>\n",
       "      <td>1</td>\n",
       "      <td>0</td>\n",
       "    </tr>\n",
       "    <tr>\n",
       "      <th>3</th>\n",
       "      <td>2020-01-24</td>\n",
       "      <td>Cook</td>\n",
       "      <td>Illinois</td>\n",
       "      <td>17031.0</td>\n",
       "      <td>1</td>\n",
       "      <td>0</td>\n",
       "    </tr>\n",
       "    <tr>\n",
       "      <th>4</th>\n",
       "      <td>2020-01-24</td>\n",
       "      <td>Snohomish</td>\n",
       "      <td>Washington</td>\n",
       "      <td>53061.0</td>\n",
       "      <td>1</td>\n",
       "      <td>0</td>\n",
       "    </tr>\n",
       "  </tbody>\n",
       "</table>\n",
       "</div>"
      ],
      "text/plain": [
       "        date     county       state     fips  cases  deaths\n",
       "0 2020-01-21  Snohomish  Washington  53061.0      1       0\n",
       "1 2020-01-22  Snohomish  Washington  53061.0      1       0\n",
       "2 2020-01-23  Snohomish  Washington  53061.0      1       0\n",
       "3 2020-01-24       Cook    Illinois  17031.0      1       0\n",
       "4 2020-01-24  Snohomish  Washington  53061.0      1       0"
      ]
     },
     "execution_count": 1,
     "metadata": {},
     "output_type": "execute_result"
    }
   ],
   "source": [
    "from datetime import datetime, timedelta\n",
    "import math\n",
    "\n",
    "from bokeh.io import output_notebook\n",
    "from bokeh.models import FuncTickFormatter, ColumnDataSource\n",
    "from bokeh.plotting import figure, output_file, show\n",
    "import pandas as pd\n",
    "import numpy as np\n",
    "\n",
    "# bokeh: configure for notebook\n",
    "# https://docs.bokeh.org/en/latest/docs/user_guide/jupyter.html#userguide-jupyter-notebook\n",
    "output_notebook()\n",
    "\n",
    "# load data\n",
    "df = pd.read_csv(\n",
    "    \"https://raw.githubusercontent.com/nytimes/covid-19-data/master/us-counties.csv\"\n",
    ")\n",
    "df.date = df.date.apply(pd.to_datetime)\n",
    "df.head()"
   ]
  },
  {
   "cell_type": "code",
   "execution_count": 2,
   "metadata": {},
   "outputs": [],
   "source": [
    "def get_r_squared(x, y, coeffs):\n",
    "    # source: https://stackoverflow.com/questions/893657/\n",
    "    p = np.poly1d(coeffs, r=True)\n",
    "    # fit values, and mean\n",
    "    yhat = p(x)  # or [p(z) for z in x]\n",
    "    ybar = np.sum(y) / len(y)  # or sum(y)/len(y)\n",
    "    ssreg = np.sum(\n",
    "        (yhat - ybar) ** 2\n",
    "    )  # or sum([ (yihat - ybar)**2 for yihat in yhat])\n",
    "    sstot = np.sum((y - ybar) ** 2)  # or sum([ (yi - ybar)**2 for yi in y])\n",
    "    return 1 - (ssreg / sstot)\n",
    "\n",
    "def unbiased_polyfit(df, steps=10):\n",
    "    # source: https://stackoverflow.com/questions/3433486\n",
    "    # generate x y values for calculation\n",
    "    x, y = list(range(len(df.index))), df[(\"cases\", \"sum\")]\n",
    "    b, a_ = np.polyfit(x, np.log(y), 1, w=np.sqrt(y))\n",
    "    a = math.exp(a_)\n",
    "    r_squared = get_r_squared(x, y, [b, a_])\n",
    "    print(f\"y ≈ exp({a_}) * exp({b} * x)\")\n",
    "    print(f\"y = {a} * exp({b} * x)\")\n",
    "    # print(f'r^2 = {r_squared}')\n",
    "    fnc = lambda x: a * math.exp(b * x)\n",
    "    x_range = [i for i in range(len(df.index) + steps)]\n",
    "    line = [fnc(x_val) for x_val in x_range]\n",
    "    return line\n",
    "\n",
    "\n",
    "def make_figure(df, title):\n",
    "    # make the figure\n",
    "    p = figure(\n",
    "        title=title,\n",
    "        x_axis_label=\"Date\",\n",
    "        y_axis_label=\"# of Cases & Deaths\",\n",
    "        y_range=[0, int(df[(\"cases\", \"sum\")].max() * 1.20)],\n",
    "        x_range=[df.index[0], pd.Timestamp(df.index.max() + timedelta(days=2))],\n",
    "        plot_width=880,\n",
    "        tools=\"pan,wheel_zoom,box_zoom,reset\",\n",
    "    )\n",
    "    # add actual values as an area graph\n",
    "    source = ColumnDataSource(\n",
    "        data=dict(x=df.index, cases=df[(\"cases\", \"sum\")], deaths=df[(\"deaths\", \"sum\")],)\n",
    "    )\n",
    "    p.varea_stack([\"deaths\", \"cases\"], x=\"x\", color=(\"red\", \"lightblue\"), source=source)\n",
    "    # add unbiased polyfit\n",
    "    steps = 10\n",
    "    extended_x = list(df.index) + [\n",
    "        pd.Timestamp(df.index.max() + timedelta(days=i)) for i in range(1, steps + 1)\n",
    "    ]\n",
    "    p.line(\n",
    "        extended_x,\n",
    "        unbiased_polyfit(df, steps=steps),\n",
    "        legend_label=f\"Projected # of Cases\",\n",
    "        line_width=1,\n",
    "        line_color=\"gray\",\n",
    "        line_dash=\"dashed\",\n",
    "        line_alpha=0.75,\n",
    "    )\n",
    "    # format axis\n",
    "    label_dict = {str(d): d.strftime(\"%d-%m-%Y\") for d in df.index}\n",
    "    p.xaxis.formatter = FuncTickFormatter(\n",
    "        code=\"\"\"\n",
    "        let date = new Date(tick);\n",
    "        return `${date.getDate()}-${date.getMonth()}-${date.getFullYear()}`\n",
    "    \"\"\"\n",
    "    )\n",
    "    p.legend.location = \"top_left\"\n",
    "    show(p)\n",
    "\n",
    "\n",
    "def plot_state_curve(df, state: str):\n",
    "    # get the state data\n",
    "    state_df = df[df[\"state\"] == state]\n",
    "    # arrange by day\n",
    "    day_df = (\n",
    "        state_df.drop(columns=[\"fips\", \"state\", \"county\"])\n",
    "        .groupby(by=\"date\")\n",
    "        .agg([\"sum\"])\n",
    "    )\n",
    "    day_df.columns = {(\"cases\", \"sum\"): \"cases_sum\", (\"deaths\", \"sum\"): \"deaths_sum\"}\n",
    "    make_figure(day_df, f\"{state} Cases\")\n",
    "\n",
    "\n",
    "def plot_state_counties_curve(df, state: str, counties: list, title=None):\n",
    "    # get the state and county data\n",
    "    counties_df = df[(df.state == state) & (df.county.isin(counties))]\n",
    "    # arrange by day\n",
    "    day_df = (\n",
    "        counties_df.drop(columns=[\"fips\", \"state\", \"county\"])\n",
    "        .groupby(by=\"date\")\n",
    "        .agg([\"sum\"])\n",
    "    )\n",
    "    day_df.columns = {(\"cases\", \"sum\"): \"cases_sum\", (\"deaths\", \"sum\"): \"deaths_sum\"}\n",
    "    make_figure(day_df, title or f'{state} Cases for counties {\",\".join(counties)}')\n",
    "\n",
    "\n",
    "def plot_states_and_counties_curve(df, state_county_map: dict, name):\n",
    "    \"\"\"for metropolitan area. i.e. chicagoland\"\"\"\n",
    "    states = state_county_map.keys()\n",
    "    # trim dataset to relevant states, counties\n",
    "    state_counties_df = df[\n",
    "        df.apply(\n",
    "            lambda x: x[\"state\"] in states\n",
    "            and x[\"county\"] in state_county_map[x[\"state\"]],\n",
    "            axis=1,\n",
    "        )\n",
    "    ]\n",
    "    # arrange by day\n",
    "    day_df = (\n",
    "        state_counties_df.drop(columns=[\"fips\", \"state\", \"county\"])\n",
    "        .groupby(by=\"date\")\n",
    "        .agg([\"sum\"])\n",
    "    )\n",
    "    day_df.columns = {(\"cases\", \"sum\"): \"cases_sum\", (\"deaths\", \"sum\"): \"deaths_sum\"}\n",
    "    make_figure(day_df, name)"
   ]
  },
  {
   "cell_type": "code",
   "execution_count": 3,
   "metadata": {},
   "outputs": [
    {
     "name": "stdout",
     "output_type": "stream",
     "text": [
      "y ≈ exp(6.548301574190983) * exp(0.06010588171663137 * x)\n",
      "y = 698.0575674309717 * exp(0.06010588171663137 * x)\n"
     ]
    },
    {
     "data": {
      "text/html": [
       "\n",
       "\n",
       "\n",
       "\n",
       "\n",
       "\n",
       "  <div class=\"bk-root\" id=\"a26bd0ea-748f-449d-a056-980b0847ef72\" data-root-id=\"1002\"></div>\n"
      ]
     },
     "metadata": {},
     "output_type": "display_data"
    },
    {
     "data": {
      "application/javascript": [
       "(function(root) {\n",
       "  function embed_document(root) {\n",
       "    \n",
       "  var docs_json = {\"036f9154-a111-4c65-b94b-67614ad55e17\":{\"roots\":{\"references\":[{\"attributes\":{\"below\":[{\"id\":\"1013\"}],\"center\":[{\"id\":\"1016\"},{\"id\":\"1020\"},{\"id\":\"1071\"}],\"left\":[{\"id\":\"1017\"}],\"plot_width\":880,\"renderers\":[{\"id\":\"1039\"},{\"id\":\"1044\"},{\"id\":\"1049\"}],\"title\":{\"id\":\"1003\"},\"toolbar\":{\"id\":\"1026\"},\"x_range\":{\"id\":\"1005\"},\"x_scale\":{\"id\":\"1009\"},\"y_range\":{\"id\":\"1007\"},\"y_scale\":{\"id\":\"1011\"}},\"id\":\"1002\",\"subtype\":\"Figure\",\"type\":\"Plot\"},{\"attributes\":{\"text\":\"Indiana Cases\"},\"id\":\"1003\",\"type\":\"Title\"},{\"attributes\":{},\"id\":\"1053\",\"type\":\"BasicTickFormatter\"},{\"attributes\":{\"days\":[1,2,3,4,5,6,7,8,9,10,11,12,13,14,15,16,17,18,19,20,21,22,23,24,25,26,27,28,29,30,31]},\"id\":\"1059\",\"type\":\"DaysTicker\"},{\"attributes\":{},\"id\":\"1070\",\"type\":\"UnionRenderers\"},{\"attributes\":{\"fill_color\":\"lightblue\",\"x\":{\"field\":\"x\"},\"y1\":{\"expr\":{\"id\":\"1034\"}},\"y2\":{\"expr\":{\"id\":\"1035\"}}},\"id\":\"1042\",\"type\":\"VArea\"},{\"attributes\":{\"line_alpha\":0.1,\"line_color\":\"gray\",\"line_dash\":[6],\"x\":{\"field\":\"x\"},\"y\":{\"field\":\"y\"}},\"id\":\"1048\",\"type\":\"Line\"},{\"attributes\":{\"base\":60,\"mantissas\":[1,2,5,10,15,20,30],\"max_interval\":1800000.0,\"min_interval\":1000.0,\"num_minor_ticks\":0},\"id\":\"1057\",\"type\":\"AdaptiveTicker\"},{\"attributes\":{\"source\":{\"id\":\"1046\"}},\"id\":\"1050\",\"type\":\"CDSView\"},{\"attributes\":{},\"id\":\"1067\",\"type\":\"YearsTicker\"},{\"attributes\":{\"base\":24,\"mantissas\":[1,2,4,6,8,12],\"max_interval\":43200000.0,\"min_interval\":3600000.0,\"num_minor_ticks\":0},\"id\":\"1058\",\"type\":\"AdaptiveTicker\"},{\"attributes\":{\"end\":24608},\"id\":\"1007\",\"type\":\"Range1d\"},{\"attributes\":{\"source\":{\"id\":\"1031\"}},\"id\":\"1045\",\"type\":\"CDSView\"},{\"attributes\":{\"data_source\":{\"id\":\"1046\"},\"glyph\":{\"id\":\"1047\"},\"hover_glyph\":null,\"muted_glyph\":null,\"nonselection_glyph\":{\"id\":\"1048\"},\"selection_glyph\":null,\"view\":{\"id\":\"1050\"}},\"id\":\"1049\",\"type\":\"GlyphRenderer\"},{\"attributes\":{\"items\":[{\"id\":\"1072\"}],\"location\":\"top_left\"},\"id\":\"1071\",\"type\":\"Legend\"},{\"attributes\":{},\"id\":\"1021\",\"type\":\"PanTool\"},{\"attributes\":{\"days\":[1,8,15,22]},\"id\":\"1061\",\"type\":\"DaysTicker\"},{\"attributes\":{\"axis\":{\"id\":\"1017\"},\"dimension\":1,\"ticker\":null},\"id\":\"1020\",\"type\":\"Grid\"},{\"attributes\":{\"overlay\":{\"id\":\"1025\"}},\"id\":\"1023\",\"type\":\"BoxZoomTool\"},{\"attributes\":{\"data\":{\"x\":[1583452800000.0,1583539200000.0,1583625600000.0,1583712000000.0,1583798400000.0,1583884800000.0,1583971200000.0,1584057600000.0,1584144000000.0,1584230400000.0,1584316800000.0,1584403200000.0,1584489600000.0,1584576000000.0,1584662400000.0,1584748800000.0,1584835200000.0,1584921600000.0,1585008000000.0,1585094400000.0,1585180800000.0,1585267200000.0,1585353600000.0,1585440000000.0,1585526400000.0,1585612800000.0,1585699200000.0,1585785600000.0,1585872000000.0,1585958400000.0,1586044800000.0,1586131200000.0,1586217600000.0,1586304000000.0,1586390400000.0,1586476800000.0,1586563200000.0,1586649600000.0,1586736000000.0,1586822400000.0,1586908800000.0,1586995200000.0,1587081600000.0,1587168000000.0,1587254400000.0,1587340800000.0,1587427200000.0,1587513600000.0,1587600000000.0,1587686400000.0,1587772800000.0,1587859200000.0,1587945600000.0,1588032000000.0,1588118400000.0,1588204800000.0,1588291200000.0,1588377600000.0,1588464000000.0,1588550400000.0,1588636800000.0,1588723200000.0,1588809600000.0,1588896000000.0,1588982400000.0,1589068800000.0,1589155200000.0,1589241600000.0,1589328000000.0,1589414400000.0],\"y\":[698.0575674309717,741.3015228133385,787.2243971908739,835.992146867048,887.7810089693165,942.7781383356964,1001.1822838558168,1063.2045067106073,1129.0689431062078,1199.0136142584606,1273.291286555123,1352.1703850042504,1435.9359632697758,1524.8907337998073,1619.356161770322,1719.6736267975616,1826.205656617323,1939.337237189429,2059.477203961833,2187.05971932212,2322.5458415756257,2466.425191120145,2619.217719838475,2781.475590103022,2953.7851701828217,3136.769153264007,3331.0888077414247,3537.4463669135275,3756.5875667164373,3989.304340668041,4236.43768176113,4498.880681647915,4777.581758098908,5073.548082399615,5387.84921907095,5721.620991066622,6076.069584415572,6452.4759071428225,6852.200218221039,7276.687043280915,7727.470394844829,8206.179315948635,8714.543767185209,9254.400878444309,9827.701587941387,10436.51769252746,11083.049334758482,11769.632953781076,12498.749728767505,13273.034545412855,14095.285517897588,14968.474100725978,15895.755826982622,16880.481711813038,17926.210362338246,19036.720837766235,20216.02630617424,21468.388547314757,22798.333353855658,24210.666886711384,25710.493043570317,27303.23190338469,28994.639313477892,30790.827690053065,32698.288107272114,34723.91375473059,36875.02484809927,39159.39508295467,41585.27972739728,44161.445454979104]},\"selected\":{\"id\":\"1094\"},\"selection_policy\":{\"id\":\"1095\"}},\"id\":\"1046\",\"type\":\"ColumnDataSource\"},{\"attributes\":{},\"id\":\"1094\",\"type\":\"Selection\"},{\"attributes\":{\"axis_label\":\"Date\",\"formatter\":{\"id\":\"1073\"},\"ticker\":{\"id\":\"1014\"}},\"id\":\"1013\",\"type\":\"DatetimeAxis\"},{\"attributes\":{\"end\":1588723200000.0,\"start\":1583452800000.0},\"id\":\"1005\",\"type\":\"Range1d\"},{\"attributes\":{},\"id\":\"1095\",\"type\":\"UnionRenderers\"},{\"attributes\":{},\"id\":\"1011\",\"type\":\"LinearScale\"},{\"attributes\":{\"active_drag\":\"auto\",\"active_inspect\":\"auto\",\"active_multi\":null,\"active_scroll\":\"auto\",\"active_tap\":\"auto\",\"tools\":[{\"id\":\"1021\"},{\"id\":\"1022\"},{\"id\":\"1023\"},{\"id\":\"1024\"}]},\"id\":\"1026\",\"type\":\"Toolbar\"},{\"attributes\":{\"data_source\":{\"id\":\"1031\"},\"glyph\":{\"id\":\"1042\"},\"hover_glyph\":null,\"muted_glyph\":null,\"name\":\"cases\",\"nonselection_glyph\":{\"id\":\"1043\"},\"selection_glyph\":null,\"view\":{\"id\":\"1045\"}},\"id\":\"1044\",\"type\":\"GlyphRenderer\"},{\"attributes\":{\"mantissas\":[1,2,5],\"max_interval\":500.0,\"num_minor_ticks\":0},\"id\":\"1056\",\"type\":\"AdaptiveTicker\"},{\"attributes\":{\"fields\":[\"deaths\"]},\"id\":\"1033\",\"type\":\"Stack\"},{\"attributes\":{},\"id\":\"1069\",\"type\":\"Selection\"},{\"attributes\":{\"fields\":[\"deaths\"]},\"id\":\"1034\",\"type\":\"Stack\"},{\"attributes\":{\"axis_label\":\"# of Cases & Deaths\",\"formatter\":{\"id\":\"1053\"},\"ticker\":{\"id\":\"1018\"}},\"id\":\"1017\",\"type\":\"LinearAxis\"},{\"attributes\":{\"bottom_units\":\"screen\",\"fill_alpha\":0.5,\"fill_color\":\"lightgrey\",\"left_units\":\"screen\",\"level\":\"overlay\",\"line_alpha\":1.0,\"line_color\":\"black\",\"line_dash\":[4,4],\"line_width\":2,\"render_mode\":\"css\",\"right_units\":\"screen\",\"top_units\":\"screen\"},\"id\":\"1025\",\"type\":\"BoxAnnotation\"},{\"attributes\":{},\"id\":\"1018\",\"type\":\"BasicTicker\"},{\"attributes\":{\"fill_alpha\":0.1,\"fill_color\":\"red\",\"x\":{\"field\":\"x\"},\"y1\":{\"expr\":{\"id\":\"1032\"}},\"y2\":{\"expr\":{\"id\":\"1033\"}}},\"id\":\"1038\",\"type\":\"VArea\"},{\"attributes\":{},\"id\":\"1022\",\"type\":\"WheelZoomTool\"},{\"attributes\":{\"fill_alpha\":0.1,\"fill_color\":\"lightblue\",\"x\":{\"field\":\"x\"},\"y1\":{\"expr\":{\"id\":\"1034\"}},\"y2\":{\"expr\":{\"id\":\"1035\"}}},\"id\":\"1043\",\"type\":\"VArea\"},{\"attributes\":{\"months\":[0,6]},\"id\":\"1066\",\"type\":\"MonthsTicker\"},{\"attributes\":{},\"id\":\"1009\",\"type\":\"LinearScale\"},{\"attributes\":{\"data_source\":{\"id\":\"1031\"},\"glyph\":{\"id\":\"1037\"},\"hover_glyph\":null,\"muted_glyph\":null,\"name\":\"deaths\",\"nonselection_glyph\":{\"id\":\"1038\"},\"selection_glyph\":null,\"view\":{\"id\":\"1040\"}},\"id\":\"1039\",\"type\":\"GlyphRenderer\"},{\"attributes\":{\"days\":[1,4,7,10,13,16,19,22,25,28]},\"id\":\"1060\",\"type\":\"DaysTicker\"},{\"attributes\":{\"num_minor_ticks\":5,\"tickers\":[{\"id\":\"1056\"},{\"id\":\"1057\"},{\"id\":\"1058\"},{\"id\":\"1059\"},{\"id\":\"1060\"},{\"id\":\"1061\"},{\"id\":\"1062\"},{\"id\":\"1063\"},{\"id\":\"1064\"},{\"id\":\"1065\"},{\"id\":\"1066\"},{\"id\":\"1067\"}]},\"id\":\"1014\",\"type\":\"DatetimeTicker\"},{\"attributes\":{\"line_alpha\":0.75,\"line_color\":\"gray\",\"line_dash\":[6],\"x\":{\"field\":\"x\"},\"y\":{\"field\":\"y\"}},\"id\":\"1047\",\"type\":\"Line\"},{\"attributes\":{\"code\":\"\\n        let date = new Date(tick);\\n        return `${date.getDate()}-${date.getMonth()}-${date.getFullYear()}`\\n    \"},\"id\":\"1073\",\"type\":\"FuncTickFormatter\"},{\"attributes\":{\"days\":[1,15]},\"id\":\"1062\",\"type\":\"DaysTicker\"},{\"attributes\":{\"months\":[0,4,8]},\"id\":\"1065\",\"type\":\"MonthsTicker\"},{\"attributes\":{\"data\":{\"cases\":[1,1,2,4,6,11,12,12,15,19,24,30,39,56,79,126,201,259,366,479,656,986,1232,1514,1788,2168,2566,3038,3435,3951,4409,4956,5509,5943,6351,6907,7435,7928,8236,8527,8955,9542,10154,10641,11210,11686,12097,12438,13039,13680,14395,15012,15961,16579,17168,17822,18630,19295,19933,20507],\"deaths\":[0,0,0,0,0,0,0,0,0,0,1,2,2,2,3,4,6,7,12,14,18,26,31,32,35,50,66,78,102,116,127,141,173,203,246,300,330,343,350,387,436,477,519,545,562,569,630,661,706,741,785,813,844,901,964,1007,1062,1115,1132,1151],\"x\":{\"__ndarray__\":\"AABARNIKd0IAAACqJAt3QgAAwA93C3dCAACAdckLd0IAAEDbGwx3QgAAAEFuDHdCAADApsAMd0IAAIAMEw13QgAAQHJlDXdCAAAA2LcNd0IAAMA9Cg53QgAAgKNcDndCAABACa8Od0IAAABvAQ93QgAAwNRTD3dCAACAOqYPd0IAAECg+A93QgAAAAZLEHdCAADAa50Qd0IAAIDR7xB3QgAAQDdCEXdCAAAAnZQRd0IAAMAC5xF3QgAAgGg5EndCAABAzosSd0IAAAA03hJ3QgAAwJkwE3dCAACA/4ITd0IAAEBl1RN3QgAAAMsnFHdCAADAMHoUd0IAAICWzBR3QgAAQPweFXdCAAAAYnEVd0IAAMDHwxV3QgAAgC0WFndCAABAk2gWd0IAAAD5uhZ3QgAAwF4NF3dCAACAxF8Xd0IAAEAqshd3QgAAAJAEGHdCAADA9VYYd0IAAIBbqRh3QgAAQMH7GHdCAAAAJ04Zd0IAAMCMoBl3QgAAgPLyGXdCAABAWEUad0IAAAC+lxp3QgAAwCPqGndCAACAiTwbd0IAAEDvjht3QgAAAFXhG3dCAADAujMcd0IAAIAghhx3QgAAQIbYHHdCAAAA7Codd0IAAMBRfR13QgAAgLfPHXdC\",\"dtype\":\"float64\",\"shape\":[60]}},\"selected\":{\"id\":\"1069\"},\"selection_policy\":{\"id\":\"1070\"}},\"id\":\"1031\",\"type\":\"ColumnDataSource\"},{\"attributes\":{\"months\":[0,1,2,3,4,5,6,7,8,9,10,11]},\"id\":\"1063\",\"type\":\"MonthsTicker\"},{\"attributes\":{\"fields\":[\"deaths\",\"cases\"]},\"id\":\"1035\",\"type\":\"Stack\"},{\"attributes\":{\"fill_color\":\"red\",\"x\":{\"field\":\"x\"},\"y1\":{\"expr\":{\"id\":\"1032\"}},\"y2\":{\"expr\":{\"id\":\"1033\"}}},\"id\":\"1037\",\"type\":\"VArea\"},{\"attributes\":{\"source\":{\"id\":\"1031\"}},\"id\":\"1040\",\"type\":\"CDSView\"},{\"attributes\":{\"months\":[0,2,4,6,8,10]},\"id\":\"1064\",\"type\":\"MonthsTicker\"},{\"attributes\":{\"fields\":[]},\"id\":\"1032\",\"type\":\"Stack\"},{\"attributes\":{\"label\":{\"value\":\"Projected # of Cases\"},\"renderers\":[{\"id\":\"1049\"}]},\"id\":\"1072\",\"type\":\"LegendItem\"},{\"attributes\":{},\"id\":\"1024\",\"type\":\"ResetTool\"},{\"attributes\":{\"axis\":{\"id\":\"1013\"},\"ticker\":null},\"id\":\"1016\",\"type\":\"Grid\"}],\"root_ids\":[\"1002\"]},\"title\":\"Bokeh Application\",\"version\":\"2.0.2\"}};\n",
       "  var render_items = [{\"docid\":\"036f9154-a111-4c65-b94b-67614ad55e17\",\"root_ids\":[\"1002\"],\"roots\":{\"1002\":\"a26bd0ea-748f-449d-a056-980b0847ef72\"}}];\n",
       "  root.Bokeh.embed.embed_items_notebook(docs_json, render_items);\n",
       "\n",
       "  }\n",
       "  if (root.Bokeh !== undefined) {\n",
       "    embed_document(root);\n",
       "  } else {\n",
       "    var attempts = 0;\n",
       "    var timer = setInterval(function(root) {\n",
       "      if (root.Bokeh !== undefined) {\n",
       "        clearInterval(timer);\n",
       "        embed_document(root);\n",
       "      } else {\n",
       "        attempts++;\n",
       "        if (attempts > 100) {\n",
       "          clearInterval(timer);\n",
       "          console.log(\"Bokeh: ERROR: Unable to run BokehJS code because BokehJS library is missing\");\n",
       "        }\n",
       "      }\n",
       "    }, 10, root)\n",
       "  }\n",
       "})(window);"
      ],
      "application/vnd.bokehjs_exec.v0+json": ""
     },
     "metadata": {
      "application/vnd.bokehjs_exec.v0+json": {
       "id": "1002"
      }
     },
     "output_type": "display_data"
    }
   ],
   "source": [
    "plot_state_curve(df, \"Indiana\")"
   ]
  },
  {
   "cell_type": "code",
   "execution_count": 4,
   "metadata": {},
   "outputs": [
    {
     "name": "stdout",
     "output_type": "stream",
     "text": [
      "y ≈ exp(4.689646563657254) * exp(0.06581235187088792 * x)\n",
      "y = 108.81471393566751 * exp(0.06581235187088792 * x)\n"
     ]
    },
    {
     "data": {
      "text/html": [
       "\n",
       "\n",
       "\n",
       "\n",
       "\n",
       "\n",
       "  <div class=\"bk-root\" id=\"eddf5b0a-2e64-475e-9a08-6920b55d3b8d\" data-root-id=\"1222\"></div>\n"
      ]
     },
     "metadata": {},
     "output_type": "display_data"
    },
    {
     "data": {
      "application/javascript": [
       "(function(root) {\n",
       "  function embed_document(root) {\n",
       "    \n",
       "  var docs_json = {\"8af47891-7767-4901-a8a6-2155c03a2eef\":{\"roots\":{\"references\":[{\"attributes\":{\"below\":[{\"id\":\"1233\"}],\"center\":[{\"id\":\"1236\"},{\"id\":\"1240\"},{\"id\":\"1291\"}],\"left\":[{\"id\":\"1237\"}],\"plot_width\":880,\"renderers\":[{\"id\":\"1259\"},{\"id\":\"1264\"},{\"id\":\"1269\"}],\"title\":{\"id\":\"1223\"},\"toolbar\":{\"id\":\"1246\"},\"x_range\":{\"id\":\"1225\"},\"x_scale\":{\"id\":\"1229\"},\"y_range\":{\"id\":\"1227\"},\"y_scale\":{\"id\":\"1231\"}},\"id\":\"1222\",\"subtype\":\"Figure\",\"type\":\"Plot\"},{\"attributes\":{\"active_drag\":\"auto\",\"active_inspect\":\"auto\",\"active_multi\":null,\"active_scroll\":\"auto\",\"active_tap\":\"auto\",\"tools\":[{\"id\":\"1241\"},{\"id\":\"1242\"},{\"id\":\"1243\"},{\"id\":\"1244\"}]},\"id\":\"1246\",\"type\":\"Toolbar\"},{\"attributes\":{\"axis_label\":\"# of Cases & Deaths\",\"formatter\":{\"id\":\"1273\"},\"ticker\":{\"id\":\"1238\"}},\"id\":\"1237\",\"type\":\"LinearAxis\"},{\"attributes\":{\"label\":{\"value\":\"Projected # of Cases\"},\"renderers\":[{\"id\":\"1269\"}]},\"id\":\"1292\",\"type\":\"LegendItem\"},{\"attributes\":{\"source\":{\"id\":\"1266\"}},\"id\":\"1270\",\"type\":\"CDSView\"},{\"attributes\":{\"fill_color\":\"lightblue\",\"x\":{\"field\":\"x\"},\"y1\":{\"expr\":{\"id\":\"1254\"}},\"y2\":{\"expr\":{\"id\":\"1255\"}}},\"id\":\"1262\",\"type\":\"VArea\"},{\"attributes\":{\"line_alpha\":0.1,\"line_color\":\"gray\",\"line_dash\":[6],\"x\":{\"field\":\"x\"},\"y\":{\"field\":\"y\"}},\"id\":\"1268\",\"type\":\"Line\"},{\"attributes\":{\"base\":24,\"mantissas\":[1,2,4,6,8,12],\"max_interval\":43200000.0,\"min_interval\":3600000.0,\"num_minor_ticks\":0},\"id\":\"1278\",\"type\":\"AdaptiveTicker\"},{\"attributes\":{\"data_source\":{\"id\":\"1251\"},\"glyph\":{\"id\":\"1262\"},\"hover_glyph\":null,\"muted_glyph\":null,\"name\":\"cases\",\"nonselection_glyph\":{\"id\":\"1263\"},\"selection_glyph\":null,\"view\":{\"id\":\"1265\"}},\"id\":\"1264\",\"type\":\"GlyphRenderer\"},{\"attributes\":{},\"id\":\"1273\",\"type\":\"BasicTickFormatter\"},{\"attributes\":{\"overlay\":{\"id\":\"1245\"}},\"id\":\"1243\",\"type\":\"BoxZoomTool\"},{\"attributes\":{\"line_alpha\":0.75,\"line_color\":\"gray\",\"line_dash\":[6],\"x\":{\"field\":\"x\"},\"y\":{\"field\":\"y\"}},\"id\":\"1267\",\"type\":\"Line\"},{\"attributes\":{\"base\":60,\"mantissas\":[1,2,5,10,15,20,30],\"max_interval\":1800000.0,\"min_interval\":1000.0,\"num_minor_ticks\":0},\"id\":\"1277\",\"type\":\"AdaptiveTicker\"},{\"attributes\":{\"fields\":[]},\"id\":\"1252\",\"type\":\"Stack\"},{\"attributes\":{},\"id\":\"1241\",\"type\":\"PanTool\"},{\"attributes\":{},\"id\":\"1229\",\"type\":\"LinearScale\"},{\"attributes\":{\"days\":[1,2,3,4,5,6,7,8,9,10,11,12,13,14,15,16,17,18,19,20,21,22,23,24,25,26,27,28,29,30,31]},\"id\":\"1279\",\"type\":\"DaysTicker\"},{\"attributes\":{\"fields\":[\"deaths\"]},\"id\":\"1254\",\"type\":\"Stack\"},{\"attributes\":{\"days\":[1,4,7,10,13,16,19,22,25,28]},\"id\":\"1280\",\"type\":\"DaysTicker\"},{\"attributes\":{\"bottom_units\":\"screen\",\"fill_alpha\":0.5,\"fill_color\":\"lightgrey\",\"left_units\":\"screen\",\"level\":\"overlay\",\"line_alpha\":1.0,\"line_color\":\"black\",\"line_dash\":[4,4],\"line_width\":2,\"render_mode\":\"css\",\"right_units\":\"screen\",\"top_units\":\"screen\"},\"id\":\"1245\",\"type\":\"BoxAnnotation\"},{\"attributes\":{\"fill_alpha\":0.1,\"fill_color\":\"lightblue\",\"x\":{\"field\":\"x\"},\"y1\":{\"expr\":{\"id\":\"1254\"}},\"y2\":{\"expr\":{\"id\":\"1255\"}}},\"id\":\"1263\",\"type\":\"VArea\"},{\"attributes\":{\"fill_color\":\"red\",\"x\":{\"field\":\"x\"},\"y1\":{\"expr\":{\"id\":\"1252\"}},\"y2\":{\"expr\":{\"id\":\"1253\"}}},\"id\":\"1257\",\"type\":\"VArea\"},{\"attributes\":{\"data\":{\"cases\":[2,3,4,6,7,10,11,17,19,31,47,68,85,97,146,180,215,244,313,335,369,418,461,525,576,676,744,796,819,876,978,1026,1095,1105,1182,1227,1292,1346,1445,1515,1533,1586,1715,1786,1846,1929,1993,2036,2098],\"deaths\":[0,0,0,0,0,0,0,0,0,0,0,1,1,1,5,6,6,7,8,8,8,11,12,19,23,25,25,26,31,33,41,42,43,45,47,54,57,61,63,67,69,70,77,81,83,92,95,95,97],\"x\":{\"__ndarray__\":\"AACAo1wOd0IAAEAJrw53QgAAAG8BD3dCAADA1FMPd0IAAIA6pg93QgAAQKD4D3dCAAAABksQd0IAAMBrnRB3QgAAgNHvEHdCAABAN0IRd0IAAACdlBF3QgAAwALnEXdCAACAaDkSd0IAAEDOixJ3QgAAADTeEndCAADAmTATd0IAAID/ghN3QgAAQGXVE3dCAAAAyycUd0IAAMAwehR3QgAAgJbMFHdCAABA/B4Vd0IAAABicRV3QgAAwMfDFXdCAACALRYWd0IAAECTaBZ3QgAAAPm6FndCAADAXg0Xd0IAAIDEXxd3QgAAQCqyF3dCAAAAkAQYd0IAAMD1Vhh3QgAAgFupGHdCAABAwfsYd0IAAAAnThl3QgAAwIygGXdCAACA8vIZd0IAAEBYRRp3QgAAAL6XGndCAADAI+oad0IAAICJPBt3QgAAQO+OG3dCAAAAVeEbd0IAAMC6Mxx3QgAAgCCGHHdCAABAhtgcd0IAAADsKh13QgAAwFF9HXdCAACAt88dd0I=\",\"dtype\":\"float64\",\"shape\":[49]}},\"selected\":{\"id\":\"1289\"},\"selection_policy\":{\"id\":\"1290\"}},\"id\":\"1251\",\"type\":\"ColumnDataSource\"},{\"attributes\":{\"days\":[1,8,15,22]},\"id\":\"1281\",\"type\":\"DaysTicker\"},{\"attributes\":{\"end\":2517},\"id\":\"1227\",\"type\":\"Range1d\"},{\"attributes\":{\"source\":{\"id\":\"1251\"}},\"id\":\"1265\",\"type\":\"CDSView\"},{\"attributes\":{\"days\":[1,15]},\"id\":\"1282\",\"type\":\"DaysTicker\"},{\"attributes\":{\"items\":[{\"id\":\"1292\"}],\"location\":\"top_left\"},\"id\":\"1291\",\"type\":\"Legend\"},{\"attributes\":{\"months\":[0,1,2,3,4,5,6,7,8,9,10,11]},\"id\":\"1283\",\"type\":\"MonthsTicker\"},{\"attributes\":{},\"id\":\"1335\",\"type\":\"Selection\"},{\"attributes\":{\"axis\":{\"id\":\"1233\"},\"ticker\":null},\"id\":\"1236\",\"type\":\"Grid\"},{\"attributes\":{\"months\":[0,2,4,6,8,10]},\"id\":\"1284\",\"type\":\"MonthsTicker\"},{\"attributes\":{\"axis\":{\"id\":\"1237\"},\"dimension\":1,\"ticker\":null},\"id\":\"1240\",\"type\":\"Grid\"},{\"attributes\":{\"fields\":[\"deaths\",\"cases\"]},\"id\":\"1255\",\"type\":\"Stack\"},{\"attributes\":{\"text\":\"Indiana Cases for counties Lake\"},\"id\":\"1223\",\"type\":\"Title\"},{\"attributes\":{},\"id\":\"1244\",\"type\":\"ResetTool\"},{\"attributes\":{\"months\":[0,4,8]},\"id\":\"1285\",\"type\":\"MonthsTicker\"},{\"attributes\":{\"num_minor_ticks\":5,\"tickers\":[{\"id\":\"1276\"},{\"id\":\"1277\"},{\"id\":\"1278\"},{\"id\":\"1279\"},{\"id\":\"1280\"},{\"id\":\"1281\"},{\"id\":\"1282\"},{\"id\":\"1283\"},{\"id\":\"1284\"},{\"id\":\"1285\"},{\"id\":\"1286\"},{\"id\":\"1287\"}]},\"id\":\"1234\",\"type\":\"DatetimeTicker\"},{\"attributes\":{\"fields\":[\"deaths\"]},\"id\":\"1253\",\"type\":\"Stack\"},{\"attributes\":{},\"id\":\"1231\",\"type\":\"LinearScale\"},{\"attributes\":{\"code\":\"\\n        let date = new Date(tick);\\n        return `${date.getDate()}-${date.getMonth()}-${date.getFullYear()}`\\n    \"},\"id\":\"1293\",\"type\":\"FuncTickFormatter\"},{\"attributes\":{\"months\":[0,6]},\"id\":\"1286\",\"type\":\"MonthsTicker\"},{\"attributes\":{\"axis_label\":\"Date\",\"formatter\":{\"id\":\"1293\"},\"ticker\":{\"id\":\"1234\"}},\"id\":\"1233\",\"type\":\"DatetimeAxis\"},{\"attributes\":{\"fill_alpha\":0.1,\"fill_color\":\"red\",\"x\":{\"field\":\"x\"},\"y1\":{\"expr\":{\"id\":\"1252\"}},\"y2\":{\"expr\":{\"id\":\"1253\"}}},\"id\":\"1258\",\"type\":\"VArea\"},{\"attributes\":{},\"id\":\"1290\",\"type\":\"UnionRenderers\"},{\"attributes\":{\"source\":{\"id\":\"1251\"}},\"id\":\"1260\",\"type\":\"CDSView\"},{\"attributes\":{},\"id\":\"1287\",\"type\":\"YearsTicker\"},{\"attributes\":{\"data_source\":{\"id\":\"1251\"},\"glyph\":{\"id\":\"1257\"},\"hover_glyph\":null,\"muted_glyph\":null,\"name\":\"deaths\",\"nonselection_glyph\":{\"id\":\"1258\"},\"selection_glyph\":null,\"view\":{\"id\":\"1260\"}},\"id\":\"1259\",\"type\":\"GlyphRenderer\"},{\"attributes\":{\"data_source\":{\"id\":\"1266\"},\"glyph\":{\"id\":\"1267\"},\"hover_glyph\":null,\"muted_glyph\":null,\"nonselection_glyph\":{\"id\":\"1268\"},\"selection_glyph\":null,\"view\":{\"id\":\"1270\"}},\"id\":\"1269\",\"type\":\"GlyphRenderer\"},{\"attributes\":{},\"id\":\"1289\",\"type\":\"Selection\"},{\"attributes\":{},\"id\":\"1336\",\"type\":\"UnionRenderers\"},{\"attributes\":{\"end\":1588723200000.0,\"start\":1584403200000.0},\"id\":\"1225\",\"type\":\"Range1d\"},{\"attributes\":{\"data\":{\"x\":[1584403200000.0,1584489600000.0,1584576000000.0,1584662400000.0,1584748800000.0,1584835200000.0,1584921600000.0,1585008000000.0,1585094400000.0,1585180800000.0,1585267200000.0,1585353600000.0,1585440000000.0,1585526400000.0,1585612800000.0,1585699200000.0,1585785600000.0,1585872000000.0,1585958400000.0,1586044800000.0,1586131200000.0,1586217600000.0,1586304000000.0,1586390400000.0,1586476800000.0,1586563200000.0,1586649600000.0,1586736000000.0,1586822400000.0,1586908800000.0,1586995200000.0,1587081600000.0,1587168000000.0,1587254400000.0,1587340800000.0,1587427200000.0,1587513600000.0,1587600000000.0,1587686400000.0,1587772800000.0,1587859200000.0,1587945600000.0,1588032000000.0,1588118400000.0,1588204800000.0,1588291200000.0,1588377600000.0,1588464000000.0,1588550400000.0,1588636800000.0,1588723200000.0,1588809600000.0,1588896000000.0,1588982400000.0,1589068800000.0,1589155200000.0,1589241600000.0,1589328000000.0,1589414400000.0],\"y\":[108.81471393566751,116.21697470274712,124.12278377209257,132.56639566413932,141.58439510710033,151.21585555234492,161.5025084729901,172.48892417924597,184.22270493395774,196.75469120508038,210.13918194874293,224.4341698773517,239.70159273210825,256.0076016486633,273.4228477786895,292.02278840925493,311.88801390636,333.1045968992294,355.7644652183136,379.9658002028774,405.81346210397487,433.41944442600686,462.90335917544826,494.3929551192431,528.0246712983927,563.9442281950179,602.3072591143195,643.2799845171089,687.0399322246751,733.7767066165138,783.6928101537203,837.0045207875686,893.9428290549328,954.7544389208341,1019.7028367045854,1089.0694327210088,1163.1547805832702,1242.2798794503492,1326.787564861573,1417.0439941844527,1513.4402331120189,1616.3939500836798,1726.3512259712315,1843.7884868710917,1969.2145683772012,2103.1729202787465,2246.2439612352828,2399.0475936316484,2562.245889509128,2736.545959210525,2922.703015168511,3121.52364411211,3333.869301869232,3560.6600459076512,3802.8785217868653,4061.5742207934827,4337.868027207717,4632.957074903532,4948.119934325262]},\"selected\":{\"id\":\"1335\"},\"selection_policy\":{\"id\":\"1336\"}},\"id\":\"1266\",\"type\":\"ColumnDataSource\"},{\"attributes\":{\"mantissas\":[1,2,5],\"max_interval\":500.0,\"num_minor_ticks\":0},\"id\":\"1276\",\"type\":\"AdaptiveTicker\"},{\"attributes\":{},\"id\":\"1238\",\"type\":\"BasicTicker\"},{\"attributes\":{},\"id\":\"1242\",\"type\":\"WheelZoomTool\"}],\"root_ids\":[\"1222\"]},\"title\":\"Bokeh Application\",\"version\":\"2.0.2\"}};\n",
       "  var render_items = [{\"docid\":\"8af47891-7767-4901-a8a6-2155c03a2eef\",\"root_ids\":[\"1222\"],\"roots\":{\"1222\":\"eddf5b0a-2e64-475e-9a08-6920b55d3b8d\"}}];\n",
       "  root.Bokeh.embed.embed_items_notebook(docs_json, render_items);\n",
       "\n",
       "  }\n",
       "  if (root.Bokeh !== undefined) {\n",
       "    embed_document(root);\n",
       "  } else {\n",
       "    var attempts = 0;\n",
       "    var timer = setInterval(function(root) {\n",
       "      if (root.Bokeh !== undefined) {\n",
       "        clearInterval(timer);\n",
       "        embed_document(root);\n",
       "      } else {\n",
       "        attempts++;\n",
       "        if (attempts > 100) {\n",
       "          clearInterval(timer);\n",
       "          console.log(\"Bokeh: ERROR: Unable to run BokehJS code because BokehJS library is missing\");\n",
       "        }\n",
       "      }\n",
       "    }, 10, root)\n",
       "  }\n",
       "})(window);"
      ],
      "application/vnd.bokehjs_exec.v0+json": ""
     },
     "metadata": {
      "application/vnd.bokehjs_exec.v0+json": {
       "id": "1222"
      }
     },
     "output_type": "display_data"
    }
   ],
   "source": [
    "plot_state_counties_curve(df, \"Indiana\", ['Lake'])"
   ]
  },
  {
   "cell_type": "code",
   "execution_count": 5,
   "metadata": {
    "scrolled": true
   },
   "outputs": [
    {
     "name": "stdout",
     "output_type": "stream",
     "text": [
      "y ≈ exp(5.847926695413237) * exp(0.05187376094139076 * x)\n",
      "y = 346.5152036389473 * exp(0.05187376094139076 * x)\n"
     ]
    },
    {
     "data": {
      "text/html": [
       "\n",
       "\n",
       "\n",
       "\n",
       "\n",
       "\n",
       "  <div class=\"bk-root\" id=\"cfe8c2bd-d7d6-415e-ba2c-7d31ac6a4a30\" data-root-id=\"1463\"></div>\n"
      ]
     },
     "metadata": {},
     "output_type": "display_data"
    },
    {
     "data": {
      "application/javascript": [
       "(function(root) {\n",
       "  function embed_document(root) {\n",
       "    \n",
       "  var docs_json = {\"694dd88e-b5c0-4e8a-addd-7486360193ae\":{\"roots\":{\"references\":[{\"attributes\":{\"below\":[{\"id\":\"1474\"}],\"center\":[{\"id\":\"1477\"},{\"id\":\"1481\"},{\"id\":\"1532\"}],\"left\":[{\"id\":\"1478\"}],\"plot_width\":880,\"renderers\":[{\"id\":\"1500\"},{\"id\":\"1505\"},{\"id\":\"1510\"}],\"title\":{\"id\":\"1464\"},\"toolbar\":{\"id\":\"1487\"},\"x_range\":{\"id\":\"1466\"},\"x_scale\":{\"id\":\"1470\"},\"y_range\":{\"id\":\"1468\"},\"y_scale\":{\"id\":\"1472\"}},\"id\":\"1463\",\"subtype\":\"Figure\",\"type\":\"Plot\"},{\"attributes\":{\"months\":[0,4,8]},\"id\":\"1526\",\"type\":\"MonthsTicker\"},{\"attributes\":{\"axis_label\":\"# of Cases & Deaths\",\"formatter\":{\"id\":\"1514\"},\"ticker\":{\"id\":\"1479\"}},\"id\":\"1478\",\"type\":\"LinearAxis\"},{\"attributes\":{\"num_minor_ticks\":5,\"tickers\":[{\"id\":\"1517\"},{\"id\":\"1518\"},{\"id\":\"1519\"},{\"id\":\"1520\"},{\"id\":\"1521\"},{\"id\":\"1522\"},{\"id\":\"1523\"},{\"id\":\"1524\"},{\"id\":\"1525\"},{\"id\":\"1526\"},{\"id\":\"1527\"},{\"id\":\"1528\"}]},\"id\":\"1475\",\"type\":\"DatetimeTicker\"},{\"attributes\":{\"fill_alpha\":0.1,\"fill_color\":\"lightblue\",\"x\":{\"field\":\"x\"},\"y1\":{\"expr\":{\"id\":\"1495\"}},\"y2\":{\"expr\":{\"id\":\"1496\"}}},\"id\":\"1504\",\"type\":\"VArea\"},{\"attributes\":{\"days\":[1,15]},\"id\":\"1523\",\"type\":\"DaysTicker\"},{\"attributes\":{\"base\":60,\"mantissas\":[1,2,5,10,15,20,30],\"max_interval\":1800000.0,\"min_interval\":1000.0,\"num_minor_ticks\":0},\"id\":\"1518\",\"type\":\"AdaptiveTicker\"},{\"attributes\":{\"days\":[1,4,7,10,13,16,19,22,25,28]},\"id\":\"1521\",\"type\":\"DaysTicker\"},{\"attributes\":{},\"id\":\"1470\",\"type\":\"LinearScale\"},{\"attributes\":{\"days\":[1,8,15,22]},\"id\":\"1522\",\"type\":\"DaysTicker\"},{\"attributes\":{\"months\":[0,1,2,3,4,5,6,7,8,9,10,11]},\"id\":\"1524\",\"type\":\"MonthsTicker\"},{\"attributes\":{},\"id\":\"1479\",\"type\":\"BasicTicker\"},{\"attributes\":{\"end\":7592},\"id\":\"1468\",\"type\":\"Range1d\"},{\"attributes\":{\"base\":24,\"mantissas\":[1,2,4,6,8,12],\"max_interval\":43200000.0,\"min_interval\":3600000.0,\"num_minor_ticks\":0},\"id\":\"1519\",\"type\":\"AdaptiveTicker\"},{\"attributes\":{},\"id\":\"1598\",\"type\":\"UnionRenderers\"},{\"attributes\":{\"code\":\"\\n        let date = new Date(tick);\\n        return `${date.getDate()}-${date.getMonth()}-${date.getFullYear()}`\\n    \"},\"id\":\"1534\",\"type\":\"FuncTickFormatter\"},{\"attributes\":{\"data_source\":{\"id\":\"1492\"},\"glyph\":{\"id\":\"1503\"},\"hover_glyph\":null,\"muted_glyph\":null,\"name\":\"cases\",\"nonselection_glyph\":{\"id\":\"1504\"},\"selection_glyph\":null,\"view\":{\"id\":\"1506\"}},\"id\":\"1505\",\"type\":\"GlyphRenderer\"},{\"attributes\":{\"text\":\"Indiana Cases for counties Marion\"},\"id\":\"1464\",\"type\":\"Title\"},{\"attributes\":{\"days\":[1,2,3,4,5,6,7,8,9,10,11,12,13,14,15,16,17,18,19,20,21,22,23,24,25,26,27,28,29,30,31]},\"id\":\"1520\",\"type\":\"DaysTicker\"},{\"attributes\":{\"items\":[{\"id\":\"1533\"}],\"location\":\"top_left\"},\"id\":\"1532\",\"type\":\"Legend\"},{\"attributes\":{},\"id\":\"1482\",\"type\":\"PanTool\"},{\"attributes\":{\"source\":{\"id\":\"1492\"}},\"id\":\"1506\",\"type\":\"CDSView\"},{\"attributes\":{\"mantissas\":[1,2,5],\"max_interval\":500.0,\"num_minor_ticks\":0},\"id\":\"1517\",\"type\":\"AdaptiveTicker\"},{\"attributes\":{\"fields\":[\"deaths\"]},\"id\":\"1494\",\"type\":\"Stack\"},{\"attributes\":{\"bottom_units\":\"screen\",\"fill_alpha\":0.5,\"fill_color\":\"lightgrey\",\"left_units\":\"screen\",\"level\":\"overlay\",\"line_alpha\":1.0,\"line_color\":\"black\",\"line_dash\":[4,4],\"line_width\":2,\"render_mode\":\"css\",\"right_units\":\"screen\",\"top_units\":\"screen\"},\"id\":\"1486\",\"type\":\"BoxAnnotation\"},{\"attributes\":{\"active_drag\":\"auto\",\"active_inspect\":\"auto\",\"active_multi\":null,\"active_scroll\":\"auto\",\"active_tap\":\"auto\",\"tools\":[{\"id\":\"1482\"},{\"id\":\"1483\"},{\"id\":\"1484\"},{\"id\":\"1485\"}]},\"id\":\"1487\",\"type\":\"Toolbar\"},{\"attributes\":{\"axis_label\":\"Date\",\"formatter\":{\"id\":\"1534\"},\"ticker\":{\"id\":\"1475\"}},\"id\":\"1474\",\"type\":\"DatetimeAxis\"},{\"attributes\":{\"data\":{\"x\":[1583452800000.0,1583539200000.0,1583625600000.0,1583712000000.0,1583798400000.0,1583884800000.0,1583971200000.0,1584057600000.0,1584144000000.0,1584230400000.0,1584316800000.0,1584403200000.0,1584489600000.0,1584576000000.0,1584662400000.0,1584748800000.0,1584835200000.0,1584921600000.0,1585008000000.0,1585094400000.0,1585180800000.0,1585267200000.0,1585353600000.0,1585440000000.0,1585526400000.0,1585612800000.0,1585699200000.0,1585785600000.0,1585872000000.0,1585958400000.0,1586044800000.0,1586131200000.0,1586217600000.0,1586304000000.0,1586390400000.0,1586476800000.0,1586563200000.0,1586649600000.0,1586736000000.0,1586822400000.0,1586908800000.0,1586995200000.0,1587081600000.0,1587168000000.0,1587254400000.0,1587340800000.0,1587427200000.0,1587513600000.0,1587600000000.0,1587686400000.0,1587772800000.0,1587859200000.0,1587945600000.0,1588032000000.0,1588118400000.0,1588204800000.0,1588291200000.0,1588377600000.0,1588464000000.0,1588550400000.0,1588636800000.0,1588723200000.0,1588809600000.0,1588896000000.0,1588982400000.0,1589068800000.0,1589155200000.0,1589241600000.0,1589328000000.0,1589414400000.0],\"y\":[346.5152036389473,364.96463422528035,384.39636367003396,404.86269228907645,426.41870501216056,449.12241964349056,473.03494301609334,498.2206354602805,524.7472840288688,552.6862849453909,582.1128357663551,613.1061377747574,645.7496091495838,680.1311094850508,716.3431762638713,754.4832739210125,794.654056168301,836.9636422859164,881.5259081244099,928.4607926004788,977.8946205114253,1029.9604425371524,1084.7983933448102,1142.5560687599248,1203.3889230191671,1267.4606871739588,1334.9438097710465,1406.0199209961347,1480.8803215298099,1559.7264974315126,1642.7706624373584,1730.2363291314007,1822.3589105276346,1919.3863536818956,2021.5798070390133,2129.21432331138,2242.5795997807213,2361.980758015588,2487.7391651031694,2620.1932986057677,2759.69965756995,2906.633722040365,3061.390963660718,3224.387910081967,3396.0632660425463,3576.8790941380184,3767.322058458178,3967.904734438844,4179.16698845379,4401.677430859979,4636.0349464069595,4882.8703061295,5142.847865061859,5416.667350343068,5705.065744525906,6008.819269158458,6328.745473977078,6665.705437333749,7020.606083780331,7394.402625047401,7788.101130987582,8202.761237403032,8639.498998045174,9099.489888462813,9583.971969783428,10094.249220942998,10631.695048332958,11197.755982310495,11793.955570521326,12421.898478513755]},\"selected\":{\"id\":\"1597\"},\"selection_policy\":{\"id\":\"1598\"}},\"id\":\"1507\",\"type\":\"ColumnDataSource\"},{\"attributes\":{},\"id\":\"1528\",\"type\":\"YearsTicker\"},{\"attributes\":{\"fields\":[]},\"id\":\"1493\",\"type\":\"Stack\"},{\"attributes\":{\"data\":{\"cases\":[1,1,1,1,1,1,2,2,3,6,7,9,11,19,25,46,82,110,161,226,293,484,584,676,804,964,1117,1304,1429,1570,1760,1956,2141,2290,2415,2600,2742,2887,3012,3063,3204,3320,3518,3624,3889,4052,4176,4263,4408,4537,4727,4796,4926,5080,5295,5530,5754,5983,6176,6327],\"deaths\":[0,0,0,0,0,0,0,0,0,0,1,1,1,1,2,2,3,3,6,6,6,8,10,10,12,17,21,24,33,34,37,41,48,58,81,107,118,123,123,141,155,164,182,190,192,192,206,214,228,238,255,259,267,282,305,328,339,357,360,363],\"x\":{\"__ndarray__\":\"AABARNIKd0IAAACqJAt3QgAAwA93C3dCAACAdckLd0IAAEDbGwx3QgAAAEFuDHdCAADApsAMd0IAAIAMEw13QgAAQHJlDXdCAAAA2LcNd0IAAMA9Cg53QgAAgKNcDndCAABACa8Od0IAAABvAQ93QgAAwNRTD3dCAACAOqYPd0IAAECg+A93QgAAAAZLEHdCAADAa50Qd0IAAIDR7xB3QgAAQDdCEXdCAAAAnZQRd0IAAMAC5xF3QgAAgGg5EndCAABAzosSd0IAAAA03hJ3QgAAwJkwE3dCAACA/4ITd0IAAEBl1RN3QgAAAMsnFHdCAADAMHoUd0IAAICWzBR3QgAAQPweFXdCAAAAYnEVd0IAAMDHwxV3QgAAgC0WFndCAABAk2gWd0IAAAD5uhZ3QgAAwF4NF3dCAACAxF8Xd0IAAEAqshd3QgAAAJAEGHdCAADA9VYYd0IAAIBbqRh3QgAAQMH7GHdCAAAAJ04Zd0IAAMCMoBl3QgAAgPLyGXdCAABAWEUad0IAAAC+lxp3QgAAwCPqGndCAACAiTwbd0IAAEDvjht3QgAAAFXhG3dCAADAujMcd0IAAIAghhx3QgAAQIbYHHdCAAAA7Codd0IAAMBRfR13QgAAgLfPHXdC\",\"dtype\":\"float64\",\"shape\":[60]}},\"selected\":{\"id\":\"1530\"},\"selection_policy\":{\"id\":\"1531\"}},\"id\":\"1492\",\"type\":\"ColumnDataSource\"},{\"attributes\":{\"months\":[0,2,4,6,8,10]},\"id\":\"1525\",\"type\":\"MonthsTicker\"},{\"attributes\":{},\"id\":\"1531\",\"type\":\"UnionRenderers\"},{\"attributes\":{\"fields\":[\"deaths\"]},\"id\":\"1495\",\"type\":\"Stack\"},{\"attributes\":{\"axis\":{\"id\":\"1478\"},\"dimension\":1,\"ticker\":null},\"id\":\"1481\",\"type\":\"Grid\"},{\"attributes\":{\"fill_color\":\"lightblue\",\"x\":{\"field\":\"x\"},\"y1\":{\"expr\":{\"id\":\"1495\"}},\"y2\":{\"expr\":{\"id\":\"1496\"}}},\"id\":\"1503\",\"type\":\"VArea\"},{\"attributes\":{},\"id\":\"1483\",\"type\":\"WheelZoomTool\"},{\"attributes\":{\"line_alpha\":0.75,\"line_color\":\"gray\",\"line_dash\":[6],\"x\":{\"field\":\"x\"},\"y\":{\"field\":\"y\"}},\"id\":\"1508\",\"type\":\"Line\"},{\"attributes\":{\"fields\":[\"deaths\",\"cases\"]},\"id\":\"1496\",\"type\":\"Stack\"},{\"attributes\":{\"label\":{\"value\":\"Projected # of Cases\"},\"renderers\":[{\"id\":\"1510\"}]},\"id\":\"1533\",\"type\":\"LegendItem\"},{\"attributes\":{\"overlay\":{\"id\":\"1486\"}},\"id\":\"1484\",\"type\":\"BoxZoomTool\"},{\"attributes\":{\"line_alpha\":0.1,\"line_color\":\"gray\",\"line_dash\":[6],\"x\":{\"field\":\"x\"},\"y\":{\"field\":\"y\"}},\"id\":\"1509\",\"type\":\"Line\"},{\"attributes\":{\"fill_color\":\"red\",\"x\":{\"field\":\"x\"},\"y1\":{\"expr\":{\"id\":\"1493\"}},\"y2\":{\"expr\":{\"id\":\"1494\"}}},\"id\":\"1498\",\"type\":\"VArea\"},{\"attributes\":{\"source\":{\"id\":\"1507\"}},\"id\":\"1511\",\"type\":\"CDSView\"},{\"attributes\":{\"source\":{\"id\":\"1492\"}},\"id\":\"1501\",\"type\":\"CDSView\"},{\"attributes\":{\"fill_alpha\":0.1,\"fill_color\":\"red\",\"x\":{\"field\":\"x\"},\"y1\":{\"expr\":{\"id\":\"1493\"}},\"y2\":{\"expr\":{\"id\":\"1494\"}}},\"id\":\"1499\",\"type\":\"VArea\"},{\"attributes\":{\"months\":[0,6]},\"id\":\"1527\",\"type\":\"MonthsTicker\"},{\"attributes\":{},\"id\":\"1597\",\"type\":\"Selection\"},{\"attributes\":{},\"id\":\"1485\",\"type\":\"ResetTool\"},{\"attributes\":{},\"id\":\"1530\",\"type\":\"Selection\"},{\"attributes\":{},\"id\":\"1514\",\"type\":\"BasicTickFormatter\"},{\"attributes\":{},\"id\":\"1472\",\"type\":\"LinearScale\"},{\"attributes\":{\"data_source\":{\"id\":\"1492\"},\"glyph\":{\"id\":\"1498\"},\"hover_glyph\":null,\"muted_glyph\":null,\"name\":\"deaths\",\"nonselection_glyph\":{\"id\":\"1499\"},\"selection_glyph\":null,\"view\":{\"id\":\"1501\"}},\"id\":\"1500\",\"type\":\"GlyphRenderer\"},{\"attributes\":{\"axis\":{\"id\":\"1474\"},\"ticker\":null},\"id\":\"1477\",\"type\":\"Grid\"},{\"attributes\":{\"end\":1588723200000.0,\"start\":1583452800000.0},\"id\":\"1466\",\"type\":\"Range1d\"},{\"attributes\":{\"data_source\":{\"id\":\"1507\"},\"glyph\":{\"id\":\"1508\"},\"hover_glyph\":null,\"muted_glyph\":null,\"nonselection_glyph\":{\"id\":\"1509\"},\"selection_glyph\":null,\"view\":{\"id\":\"1511\"}},\"id\":\"1510\",\"type\":\"GlyphRenderer\"}],\"root_ids\":[\"1463\"]},\"title\":\"Bokeh Application\",\"version\":\"2.0.2\"}};\n",
       "  var render_items = [{\"docid\":\"694dd88e-b5c0-4e8a-addd-7486360193ae\",\"root_ids\":[\"1463\"],\"roots\":{\"1463\":\"cfe8c2bd-d7d6-415e-ba2c-7d31ac6a4a30\"}}];\n",
       "  root.Bokeh.embed.embed_items_notebook(docs_json, render_items);\n",
       "\n",
       "  }\n",
       "  if (root.Bokeh !== undefined) {\n",
       "    embed_document(root);\n",
       "  } else {\n",
       "    var attempts = 0;\n",
       "    var timer = setInterval(function(root) {\n",
       "      if (root.Bokeh !== undefined) {\n",
       "        clearInterval(timer);\n",
       "        embed_document(root);\n",
       "      } else {\n",
       "        attempts++;\n",
       "        if (attempts > 100) {\n",
       "          clearInterval(timer);\n",
       "          console.log(\"Bokeh: ERROR: Unable to run BokehJS code because BokehJS library is missing\");\n",
       "        }\n",
       "      }\n",
       "    }, 10, root)\n",
       "  }\n",
       "})(window);"
      ],
      "application/vnd.bokehjs_exec.v0+json": ""
     },
     "metadata": {
      "application/vnd.bokehjs_exec.v0+json": {
       "id": "1463"
      }
     },
     "output_type": "display_data"
    }
   ],
   "source": [
    "plot_state_counties_curve(df, \"Indiana\", ['Marion'])"
   ]
  },
  {
   "cell_type": "code",
   "execution_count": 6,
   "metadata": {},
   "outputs": [
    {
     "name": "stdout",
     "output_type": "stream",
     "text": [
      "y ≈ exp(4.182969984903719) * exp(0.06589187044968708 * x)\n",
      "y = 65.56027738678843 * exp(0.06589187044968708 * x)\n"
     ]
    },
    {
     "data": {
      "text/html": [
       "\n",
       "\n",
       "\n",
       "\n",
       "\n",
       "\n",
       "  <div class=\"bk-root\" id=\"f0f68e49-d83f-49a8-8253-e10572b36c65\" data-root-id=\"1725\"></div>\n"
      ]
     },
     "metadata": {},
     "output_type": "display_data"
    },
    {
     "data": {
      "application/javascript": [
       "(function(root) {\n",
       "  function embed_document(root) {\n",
       "    \n",
       "  var docs_json = {\"fba8ba98-ec59-48c4-8b36-2bd1dfdab24e\":{\"roots\":{\"references\":[{\"attributes\":{\"below\":[{\"id\":\"1736\"}],\"center\":[{\"id\":\"1739\"},{\"id\":\"1743\"},{\"id\":\"1794\"}],\"left\":[{\"id\":\"1740\"}],\"plot_width\":880,\"renderers\":[{\"id\":\"1762\"},{\"id\":\"1767\"},{\"id\":\"1772\"}],\"title\":{\"id\":\"1726\"},\"toolbar\":{\"id\":\"1749\"},\"x_range\":{\"id\":\"1728\"},\"x_scale\":{\"id\":\"1732\"},\"y_range\":{\"id\":\"1730\"},\"y_scale\":{\"id\":\"1734\"}},\"id\":\"1725\",\"subtype\":\"Figure\",\"type\":\"Plot\"},{\"attributes\":{\"line_alpha\":0.75,\"line_color\":\"gray\",\"line_dash\":[6],\"x\":{\"field\":\"x\"},\"y\":{\"field\":\"y\"}},\"id\":\"1770\",\"type\":\"Line\"},{\"attributes\":{\"line_alpha\":0.1,\"line_color\":\"gray\",\"line_dash\":[6],\"x\":{\"field\":\"x\"},\"y\":{\"field\":\"y\"}},\"id\":\"1771\",\"type\":\"Line\"},{\"attributes\":{\"code\":\"\\n        let date = new Date(tick);\\n        return `${date.getDate()}-${date.getMonth()}-${date.getFullYear()}`\\n    \"},\"id\":\"1796\",\"type\":\"FuncTickFormatter\"},{\"attributes\":{},\"id\":\"1880\",\"type\":\"Selection\"},{\"attributes\":{},\"id\":\"1747\",\"type\":\"ResetTool\"},{\"attributes\":{\"data\":{\"x\":[1579824000000.0,1579910400000.0,1579996800000.0,1580083200000.0,1580169600000.0,1580256000000.0,1580342400000.0,1580428800000.0,1580515200000.0,1580601600000.0,1580688000000.0,1580774400000.0,1580860800000.0,1580947200000.0,1581033600000.0,1581120000000.0,1581206400000.0,1581292800000.0,1581379200000.0,1581465600000.0,1581552000000.0,1581638400000.0,1581724800000.0,1581811200000.0,1581897600000.0,1581984000000.0,1582070400000.0,1582156800000.0,1582243200000.0,1582329600000.0,1582416000000.0,1582502400000.0,1582588800000.0,1582675200000.0,1582761600000.0,1582848000000.0,1582934400000.0,1583020800000.0,1583107200000.0,1583193600000.0,1583280000000.0,1583366400000.0,1583452800000.0,1583539200000.0,1583625600000.0,1583712000000.0,1583798400000.0,1583884800000.0,1583971200000.0,1584057600000.0,1584144000000.0,1584230400000.0,1584316800000.0,1584403200000.0,1584489600000.0,1584576000000.0,1584662400000.0,1584748800000.0,1584835200000.0,1584921600000.0,1585008000000.0,1585094400000.0,1585180800000.0,1585267200000.0,1585353600000.0,1585440000000.0,1585526400000.0,1585612800000.0,1585699200000.0,1585785600000.0,1585872000000.0,1585958400000.0,1586044800000.0,1586131200000.0,1586217600000.0,1586304000000.0,1586390400000.0,1586476800000.0,1586563200000.0,1586649600000.0,1586736000000.0,1586822400000.0,1586908800000.0,1586995200000.0,1587081600000.0,1587168000000.0,1587254400000.0,1587340800000.0,1587427200000.0,1587513600000.0,1587600000000.0,1587686400000.0,1587772800000.0,1587859200000.0,1587945600000.0,1588032000000.0,1588118400000.0,1588204800000.0,1588291200000.0,1588377600000.0,1588464000000.0,1588550400000.0,1588636800000.0,1588723200000.0,1588809600000.0,1588896000000.0,1588982400000.0,1589068800000.0,1589155200000.0,1589241600000.0,1589328000000.0,1589414400000.0],\"y\":[65.56027738678843,70.02566763604426,74.7952010474852,79.88959318188876,85.33097056207828,91.14296677526433,97.35082512103345,103.98150825081647,111.06381527503417,118.62850684655322,126.70843876372852,135.33870467331118,144.55678849302524,154.40272721583142,164.91928480298742,176.15213792117618,188.1500743304157,200.96520478441082,214.65318936369587,229.27347922460285,244.8895748140461,261.5693016716298,279.38510501697266,298.41436440173413,318.73972979297196,340.449480547547,363.63790883671084,388.4057291862088,414.8605159106578,443.117170342111,473.29841988212956,505.5353510448973,539.9679788065505,576.7458547335833,616.0287165316184,657.987181835736,702.8034892557031,750.672289894698,801.8014927793373,856.4131678729686,914.7445105942993,977.0488720305617,1043.5968593197506,1114.6775109812324,1190.5995522995534,1271.6927362139668,1358.3092755375737,1450.8253727266551,1549.6428538444534,1655.1909138162139,1767.9279805556725,1888.343706059463,2016.961093117389,2154.3387668755195,2301.0734011182108,2457.802309807146,2625.206215133254,2804.0122041040113,2994.9968865075,3198.989767969245,3416.8768527520433,3649.604491946896,3898.183493768876,4163.693513810271,4447.2877443192,4750.1979228707,5073.739682184499,5419.318264325378,5788.43462410468,6182.691948191913,6603.80261825098,7053.595648344087,7534.024628906276,8047.17621179373,8595.27917325906,9180.714094216813,9806.02369984369,10473.923903421502,11187.31560238968,11949.29727784131,12763.178452186137,13632.49406343139,14561.019818512345,15552.78859235693,16612.10794391055,17743.57882519868,18952.115564686475,20242.96721172931,21621.740334819788,23094.423372651207,24667.412643761345,26347.540127724973,28142.10313855703,30058.89601920748,32106.243994806697,34293.03933169662,36628.779959297506,39123.61072255699,41788.36744415367,44634.62398783095,47674.74252727182,50921.927238847835,54390.281651446596,58094.86990246568,62051.782166026875,66278.20453758563,70792.49367846655,75614.25654452838,80764.4355452461,86265.3995030812,92141.04080820546,98416.87919055128]},\"selected\":{\"id\":\"1880\"},\"selection_policy\":{\"id\":\"1881\"}},\"id\":\"1769\",\"type\":\"ColumnDataSource\"},{\"attributes\":{\"days\":[1,8,15,22]},\"id\":\"1784\",\"type\":\"DaysTicker\"},{\"attributes\":{\"data_source\":{\"id\":\"1754\"},\"glyph\":{\"id\":\"1760\"},\"hover_glyph\":null,\"muted_glyph\":null,\"name\":\"deaths\",\"nonselection_glyph\":{\"id\":\"1761\"},\"selection_glyph\":null,\"view\":{\"id\":\"1763\"}},\"id\":\"1762\",\"type\":\"GlyphRenderer\"},{\"attributes\":{\"overlay\":{\"id\":\"1748\"}},\"id\":\"1746\",\"type\":\"BoxZoomTool\"},{\"attributes\":{\"source\":{\"id\":\"1754\"}},\"id\":\"1768\",\"type\":\"CDSView\"},{\"attributes\":{},\"id\":\"1741\",\"type\":\"BasicTicker\"},{\"attributes\":{\"base\":24,\"mantissas\":[1,2,4,6,8,12],\"max_interval\":43200000.0,\"min_interval\":3600000.0,\"num_minor_ticks\":0},\"id\":\"1781\",\"type\":\"AdaptiveTicker\"},{\"attributes\":{},\"id\":\"1745\",\"type\":\"WheelZoomTool\"},{\"attributes\":{\"source\":{\"id\":\"1754\"}},\"id\":\"1763\",\"type\":\"CDSView\"},{\"attributes\":{},\"id\":\"1734\",\"type\":\"LinearScale\"},{\"attributes\":{\"data\":{\"cases\":[1,1,1,1,1,1,2,2,2,2,2,2,2,2,2,2,2,2,2,2,2,2,2,2,2,2,2,2,2,2,2,2,2,2,2,2,3,3,4,4,4,5,6,6,7,11,17,22,27,40,51,76,76,107,179,279,412,548,805,922,1194,1418,1904,2239,2613,3445,3727,4496,5152,5575,6473,7439,8043,8728,9509,10520,11415,12472,13417,14585,15474,16323,17306,18087,19391,20395,21272,22101,23181,24546,25811,27616,29058,30574,31953,33449,34880,36513,38668,40227,42324,43715],\"deaths\":[0,0,0,0,0,0,0,0,0,0,0,0,0,0,0,0,0,0,0,0,0,0,0,0,0,0,0,0,0,0,0,0,0,0,0,0,0,0,0,0,0,0,0,0,0,0,0,0,0,0,0,0,0,1,1,2,3,4,6,9,12,13,18,20,28,40,44,61,95,107,141,167,186,209,249,312,351,398,453,485,543,577,630,722,760,860,877,915,1002,1072,1142,1220,1267,1313,1347,1457,1516,1607,1673,1743,1786,1802],\"x\":{\"__ndarray__\":\"AADAkk39dkIAAID4n/12QgAAQF7y/XZCAAAAxET+dkIAAMApl/52QgAAgI/p/nZCAABA9Tv/dkIAAABbjv92QgAAwMDg/3ZCAACAJjMAd0IAAECMhQB3QgAAAPLXAHdCAADAVyoBd0IAAIC9fAF3QgAAQCPPAXdCAAAAiSECd0IAAMDucwJ3QgAAgFTGAndCAABAuhgDd0IAAAAgawN3QgAAwIW9A3dCAACA6w8Ed0IAAEBRYgR3QgAAALe0BHdCAADAHAcFd0IAAICCWQV3QgAAQOirBXdCAAAATv4Fd0IAAMCzUAZ3QgAAgBmjBndCAABAf/UGd0IAAADlRwd3QgAAwEqaB3dCAACAsOwHd0IAAEAWPwh3QgAAAHyRCHdCAADA4eMId0IAAIBHNgl3QgAAQK2ICXdCAAAAE9sJd0IAAMB4LQp3QgAAgN5/CndCAABARNIKd0IAAACqJAt3QgAAwA93C3dCAACAdckLd0IAAEDbGwx3QgAAAEFuDHdCAADApsAMd0IAAIAMEw13QgAAQHJlDXdCAAAA2LcNd0IAAMA9Cg53QgAAgKNcDndCAABACa8Od0IAAABvAQ93QgAAwNRTD3dCAACAOqYPd0IAAECg+A93QgAAAAZLEHdCAADAa50Qd0IAAIDR7xB3QgAAQDdCEXdCAAAAnZQRd0IAAMAC5xF3QgAAgGg5EndCAABAzosSd0IAAAA03hJ3QgAAwJkwE3dCAACA/4ITd0IAAEBl1RN3QgAAAMsnFHdCAADAMHoUd0IAAICWzBR3QgAAQPweFXdCAAAAYnEVd0IAAMDHwxV3QgAAgC0WFndCAABAk2gWd0IAAAD5uhZ3QgAAwF4NF3dCAACAxF8Xd0IAAEAqshd3QgAAAJAEGHdCAADA9VYYd0IAAIBbqRh3QgAAQMH7GHdCAAAAJ04Zd0IAAMCMoBl3QgAAgPLyGXdCAABAWEUad0IAAAC+lxp3QgAAwCPqGndCAACAiTwbd0IAAEDvjht3QgAAAFXhG3dCAADAujMcd0IAAIAghhx3QgAAQIbYHHdCAAAA7Codd0IAAMBRfR13QgAAgLfPHXdC\",\"dtype\":\"float64\",\"shape\":[102]}},\"selected\":{\"id\":\"1792\"},\"selection_policy\":{\"id\":\"1793\"}},\"id\":\"1754\",\"type\":\"ColumnDataSource\"},{\"attributes\":{\"days\":[1,2,3,4,5,6,7,8,9,10,11,12,13,14,15,16,17,18,19,20,21,22,23,24,25,26,27,28,29,30,31]},\"id\":\"1782\",\"type\":\"DaysTicker\"},{\"attributes\":{\"months\":[0,1,2,3,4,5,6,7,8,9,10,11]},\"id\":\"1786\",\"type\":\"MonthsTicker\"},{\"attributes\":{\"active_drag\":\"auto\",\"active_inspect\":\"auto\",\"active_multi\":null,\"active_scroll\":\"auto\",\"active_tap\":\"auto\",\"tools\":[{\"id\":\"1744\"},{\"id\":\"1745\"},{\"id\":\"1746\"},{\"id\":\"1747\"}]},\"id\":\"1749\",\"type\":\"Toolbar\"},{\"attributes\":{\"fields\":[\"deaths\",\"cases\"]},\"id\":\"1758\",\"type\":\"Stack\"},{\"attributes\":{\"text\":\"Illinois Cases for counties Cook\"},\"id\":\"1726\",\"type\":\"Title\"},{\"attributes\":{\"fields\":[]},\"id\":\"1755\",\"type\":\"Stack\"},{\"attributes\":{},\"id\":\"1732\",\"type\":\"LinearScale\"},{\"attributes\":{\"fields\":[\"deaths\"]},\"id\":\"1757\",\"type\":\"Stack\"},{\"attributes\":{},\"id\":\"1881\",\"type\":\"UnionRenderers\"},{\"attributes\":{},\"id\":\"1744\",\"type\":\"PanTool\"},{\"attributes\":{\"fields\":[\"deaths\"]},\"id\":\"1756\",\"type\":\"Stack\"},{\"attributes\":{\"end\":1588723200000.0,\"start\":1579824000000.0},\"id\":\"1728\",\"type\":\"Range1d\"},{\"attributes\":{\"axis\":{\"id\":\"1736\"},\"ticker\":null},\"id\":\"1739\",\"type\":\"Grid\"},{\"attributes\":{\"axis_label\":\"Date\",\"formatter\":{\"id\":\"1796\"},\"ticker\":{\"id\":\"1737\"}},\"id\":\"1736\",\"type\":\"DatetimeAxis\"},{\"attributes\":{\"data_source\":{\"id\":\"1754\"},\"glyph\":{\"id\":\"1765\"},\"hover_glyph\":null,\"muted_glyph\":null,\"name\":\"cases\",\"nonselection_glyph\":{\"id\":\"1766\"},\"selection_glyph\":null,\"view\":{\"id\":\"1768\"}},\"id\":\"1767\",\"type\":\"GlyphRenderer\"},{\"attributes\":{\"label\":{\"value\":\"Projected # of Cases\"},\"renderers\":[{\"id\":\"1772\"}]},\"id\":\"1795\",\"type\":\"LegendItem\"},{\"attributes\":{\"data_source\":{\"id\":\"1769\"},\"glyph\":{\"id\":\"1770\"},\"hover_glyph\":null,\"muted_glyph\":null,\"nonselection_glyph\":{\"id\":\"1771\"},\"selection_glyph\":null,\"view\":{\"id\":\"1773\"}},\"id\":\"1772\",\"type\":\"GlyphRenderer\"},{\"attributes\":{\"axis\":{\"id\":\"1740\"},\"dimension\":1,\"ticker\":null},\"id\":\"1743\",\"type\":\"Grid\"},{\"attributes\":{\"mantissas\":[1,2,5],\"max_interval\":500.0,\"num_minor_ticks\":0},\"id\":\"1779\",\"type\":\"AdaptiveTicker\"},{\"attributes\":{\"num_minor_ticks\":5,\"tickers\":[{\"id\":\"1779\"},{\"id\":\"1780\"},{\"id\":\"1781\"},{\"id\":\"1782\"},{\"id\":\"1783\"},{\"id\":\"1784\"},{\"id\":\"1785\"},{\"id\":\"1786\"},{\"id\":\"1787\"},{\"id\":\"1788\"},{\"id\":\"1789\"},{\"id\":\"1790\"}]},\"id\":\"1737\",\"type\":\"DatetimeTicker\"},{\"attributes\":{\"days\":[1,15]},\"id\":\"1785\",\"type\":\"DaysTicker\"},{\"attributes\":{\"bottom_units\":\"screen\",\"fill_alpha\":0.5,\"fill_color\":\"lightgrey\",\"left_units\":\"screen\",\"level\":\"overlay\",\"line_alpha\":1.0,\"line_color\":\"black\",\"line_dash\":[4,4],\"line_width\":2,\"render_mode\":\"css\",\"right_units\":\"screen\",\"top_units\":\"screen\"},\"id\":\"1748\",\"type\":\"BoxAnnotation\"},{\"attributes\":{\"fill_color\":\"lightblue\",\"x\":{\"field\":\"x\"},\"y1\":{\"expr\":{\"id\":\"1757\"}},\"y2\":{\"expr\":{\"id\":\"1758\"}}},\"id\":\"1765\",\"type\":\"VArea\"},{\"attributes\":{\"source\":{\"id\":\"1769\"}},\"id\":\"1773\",\"type\":\"CDSView\"},{\"attributes\":{\"days\":[1,4,7,10,13,16,19,22,25,28]},\"id\":\"1783\",\"type\":\"DaysTicker\"},{\"attributes\":{\"months\":[0,4,8]},\"id\":\"1788\",\"type\":\"MonthsTicker\"},{\"attributes\":{\"months\":[0,2,4,6,8,10]},\"id\":\"1787\",\"type\":\"MonthsTicker\"},{\"attributes\":{\"end\":52458},\"id\":\"1730\",\"type\":\"Range1d\"},{\"attributes\":{\"months\":[0,6]},\"id\":\"1789\",\"type\":\"MonthsTicker\"},{\"attributes\":{},\"id\":\"1793\",\"type\":\"UnionRenderers\"},{\"attributes\":{\"fill_alpha\":0.1,\"fill_color\":\"red\",\"x\":{\"field\":\"x\"},\"y1\":{\"expr\":{\"id\":\"1755\"}},\"y2\":{\"expr\":{\"id\":\"1756\"}}},\"id\":\"1761\",\"type\":\"VArea\"},{\"attributes\":{},\"id\":\"1790\",\"type\":\"YearsTicker\"},{\"attributes\":{\"items\":[{\"id\":\"1795\"}],\"location\":\"top_left\"},\"id\":\"1794\",\"type\":\"Legend\"},{\"attributes\":{\"fill_color\":\"red\",\"x\":{\"field\":\"x\"},\"y1\":{\"expr\":{\"id\":\"1755\"}},\"y2\":{\"expr\":{\"id\":\"1756\"}}},\"id\":\"1760\",\"type\":\"VArea\"},{\"attributes\":{\"base\":60,\"mantissas\":[1,2,5,10,15,20,30],\"max_interval\":1800000.0,\"min_interval\":1000.0,\"num_minor_ticks\":0},\"id\":\"1780\",\"type\":\"AdaptiveTicker\"},{\"attributes\":{\"fill_alpha\":0.1,\"fill_color\":\"lightblue\",\"x\":{\"field\":\"x\"},\"y1\":{\"expr\":{\"id\":\"1757\"}},\"y2\":{\"expr\":{\"id\":\"1758\"}}},\"id\":\"1766\",\"type\":\"VArea\"},{\"attributes\":{},\"id\":\"1792\",\"type\":\"Selection\"},{\"attributes\":{\"axis_label\":\"# of Cases & Deaths\",\"formatter\":{\"id\":\"1776\"},\"ticker\":{\"id\":\"1741\"}},\"id\":\"1740\",\"type\":\"LinearAxis\"},{\"attributes\":{},\"id\":\"1776\",\"type\":\"BasicTickFormatter\"}],\"root_ids\":[\"1725\"]},\"title\":\"Bokeh Application\",\"version\":\"2.0.2\"}};\n",
       "  var render_items = [{\"docid\":\"fba8ba98-ec59-48c4-8b36-2bd1dfdab24e\",\"root_ids\":[\"1725\"],\"roots\":{\"1725\":\"f0f68e49-d83f-49a8-8253-e10572b36c65\"}}];\n",
       "  root.Bokeh.embed.embed_items_notebook(docs_json, render_items);\n",
       "\n",
       "  }\n",
       "  if (root.Bokeh !== undefined) {\n",
       "    embed_document(root);\n",
       "  } else {\n",
       "    var attempts = 0;\n",
       "    var timer = setInterval(function(root) {\n",
       "      if (root.Bokeh !== undefined) {\n",
       "        clearInterval(timer);\n",
       "        embed_document(root);\n",
       "      } else {\n",
       "        attempts++;\n",
       "        if (attempts > 100) {\n",
       "          clearInterval(timer);\n",
       "          console.log(\"Bokeh: ERROR: Unable to run BokehJS code because BokehJS library is missing\");\n",
       "        }\n",
       "      }\n",
       "    }, 10, root)\n",
       "  }\n",
       "})(window);"
      ],
      "application/vnd.bokehjs_exec.v0+json": ""
     },
     "metadata": {
      "application/vnd.bokehjs_exec.v0+json": {
       "id": "1725"
      }
     },
     "output_type": "display_data"
    }
   ],
   "source": [
    "plot_state_counties_curve(df, 'Illinois', ['Cook'])"
   ]
  },
  {
   "cell_type": "code",
   "execution_count": 7,
   "metadata": {},
   "outputs": [
    {
     "name": "stdout",
     "output_type": "stream",
     "text": [
      "y ≈ exp(4.432291460873849) * exp(0.06603791541699718 * x)\n",
      "y = 84.12396298985766 * exp(0.06603791541699718 * x)\n"
     ]
    },
    {
     "data": {
      "text/html": [
       "\n",
       "\n",
       "\n",
       "\n",
       "\n",
       "\n",
       "  <div class=\"bk-root\" id=\"d9fa4be7-a6c7-4adb-a9f5-f735b3613a53\" data-root-id=\"2008\"></div>\n"
      ]
     },
     "metadata": {},
     "output_type": "display_data"
    },
    {
     "data": {
      "application/javascript": [
       "(function(root) {\n",
       "  function embed_document(root) {\n",
       "    \n",
       "  var docs_json = {\"cbaf3a63-0cb3-4f94-b2cf-c99009ff69cf\":{\"roots\":{\"references\":[{\"attributes\":{\"below\":[{\"id\":\"2019\"}],\"center\":[{\"id\":\"2022\"},{\"id\":\"2026\"},{\"id\":\"2077\"}],\"left\":[{\"id\":\"2023\"}],\"plot_width\":880,\"renderers\":[{\"id\":\"2045\"},{\"id\":\"2050\"},{\"id\":\"2055\"}],\"title\":{\"id\":\"2009\"},\"toolbar\":{\"id\":\"2032\"},\"x_range\":{\"id\":\"2011\"},\"x_scale\":{\"id\":\"2015\"},\"y_range\":{\"id\":\"2013\"},\"y_scale\":{\"id\":\"2017\"}},\"id\":\"2008\",\"subtype\":\"Figure\",\"type\":\"Plot\"},{\"attributes\":{},\"id\":\"2073\",\"type\":\"YearsTicker\"},{\"attributes\":{\"active_drag\":\"auto\",\"active_inspect\":\"auto\",\"active_multi\":null,\"active_scroll\":\"auto\",\"active_tap\":\"auto\",\"tools\":[{\"id\":\"2027\"},{\"id\":\"2028\"},{\"id\":\"2029\"},{\"id\":\"2030\"}]},\"id\":\"2032\",\"type\":\"Toolbar\"},{\"attributes\":{},\"id\":\"2024\",\"type\":\"BasicTicker\"},{\"attributes\":{},\"id\":\"2059\",\"type\":\"BasicTickFormatter\"},{\"attributes\":{},\"id\":\"2027\",\"type\":\"PanTool\"},{\"attributes\":{},\"id\":\"2075\",\"type\":\"Selection\"},{\"attributes\":{\"label\":{\"value\":\"Projected # of Cases\"},\"renderers\":[{\"id\":\"2055\"}]},\"id\":\"2078\",\"type\":\"LegendItem\"},{\"attributes\":{\"line_alpha\":0.75,\"line_color\":\"gray\",\"line_dash\":[6],\"x\":{\"field\":\"x\"},\"y\":{\"field\":\"y\"}},\"id\":\"2053\",\"type\":\"Line\"},{\"attributes\":{\"num_minor_ticks\":5,\"tickers\":[{\"id\":\"2062\"},{\"id\":\"2063\"},{\"id\":\"2064\"},{\"id\":\"2065\"},{\"id\":\"2066\"},{\"id\":\"2067\"},{\"id\":\"2068\"},{\"id\":\"2069\"},{\"id\":\"2070\"},{\"id\":\"2071\"},{\"id\":\"2072\"},{\"id\":\"2073\"}]},\"id\":\"2020\",\"type\":\"DatetimeTicker\"},{\"attributes\":{\"bottom_units\":\"screen\",\"fill_alpha\":0.5,\"fill_color\":\"lightgrey\",\"left_units\":\"screen\",\"level\":\"overlay\",\"line_alpha\":1.0,\"line_color\":\"black\",\"line_dash\":[4,4],\"line_width\":2,\"render_mode\":\"css\",\"right_units\":\"screen\",\"top_units\":\"screen\"},\"id\":\"2031\",\"type\":\"BoxAnnotation\"},{\"attributes\":{\"fields\":[\"deaths\"]},\"id\":\"2040\",\"type\":\"Stack\"},{\"attributes\":{\"source\":{\"id\":\"2052\"}},\"id\":\"2056\",\"type\":\"CDSView\"},{\"attributes\":{\"mantissas\":[1,2,5],\"max_interval\":500.0,\"num_minor_ticks\":0},\"id\":\"2062\",\"type\":\"AdaptiveTicker\"},{\"attributes\":{\"end\":68848},\"id\":\"2013\",\"type\":\"Range1d\"},{\"attributes\":{},\"id\":\"2028\",\"type\":\"WheelZoomTool\"},{\"attributes\":{\"fields\":[\"deaths\",\"cases\"]},\"id\":\"2041\",\"type\":\"Stack\"},{\"attributes\":{\"overlay\":{\"id\":\"2031\"}},\"id\":\"2029\",\"type\":\"BoxZoomTool\"},{\"attributes\":{\"fields\":[]},\"id\":\"2038\",\"type\":\"Stack\"},{\"attributes\":{\"fill_color\":\"red\",\"x\":{\"field\":\"x\"},\"y1\":{\"expr\":{\"id\":\"2038\"}},\"y2\":{\"expr\":{\"id\":\"2039\"}}},\"id\":\"2043\",\"type\":\"VArea\"},{\"attributes\":{\"fill_alpha\":0.1,\"fill_color\":\"red\",\"x\":{\"field\":\"x\"},\"y1\":{\"expr\":{\"id\":\"2038\"}},\"y2\":{\"expr\":{\"id\":\"2039\"}}},\"id\":\"2044\",\"type\":\"VArea\"},{\"attributes\":{\"code\":\"\\n        let date = new Date(tick);\\n        return `${date.getDate()}-${date.getMonth()}-${date.getFullYear()}`\\n    \"},\"id\":\"2079\",\"type\":\"FuncTickFormatter\"},{\"attributes\":{},\"id\":\"2030\",\"type\":\"ResetTool\"},{\"attributes\":{\"base\":24,\"mantissas\":[1,2,4,6,8,12],\"max_interval\":43200000.0,\"min_interval\":3600000.0,\"num_minor_ticks\":0},\"id\":\"2064\",\"type\":\"AdaptiveTicker\"},{\"attributes\":{\"base\":60,\"mantissas\":[1,2,5,10,15,20,30],\"max_interval\":1800000.0,\"min_interval\":1000.0,\"num_minor_ticks\":0},\"id\":\"2063\",\"type\":\"AdaptiveTicker\"},{\"attributes\":{},\"id\":\"2184\",\"type\":\"Selection\"},{\"attributes\":{\"fill_color\":\"lightblue\",\"x\":{\"field\":\"x\"},\"y1\":{\"expr\":{\"id\":\"2040\"}},\"y2\":{\"expr\":{\"id\":\"2041\"}}},\"id\":\"2048\",\"type\":\"VArea\"},{\"attributes\":{\"data_source\":{\"id\":\"2037\"},\"glyph\":{\"id\":\"2043\"},\"hover_glyph\":null,\"muted_glyph\":null,\"name\":\"deaths\",\"nonselection_glyph\":{\"id\":\"2044\"},\"selection_glyph\":null,\"view\":{\"id\":\"2046\"}},\"id\":\"2045\",\"type\":\"GlyphRenderer\"},{\"attributes\":{\"data\":{\"cases\":[1,1,1,1,1,1,2,2,2,2,2,2,2,2,2,2,2,2,2,2,2,2,2,2,2,2,2,2,2,2,2,2,2,2,2,2,3,3,4,4,4,5,6,6,7,11,19,24,31,44,57,82,87,146,252,368,511,665,957,1107,1400,1707,2322,2776,3259,4263,4652,5563,6450,7087,8218,9586,10384,11265,12415,13748,14948,16248,17496,19055,20168,21270,22515,23624,25264,26600,27627,28715,30072,31825,33472,35886,37711,39536,41326,43327,45280,47521,50396,52613,55226,57374],\"deaths\":[0,0,0,0,0,0,0,0,0,0,0,0,0,0,0,0,0,0,0,0,0,0,0,0,0,0,0,0,0,0,0,0,0,0,0,0,0,0,0,0,0,0,0,0,0,0,0,0,0,0,0,0,0,1,1,3,4,5,7,10,14,17,25,33,46,63,71,96,135,152,192,228,259,287,350,425,490,558,627,668,740,800,869,985,1040,1163,1190,1237,1351,1441,1550,1649,1709,1763,1803,1943,2023,2147,2249,2353,2400,2427],\"x\":{\"__ndarray__\":\"AADAkk39dkIAAID4n/12QgAAQF7y/XZCAAAAxET+dkIAAMApl/52QgAAgI/p/nZCAABA9Tv/dkIAAABbjv92QgAAwMDg/3ZCAACAJjMAd0IAAECMhQB3QgAAAPLXAHdCAADAVyoBd0IAAIC9fAF3QgAAQCPPAXdCAAAAiSECd0IAAMDucwJ3QgAAgFTGAndCAABAuhgDd0IAAAAgawN3QgAAwIW9A3dCAACA6w8Ed0IAAEBRYgR3QgAAALe0BHdCAADAHAcFd0IAAICCWQV3QgAAQOirBXdCAAAATv4Fd0IAAMCzUAZ3QgAAgBmjBndCAABAf/UGd0IAAADlRwd3QgAAwEqaB3dCAACAsOwHd0IAAEAWPwh3QgAAAHyRCHdCAADA4eMId0IAAIBHNgl3QgAAQK2ICXdCAAAAE9sJd0IAAMB4LQp3QgAAgN5/CndCAABARNIKd0IAAACqJAt3QgAAwA93C3dCAACAdckLd0IAAEDbGwx3QgAAAEFuDHdCAADApsAMd0IAAIAMEw13QgAAQHJlDXdCAAAA2LcNd0IAAMA9Cg53QgAAgKNcDndCAABACa8Od0IAAABvAQ93QgAAwNRTD3dCAACAOqYPd0IAAECg+A93QgAAAAZLEHdCAADAa50Qd0IAAIDR7xB3QgAAQDdCEXdCAAAAnZQRd0IAAMAC5xF3QgAAgGg5EndCAABAzosSd0IAAAA03hJ3QgAAwJkwE3dCAACA/4ITd0IAAEBl1RN3QgAAAMsnFHdCAADAMHoUd0IAAICWzBR3QgAAQPweFXdCAAAAYnEVd0IAAMDHwxV3QgAAgC0WFndCAABAk2gWd0IAAAD5uhZ3QgAAwF4NF3dCAACAxF8Xd0IAAEAqshd3QgAAAJAEGHdCAADA9VYYd0IAAIBbqRh3QgAAQMH7GHdCAAAAJ04Zd0IAAMCMoBl3QgAAgPLyGXdCAABAWEUad0IAAAC+lxp3QgAAwCPqGndCAACAiTwbd0IAAEDvjht3QgAAAFXhG3dCAADAujMcd0IAAIAghhx3QgAAQIbYHHdCAAAA7Codd0IAAMBRfR13QgAAgLfPHXdC\",\"dtype\":\"float64\",\"shape\":[102]}},\"selected\":{\"id\":\"2075\"},\"selection_policy\":{\"id\":\"2076\"}},\"id\":\"2037\",\"type\":\"ColumnDataSource\"},{\"attributes\":{\"data\":{\"x\":[1579824000000.0,1579910400000.0,1579996800000.0,1580083200000.0,1580169600000.0,1580256000000.0,1580342400000.0,1580428800000.0,1580515200000.0,1580601600000.0,1580688000000.0,1580774400000.0,1580860800000.0,1580947200000.0,1581033600000.0,1581120000000.0,1581206400000.0,1581292800000.0,1581379200000.0,1581465600000.0,1581552000000.0,1581638400000.0,1581724800000.0,1581811200000.0,1581897600000.0,1581984000000.0,1582070400000.0,1582156800000.0,1582243200000.0,1582329600000.0,1582416000000.0,1582502400000.0,1582588800000.0,1582675200000.0,1582761600000.0,1582848000000.0,1582934400000.0,1583020800000.0,1583107200000.0,1583193600000.0,1583280000000.0,1583366400000.0,1583452800000.0,1583539200000.0,1583625600000.0,1583712000000.0,1583798400000.0,1583884800000.0,1583971200000.0,1584057600000.0,1584144000000.0,1584230400000.0,1584316800000.0,1584403200000.0,1584489600000.0,1584576000000.0,1584662400000.0,1584748800000.0,1584835200000.0,1584921600000.0,1585008000000.0,1585094400000.0,1585180800000.0,1585267200000.0,1585353600000.0,1585440000000.0,1585526400000.0,1585612800000.0,1585699200000.0,1585785600000.0,1585872000000.0,1585958400000.0,1586044800000.0,1586131200000.0,1586217600000.0,1586304000000.0,1586390400000.0,1586476800000.0,1586563200000.0,1586649600000.0,1586736000000.0,1586822400000.0,1586908800000.0,1586995200000.0,1587081600000.0,1587168000000.0,1587254400000.0,1587340800000.0,1587427200000.0,1587513600000.0,1587600000000.0,1587686400000.0,1587772800000.0,1587859200000.0,1587945600000.0,1588032000000.0,1588118400000.0,1588204800000.0,1588291200000.0,1588377600000.0,1588464000000.0,1588550400000.0,1588636800000.0,1588723200000.0,1588809600000.0,1588896000000.0,1588982400000.0,1589068800000.0,1589155200000.0,1589241600000.0,1589328000000.0,1589414400000.0],\"y\":[84.12396298985766,89.86687209498433,96.00183364055206,102.55561195684055,109.55679850055803,117.03593658768358,125.02565464147368,133.56080853693996,142.67863366278846,152.41890736420513,162.82412247515856,173.93967269727054,185.8140506339869,198.4990593439908,212.0500383367794,226.52610499633008,241.99041248608955,258.5104252604197,276.1582133844436,295.01076694628955,315.150331933385,336.6647690380913,359.6479369580017,384.2001018630853,410.4283748160147,438.44717905396294,468.3787491704313,500.35366437483054,534.5114181562133,571.0010268363653,609.981679667124,651.6234333080355,696.1079537140677,743.629308669939,794.3948144285604,848.625940147129,906.5592740665645,968.4475556493234,1034.5607781783986,1105.1873666276854,1180.635435942279,1261.23413521808,1347.335083644793,1439.3139044767738,1537.5718637237924,1642.5376207106635,1754.6690981427205,1874.4554798354511,2002.4193448235935,2139.1189471599178,2285.1506513495406,2441.1515340445662,2607.802163349188,2785.829567860228,2976.010408395813,3179.174366249161,3396.2077627490257,3628.0574259174714,3875.734821093635,4140.320463543678,4422.968632307363,4724.912405845826,5047.46904145903,5392.045721941081,5760.145694543752,6153.374829029959,6573.448623427329,7022.199688045089,7501.585740403962,8013.698145957755,8560.771041866214,9145.191083622514,9769.507857055925,10436.445001132903,11148.912090080981,11910.017326672158,12723.081102041468,13591.650481196717,14519.514677413612,15510.72158302494,16569.595428720706,17700.755648399583,18909.137031871418,20200.01125332856,21579.00986950631,23052.14888786362,24625.855011965366,26306.993678563824,28102.8990086937,30021.405803445392,32070.883724000512,34260.27380504349,36599.127460842385,39097.64815416616,41766.735909823496,44618.034867016766,47663.9840779633,50917.87177439708,54393.893338693946,58107.21323252415,62074.03115320191,66311.65270634514,70838.56490316092,75674.51681172135,80840.60571407717,86359.36914507841,92254.88321442946,98552.86764091709,105280.79795703407,112468.02537349977,120145.90482659877,128347.93176695525]},\"selected\":{\"id\":\"2184\"},\"selection_policy\":{\"id\":\"2185\"}},\"id\":\"2052\",\"type\":\"ColumnDataSource\"},{\"attributes\":{\"days\":[1,2,3,4,5,6,7,8,9,10,11,12,13,14,15,16,17,18,19,20,21,22,23,24,25,26,27,28,29,30,31]},\"id\":\"2065\",\"type\":\"DaysTicker\"},{\"attributes\":{\"axis_label\":\"# of Cases & Deaths\",\"formatter\":{\"id\":\"2059\"},\"ticker\":{\"id\":\"2024\"}},\"id\":\"2023\",\"type\":\"LinearAxis\"},{\"attributes\":{\"source\":{\"id\":\"2037\"}},\"id\":\"2046\",\"type\":\"CDSView\"},{\"attributes\":{\"line_alpha\":0.1,\"line_color\":\"gray\",\"line_dash\":[6],\"x\":{\"field\":\"x\"},\"y\":{\"field\":\"y\"}},\"id\":\"2054\",\"type\":\"Line\"},{\"attributes\":{\"days\":[1,4,7,10,13,16,19,22,25,28]},\"id\":\"2066\",\"type\":\"DaysTicker\"},{\"attributes\":{\"fill_alpha\":0.1,\"fill_color\":\"lightblue\",\"x\":{\"field\":\"x\"},\"y1\":{\"expr\":{\"id\":\"2040\"}},\"y2\":{\"expr\":{\"id\":\"2041\"}}},\"id\":\"2049\",\"type\":\"VArea\"},{\"attributes\":{\"axis\":{\"id\":\"2023\"},\"dimension\":1,\"ticker\":null},\"id\":\"2026\",\"type\":\"Grid\"},{\"attributes\":{\"days\":[1,8,15,22]},\"id\":\"2067\",\"type\":\"DaysTicker\"},{\"attributes\":{\"axis\":{\"id\":\"2019\"},\"ticker\":null},\"id\":\"2022\",\"type\":\"Grid\"},{\"attributes\":{},\"id\":\"2076\",\"type\":\"UnionRenderers\"},{\"attributes\":{\"text\":\"Cases for the Chicago Metropolitan Area\"},\"id\":\"2009\",\"type\":\"Title\"},{\"attributes\":{\"days\":[1,15]},\"id\":\"2068\",\"type\":\"DaysTicker\"},{\"attributes\":{},\"id\":\"2185\",\"type\":\"UnionRenderers\"},{\"attributes\":{\"data_source\":{\"id\":\"2052\"},\"glyph\":{\"id\":\"2053\"},\"hover_glyph\":null,\"muted_glyph\":null,\"nonselection_glyph\":{\"id\":\"2054\"},\"selection_glyph\":null,\"view\":{\"id\":\"2056\"}},\"id\":\"2055\",\"type\":\"GlyphRenderer\"},{\"attributes\":{\"axis_label\":\"Date\",\"formatter\":{\"id\":\"2079\"},\"ticker\":{\"id\":\"2020\"}},\"id\":\"2019\",\"type\":\"DatetimeAxis\"},{\"attributes\":{\"data_source\":{\"id\":\"2037\"},\"glyph\":{\"id\":\"2048\"},\"hover_glyph\":null,\"muted_glyph\":null,\"name\":\"cases\",\"nonselection_glyph\":{\"id\":\"2049\"},\"selection_glyph\":null,\"view\":{\"id\":\"2051\"}},\"id\":\"2050\",\"type\":\"GlyphRenderer\"},{\"attributes\":{\"months\":[0,1,2,3,4,5,6,7,8,9,10,11]},\"id\":\"2069\",\"type\":\"MonthsTicker\"},{\"attributes\":{},\"id\":\"2015\",\"type\":\"LinearScale\"},{\"attributes\":{\"end\":1588723200000.0,\"start\":1579824000000.0},\"id\":\"2011\",\"type\":\"Range1d\"},{\"attributes\":{\"months\":[0,2,4,6,8,10]},\"id\":\"2070\",\"type\":\"MonthsTicker\"},{\"attributes\":{\"source\":{\"id\":\"2037\"}},\"id\":\"2051\",\"type\":\"CDSView\"},{\"attributes\":{\"months\":[0,4,8]},\"id\":\"2071\",\"type\":\"MonthsTicker\"},{\"attributes\":{\"items\":[{\"id\":\"2078\"}],\"location\":\"top_left\"},\"id\":\"2077\",\"type\":\"Legend\"},{\"attributes\":{\"fields\":[\"deaths\"]},\"id\":\"2039\",\"type\":\"Stack\"},{\"attributes\":{\"months\":[0,6]},\"id\":\"2072\",\"type\":\"MonthsTicker\"},{\"attributes\":{},\"id\":\"2017\",\"type\":\"LinearScale\"}],\"root_ids\":[\"2008\"]},\"title\":\"Bokeh Application\",\"version\":\"2.0.2\"}};\n",
       "  var render_items = [{\"docid\":\"cbaf3a63-0cb3-4f94-b2cf-c99009ff69cf\",\"root_ids\":[\"2008\"],\"roots\":{\"2008\":\"d9fa4be7-a6c7-4adb-a9f5-f735b3613a53\"}}];\n",
       "  root.Bokeh.embed.embed_items_notebook(docs_json, render_items);\n",
       "\n",
       "  }\n",
       "  if (root.Bokeh !== undefined) {\n",
       "    embed_document(root);\n",
       "  } else {\n",
       "    var attempts = 0;\n",
       "    var timer = setInterval(function(root) {\n",
       "      if (root.Bokeh !== undefined) {\n",
       "        clearInterval(timer);\n",
       "        embed_document(root);\n",
       "      } else {\n",
       "        attempts++;\n",
       "        if (attempts > 100) {\n",
       "          clearInterval(timer);\n",
       "          console.log(\"Bokeh: ERROR: Unable to run BokehJS code because BokehJS library is missing\");\n",
       "        }\n",
       "      }\n",
       "    }, 10, root)\n",
       "  }\n",
       "})(window);"
      ],
      "application/vnd.bokehjs_exec.v0+json": ""
     },
     "metadata": {
      "application/vnd.bokehjs_exec.v0+json": {
       "id": "2008"
      }
     },
     "output_type": "display_data"
    }
   ],
   "source": [
    "# https://en.wikipedia.org/wiki/Chicago_metropolitan_area\n",
    "chicago_metropolitan = dict(\n",
    "    Illinois=[\n",
    "        \"Cook\",\n",
    "        \"DeKalb\",\n",
    "        \"DuPage\",\n",
    "        \"Grundy\",\n",
    "        \"Kankakee\",\n",
    "        \"Kane\",\n",
    "        \"Kendall\",\n",
    "        \"McHenry\",\n",
    "        \"Will\",\n",
    "    ],\n",
    "    Indiana=[\"Jasper\", \"Lake\", \"Newton\", \"Porter\",],\n",
    "    Wisconsin=[\"Kenosha\"],\n",
    ")\n",
    "\n",
    "plot_states_and_counties_curve(\n",
    "    df, chicago_metropolitan, \"Cases for the Chicago Metropolitan Area\"\n",
    ")"
   ]
  },
  {
   "cell_type": "code",
   "execution_count": 8,
   "metadata": {},
   "outputs": [
    {
     "name": "stdout",
     "output_type": "stream",
     "text": [
      "y ≈ exp(5.8889754726285926) * exp(0.058989400219367466 * x)\n",
      "y = 361.035204377189 * exp(0.058989400219367466 * x)\n"
     ]
    },
    {
     "data": {
      "text/html": [
       "\n",
       "\n",
       "\n",
       "\n",
       "\n",
       "\n",
       "  <div class=\"bk-root\" id=\"bb628264-58a0-41a0-be19-e9afe1b498d8\" data-root-id=\"2312\"></div>\n"
      ]
     },
     "metadata": {},
     "output_type": "display_data"
    },
    {
     "data": {
      "application/javascript": [
       "(function(root) {\n",
       "  function embed_document(root) {\n",
       "    \n",
       "  var docs_json = {\"fa07483f-1135-4c2b-8fe2-af43278dbd2d\":{\"roots\":{\"references\":[{\"attributes\":{\"below\":[{\"id\":\"2323\"}],\"center\":[{\"id\":\"2326\"},{\"id\":\"2330\"},{\"id\":\"2381\"}],\"left\":[{\"id\":\"2327\"}],\"plot_width\":880,\"renderers\":[{\"id\":\"2349\"},{\"id\":\"2354\"},{\"id\":\"2359\"}],\"title\":{\"id\":\"2313\"},\"toolbar\":{\"id\":\"2336\"},\"x_range\":{\"id\":\"2315\"},\"x_scale\":{\"id\":\"2319\"},\"y_range\":{\"id\":\"2317\"},\"y_scale\":{\"id\":\"2321\"}},\"id\":\"2312\",\"subtype\":\"Figure\",\"type\":\"Plot\"},{\"attributes\":{\"months\":[0,4,8]},\"id\":\"2375\",\"type\":\"MonthsTicker\"},{\"attributes\":{\"fields\":[\"deaths\"]},\"id\":\"2343\",\"type\":\"Stack\"},{\"attributes\":{},\"id\":\"2334\",\"type\":\"ResetTool\"},{\"attributes\":{},\"id\":\"2509\",\"type\":\"Selection\"},{\"attributes\":{\"data\":{\"x\":[1583366400000.0,1583452800000.0,1583539200000.0,1583625600000.0,1583712000000.0,1583798400000.0,1583884800000.0,1583971200000.0,1584057600000.0,1584144000000.0,1584230400000.0,1584316800000.0,1584403200000.0,1584489600000.0,1584576000000.0,1584662400000.0,1584748800000.0,1584835200000.0,1584921600000.0,1585008000000.0,1585094400000.0,1585180800000.0,1585267200000.0,1585353600000.0,1585440000000.0,1585526400000.0,1585612800000.0,1585699200000.0,1585785600000.0,1585872000000.0,1585958400000.0,1586044800000.0,1586131200000.0,1586217600000.0,1586304000000.0,1586390400000.0,1586476800000.0,1586563200000.0,1586649600000.0,1586736000000.0,1586822400000.0,1586908800000.0,1586995200000.0,1587081600000.0,1587168000000.0,1587254400000.0,1587340800000.0,1587427200000.0,1587513600000.0,1587600000000.0,1587686400000.0,1587772800000.0,1587859200000.0,1587945600000.0,1588032000000.0,1588118400000.0,1588204800000.0,1588291200000.0,1588377600000.0,1588464000000.0,1588550400000.0,1588636800000.0,1588723200000.0,1588809600000.0,1588896000000.0,1588982400000.0,1589068800000.0,1589155200000.0,1589241600000.0,1589328000000.0,1589414400000.0],\"y\":[361.035204377189,382.97314638603075,406.2441254332231,430.9291421771187,457.114119199816,484.89020008291874,514.3540666563326,545.6082755243681,578.7616150405131,613.9294839734204,651.2342931821535,690.8058916988264,732.7820187017269,777.3087829521336,824.5411713636295,874.6435884741218,927.7904286983346,984.1666833526533,1043.9685845652232,1107.4042883125983,1174.69459896043,1246.0737378301399,1321.790158466779,1402.1074114458186,1487.3050617290578,1577.6796617627444,1673.545783705026,1775.2371143756648,1883.1076167392769,1997.5327619649336,2118.9108363506257,2247.664327661689,2384.241395708685,2529.117432283476,2682.796715883253,2845.8141669822044,3018.737209960503,3202.1677481715583,3396.744259022225,3603.1440163584757,3822.0854478921037,4054.3306358740892,4300.687969718887,4562.014959812756,4839.221222300338,5133.271645238784,5445.189747140083,5776.061239591821,6127.037806357036,6499.341112107277,6894.2670547423,7313.190276097724,7757.568946741271,8228.949841512413,8728.97372347203,9259.381055002415,9822.018055936513,10418.843129803317,11051.933680557611,11723.493343521483,12435.859655706703,13191.512192216587,13993.081197048134,14843.35673833618,15745.29841990684,16702.045682943684,17716.92873362436,18793.4801347641,19935.447101813752,21146.804546011936,22431.768910091105]},\"selected\":{\"id\":\"2509\"},\"selection_policy\":{\"id\":\"2510\"}},\"id\":\"2356\",\"type\":\"ColumnDataSource\"},{\"attributes\":{\"months\":[0,6]},\"id\":\"2376\",\"type\":\"MonthsTicker\"},{\"attributes\":{\"source\":{\"id\":\"2356\"}},\"id\":\"2360\",\"type\":\"CDSView\"},{\"attributes\":{},\"id\":\"2380\",\"type\":\"UnionRenderers\"},{\"attributes\":{\"axis\":{\"id\":\"2323\"},\"ticker\":null},\"id\":\"2326\",\"type\":\"Grid\"},{\"attributes\":{\"overlay\":{\"id\":\"2335\"}},\"id\":\"2333\",\"type\":\"BoxZoomTool\"},{\"attributes\":{},\"id\":\"2377\",\"type\":\"YearsTicker\"},{\"attributes\":{\"axis_label\":\"# of Cases & Deaths\",\"formatter\":{\"id\":\"2363\"},\"ticker\":{\"id\":\"2328\"}},\"id\":\"2327\",\"type\":\"LinearAxis\"},{\"attributes\":{},\"id\":\"2363\",\"type\":\"BasicTickFormatter\"},{\"attributes\":{},\"id\":\"2332\",\"type\":\"WheelZoomTool\"},{\"attributes\":{},\"id\":\"2379\",\"type\":\"Selection\"},{\"attributes\":{\"items\":[{\"id\":\"2382\"}],\"location\":\"top_left\"},\"id\":\"2381\",\"type\":\"Legend\"},{\"attributes\":{\"source\":{\"id\":\"2341\"}},\"id\":\"2355\",\"type\":\"CDSView\"},{\"attributes\":{\"line_alpha\":0.75,\"line_color\":\"gray\",\"line_dash\":[6],\"x\":{\"field\":\"x\"},\"y\":{\"field\":\"y\"}},\"id\":\"2357\",\"type\":\"Line\"},{\"attributes\":{},\"id\":\"2331\",\"type\":\"PanTool\"},{\"attributes\":{\"mantissas\":[1,2,5],\"max_interval\":500.0,\"num_minor_ticks\":0},\"id\":\"2366\",\"type\":\"AdaptiveTicker\"},{\"attributes\":{\"months\":[0,2,4,6,8,10]},\"id\":\"2374\",\"type\":\"MonthsTicker\"},{\"attributes\":{\"axis_label\":\"Date\",\"formatter\":{\"id\":\"2383\"},\"ticker\":{\"id\":\"2324\"}},\"id\":\"2323\",\"type\":\"DatetimeAxis\"},{\"attributes\":{\"line_alpha\":0.1,\"line_color\":\"gray\",\"line_dash\":[6],\"x\":{\"field\":\"x\"},\"y\":{\"field\":\"y\"}},\"id\":\"2358\",\"type\":\"Line\"},{\"attributes\":{\"fields\":[\"deaths\"]},\"id\":\"2344\",\"type\":\"Stack\"},{\"attributes\":{},\"id\":\"2510\",\"type\":\"UnionRenderers\"},{\"attributes\":{},\"id\":\"2328\",\"type\":\"BasicTicker\"},{\"attributes\":{\"base\":24,\"mantissas\":[1,2,4,6,8,12],\"max_interval\":43200000.0,\"min_interval\":3600000.0,\"num_minor_ticks\":0},\"id\":\"2368\",\"type\":\"AdaptiveTicker\"},{\"attributes\":{\"axis\":{\"id\":\"2327\"},\"dimension\":1,\"ticker\":null},\"id\":\"2330\",\"type\":\"Grid\"},{\"attributes\":{\"base\":60,\"mantissas\":[1,2,5,10,15,20,30],\"max_interval\":1800000.0,\"min_interval\":1000.0,\"num_minor_ticks\":0},\"id\":\"2367\",\"type\":\"AdaptiveTicker\"},{\"attributes\":{\"fill_color\":\"red\",\"x\":{\"field\":\"x\"},\"y1\":{\"expr\":{\"id\":\"2342\"}},\"y2\":{\"expr\":{\"id\":\"2343\"}}},\"id\":\"2347\",\"type\":\"VArea\"},{\"attributes\":{},\"id\":\"2319\",\"type\":\"LinearScale\"},{\"attributes\":{\"data_source\":{\"id\":\"2356\"},\"glyph\":{\"id\":\"2357\"},\"hover_glyph\":null,\"muted_glyph\":null,\"nonselection_glyph\":{\"id\":\"2358\"},\"selection_glyph\":null,\"view\":{\"id\":\"2360\"}},\"id\":\"2359\",\"type\":\"GlyphRenderer\"},{\"attributes\":{\"data\":{\"cases\":[2,6,6,6,8,11,16,22,39,53,70,77,97,115,145,178,230,280,343,410,506,646,795,963,1100,1329,1554,1730,1944,2197,2397,2599,2703,2872,3036,3400,3651,3884,4153,4387,4554,4744,5015,5292,5547,5702,5963,6192,6429,6710,7412,7716,7982,8239,8481,8751,9078,9403,9701,9986,10190],\"deaths\":[0,0,0,0,0,0,0,0,0,0,0,0,0,0,0,0,0,0,0,0,5,7,9,13,13,11,22,30,40,50,54,63,67,93,100,116,133,146,152,160,172,191,198,208,223,230,248,278,307,325,399,403,406,418,442,458,464,499,503,510,513],\"x\":{\"__ndarray__\":\"AACA3n8Kd0IAAEBE0gp3QgAAAKokC3dCAADAD3cLd0IAAIB1yQt3QgAAQNsbDHdCAAAAQW4Md0IAAMCmwAx3QgAAgAwTDXdCAABAcmUNd0IAAADYtw13QgAAwD0KDndCAACAo1wOd0IAAEAJrw53QgAAAG8BD3dCAADA1FMPd0IAAIA6pg93QgAAQKD4D3dCAAAABksQd0IAAMBrnRB3QgAAgNHvEHdCAABAN0IRd0IAAACdlBF3QgAAwALnEXdCAACAaDkSd0IAAEDOixJ3QgAAADTeEndCAADAmTATd0IAAID/ghN3QgAAQGXVE3dCAAAAyycUd0IAAMAwehR3QgAAgJbMFHdCAABA/B4Vd0IAAABicRV3QgAAwMfDFXdCAACALRYWd0IAAECTaBZ3QgAAAPm6FndCAADAXg0Xd0IAAIDEXxd3QgAAQCqyF3dCAAAAkAQYd0IAAMD1Vhh3QgAAgFupGHdCAABAwfsYd0IAAAAnThl3QgAAwIygGXdCAACA8vIZd0IAAEBYRRp3QgAAAL6XGndCAADAI+oad0IAAICJPBt3QgAAQO+OG3dCAAAAVeEbd0IAAMC6Mxx3QgAAgCCGHHdCAABAhtgcd0IAAADsKh13QgAAwFF9HXdCAACAt88dd0I=\",\"dtype\":\"float64\",\"shape\":[61]}},\"selected\":{\"id\":\"2379\"},\"selection_policy\":{\"id\":\"2380\"}},\"id\":\"2341\",\"type\":\"ColumnDataSource\"},{\"attributes\":{\"label\":{\"value\":\"Projected # of Cases\"},\"renderers\":[{\"id\":\"2359\"}]},\"id\":\"2382\",\"type\":\"LegendItem\"},{\"attributes\":{\"data_source\":{\"id\":\"2341\"},\"glyph\":{\"id\":\"2347\"},\"hover_glyph\":null,\"muted_glyph\":null,\"name\":\"deaths\",\"nonselection_glyph\":{\"id\":\"2348\"},\"selection_glyph\":null,\"view\":{\"id\":\"2350\"}},\"id\":\"2349\",\"type\":\"GlyphRenderer\"},{\"attributes\":{\"days\":[1,2,3,4,5,6,7,8,9,10,11,12,13,14,15,16,17,18,19,20,21,22,23,24,25,26,27,28,29,30,31]},\"id\":\"2369\",\"type\":\"DaysTicker\"},{\"attributes\":{\"fields\":[]},\"id\":\"2342\",\"type\":\"Stack\"},{\"attributes\":{\"num_minor_ticks\":5,\"tickers\":[{\"id\":\"2366\"},{\"id\":\"2367\"},{\"id\":\"2368\"},{\"id\":\"2369\"},{\"id\":\"2370\"},{\"id\":\"2371\"},{\"id\":\"2372\"},{\"id\":\"2373\"},{\"id\":\"2374\"},{\"id\":\"2375\"},{\"id\":\"2376\"},{\"id\":\"2377\"}]},\"id\":\"2324\",\"type\":\"DatetimeTicker\"},{\"attributes\":{\"end\":12228},\"id\":\"2317\",\"type\":\"Range1d\"},{\"attributes\":{\"days\":[1,4,7,10,13,16,19,22,25,28]},\"id\":\"2370\",\"type\":\"DaysTicker\"},{\"attributes\":{\"fill_alpha\":0.1,\"fill_color\":\"red\",\"x\":{\"field\":\"x\"},\"y1\":{\"expr\":{\"id\":\"2342\"}},\"y2\":{\"expr\":{\"id\":\"2343\"}}},\"id\":\"2348\",\"type\":\"VArea\"},{\"attributes\":{\"fields\":[\"deaths\",\"cases\"]},\"id\":\"2345\",\"type\":\"Stack\"},{\"attributes\":{},\"id\":\"2321\",\"type\":\"LinearScale\"},{\"attributes\":{\"active_drag\":\"auto\",\"active_inspect\":\"auto\",\"active_multi\":null,\"active_scroll\":\"auto\",\"active_tap\":\"auto\",\"tools\":[{\"id\":\"2331\"},{\"id\":\"2332\"},{\"id\":\"2333\"},{\"id\":\"2334\"}]},\"id\":\"2336\",\"type\":\"Toolbar\"},{\"attributes\":{\"data_source\":{\"id\":\"2341\"},\"glyph\":{\"id\":\"2352\"},\"hover_glyph\":null,\"muted_glyph\":null,\"name\":\"cases\",\"nonselection_glyph\":{\"id\":\"2353\"},\"selection_glyph\":null,\"view\":{\"id\":\"2355\"}},\"id\":\"2354\",\"type\":\"GlyphRenderer\"},{\"attributes\":{\"days\":[1,8,15,22]},\"id\":\"2371\",\"type\":\"DaysTicker\"},{\"attributes\":{\"fill_color\":\"lightblue\",\"x\":{\"field\":\"x\"},\"y1\":{\"expr\":{\"id\":\"2344\"}},\"y2\":{\"expr\":{\"id\":\"2345\"}}},\"id\":\"2352\",\"type\":\"VArea\"},{\"attributes\":{\"days\":[1,15]},\"id\":\"2372\",\"type\":\"DaysTicker\"},{\"attributes\":{\"bottom_units\":\"screen\",\"fill_alpha\":0.5,\"fill_color\":\"lightgrey\",\"left_units\":\"screen\",\"level\":\"overlay\",\"line_alpha\":1.0,\"line_color\":\"black\",\"line_dash\":[4,4],\"line_width\":2,\"render_mode\":\"css\",\"right_units\":\"screen\",\"top_units\":\"screen\"},\"id\":\"2335\",\"type\":\"BoxAnnotation\"},{\"attributes\":{\"text\":\"Cases for the Denver Metropolitan Area\"},\"id\":\"2313\",\"type\":\"Title\"},{\"attributes\":{\"source\":{\"id\":\"2341\"}},\"id\":\"2350\",\"type\":\"CDSView\"},{\"attributes\":{\"months\":[0,1,2,3,4,5,6,7,8,9,10,11]},\"id\":\"2373\",\"type\":\"MonthsTicker\"},{\"attributes\":{\"fill_alpha\":0.1,\"fill_color\":\"lightblue\",\"x\":{\"field\":\"x\"},\"y1\":{\"expr\":{\"id\":\"2344\"}},\"y2\":{\"expr\":{\"id\":\"2345\"}}},\"id\":\"2353\",\"type\":\"VArea\"},{\"attributes\":{\"code\":\"\\n        let date = new Date(tick);\\n        return `${date.getDate()}-${date.getMonth()}-${date.getFullYear()}`\\n    \"},\"id\":\"2383\",\"type\":\"FuncTickFormatter\"},{\"attributes\":{\"end\":1588723200000.0,\"start\":1583366400000.0},\"id\":\"2315\",\"type\":\"Range1d\"}],\"root_ids\":[\"2312\"]},\"title\":\"Bokeh Application\",\"version\":\"2.0.2\"}};\n",
       "  var render_items = [{\"docid\":\"fa07483f-1135-4c2b-8fe2-af43278dbd2d\",\"root_ids\":[\"2312\"],\"roots\":{\"2312\":\"bb628264-58a0-41a0-be19-e9afe1b498d8\"}}];\n",
       "  root.Bokeh.embed.embed_items_notebook(docs_json, render_items);\n",
       "\n",
       "  }\n",
       "  if (root.Bokeh !== undefined) {\n",
       "    embed_document(root);\n",
       "  } else {\n",
       "    var attempts = 0;\n",
       "    var timer = setInterval(function(root) {\n",
       "      if (root.Bokeh !== undefined) {\n",
       "        clearInterval(timer);\n",
       "        embed_document(root);\n",
       "      } else {\n",
       "        attempts++;\n",
       "        if (attempts > 100) {\n",
       "          clearInterval(timer);\n",
       "          console.log(\"Bokeh: ERROR: Unable to run BokehJS code because BokehJS library is missing\");\n",
       "        }\n",
       "      }\n",
       "    }, 10, root)\n",
       "  }\n",
       "})(window);"
      ],
      "application/vnd.bokehjs_exec.v0+json": ""
     },
     "metadata": {
      "application/vnd.bokehjs_exec.v0+json": {
       "id": "2312"
      }
     },
     "output_type": "display_data"
    }
   ],
   "source": [
    "# Denver Metropolitan Area\n",
    "# https://en.wikipedia.org/wiki/Denver_metropolitan_area\n",
    "denver_metropolitan = dict(\n",
    "    Colorado=[\n",
    "        \"Denver\",\n",
    "        \"Arapahoe\",\n",
    "        \"Jefferson\",\n",
    "        \"Adams\",\n",
    "        \"Douglas\",\n",
    "        \"Broomfield\",\n",
    "        \"Elbert\",\n",
    "        \"Park\",\n",
    "        \"Clear Creek\",\n",
    "        \"Gilpin\",\n",
    "    ],\n",
    ")\n",
    "\n",
    "plot_states_and_counties_curve(\n",
    "    df, denver_metropolitan, \"Cases for the Denver Metropolitan Area\"\n",
    ")"
   ]
  },
  {
   "cell_type": "code",
   "execution_count": 9,
   "metadata": {},
   "outputs": [
    {
     "name": "stdout",
     "output_type": "stream",
     "text": [
      "y ≈ exp(8.349612967230065) * exp(0.046788095962848636 * x)\n",
      "y = 4228.543841348207 * exp(0.046788095962848636 * x)\n"
     ]
    },
    {
     "data": {
      "text/html": [
       "\n",
       "\n",
       "\n",
       "\n",
       "\n",
       "\n",
       "  <div class=\"bk-root\" id=\"974eb0f8-47fd-4426-b0d7-c2e0bd224b8b\" data-root-id=\"2637\"></div>\n"
      ]
     },
     "metadata": {},
     "output_type": "display_data"
    },
    {
     "data": {
      "application/javascript": [
       "(function(root) {\n",
       "  function embed_document(root) {\n",
       "    \n",
       "  var docs_json = {\"ae39c194-69e3-4477-b632-0fad6eaf5d5d\":{\"roots\":{\"references\":[{\"attributes\":{\"below\":[{\"id\":\"2648\"}],\"center\":[{\"id\":\"2651\"},{\"id\":\"2655\"},{\"id\":\"2706\"}],\"left\":[{\"id\":\"2652\"}],\"plot_width\":880,\"renderers\":[{\"id\":\"2674\"},{\"id\":\"2679\"},{\"id\":\"2684\"}],\"title\":{\"id\":\"2638\"},\"toolbar\":{\"id\":\"2661\"},\"x_range\":{\"id\":\"2640\"},\"x_scale\":{\"id\":\"2644\"},\"y_range\":{\"id\":\"2642\"},\"y_scale\":{\"id\":\"2646\"}},\"id\":\"2637\",\"subtype\":\"Figure\",\"type\":\"Plot\"},{\"attributes\":{\"items\":[{\"id\":\"2707\"}],\"location\":\"top_left\"},\"id\":\"2706\",\"type\":\"Legend\"},{\"attributes\":{},\"id\":\"2657\",\"type\":\"WheelZoomTool\"},{\"attributes\":{\"mantissas\":[1,2,5],\"max_interval\":500.0,\"num_minor_ticks\":0},\"id\":\"2691\",\"type\":\"AdaptiveTicker\"},{\"attributes\":{\"end\":52713},\"id\":\"2642\",\"type\":\"Range1d\"},{\"attributes\":{\"bottom_units\":\"screen\",\"fill_alpha\":0.5,\"fill_color\":\"lightgrey\",\"left_units\":\"screen\",\"level\":\"overlay\",\"line_alpha\":1.0,\"line_color\":\"black\",\"line_dash\":[4,4],\"line_width\":2,\"render_mode\":\"css\",\"right_units\":\"screen\",\"top_units\":\"screen\"},\"id\":\"2660\",\"type\":\"BoxAnnotation\"},{\"attributes\":{\"fields\":[\"deaths\"]},\"id\":\"2668\",\"type\":\"Stack\"},{\"attributes\":{\"code\":\"\\n        let date = new Date(tick);\\n        return `${date.getDate()}-${date.getMonth()}-${date.getFullYear()}`\\n    \"},\"id\":\"2708\",\"type\":\"FuncTickFormatter\"},{\"attributes\":{\"base\":24,\"mantissas\":[1,2,4,6,8,12],\"max_interval\":43200000.0,\"min_interval\":3600000.0,\"num_minor_ticks\":0},\"id\":\"2693\",\"type\":\"AdaptiveTicker\"},{\"attributes\":{\"days\":[1,8,15,22]},\"id\":\"2696\",\"type\":\"DaysTicker\"},{\"attributes\":{\"days\":[1,4,7,10,13,16,19,22,25,28]},\"id\":\"2695\",\"type\":\"DaysTicker\"},{\"attributes\":{\"axis_label\":\"# of Cases & Deaths\",\"formatter\":{\"id\":\"2688\"},\"ticker\":{\"id\":\"2653\"}},\"id\":\"2652\",\"type\":\"LinearAxis\"},{\"attributes\":{\"source\":{\"id\":\"2666\"}},\"id\":\"2680\",\"type\":\"CDSView\"},{\"attributes\":{\"data\":{\"x\":[1583798400000.0,1583884800000.0,1583971200000.0,1584057600000.0,1584144000000.0,1584230400000.0,1584316800000.0,1584403200000.0,1584489600000.0,1584576000000.0,1584662400000.0,1584748800000.0,1584835200000.0,1584921600000.0,1585008000000.0,1585094400000.0,1585180800000.0,1585267200000.0,1585353600000.0,1585440000000.0,1585526400000.0,1585612800000.0,1585699200000.0,1585785600000.0,1585872000000.0,1585958400000.0,1586044800000.0,1586131200000.0,1586217600000.0,1586304000000.0,1586390400000.0,1586476800000.0,1586563200000.0,1586649600000.0,1586736000000.0,1586822400000.0,1586908800000.0,1586995200000.0,1587081600000.0,1587168000000.0,1587254400000.0,1587340800000.0,1587427200000.0,1587513600000.0,1587600000000.0,1587686400000.0,1587772800000.0,1587859200000.0,1587945600000.0,1588032000000.0,1588118400000.0,1588204800000.0,1588291200000.0,1588377600000.0,1588464000000.0,1588550400000.0,1588636800000.0,1588723200000.0,1588809600000.0,1588896000000.0,1588982400000.0,1589068800000.0,1589155200000.0,1589241600000.0,1589328000000.0,1589414400000.0],\"y\":[4228.543841348207,4431.090800953207,4643.339746013359,4865.75540096568,5098.824750515802,5343.058105903321,5598.990222241157,5867.181469375418,6148.219058829355,6442.718329517857,6751.324095047577,7074.712055552646,7413.590277157215,7768.700742304153,8140.820974344393,8530.765739943972,8939.388833036284,9367.584944225495,9816.291619734267,10286.491314184947,10779.21354170881,11295.53713009333,11836.592582902907,12403.564554745035,12997.694445101555,13620.283116404238,14272.693742305994,14956.354792384092,15672.76315981046,16423.487438837146,17210.17135927316,18034.537385472482,18898.39048771335,19803.622094226375,20752.214232524522,21746.243869102513,22787.887457007524,23879.42570123824,25023.248552406123,26221.860439592827,27477.885753861006,28794.074594424997,30173.30879006263,31618.608208952297,33133.13737075072,34720.21237538889,36383.308163756716,38126.066126174126,39952.3020753073,41866.014600987044,43871.393825222505,45972.830576579254,48174.92600400967,50482.501651184924,52900.61001338694,55434.54560007464,58089.85652734649,60872.35666568095,63788.13836955321,66843.58581679943,70045.38898693564,73400.55830903728,76916.44001125109,80600.7322055475,84461.50174293162,88507.20187601782]},\"selected\":{\"id\":\"2855\"},\"selection_policy\":{\"id\":\"2856\"}},\"id\":\"2681\",\"type\":\"ColumnDataSource\"},{\"attributes\":{},\"id\":\"2856\",\"type\":\"UnionRenderers\"},{\"attributes\":{\"base\":60,\"mantissas\":[1,2,5,10,15,20,30],\"max_interval\":1800000.0,\"min_interval\":1000.0,\"num_minor_ticks\":0},\"id\":\"2692\",\"type\":\"AdaptiveTicker\"},{\"attributes\":{\"fields\":[]},\"id\":\"2667\",\"type\":\"Stack\"},{\"attributes\":{\"text\":\"Michigan Cases\"},\"id\":\"2638\",\"type\":\"Title\"},{\"attributes\":{\"data_source\":{\"id\":\"2666\"},\"glyph\":{\"id\":\"2677\"},\"hover_glyph\":null,\"muted_glyph\":null,\"name\":\"cases\",\"nonselection_glyph\":{\"id\":\"2678\"},\"selection_glyph\":null,\"view\":{\"id\":\"2680\"}},\"id\":\"2679\",\"type\":\"GlyphRenderer\"},{\"attributes\":{\"axis\":{\"id\":\"2648\"},\"ticker\":null},\"id\":\"2651\",\"type\":\"Grid\"},{\"attributes\":{\"days\":[1,15]},\"id\":\"2697\",\"type\":\"DaysTicker\"},{\"attributes\":{},\"id\":\"2705\",\"type\":\"UnionRenderers\"},{\"attributes\":{},\"id\":\"2855\",\"type\":\"Selection\"},{\"attributes\":{\"source\":{\"id\":\"2681\"}},\"id\":\"2685\",\"type\":\"CDSView\"},{\"attributes\":{\"months\":[0,6]},\"id\":\"2701\",\"type\":\"MonthsTicker\"},{\"attributes\":{\"data\":{\"cases\":[2,2,12,25,33,53,54,65,80,334,548,787,1033,1324,1783,2286,2878,3652,4637,5473,6509,7630,9293,10791,12670,14225,15635,17130,18852,20220,21375,22646,23855,24496,25490,26845,27894,29120,29954,30718,31349,31929,32936,33930,35253,36628,37185,37752,38191,39235,40361,41348,42348,43191,43736,43928],\"deaths\":[0,0,0,0,0,0,0,0,1,3,4,6,9,16,24,43,63,93,112,132,197,264,336,417,478,542,617,727,845,959,1076,1280,1395,1488,1603,1767,1920,2092,2227,2307,2389,2466,2698,2812,2977,3084,3273,3314,3406,3566,3670,3788,3866,4020,4049,4135],\"x\":{\"__ndarray__\":\"AABA2xsMd0IAAABBbgx3QgAAwKbADHdCAACADBMNd0IAAEByZQ13QgAAANi3DXdCAADAPQoOd0IAAICjXA53QgAAQAmvDndCAAAAbwEPd0IAAMDUUw93QgAAgDqmD3dCAABAoPgPd0IAAAAGSxB3QgAAwGudEHdCAACA0e8Qd0IAAEA3QhF3QgAAAJ2UEXdCAADAAucRd0IAAIBoORJ3QgAAQM6LEndCAAAANN4Sd0IAAMCZMBN3QgAAgP+CE3dCAABAZdUTd0IAAADLJxR3QgAAwDB6FHdCAACAlswUd0IAAED8HhV3QgAAAGJxFXdCAADAx8MVd0IAAIAtFhZ3QgAAQJNoFndCAAAA+boWd0IAAMBeDRd3QgAAgMRfF3dCAABAKrIXd0IAAACQBBh3QgAAwPVWGHdCAACAW6kYd0IAAEDB+xh3QgAAACdOGXdCAADAjKAZd0IAAIDy8hl3QgAAQFhFGndCAAAAvpcad0IAAMAj6hp3QgAAgIk8G3dCAABA744bd0IAAABV4Rt3QgAAwLozHHdCAACAIIYcd0IAAECG2Bx3QgAAAOwqHXdCAADAUX0dd0IAAIC3zx13Qg==\",\"dtype\":\"float64\",\"shape\":[56]}},\"selected\":{\"id\":\"2704\"},\"selection_policy\":{\"id\":\"2705\"}},\"id\":\"2666\",\"type\":\"ColumnDataSource\"},{\"attributes\":{\"label\":{\"value\":\"Projected # of Cases\"},\"renderers\":[{\"id\":\"2684\"}]},\"id\":\"2707\",\"type\":\"LegendItem\"},{\"attributes\":{},\"id\":\"2656\",\"type\":\"PanTool\"},{\"attributes\":{\"axis\":{\"id\":\"2652\"},\"dimension\":1,\"ticker\":null},\"id\":\"2655\",\"type\":\"Grid\"},{\"attributes\":{\"fill_alpha\":0.1,\"fill_color\":\"lightblue\",\"x\":{\"field\":\"x\"},\"y1\":{\"expr\":{\"id\":\"2669\"}},\"y2\":{\"expr\":{\"id\":\"2670\"}}},\"id\":\"2678\",\"type\":\"VArea\"},{\"attributes\":{},\"id\":\"2644\",\"type\":\"LinearScale\"},{\"attributes\":{\"months\":[0,2,4,6,8,10]},\"id\":\"2699\",\"type\":\"MonthsTicker\"},{\"attributes\":{\"source\":{\"id\":\"2666\"}},\"id\":\"2675\",\"type\":\"CDSView\"},{\"attributes\":{},\"id\":\"2646\",\"type\":\"LinearScale\"},{\"attributes\":{},\"id\":\"2688\",\"type\":\"BasicTickFormatter\"},{\"attributes\":{\"num_minor_ticks\":5,\"tickers\":[{\"id\":\"2691\"},{\"id\":\"2692\"},{\"id\":\"2693\"},{\"id\":\"2694\"},{\"id\":\"2695\"},{\"id\":\"2696\"},{\"id\":\"2697\"},{\"id\":\"2698\"},{\"id\":\"2699\"},{\"id\":\"2700\"},{\"id\":\"2701\"},{\"id\":\"2702\"}]},\"id\":\"2649\",\"type\":\"DatetimeTicker\"},{\"attributes\":{},\"id\":\"2659\",\"type\":\"ResetTool\"},{\"attributes\":{\"line_alpha\":0.1,\"line_color\":\"gray\",\"line_dash\":[6],\"x\":{\"field\":\"x\"},\"y\":{\"field\":\"y\"}},\"id\":\"2683\",\"type\":\"Line\"},{\"attributes\":{\"data_source\":{\"id\":\"2666\"},\"glyph\":{\"id\":\"2672\"},\"hover_glyph\":null,\"muted_glyph\":null,\"name\":\"deaths\",\"nonselection_glyph\":{\"id\":\"2673\"},\"selection_glyph\":null,\"view\":{\"id\":\"2675\"}},\"id\":\"2674\",\"type\":\"GlyphRenderer\"},{\"attributes\":{\"data_source\":{\"id\":\"2681\"},\"glyph\":{\"id\":\"2682\"},\"hover_glyph\":null,\"muted_glyph\":null,\"nonselection_glyph\":{\"id\":\"2683\"},\"selection_glyph\":null,\"view\":{\"id\":\"2685\"}},\"id\":\"2684\",\"type\":\"GlyphRenderer\"},{\"attributes\":{\"days\":[1,2,3,4,5,6,7,8,9,10,11,12,13,14,15,16,17,18,19,20,21,22,23,24,25,26,27,28,29,30,31]},\"id\":\"2694\",\"type\":\"DaysTicker\"},{\"attributes\":{\"fields\":[\"deaths\"]},\"id\":\"2669\",\"type\":\"Stack\"},{\"attributes\":{\"fill_color\":\"lightblue\",\"x\":{\"field\":\"x\"},\"y1\":{\"expr\":{\"id\":\"2669\"}},\"y2\":{\"expr\":{\"id\":\"2670\"}}},\"id\":\"2677\",\"type\":\"VArea\"},{\"attributes\":{\"months\":[0,4,8]},\"id\":\"2700\",\"type\":\"MonthsTicker\"},{\"attributes\":{},\"id\":\"2702\",\"type\":\"YearsTicker\"},{\"attributes\":{\"fill_alpha\":0.1,\"fill_color\":\"red\",\"x\":{\"field\":\"x\"},\"y1\":{\"expr\":{\"id\":\"2667\"}},\"y2\":{\"expr\":{\"id\":\"2668\"}}},\"id\":\"2673\",\"type\":\"VArea\"},{\"attributes\":{},\"id\":\"2653\",\"type\":\"BasicTicker\"},{\"attributes\":{\"fill_color\":\"red\",\"x\":{\"field\":\"x\"},\"y1\":{\"expr\":{\"id\":\"2667\"}},\"y2\":{\"expr\":{\"id\":\"2668\"}}},\"id\":\"2672\",\"type\":\"VArea\"},{\"attributes\":{\"months\":[0,1,2,3,4,5,6,7,8,9,10,11]},\"id\":\"2698\",\"type\":\"MonthsTicker\"},{\"attributes\":{},\"id\":\"2704\",\"type\":\"Selection\"},{\"attributes\":{\"line_alpha\":0.75,\"line_color\":\"gray\",\"line_dash\":[6],\"x\":{\"field\":\"x\"},\"y\":{\"field\":\"y\"}},\"id\":\"2682\",\"type\":\"Line\"},{\"attributes\":{\"end\":1588723200000.0,\"start\":1583798400000.0},\"id\":\"2640\",\"type\":\"Range1d\"},{\"attributes\":{\"fields\":[\"deaths\",\"cases\"]},\"id\":\"2670\",\"type\":\"Stack\"},{\"attributes\":{\"active_drag\":\"auto\",\"active_inspect\":\"auto\",\"active_multi\":null,\"active_scroll\":\"auto\",\"active_tap\":\"auto\",\"tools\":[{\"id\":\"2656\"},{\"id\":\"2657\"},{\"id\":\"2658\"},{\"id\":\"2659\"}]},\"id\":\"2661\",\"type\":\"Toolbar\"},{\"attributes\":{\"axis_label\":\"Date\",\"formatter\":{\"id\":\"2708\"},\"ticker\":{\"id\":\"2649\"}},\"id\":\"2648\",\"type\":\"DatetimeAxis\"},{\"attributes\":{\"overlay\":{\"id\":\"2660\"}},\"id\":\"2658\",\"type\":\"BoxZoomTool\"}],\"root_ids\":[\"2637\"]},\"title\":\"Bokeh Application\",\"version\":\"2.0.2\"}};\n",
       "  var render_items = [{\"docid\":\"ae39c194-69e3-4477-b632-0fad6eaf5d5d\",\"root_ids\":[\"2637\"],\"roots\":{\"2637\":\"974eb0f8-47fd-4426-b0d7-c2e0bd224b8b\"}}];\n",
       "  root.Bokeh.embed.embed_items_notebook(docs_json, render_items);\n",
       "\n",
       "  }\n",
       "  if (root.Bokeh !== undefined) {\n",
       "    embed_document(root);\n",
       "  } else {\n",
       "    var attempts = 0;\n",
       "    var timer = setInterval(function(root) {\n",
       "      if (root.Bokeh !== undefined) {\n",
       "        clearInterval(timer);\n",
       "        embed_document(root);\n",
       "      } else {\n",
       "        attempts++;\n",
       "        if (attempts > 100) {\n",
       "          clearInterval(timer);\n",
       "          console.log(\"Bokeh: ERROR: Unable to run BokehJS code because BokehJS library is missing\");\n",
       "        }\n",
       "      }\n",
       "    }, 10, root)\n",
       "  }\n",
       "})(window);"
      ],
      "application/vnd.bokehjs_exec.v0+json": ""
     },
     "metadata": {
      "application/vnd.bokehjs_exec.v0+json": {
       "id": "2637"
      }
     },
     "output_type": "display_data"
    }
   ],
   "source": [
    "plot_state_curve(df, \"Michigan\")"
   ]
  },
  {
   "cell_type": "code",
   "execution_count": 10,
   "metadata": {},
   "outputs": [
    {
     "name": "stdout",
     "output_type": "stream",
     "text": [
      "y ≈ exp(-0.8000414521160175) * exp(0.11815000653900073 * x)\n",
      "y = 0.44931033886690164 * exp(0.11815000653900073 * x)\n"
     ]
    },
    {
     "data": {
      "text/html": [
       "\n",
       "\n",
       "\n",
       "\n",
       "\n",
       "\n",
       "  <div class=\"bk-root\" id=\"7edaf8a9-6e1a-4b08-9139-96e3bfd9fd76\" data-root-id=\"2983\"></div>\n"
      ]
     },
     "metadata": {},
     "output_type": "display_data"
    },
    {
     "data": {
      "application/javascript": [
       "(function(root) {\n",
       "  function embed_document(root) {\n",
       "    \n",
       "  var docs_json = {\"a2704828-e919-48f5-bdaa-1da62d7f228a\":{\"roots\":{\"references\":[{\"attributes\":{\"below\":[{\"id\":\"2994\"}],\"center\":[{\"id\":\"2997\"},{\"id\":\"3001\"},{\"id\":\"3052\"}],\"left\":[{\"id\":\"2998\"}],\"plot_width\":880,\"renderers\":[{\"id\":\"3020\"},{\"id\":\"3025\"},{\"id\":\"3030\"}],\"title\":{\"id\":\"2984\"},\"toolbar\":{\"id\":\"3007\"},\"x_range\":{\"id\":\"2986\"},\"x_scale\":{\"id\":\"2990\"},\"y_range\":{\"id\":\"2988\"},\"y_scale\":{\"id\":\"2992\"}},\"id\":\"2983\",\"subtype\":\"Figure\",\"type\":\"Plot\"},{\"attributes\":{\"months\":[0,1,2,3,4,5,6,7,8,9,10,11]},\"id\":\"3044\",\"type\":\"MonthsTicker\"},{\"attributes\":{},\"id\":\"2990\",\"type\":\"LinearScale\"},{\"attributes\":{},\"id\":\"3002\",\"type\":\"PanTool\"},{\"attributes\":{\"fields\":[\"deaths\"]},\"id\":\"3014\",\"type\":\"Stack\"},{\"attributes\":{},\"id\":\"2999\",\"type\":\"BasicTicker\"},{\"attributes\":{\"source\":{\"id\":\"3027\"}},\"id\":\"3031\",\"type\":\"CDSView\"},{\"attributes\":{\"bottom_units\":\"screen\",\"fill_alpha\":0.5,\"fill_color\":\"lightgrey\",\"left_units\":\"screen\",\"level\":\"overlay\",\"line_alpha\":1.0,\"line_color\":\"black\",\"line_dash\":[4,4],\"line_width\":2,\"render_mode\":\"css\",\"right_units\":\"screen\",\"top_units\":\"screen\"},\"id\":\"3006\",\"type\":\"BoxAnnotation\"},{\"attributes\":{\"axis_label\":\"Date\",\"formatter\":{\"id\":\"3054\"},\"ticker\":{\"id\":\"2995\"}},\"id\":\"2994\",\"type\":\"DatetimeAxis\"},{\"attributes\":{},\"id\":\"3034\",\"type\":\"BasicTickFormatter\"},{\"attributes\":{\"fields\":[]},\"id\":\"3013\",\"type\":\"Stack\"},{\"attributes\":{\"active_drag\":\"auto\",\"active_inspect\":\"auto\",\"active_multi\":null,\"active_scroll\":\"auto\",\"active_tap\":\"auto\",\"tools\":[{\"id\":\"3002\"},{\"id\":\"3003\"},{\"id\":\"3004\"},{\"id\":\"3005\"}]},\"id\":\"3007\",\"type\":\"Toolbar\"},{\"attributes\":{\"data\":{\"cases\":[1,1,1,1,1,1,1,1,1,1,1,1,1,1,1,1,1,3,3,3,4,7,7,7,8,10,10],\"deaths\":[0,0,0,0,0,0,0,0,0,0,0,0,0,0,0,0,0,0,0,0,0,0,0,0,0,0,0],\"x\":{\"__ndarray__\":\"AAAAYnEVd0IAAMDHwxV3QgAAgC0WFndCAABAk2gWd0IAAAD5uhZ3QgAAwF4NF3dCAACAxF8Xd0IAAEAqshd3QgAAAJAEGHdCAADA9VYYd0IAAIBbqRh3QgAAQMH7GHdCAAAAJ04Zd0IAAMCMoBl3QgAAgPLyGXdCAABAWEUad0IAAAC+lxp3QgAAwCPqGndCAACAiTwbd0IAAEDvjht3QgAAAFXhG3dCAADAujMcd0IAAIAghhx3QgAAQIbYHHdCAAAA7Codd0IAAMBRfR13QgAAgLfPHXdC\",\"dtype\":\"float64\",\"shape\":[27]}},\"selected\":{\"id\":\"3050\"},\"selection_policy\":{\"id\":\"3051\"}},\"id\":\"3012\",\"type\":\"ColumnDataSource\"},{\"attributes\":{\"data\":{\"x\":[1586304000000.0,1586390400000.0,1586476800000.0,1586563200000.0,1586649600000.0,1586736000000.0,1586822400000.0,1586908800000.0,1586995200000.0,1587081600000.0,1587168000000.0,1587254400000.0,1587340800000.0,1587427200000.0,1587513600000.0,1587600000000.0,1587686400000.0,1587772800000.0,1587859200000.0,1587945600000.0,1588032000000.0,1588118400000.0,1588204800000.0,1588291200000.0,1588377600000.0,1588464000000.0,1588550400000.0,1588636800000.0,1588723200000.0,1588809600000.0,1588896000000.0,1588982400000.0,1589068800000.0,1589155200000.0,1589241600000.0,1589328000000.0,1589414400000.0],\"y\":[0.44931033886690164,0.5056596595530053,0.5690759129738261,0.6404453837849541,0.720765508186818,0.8111588137642636,0.9128886075620911,1.0273766316479225,1.1562229329107274,1.3012282247887625,1.4644190534470631,1.648076120118688,1.8547661554334272,2.0873777911990805,2.3491619309674974,2.6437771835911117,2.975340994734372,3.3484871909372225,3.7684307404474975,4.241040635898293,4.772921917414547,5.371507982476796,6.04516447263429,6.803306188953928,7.656528670176822,8.616756272475433,9.697408820325101,10.913589157547703,12.282294219678958,13.822652577537239,15.556191771824453,17.50713917493936,19.70276058474881,22.17374128239178,24.95461487965463,28.084245949347018,31.606373183761598]},\"selected\":{\"id\":\"3222\"},\"selection_policy\":{\"id\":\"3223\"}},\"id\":\"3027\",\"type\":\"ColumnDataSource\"},{\"attributes\":{\"axis\":{\"id\":\"2994\"},\"ticker\":null},\"id\":\"2997\",\"type\":\"Grid\"},{\"attributes\":{\"items\":[{\"id\":\"3053\"}],\"location\":\"top_left\"},\"id\":\"3052\",\"type\":\"Legend\"},{\"attributes\":{\"mantissas\":[1,2,5],\"max_interval\":500.0,\"num_minor_ticks\":0},\"id\":\"3037\",\"type\":\"AdaptiveTicker\"},{\"attributes\":{},\"id\":\"3051\",\"type\":\"UnionRenderers\"},{\"attributes\":{\"axis\":{\"id\":\"2998\"},\"dimension\":1,\"ticker\":null},\"id\":\"3001\",\"type\":\"Grid\"},{\"attributes\":{\"fields\":[\"deaths\"]},\"id\":\"3015\",\"type\":\"Stack\"},{\"attributes\":{},\"id\":\"3003\",\"type\":\"WheelZoomTool\"},{\"attributes\":{\"fields\":[\"deaths\",\"cases\"]},\"id\":\"3016\",\"type\":\"Stack\"},{\"attributes\":{\"overlay\":{\"id\":\"3006\"}},\"id\":\"3004\",\"type\":\"BoxZoomTool\"},{\"attributes\":{\"num_minor_ticks\":5,\"tickers\":[{\"id\":\"3037\"},{\"id\":\"3038\"},{\"id\":\"3039\"},{\"id\":\"3040\"},{\"id\":\"3041\"},{\"id\":\"3042\"},{\"id\":\"3043\"},{\"id\":\"3044\"},{\"id\":\"3045\"},{\"id\":\"3046\"},{\"id\":\"3047\"},{\"id\":\"3048\"}]},\"id\":\"2995\",\"type\":\"DatetimeTicker\"},{\"attributes\":{\"fill_color\":\"red\",\"x\":{\"field\":\"x\"},\"y1\":{\"expr\":{\"id\":\"3013\"}},\"y2\":{\"expr\":{\"id\":\"3014\"}}},\"id\":\"3018\",\"type\":\"VArea\"},{\"attributes\":{\"text\":\"Texas Cases for counties Frio\"},\"id\":\"2984\",\"type\":\"Title\"},{\"attributes\":{\"fill_alpha\":0.1,\"fill_color\":\"red\",\"x\":{\"field\":\"x\"},\"y1\":{\"expr\":{\"id\":\"3013\"}},\"y2\":{\"expr\":{\"id\":\"3014\"}}},\"id\":\"3019\",\"type\":\"VArea\"},{\"attributes\":{},\"id\":\"3005\",\"type\":\"ResetTool\"},{\"attributes\":{},\"id\":\"2992\",\"type\":\"LinearScale\"},{\"attributes\":{\"days\":[1,15]},\"id\":\"3043\",\"type\":\"DaysTicker\"},{\"attributes\":{\"code\":\"\\n        let date = new Date(tick);\\n        return `${date.getDate()}-${date.getMonth()}-${date.getFullYear()}`\\n    \"},\"id\":\"3054\",\"type\":\"FuncTickFormatter\"},{\"attributes\":{\"fill_color\":\"lightblue\",\"x\":{\"field\":\"x\"},\"y1\":{\"expr\":{\"id\":\"3015\"}},\"y2\":{\"expr\":{\"id\":\"3016\"}}},\"id\":\"3023\",\"type\":\"VArea\"},{\"attributes\":{\"data_source\":{\"id\":\"3012\"},\"glyph\":{\"id\":\"3018\"},\"hover_glyph\":null,\"muted_glyph\":null,\"name\":\"deaths\",\"nonselection_glyph\":{\"id\":\"3019\"},\"selection_glyph\":null,\"view\":{\"id\":\"3021\"}},\"id\":\"3020\",\"type\":\"GlyphRenderer\"},{\"attributes\":{\"months\":[0,4,8]},\"id\":\"3046\",\"type\":\"MonthsTicker\"},{\"attributes\":{},\"id\":\"3222\",\"type\":\"Selection\"},{\"attributes\":{\"label\":{\"value\":\"Projected # of Cases\"},\"renderers\":[{\"id\":\"3030\"}]},\"id\":\"3053\",\"type\":\"LegendItem\"},{\"attributes\":{\"days\":[1,8,15,22]},\"id\":\"3042\",\"type\":\"DaysTicker\"},{\"attributes\":{\"months\":[0,6]},\"id\":\"3047\",\"type\":\"MonthsTicker\"},{\"attributes\":{},\"id\":\"3223\",\"type\":\"UnionRenderers\"},{\"attributes\":{},\"id\":\"3050\",\"type\":\"Selection\"},{\"attributes\":{\"end\":12},\"id\":\"2988\",\"type\":\"Range1d\"},{\"attributes\":{\"source\":{\"id\":\"3012\"}},\"id\":\"3021\",\"type\":\"CDSView\"},{\"attributes\":{\"months\":[0,2,4,6,8,10]},\"id\":\"3045\",\"type\":\"MonthsTicker\"},{\"attributes\":{\"end\":1588723200000.0,\"start\":1586304000000.0},\"id\":\"2986\",\"type\":\"Range1d\"},{\"attributes\":{\"base\":24,\"mantissas\":[1,2,4,6,8,12],\"max_interval\":43200000.0,\"min_interval\":3600000.0,\"num_minor_ticks\":0},\"id\":\"3039\",\"type\":\"AdaptiveTicker\"},{\"attributes\":{\"data_source\":{\"id\":\"3027\"},\"glyph\":{\"id\":\"3028\"},\"hover_glyph\":null,\"muted_glyph\":null,\"nonselection_glyph\":{\"id\":\"3029\"},\"selection_glyph\":null,\"view\":{\"id\":\"3031\"}},\"id\":\"3030\",\"type\":\"GlyphRenderer\"},{\"attributes\":{\"fill_alpha\":0.1,\"fill_color\":\"lightblue\",\"x\":{\"field\":\"x\"},\"y1\":{\"expr\":{\"id\":\"3015\"}},\"y2\":{\"expr\":{\"id\":\"3016\"}}},\"id\":\"3024\",\"type\":\"VArea\"},{\"attributes\":{\"axis_label\":\"# of Cases & Deaths\",\"formatter\":{\"id\":\"3034\"},\"ticker\":{\"id\":\"2999\"}},\"id\":\"2998\",\"type\":\"LinearAxis\"},{\"attributes\":{\"line_alpha\":0.1,\"line_color\":\"gray\",\"line_dash\":[6],\"x\":{\"field\":\"x\"},\"y\":{\"field\":\"y\"}},\"id\":\"3029\",\"type\":\"Line\"},{\"attributes\":{\"days\":[1,4,7,10,13,16,19,22,25,28]},\"id\":\"3041\",\"type\":\"DaysTicker\"},{\"attributes\":{},\"id\":\"3048\",\"type\":\"YearsTicker\"},{\"attributes\":{\"line_alpha\":0.75,\"line_color\":\"gray\",\"line_dash\":[6],\"x\":{\"field\":\"x\"},\"y\":{\"field\":\"y\"}},\"id\":\"3028\",\"type\":\"Line\"},{\"attributes\":{\"data_source\":{\"id\":\"3012\"},\"glyph\":{\"id\":\"3023\"},\"hover_glyph\":null,\"muted_glyph\":null,\"name\":\"cases\",\"nonselection_glyph\":{\"id\":\"3024\"},\"selection_glyph\":null,\"view\":{\"id\":\"3026\"}},\"id\":\"3025\",\"type\":\"GlyphRenderer\"},{\"attributes\":{\"days\":[1,2,3,4,5,6,7,8,9,10,11,12,13,14,15,16,17,18,19,20,21,22,23,24,25,26,27,28,29,30,31]},\"id\":\"3040\",\"type\":\"DaysTicker\"},{\"attributes\":{\"base\":60,\"mantissas\":[1,2,5,10,15,20,30],\"max_interval\":1800000.0,\"min_interval\":1000.0,\"num_minor_ticks\":0},\"id\":\"3038\",\"type\":\"AdaptiveTicker\"},{\"attributes\":{\"source\":{\"id\":\"3012\"}},\"id\":\"3026\",\"type\":\"CDSView\"}],\"root_ids\":[\"2983\"]},\"title\":\"Bokeh Application\",\"version\":\"2.0.2\"}};\n",
       "  var render_items = [{\"docid\":\"a2704828-e919-48f5-bdaa-1da62d7f228a\",\"root_ids\":[\"2983\"],\"roots\":{\"2983\":\"7edaf8a9-6e1a-4b08-9139-96e3bfd9fd76\"}}];\n",
       "  root.Bokeh.embed.embed_items_notebook(docs_json, render_items);\n",
       "\n",
       "  }\n",
       "  if (root.Bokeh !== undefined) {\n",
       "    embed_document(root);\n",
       "  } else {\n",
       "    var attempts = 0;\n",
       "    var timer = setInterval(function(root) {\n",
       "      if (root.Bokeh !== undefined) {\n",
       "        clearInterval(timer);\n",
       "        embed_document(root);\n",
       "      } else {\n",
       "        attempts++;\n",
       "        if (attempts > 100) {\n",
       "          clearInterval(timer);\n",
       "          console.log(\"Bokeh: ERROR: Unable to run BokehJS code because BokehJS library is missing\");\n",
       "        }\n",
       "      }\n",
       "    }, 10, root)\n",
       "  }\n",
       "})(window);"
      ],
      "application/vnd.bokehjs_exec.v0+json": ""
     },
     "metadata": {
      "application/vnd.bokehjs_exec.v0+json": {
       "id": "2983"
      }
     },
     "output_type": "display_data"
    }
   ],
   "source": [
    "plot_state_counties_curve(df, \"Texas\", ['Frio'])"
   ]
  },
  {
   "cell_type": "code",
   "execution_count": 11,
   "metadata": {},
   "outputs": [
    {
     "name": "stdout",
     "output_type": "stream",
     "text": [
      "y ≈ exp(3.025262556112934) * exp(0.06008258479563955 * x)\n",
      "y = 20.599412502916067 * exp(0.06008258479563955 * x)\n"
     ]
    },
    {
     "data": {
      "text/html": [
       "\n",
       "\n",
       "\n",
       "\n",
       "\n",
       "\n",
       "  <div class=\"bk-root\" id=\"aa71b836-6d78-4d56-a698-66e2e8dd9fab\" data-root-id=\"3350\"></div>\n"
      ]
     },
     "metadata": {},
     "output_type": "display_data"
    },
    {
     "data": {
      "application/javascript": [
       "(function(root) {\n",
       "  function embed_document(root) {\n",
       "    \n",
       "  var docs_json = {\"91ae01b2-f92c-4cca-a9d8-875884c235f2\":{\"roots\":{\"references\":[{\"attributes\":{\"below\":[{\"id\":\"3361\"}],\"center\":[{\"id\":\"3364\"},{\"id\":\"3368\"},{\"id\":\"3419\"}],\"left\":[{\"id\":\"3365\"}],\"plot_width\":880,\"renderers\":[{\"id\":\"3387\"},{\"id\":\"3392\"},{\"id\":\"3397\"}],\"title\":{\"id\":\"3351\"},\"toolbar\":{\"id\":\"3374\"},\"x_range\":{\"id\":\"3353\"},\"x_scale\":{\"id\":\"3357\"},\"y_range\":{\"id\":\"3355\"},\"y_scale\":{\"id\":\"3359\"}},\"id\":\"3350\",\"subtype\":\"Figure\",\"type\":\"Plot\"},{\"attributes\":{\"active_drag\":\"auto\",\"active_inspect\":\"auto\",\"active_multi\":null,\"active_scroll\":\"auto\",\"active_tap\":\"auto\",\"tools\":[{\"id\":\"3369\"},{\"id\":\"3370\"},{\"id\":\"3371\"},{\"id\":\"3372\"}]},\"id\":\"3374\",\"type\":\"Toolbar\"},{\"attributes\":{},\"id\":\"3359\",\"type\":\"LinearScale\"},{\"attributes\":{\"data\":{\"x\":[1581465600000.0,1581552000000.0,1581638400000.0,1581724800000.0,1581811200000.0,1581897600000.0,1581984000000.0,1582070400000.0,1582156800000.0,1582243200000.0,1582329600000.0,1582416000000.0,1582502400000.0,1582588800000.0,1582675200000.0,1582761600000.0,1582848000000.0,1582934400000.0,1583020800000.0,1583107200000.0,1583193600000.0,1583280000000.0,1583366400000.0,1583452800000.0,1583539200000.0,1583625600000.0,1583712000000.0,1583798400000.0,1583884800000.0,1583971200000.0,1584057600000.0,1584144000000.0,1584230400000.0,1584316800000.0,1584403200000.0,1584489600000.0,1584576000000.0,1584662400000.0,1584748800000.0,1584835200000.0,1584921600000.0,1585008000000.0,1585094400000.0,1585180800000.0,1585267200000.0,1585353600000.0,1585440000000.0,1585526400000.0,1585612800000.0,1585699200000.0,1585785600000.0,1585872000000.0,1585958400000.0,1586044800000.0,1586131200000.0,1586217600000.0,1586304000000.0,1586390400000.0,1586476800000.0,1586563200000.0,1586649600000.0,1586736000000.0,1586822400000.0,1586908800000.0,1586995200000.0,1587081600000.0,1587168000000.0,1587254400000.0,1587340800000.0,1587427200000.0,1587513600000.0,1587600000000.0,1587686400000.0,1587772800000.0,1587859200000.0,1587945600000.0,1588032000000.0,1588118400000.0,1588204800000.0,1588291200000.0,1588377600000.0,1588464000000.0,1588550400000.0,1588636800000.0,1588723200000.0,1588809600000.0,1588896000000.0,1588982400000.0,1589068800000.0,1589155200000.0,1589241600000.0,1589328000000.0,1589414400000.0],\"y\":[20.599412502916067,21.875015502050083,23.22960924964206,24.668085187893208,26.19563765785397,27.81778265620555,29.540377753541012,31.36964324607068,33.31218461713101,35.37501638960524,37.56558745538722,39.89180797335294,42.362077932968724,44.98531748667901,47.77099916060443,50.729182059862815,53.870548192028764,57.20644103989603,60.74890652282883,64.51073649461384,68.50551493488365,72.74766700090917,77.25251111688704,82.03631428881658,87.11635084470872,92.51096481223763,98.23963615908148,104.32305113514543,110.7831769706742,117.64334119998809,124.92831589728141,132.66440712865875,140.87954994342093,149.6034092476141,158.86748692409708,168.7052355859376,179.15217937390088,190.24604223423205,202.02688413994224,214.53724574749435,227.82230201124528,241.93002531034517,256.91135867714667,272.8203997526517,289.71459613326005,307.6549528142173,326.7062524788411,346.93728942898946,368.4211180014983,391.2353163676162,415.46226666802056,441.18945249498154,468.50977479588323,497.5218873388321,528.3305529517176,561.0470218211059,595.7894332170084,632.6832420941491,671.8616721101935,713.4661966967874,757.647049920554,804.563768978774,854.3857702886954,907.2929612507386,963.4763898946762,1023.1389347546561,1086.4960374642146,1153.7764807166807,1225.223214400184,1301.0942328904566,1381.6635066693132,1467.2219716329078,1558.0785796621574,1654.561414248929,1757.018875206544,1865.8209367425843,1981.3604834368875,2104.054728948982,2234.3467225779023,2372.7069491145635,2519.6350277638076,2675.6615162708786,2841.3498267670834,3017.2982602527445,3204.1421670639393,3402.556241124544,3613.256956268058,3837.0051534268296,4074.6087880310247,4326.925847538157,4594.8674496284475,4879.401132253601,5181.554347419302]},\"selected\":{\"id\":\"3610\"},\"selection_policy\":{\"id\":\"3611\"}},\"id\":\"3394\",\"type\":\"ColumnDataSource\"},{\"attributes\":{\"text\":\"Texas Cases for counties Atascosa,Bandera,Bexar,Calhoun,Comal,DeWitt,Dimmit,Edwards,Frio,Gillespie,Goliad,Gonzales,Guadalupe,Jackson,Karnes,Kendall,Kerr,Kinney,LaSalle,Lavaca,Maverick,Medina,Real,Uvalde,Val Verde,Victoria,Wilson,Zavala\"},\"id\":\"3351\",\"type\":\"Title\"},{\"attributes\":{},\"id\":\"3369\",\"type\":\"PanTool\"},{\"attributes\":{\"data_source\":{\"id\":\"3379\"},\"glyph\":{\"id\":\"3385\"},\"hover_glyph\":null,\"muted_glyph\":null,\"name\":\"deaths\",\"nonselection_glyph\":{\"id\":\"3386\"},\"selection_glyph\":null,\"view\":{\"id\":\"3388\"}},\"id\":\"3387\",\"type\":\"GlyphRenderer\"},{\"attributes\":{\"fields\":[]},\"id\":\"3380\",\"type\":\"Stack\"},{\"attributes\":{\"days\":[1,2,3,4,5,6,7,8,9,10,11,12,13,14,15,16,17,18,19,20,21,22,23,24,25,26,27,28,29,30,31]},\"id\":\"3407\",\"type\":\"DaysTicker\"},{\"attributes\":{},\"id\":\"3370\",\"type\":\"WheelZoomTool\"},{\"attributes\":{},\"id\":\"3610\",\"type\":\"Selection\"},{\"attributes\":{\"days\":[1,4,7,10,13,16,19,22,25,28]},\"id\":\"3408\",\"type\":\"DaysTicker\"},{\"attributes\":{\"overlay\":{\"id\":\"3373\"}},\"id\":\"3371\",\"type\":\"BoxZoomTool\"},{\"attributes\":{\"bottom_units\":\"screen\",\"fill_alpha\":0.5,\"fill_color\":\"lightgrey\",\"left_units\":\"screen\",\"level\":\"overlay\",\"line_alpha\":1.0,\"line_color\":\"black\",\"line_dash\":[4,4],\"line_width\":2,\"render_mode\":\"css\",\"right_units\":\"screen\",\"top_units\":\"screen\"},\"id\":\"3373\",\"type\":\"BoxAnnotation\"},{\"attributes\":{\"axis\":{\"id\":\"3361\"},\"ticker\":null},\"id\":\"3364\",\"type\":\"Grid\"},{\"attributes\":{\"days\":[1,8,15,22]},\"id\":\"3409\",\"type\":\"DaysTicker\"},{\"attributes\":{\"fields\":[\"deaths\"]},\"id\":\"3381\",\"type\":\"Stack\"},{\"attributes\":{\"axis\":{\"id\":\"3365\"},\"dimension\":1,\"ticker\":null},\"id\":\"3368\",\"type\":\"Grid\"},{\"attributes\":{},\"id\":\"3372\",\"type\":\"ResetTool\"},{\"attributes\":{\"days\":[1,15]},\"id\":\"3410\",\"type\":\"DaysTicker\"},{\"attributes\":{},\"id\":\"3401\",\"type\":\"BasicTickFormatter\"},{\"attributes\":{\"axis_label\":\"Date\",\"formatter\":{\"id\":\"3421\"},\"ticker\":{\"id\":\"3362\"}},\"id\":\"3361\",\"type\":\"DatetimeAxis\"},{\"attributes\":{\"source\":{\"id\":\"3394\"}},\"id\":\"3398\",\"type\":\"CDSView\"},{\"attributes\":{\"months\":[0,1,2,3,4,5,6,7,8,9,10,11]},\"id\":\"3411\",\"type\":\"MonthsTicker\"},{\"attributes\":{\"source\":{\"id\":\"3379\"}},\"id\":\"3393\",\"type\":\"CDSView\"},{\"attributes\":{},\"id\":\"3366\",\"type\":\"BasicTicker\"},{\"attributes\":{\"months\":[0,2,4,6,8,10]},\"id\":\"3412\",\"type\":\"MonthsTicker\"},{\"attributes\":{},\"id\":\"3357\",\"type\":\"LinearScale\"},{\"attributes\":{\"months\":[0,4,8]},\"id\":\"3413\",\"type\":\"MonthsTicker\"},{\"attributes\":{\"label\":{\"value\":\"Projected # of Cases\"},\"renderers\":[{\"id\":\"3397\"}]},\"id\":\"3420\",\"type\":\"LegendItem\"},{\"attributes\":{\"fields\":[\"deaths\"]},\"id\":\"3382\",\"type\":\"Stack\"},{\"attributes\":{\"months\":[0,6]},\"id\":\"3414\",\"type\":\"MonthsTicker\"},{\"attributes\":{\"data_source\":{\"id\":\"3379\"},\"glyph\":{\"id\":\"3390\"},\"hover_glyph\":null,\"muted_glyph\":null,\"name\":\"cases\",\"nonselection_glyph\":{\"id\":\"3391\"},\"selection_glyph\":null,\"view\":{\"id\":\"3393\"}},\"id\":\"3392\",\"type\":\"GlyphRenderer\"},{\"attributes\":{\"line_alpha\":0.1,\"line_color\":\"gray\",\"line_dash\":[6],\"x\":{\"field\":\"x\"},\"y\":{\"field\":\"y\"}},\"id\":\"3396\",\"type\":\"Line\"},{\"attributes\":{},\"id\":\"3418\",\"type\":\"UnionRenderers\"},{\"attributes\":{\"data_source\":{\"id\":\"3394\"},\"glyph\":{\"id\":\"3395\"},\"hover_glyph\":null,\"muted_glyph\":null,\"nonselection_glyph\":{\"id\":\"3396\"},\"selection_glyph\":null,\"view\":{\"id\":\"3398\"}},\"id\":\"3397\",\"type\":\"GlyphRenderer\"},{\"attributes\":{\"num_minor_ticks\":5,\"tickers\":[{\"id\":\"3404\"},{\"id\":\"3405\"},{\"id\":\"3406\"},{\"id\":\"3407\"},{\"id\":\"3408\"},{\"id\":\"3409\"},{\"id\":\"3410\"},{\"id\":\"3411\"},{\"id\":\"3412\"},{\"id\":\"3413\"},{\"id\":\"3414\"},{\"id\":\"3415\"}]},\"id\":\"3362\",\"type\":\"DatetimeTicker\"},{\"attributes\":{\"code\":\"\\n        let date = new Date(tick);\\n        return `${date.getDate()}-${date.getMonth()}-${date.getFullYear()}`\\n    \"},\"id\":\"3421\",\"type\":\"FuncTickFormatter\"},{\"attributes\":{\"fill_alpha\":0.1,\"fill_color\":\"red\",\"x\":{\"field\":\"x\"},\"y1\":{\"expr\":{\"id\":\"3380\"}},\"y2\":{\"expr\":{\"id\":\"3381\"}}},\"id\":\"3386\",\"type\":\"VArea\"},{\"attributes\":{\"axis_label\":\"# of Cases & Deaths\",\"formatter\":{\"id\":\"3401\"},\"ticker\":{\"id\":\"3366\"}},\"id\":\"3365\",\"type\":\"LinearAxis\"},{\"attributes\":{\"line_alpha\":0.75,\"line_color\":\"gray\",\"line_dash\":[6],\"x\":{\"field\":\"x\"},\"y\":{\"field\":\"y\"}},\"id\":\"3395\",\"type\":\"Line\"},{\"attributes\":{},\"id\":\"3415\",\"type\":\"YearsTicker\"},{\"attributes\":{\"fields\":[\"deaths\",\"cases\"]},\"id\":\"3383\",\"type\":\"Stack\"},{\"attributes\":{\"items\":[{\"id\":\"3420\"}],\"location\":\"top_left\"},\"id\":\"3419\",\"type\":\"Legend\"},{\"attributes\":{\"fill_color\":\"red\",\"x\":{\"field\":\"x\"},\"y1\":{\"expr\":{\"id\":\"3380\"}},\"y2\":{\"expr\":{\"id\":\"3381\"}}},\"id\":\"3385\",\"type\":\"VArea\"},{\"attributes\":{},\"id\":\"3417\",\"type\":\"Selection\"},{\"attributes\":{},\"id\":\"3611\",\"type\":\"UnionRenderers\"},{\"attributes\":{\"fill_alpha\":0.1,\"fill_color\":\"lightblue\",\"x\":{\"field\":\"x\"},\"y1\":{\"expr\":{\"id\":\"3382\"}},\"y2\":{\"expr\":{\"id\":\"3383\"}}},\"id\":\"3391\",\"type\":\"VArea\"},{\"attributes\":{\"data\":{\"cases\":[1,2,2,2,2,2,2,2,2,4,4,4,10,10,10,10,11,11,11,11,11,11,11,11,11,11,11,11,11,11,11,12,12,13,13,15,20,43,53,53,53,77,91,119,155,175,194,217,275,318,357,467,526,571,646,710,734,861,943,998,1017,1071,1109,1216,1224,1305,1342,1364,1392,1449,1505,1574,1602,1667,1693,1734,1769,1810,1872,2007,2118,2169,2214],\"deaths\":[0,0,0,0,0,0,0,0,0,0,0,0,0,0,0,0,0,0,0,0,0,0,0,0,0,0,0,0,0,0,0,0,0,0,0,0,0,0,0,1,1,1,1,4,6,6,6,7,11,11,11,12,13,13,14,20,21,27,29,29,32,34,41,46,47,47,49,51,51,53,54,59,59,61,61,62,65,67,70,70,72,72,72],\"x\":{\"__ndarray__\":\"AAAAIGsDd0IAAMCFvQN3QgAAgOsPBHdCAABAUWIEd0IAAAC3tAR3QgAAwBwHBXdCAACAglkFd0IAAEDoqwV3QgAAAE7+BXdCAADAs1AGd0IAAIAZowZ3QgAAQH/1BndCAAAA5UcHd0IAAMBKmgd3QgAAgLDsB3dCAABAFj8Id0IAAAB8kQh3QgAAwOHjCHdCAACARzYJd0IAAECtiAl3QgAAABPbCXdCAADAeC0Kd0IAAIDefwp3QgAAQETSCndCAAAAqiQLd0IAAMAPdwt3QgAAgHXJC3dCAABA2xsMd0IAAABBbgx3QgAAwKbADHdCAACADBMNd0IAAEByZQ13QgAAANi3DXdCAADAPQoOd0IAAICjXA53QgAAQAmvDndCAAAAbwEPd0IAAMDUUw93QgAAgDqmD3dCAABAoPgPd0IAAAAGSxB3QgAAwGudEHdCAACA0e8Qd0IAAEA3QhF3QgAAAJ2UEXdCAADAAucRd0IAAIBoORJ3QgAAQM6LEndCAAAANN4Sd0IAAMCZMBN3QgAAgP+CE3dCAABAZdUTd0IAAADLJxR3QgAAwDB6FHdCAACAlswUd0IAAED8HhV3QgAAAGJxFXdCAADAx8MVd0IAAIAtFhZ3QgAAQJNoFndCAAAA+boWd0IAAMBeDRd3QgAAgMRfF3dCAABAKrIXd0IAAACQBBh3QgAAwPVWGHdCAACAW6kYd0IAAEDB+xh3QgAAACdOGXdCAADAjKAZd0IAAIDy8hl3QgAAQFhFGndCAAAAvpcad0IAAMAj6hp3QgAAgIk8G3dCAABA744bd0IAAABV4Rt3QgAAwLozHHdCAACAIIYcd0IAAECG2Bx3QgAAAOwqHXdCAADAUX0dd0IAAIC3zx13Qg==\",\"dtype\":\"float64\",\"shape\":[83]}},\"selected\":{\"id\":\"3417\"},\"selection_policy\":{\"id\":\"3418\"}},\"id\":\"3379\",\"type\":\"ColumnDataSource\"},{\"attributes\":{\"source\":{\"id\":\"3379\"}},\"id\":\"3388\",\"type\":\"CDSView\"},{\"attributes\":{\"mantissas\":[1,2,5],\"max_interval\":500.0,\"num_minor_ticks\":0},\"id\":\"3404\",\"type\":\"AdaptiveTicker\"},{\"attributes\":{\"end\":1588723200000.0,\"start\":1581465600000.0},\"id\":\"3353\",\"type\":\"Range1d\"},{\"attributes\":{\"end\":2656},\"id\":\"3355\",\"type\":\"Range1d\"},{\"attributes\":{\"fill_color\":\"lightblue\",\"x\":{\"field\":\"x\"},\"y1\":{\"expr\":{\"id\":\"3382\"}},\"y2\":{\"expr\":{\"id\":\"3383\"}}},\"id\":\"3390\",\"type\":\"VArea\"},{\"attributes\":{\"base\":60,\"mantissas\":[1,2,5,10,15,20,30],\"max_interval\":1800000.0,\"min_interval\":1000.0,\"num_minor_ticks\":0},\"id\":\"3405\",\"type\":\"AdaptiveTicker\"},{\"attributes\":{\"base\":24,\"mantissas\":[1,2,4,6,8,12],\"max_interval\":43200000.0,\"min_interval\":3600000.0,\"num_minor_ticks\":0},\"id\":\"3406\",\"type\":\"AdaptiveTicker\"}],\"root_ids\":[\"3350\"]},\"title\":\"Bokeh Application\",\"version\":\"2.0.2\"}};\n",
       "  var render_items = [{\"docid\":\"91ae01b2-f92c-4cca-a9d8-875884c235f2\",\"root_ids\":[\"3350\"],\"roots\":{\"3350\":\"aa71b836-6d78-4d56-a698-66e2e8dd9fab\"}}];\n",
       "  root.Bokeh.embed.embed_items_notebook(docs_json, render_items);\n",
       "\n",
       "  }\n",
       "  if (root.Bokeh !== undefined) {\n",
       "    embed_document(root);\n",
       "  } else {\n",
       "    var attempts = 0;\n",
       "    var timer = setInterval(function(root) {\n",
       "      if (root.Bokeh !== undefined) {\n",
       "        clearInterval(timer);\n",
       "        embed_document(root);\n",
       "      } else {\n",
       "        attempts++;\n",
       "        if (attempts > 100) {\n",
       "          clearInterval(timer);\n",
       "          console.log(\"Bokeh: ERROR: Unable to run BokehJS code because BokehJS library is missing\");\n",
       "        }\n",
       "      }\n",
       "    }, 10, root)\n",
       "  }\n",
       "})(window);"
      ],
      "application/vnd.bokehjs_exec.v0+json": ""
     },
     "metadata": {
      "application/vnd.bokehjs_exec.v0+json": {
       "id": "3350"
      }
     },
     "output_type": "display_data"
    }
   ],
   "source": [
    "# https://duckduckgo.com/?t=ffab&q=texas+departhment+of+health+section+8&ia=web\n",
    "\n",
    "plot_state_counties_curve(\n",
    "    df,\n",
    "    \"Texas\",\n",
    "    [\n",
    "        \"Atascosa\",\n",
    "        \"Bandera\",\n",
    "        \"Bexar\",\n",
    "        \"Calhoun\",\n",
    "        \"Comal\",\n",
    "        \"DeWitt\",\n",
    "        \"Dimmit\",\n",
    "        \"Edwards\",\n",
    "        \"Frio\",\n",
    "        \"Gillespie\",\n",
    "        \"Goliad\",\n",
    "        \"Gonzales\",\n",
    "        \"Guadalupe\",\n",
    "        \"Jackson\",\n",
    "        \"Karnes\",\n",
    "        \"Kendall\",\n",
    "        \"Kerr\",\n",
    "        \"Kinney\",\n",
    "        \"LaSalle\",\n",
    "        \"Lavaca\",\n",
    "        \"Maverick\",\n",
    "        \"Medina\",\n",
    "        \"Real\",\n",
    "        \"Uvalde\",\n",
    "        \"Val Verde\",\n",
    "        \"Victoria\",\n",
    "        \"Wilson\",\n",
    "        \"Zavala\",\n",
    "    ],\n",
    ")"
   ]
  },
  {
   "cell_type": "code",
   "execution_count": 12,
   "metadata": {},
   "outputs": [
    {
     "name": "stdout",
     "output_type": "stream",
     "text": [
      "y ≈ exp(6.925841892066219) * exp(0.05633203632277466 * x)\n",
      "y = 1018.2511664444283 * exp(0.05633203632277466 * x)\n"
     ]
    },
    {
     "data": {
      "text/html": [
       "\n",
       "\n",
       "\n",
       "\n",
       "\n",
       "\n",
       "  <div class=\"bk-root\" id=\"a835b66f-178d-414a-ac3e-ae060c3846c6\" data-root-id=\"3738\"></div>\n"
      ]
     },
     "metadata": {},
     "output_type": "display_data"
    },
    {
     "data": {
      "application/javascript": [
       "(function(root) {\n",
       "  function embed_document(root) {\n",
       "    \n",
       "  var docs_json = {\"a3a5abca-f6d4-4bb7-b2e1-de1ec294092e\":{\"roots\":{\"references\":[{\"attributes\":{\"below\":[{\"id\":\"3749\"}],\"center\":[{\"id\":\"3752\"},{\"id\":\"3756\"},{\"id\":\"3807\"}],\"left\":[{\"id\":\"3753\"}],\"plot_width\":880,\"renderers\":[{\"id\":\"3775\"},{\"id\":\"3780\"},{\"id\":\"3785\"}],\"title\":{\"id\":\"3739\"},\"toolbar\":{\"id\":\"3762\"},\"x_range\":{\"id\":\"3741\"},\"x_scale\":{\"id\":\"3745\"},\"y_range\":{\"id\":\"3743\"},\"y_scale\":{\"id\":\"3747\"}},\"id\":\"3738\",\"subtype\":\"Figure\",\"type\":\"Plot\"},{\"attributes\":{\"days\":[1,8,15,22]},\"id\":\"3797\",\"type\":\"DaysTicker\"},{\"attributes\":{\"fields\":[]},\"id\":\"3768\",\"type\":\"Stack\"},{\"attributes\":{\"axis\":{\"id\":\"3753\"},\"dimension\":1,\"ticker\":null},\"id\":\"3756\",\"type\":\"Grid\"},{\"attributes\":{\"overlay\":{\"id\":\"3761\"}},\"id\":\"3759\",\"type\":\"BoxZoomTool\"},{\"attributes\":{\"months\":[0,6]},\"id\":\"3802\",\"type\":\"MonthsTicker\"},{\"attributes\":{\"end\":1588723200000.0,\"start\":1583107200000.0},\"id\":\"3741\",\"type\":\"Range1d\"},{\"attributes\":{\"code\":\"\\n        let date = new Date(tick);\\n        return `${date.getDate()}-${date.getMonth()}-${date.getFullYear()}`\\n    \"},\"id\":\"3809\",\"type\":\"FuncTickFormatter\"},{\"attributes\":{\"days\":[1,2,3,4,5,6,7,8,9,10,11,12,13,14,15,16,17,18,19,20,21,22,23,24,25,26,27,28,29,30,31]},\"id\":\"3795\",\"type\":\"DaysTicker\"},{\"attributes\":{},\"id\":\"3803\",\"type\":\"YearsTicker\"},{\"attributes\":{\"days\":[1,15]},\"id\":\"3798\",\"type\":\"DaysTicker\"},{\"attributes\":{\"fill_alpha\":0.1,\"fill_color\":\"lightblue\",\"x\":{\"field\":\"x\"},\"y1\":{\"expr\":{\"id\":\"3770\"}},\"y2\":{\"expr\":{\"id\":\"3771\"}}},\"id\":\"3779\",\"type\":\"VArea\"},{\"attributes\":{},\"id\":\"3754\",\"type\":\"BasicTicker\"},{\"attributes\":{\"label\":{\"value\":\"Projected # of Cases\"},\"renderers\":[{\"id\":\"3785\"}]},\"id\":\"3808\",\"type\":\"LegendItem\"},{\"attributes\":{\"source\":{\"id\":\"3767\"}},\"id\":\"3776\",\"type\":\"CDSView\"},{\"attributes\":{\"source\":{\"id\":\"3782\"}},\"id\":\"3786\",\"type\":\"CDSView\"},{\"attributes\":{\"base\":60,\"mantissas\":[1,2,5,10,15,20,30],\"max_interval\":1800000.0,\"min_interval\":1000.0,\"num_minor_ticks\":0},\"id\":\"3793\",\"type\":\"AdaptiveTicker\"},{\"attributes\":{\"months\":[0,2,4,6,8,10]},\"id\":\"3800\",\"type\":\"MonthsTicker\"},{\"attributes\":{\"data_source\":{\"id\":\"3767\"},\"glyph\":{\"id\":\"3773\"},\"hover_glyph\":null,\"muted_glyph\":null,\"name\":\"deaths\",\"nonselection_glyph\":{\"id\":\"3774\"},\"selection_glyph\":null,\"view\":{\"id\":\"3776\"}},\"id\":\"3775\",\"type\":\"GlyphRenderer\"},{\"attributes\":{\"source\":{\"id\":\"3767\"}},\"id\":\"3781\",\"type\":\"CDSView\"},{\"attributes\":{},\"id\":\"3745\",\"type\":\"LinearScale\"},{\"attributes\":{},\"id\":\"3789\",\"type\":\"BasicTickFormatter\"},{\"attributes\":{\"fill_color\":\"lightblue\",\"x\":{\"field\":\"x\"},\"y1\":{\"expr\":{\"id\":\"3770\"}},\"y2\":{\"expr\":{\"id\":\"3771\"}}},\"id\":\"3778\",\"type\":\"VArea\"},{\"attributes\":{\"axis_label\":\"Date\",\"formatter\":{\"id\":\"3809\"},\"ticker\":{\"id\":\"3750\"}},\"id\":\"3749\",\"type\":\"DatetimeAxis\"},{\"attributes\":{\"data_source\":{\"id\":\"3782\"},\"glyph\":{\"id\":\"3783\"},\"hover_glyph\":null,\"muted_glyph\":null,\"nonselection_glyph\":{\"id\":\"3784\"},\"selection_glyph\":null,\"view\":{\"id\":\"3786\"}},\"id\":\"3785\",\"type\":\"GlyphRenderer\"},{\"attributes\":{\"months\":[0,4,8]},\"id\":\"3801\",\"type\":\"MonthsTicker\"},{\"attributes\":{\"mantissas\":[1,2,5],\"max_interval\":500.0,\"num_minor_ticks\":0},\"id\":\"3792\",\"type\":\"AdaptiveTicker\"},{\"attributes\":{\"fill_alpha\":0.1,\"fill_color\":\"red\",\"x\":{\"field\":\"x\"},\"y1\":{\"expr\":{\"id\":\"3768\"}},\"y2\":{\"expr\":{\"id\":\"3769\"}}},\"id\":\"3774\",\"type\":\"VArea\"},{\"attributes\":{\"fill_color\":\"red\",\"x\":{\"field\":\"x\"},\"y1\":{\"expr\":{\"id\":\"3768\"}},\"y2\":{\"expr\":{\"id\":\"3769\"}}},\"id\":\"3773\",\"type\":\"VArea\"},{\"attributes\":{\"data_source\":{\"id\":\"3767\"},\"glyph\":{\"id\":\"3778\"},\"hover_glyph\":null,\"muted_glyph\":null,\"name\":\"cases\",\"nonselection_glyph\":{\"id\":\"3779\"},\"selection_glyph\":null,\"view\":{\"id\":\"3781\"}},\"id\":\"3780\",\"type\":\"GlyphRenderer\"},{\"attributes\":{\"fields\":[\"deaths\",\"cases\"]},\"id\":\"3771\",\"type\":\"Stack\"},{\"attributes\":{},\"id\":\"3806\",\"type\":\"UnionRenderers\"},{\"attributes\":{\"fields\":[\"deaths\"]},\"id\":\"3770\",\"type\":\"Stack\"},{\"attributes\":{},\"id\":\"4019\",\"type\":\"Selection\"},{\"attributes\":{\"data\":{\"x\":[1583107200000.0,1583193600000.0,1583280000000.0,1583366400000.0,1583452800000.0,1583539200000.0,1583625600000.0,1583712000000.0,1583798400000.0,1583884800000.0,1583971200000.0,1584057600000.0,1584144000000.0,1584230400000.0,1584316800000.0,1584403200000.0,1584489600000.0,1584576000000.0,1584662400000.0,1584748800000.0,1584835200000.0,1584921600000.0,1585008000000.0,1585094400000.0,1585180800000.0,1585267200000.0,1585353600000.0,1585440000000.0,1585526400000.0,1585612800000.0,1585699200000.0,1585785600000.0,1585872000000.0,1585958400000.0,1586044800000.0,1586131200000.0,1586217600000.0,1586304000000.0,1586390400000.0,1586476800000.0,1586563200000.0,1586649600000.0,1586736000000.0,1586822400000.0,1586908800000.0,1586995200000.0,1587081600000.0,1587168000000.0,1587254400000.0,1587340800000.0,1587427200000.0,1587513600000.0,1587600000000.0,1587686400000.0,1587772800000.0,1587859200000.0,1587945600000.0,1588032000000.0,1588118400000.0,1588204800000.0,1588291200000.0,1588377600000.0,1588464000000.0,1588550400000.0,1588636800000.0,1588723200000.0,1588809600000.0,1588896000000.0,1588982400000.0,1589068800000.0,1589155200000.0,1589241600000.0,1589328000000.0,1589414400000.0],\"y\":[1018.2511664444283,1077.2577044043348,1139.6836065022387,1205.727021138511,1275.5975791959345,1349.5170594369595,1427.7200924600054,1510.4549054492522,1597.9841100818724,1690.585536093614,1788.553113148603,1892.1978038125264,2001.8485905905927,2117.853520163257,2240.5808081342598,2370.420007797605,2507.7832466333,2653.1065344566696,2806.8511473734843,2969.5050919337723,3141.5846541317383,3323.636038168529,3516.2371001794977,3719.9991824290705,3935.5690537951855,4163.630962702679,4404.908809021912,4660.1684418265295,4930.220090303774,5215.920935533378,5518.177831298221,5837.950182562973,6176.2529907574435,6534.160075530721,6912.807483202461,7313.397092730176,7737.200430638362,8185.562707018612,8659.907085411473,9161.739200123304,9692.651935316659,10254.330481043755,10848.557682271477,11477.219697876564,12142.311987573343,12845.945645777332,13590.354102509335,14377.900212609526,15211.083755763746,16092.54937114812,17025.094951877527,18011.680525903288,19055.437651548993,20159.67935750742,21327.91065884935,22563.839682423488,23871.38943696121,25254.710265245907,26718.193017871847,28266.482990408018,29904.494668205192,31637.427325648474,33470.78152936944,35410.376597801165,37462.369072495545,39633.27225983295,41929.97690515266,44359.7730649265,46930.37324640075,49649.9368881552,52527.0962592835,55570.98385940265,58791.2614064632,62198.15050437082]},\"selected\":{\"id\":\"4019\"},\"selection_policy\":{\"id\":\"4020\"}},\"id\":\"3782\",\"type\":\"ColumnDataSource\"},{\"attributes\":{},\"id\":\"4020\",\"type\":\"UnionRenderers\"},{\"attributes\":{\"axis\":{\"id\":\"3749\"},\"ticker\":null},\"id\":\"3752\",\"type\":\"Grid\"},{\"attributes\":{\"line_alpha\":0.1,\"line_color\":\"gray\",\"line_dash\":[6],\"x\":{\"field\":\"x\"},\"y\":{\"field\":\"y\"}},\"id\":\"3784\",\"type\":\"Line\"},{\"attributes\":{\"fields\":[\"deaths\"]},\"id\":\"3769\",\"type\":\"Stack\"},{\"attributes\":{\"axis_label\":\"# of Cases & Deaths\",\"formatter\":{\"id\":\"3789\"},\"ticker\":{\"id\":\"3754\"}},\"id\":\"3753\",\"type\":\"LinearAxis\"},{\"attributes\":{},\"id\":\"3760\",\"type\":\"ResetTool\"},{\"attributes\":{\"bottom_units\":\"screen\",\"fill_alpha\":0.5,\"fill_color\":\"lightgrey\",\"left_units\":\"screen\",\"level\":\"overlay\",\"line_alpha\":1.0,\"line_color\":\"black\",\"line_dash\":[4,4],\"line_width\":2,\"render_mode\":\"css\",\"right_units\":\"screen\",\"top_units\":\"screen\"},\"id\":\"3761\",\"type\":\"BoxAnnotation\"},{\"attributes\":{},\"id\":\"3805\",\"type\":\"Selection\"},{\"attributes\":{\"num_minor_ticks\":5,\"tickers\":[{\"id\":\"3792\"},{\"id\":\"3793\"},{\"id\":\"3794\"},{\"id\":\"3795\"},{\"id\":\"3796\"},{\"id\":\"3797\"},{\"id\":\"3798\"},{\"id\":\"3799\"},{\"id\":\"3800\"},{\"id\":\"3801\"},{\"id\":\"3802\"},{\"id\":\"3803\"}]},\"id\":\"3750\",\"type\":\"DatetimeTicker\"},{\"attributes\":{},\"id\":\"3757\",\"type\":\"PanTool\"},{\"attributes\":{\"days\":[1,4,7,10,13,16,19,22,25,28]},\"id\":\"3796\",\"type\":\"DaysTicker\"},{\"attributes\":{\"active_drag\":\"auto\",\"active_inspect\":\"auto\",\"active_multi\":null,\"active_scroll\":\"auto\",\"active_tap\":\"auto\",\"tools\":[{\"id\":\"3757\"},{\"id\":\"3758\"},{\"id\":\"3759\"},{\"id\":\"3760\"}]},\"id\":\"3762\",\"type\":\"Toolbar\"},{\"attributes\":{\"months\":[0,1,2,3,4,5,6,7,8,9,10,11]},\"id\":\"3799\",\"type\":\"MonthsTicker\"},{\"attributes\":{},\"id\":\"3747\",\"type\":\"LinearScale\"},{\"attributes\":{\"line_alpha\":0.75,\"line_color\":\"gray\",\"line_dash\":[6],\"x\":{\"field\":\"x\"},\"y\":{\"field\":\"y\"}},\"id\":\"3783\",\"type\":\"Line\"},{\"attributes\":{\"end\":34020},\"id\":\"3743\",\"type\":\"Range1d\"},{\"attributes\":{},\"id\":\"3758\",\"type\":\"WheelZoomTool\"},{\"attributes\":{\"data\":{\"cases\":[2,2,2,2,3,7,11,17,22,31,31,41,65,97,118,142,193,282,482,552,620,800,1098,1393,1649,2211,2448,2687,3032,4126,4741,5444,5967,6383,6742,7558,9156,10204,10885,11859,12261,12103,13125,13913,14583,15644,16658,17014,17619,18447,19189,20099,20905,21575,22225,22459,23229,23800,24300,25431,26436,27268,27618,28350],\"deaths\":[0,0,0,0,0,0,0,0,0,0,1,1,1,1,1,1,3,10,14,20,25,25,39,47,56,64,79,83,105,126,154,176,198,208,219,294,348,370,412,425,432,438,479,517,569,611,661,670,682,767,810,837,871,889,897,907,981,1022,1086,1121,1153,1161,1168,1228],\"x\":{\"__ndarray__\":\"AABArYgJd0IAAAAT2wl3QgAAwHgtCndCAACA3n8Kd0IAAEBE0gp3QgAAAKokC3dCAADAD3cLd0IAAIB1yQt3QgAAQNsbDHdCAAAAQW4Md0IAAMCmwAx3QgAAgAwTDXdCAABAcmUNd0IAAADYtw13QgAAwD0KDndCAACAo1wOd0IAAEAJrw53QgAAAG8BD3dCAADA1FMPd0IAAIA6pg93QgAAQKD4D3dCAAAABksQd0IAAMBrnRB3QgAAgNHvEHdCAABAN0IRd0IAAACdlBF3QgAAwALnEXdCAACAaDkSd0IAAEDOixJ3QgAAADTeEndCAADAmTATd0IAAID/ghN3QgAAQGXVE3dCAAAAyycUd0IAAMAwehR3QgAAgJbMFHdCAABA/B4Vd0IAAABicRV3QgAAwMfDFXdCAACALRYWd0IAAECTaBZ3QgAAAPm6FndCAADAXg0Xd0IAAIDEXxd3QgAAQCqyF3dCAAAAkAQYd0IAAMD1Vhh3QgAAgFupGHdCAABAwfsYd0IAAAAnThl3QgAAwIygGXdCAACA8vIZd0IAAEBYRRp3QgAAAL6XGndCAADAI+oad0IAAICJPBt3QgAAQO+OG3dCAAAAVeEbd0IAAMC6Mxx3QgAAgCCGHHdCAABAhtgcd0IAAADsKh13QgAAwFF9HXdCAACAt88dd0I=\",\"dtype\":\"float64\",\"shape\":[64]}},\"selected\":{\"id\":\"3805\"},\"selection_policy\":{\"id\":\"3806\"}},\"id\":\"3767\",\"type\":\"ColumnDataSource\"},{\"attributes\":{\"base\":24,\"mantissas\":[1,2,4,6,8,12],\"max_interval\":43200000.0,\"min_interval\":3600000.0,\"num_minor_ticks\":0},\"id\":\"3794\",\"type\":\"AdaptiveTicker\"},{\"attributes\":{\"text\":\"Georgia Cases\"},\"id\":\"3739\",\"type\":\"Title\"},{\"attributes\":{\"items\":[{\"id\":\"3808\"}],\"location\":\"top_left\"},\"id\":\"3807\",\"type\":\"Legend\"}],\"root_ids\":[\"3738\"]},\"title\":\"Bokeh Application\",\"version\":\"2.0.2\"}};\n",
       "  var render_items = [{\"docid\":\"a3a5abca-f6d4-4bb7-b2e1-de1ec294092e\",\"root_ids\":[\"3738\"],\"roots\":{\"3738\":\"a835b66f-178d-414a-ac3e-ae060c3846c6\"}}];\n",
       "  root.Bokeh.embed.embed_items_notebook(docs_json, render_items);\n",
       "\n",
       "  }\n",
       "  if (root.Bokeh !== undefined) {\n",
       "    embed_document(root);\n",
       "  } else {\n",
       "    var attempts = 0;\n",
       "    var timer = setInterval(function(root) {\n",
       "      if (root.Bokeh !== undefined) {\n",
       "        clearInterval(timer);\n",
       "        embed_document(root);\n",
       "      } else {\n",
       "        attempts++;\n",
       "        if (attempts > 100) {\n",
       "          clearInterval(timer);\n",
       "          console.log(\"Bokeh: ERROR: Unable to run BokehJS code because BokehJS library is missing\");\n",
       "        }\n",
       "      }\n",
       "    }, 10, root)\n",
       "  }\n",
       "})(window);"
      ],
      "application/vnd.bokehjs_exec.v0+json": ""
     },
     "metadata": {
      "application/vnd.bokehjs_exec.v0+json": {
       "id": "3738"
      }
     },
     "output_type": "display_data"
    }
   ],
   "source": [
    "plot_state_curve(df, \"Georgia\")"
   ]
  }
 ],
 "metadata": {
  "kernelspec": {
   "display_name": "Python 3",
   "language": "python",
   "name": "python3"
  },
  "language_info": {
   "codemirror_mode": {
    "name": "ipython",
    "version": 3
   },
   "file_extension": ".py",
   "mimetype": "text/x-python",
   "name": "python",
   "nbconvert_exporter": "python",
   "pygments_lexer": "ipython3",
   "version": "3.7.6"
  }
 },
 "nbformat": 4,
 "nbformat_minor": 4
}
