{
 "cells": [
  {
   "cell_type": "code",
   "execution_count": 1,
   "metadata": {},
   "outputs": [
    {
     "data": {
      "text/html": [
       "\n",
       "    <div class=\"bk-root\">\n",
       "        <a href=\"https://bokeh.org\" target=\"_blank\" class=\"bk-logo bk-logo-small bk-logo-notebook\"></a>\n",
       "        <span id=\"1001\">Loading BokehJS ...</span>\n",
       "    </div>"
      ]
     },
     "metadata": {},
     "output_type": "display_data"
    },
    {
     "data": {
      "application/javascript": [
       "\n",
       "(function(root) {\n",
       "  function now() {\n",
       "    return new Date();\n",
       "  }\n",
       "\n",
       "  var force = true;\n",
       "\n",
       "  if (typeof root._bokeh_onload_callbacks === \"undefined\" || force === true) {\n",
       "    root._bokeh_onload_callbacks = [];\n",
       "    root._bokeh_is_loading = undefined;\n",
       "  }\n",
       "\n",
       "  var JS_MIME_TYPE = 'application/javascript';\n",
       "  var HTML_MIME_TYPE = 'text/html';\n",
       "  var EXEC_MIME_TYPE = 'application/vnd.bokehjs_exec.v0+json';\n",
       "  var CLASS_NAME = 'output_bokeh rendered_html';\n",
       "\n",
       "  /**\n",
       "   * Render data to the DOM node\n",
       "   */\n",
       "  function render(props, node) {\n",
       "    var script = document.createElement(\"script\");\n",
       "    node.appendChild(script);\n",
       "  }\n",
       "\n",
       "  /**\n",
       "   * Handle when an output is cleared or removed\n",
       "   */\n",
       "  function handleClearOutput(event, handle) {\n",
       "    var cell = handle.cell;\n",
       "\n",
       "    var id = cell.output_area._bokeh_element_id;\n",
       "    var server_id = cell.output_area._bokeh_server_id;\n",
       "    // Clean up Bokeh references\n",
       "    if (id != null && id in Bokeh.index) {\n",
       "      Bokeh.index[id].model.document.clear();\n",
       "      delete Bokeh.index[id];\n",
       "    }\n",
       "\n",
       "    if (server_id !== undefined) {\n",
       "      // Clean up Bokeh references\n",
       "      var cmd = \"from bokeh.io.state import curstate; print(curstate().uuid_to_server['\" + server_id + \"'].get_sessions()[0].document.roots[0]._id)\";\n",
       "      cell.notebook.kernel.execute(cmd, {\n",
       "        iopub: {\n",
       "          output: function(msg) {\n",
       "            var id = msg.content.text.trim();\n",
       "            if (id in Bokeh.index) {\n",
       "              Bokeh.index[id].model.document.clear();\n",
       "              delete Bokeh.index[id];\n",
       "            }\n",
       "          }\n",
       "        }\n",
       "      });\n",
       "      // Destroy server and session\n",
       "      var cmd = \"import bokeh.io.notebook as ion; ion.destroy_server('\" + server_id + \"')\";\n",
       "      cell.notebook.kernel.execute(cmd);\n",
       "    }\n",
       "  }\n",
       "\n",
       "  /**\n",
       "   * Handle when a new output is added\n",
       "   */\n",
       "  function handleAddOutput(event, handle) {\n",
       "    var output_area = handle.output_area;\n",
       "    var output = handle.output;\n",
       "\n",
       "    // limit handleAddOutput to display_data with EXEC_MIME_TYPE content only\n",
       "    if ((output.output_type != \"display_data\") || (!output.data.hasOwnProperty(EXEC_MIME_TYPE))) {\n",
       "      return\n",
       "    }\n",
       "\n",
       "    var toinsert = output_area.element.find(\".\" + CLASS_NAME.split(' ')[0]);\n",
       "\n",
       "    if (output.metadata[EXEC_MIME_TYPE][\"id\"] !== undefined) {\n",
       "      toinsert[toinsert.length - 1].firstChild.textContent = output.data[JS_MIME_TYPE];\n",
       "      // store reference to embed id on output_area\n",
       "      output_area._bokeh_element_id = output.metadata[EXEC_MIME_TYPE][\"id\"];\n",
       "    }\n",
       "    if (output.metadata[EXEC_MIME_TYPE][\"server_id\"] !== undefined) {\n",
       "      var bk_div = document.createElement(\"div\");\n",
       "      bk_div.innerHTML = output.data[HTML_MIME_TYPE];\n",
       "      var script_attrs = bk_div.children[0].attributes;\n",
       "      for (var i = 0; i < script_attrs.length; i++) {\n",
       "        toinsert[toinsert.length - 1].firstChild.setAttribute(script_attrs[i].name, script_attrs[i].value);\n",
       "        toinsert[toinsert.length - 1].firstChild.textContent = bk_div.children[0].textContent\n",
       "      }\n",
       "      // store reference to server id on output_area\n",
       "      output_area._bokeh_server_id = output.metadata[EXEC_MIME_TYPE][\"server_id\"];\n",
       "    }\n",
       "  }\n",
       "\n",
       "  function register_renderer(events, OutputArea) {\n",
       "\n",
       "    function append_mime(data, metadata, element) {\n",
       "      // create a DOM node to render to\n",
       "      var toinsert = this.create_output_subarea(\n",
       "        metadata,\n",
       "        CLASS_NAME,\n",
       "        EXEC_MIME_TYPE\n",
       "      );\n",
       "      this.keyboard_manager.register_events(toinsert);\n",
       "      // Render to node\n",
       "      var props = {data: data, metadata: metadata[EXEC_MIME_TYPE]};\n",
       "      render(props, toinsert[toinsert.length - 1]);\n",
       "      element.append(toinsert);\n",
       "      return toinsert\n",
       "    }\n",
       "\n",
       "    /* Handle when an output is cleared or removed */\n",
       "    events.on('clear_output.CodeCell', handleClearOutput);\n",
       "    events.on('delete.Cell', handleClearOutput);\n",
       "\n",
       "    /* Handle when a new output is added */\n",
       "    events.on('output_added.OutputArea', handleAddOutput);\n",
       "\n",
       "    /**\n",
       "     * Register the mime type and append_mime function with output_area\n",
       "     */\n",
       "    OutputArea.prototype.register_mime_type(EXEC_MIME_TYPE, append_mime, {\n",
       "      /* Is output safe? */\n",
       "      safe: true,\n",
       "      /* Index of renderer in `output_area.display_order` */\n",
       "      index: 0\n",
       "    });\n",
       "  }\n",
       "\n",
       "  // register the mime type if in Jupyter Notebook environment and previously unregistered\n",
       "  if (root.Jupyter !== undefined) {\n",
       "    var events = require('base/js/events');\n",
       "    var OutputArea = require('notebook/js/outputarea').OutputArea;\n",
       "\n",
       "    if (OutputArea.prototype.mime_types().indexOf(EXEC_MIME_TYPE) == -1) {\n",
       "      register_renderer(events, OutputArea);\n",
       "    }\n",
       "  }\n",
       "\n",
       "  \n",
       "  if (typeof (root._bokeh_timeout) === \"undefined\" || force === true) {\n",
       "    root._bokeh_timeout = Date.now() + 5000;\n",
       "    root._bokeh_failed_load = false;\n",
       "  }\n",
       "\n",
       "  var NB_LOAD_WARNING = {'data': {'text/html':\n",
       "     \"<div style='background-color: #fdd'>\\n\"+\n",
       "     \"<p>\\n\"+\n",
       "     \"BokehJS does not appear to have successfully loaded. If loading BokehJS from CDN, this \\n\"+\n",
       "     \"may be due to a slow or bad network connection. Possible fixes:\\n\"+\n",
       "     \"</p>\\n\"+\n",
       "     \"<ul>\\n\"+\n",
       "     \"<li>re-rerun `output_notebook()` to attempt to load from CDN again, or</li>\\n\"+\n",
       "     \"<li>use INLINE resources instead, as so:</li>\\n\"+\n",
       "     \"</ul>\\n\"+\n",
       "     \"<code>\\n\"+\n",
       "     \"from bokeh.resources import INLINE\\n\"+\n",
       "     \"output_notebook(resources=INLINE)\\n\"+\n",
       "     \"</code>\\n\"+\n",
       "     \"</div>\"}};\n",
       "\n",
       "  function display_loaded() {\n",
       "    var el = document.getElementById(\"1001\");\n",
       "    if (el != null) {\n",
       "      el.textContent = \"BokehJS is loading...\";\n",
       "    }\n",
       "    if (root.Bokeh !== undefined) {\n",
       "      if (el != null) {\n",
       "        el.textContent = \"BokehJS \" + root.Bokeh.version + \" successfully loaded.\";\n",
       "      }\n",
       "    } else if (Date.now() < root._bokeh_timeout) {\n",
       "      setTimeout(display_loaded, 100)\n",
       "    }\n",
       "  }\n",
       "\n",
       "\n",
       "  function run_callbacks() {\n",
       "    try {\n",
       "      root._bokeh_onload_callbacks.forEach(function(callback) {\n",
       "        if (callback != null)\n",
       "          callback();\n",
       "      });\n",
       "    } finally {\n",
       "      delete root._bokeh_onload_callbacks\n",
       "    }\n",
       "    console.debug(\"Bokeh: all callbacks have finished\");\n",
       "  }\n",
       "\n",
       "  function load_libs(css_urls, js_urls, callback) {\n",
       "    if (css_urls == null) css_urls = [];\n",
       "    if (js_urls == null) js_urls = [];\n",
       "\n",
       "    root._bokeh_onload_callbacks.push(callback);\n",
       "    if (root._bokeh_is_loading > 0) {\n",
       "      console.debug(\"Bokeh: BokehJS is being loaded, scheduling callback at\", now());\n",
       "      return null;\n",
       "    }\n",
       "    if (js_urls == null || js_urls.length === 0) {\n",
       "      run_callbacks();\n",
       "      return null;\n",
       "    }\n",
       "    console.debug(\"Bokeh: BokehJS not loaded, scheduling load and callback at\", now());\n",
       "    root._bokeh_is_loading = css_urls.length + js_urls.length;\n",
       "\n",
       "    function on_load() {\n",
       "      root._bokeh_is_loading--;\n",
       "      if (root._bokeh_is_loading === 0) {\n",
       "        console.debug(\"Bokeh: all BokehJS libraries/stylesheets loaded\");\n",
       "        run_callbacks()\n",
       "      }\n",
       "    }\n",
       "\n",
       "    function on_error() {\n",
       "      console.error(\"failed to load \" + url);\n",
       "    }\n",
       "\n",
       "    for (var i = 0; i < css_urls.length; i++) {\n",
       "      var url = css_urls[i];\n",
       "      const element = document.createElement(\"link\");\n",
       "      element.onload = on_load;\n",
       "      element.onerror = on_error;\n",
       "      element.rel = \"stylesheet\";\n",
       "      element.type = \"text/css\";\n",
       "      element.href = url;\n",
       "      console.debug(\"Bokeh: injecting link tag for BokehJS stylesheet: \", url);\n",
       "      document.body.appendChild(element);\n",
       "    }\n",
       "\n",
       "    const hashes = {\"https://cdn.bokeh.org/bokeh/release/bokeh-2.0.1.min.js\": \"JpP8FXbgAZLkfur7LiK3j9AGBhHNIvF742meBJrjO2ShJDhCG2I1uVvW+0DUtrmc\", \"https://cdn.bokeh.org/bokeh/release/bokeh-widgets-2.0.1.min.js\": \"xZlADit0Q04ISQEdKg2k3L4W9AwQBAuDs9nJL9fM/WwzL1tEU9VPNezOFX0nLEAz\", \"https://cdn.bokeh.org/bokeh/release/bokeh-tables-2.0.1.min.js\": \"4BuPRZkdMKSnj3zoxiNrQ86XgNw0rYmBOxe7nshquXwwcauupgBF2DHLVG1WuZlV\", \"https://cdn.bokeh.org/bokeh/release/bokeh-gl-2.0.1.min.js\": \"Dv1SQ87hmDqK6S5OhBf0bCuwAEvL5QYL0PuR/F1SPVhCS/r/abjkbpKDYL2zeM19\"};\n",
       "\n",
       "    for (var i = 0; i < js_urls.length; i++) {\n",
       "      var url = js_urls[i];\n",
       "      var element = document.createElement('script');\n",
       "      element.onload = on_load;\n",
       "      element.onerror = on_error;\n",
       "      element.async = false;\n",
       "      element.src = url;\n",
       "      if (url in hashes) {\n",
       "        element.crossOrigin = \"anonymous\";\n",
       "        element.integrity = \"sha384-\" + hashes[url];\n",
       "      }\n",
       "      console.debug(\"Bokeh: injecting script tag for BokehJS library: \", url);\n",
       "      document.head.appendChild(element);\n",
       "    }\n",
       "  };var element = document.getElementById(\"1001\");\n",
       "  if (element == null) {\n",
       "    console.error(\"Bokeh: ERROR: autoload.js configured with elementid '1001' but no matching script tag was found. \")\n",
       "    return false;\n",
       "  }\n",
       "\n",
       "  function inject_raw_css(css) {\n",
       "    const element = document.createElement(\"style\");\n",
       "    element.appendChild(document.createTextNode(css));\n",
       "    document.body.appendChild(element);\n",
       "  }\n",
       "\n",
       "  \n",
       "  var js_urls = [\"https://cdn.bokeh.org/bokeh/release/bokeh-2.0.1.min.js\", \"https://cdn.bokeh.org/bokeh/release/bokeh-widgets-2.0.1.min.js\", \"https://cdn.bokeh.org/bokeh/release/bokeh-tables-2.0.1.min.js\", \"https://cdn.bokeh.org/bokeh/release/bokeh-gl-2.0.1.min.js\"];\n",
       "  var css_urls = [];\n",
       "  \n",
       "\n",
       "  var inline_js = [\n",
       "    function(Bokeh) {\n",
       "      Bokeh.set_log_level(\"info\");\n",
       "    },\n",
       "    function(Bokeh) {\n",
       "    \n",
       "    \n",
       "    }\n",
       "  ];\n",
       "\n",
       "  function run_inline_js() {\n",
       "    \n",
       "    if (root.Bokeh !== undefined || force === true) {\n",
       "      \n",
       "    for (var i = 0; i < inline_js.length; i++) {\n",
       "      inline_js[i].call(root, root.Bokeh);\n",
       "    }\n",
       "    if (force === true) {\n",
       "        display_loaded();\n",
       "      }} else if (Date.now() < root._bokeh_timeout) {\n",
       "      setTimeout(run_inline_js, 100);\n",
       "    } else if (!root._bokeh_failed_load) {\n",
       "      console.log(\"Bokeh: BokehJS failed to load within specified timeout.\");\n",
       "      root._bokeh_failed_load = true;\n",
       "    } else if (force !== true) {\n",
       "      var cell = $(document.getElementById(\"1001\")).parents('.cell').data().cell;\n",
       "      cell.output_area.append_execute_result(NB_LOAD_WARNING)\n",
       "    }\n",
       "\n",
       "  }\n",
       "\n",
       "  if (root._bokeh_is_loading === 0) {\n",
       "    console.debug(\"Bokeh: BokehJS loaded, going straight to plotting\");\n",
       "    run_inline_js();\n",
       "  } else {\n",
       "    load_libs(css_urls, js_urls, function() {\n",
       "      console.debug(\"Bokeh: BokehJS plotting callback run at\", now());\n",
       "      run_inline_js();\n",
       "    });\n",
       "  }\n",
       "}(window));"
      ],
      "application/vnd.bokehjs_load.v0+json": "\n(function(root) {\n  function now() {\n    return new Date();\n  }\n\n  var force = true;\n\n  if (typeof root._bokeh_onload_callbacks === \"undefined\" || force === true) {\n    root._bokeh_onload_callbacks = [];\n    root._bokeh_is_loading = undefined;\n  }\n\n  \n\n  \n  if (typeof (root._bokeh_timeout) === \"undefined\" || force === true) {\n    root._bokeh_timeout = Date.now() + 5000;\n    root._bokeh_failed_load = false;\n  }\n\n  var NB_LOAD_WARNING = {'data': {'text/html':\n     \"<div style='background-color: #fdd'>\\n\"+\n     \"<p>\\n\"+\n     \"BokehJS does not appear to have successfully loaded. If loading BokehJS from CDN, this \\n\"+\n     \"may be due to a slow or bad network connection. Possible fixes:\\n\"+\n     \"</p>\\n\"+\n     \"<ul>\\n\"+\n     \"<li>re-rerun `output_notebook()` to attempt to load from CDN again, or</li>\\n\"+\n     \"<li>use INLINE resources instead, as so:</li>\\n\"+\n     \"</ul>\\n\"+\n     \"<code>\\n\"+\n     \"from bokeh.resources import INLINE\\n\"+\n     \"output_notebook(resources=INLINE)\\n\"+\n     \"</code>\\n\"+\n     \"</div>\"}};\n\n  function display_loaded() {\n    var el = document.getElementById(\"1001\");\n    if (el != null) {\n      el.textContent = \"BokehJS is loading...\";\n    }\n    if (root.Bokeh !== undefined) {\n      if (el != null) {\n        el.textContent = \"BokehJS \" + root.Bokeh.version + \" successfully loaded.\";\n      }\n    } else if (Date.now() < root._bokeh_timeout) {\n      setTimeout(display_loaded, 100)\n    }\n  }\n\n\n  function run_callbacks() {\n    try {\n      root._bokeh_onload_callbacks.forEach(function(callback) {\n        if (callback != null)\n          callback();\n      });\n    } finally {\n      delete root._bokeh_onload_callbacks\n    }\n    console.debug(\"Bokeh: all callbacks have finished\");\n  }\n\n  function load_libs(css_urls, js_urls, callback) {\n    if (css_urls == null) css_urls = [];\n    if (js_urls == null) js_urls = [];\n\n    root._bokeh_onload_callbacks.push(callback);\n    if (root._bokeh_is_loading > 0) {\n      console.debug(\"Bokeh: BokehJS is being loaded, scheduling callback at\", now());\n      return null;\n    }\n    if (js_urls == null || js_urls.length === 0) {\n      run_callbacks();\n      return null;\n    }\n    console.debug(\"Bokeh: BokehJS not loaded, scheduling load and callback at\", now());\n    root._bokeh_is_loading = css_urls.length + js_urls.length;\n\n    function on_load() {\n      root._bokeh_is_loading--;\n      if (root._bokeh_is_loading === 0) {\n        console.debug(\"Bokeh: all BokehJS libraries/stylesheets loaded\");\n        run_callbacks()\n      }\n    }\n\n    function on_error() {\n      console.error(\"failed to load \" + url);\n    }\n\n    for (var i = 0; i < css_urls.length; i++) {\n      var url = css_urls[i];\n      const element = document.createElement(\"link\");\n      element.onload = on_load;\n      element.onerror = on_error;\n      element.rel = \"stylesheet\";\n      element.type = \"text/css\";\n      element.href = url;\n      console.debug(\"Bokeh: injecting link tag for BokehJS stylesheet: \", url);\n      document.body.appendChild(element);\n    }\n\n    const hashes = {\"https://cdn.bokeh.org/bokeh/release/bokeh-2.0.1.min.js\": \"JpP8FXbgAZLkfur7LiK3j9AGBhHNIvF742meBJrjO2ShJDhCG2I1uVvW+0DUtrmc\", \"https://cdn.bokeh.org/bokeh/release/bokeh-widgets-2.0.1.min.js\": \"xZlADit0Q04ISQEdKg2k3L4W9AwQBAuDs9nJL9fM/WwzL1tEU9VPNezOFX0nLEAz\", \"https://cdn.bokeh.org/bokeh/release/bokeh-tables-2.0.1.min.js\": \"4BuPRZkdMKSnj3zoxiNrQ86XgNw0rYmBOxe7nshquXwwcauupgBF2DHLVG1WuZlV\", \"https://cdn.bokeh.org/bokeh/release/bokeh-gl-2.0.1.min.js\": \"Dv1SQ87hmDqK6S5OhBf0bCuwAEvL5QYL0PuR/F1SPVhCS/r/abjkbpKDYL2zeM19\"};\n\n    for (var i = 0; i < js_urls.length; i++) {\n      var url = js_urls[i];\n      var element = document.createElement('script');\n      element.onload = on_load;\n      element.onerror = on_error;\n      element.async = false;\n      element.src = url;\n      if (url in hashes) {\n        element.crossOrigin = \"anonymous\";\n        element.integrity = \"sha384-\" + hashes[url];\n      }\n      console.debug(\"Bokeh: injecting script tag for BokehJS library: \", url);\n      document.head.appendChild(element);\n    }\n  };var element = document.getElementById(\"1001\");\n  if (element == null) {\n    console.error(\"Bokeh: ERROR: autoload.js configured with elementid '1001' but no matching script tag was found. \")\n    return false;\n  }\n\n  function inject_raw_css(css) {\n    const element = document.createElement(\"style\");\n    element.appendChild(document.createTextNode(css));\n    document.body.appendChild(element);\n  }\n\n  \n  var js_urls = [\"https://cdn.bokeh.org/bokeh/release/bokeh-2.0.1.min.js\", \"https://cdn.bokeh.org/bokeh/release/bokeh-widgets-2.0.1.min.js\", \"https://cdn.bokeh.org/bokeh/release/bokeh-tables-2.0.1.min.js\", \"https://cdn.bokeh.org/bokeh/release/bokeh-gl-2.0.1.min.js\"];\n  var css_urls = [];\n  \n\n  var inline_js = [\n    function(Bokeh) {\n      Bokeh.set_log_level(\"info\");\n    },\n    function(Bokeh) {\n    \n    \n    }\n  ];\n\n  function run_inline_js() {\n    \n    if (root.Bokeh !== undefined || force === true) {\n      \n    for (var i = 0; i < inline_js.length; i++) {\n      inline_js[i].call(root, root.Bokeh);\n    }\n    if (force === true) {\n        display_loaded();\n      }} else if (Date.now() < root._bokeh_timeout) {\n      setTimeout(run_inline_js, 100);\n    } else if (!root._bokeh_failed_load) {\n      console.log(\"Bokeh: BokehJS failed to load within specified timeout.\");\n      root._bokeh_failed_load = true;\n    } else if (force !== true) {\n      var cell = $(document.getElementById(\"1001\")).parents('.cell').data().cell;\n      cell.output_area.append_execute_result(NB_LOAD_WARNING)\n    }\n\n  }\n\n  if (root._bokeh_is_loading === 0) {\n    console.debug(\"Bokeh: BokehJS loaded, going straight to plotting\");\n    run_inline_js();\n  } else {\n    load_libs(css_urls, js_urls, function() {\n      console.debug(\"Bokeh: BokehJS plotting callback run at\", now());\n      run_inline_js();\n    });\n  }\n}(window));"
     },
     "metadata": {},
     "output_type": "display_data"
    },
    {
     "data": {
      "text/html": [
       "<div>\n",
       "<style scoped>\n",
       "    .dataframe tbody tr th:only-of-type {\n",
       "        vertical-align: middle;\n",
       "    }\n",
       "\n",
       "    .dataframe tbody tr th {\n",
       "        vertical-align: top;\n",
       "    }\n",
       "\n",
       "    .dataframe thead th {\n",
       "        text-align: right;\n",
       "    }\n",
       "</style>\n",
       "<table border=\"1\" class=\"dataframe\">\n",
       "  <thead>\n",
       "    <tr style=\"text-align: right;\">\n",
       "      <th></th>\n",
       "      <th>date</th>\n",
       "      <th>county</th>\n",
       "      <th>state</th>\n",
       "      <th>fips</th>\n",
       "      <th>cases</th>\n",
       "      <th>deaths</th>\n",
       "    </tr>\n",
       "  </thead>\n",
       "  <tbody>\n",
       "    <tr>\n",
       "      <th>0</th>\n",
       "      <td>2020-01-21</td>\n",
       "      <td>Snohomish</td>\n",
       "      <td>Washington</td>\n",
       "      <td>53061.0</td>\n",
       "      <td>1</td>\n",
       "      <td>0</td>\n",
       "    </tr>\n",
       "    <tr>\n",
       "      <th>1</th>\n",
       "      <td>2020-01-22</td>\n",
       "      <td>Snohomish</td>\n",
       "      <td>Washington</td>\n",
       "      <td>53061.0</td>\n",
       "      <td>1</td>\n",
       "      <td>0</td>\n",
       "    </tr>\n",
       "    <tr>\n",
       "      <th>2</th>\n",
       "      <td>2020-01-23</td>\n",
       "      <td>Snohomish</td>\n",
       "      <td>Washington</td>\n",
       "      <td>53061.0</td>\n",
       "      <td>1</td>\n",
       "      <td>0</td>\n",
       "    </tr>\n",
       "    <tr>\n",
       "      <th>3</th>\n",
       "      <td>2020-01-24</td>\n",
       "      <td>Cook</td>\n",
       "      <td>Illinois</td>\n",
       "      <td>17031.0</td>\n",
       "      <td>1</td>\n",
       "      <td>0</td>\n",
       "    </tr>\n",
       "    <tr>\n",
       "      <th>4</th>\n",
       "      <td>2020-01-24</td>\n",
       "      <td>Snohomish</td>\n",
       "      <td>Washington</td>\n",
       "      <td>53061.0</td>\n",
       "      <td>1</td>\n",
       "      <td>0</td>\n",
       "    </tr>\n",
       "  </tbody>\n",
       "</table>\n",
       "</div>"
      ],
      "text/plain": [
       "        date     county       state     fips  cases  deaths\n",
       "0 2020-01-21  Snohomish  Washington  53061.0      1       0\n",
       "1 2020-01-22  Snohomish  Washington  53061.0      1       0\n",
       "2 2020-01-23  Snohomish  Washington  53061.0      1       0\n",
       "3 2020-01-24       Cook    Illinois  17031.0      1       0\n",
       "4 2020-01-24  Snohomish  Washington  53061.0      1       0"
      ]
     },
     "execution_count": 1,
     "metadata": {},
     "output_type": "execute_result"
    }
   ],
   "source": [
    "from datetime import datetime, timedelta\n",
    "import math\n",
    "\n",
    "from bokeh.io import output_notebook\n",
    "from bokeh.models import FuncTickFormatter, ColumnDataSource\n",
    "from bokeh.plotting import figure, output_file, show\n",
    "import pandas as pd\n",
    "import numpy as np\n",
    "\n",
    "# bokeh: configure for notebook\n",
    "# https://docs.bokeh.org/en/latest/docs/user_guide/jupyter.html#userguide-jupyter-notebook\n",
    "output_notebook()\n",
    "\n",
    "# load data\n",
    "df = pd.read_csv(\n",
    "    \"https://raw.githubusercontent.com/nytimes/covid-19-data/master/us-counties.csv\"\n",
    ")\n",
    "df.date = df.date.apply(pd.to_datetime)\n",
    "df.head()"
   ]
  },
  {
   "cell_type": "code",
   "execution_count": 2,
   "metadata": {},
   "outputs": [],
   "source": [
    "def get_r_squared(x, y, coeffs):\n",
    "    # source: https://stackoverflow.com/questions/893657/\n",
    "    p = np.poly1d(coeffs, r=True)\n",
    "    # fit values, and mean\n",
    "    yhat = p(x)  # or [p(z) for z in x]\n",
    "    ybar = np.sum(y) / len(y)  # or sum(y)/len(y)\n",
    "    ssreg = np.sum(\n",
    "        (yhat - ybar) ** 2\n",
    "    )  # or sum([ (yihat - ybar)**2 for yihat in yhat])\n",
    "    sstot = np.sum((y - ybar) ** 2)  # or sum([ (yi - ybar)**2 for yi in y])\n",
    "    return 1 - (ssreg / sstot)\n",
    "\n",
    "def unbiased_polyfit(df, steps=10):\n",
    "    # source: https://stackoverflow.com/questions/3433486\n",
    "    # generate x y values for calculation\n",
    "    x, y = list(range(len(df.index))), df[(\"cases\", \"sum\")]\n",
    "    b, a_ = np.polyfit(x, np.log(y), 1, w=np.sqrt(y))\n",
    "    a = math.exp(a_)\n",
    "    r_squared = get_r_squared(x, y, [b, a_])\n",
    "    print(f\"y ≈ exp({a_}) * exp({b} * x)\")\n",
    "    print(f\"y = {a} * exp({b} * x)\")\n",
    "    # print(f'r^2 = {r_squared}')\n",
    "    fnc = lambda x: a * math.exp(b * x)\n",
    "    x_range = [i for i in range(len(df.index) + steps)]\n",
    "    line = [fnc(x_val) for x_val in x_range]\n",
    "    return line\n",
    "\n",
    "\n",
    "def make_figure(df, title):\n",
    "    # make the figure\n",
    "    p = figure(\n",
    "        title=title,\n",
    "        x_axis_label=\"Date\",\n",
    "        y_axis_label=\"# of Cases & Deaths\",\n",
    "        y_range=[0, int(df[(\"cases\", \"sum\")].max() * 1.20)],\n",
    "        x_range=[df.index[0], pd.Timestamp(df.index.max() + timedelta(days=2))],\n",
    "        plot_width=880,\n",
    "        tools=\"pan,wheel_zoom,box_zoom,reset\",\n",
    "    )\n",
    "    # add actual values as an area graph\n",
    "    source = ColumnDataSource(\n",
    "        data=dict(x=df.index, cases=df[(\"cases\", \"sum\")], deaths=df[(\"deaths\", \"sum\")],)\n",
    "    )\n",
    "    p.varea_stack([\"deaths\", \"cases\"], x=\"x\", color=(\"red\", \"lightblue\"), source=source)\n",
    "    # add unbiased polyfit\n",
    "    steps = 10\n",
    "    extended_x = list(df.index) + [\n",
    "        pd.Timestamp(df.index.max() + timedelta(days=i)) for i in range(1, steps + 1)\n",
    "    ]\n",
    "    p.line(\n",
    "        extended_x,\n",
    "        unbiased_polyfit(df, steps=steps),\n",
    "        legend_label=f\"Projected # of Cases\",\n",
    "        line_width=1,\n",
    "        line_color=\"gray\",\n",
    "        line_dash=\"dashed\",\n",
    "        line_alpha=0.75,\n",
    "    )\n",
    "    # format axis\n",
    "    label_dict = {str(d): d.strftime(\"%d-%m-%Y\") for d in df.index}\n",
    "    p.xaxis.formatter = FuncTickFormatter(\n",
    "        code=\"\"\"\n",
    "        let date = new Date(tick);\n",
    "        return `${date.getDate()}-${date.getMonth()}-${date.getFullYear()}`\n",
    "    \"\"\"\n",
    "    )\n",
    "    p.legend.location = \"top_left\"\n",
    "    show(p)\n",
    "\n",
    "\n",
    "def plot_state_curve(df, state: str):\n",
    "    # get the state data\n",
    "    state_df = df[df[\"state\"] == state]\n",
    "    # arrange by day\n",
    "    day_df = (\n",
    "        state_df.drop(columns=[\"fips\", \"state\", \"county\"])\n",
    "        .groupby(by=\"date\")\n",
    "        .agg([\"sum\"])\n",
    "    )\n",
    "    day_df.columns = {(\"cases\", \"sum\"): \"cases_sum\", (\"deaths\", \"sum\"): \"deaths_sum\"}\n",
    "    make_figure(day_df, f\"{state} Cases\")\n",
    "\n",
    "\n",
    "def plot_state_counties_curve(df, state: str, counties: list):\n",
    "    # get the state and county data\n",
    "    counties_df = df[(df.state == state) & (df.county.isin(counties))]\n",
    "    # arrange by day\n",
    "    day_df = (\n",
    "        counties_df.drop(columns=[\"fips\", \"state\", \"county\"])\n",
    "        .groupby(by=\"date\")\n",
    "        .agg([\"sum\"])\n",
    "    )\n",
    "    day_df.columns = {(\"cases\", \"sum\"): \"cases_sum\", (\"deaths\", \"sum\"): \"deaths_sum\"}\n",
    "    make_figure(day_df, f'{state} Cases for counties {\",\".join(counties)}')\n",
    "\n",
    "\n",
    "def plot_states_and_counties_curve(df, state_county_map: dict, name):\n",
    "    \"\"\"for metropolitan area. i.e. chicagoland\"\"\"\n",
    "    states = state_county_map.keys()\n",
    "    # trim dataset to relevant states, counties\n",
    "    state_counties_df = df[\n",
    "        df.apply(\n",
    "            lambda x: x[\"state\"] in states\n",
    "            and x[\"county\"] in state_county_map[x[\"state\"]],\n",
    "            axis=1,\n",
    "        )\n",
    "    ]\n",
    "    # arrange by day\n",
    "    day_df = (\n",
    "        state_counties_df.drop(columns=[\"fips\", \"state\", \"county\"])\n",
    "        .groupby(by=\"date\")\n",
    "        .agg([\"sum\"])\n",
    "    )\n",
    "    day_df.columns = {(\"cases\", \"sum\"): \"cases_sum\", (\"deaths\", \"sum\"): \"deaths_sum\"}\n",
    "    make_figure(day_df, name)"
   ]
  },
  {
   "cell_type": "code",
   "execution_count": 3,
   "metadata": {},
   "outputs": [
    {
     "name": "stdout",
     "output_type": "stream",
     "text": [
      "y ≈ exp(6.115572153715892) * exp(0.0716723030607093 * x)\n",
      "y = 452.855075976519 * exp(0.0716723030607093 * x)\n"
     ]
    },
    {
     "data": {
      "text/html": [
       "\n",
       "\n",
       "\n",
       "\n",
       "\n",
       "\n",
       "  <div class=\"bk-root\" id=\"12af3458-9a60-4a08-be3a-8959b1db7a9f\" data-root-id=\"1002\"></div>\n"
      ]
     },
     "metadata": {},
     "output_type": "display_data"
    },
    {
     "data": {
      "application/javascript": [
       "(function(root) {\n",
       "  function embed_document(root) {\n",
       "    \n",
       "  var docs_json = {\"567527c4-2ca1-4a45-8195-288ccea1f400\":{\"roots\":{\"references\":[{\"attributes\":{\"below\":[{\"id\":\"1013\"}],\"center\":[{\"id\":\"1016\"},{\"id\":\"1020\"},{\"id\":\"1071\"}],\"left\":[{\"id\":\"1017\"}],\"plot_width\":880,\"renderers\":[{\"id\":\"1039\"},{\"id\":\"1044\"},{\"id\":\"1049\"}],\"title\":{\"id\":\"1003\"},\"toolbar\":{\"id\":\"1026\"},\"x_range\":{\"id\":\"1005\"},\"x_scale\":{\"id\":\"1009\"},\"y_range\":{\"id\":\"1007\"},\"y_scale\":{\"id\":\"1011\"}},\"id\":\"1002\",\"subtype\":\"Figure\",\"type\":\"Plot\"},{\"attributes\":{\"base\":60,\"mantissas\":[1,2,5,10,15,20,30],\"max_interval\":1800000.0,\"min_interval\":1000.0,\"num_minor_ticks\":0},\"id\":\"1057\",\"type\":\"AdaptiveTicker\"},{\"attributes\":{\"end\":19153},\"id\":\"1007\",\"type\":\"Range1d\"},{\"attributes\":{},\"id\":\"1070\",\"type\":\"Selection\"},{\"attributes\":{},\"id\":\"1095\",\"type\":\"Selection\"},{\"attributes\":{\"base\":24,\"mantissas\":[1,2,4,6,8,12],\"max_interval\":43200000.0,\"min_interval\":3600000.0,\"num_minor_ticks\":0},\"id\":\"1058\",\"type\":\"AdaptiveTicker\"},{\"attributes\":{\"fields\":[\"deaths\"]},\"id\":\"1033\",\"type\":\"Stack\"},{\"attributes\":{\"fields\":[]},\"id\":\"1032\",\"type\":\"Stack\"},{\"attributes\":{\"axis_label\":\"# of Cases & Deaths\",\"formatter\":{\"id\":\"1055\"},\"ticker\":{\"id\":\"1018\"}},\"id\":\"1017\",\"type\":\"LinearAxis\"},{\"attributes\":{\"source\":{\"id\":\"1031\"}},\"id\":\"1045\",\"type\":\"CDSView\"},{\"attributes\":{},\"id\":\"1022\",\"type\":\"WheelZoomTool\"},{\"attributes\":{\"overlay\":{\"id\":\"1025\"}},\"id\":\"1023\",\"type\":\"BoxZoomTool\"},{\"attributes\":{\"months\":[0,6]},\"id\":\"1066\",\"type\":\"MonthsTicker\"},{\"attributes\":{\"days\":[1,4,7,10,13,16,19,22,25,28]},\"id\":\"1060\",\"type\":\"DaysTicker\"},{\"attributes\":{\"items\":[{\"id\":\"1072\"}],\"location\":\"top_left\"},\"id\":\"1071\",\"type\":\"Legend\"},{\"attributes\":{\"code\":\"\\n        let date = new Date(tick);\\n        return `${date.getDate()}-${date.getMonth()}-${date.getFullYear()}`\\n    \"},\"id\":\"1073\",\"type\":\"FuncTickFormatter\"},{\"attributes\":{},\"id\":\"1055\",\"type\":\"BasicTickFormatter\"},{\"attributes\":{},\"id\":\"1021\",\"type\":\"PanTool\"},{\"attributes\":{\"days\":[1,15]},\"id\":\"1062\",\"type\":\"DaysTicker\"},{\"attributes\":{\"bottom_units\":\"screen\",\"fill_alpha\":0.5,\"fill_color\":\"lightgrey\",\"left_units\":\"screen\",\"level\":\"overlay\",\"line_alpha\":1.0,\"line_color\":\"black\",\"line_dash\":[4,4],\"line_width\":2,\"render_mode\":\"css\",\"right_units\":\"screen\",\"top_units\":\"screen\"},\"id\":\"1025\",\"type\":\"BoxAnnotation\"},{\"attributes\":{\"months\":[0,4,8]},\"id\":\"1065\",\"type\":\"MonthsTicker\"},{\"attributes\":{},\"id\":\"1094\",\"type\":\"UnionRenderers\"},{\"attributes\":{\"active_drag\":\"auto\",\"active_inspect\":\"auto\",\"active_multi\":null,\"active_scroll\":\"auto\",\"active_tap\":\"auto\",\"tools\":[{\"id\":\"1021\"},{\"id\":\"1022\"},{\"id\":\"1023\"},{\"id\":\"1024\"}]},\"id\":\"1026\",\"type\":\"Toolbar\"},{\"attributes\":{\"axis\":{\"id\":\"1017\"},\"dimension\":1,\"ticker\":null},\"id\":\"1020\",\"type\":\"Grid\"},{\"attributes\":{\"source\":{\"id\":\"1031\"}},\"id\":\"1040\",\"type\":\"CDSView\"},{\"attributes\":{},\"id\":\"1018\",\"type\":\"BasicTicker\"},{\"attributes\":{\"line_alpha\":0.1,\"line_color\":\"gray\",\"line_dash\":[6],\"x\":{\"field\":\"x\"},\"y\":{\"field\":\"y\"}},\"id\":\"1048\",\"type\":\"Line\"},{\"attributes\":{\"months\":[0,1,2,3,4,5,6,7,8,9,10,11]},\"id\":\"1063\",\"type\":\"MonthsTicker\"},{\"attributes\":{},\"id\":\"1069\",\"type\":\"UnionRenderers\"},{\"attributes\":{\"data_source\":{\"id\":\"1046\"},\"glyph\":{\"id\":\"1047\"},\"hover_glyph\":null,\"muted_glyph\":null,\"nonselection_glyph\":{\"id\":\"1048\"},\"selection_glyph\":null,\"view\":{\"id\":\"1050\"}},\"id\":\"1049\",\"type\":\"GlyphRenderer\"},{\"attributes\":{\"months\":[0,2,4,6,8,10]},\"id\":\"1064\",\"type\":\"MonthsTicker\"},{\"attributes\":{\"fill_color\":\"lightblue\",\"x\":{\"field\":\"x\"},\"y1\":{\"expr\":{\"id\":\"1034\"}},\"y2\":{\"expr\":{\"id\":\"1035\"}}},\"id\":\"1042\",\"type\":\"VArea\"},{\"attributes\":{\"fill_alpha\":0.1,\"fill_color\":\"red\",\"x\":{\"field\":\"x\"},\"y1\":{\"expr\":{\"id\":\"1032\"}},\"y2\":{\"expr\":{\"id\":\"1033\"}}},\"id\":\"1038\",\"type\":\"VArea\"},{\"attributes\":{\"source\":{\"id\":\"1046\"}},\"id\":\"1050\",\"type\":\"CDSView\"},{\"attributes\":{\"text\":\"Indiana Cases\"},\"id\":\"1003\",\"type\":\"Title\"},{\"attributes\":{\"mantissas\":[1,2,5],\"max_interval\":500.0,\"num_minor_ticks\":0},\"id\":\"1056\",\"type\":\"AdaptiveTicker\"},{\"attributes\":{\"days\":[1,8,15,22]},\"id\":\"1061\",\"type\":\"DaysTicker\"},{\"attributes\":{\"fields\":[\"deaths\",\"cases\"]},\"id\":\"1035\",\"type\":\"Stack\"},{\"attributes\":{},\"id\":\"1011\",\"type\":\"LinearScale\"},{\"attributes\":{},\"id\":\"1024\",\"type\":\"ResetTool\"},{\"attributes\":{\"label\":{\"value\":\"Projected # of Cases\"},\"renderers\":[{\"id\":\"1049\"}]},\"id\":\"1072\",\"type\":\"LegendItem\"},{\"attributes\":{\"fields\":[\"deaths\"]},\"id\":\"1034\",\"type\":\"Stack\"},{\"attributes\":{\"num_minor_ticks\":5,\"tickers\":[{\"id\":\"1056\"},{\"id\":\"1057\"},{\"id\":\"1058\"},{\"id\":\"1059\"},{\"id\":\"1060\"},{\"id\":\"1061\"},{\"id\":\"1062\"},{\"id\":\"1063\"},{\"id\":\"1064\"},{\"id\":\"1065\"},{\"id\":\"1066\"},{\"id\":\"1067\"}]},\"id\":\"1014\",\"type\":\"DatetimeTicker\"},{\"attributes\":{\"days\":[1,2,3,4,5,6,7,8,9,10,11,12,13,14,15,16,17,18,19,20,21,22,23,24,25,26,27,28,29,30,31]},\"id\":\"1059\",\"type\":\"DaysTicker\"},{\"attributes\":{\"line_alpha\":0.75,\"line_color\":\"gray\",\"line_dash\":[6],\"x\":{\"field\":\"x\"},\"y\":{\"field\":\"y\"}},\"id\":\"1047\",\"type\":\"Line\"},{\"attributes\":{\"axis_label\":\"Date\",\"formatter\":{\"id\":\"1073\"},\"ticker\":{\"id\":\"1014\"}},\"id\":\"1013\",\"type\":\"DatetimeAxis\"},{\"attributes\":{},\"id\":\"1009\",\"type\":\"LinearScale\"},{\"attributes\":{\"data_source\":{\"id\":\"1031\"},\"glyph\":{\"id\":\"1037\"},\"hover_glyph\":null,\"muted_glyph\":null,\"name\":\"deaths\",\"nonselection_glyph\":{\"id\":\"1038\"},\"selection_glyph\":null,\"view\":{\"id\":\"1040\"}},\"id\":\"1039\",\"type\":\"GlyphRenderer\"},{\"attributes\":{\"data\":{\"x\":[1583452800000.0,1583539200000.0,1583625600000.0,1583712000000.0,1583798400000.0,1583884800000.0,1583971200000.0,1584057600000.0,1584144000000.0,1584230400000.0,1584316800000.0,1584403200000.0,1584489600000.0,1584576000000.0,1584662400000.0,1584748800000.0,1584835200000.0,1584921600000.0,1585008000000.0,1585094400000.0,1585180800000.0,1585267200000.0,1585353600000.0,1585440000000.0,1585526400000.0,1585612800000.0,1585699200000.0,1585785600000.0,1585872000000.0,1585958400000.0,1586044800000.0,1586131200000.0,1586217600000.0,1586304000000.0,1586390400000.0,1586476800000.0,1586563200000.0,1586649600000.0,1586736000000.0,1586822400000.0,1586908800000.0,1586995200000.0,1587081600000.0,1587168000000.0,1587254400000.0,1587340800000.0,1587427200000.0,1587513600000.0,1587600000000.0,1587686400000.0,1587772800000.0,1587859200000.0,1587945600000.0,1588032000000.0,1588118400000.0,1588204800000.0,1588291200000.0,1588377600000.0,1588464000000.0,1588550400000.0,1588636800000.0,1588723200000.0,1588809600000.0],\"y\":[452.855075976519,486.50367559462313,522.6524752023554,561.4872477608219,603.207569764135,648.0278468866452,696.1784158390875,747.9067280962083,803.478621579192,863.1796868282129,927.3167346860338,996.2193730352527,1070.241700692236,1149.7641271628609,1235.1953276120046,1326.974343093603,1425.5728368346086,1531.4975181681575,1645.2927465728237,1767.5433292004336,1898.8775262692552,2039.9702797676464,2191.5466820608444,2354.3857022264788,2529.324189268888,2717.261172785239,2919.1624831850627,3136.0657152070844,3369.085560241433,3619.419534860673,3888.3541349992543,4177.271447408432,4487.656252363722,4821.103654126529,5179.327278373802,5564.168078723277,5977.603797612077,6421.759130149274,6898.9166431755875,7411.528505644648,7962.22909060957,8553.84851357798,9189.427176810681,9872.231394308867,10605.770177788469,11393.813269906836,12240.410517416582,13149.912683807534,14126.993808395415,15176.675226763311,16304.351375999715,17515.81751734942,18817.299518747208,20215.485850290286,21717.56195707801,23331.24718606499,25064.834456699078,26927.23287921618,28928.01353961263,31077.4586865894,33386.61457324538,35867.34822508006,38532.40842604249]},\"selected\":{\"id\":\"1095\"},\"selection_policy\":{\"id\":\"1094\"}},\"id\":\"1046\",\"type\":\"ColumnDataSource\"},{\"attributes\":{\"data_source\":{\"id\":\"1031\"},\"glyph\":{\"id\":\"1042\"},\"hover_glyph\":null,\"muted_glyph\":null,\"name\":\"cases\",\"nonselection_glyph\":{\"id\":\"1043\"},\"selection_glyph\":null,\"view\":{\"id\":\"1045\"}},\"id\":\"1044\",\"type\":\"GlyphRenderer\"},{\"attributes\":{\"data\":{\"cases\":[1,1,2,4,6,11,12,12,15,19,24,30,39,56,79,126,201,259,366,479,656,986,1232,1514,1788,2168,2566,3038,3435,3951,4409,4956,5509,5943,6351,6907,7435,7928,8236,8527,8955,9542,10154,10641,11210,11686,12097,12438,13039,13680,14395,15012,15961],\"deaths\":[0,0,0,0,0,0,0,0,0,0,1,2,2,2,3,4,6,7,12,14,18,26,31,32,35,50,66,78,102,116,127,141,173,203,246,300,330,343,350,387,436,477,519,545,562,569,630,661,706,741,785,813,844],\"x\":{\"__ndarray__\":\"AABARNIKd0IAAACqJAt3QgAAwA93C3dCAACAdckLd0IAAEDbGwx3QgAAAEFuDHdCAADApsAMd0IAAIAMEw13QgAAQHJlDXdCAAAA2LcNd0IAAMA9Cg53QgAAgKNcDndCAABACa8Od0IAAABvAQ93QgAAwNRTD3dCAACAOqYPd0IAAECg+A93QgAAAAZLEHdCAADAa50Qd0IAAIDR7xB3QgAAQDdCEXdCAAAAnZQRd0IAAMAC5xF3QgAAgGg5EndCAABAzosSd0IAAAA03hJ3QgAAwJkwE3dCAACA/4ITd0IAAEBl1RN3QgAAAMsnFHdCAADAMHoUd0IAAICWzBR3QgAAQPweFXdCAAAAYnEVd0IAAMDHwxV3QgAAgC0WFndCAABAk2gWd0IAAAD5uhZ3QgAAwF4NF3dCAACAxF8Xd0IAAEAqshd3QgAAAJAEGHdCAADA9VYYd0IAAIBbqRh3QgAAQMH7GHdCAAAAJ04Zd0IAAMCMoBl3QgAAgPLyGXdCAABAWEUad0IAAAC+lxp3QgAAwCPqGndCAACAiTwbd0IAAEDvjht3Qg==\",\"dtype\":\"float64\",\"shape\":[53]}},\"selected\":{\"id\":\"1070\"},\"selection_policy\":{\"id\":\"1069\"}},\"id\":\"1031\",\"type\":\"ColumnDataSource\"},{\"attributes\":{},\"id\":\"1067\",\"type\":\"YearsTicker\"},{\"attributes\":{\"axis\":{\"id\":\"1013\"},\"ticker\":null},\"id\":\"1016\",\"type\":\"Grid\"},{\"attributes\":{\"fill_color\":\"red\",\"x\":{\"field\":\"x\"},\"y1\":{\"expr\":{\"id\":\"1032\"}},\"y2\":{\"expr\":{\"id\":\"1033\"}}},\"id\":\"1037\",\"type\":\"VArea\"},{\"attributes\":{\"end\":1588118400000.0,\"start\":1583452800000.0},\"id\":\"1005\",\"type\":\"Range1d\"},{\"attributes\":{\"fill_alpha\":0.1,\"fill_color\":\"lightblue\",\"x\":{\"field\":\"x\"},\"y1\":{\"expr\":{\"id\":\"1034\"}},\"y2\":{\"expr\":{\"id\":\"1035\"}}},\"id\":\"1043\",\"type\":\"VArea\"}],\"root_ids\":[\"1002\"]},\"title\":\"Bokeh Application\",\"version\":\"2.0.1\"}};\n",
       "  var render_items = [{\"docid\":\"567527c4-2ca1-4a45-8195-288ccea1f400\",\"root_ids\":[\"1002\"],\"roots\":{\"1002\":\"12af3458-9a60-4a08-be3a-8959b1db7a9f\"}}];\n",
       "  root.Bokeh.embed.embed_items_notebook(docs_json, render_items);\n",
       "\n",
       "  }\n",
       "  if (root.Bokeh !== undefined) {\n",
       "    embed_document(root);\n",
       "  } else {\n",
       "    var attempts = 0;\n",
       "    var timer = setInterval(function(root) {\n",
       "      if (root.Bokeh !== undefined) {\n",
       "        clearInterval(timer);\n",
       "        embed_document(root);\n",
       "      } else {\n",
       "        attempts++;\n",
       "        if (attempts > 100) {\n",
       "          clearInterval(timer);\n",
       "          console.log(\"Bokeh: ERROR: Unable to run BokehJS code because BokehJS library is missing\");\n",
       "        }\n",
       "      }\n",
       "    }, 10, root)\n",
       "  }\n",
       "})(window);"
      ],
      "application/vnd.bokehjs_exec.v0+json": ""
     },
     "metadata": {
      "application/vnd.bokehjs_exec.v0+json": {
       "id": "1002"
      }
     },
     "output_type": "display_data"
    }
   ],
   "source": [
    "plot_state_curve(df, \"Indiana\")"
   ]
  },
  {
   "cell_type": "code",
   "execution_count": 4,
   "metadata": {},
   "outputs": [
    {
     "name": "stdout",
     "output_type": "stream",
     "text": [
      "y ≈ exp(4.252168939454813) * exp(0.08149849233548244 * x)\n",
      "y = 70.2576317591935 * exp(0.08149849233548244 * x)\n"
     ]
    },
    {
     "data": {
      "text/html": [
       "\n",
       "\n",
       "\n",
       "\n",
       "\n",
       "\n",
       "  <div class=\"bk-root\" id=\"d84f14fe-ff34-4ede-bce7-c3758f9094f8\" data-root-id=\"1222\"></div>\n"
      ]
     },
     "metadata": {},
     "output_type": "display_data"
    },
    {
     "data": {
      "application/javascript": [
       "(function(root) {\n",
       "  function embed_document(root) {\n",
       "    \n",
       "  var docs_json = {\"c050da35-b22a-4796-b34f-f7329ba6e5f4\":{\"roots\":{\"references\":[{\"attributes\":{\"below\":[{\"id\":\"1233\"}],\"center\":[{\"id\":\"1236\"},{\"id\":\"1240\"},{\"id\":\"1291\"}],\"left\":[{\"id\":\"1237\"}],\"plot_width\":880,\"renderers\":[{\"id\":\"1259\"},{\"id\":\"1264\"},{\"id\":\"1269\"}],\"title\":{\"id\":\"1223\"},\"toolbar\":{\"id\":\"1246\"},\"x_range\":{\"id\":\"1225\"},\"x_scale\":{\"id\":\"1229\"},\"y_range\":{\"id\":\"1227\"},\"y_scale\":{\"id\":\"1231\"}},\"id\":\"1222\",\"subtype\":\"Figure\",\"type\":\"Plot\"},{\"attributes\":{\"end\":1588118400000.0,\"start\":1584403200000.0},\"id\":\"1225\",\"type\":\"Range1d\"},{\"attributes\":{},\"id\":\"1336\",\"type\":\"Selection\"},{\"attributes\":{\"num_minor_ticks\":5,\"tickers\":[{\"id\":\"1276\"},{\"id\":\"1277\"},{\"id\":\"1278\"},{\"id\":\"1279\"},{\"id\":\"1280\"},{\"id\":\"1281\"},{\"id\":\"1282\"},{\"id\":\"1283\"},{\"id\":\"1284\"},{\"id\":\"1285\"},{\"id\":\"1286\"},{\"id\":\"1287\"}]},\"id\":\"1234\",\"type\":\"DatetimeTicker\"},{\"attributes\":{},\"id\":\"1238\",\"type\":\"BasicTicker\"},{\"attributes\":{\"months\":[0,2,4,6,8,10]},\"id\":\"1284\",\"type\":\"MonthsTicker\"},{\"attributes\":{\"fields\":[\"deaths\"]},\"id\":\"1254\",\"type\":\"Stack\"},{\"attributes\":{},\"id\":\"1229\",\"type\":\"LinearScale\"},{\"attributes\":{},\"id\":\"1231\",\"type\":\"LinearScale\"},{\"attributes\":{\"line_alpha\":0.75,\"line_color\":\"gray\",\"line_dash\":[6],\"x\":{\"field\":\"x\"},\"y\":{\"field\":\"y\"}},\"id\":\"1267\",\"type\":\"Line\"},{\"attributes\":{\"data\":{\"x\":[1584403200000.0,1584489600000.0,1584576000000.0,1584662400000.0,1584748800000.0,1584835200000.0,1584921600000.0,1585008000000.0,1585094400000.0,1585180800000.0,1585267200000.0,1585353600000.0,1585440000000.0,1585526400000.0,1585612800000.0,1585699200000.0,1585785600000.0,1585872000000.0,1585958400000.0,1586044800000.0,1586131200000.0,1586217600000.0,1586304000000.0,1586390400000.0,1586476800000.0,1586563200000.0,1586649600000.0,1586736000000.0,1586822400000.0,1586908800000.0,1586995200000.0,1587081600000.0,1587168000000.0,1587254400000.0,1587340800000.0,1587427200000.0,1587513600000.0,1587600000000.0,1587686400000.0,1587772800000.0,1587859200000.0,1587945600000.0,1588032000000.0,1588118400000.0,1588204800000.0,1588291200000.0,1588377600000.0,1588464000000.0,1588550400000.0,1588636800000.0,1588723200000.0,1588809600000.0],\"y\":[70.2576317591935,76.2233184124192,82.69556095649047,89.7173718534197,97.3354158214104,105.60031995370744,114.56701017013026,124.29507623723742,134.84916778293106,146.29942393728768,158.72193945487174,172.199270416232,186.82098286931216,202.68424805687133,219.89448818560643,238.5660770285525,258.82310001674085,280.80017887144237,304.6433662572391,330.51111640150367,358.5753381307135,389.02253732174484,422.05505636051316,457.8924188450075,496.7727884691864,538.9545517830139,584.7180353471527,634.3673686939804,688.2325054755713,746.6714162305506,810.0724673422521,878.8570019979755,953.4821403015766,1034.4438171480479,1122.2800780488353,1217.5746548108957,1320.9608448323206,1433.1257197950858,1554.814691724563,1686.8364667603653,1830.0684195597125,1985.4624240498886,2154.051179279112,2336.955072405413,2535.3896244327484,2750.6735681763575,2984.237612140922,3237.6339485534954,3512.5465687385404,3810.8024543877927,4134.38371909853,4485.440780869079]},\"selected\":{\"id\":\"1336\"},\"selection_policy\":{\"id\":\"1335\"}},\"id\":\"1266\",\"type\":\"ColumnDataSource\"},{\"attributes\":{\"days\":[1,15]},\"id\":\"1282\",\"type\":\"DaysTicker\"},{\"attributes\":{\"months\":[0,1,2,3,4,5,6,7,8,9,10,11]},\"id\":\"1283\",\"type\":\"MonthsTicker\"},{\"attributes\":{\"active_drag\":\"auto\",\"active_inspect\":\"auto\",\"active_multi\":null,\"active_scroll\":\"auto\",\"active_tap\":\"auto\",\"tools\":[{\"id\":\"1241\"},{\"id\":\"1242\"},{\"id\":\"1243\"},{\"id\":\"1244\"}]},\"id\":\"1246\",\"type\":\"Toolbar\"},{\"attributes\":{\"text\":\"Indiana Cases for counties Lake\"},\"id\":\"1223\",\"type\":\"Title\"},{\"attributes\":{\"code\":\"\\n        let date = new Date(tick);\\n        return `${date.getDate()}-${date.getMonth()}-${date.getFullYear()}`\\n    \"},\"id\":\"1293\",\"type\":\"FuncTickFormatter\"},{\"attributes\":{\"base\":60,\"mantissas\":[1,2,5,10,15,20,30],\"max_interval\":1800000.0,\"min_interval\":1000.0,\"num_minor_ticks\":0},\"id\":\"1277\",\"type\":\"AdaptiveTicker\"},{\"attributes\":{\"months\":[0,4,8]},\"id\":\"1285\",\"type\":\"MonthsTicker\"},{\"attributes\":{\"fill_alpha\":0.1,\"fill_color\":\"lightblue\",\"x\":{\"field\":\"x\"},\"y1\":{\"expr\":{\"id\":\"1254\"}},\"y2\":{\"expr\":{\"id\":\"1255\"}}},\"id\":\"1263\",\"type\":\"VArea\"},{\"attributes\":{\"bottom_units\":\"screen\",\"fill_alpha\":0.5,\"fill_color\":\"lightgrey\",\"left_units\":\"screen\",\"level\":\"overlay\",\"line_alpha\":1.0,\"line_color\":\"black\",\"line_dash\":[4,4],\"line_width\":2,\"render_mode\":\"css\",\"right_units\":\"screen\",\"top_units\":\"screen\"},\"id\":\"1245\",\"type\":\"BoxAnnotation\"},{\"attributes\":{\"months\":[0,6]},\"id\":\"1286\",\"type\":\"MonthsTicker\"},{\"attributes\":{\"axis\":{\"id\":\"1233\"},\"ticker\":null},\"id\":\"1236\",\"type\":\"Grid\"},{\"attributes\":{\"base\":24,\"mantissas\":[1,2,4,6,8,12],\"max_interval\":43200000.0,\"min_interval\":3600000.0,\"num_minor_ticks\":0},\"id\":\"1278\",\"type\":\"AdaptiveTicker\"},{\"attributes\":{},\"id\":\"1290\",\"type\":\"Selection\"},{\"attributes\":{\"items\":[{\"id\":\"1292\"}],\"location\":\"top_left\"},\"id\":\"1291\",\"type\":\"Legend\"},{\"attributes\":{\"data\":{\"cases\":[2,3,4,6,7,10,11,17,19,31,47,68,85,97,146,180,215,244,313,335,369,418,461,525,576,676,744,796,819,876,978,1026,1095,1105,1182,1227,1292,1346,1445,1515,1533,1586],\"deaths\":[0,0,0,0,0,0,0,0,0,0,0,1,1,1,5,6,6,7,8,8,8,11,12,19,23,25,25,26,31,33,41,42,43,45,47,54,57,61,63,67,69,70],\"x\":{\"__ndarray__\":\"AACAo1wOd0IAAEAJrw53QgAAAG8BD3dCAADA1FMPd0IAAIA6pg93QgAAQKD4D3dCAAAABksQd0IAAMBrnRB3QgAAgNHvEHdCAABAN0IRd0IAAACdlBF3QgAAwALnEXdCAACAaDkSd0IAAEDOixJ3QgAAADTeEndCAADAmTATd0IAAID/ghN3QgAAQGXVE3dCAAAAyycUd0IAAMAwehR3QgAAgJbMFHdCAABA/B4Vd0IAAABicRV3QgAAwMfDFXdCAACALRYWd0IAAECTaBZ3QgAAAPm6FndCAADAXg0Xd0IAAIDEXxd3QgAAQCqyF3dCAAAAkAQYd0IAAMD1Vhh3QgAAgFupGHdCAABAwfsYd0IAAAAnThl3QgAAwIygGXdCAACA8vIZd0IAAEBYRRp3QgAAAL6XGndCAADAI+oad0IAAICJPBt3QgAAQO+OG3dC\",\"dtype\":\"float64\",\"shape\":[42]}},\"selected\":{\"id\":\"1290\"},\"selection_policy\":{\"id\":\"1289\"}},\"id\":\"1251\",\"type\":\"ColumnDataSource\"},{\"attributes\":{},\"id\":\"1287\",\"type\":\"YearsTicker\"},{\"attributes\":{\"data_source\":{\"id\":\"1251\"},\"glyph\":{\"id\":\"1257\"},\"hover_glyph\":null,\"muted_glyph\":null,\"name\":\"deaths\",\"nonselection_glyph\":{\"id\":\"1258\"},\"selection_glyph\":null,\"view\":{\"id\":\"1260\"}},\"id\":\"1259\",\"type\":\"GlyphRenderer\"},{\"attributes\":{\"days\":[1,4,7,10,13,16,19,22,25,28]},\"id\":\"1280\",\"type\":\"DaysTicker\"},{\"attributes\":{},\"id\":\"1289\",\"type\":\"UnionRenderers\"},{\"attributes\":{\"data_source\":{\"id\":\"1251\"},\"glyph\":{\"id\":\"1262\"},\"hover_glyph\":null,\"muted_glyph\":null,\"name\":\"cases\",\"nonselection_glyph\":{\"id\":\"1263\"},\"selection_glyph\":null,\"view\":{\"id\":\"1265\"}},\"id\":\"1264\",\"type\":\"GlyphRenderer\"},{\"attributes\":{\"source\":{\"id\":\"1251\"}},\"id\":\"1265\",\"type\":\"CDSView\"},{\"attributes\":{\"line_alpha\":0.1,\"line_color\":\"gray\",\"line_dash\":[6],\"x\":{\"field\":\"x\"},\"y\":{\"field\":\"y\"}},\"id\":\"1268\",\"type\":\"Line\"},{\"attributes\":{\"fields\":[]},\"id\":\"1252\",\"type\":\"Stack\"},{\"attributes\":{},\"id\":\"1244\",\"type\":\"ResetTool\"},{\"attributes\":{\"axis_label\":\"# of Cases & Deaths\",\"formatter\":{\"id\":\"1275\"},\"ticker\":{\"id\":\"1238\"}},\"id\":\"1237\",\"type\":\"LinearAxis\"},{\"attributes\":{\"fill_color\":\"red\",\"x\":{\"field\":\"x\"},\"y1\":{\"expr\":{\"id\":\"1252\"}},\"y2\":{\"expr\":{\"id\":\"1253\"}}},\"id\":\"1257\",\"type\":\"VArea\"},{\"attributes\":{\"source\":{\"id\":\"1266\"}},\"id\":\"1270\",\"type\":\"CDSView\"},{\"attributes\":{\"label\":{\"value\":\"Projected # of Cases\"},\"renderers\":[{\"id\":\"1269\"}]},\"id\":\"1292\",\"type\":\"LegendItem\"},{\"attributes\":{\"fields\":[\"deaths\",\"cases\"]},\"id\":\"1255\",\"type\":\"Stack\"},{\"attributes\":{\"fields\":[\"deaths\"]},\"id\":\"1253\",\"type\":\"Stack\"},{\"attributes\":{\"axis_label\":\"Date\",\"formatter\":{\"id\":\"1293\"},\"ticker\":{\"id\":\"1234\"}},\"id\":\"1233\",\"type\":\"DatetimeAxis\"},{\"attributes\":{\"days\":[1,2,3,4,5,6,7,8,9,10,11,12,13,14,15,16,17,18,19,20,21,22,23,24,25,26,27,28,29,30,31]},\"id\":\"1279\",\"type\":\"DaysTicker\"},{\"attributes\":{},\"id\":\"1335\",\"type\":\"UnionRenderers\"},{\"attributes\":{\"end\":1903},\"id\":\"1227\",\"type\":\"Range1d\"},{\"attributes\":{\"data_source\":{\"id\":\"1266\"},\"glyph\":{\"id\":\"1267\"},\"hover_glyph\":null,\"muted_glyph\":null,\"nonselection_glyph\":{\"id\":\"1268\"},\"selection_glyph\":null,\"view\":{\"id\":\"1270\"}},\"id\":\"1269\",\"type\":\"GlyphRenderer\"},{\"attributes\":{\"mantissas\":[1,2,5],\"max_interval\":500.0,\"num_minor_ticks\":0},\"id\":\"1276\",\"type\":\"AdaptiveTicker\"},{\"attributes\":{\"source\":{\"id\":\"1251\"}},\"id\":\"1260\",\"type\":\"CDSView\"},{\"attributes\":{},\"id\":\"1275\",\"type\":\"BasicTickFormatter\"},{\"attributes\":{\"fill_color\":\"lightblue\",\"x\":{\"field\":\"x\"},\"y1\":{\"expr\":{\"id\":\"1254\"}},\"y2\":{\"expr\":{\"id\":\"1255\"}}},\"id\":\"1262\",\"type\":\"VArea\"},{\"attributes\":{},\"id\":\"1241\",\"type\":\"PanTool\"},{\"attributes\":{},\"id\":\"1242\",\"type\":\"WheelZoomTool\"},{\"attributes\":{\"days\":[1,8,15,22]},\"id\":\"1281\",\"type\":\"DaysTicker\"},{\"attributes\":{\"fill_alpha\":0.1,\"fill_color\":\"red\",\"x\":{\"field\":\"x\"},\"y1\":{\"expr\":{\"id\":\"1252\"}},\"y2\":{\"expr\":{\"id\":\"1253\"}}},\"id\":\"1258\",\"type\":\"VArea\"},{\"attributes\":{\"axis\":{\"id\":\"1237\"},\"dimension\":1,\"ticker\":null},\"id\":\"1240\",\"type\":\"Grid\"},{\"attributes\":{\"overlay\":{\"id\":\"1245\"}},\"id\":\"1243\",\"type\":\"BoxZoomTool\"}],\"root_ids\":[\"1222\"]},\"title\":\"Bokeh Application\",\"version\":\"2.0.1\"}};\n",
       "  var render_items = [{\"docid\":\"c050da35-b22a-4796-b34f-f7329ba6e5f4\",\"root_ids\":[\"1222\"],\"roots\":{\"1222\":\"d84f14fe-ff34-4ede-bce7-c3758f9094f8\"}}];\n",
       "  root.Bokeh.embed.embed_items_notebook(docs_json, render_items);\n",
       "\n",
       "  }\n",
       "  if (root.Bokeh !== undefined) {\n",
       "    embed_document(root);\n",
       "  } else {\n",
       "    var attempts = 0;\n",
       "    var timer = setInterval(function(root) {\n",
       "      if (root.Bokeh !== undefined) {\n",
       "        clearInterval(timer);\n",
       "        embed_document(root);\n",
       "      } else {\n",
       "        attempts++;\n",
       "        if (attempts > 100) {\n",
       "          clearInterval(timer);\n",
       "          console.log(\"Bokeh: ERROR: Unable to run BokehJS code because BokehJS library is missing\");\n",
       "        }\n",
       "      }\n",
       "    }, 10, root)\n",
       "  }\n",
       "})(window);"
      ],
      "application/vnd.bokehjs_exec.v0+json": ""
     },
     "metadata": {
      "application/vnd.bokehjs_exec.v0+json": {
       "id": "1222"
      }
     },
     "output_type": "display_data"
    }
   ],
   "source": [
    "plot_state_counties_curve(df, \"Indiana\", ['Lake'])"
   ]
  },
  {
   "cell_type": "code",
   "execution_count": 5,
   "metadata": {},
   "outputs": [
    {
     "name": "stdout",
     "output_type": "stream",
     "text": [
      "y ≈ exp(5.451117409912162) * exp(0.0627404233935188 * x)\n",
      "y = 233.01839755501783 * exp(0.0627404233935188 * x)\n"
     ]
    },
    {
     "data": {
      "text/html": [
       "\n",
       "\n",
       "\n",
       "\n",
       "\n",
       "\n",
       "  <div class=\"bk-root\" id=\"ef1610ab-8376-497d-b682-72e8939c83ed\" data-root-id=\"1463\"></div>\n"
      ]
     },
     "metadata": {},
     "output_type": "display_data"
    },
    {
     "data": {
      "application/javascript": [
       "(function(root) {\n",
       "  function embed_document(root) {\n",
       "    \n",
       "  var docs_json = {\"7a4d673c-4d49-483f-bbdc-6139437df30f\":{\"roots\":{\"references\":[{\"attributes\":{\"below\":[{\"id\":\"1474\"}],\"center\":[{\"id\":\"1477\"},{\"id\":\"1481\"},{\"id\":\"1532\"}],\"left\":[{\"id\":\"1478\"}],\"plot_width\":880,\"renderers\":[{\"id\":\"1500\"},{\"id\":\"1505\"},{\"id\":\"1510\"}],\"title\":{\"id\":\"1464\"},\"toolbar\":{\"id\":\"1487\"},\"x_range\":{\"id\":\"1466\"},\"x_scale\":{\"id\":\"1470\"},\"y_range\":{\"id\":\"1468\"},\"y_scale\":{\"id\":\"1472\"}},\"id\":\"1463\",\"subtype\":\"Figure\",\"type\":\"Plot\"},{\"attributes\":{\"line_alpha\":0.1,\"line_color\":\"gray\",\"line_dash\":[6],\"x\":{\"field\":\"x\"},\"y\":{\"field\":\"y\"}},\"id\":\"1509\",\"type\":\"Line\"},{\"attributes\":{\"data_source\":{\"id\":\"1507\"},\"glyph\":{\"id\":\"1508\"},\"hover_glyph\":null,\"muted_glyph\":null,\"nonselection_glyph\":{\"id\":\"1509\"},\"selection_glyph\":null,\"view\":{\"id\":\"1511\"}},\"id\":\"1510\",\"type\":\"GlyphRenderer\"},{\"attributes\":{\"fields\":[\"deaths\"]},\"id\":\"1494\",\"type\":\"Stack\"},{\"attributes\":{},\"id\":\"1472\",\"type\":\"LinearScale\"},{\"attributes\":{},\"id\":\"1598\",\"type\":\"Selection\"},{\"attributes\":{\"end\":5911},\"id\":\"1468\",\"type\":\"Range1d\"},{\"attributes\":{\"text\":\"Indiana Cases for counties Marion\"},\"id\":\"1464\",\"type\":\"Title\"},{\"attributes\":{\"fill_color\":\"lightblue\",\"x\":{\"field\":\"x\"},\"y1\":{\"expr\":{\"id\":\"1495\"}},\"y2\":{\"expr\":{\"id\":\"1496\"}}},\"id\":\"1503\",\"type\":\"VArea\"},{\"attributes\":{},\"id\":\"1528\",\"type\":\"YearsTicker\"},{\"attributes\":{\"items\":[{\"id\":\"1533\"}],\"location\":\"top_left\"},\"id\":\"1532\",\"type\":\"Legend\"},{\"attributes\":{\"days\":[1,15]},\"id\":\"1523\",\"type\":\"DaysTicker\"},{\"attributes\":{\"months\":[0,2,4,6,8,10]},\"id\":\"1525\",\"type\":\"MonthsTicker\"},{\"attributes\":{},\"id\":\"1530\",\"type\":\"UnionRenderers\"},{\"attributes\":{\"data_source\":{\"id\":\"1492\"},\"glyph\":{\"id\":\"1503\"},\"hover_glyph\":null,\"muted_glyph\":null,\"name\":\"cases\",\"nonselection_glyph\":{\"id\":\"1504\"},\"selection_glyph\":null,\"view\":{\"id\":\"1506\"}},\"id\":\"1505\",\"type\":\"GlyphRenderer\"},{\"attributes\":{\"days\":[1,2,3,4,5,6,7,8,9,10,11,12,13,14,15,16,17,18,19,20,21,22,23,24,25,26,27,28,29,30,31]},\"id\":\"1520\",\"type\":\"DaysTicker\"},{\"attributes\":{\"num_minor_ticks\":5,\"tickers\":[{\"id\":\"1517\"},{\"id\":\"1518\"},{\"id\":\"1519\"},{\"id\":\"1520\"},{\"id\":\"1521\"},{\"id\":\"1522\"},{\"id\":\"1523\"},{\"id\":\"1524\"},{\"id\":\"1525\"},{\"id\":\"1526\"},{\"id\":\"1527\"},{\"id\":\"1528\"}]},\"id\":\"1475\",\"type\":\"DatetimeTicker\"},{\"attributes\":{\"fill_alpha\":0.1,\"fill_color\":\"lightblue\",\"x\":{\"field\":\"x\"},\"y1\":{\"expr\":{\"id\":\"1495\"}},\"y2\":{\"expr\":{\"id\":\"1496\"}}},\"id\":\"1504\",\"type\":\"VArea\"},{\"attributes\":{\"months\":[0,6]},\"id\":\"1527\",\"type\":\"MonthsTicker\"},{\"attributes\":{\"axis_label\":\"Date\",\"formatter\":{\"id\":\"1534\"},\"ticker\":{\"id\":\"1475\"}},\"id\":\"1474\",\"type\":\"DatetimeAxis\"},{\"attributes\":{\"end\":1588118400000.0,\"start\":1583452800000.0},\"id\":\"1466\",\"type\":\"Range1d\"},{\"attributes\":{\"data\":{\"x\":[1583452800000.0,1583539200000.0,1583625600000.0,1583712000000.0,1583798400000.0,1583884800000.0,1583971200000.0,1584057600000.0,1584144000000.0,1584230400000.0,1584316800000.0,1584403200000.0,1584489600000.0,1584576000000.0,1584662400000.0,1584748800000.0,1584835200000.0,1584921600000.0,1585008000000.0,1585094400000.0,1585180800000.0,1585267200000.0,1585353600000.0,1585440000000.0,1585526400000.0,1585612800000.0,1585699200000.0,1585785600000.0,1585872000000.0,1585958400000.0,1586044800000.0,1586131200000.0,1586217600000.0,1586304000000.0,1586390400000.0,1586476800000.0,1586563200000.0,1586649600000.0,1586736000000.0,1586822400000.0,1586908800000.0,1586995200000.0,1587081600000.0,1587168000000.0,1587254400000.0,1587340800000.0,1587427200000.0,1587513600000.0,1587600000000.0,1587686400000.0,1587772800000.0,1587859200000.0,1587945600000.0,1588032000000.0,1588118400000.0,1588204800000.0,1588291200000.0,1588377600000.0,1588464000000.0,1588550400000.0,1588636800000.0,1588723200000.0,1588809600000.0],\"y\":[233.01839755501783,248.10643644451505,264.1714321748438,281.2766431108478,299.4894236230032,318.8814893054996,339.52919936730353,361.51385730816065,384.92203106349604,409.8458938788303,436.38358725595725,464.6396074000388,494.7252166893107,526.7588817876248,560.8667401249614,597.183096582751,635.8509523397777,677.0225679610772,720.8600629470781,767.5360541037973,817.2343352477789,870.1506009222071,926.4932169739453,986.4840410257572,1050.3592960744522,1118.3705006548737,1190.7854592323956,1267.8893167237516,1349.9856812985238,1437.3978198825055,1530.4699310704004,1629.5685004601594,1735.083743745777,1847.431143250958,1967.053083953976,2094.420595445835,2230.0352066809387,2374.4309208236623,2528.17631796705,2691.8767940034386,2866.1769444628862,3051.763102706145,3249.3660424666905,3459.763855383472,3683.7850148551306,3922.311638280038,4176.282960527776,4446.699032319316,4734.624658078897,5041.193588763438,5367.61298617942,5715.168176366167,6085.227710762671,6479.248755087104,6898.782827148511,7345.481906184258,7821.104937779599,8327.52475998353,8866.73547789355,9440.860315747843,10052.159977443791,10703.041548403478,11396.067973838784]},\"selected\":{\"id\":\"1598\"},\"selection_policy\":{\"id\":\"1597\"}},\"id\":\"1507\",\"type\":\"ColumnDataSource\"},{\"attributes\":{\"mantissas\":[1,2,5],\"max_interval\":500.0,\"num_minor_ticks\":0},\"id\":\"1517\",\"type\":\"AdaptiveTicker\"},{\"attributes\":{},\"id\":\"1531\",\"type\":\"Selection\"},{\"attributes\":{\"label\":{\"value\":\"Projected # of Cases\"},\"renderers\":[{\"id\":\"1510\"}]},\"id\":\"1533\",\"type\":\"LegendItem\"},{\"attributes\":{\"source\":{\"id\":\"1492\"}},\"id\":\"1506\",\"type\":\"CDSView\"},{\"attributes\":{\"axis\":{\"id\":\"1478\"},\"dimension\":1,\"ticker\":null},\"id\":\"1481\",\"type\":\"Grid\"},{\"attributes\":{\"base\":60,\"mantissas\":[1,2,5,10,15,20,30],\"max_interval\":1800000.0,\"min_interval\":1000.0,\"num_minor_ticks\":0},\"id\":\"1518\",\"type\":\"AdaptiveTicker\"},{\"attributes\":{\"days\":[1,8,15,22]},\"id\":\"1522\",\"type\":\"DaysTicker\"},{\"attributes\":{},\"id\":\"1597\",\"type\":\"UnionRenderers\"},{\"attributes\":{},\"id\":\"1482\",\"type\":\"PanTool\"},{\"attributes\":{},\"id\":\"1516\",\"type\":\"BasicTickFormatter\"},{\"attributes\":{\"base\":24,\"mantissas\":[1,2,4,6,8,12],\"max_interval\":43200000.0,\"min_interval\":3600000.0,\"num_minor_ticks\":0},\"id\":\"1519\",\"type\":\"AdaptiveTicker\"},{\"attributes\":{\"axis\":{\"id\":\"1474\"},\"ticker\":null},\"id\":\"1477\",\"type\":\"Grid\"},{\"attributes\":{\"data_source\":{\"id\":\"1492\"},\"glyph\":{\"id\":\"1498\"},\"hover_glyph\":null,\"muted_glyph\":null,\"name\":\"deaths\",\"nonselection_glyph\":{\"id\":\"1499\"},\"selection_glyph\":null,\"view\":{\"id\":\"1501\"}},\"id\":\"1500\",\"type\":\"GlyphRenderer\"},{\"attributes\":{\"days\":[1,4,7,10,13,16,19,22,25,28]},\"id\":\"1521\",\"type\":\"DaysTicker\"},{\"attributes\":{\"months\":[0,1,2,3,4,5,6,7,8,9,10,11]},\"id\":\"1524\",\"type\":\"MonthsTicker\"},{\"attributes\":{},\"id\":\"1485\",\"type\":\"ResetTool\"},{\"attributes\":{\"code\":\"\\n        let date = new Date(tick);\\n        return `${date.getDate()}-${date.getMonth()}-${date.getFullYear()}`\\n    \"},\"id\":\"1534\",\"type\":\"FuncTickFormatter\"},{\"attributes\":{\"overlay\":{\"id\":\"1486\"}},\"id\":\"1484\",\"type\":\"BoxZoomTool\"},{\"attributes\":{},\"id\":\"1479\",\"type\":\"BasicTicker\"},{\"attributes\":{\"fill_color\":\"red\",\"x\":{\"field\":\"x\"},\"y1\":{\"expr\":{\"id\":\"1493\"}},\"y2\":{\"expr\":{\"id\":\"1494\"}}},\"id\":\"1498\",\"type\":\"VArea\"},{\"attributes\":{\"source\":{\"id\":\"1492\"}},\"id\":\"1501\",\"type\":\"CDSView\"},{\"attributes\":{},\"id\":\"1483\",\"type\":\"WheelZoomTool\"},{\"attributes\":{\"axis_label\":\"# of Cases & Deaths\",\"formatter\":{\"id\":\"1516\"},\"ticker\":{\"id\":\"1479\"}},\"id\":\"1478\",\"type\":\"LinearAxis\"},{\"attributes\":{\"fields\":[\"deaths\",\"cases\"]},\"id\":\"1496\",\"type\":\"Stack\"},{\"attributes\":{\"fields\":[\"deaths\"]},\"id\":\"1495\",\"type\":\"Stack\"},{\"attributes\":{\"source\":{\"id\":\"1507\"}},\"id\":\"1511\",\"type\":\"CDSView\"},{\"attributes\":{\"fields\":[]},\"id\":\"1493\",\"type\":\"Stack\"},{\"attributes\":{\"months\":[0,4,8]},\"id\":\"1526\",\"type\":\"MonthsTicker\"},{\"attributes\":{},\"id\":\"1470\",\"type\":\"LinearScale\"},{\"attributes\":{\"data\":{\"cases\":[1,1,1,1,1,1,2,2,3,6,7,9,11,19,25,46,82,110,161,226,293,484,584,676,804,964,1117,1304,1429,1570,1760,1956,2141,2290,2415,2600,2742,2887,3012,3063,3204,3320,3518,3624,3889,4052,4176,4263,4408,4537,4727,4796,4926],\"deaths\":[0,0,0,0,0,0,0,0,0,0,1,1,1,1,2,2,3,3,6,6,6,8,10,10,12,17,21,24,33,34,37,41,48,58,81,107,118,123,123,141,155,164,182,190,192,192,206,214,228,238,255,259,267],\"x\":{\"__ndarray__\":\"AABARNIKd0IAAACqJAt3QgAAwA93C3dCAACAdckLd0IAAEDbGwx3QgAAAEFuDHdCAADApsAMd0IAAIAMEw13QgAAQHJlDXdCAAAA2LcNd0IAAMA9Cg53QgAAgKNcDndCAABACa8Od0IAAABvAQ93QgAAwNRTD3dCAACAOqYPd0IAAECg+A93QgAAAAZLEHdCAADAa50Qd0IAAIDR7xB3QgAAQDdCEXdCAAAAnZQRd0IAAMAC5xF3QgAAgGg5EndCAABAzosSd0IAAAA03hJ3QgAAwJkwE3dCAACA/4ITd0IAAEBl1RN3QgAAAMsnFHdCAADAMHoUd0IAAICWzBR3QgAAQPweFXdCAAAAYnEVd0IAAMDHwxV3QgAAgC0WFndCAABAk2gWd0IAAAD5uhZ3QgAAwF4NF3dCAACAxF8Xd0IAAEAqshd3QgAAAJAEGHdCAADA9VYYd0IAAIBbqRh3QgAAQMH7GHdCAAAAJ04Zd0IAAMCMoBl3QgAAgPLyGXdCAABAWEUad0IAAAC+lxp3QgAAwCPqGndCAACAiTwbd0IAAEDvjht3Qg==\",\"dtype\":\"float64\",\"shape\":[53]}},\"selected\":{\"id\":\"1531\"},\"selection_policy\":{\"id\":\"1530\"}},\"id\":\"1492\",\"type\":\"ColumnDataSource\"},{\"attributes\":{\"fill_alpha\":0.1,\"fill_color\":\"red\",\"x\":{\"field\":\"x\"},\"y1\":{\"expr\":{\"id\":\"1493\"}},\"y2\":{\"expr\":{\"id\":\"1494\"}}},\"id\":\"1499\",\"type\":\"VArea\"},{\"attributes\":{\"line_alpha\":0.75,\"line_color\":\"gray\",\"line_dash\":[6],\"x\":{\"field\":\"x\"},\"y\":{\"field\":\"y\"}},\"id\":\"1508\",\"type\":\"Line\"},{\"attributes\":{\"active_drag\":\"auto\",\"active_inspect\":\"auto\",\"active_multi\":null,\"active_scroll\":\"auto\",\"active_tap\":\"auto\",\"tools\":[{\"id\":\"1482\"},{\"id\":\"1483\"},{\"id\":\"1484\"},{\"id\":\"1485\"}]},\"id\":\"1487\",\"type\":\"Toolbar\"},{\"attributes\":{\"bottom_units\":\"screen\",\"fill_alpha\":0.5,\"fill_color\":\"lightgrey\",\"left_units\":\"screen\",\"level\":\"overlay\",\"line_alpha\":1.0,\"line_color\":\"black\",\"line_dash\":[4,4],\"line_width\":2,\"render_mode\":\"css\",\"right_units\":\"screen\",\"top_units\":\"screen\"},\"id\":\"1486\",\"type\":\"BoxAnnotation\"}],\"root_ids\":[\"1463\"]},\"title\":\"Bokeh Application\",\"version\":\"2.0.1\"}};\n",
       "  var render_items = [{\"docid\":\"7a4d673c-4d49-483f-bbdc-6139437df30f\",\"root_ids\":[\"1463\"],\"roots\":{\"1463\":\"ef1610ab-8376-497d-b682-72e8939c83ed\"}}];\n",
       "  root.Bokeh.embed.embed_items_notebook(docs_json, render_items);\n",
       "\n",
       "  }\n",
       "  if (root.Bokeh !== undefined) {\n",
       "    embed_document(root);\n",
       "  } else {\n",
       "    var attempts = 0;\n",
       "    var timer = setInterval(function(root) {\n",
       "      if (root.Bokeh !== undefined) {\n",
       "        clearInterval(timer);\n",
       "        embed_document(root);\n",
       "      } else {\n",
       "        attempts++;\n",
       "        if (attempts > 100) {\n",
       "          clearInterval(timer);\n",
       "          console.log(\"Bokeh: ERROR: Unable to run BokehJS code because BokehJS library is missing\");\n",
       "        }\n",
       "      }\n",
       "    }, 10, root)\n",
       "  }\n",
       "})(window);"
      ],
      "application/vnd.bokehjs_exec.v0+json": ""
     },
     "metadata": {
      "application/vnd.bokehjs_exec.v0+json": {
       "id": "1463"
      }
     },
     "output_type": "display_data"
    }
   ],
   "source": [
    "plot_state_counties_curve(df, \"Indiana\", ['Marion'])"
   ]
  },
  {
   "cell_type": "code",
   "execution_count": 6,
   "metadata": {},
   "outputs": [
    {
     "name": "stdout",
     "output_type": "stream",
     "text": [
      "y ≈ exp(3.3178596243736216) * exp(0.07684498036348972 * x)\n",
      "y = 27.60121033209161 * exp(0.07684498036348972 * x)\n"
     ]
    },
    {
     "data": {
      "text/html": [
       "\n",
       "\n",
       "\n",
       "\n",
       "\n",
       "\n",
       "  <div class=\"bk-root\" id=\"82110c17-17f6-473d-85b7-7b9790ecaca2\" data-root-id=\"1725\"></div>\n"
      ]
     },
     "metadata": {},
     "output_type": "display_data"
    },
    {
     "data": {
      "application/javascript": [
       "(function(root) {\n",
       "  function embed_document(root) {\n",
       "    \n",
       "  var docs_json = {\"a78a9d96-fb37-4dbf-b1c7-f45cce1865ad\":{\"roots\":{\"references\":[{\"attributes\":{\"below\":[{\"id\":\"1736\"}],\"center\":[{\"id\":\"1739\"},{\"id\":\"1743\"},{\"id\":\"1794\"}],\"left\":[{\"id\":\"1740\"}],\"plot_width\":880,\"renderers\":[{\"id\":\"1762\"},{\"id\":\"1767\"},{\"id\":\"1772\"}],\"title\":{\"id\":\"1726\"},\"toolbar\":{\"id\":\"1749\"},\"x_range\":{\"id\":\"1728\"},\"x_scale\":{\"id\":\"1732\"},\"y_range\":{\"id\":\"1730\"},\"y_scale\":{\"id\":\"1734\"}},\"id\":\"1725\",\"subtype\":\"Figure\",\"type\":\"Plot\"},{\"attributes\":{\"axis\":{\"id\":\"1740\"},\"dimension\":1,\"ticker\":null},\"id\":\"1743\",\"type\":\"Grid\"},{\"attributes\":{\"fields\":[\"deaths\"]},\"id\":\"1756\",\"type\":\"Stack\"},{\"attributes\":{},\"id\":\"1741\",\"type\":\"BasicTicker\"},{\"attributes\":{\"bottom_units\":\"screen\",\"fill_alpha\":0.5,\"fill_color\":\"lightgrey\",\"left_units\":\"screen\",\"level\":\"overlay\",\"line_alpha\":1.0,\"line_color\":\"black\",\"line_dash\":[4,4],\"line_width\":2,\"render_mode\":\"css\",\"right_units\":\"screen\",\"top_units\":\"screen\"},\"id\":\"1748\",\"type\":\"BoxAnnotation\"},{\"attributes\":{},\"id\":\"1792\",\"type\":\"UnionRenderers\"},{\"attributes\":{\"active_drag\":\"auto\",\"active_inspect\":\"auto\",\"active_multi\":null,\"active_scroll\":\"auto\",\"active_tap\":\"auto\",\"tools\":[{\"id\":\"1744\"},{\"id\":\"1745\"},{\"id\":\"1746\"},{\"id\":\"1747\"}]},\"id\":\"1749\",\"type\":\"Toolbar\"},{\"attributes\":{\"data\":{\"cases\":[1,1,1,1,1,1,2,2,2,2,2,2,2,2,2,2,2,2,2,2,2,2,2,2,2,2,2,2,2,2,2,2,2,2,2,2,3,3,4,4,4,5,6,6,7,11,17,22,27,40,51,76,76,107,179,279,412,548,805,922,1194,1418,1904,2239,2613,3445,3727,4496,5152,5575,6473,7439,8043,8728,9509,10520,11415,12472,13417,14585,15474,16323,17306,18087,19391,20395,21272,22101,23181,24546,25811,27616,29058,30574,31953],\"deaths\":[0,0,0,0,0,0,0,0,0,0,0,0,0,0,0,0,0,0,0,0,0,0,0,0,0,0,0,0,0,0,0,0,0,0,0,0,0,0,0,0,0,0,0,0,0,0,0,0,0,0,0,0,0,1,1,2,3,4,6,9,12,13,18,20,28,40,44,61,95,107,141,167,186,209,249,312,351,398,453,485,543,577,630,722,760,860,877,915,1002,1072,1142,1220,1267,1313,1347],\"x\":{\"__ndarray__\":\"AADAkk39dkIAAID4n/12QgAAQF7y/XZCAAAAxET+dkIAAMApl/52QgAAgI/p/nZCAABA9Tv/dkIAAABbjv92QgAAwMDg/3ZCAACAJjMAd0IAAECMhQB3QgAAAPLXAHdCAADAVyoBd0IAAIC9fAF3QgAAQCPPAXdCAAAAiSECd0IAAMDucwJ3QgAAgFTGAndCAABAuhgDd0IAAAAgawN3QgAAwIW9A3dCAACA6w8Ed0IAAEBRYgR3QgAAALe0BHdCAADAHAcFd0IAAICCWQV3QgAAQOirBXdCAAAATv4Fd0IAAMCzUAZ3QgAAgBmjBndCAABAf/UGd0IAAADlRwd3QgAAwEqaB3dCAACAsOwHd0IAAEAWPwh3QgAAAHyRCHdCAADA4eMId0IAAIBHNgl3QgAAQK2ICXdCAAAAE9sJd0IAAMB4LQp3QgAAgN5/CndCAABARNIKd0IAAACqJAt3QgAAwA93C3dCAACAdckLd0IAAEDbGwx3QgAAAEFuDHdCAADApsAMd0IAAIAMEw13QgAAQHJlDXdCAAAA2LcNd0IAAMA9Cg53QgAAgKNcDndCAABACa8Od0IAAABvAQ93QgAAwNRTD3dCAACAOqYPd0IAAECg+A93QgAAAAZLEHdCAADAa50Qd0IAAIDR7xB3QgAAQDdCEXdCAAAAnZQRd0IAAMAC5xF3QgAAgGg5EndCAABAzosSd0IAAAA03hJ3QgAAwJkwE3dCAACA/4ITd0IAAEBl1RN3QgAAAMsnFHdCAADAMHoUd0IAAICWzBR3QgAAQPweFXdCAAAAYnEVd0IAAMDHwxV3QgAAgC0WFndCAABAk2gWd0IAAAD5uhZ3QgAAwF4NF3dCAACAxF8Xd0IAAEAqshd3QgAAAJAEGHdCAADA9VYYd0IAAIBbqRh3QgAAQMH7GHdCAAAAJ04Zd0IAAMCMoBl3QgAAgPLyGXdCAABAWEUad0IAAAC+lxp3QgAAwCPqGndCAACAiTwbd0IAAEDvjht3Qg==\",\"dtype\":\"float64\",\"shape\":[95]}},\"selected\":{\"id\":\"1793\"},\"selection_policy\":{\"id\":\"1792\"}},\"id\":\"1754\",\"type\":\"ColumnDataSource\"},{\"attributes\":{},\"id\":\"1790\",\"type\":\"YearsTicker\"},{\"attributes\":{},\"id\":\"1732\",\"type\":\"LinearScale\"},{\"attributes\":{\"line_alpha\":0.75,\"line_color\":\"gray\",\"line_dash\":[6],\"x\":{\"field\":\"x\"},\"y\":{\"field\":\"y\"}},\"id\":\"1770\",\"type\":\"Line\"},{\"attributes\":{},\"id\":\"1793\",\"type\":\"Selection\"},{\"attributes\":{\"code\":\"\\n        let date = new Date(tick);\\n        return `${date.getDate()}-${date.getMonth()}-${date.getFullYear()}`\\n    \"},\"id\":\"1796\",\"type\":\"FuncTickFormatter\"},{\"attributes\":{\"data_source\":{\"id\":\"1769\"},\"glyph\":{\"id\":\"1770\"},\"hover_glyph\":null,\"muted_glyph\":null,\"nonselection_glyph\":{\"id\":\"1771\"},\"selection_glyph\":null,\"view\":{\"id\":\"1773\"}},\"id\":\"1772\",\"type\":\"GlyphRenderer\"},{\"attributes\":{\"fields\":[]},\"id\":\"1755\",\"type\":\"Stack\"},{\"attributes\":{},\"id\":\"1744\",\"type\":\"PanTool\"},{\"attributes\":{\"months\":[0,2,4,6,8,10]},\"id\":\"1787\",\"type\":\"MonthsTicker\"},{\"attributes\":{\"fields\":[\"deaths\"]},\"id\":\"1757\",\"type\":\"Stack\"},{\"attributes\":{\"label\":{\"value\":\"Projected # of Cases\"},\"renderers\":[{\"id\":\"1772\"}]},\"id\":\"1795\",\"type\":\"LegendItem\"},{\"attributes\":{\"end\":38343},\"id\":\"1730\",\"type\":\"Range1d\"},{\"attributes\":{},\"id\":\"1745\",\"type\":\"WheelZoomTool\"},{\"attributes\":{\"fields\":[\"deaths\",\"cases\"]},\"id\":\"1758\",\"type\":\"Stack\"},{\"attributes\":{\"overlay\":{\"id\":\"1748\"}},\"id\":\"1746\",\"type\":\"BoxZoomTool\"},{\"attributes\":{\"fill_color\":\"red\",\"x\":{\"field\":\"x\"},\"y1\":{\"expr\":{\"id\":\"1755\"}},\"y2\":{\"expr\":{\"id\":\"1756\"}}},\"id\":\"1760\",\"type\":\"VArea\"},{\"attributes\":{},\"id\":\"1747\",\"type\":\"ResetTool\"},{\"attributes\":{\"days\":[1,8,15,22]},\"id\":\"1784\",\"type\":\"DaysTicker\"},{\"attributes\":{\"text\":\"Illinois Cases for counties Cook\"},\"id\":\"1726\",\"type\":\"Title\"},{\"attributes\":{\"axis\":{\"id\":\"1736\"},\"ticker\":null},\"id\":\"1739\",\"type\":\"Grid\"},{\"attributes\":{\"fill_color\":\"lightblue\",\"x\":{\"field\":\"x\"},\"y1\":{\"expr\":{\"id\":\"1757\"}},\"y2\":{\"expr\":{\"id\":\"1758\"}}},\"id\":\"1765\",\"type\":\"VArea\"},{\"attributes\":{\"months\":[0,1,2,3,4,5,6,7,8,9,10,11]},\"id\":\"1786\",\"type\":\"MonthsTicker\"},{\"attributes\":{\"axis_label\":\"Date\",\"formatter\":{\"id\":\"1796\"},\"ticker\":{\"id\":\"1737\"}},\"id\":\"1736\",\"type\":\"DatetimeAxis\"},{\"attributes\":{\"data_source\":{\"id\":\"1754\"},\"glyph\":{\"id\":\"1760\"},\"hover_glyph\":null,\"muted_glyph\":null,\"name\":\"deaths\",\"nonselection_glyph\":{\"id\":\"1761\"},\"selection_glyph\":null,\"view\":{\"id\":\"1763\"}},\"id\":\"1762\",\"type\":\"GlyphRenderer\"},{\"attributes\":{\"axis_label\":\"# of Cases & Deaths\",\"formatter\":{\"id\":\"1778\"},\"ticker\":{\"id\":\"1741\"}},\"id\":\"1740\",\"type\":\"LinearAxis\"},{\"attributes\":{\"fill_alpha\":0.1,\"fill_color\":\"red\",\"x\":{\"field\":\"x\"},\"y1\":{\"expr\":{\"id\":\"1755\"}},\"y2\":{\"expr\":{\"id\":\"1756\"}}},\"id\":\"1761\",\"type\":\"VArea\"},{\"attributes\":{},\"id\":\"1734\",\"type\":\"LinearScale\"},{\"attributes\":{\"line_alpha\":0.1,\"line_color\":\"gray\",\"line_dash\":[6],\"x\":{\"field\":\"x\"},\"y\":{\"field\":\"y\"}},\"id\":\"1771\",\"type\":\"Line\"},{\"attributes\":{},\"id\":\"1880\",\"type\":\"UnionRenderers\"},{\"attributes\":{\"months\":[0,6]},\"id\":\"1789\",\"type\":\"MonthsTicker\"},{\"attributes\":{\"source\":{\"id\":\"1754\"}},\"id\":\"1763\",\"type\":\"CDSView\"},{\"attributes\":{\"num_minor_ticks\":5,\"tickers\":[{\"id\":\"1779\"},{\"id\":\"1780\"},{\"id\":\"1781\"},{\"id\":\"1782\"},{\"id\":\"1783\"},{\"id\":\"1784\"},{\"id\":\"1785\"},{\"id\":\"1786\"},{\"id\":\"1787\"},{\"id\":\"1788\"},{\"id\":\"1789\"},{\"id\":\"1790\"}]},\"id\":\"1737\",\"type\":\"DatetimeTicker\"},{\"attributes\":{\"source\":{\"id\":\"1769\"}},\"id\":\"1773\",\"type\":\"CDSView\"},{\"attributes\":{\"base\":60,\"mantissas\":[1,2,5,10,15,20,30],\"max_interval\":1800000.0,\"min_interval\":1000.0,\"num_minor_ticks\":0},\"id\":\"1780\",\"type\":\"AdaptiveTicker\"},{\"attributes\":{\"end\":1588118400000.0,\"start\":1579824000000.0},\"id\":\"1728\",\"type\":\"Range1d\"},{\"attributes\":{},\"id\":\"1778\",\"type\":\"BasicTickFormatter\"},{\"attributes\":{\"days\":[1,2,3,4,5,6,7,8,9,10,11,12,13,14,15,16,17,18,19,20,21,22,23,24,25,26,27,28,29,30,31]},\"id\":\"1782\",\"type\":\"DaysTicker\"},{\"attributes\":{\"data\":{\"x\":[1579824000000.0,1579910400000.0,1579996800000.0,1580083200000.0,1580169600000.0,1580256000000.0,1580342400000.0,1580428800000.0,1580515200000.0,1580601600000.0,1580688000000.0,1580774400000.0,1580860800000.0,1580947200000.0,1581033600000.0,1581120000000.0,1581206400000.0,1581292800000.0,1581379200000.0,1581465600000.0,1581552000000.0,1581638400000.0,1581724800000.0,1581811200000.0,1581897600000.0,1581984000000.0,1582070400000.0,1582156800000.0,1582243200000.0,1582329600000.0,1582416000000.0,1582502400000.0,1582588800000.0,1582675200000.0,1582761600000.0,1582848000000.0,1582934400000.0,1583020800000.0,1583107200000.0,1583193600000.0,1583280000000.0,1583366400000.0,1583452800000.0,1583539200000.0,1583625600000.0,1583712000000.0,1583798400000.0,1583884800000.0,1583971200000.0,1584057600000.0,1584144000000.0,1584230400000.0,1584316800000.0,1584403200000.0,1584489600000.0,1584576000000.0,1584662400000.0,1584748800000.0,1584835200000.0,1584921600000.0,1585008000000.0,1585094400000.0,1585180800000.0,1585267200000.0,1585353600000.0,1585440000000.0,1585526400000.0,1585612800000.0,1585699200000.0,1585785600000.0,1585872000000.0,1585958400000.0,1586044800000.0,1586131200000.0,1586217600000.0,1586304000000.0,1586390400000.0,1586476800000.0,1586563200000.0,1586649600000.0,1586736000000.0,1586822400000.0,1586908800000.0,1586995200000.0,1587081600000.0,1587168000000.0,1587254400000.0,1587340800000.0,1587427200000.0,1587513600000.0,1587600000000.0,1587686400000.0,1587772800000.0,1587859200000.0,1587945600000.0,1588032000000.0,1588118400000.0,1588204800000.0,1588291200000.0,1588377600000.0,1588464000000.0,1588550400000.0,1588636800000.0,1588723200000.0,1588809600000.0],\"y\":[27.60121033209161,29.80584766819774,32.18657966556232,34.75747182566983,37.53371312717661,40.53170576326981,43.76916204676754,47.26520905548111,51.04050163609015,55.11734443416403,59.51982367128997,64.27394944785459,69.40780941221217,74.95173470412546,80.9384791528829,87.40341278880477,94.38473081141527,101.92367924887691,110.06479864189562,118.8561871917954,128.3497849274565,138.6016805699915,149.67244290813358,161.62747864212193,174.53741881024624,188.4785360810808,203.53319537679468,219.790340489846,237.34601956802032,256.303952572409,276.77614406090044,298.8835449175464,322.7567669373375,348.53685448819516,376.3761178092044,406.4390328682619,438.9032130955474,473.96045873387857,511.8178900055715,552.6991707906172,596.8458300457424,644.5186887713684,695.9994009570738,751.5921176095535,811.6252836942494,876.4535786070861,946.460011640727,1022.0581848254916,1103.6947365139258,1191.8519801458585,1287.050753783929,1389.8534972548007,1500.8675750759817,1620.7488648003086,1750.2056319782296,1890.00271463138,2040.9660419595878,2203.9875139780543,2380.0302709139055,2570.134383494027,2775.422997742694,2997.1089705928357,3236.502035514522,3495.016540495584,3774.1798040908116,4075.6411389077807,4401.181595840538,4752.724486620642,5132.346746853445,5542.291206673029,5984.97984151153,6463.028081269243,6979.2602624247875,7536.7263143773525,8138.719778604927,8788.79726709665,9490.799475020856,10248.873871772923,11067.499204462856,11951.511958610603,12906.134932380583,13937.008093173363,15050.221898877318,16252.353280643898,17550.504499774837,18952.34510829028,20466.15726108289,22100.884647364994,23866.18533049859,25772.48880838881,27831.05763155698,30054.05394293656,32454.611332512635,35046.91243132636,37846.272703274575,40869.23092975069,44133.64692171575,47658.807036488375,51465.53812265223,55576.33056627453,60015.471165399824,64809.186617848805,69985.79847005632,75575.89044239602,81612.48911955798]},\"selected\":{\"id\":\"1881\"},\"selection_policy\":{\"id\":\"1880\"}},\"id\":\"1769\",\"type\":\"ColumnDataSource\"},{\"attributes\":{\"mantissas\":[1,2,5],\"max_interval\":500.0,\"num_minor_ticks\":0},\"id\":\"1779\",\"type\":\"AdaptiveTicker\"},{\"attributes\":{\"months\":[0,4,8]},\"id\":\"1788\",\"type\":\"MonthsTicker\"},{\"attributes\":{},\"id\":\"1881\",\"type\":\"Selection\"},{\"attributes\":{\"items\":[{\"id\":\"1795\"}],\"location\":\"top_left\"},\"id\":\"1794\",\"type\":\"Legend\"},{\"attributes\":{\"data_source\":{\"id\":\"1754\"},\"glyph\":{\"id\":\"1765\"},\"hover_glyph\":null,\"muted_glyph\":null,\"name\":\"cases\",\"nonselection_glyph\":{\"id\":\"1766\"},\"selection_glyph\":null,\"view\":{\"id\":\"1768\"}},\"id\":\"1767\",\"type\":\"GlyphRenderer\"},{\"attributes\":{\"fill_alpha\":0.1,\"fill_color\":\"lightblue\",\"x\":{\"field\":\"x\"},\"y1\":{\"expr\":{\"id\":\"1757\"}},\"y2\":{\"expr\":{\"id\":\"1758\"}}},\"id\":\"1766\",\"type\":\"VArea\"},{\"attributes\":{\"days\":[1,4,7,10,13,16,19,22,25,28]},\"id\":\"1783\",\"type\":\"DaysTicker\"},{\"attributes\":{\"days\":[1,15]},\"id\":\"1785\",\"type\":\"DaysTicker\"},{\"attributes\":{\"base\":24,\"mantissas\":[1,2,4,6,8,12],\"max_interval\":43200000.0,\"min_interval\":3600000.0,\"num_minor_ticks\":0},\"id\":\"1781\",\"type\":\"AdaptiveTicker\"},{\"attributes\":{\"source\":{\"id\":\"1754\"}},\"id\":\"1768\",\"type\":\"CDSView\"}],\"root_ids\":[\"1725\"]},\"title\":\"Bokeh Application\",\"version\":\"2.0.1\"}};\n",
       "  var render_items = [{\"docid\":\"a78a9d96-fb37-4dbf-b1c7-f45cce1865ad\",\"root_ids\":[\"1725\"],\"roots\":{\"1725\":\"82110c17-17f6-473d-85b7-7b9790ecaca2\"}}];\n",
       "  root.Bokeh.embed.embed_items_notebook(docs_json, render_items);\n",
       "\n",
       "  }\n",
       "  if (root.Bokeh !== undefined) {\n",
       "    embed_document(root);\n",
       "  } else {\n",
       "    var attempts = 0;\n",
       "    var timer = setInterval(function(root) {\n",
       "      if (root.Bokeh !== undefined) {\n",
       "        clearInterval(timer);\n",
       "        embed_document(root);\n",
       "      } else {\n",
       "        attempts++;\n",
       "        if (attempts > 100) {\n",
       "          clearInterval(timer);\n",
       "          console.log(\"Bokeh: ERROR: Unable to run BokehJS code because BokehJS library is missing\");\n",
       "        }\n",
       "      }\n",
       "    }, 10, root)\n",
       "  }\n",
       "})(window);"
      ],
      "application/vnd.bokehjs_exec.v0+json": ""
     },
     "metadata": {
      "application/vnd.bokehjs_exec.v0+json": {
       "id": "1725"
      }
     },
     "output_type": "display_data"
    }
   ],
   "source": [
    "plot_state_counties_curve(df, 'Illinois', ['Cook'])"
   ]
  },
  {
   "cell_type": "code",
   "execution_count": 7,
   "metadata": {},
   "outputs": [
    {
     "name": "stdout",
     "output_type": "stream",
     "text": [
      "y ≈ exp(3.563761229727553) * exp(0.07701792034414139 * x)\n",
      "y = 35.29570304387565 * exp(0.07701792034414139 * x)\n"
     ]
    },
    {
     "data": {
      "text/html": [
       "\n",
       "\n",
       "\n",
       "\n",
       "\n",
       "\n",
       "  <div class=\"bk-root\" id=\"e30a7c45-71fe-4727-8cda-1d3cab8cd86e\" data-root-id=\"2008\"></div>\n"
      ]
     },
     "metadata": {},
     "output_type": "display_data"
    },
    {
     "data": {
      "application/javascript": [
       "(function(root) {\n",
       "  function embed_document(root) {\n",
       "    \n",
       "  var docs_json = {\"871b7e14-f6b5-4ef2-b714-a035e1e0bfe7\":{\"roots\":{\"references\":[{\"attributes\":{\"below\":[{\"id\":\"2019\"}],\"center\":[{\"id\":\"2022\"},{\"id\":\"2026\"},{\"id\":\"2077\"}],\"left\":[{\"id\":\"2023\"}],\"plot_width\":880,\"renderers\":[{\"id\":\"2045\"},{\"id\":\"2050\"},{\"id\":\"2055\"}],\"title\":{\"id\":\"2009\"},\"toolbar\":{\"id\":\"2032\"},\"x_range\":{\"id\":\"2011\"},\"x_scale\":{\"id\":\"2015\"},\"y_range\":{\"id\":\"2013\"},\"y_scale\":{\"id\":\"2017\"}},\"id\":\"2008\",\"subtype\":\"Figure\",\"type\":\"Plot\"},{\"attributes\":{\"line_alpha\":0.75,\"line_color\":\"gray\",\"line_dash\":[6],\"x\":{\"field\":\"x\"},\"y\":{\"field\":\"y\"}},\"id\":\"2053\",\"type\":\"Line\"},{\"attributes\":{},\"id\":\"2027\",\"type\":\"PanTool\"},{\"attributes\":{\"mantissas\":[1,2,5],\"max_interval\":500.0,\"num_minor_ticks\":0},\"id\":\"2062\",\"type\":\"AdaptiveTicker\"},{\"attributes\":{\"fields\":[\"deaths\"]},\"id\":\"2040\",\"type\":\"Stack\"},{\"attributes\":{},\"id\":\"2024\",\"type\":\"BasicTicker\"},{\"attributes\":{},\"id\":\"2028\",\"type\":\"WheelZoomTool\"},{\"attributes\":{\"fields\":[\"deaths\",\"cases\"]},\"id\":\"2041\",\"type\":\"Stack\"},{\"attributes\":{\"num_minor_ticks\":5,\"tickers\":[{\"id\":\"2062\"},{\"id\":\"2063\"},{\"id\":\"2064\"},{\"id\":\"2065\"},{\"id\":\"2066\"},{\"id\":\"2067\"},{\"id\":\"2068\"},{\"id\":\"2069\"},{\"id\":\"2070\"},{\"id\":\"2071\"},{\"id\":\"2072\"},{\"id\":\"2073\"}]},\"id\":\"2020\",\"type\":\"DatetimeTicker\"},{\"attributes\":{\"days\":[1,8,15,22]},\"id\":\"2067\",\"type\":\"DaysTicker\"},{\"attributes\":{\"overlay\":{\"id\":\"2031\"}},\"id\":\"2029\",\"type\":\"BoxZoomTool\"},{\"attributes\":{\"fill_color\":\"red\",\"x\":{\"field\":\"x\"},\"y1\":{\"expr\":{\"id\":\"2038\"}},\"y2\":{\"expr\":{\"id\":\"2039\"}}},\"id\":\"2043\",\"type\":\"VArea\"},{\"attributes\":{},\"id\":\"2030\",\"type\":\"ResetTool\"},{\"attributes\":{\"fill_color\":\"lightblue\",\"x\":{\"field\":\"x\"},\"y1\":{\"expr\":{\"id\":\"2040\"}},\"y2\":{\"expr\":{\"id\":\"2041\"}}},\"id\":\"2048\",\"type\":\"VArea\"},{\"attributes\":{\"days\":[1,15]},\"id\":\"2068\",\"type\":\"DaysTicker\"},{\"attributes\":{\"data_source\":{\"id\":\"2037\"},\"glyph\":{\"id\":\"2043\"},\"hover_glyph\":null,\"muted_glyph\":null,\"name\":\"deaths\",\"nonselection_glyph\":{\"id\":\"2044\"},\"selection_glyph\":null,\"view\":{\"id\":\"2046\"}},\"id\":\"2045\",\"type\":\"GlyphRenderer\"},{\"attributes\":{\"fill_alpha\":0.1,\"fill_color\":\"red\",\"x\":{\"field\":\"x\"},\"y1\":{\"expr\":{\"id\":\"2038\"}},\"y2\":{\"expr\":{\"id\":\"2039\"}}},\"id\":\"2044\",\"type\":\"VArea\"},{\"attributes\":{\"months\":[0,1,2,3,4,5,6,7,8,9,10,11]},\"id\":\"2069\",\"type\":\"MonthsTicker\"},{\"attributes\":{\"data\":{\"x\":[1579824000000.0,1579910400000.0,1579996800000.0,1580083200000.0,1580169600000.0,1580256000000.0,1580342400000.0,1580428800000.0,1580515200000.0,1580601600000.0,1580688000000.0,1580774400000.0,1580860800000.0,1580947200000.0,1581033600000.0,1581120000000.0,1581206400000.0,1581292800000.0,1581379200000.0,1581465600000.0,1581552000000.0,1581638400000.0,1581724800000.0,1581811200000.0,1581897600000.0,1581984000000.0,1582070400000.0,1582156800000.0,1582243200000.0,1582329600000.0,1582416000000.0,1582502400000.0,1582588800000.0,1582675200000.0,1582761600000.0,1582848000000.0,1582934400000.0,1583020800000.0,1583107200000.0,1583193600000.0,1583280000000.0,1583366400000.0,1583452800000.0,1583539200000.0,1583625600000.0,1583712000000.0,1583798400000.0,1583884800000.0,1583971200000.0,1584057600000.0,1584144000000.0,1584230400000.0,1584316800000.0,1584403200000.0,1584489600000.0,1584576000000.0,1584662400000.0,1584748800000.0,1584835200000.0,1584921600000.0,1585008000000.0,1585094400000.0,1585180800000.0,1585267200000.0,1585353600000.0,1585440000000.0,1585526400000.0,1585612800000.0,1585699200000.0,1585785600000.0,1585872000000.0,1585958400000.0,1586044800000.0,1586131200000.0,1586217600000.0,1586304000000.0,1586390400000.0,1586476800000.0,1586563200000.0,1586649600000.0,1586736000000.0,1586822400000.0,1586908800000.0,1586995200000.0,1587081600000.0,1587168000000.0,1587254400000.0,1587340800000.0,1587427200000.0,1587513600000.0,1587600000000.0,1587686400000.0,1587772800000.0,1587859200000.0,1587945600000.0,1588032000000.0,1588118400000.0,1588204800000.0,1588291200000.0,1588377600000.0,1588464000000.0,1588550400000.0,1588636800000.0,1588723200000.0,1588809600000.0],\"y\":[35.29570304387565,38.12152754801582,41.17359160653667,44.4700082819767,48.03034079458637,51.87571862403,56.02896290635633,60.51472187042987,65.35961711759677,70.59240161271032,76.24413032414378,82.3483445254871,88.9412708527012,96.06203629807291,103.75290041689371,112.05950612493741,121.03115057514309,130.72107772107262,141.1867943034177,152.4904111348389,164.69901170855684,177.8850503182755,192.12678205215613,207.50872721272393,224.12217291889746,242.0657148669946,261.4458424658994,282.37757081898866,304.98512330343567,329.4026687977901,355.77511793305325,384.25898309275374,415.0233072658601,448.2506672649879,484.138257263691,522.8990590833007,564.7631061746027,609.9788487956987,658.8146284879574,711.5602706006256,768.5288043152347,830.058320377626,896.5139775626589,968.2901697793576,1045.8128666775947,1129.542141647099,1219.9749022116794,1317.6478390227217,1423.140610953321,1537.0792851956157,1660.1400527772294,1793.0532415472849,1936.6076504478172,2091.655230793162,2259.116142339275,2439.984214149183,2635.332842663169,2846.3213619768558,3074.201924132917,3320.3269302587573,3586.1570566517125,3873.269923444149,4183.369457294253,4518.296003667296,4880.037248720552,5270.740015610021,5692.723005226301,6148.490556972013,6640.7475112468155,7172.415261844155,7746.649093525973,8366.856907668358,9036.71944710929,9760.212140226578,10541.628693883926,11385.606575262136,12297.154533802026,13281.682326593665,14345.032823622692,15493.51668340861,16733.949804824442,18073.693777362463,19520.699569906352,21083.55471728869,22771.534284672092,24594.65591221141,26563.739266670385,28690.470252820072,30987.47036569333,33468.371595280485,36147.89732820175,39041.949726483675,42167.70410200532,45543.71084669755,49190.005523420376,53128.22777087295,57381.74972820149,61975.81474146455,66937.6871751366,72296.81421773543,78085.00064183881,84336.59755563928,91088.70626621743,98381.39846440173,106257.95403794273]},\"selected\":{\"id\":\"2185\"},\"selection_policy\":{\"id\":\"2184\"}},\"id\":\"2052\",\"type\":\"ColumnDataSource\"},{\"attributes\":{\"days\":[1,2,3,4,5,6,7,8,9,10,11,12,13,14,15,16,17,18,19,20,21,22,23,24,25,26,27,28,29,30,31]},\"id\":\"2065\",\"type\":\"DaysTicker\"},{\"attributes\":{\"months\":[0,2,4,6,8,10]},\"id\":\"2070\",\"type\":\"MonthsTicker\"},{\"attributes\":{\"source\":{\"id\":\"2037\"}},\"id\":\"2046\",\"type\":\"CDSView\"},{\"attributes\":{},\"id\":\"2184\",\"type\":\"UnionRenderers\"},{\"attributes\":{\"months\":[0,4,8]},\"id\":\"2071\",\"type\":\"MonthsTicker\"},{\"attributes\":{\"fields\":[]},\"id\":\"2038\",\"type\":\"Stack\"},{\"attributes\":{},\"id\":\"2017\",\"type\":\"LinearScale\"},{\"attributes\":{\"code\":\"\\n        let date = new Date(tick);\\n        return `${date.getDate()}-${date.getMonth()}-${date.getFullYear()}`\\n    \"},\"id\":\"2079\",\"type\":\"FuncTickFormatter\"},{\"attributes\":{\"months\":[0,6]},\"id\":\"2072\",\"type\":\"MonthsTicker\"},{\"attributes\":{\"line_alpha\":0.1,\"line_color\":\"gray\",\"line_dash\":[6],\"x\":{\"field\":\"x\"},\"y\":{\"field\":\"y\"}},\"id\":\"2054\",\"type\":\"Line\"},{\"attributes\":{},\"id\":\"2076\",\"type\":\"Selection\"},{\"attributes\":{\"axis_label\":\"# of Cases & Deaths\",\"formatter\":{\"id\":\"2061\"},\"ticker\":{\"id\":\"2024\"}},\"id\":\"2023\",\"type\":\"LinearAxis\"},{\"attributes\":{\"label\":{\"value\":\"Projected # of Cases\"},\"renderers\":[{\"id\":\"2055\"}]},\"id\":\"2078\",\"type\":\"LegendItem\"},{\"attributes\":{},\"id\":\"2073\",\"type\":\"YearsTicker\"},{\"attributes\":{\"data_source\":{\"id\":\"2037\"},\"glyph\":{\"id\":\"2048\"},\"hover_glyph\":null,\"muted_glyph\":null,\"name\":\"cases\",\"nonselection_glyph\":{\"id\":\"2049\"},\"selection_glyph\":null,\"view\":{\"id\":\"2051\"}},\"id\":\"2050\",\"type\":\"GlyphRenderer\"},{\"attributes\":{\"data\":{\"cases\":[1,1,1,1,1,1,2,2,2,2,2,2,2,2,2,2,2,2,2,2,2,2,2,2,2,2,2,2,2,2,2,2,2,2,2,2,3,3,4,4,4,5,6,6,7,11,19,24,31,44,57,82,87,146,252,368,511,665,957,1107,1400,1707,2322,2776,3259,4263,4652,5563,6450,7087,8218,9586,10384,11265,12415,13748,14948,16248,17496,19055,20168,21270,22515,23624,25264,26600,27627,28715,30072,31825,33472,35886,37711,39536,41326],\"deaths\":[0,0,0,0,0,0,0,0,0,0,0,0,0,0,0,0,0,0,0,0,0,0,0,0,0,0,0,0,0,0,0,0,0,0,0,0,0,0,0,0,0,0,0,0,0,0,0,0,0,0,0,0,0,1,1,3,4,5,7,10,14,17,25,33,46,63,71,96,135,152,192,228,259,287,350,425,490,558,627,668,740,800,869,985,1040,1163,1190,1237,1351,1441,1550,1649,1709,1763,1803],\"x\":{\"__ndarray__\":\"AADAkk39dkIAAID4n/12QgAAQF7y/XZCAAAAxET+dkIAAMApl/52QgAAgI/p/nZCAABA9Tv/dkIAAABbjv92QgAAwMDg/3ZCAACAJjMAd0IAAECMhQB3QgAAAPLXAHdCAADAVyoBd0IAAIC9fAF3QgAAQCPPAXdCAAAAiSECd0IAAMDucwJ3QgAAgFTGAndCAABAuhgDd0IAAAAgawN3QgAAwIW9A3dCAACA6w8Ed0IAAEBRYgR3QgAAALe0BHdCAADAHAcFd0IAAICCWQV3QgAAQOirBXdCAAAATv4Fd0IAAMCzUAZ3QgAAgBmjBndCAABAf/UGd0IAAADlRwd3QgAAwEqaB3dCAACAsOwHd0IAAEAWPwh3QgAAAHyRCHdCAADA4eMId0IAAIBHNgl3QgAAQK2ICXdCAAAAE9sJd0IAAMB4LQp3QgAAgN5/CndCAABARNIKd0IAAACqJAt3QgAAwA93C3dCAACAdckLd0IAAEDbGwx3QgAAAEFuDHdCAADApsAMd0IAAIAMEw13QgAAQHJlDXdCAAAA2LcNd0IAAMA9Cg53QgAAgKNcDndCAABACa8Od0IAAABvAQ93QgAAwNRTD3dCAACAOqYPd0IAAECg+A93QgAAAAZLEHdCAADAa50Qd0IAAIDR7xB3QgAAQDdCEXdCAAAAnZQRd0IAAMAC5xF3QgAAgGg5EndCAABAzosSd0IAAAA03hJ3QgAAwJkwE3dCAACA/4ITd0IAAEBl1RN3QgAAAMsnFHdCAADAMHoUd0IAAICWzBR3QgAAQPweFXdCAAAAYnEVd0IAAMDHwxV3QgAAgC0WFndCAABAk2gWd0IAAAD5uhZ3QgAAwF4NF3dCAACAxF8Xd0IAAEAqshd3QgAAAJAEGHdCAADA9VYYd0IAAIBbqRh3QgAAQMH7GHdCAAAAJ04Zd0IAAMCMoBl3QgAAgPLyGXdCAABAWEUad0IAAAC+lxp3QgAAwCPqGndCAACAiTwbd0IAAEDvjht3Qg==\",\"dtype\":\"float64\",\"shape\":[95]}},\"selected\":{\"id\":\"2076\"},\"selection_policy\":{\"id\":\"2075\"}},\"id\":\"2037\",\"type\":\"ColumnDataSource\"},{\"attributes\":{\"axis_label\":\"Date\",\"formatter\":{\"id\":\"2079\"},\"ticker\":{\"id\":\"2020\"}},\"id\":\"2019\",\"type\":\"DatetimeAxis\"},{\"attributes\":{},\"id\":\"2015\",\"type\":\"LinearScale\"},{\"attributes\":{\"axis\":{\"id\":\"2023\"},\"dimension\":1,\"ticker\":null},\"id\":\"2026\",\"type\":\"Grid\"},{\"attributes\":{\"fill_alpha\":0.1,\"fill_color\":\"lightblue\",\"x\":{\"field\":\"x\"},\"y1\":{\"expr\":{\"id\":\"2040\"}},\"y2\":{\"expr\":{\"id\":\"2041\"}}},\"id\":\"2049\",\"type\":\"VArea\"},{\"attributes\":{\"source\":{\"id\":\"2052\"}},\"id\":\"2056\",\"type\":\"CDSView\"},{\"attributes\":{},\"id\":\"2075\",\"type\":\"UnionRenderers\"},{\"attributes\":{},\"id\":\"2185\",\"type\":\"Selection\"},{\"attributes\":{\"text\":\"Cases for the Chicago Metropolitan Area\"},\"id\":\"2009\",\"type\":\"Title\"},{\"attributes\":{\"end\":49591},\"id\":\"2013\",\"type\":\"Range1d\"},{\"attributes\":{\"source\":{\"id\":\"2037\"}},\"id\":\"2051\",\"type\":\"CDSView\"},{\"attributes\":{\"base\":60,\"mantissas\":[1,2,5,10,15,20,30],\"max_interval\":1800000.0,\"min_interval\":1000.0,\"num_minor_ticks\":0},\"id\":\"2063\",\"type\":\"AdaptiveTicker\"},{\"attributes\":{\"data_source\":{\"id\":\"2052\"},\"glyph\":{\"id\":\"2053\"},\"hover_glyph\":null,\"muted_glyph\":null,\"nonselection_glyph\":{\"id\":\"2054\"},\"selection_glyph\":null,\"view\":{\"id\":\"2056\"}},\"id\":\"2055\",\"type\":\"GlyphRenderer\"},{\"attributes\":{\"end\":1588118400000.0,\"start\":1579824000000.0},\"id\":\"2011\",\"type\":\"Range1d\"},{\"attributes\":{\"base\":24,\"mantissas\":[1,2,4,6,8,12],\"max_interval\":43200000.0,\"min_interval\":3600000.0,\"num_minor_ticks\":0},\"id\":\"2064\",\"type\":\"AdaptiveTicker\"},{\"attributes\":{\"days\":[1,4,7,10,13,16,19,22,25,28]},\"id\":\"2066\",\"type\":\"DaysTicker\"},{\"attributes\":{\"axis\":{\"id\":\"2019\"},\"ticker\":null},\"id\":\"2022\",\"type\":\"Grid\"},{\"attributes\":{\"bottom_units\":\"screen\",\"fill_alpha\":0.5,\"fill_color\":\"lightgrey\",\"left_units\":\"screen\",\"level\":\"overlay\",\"line_alpha\":1.0,\"line_color\":\"black\",\"line_dash\":[4,4],\"line_width\":2,\"render_mode\":\"css\",\"right_units\":\"screen\",\"top_units\":\"screen\"},\"id\":\"2031\",\"type\":\"BoxAnnotation\"},{\"attributes\":{\"active_drag\":\"auto\",\"active_inspect\":\"auto\",\"active_multi\":null,\"active_scroll\":\"auto\",\"active_tap\":\"auto\",\"tools\":[{\"id\":\"2027\"},{\"id\":\"2028\"},{\"id\":\"2029\"},{\"id\":\"2030\"}]},\"id\":\"2032\",\"type\":\"Toolbar\"},{\"attributes\":{\"items\":[{\"id\":\"2078\"}],\"location\":\"top_left\"},\"id\":\"2077\",\"type\":\"Legend\"},{\"attributes\":{\"fields\":[\"deaths\"]},\"id\":\"2039\",\"type\":\"Stack\"},{\"attributes\":{},\"id\":\"2061\",\"type\":\"BasicTickFormatter\"}],\"root_ids\":[\"2008\"]},\"title\":\"Bokeh Application\",\"version\":\"2.0.1\"}};\n",
       "  var render_items = [{\"docid\":\"871b7e14-f6b5-4ef2-b714-a035e1e0bfe7\",\"root_ids\":[\"2008\"],\"roots\":{\"2008\":\"e30a7c45-71fe-4727-8cda-1d3cab8cd86e\"}}];\n",
       "  root.Bokeh.embed.embed_items_notebook(docs_json, render_items);\n",
       "\n",
       "  }\n",
       "  if (root.Bokeh !== undefined) {\n",
       "    embed_document(root);\n",
       "  } else {\n",
       "    var attempts = 0;\n",
       "    var timer = setInterval(function(root) {\n",
       "      if (root.Bokeh !== undefined) {\n",
       "        clearInterval(timer);\n",
       "        embed_document(root);\n",
       "      } else {\n",
       "        attempts++;\n",
       "        if (attempts > 100) {\n",
       "          clearInterval(timer);\n",
       "          console.log(\"Bokeh: ERROR: Unable to run BokehJS code because BokehJS library is missing\");\n",
       "        }\n",
       "      }\n",
       "    }, 10, root)\n",
       "  }\n",
       "})(window);"
      ],
      "application/vnd.bokehjs_exec.v0+json": ""
     },
     "metadata": {
      "application/vnd.bokehjs_exec.v0+json": {
       "id": "2008"
      }
     },
     "output_type": "display_data"
    }
   ],
   "source": [
    "# https://en.wikipedia.org/wiki/Chicago_metropolitan_area\n",
    "chicago_metropolitan = dict(\n",
    "    Illinois=[\n",
    "        \"Cook\",\n",
    "        \"DeKalb\",\n",
    "        \"DuPage\",\n",
    "        \"Grundy\",\n",
    "        \"Kankakee\",\n",
    "        \"Kane\",\n",
    "        \"Kendall\",\n",
    "        \"McHenry\",\n",
    "        \"Will\",\n",
    "    ],\n",
    "    Indiana=[\"Jasper\", \"Lake\", \"Newton\", \"Porter\",],\n",
    "    Wisconsin=[\"Kenosha\"],\n",
    ")\n",
    "\n",
    "plot_states_and_counties_curve(\n",
    "    df, chicago_metropolitan, \"Cases for the Chicago Metropolitan Area\"\n",
    ")"
   ]
  },
  {
   "cell_type": "code",
   "execution_count": 8,
   "metadata": {},
   "outputs": [
    {
     "name": "stdout",
     "output_type": "stream",
     "text": [
      "y ≈ exp(5.47416464278099) * exp(0.0702195018553838 * x)\n",
      "y = 238.45119178484296 * exp(0.0702195018553838 * x)\n"
     ]
    },
    {
     "data": {
      "text/html": [
       "\n",
       "\n",
       "\n",
       "\n",
       "\n",
       "\n",
       "  <div class=\"bk-root\" id=\"abedbb59-e8de-41b8-98f3-f24639541c80\" data-root-id=\"2312\"></div>\n"
      ]
     },
     "metadata": {},
     "output_type": "display_data"
    },
    {
     "data": {
      "application/javascript": [
       "(function(root) {\n",
       "  function embed_document(root) {\n",
       "    \n",
       "  var docs_json = {\"1b6c8b66-5fd2-4de1-bbf8-1ce8387ab246\":{\"roots\":{\"references\":[{\"attributes\":{\"below\":[{\"id\":\"2323\"}],\"center\":[{\"id\":\"2326\"},{\"id\":\"2330\"},{\"id\":\"2381\"}],\"left\":[{\"id\":\"2327\"}],\"plot_width\":880,\"renderers\":[{\"id\":\"2349\"},{\"id\":\"2354\"},{\"id\":\"2359\"}],\"title\":{\"id\":\"2313\"},\"toolbar\":{\"id\":\"2336\"},\"x_range\":{\"id\":\"2315\"},\"x_scale\":{\"id\":\"2319\"},\"y_range\":{\"id\":\"2317\"},\"y_scale\":{\"id\":\"2321\"}},\"id\":\"2312\",\"subtype\":\"Figure\",\"type\":\"Plot\"},{\"attributes\":{\"months\":[0,2,4,6,8,10]},\"id\":\"2374\",\"type\":\"MonthsTicker\"},{\"attributes\":{\"data_source\":{\"id\":\"2356\"},\"glyph\":{\"id\":\"2357\"},\"hover_glyph\":null,\"muted_glyph\":null,\"nonselection_glyph\":{\"id\":\"2358\"},\"selection_glyph\":null,\"view\":{\"id\":\"2360\"}},\"id\":\"2359\",\"type\":\"GlyphRenderer\"},{\"attributes\":{\"end\":1588118400000.0,\"start\":1583366400000.0},\"id\":\"2315\",\"type\":\"Range1d\"},{\"attributes\":{},\"id\":\"2377\",\"type\":\"YearsTicker\"},{\"attributes\":{\"fields\":[\"deaths\"]},\"id\":\"2343\",\"type\":\"Stack\"},{\"attributes\":{},\"id\":\"2510\",\"type\":\"Selection\"},{\"attributes\":{},\"id\":\"2365\",\"type\":\"BasicTickFormatter\"},{\"attributes\":{\"source\":{\"id\":\"2341\"}},\"id\":\"2355\",\"type\":\"CDSView\"},{\"attributes\":{\"axis_label\":\"Date\",\"formatter\":{\"id\":\"2383\"},\"ticker\":{\"id\":\"2324\"}},\"id\":\"2323\",\"type\":\"DatetimeAxis\"},{\"attributes\":{},\"id\":\"2319\",\"type\":\"LinearScale\"},{\"attributes\":{\"code\":\"\\n        let date = new Date(tick);\\n        return `${date.getDate()}-${date.getMonth()}-${date.getFullYear()}`\\n    \"},\"id\":\"2383\",\"type\":\"FuncTickFormatter\"},{\"attributes\":{\"items\":[{\"id\":\"2382\"}],\"location\":\"top_left\"},\"id\":\"2381\",\"type\":\"Legend\"},{\"attributes\":{\"line_alpha\":0.75,\"line_color\":\"gray\",\"line_dash\":[6],\"x\":{\"field\":\"x\"},\"y\":{\"field\":\"y\"}},\"id\":\"2357\",\"type\":\"Line\"},{\"attributes\":{\"mantissas\":[1,2,5],\"max_interval\":500.0,\"num_minor_ticks\":0},\"id\":\"2366\",\"type\":\"AdaptiveTicker\"},{\"attributes\":{\"fill_alpha\":0.1,\"fill_color\":\"lightblue\",\"x\":{\"field\":\"x\"},\"y1\":{\"expr\":{\"id\":\"2344\"}},\"y2\":{\"expr\":{\"id\":\"2345\"}}},\"id\":\"2353\",\"type\":\"VArea\"},{\"attributes\":{\"data_source\":{\"id\":\"2341\"},\"glyph\":{\"id\":\"2352\"},\"hover_glyph\":null,\"muted_glyph\":null,\"name\":\"cases\",\"nonselection_glyph\":{\"id\":\"2353\"},\"selection_glyph\":null,\"view\":{\"id\":\"2355\"}},\"id\":\"2354\",\"type\":\"GlyphRenderer\"},{\"attributes\":{\"num_minor_ticks\":5,\"tickers\":[{\"id\":\"2366\"},{\"id\":\"2367\"},{\"id\":\"2368\"},{\"id\":\"2369\"},{\"id\":\"2370\"},{\"id\":\"2371\"},{\"id\":\"2372\"},{\"id\":\"2373\"},{\"id\":\"2374\"},{\"id\":\"2375\"},{\"id\":\"2376\"},{\"id\":\"2377\"}]},\"id\":\"2324\",\"type\":\"DatetimeTicker\"},{\"attributes\":{\"line_alpha\":0.1,\"line_color\":\"gray\",\"line_dash\":[6],\"x\":{\"field\":\"x\"},\"y\":{\"field\":\"y\"}},\"id\":\"2358\",\"type\":\"Line\"},{\"attributes\":{\"base\":24,\"mantissas\":[1,2,4,6,8,12],\"max_interval\":43200000.0,\"min_interval\":3600000.0,\"num_minor_ticks\":0},\"id\":\"2368\",\"type\":\"AdaptiveTicker\"},{\"attributes\":{\"source\":{\"id\":\"2356\"}},\"id\":\"2360\",\"type\":\"CDSView\"},{\"attributes\":{\"base\":60,\"mantissas\":[1,2,5,10,15,20,30],\"max_interval\":1800000.0,\"min_interval\":1000.0,\"num_minor_ticks\":0},\"id\":\"2367\",\"type\":\"AdaptiveTicker\"},{\"attributes\":{\"fields\":[]},\"id\":\"2342\",\"type\":\"Stack\"},{\"attributes\":{\"label\":{\"value\":\"Projected # of Cases\"},\"renderers\":[{\"id\":\"2359\"}]},\"id\":\"2382\",\"type\":\"LegendItem\"},{\"attributes\":{\"source\":{\"id\":\"2341\"}},\"id\":\"2350\",\"type\":\"CDSView\"},{\"attributes\":{\"data\":{\"cases\":[2,6,6,6,8,11,16,22,39,53,70,77,97,115,145,178,230,280,343,410,506,646,795,963,1100,1329,1554,1730,1944,2197,2397,2599,2703,2872,3036,3400,3651,3884,4153,4387,4554,4744,5015,5292,5547,5702,5963,6192,6429,6710,7412,7716,7982,8239],\"deaths\":[0,0,0,0,0,0,0,0,0,0,0,0,0,0,0,0,0,0,0,0,5,7,9,13,13,11,22,30,40,50,54,63,67,93,100,116,133,146,152,160,172,191,198,208,223,230,248,278,307,325,399,403,406,418],\"x\":{\"__ndarray__\":\"AACA3n8Kd0IAAEBE0gp3QgAAAKokC3dCAADAD3cLd0IAAIB1yQt3QgAAQNsbDHdCAAAAQW4Md0IAAMCmwAx3QgAAgAwTDXdCAABAcmUNd0IAAADYtw13QgAAwD0KDndCAACAo1wOd0IAAEAJrw53QgAAAG8BD3dCAADA1FMPd0IAAIA6pg93QgAAQKD4D3dCAAAABksQd0IAAMBrnRB3QgAAgNHvEHdCAABAN0IRd0IAAACdlBF3QgAAwALnEXdCAACAaDkSd0IAAEDOixJ3QgAAADTeEndCAADAmTATd0IAAID/ghN3QgAAQGXVE3dCAAAAyycUd0IAAMAwehR3QgAAgJbMFHdCAABA/B4Vd0IAAABicRV3QgAAwMfDFXdCAACALRYWd0IAAECTaBZ3QgAAAPm6FndCAADAXg0Xd0IAAIDEXxd3QgAAQCqyF3dCAAAAkAQYd0IAAMD1Vhh3QgAAgFupGHdCAABAwfsYd0IAAAAnThl3QgAAwIygGXdCAACA8vIZd0IAAEBYRRp3QgAAAL6XGndCAADAI+oad0IAAICJPBt3QgAAQO+OG3dC\",\"dtype\":\"float64\",\"shape\":[54]}},\"selected\":{\"id\":\"2380\"},\"selection_policy\":{\"id\":\"2379\"}},\"id\":\"2341\",\"type\":\"ColumnDataSource\"},{\"attributes\":{\"days\":[1,2,3,4,5,6,7,8,9,10,11,12,13,14,15,16,17,18,19,20,21,22,23,24,25,26,27,28,29,30,31]},\"id\":\"2369\",\"type\":\"DaysTicker\"},{\"attributes\":{\"fill_alpha\":0.1,\"fill_color\":\"red\",\"x\":{\"field\":\"x\"},\"y1\":{\"expr\":{\"id\":\"2342\"}},\"y2\":{\"expr\":{\"id\":\"2343\"}}},\"id\":\"2348\",\"type\":\"VArea\"},{\"attributes\":{\"data_source\":{\"id\":\"2341\"},\"glyph\":{\"id\":\"2347\"},\"hover_glyph\":null,\"muted_glyph\":null,\"name\":\"deaths\",\"nonselection_glyph\":{\"id\":\"2348\"},\"selection_glyph\":null,\"view\":{\"id\":\"2350\"}},\"id\":\"2349\",\"type\":\"GlyphRenderer\"},{\"attributes\":{\"days\":[1,4,7,10,13,16,19,22,25,28]},\"id\":\"2370\",\"type\":\"DaysTicker\"},{\"attributes\":{\"bottom_units\":\"screen\",\"fill_alpha\":0.5,\"fill_color\":\"lightgrey\",\"left_units\":\"screen\",\"level\":\"overlay\",\"line_alpha\":1.0,\"line_color\":\"black\",\"line_dash\":[4,4],\"line_width\":2,\"render_mode\":\"css\",\"right_units\":\"screen\",\"top_units\":\"screen\"},\"id\":\"2335\",\"type\":\"BoxAnnotation\"},{\"attributes\":{\"text\":\"Cases for the Denver Metropolitan Area\"},\"id\":\"2313\",\"type\":\"Title\"},{\"attributes\":{\"fill_color\":\"lightblue\",\"x\":{\"field\":\"x\"},\"y1\":{\"expr\":{\"id\":\"2344\"}},\"y2\":{\"expr\":{\"id\":\"2345\"}}},\"id\":\"2352\",\"type\":\"VArea\"},{\"attributes\":{},\"id\":\"2334\",\"type\":\"ResetTool\"},{\"attributes\":{\"days\":[1,8,15,22]},\"id\":\"2371\",\"type\":\"DaysTicker\"},{\"attributes\":{\"overlay\":{\"id\":\"2335\"}},\"id\":\"2333\",\"type\":\"BoxZoomTool\"},{\"attributes\":{\"fill_color\":\"red\",\"x\":{\"field\":\"x\"},\"y1\":{\"expr\":{\"id\":\"2342\"}},\"y2\":{\"expr\":{\"id\":\"2343\"}}},\"id\":\"2347\",\"type\":\"VArea\"},{\"attributes\":{\"days\":[1,15]},\"id\":\"2372\",\"type\":\"DaysTicker\"},{\"attributes\":{},\"id\":\"2509\",\"type\":\"UnionRenderers\"},{\"attributes\":{},\"id\":\"2332\",\"type\":\"WheelZoomTool\"},{\"attributes\":{\"months\":[0,1,2,3,4,5,6,7,8,9,10,11]},\"id\":\"2373\",\"type\":\"MonthsTicker\"},{\"attributes\":{\"fields\":[\"deaths\",\"cases\"]},\"id\":\"2345\",\"type\":\"Stack\"},{\"attributes\":{},\"id\":\"2379\",\"type\":\"UnionRenderers\"},{\"attributes\":{},\"id\":\"2380\",\"type\":\"Selection\"},{\"attributes\":{\"axis_label\":\"# of Cases & Deaths\",\"formatter\":{\"id\":\"2365\"},\"ticker\":{\"id\":\"2328\"}},\"id\":\"2327\",\"type\":\"LinearAxis\"},{\"attributes\":{\"fields\":[\"deaths\"]},\"id\":\"2344\",\"type\":\"Stack\"},{\"attributes\":{\"end\":9886},\"id\":\"2317\",\"type\":\"Range1d\"},{\"attributes\":{\"months\":[0,6]},\"id\":\"2376\",\"type\":\"MonthsTicker\"},{\"attributes\":{\"axis\":{\"id\":\"2323\"},\"ticker\":null},\"id\":\"2326\",\"type\":\"Grid\"},{\"attributes\":{\"data\":{\"x\":[1583366400000.0,1583452800000.0,1583539200000.0,1583625600000.0,1583712000000.0,1583798400000.0,1583884800000.0,1583971200000.0,1584057600000.0,1584144000000.0,1584230400000.0,1584316800000.0,1584403200000.0,1584489600000.0,1584576000000.0,1584662400000.0,1584748800000.0,1584835200000.0,1584921600000.0,1585008000000.0,1585094400000.0,1585180800000.0,1585267200000.0,1585353600000.0,1585440000000.0,1585526400000.0,1585612800000.0,1585699200000.0,1585785600000.0,1585872000000.0,1585958400000.0,1586044800000.0,1586131200000.0,1586217600000.0,1586304000000.0,1586390400000.0,1586476800000.0,1586563200000.0,1586649600000.0,1586736000000.0,1586822400000.0,1586908800000.0,1586995200000.0,1587081600000.0,1587168000000.0,1587254400000.0,1587340800000.0,1587427200000.0,1587513600000.0,1587600000000.0,1587686400000.0,1587772800000.0,1587859200000.0,1587945600000.0,1588032000000.0,1588118400000.0,1588204800000.0,1588291200000.0,1588377600000.0,1588464000000.0,1588550400000.0,1588636800000.0,1588723200000.0,1588809600000.0],\"y\":[238.45119178484296,255.796995772401,274.4045964141199,294.3657813721682,315.7790152759568,338.74992542893773,363.39182284747585,389.8262612019769,418.18363641741877,448.60382989099935,481.2368984997666,516.2438148019057,553.7972610829501,594.0824811637915,637.2981941722945,683.657574785967,733.3893047810378,786.7387010750259,843.9689258272131,905.3622845662122,971.2216187480407,1041.8717996139148,1117.6613307166738,1198.9640670207873,1286.181059055926,1379.7425312209482,1480.1100039968885,1587.7785705374129,1703.279338866715,1827.1820517317365,1960.097897031938,2102.6825226899164,2255.63927083464,2419.7226472508905,2595.74204320904,2784.56572803421,2987.1251321093873,3204.419441439702,3437.52052644198,3687.5782292722997,3955.8260357729237,4243.587160017208,4552.281071466368,4883.4304969352725,5238.668931906628,5619.74869824537,6028.549588060401,6467.088136352179,6937.527568186289,7442.188469460461,7983.560233901904,8564.313342760672,9187.312537772441,9855.63095237038,10572.565270852545,11341.651990282102,12166.684865337062,13051.73362216168,14001.16403353122,15019.659454356863,16112.243923761504,17284.3069476841,18541.63008426057,19890.415463121637]},\"selected\":{\"id\":\"2510\"},\"selection_policy\":{\"id\":\"2509\"}},\"id\":\"2356\",\"type\":\"ColumnDataSource\"},{\"attributes\":{},\"id\":\"2321\",\"type\":\"LinearScale\"},{\"attributes\":{\"active_drag\":\"auto\",\"active_inspect\":\"auto\",\"active_multi\":null,\"active_scroll\":\"auto\",\"active_tap\":\"auto\",\"tools\":[{\"id\":\"2331\"},{\"id\":\"2332\"},{\"id\":\"2333\"},{\"id\":\"2334\"}]},\"id\":\"2336\",\"type\":\"Toolbar\"},{\"attributes\":{},\"id\":\"2331\",\"type\":\"PanTool\"},{\"attributes\":{},\"id\":\"2328\",\"type\":\"BasicTicker\"},{\"attributes\":{\"axis\":{\"id\":\"2327\"},\"dimension\":1,\"ticker\":null},\"id\":\"2330\",\"type\":\"Grid\"},{\"attributes\":{\"months\":[0,4,8]},\"id\":\"2375\",\"type\":\"MonthsTicker\"}],\"root_ids\":[\"2312\"]},\"title\":\"Bokeh Application\",\"version\":\"2.0.1\"}};\n",
       "  var render_items = [{\"docid\":\"1b6c8b66-5fd2-4de1-bbf8-1ce8387ab246\",\"root_ids\":[\"2312\"],\"roots\":{\"2312\":\"abedbb59-e8de-41b8-98f3-f24639541c80\"}}];\n",
       "  root.Bokeh.embed.embed_items_notebook(docs_json, render_items);\n",
       "\n",
       "  }\n",
       "  if (root.Bokeh !== undefined) {\n",
       "    embed_document(root);\n",
       "  } else {\n",
       "    var attempts = 0;\n",
       "    var timer = setInterval(function(root) {\n",
       "      if (root.Bokeh !== undefined) {\n",
       "        clearInterval(timer);\n",
       "        embed_document(root);\n",
       "      } else {\n",
       "        attempts++;\n",
       "        if (attempts > 100) {\n",
       "          clearInterval(timer);\n",
       "          console.log(\"Bokeh: ERROR: Unable to run BokehJS code because BokehJS library is missing\");\n",
       "        }\n",
       "      }\n",
       "    }, 10, root)\n",
       "  }\n",
       "})(window);"
      ],
      "application/vnd.bokehjs_exec.v0+json": ""
     },
     "metadata": {
      "application/vnd.bokehjs_exec.v0+json": {
       "id": "2312"
      }
     },
     "output_type": "display_data"
    }
   ],
   "source": [
    "# Denver Metropolitan Area\n",
    "# https://en.wikipedia.org/wiki/Denver_metropolitan_area\n",
    "denver_metropolitan = dict(\n",
    "    Colorado=[\n",
    "        \"Denver\",\n",
    "        \"Arapahoe\",\n",
    "        \"Jefferson\",\n",
    "        \"Adams\",\n",
    "        \"Douglas\",\n",
    "        \"Broomfield\",\n",
    "        \"Elbert\",\n",
    "        \"Park\",\n",
    "        \"Clear Creek\",\n",
    "        \"Gilpin\",\n",
    "    ],\n",
    ")\n",
    "\n",
    "plot_states_and_counties_curve(\n",
    "    df, denver_metropolitan, \"Cases for the Denver Metropolitan Area\"\n",
    ")"
   ]
  },
  {
   "cell_type": "code",
   "execution_count": 9,
   "metadata": {},
   "outputs": [
    {
     "name": "stdout",
     "output_type": "stream",
     "text": [
      "y ≈ exp(7.9279002401654575) * exp(0.05986859908021695 * x)\n",
      "y = 2773.5967986978717 * exp(0.05986859908021695 * x)\n"
     ]
    },
    {
     "data": {
      "text/html": [
       "\n",
       "\n",
       "\n",
       "\n",
       "\n",
       "\n",
       "  <div class=\"bk-root\" id=\"1954c345-d4ac-40a9-b5bf-448aac54d482\" data-root-id=\"2637\"></div>\n"
      ]
     },
     "metadata": {},
     "output_type": "display_data"
    },
    {
     "data": {
      "application/javascript": [
       "(function(root) {\n",
       "  function embed_document(root) {\n",
       "    \n",
       "  var docs_json = {\"40a4964f-78e3-4566-9df7-2dd9bd62dc3f\":{\"roots\":{\"references\":[{\"attributes\":{\"below\":[{\"id\":\"2648\"}],\"center\":[{\"id\":\"2651\"},{\"id\":\"2655\"},{\"id\":\"2706\"}],\"left\":[{\"id\":\"2652\"}],\"plot_width\":880,\"renderers\":[{\"id\":\"2674\"},{\"id\":\"2679\"},{\"id\":\"2684\"}],\"title\":{\"id\":\"2638\"},\"toolbar\":{\"id\":\"2661\"},\"x_range\":{\"id\":\"2640\"},\"x_scale\":{\"id\":\"2644\"},\"y_range\":{\"id\":\"2642\"},\"y_scale\":{\"id\":\"2646\"}},\"id\":\"2637\",\"subtype\":\"Figure\",\"type\":\"Plot\"},{\"attributes\":{},\"id\":\"2702\",\"type\":\"YearsTicker\"},{\"attributes\":{},\"id\":\"2704\",\"type\":\"UnionRenderers\"},{\"attributes\":{\"axis_label\":\"# of Cases & Deaths\",\"formatter\":{\"id\":\"2690\"},\"ticker\":{\"id\":\"2653\"}},\"id\":\"2652\",\"type\":\"LinearAxis\"},{\"attributes\":{\"code\":\"\\n        let date = new Date(tick);\\n        return `${date.getDate()}-${date.getMonth()}-${date.getFullYear()}`\\n    \"},\"id\":\"2708\",\"type\":\"FuncTickFormatter\"},{\"attributes\":{\"source\":{\"id\":\"2666\"}},\"id\":\"2680\",\"type\":\"CDSView\"},{\"attributes\":{\"fields\":[\"deaths\"]},\"id\":\"2668\",\"type\":\"Stack\"},{\"attributes\":{},\"id\":\"2705\",\"type\":\"Selection\"},{\"attributes\":{\"num_minor_ticks\":5,\"tickers\":[{\"id\":\"2691\"},{\"id\":\"2692\"},{\"id\":\"2693\"},{\"id\":\"2694\"},{\"id\":\"2695\"},{\"id\":\"2696\"},{\"id\":\"2697\"},{\"id\":\"2698\"},{\"id\":\"2699\"},{\"id\":\"2700\"},{\"id\":\"2701\"},{\"id\":\"2702\"}]},\"id\":\"2649\",\"type\":\"DatetimeTicker\"},{\"attributes\":{\"label\":{\"value\":\"Projected # of Cases\"},\"renderers\":[{\"id\":\"2684\"}]},\"id\":\"2707\",\"type\":\"LegendItem\"},{\"attributes\":{\"data\":{\"x\":[1583798400000.0,1583884800000.0,1583971200000.0,1584057600000.0,1584144000000.0,1584230400000.0,1584316800000.0,1584403200000.0,1584489600000.0,1584576000000.0,1584662400000.0,1584748800000.0,1584835200000.0,1584921600000.0,1585008000000.0,1585094400000.0,1585180800000.0,1585267200000.0,1585353600000.0,1585440000000.0,1585526400000.0,1585612800000.0,1585699200000.0,1585785600000.0,1585872000000.0,1585958400000.0,1586044800000.0,1586131200000.0,1586217600000.0,1586304000000.0,1586390400000.0,1586476800000.0,1586563200000.0,1586649600000.0,1586736000000.0,1586822400000.0,1586908800000.0,1586995200000.0,1587081600000.0,1587168000000.0,1587254400000.0,1587340800000.0,1587427200000.0,1587513600000.0,1587600000000.0,1587686400000.0,1587772800000.0,1587859200000.0,1587945600000.0,1588032000000.0,1588118400000.0,1588204800000.0,1588291200000.0,1588377600000.0,1588464000000.0,1588550400000.0,1588636800000.0,1588723200000.0,1588809600000.0],\"y\":[2773.5967986978717,2944.719481967006,3126.3999264590316,3319.2895146786527,3524.0798174961265,3741.505073650032,3972.3448222279994,4217.426697563677,4477.62939657054,4753.885829151376,5047.186462978691,5358.582874638108,5689.191519866786,6040.197736404339,6412.859993807762,6808.514405467331,7228.579519000452,7674.561402198612,8148.059042762124,8650.770081182482,9184.496897326513,9751.153072544701,10352.770250472398,10991.505421122083,11669.648654382472,12389.631310651574,13154.034758041378,13965.599627408208,14827.23563839094,15742.032031686595,16713.26864496634,17744.427672142614,18839.20614814809,20001.52920398842,21235.56413959237,22545.735364914974,23936.7402628624,25413.566030912167,26981.5075618112,28646.18642746001,30413.57103404601,32289.998020688665,34282.1949783176,36397.30457023792,38642.9101408627,41027.062904428385,43558.31081117293,46245.72919447154,49098.95330880962,52128.21287525199,55344.36875826482,58758.95190538881,62384.20468937407,66233.12480100253,70319.51184996656,74658.01684088347,79264.19470183355,84154.56005375233,89346.64642062884]},\"selected\":{\"id\":\"2856\"},\"selection_policy\":{\"id\":\"2855\"}},\"id\":\"2681\",\"type\":\"ColumnDataSource\"},{\"attributes\":{\"axis\":{\"id\":\"2648\"},\"ticker\":null},\"id\":\"2651\",\"type\":\"Grid\"},{\"attributes\":{\"text\":\"Michigan Cases\"},\"id\":\"2638\",\"type\":\"Title\"},{\"attributes\":{\"fill_alpha\":0.1,\"fill_color\":\"lightblue\",\"x\":{\"field\":\"x\"},\"y1\":{\"expr\":{\"id\":\"2669\"}},\"y2\":{\"expr\":{\"id\":\"2670\"}}},\"id\":\"2678\",\"type\":\"VArea\"},{\"attributes\":{\"line_alpha\":0.1,\"line_color\":\"gray\",\"line_dash\":[6],\"x\":{\"field\":\"x\"},\"y\":{\"field\":\"y\"}},\"id\":\"2683\",\"type\":\"Line\"},{\"attributes\":{\"data_source\":{\"id\":\"2666\"},\"glyph\":{\"id\":\"2677\"},\"hover_glyph\":null,\"muted_glyph\":null,\"name\":\"cases\",\"nonselection_glyph\":{\"id\":\"2678\"},\"selection_glyph\":null,\"view\":{\"id\":\"2680\"}},\"id\":\"2679\",\"type\":\"GlyphRenderer\"},{\"attributes\":{\"source\":{\"id\":\"2681\"}},\"id\":\"2685\",\"type\":\"CDSView\"},{\"attributes\":{\"base\":60,\"mantissas\":[1,2,5,10,15,20,30],\"max_interval\":1800000.0,\"min_interval\":1000.0,\"num_minor_ticks\":0},\"id\":\"2692\",\"type\":\"AdaptiveTicker\"},{\"attributes\":{\"days\":[1,8,15,22]},\"id\":\"2696\",\"type\":\"DaysTicker\"},{\"attributes\":{},\"id\":\"2653\",\"type\":\"BasicTicker\"},{\"attributes\":{\"data_source\":{\"id\":\"2681\"},\"glyph\":{\"id\":\"2682\"},\"hover_glyph\":null,\"muted_glyph\":null,\"nonselection_glyph\":{\"id\":\"2683\"},\"selection_glyph\":null,\"view\":{\"id\":\"2685\"}},\"id\":\"2684\",\"type\":\"GlyphRenderer\"},{\"attributes\":{\"line_alpha\":0.75,\"line_color\":\"gray\",\"line_dash\":[6],\"x\":{\"field\":\"x\"},\"y\":{\"field\":\"y\"}},\"id\":\"2682\",\"type\":\"Line\"},{\"attributes\":{\"items\":[{\"id\":\"2707\"}],\"location\":\"top_left\"},\"id\":\"2706\",\"type\":\"Legend\"},{\"attributes\":{\"days\":[1,4,7,10,13,16,19,22,25,28]},\"id\":\"2695\",\"type\":\"DaysTicker\"},{\"attributes\":{\"overlay\":{\"id\":\"2660\"}},\"id\":\"2658\",\"type\":\"BoxZoomTool\"},{\"attributes\":{\"data\":{\"cases\":[2,2,12,25,33,53,54,65,80,334,548,787,1033,1324,1783,2286,2878,3652,4637,5473,6509,7630,9293,10791,12670,14225,15635,17130,18852,20220,21375,22646,23855,24496,25490,26845,27894,29120,29954,30718,31349,31929,32936,33930,35253,36628,37185,37752,38191],\"deaths\":[0,0,0,0,0,0,0,0,1,3,4,6,9,16,24,43,63,93,112,132,197,264,336,417,478,542,617,727,845,959,1076,1280,1395,1488,1603,1767,1920,2092,2227,2307,2389,2466,2698,2812,2977,3084,3273,3314,3406],\"x\":{\"__ndarray__\":\"AABA2xsMd0IAAABBbgx3QgAAwKbADHdCAACADBMNd0IAAEByZQ13QgAAANi3DXdCAADAPQoOd0IAAICjXA53QgAAQAmvDndCAAAAbwEPd0IAAMDUUw93QgAAgDqmD3dCAABAoPgPd0IAAAAGSxB3QgAAwGudEHdCAACA0e8Qd0IAAEA3QhF3QgAAAJ2UEXdCAADAAucRd0IAAIBoORJ3QgAAQM6LEndCAAAANN4Sd0IAAMCZMBN3QgAAgP+CE3dCAABAZdUTd0IAAADLJxR3QgAAwDB6FHdCAACAlswUd0IAAED8HhV3QgAAAGJxFXdCAADAx8MVd0IAAIAtFhZ3QgAAQJNoFndCAAAA+boWd0IAAMBeDRd3QgAAgMRfF3dCAABAKrIXd0IAAACQBBh3QgAAwPVWGHdCAACAW6kYd0IAAEDB+xh3QgAAACdOGXdCAADAjKAZd0IAAIDy8hl3QgAAQFhFGndCAAAAvpcad0IAAMAj6hp3QgAAgIk8G3dCAABA744bd0I=\",\"dtype\":\"float64\",\"shape\":[49]}},\"selected\":{\"id\":\"2705\"},\"selection_policy\":{\"id\":\"2704\"}},\"id\":\"2666\",\"type\":\"ColumnDataSource\"},{\"attributes\":{\"end\":1588118400000.0,\"start\":1583798400000.0},\"id\":\"2640\",\"type\":\"Range1d\"},{\"attributes\":{},\"id\":\"2659\",\"type\":\"ResetTool\"},{\"attributes\":{\"source\":{\"id\":\"2666\"}},\"id\":\"2675\",\"type\":\"CDSView\"},{\"attributes\":{},\"id\":\"2656\",\"type\":\"PanTool\"},{\"attributes\":{\"months\":[0,1,2,3,4,5,6,7,8,9,10,11]},\"id\":\"2698\",\"type\":\"MonthsTicker\"},{\"attributes\":{},\"id\":\"2657\",\"type\":\"WheelZoomTool\"},{\"attributes\":{\"fill_alpha\":0.1,\"fill_color\":\"red\",\"x\":{\"field\":\"x\"},\"y1\":{\"expr\":{\"id\":\"2667\"}},\"y2\":{\"expr\":{\"id\":\"2668\"}}},\"id\":\"2673\",\"type\":\"VArea\"},{\"attributes\":{\"data_source\":{\"id\":\"2666\"},\"glyph\":{\"id\":\"2672\"},\"hover_glyph\":null,\"muted_glyph\":null,\"name\":\"deaths\",\"nonselection_glyph\":{\"id\":\"2673\"},\"selection_glyph\":null,\"view\":{\"id\":\"2675\"}},\"id\":\"2674\",\"type\":\"GlyphRenderer\"},{\"attributes\":{\"months\":[0,2,4,6,8,10]},\"id\":\"2699\",\"type\":\"MonthsTicker\"},{\"attributes\":{\"fill_color\":\"lightblue\",\"x\":{\"field\":\"x\"},\"y1\":{\"expr\":{\"id\":\"2669\"}},\"y2\":{\"expr\":{\"id\":\"2670\"}}},\"id\":\"2677\",\"type\":\"VArea\"},{\"attributes\":{\"days\":[1,15]},\"id\":\"2697\",\"type\":\"DaysTicker\"},{\"attributes\":{},\"id\":\"2644\",\"type\":\"LinearScale\"},{\"attributes\":{\"days\":[1,2,3,4,5,6,7,8,9,10,11,12,13,14,15,16,17,18,19,20,21,22,23,24,25,26,27,28,29,30,31]},\"id\":\"2694\",\"type\":\"DaysTicker\"},{\"attributes\":{\"months\":[0,4,8]},\"id\":\"2700\",\"type\":\"MonthsTicker\"},{\"attributes\":{\"fill_color\":\"red\",\"x\":{\"field\":\"x\"},\"y1\":{\"expr\":{\"id\":\"2667\"}},\"y2\":{\"expr\":{\"id\":\"2668\"}}},\"id\":\"2672\",\"type\":\"VArea\"},{\"attributes\":{\"months\":[0,6]},\"id\":\"2701\",\"type\":\"MonthsTicker\"},{\"attributes\":{\"bottom_units\":\"screen\",\"fill_alpha\":0.5,\"fill_color\":\"lightgrey\",\"left_units\":\"screen\",\"level\":\"overlay\",\"line_alpha\":1.0,\"line_color\":\"black\",\"line_dash\":[4,4],\"line_width\":2,\"render_mode\":\"css\",\"right_units\":\"screen\",\"top_units\":\"screen\"},\"id\":\"2660\",\"type\":\"BoxAnnotation\"},{\"attributes\":{\"fields\":[]},\"id\":\"2667\",\"type\":\"Stack\"},{\"attributes\":{},\"id\":\"2855\",\"type\":\"UnionRenderers\"},{\"attributes\":{\"fields\":[\"deaths\",\"cases\"]},\"id\":\"2670\",\"type\":\"Stack\"},{\"attributes\":{\"axis_label\":\"Date\",\"formatter\":{\"id\":\"2708\"},\"ticker\":{\"id\":\"2649\"}},\"id\":\"2648\",\"type\":\"DatetimeAxis\"},{\"attributes\":{\"end\":45829},\"id\":\"2642\",\"type\":\"Range1d\"},{\"attributes\":{\"fields\":[\"deaths\"]},\"id\":\"2669\",\"type\":\"Stack\"},{\"attributes\":{\"axis\":{\"id\":\"2652\"},\"dimension\":1,\"ticker\":null},\"id\":\"2655\",\"type\":\"Grid\"},{\"attributes\":{},\"id\":\"2690\",\"type\":\"BasicTickFormatter\"},{\"attributes\":{},\"id\":\"2646\",\"type\":\"LinearScale\"},{\"attributes\":{},\"id\":\"2856\",\"type\":\"Selection\"},{\"attributes\":{\"active_drag\":\"auto\",\"active_inspect\":\"auto\",\"active_multi\":null,\"active_scroll\":\"auto\",\"active_tap\":\"auto\",\"tools\":[{\"id\":\"2656\"},{\"id\":\"2657\"},{\"id\":\"2658\"},{\"id\":\"2659\"}]},\"id\":\"2661\",\"type\":\"Toolbar\"},{\"attributes\":{\"base\":24,\"mantissas\":[1,2,4,6,8,12],\"max_interval\":43200000.0,\"min_interval\":3600000.0,\"num_minor_ticks\":0},\"id\":\"2693\",\"type\":\"AdaptiveTicker\"},{\"attributes\":{\"mantissas\":[1,2,5],\"max_interval\":500.0,\"num_minor_ticks\":0},\"id\":\"2691\",\"type\":\"AdaptiveTicker\"}],\"root_ids\":[\"2637\"]},\"title\":\"Bokeh Application\",\"version\":\"2.0.1\"}};\n",
       "  var render_items = [{\"docid\":\"40a4964f-78e3-4566-9df7-2dd9bd62dc3f\",\"root_ids\":[\"2637\"],\"roots\":{\"2637\":\"1954c345-d4ac-40a9-b5bf-448aac54d482\"}}];\n",
       "  root.Bokeh.embed.embed_items_notebook(docs_json, render_items);\n",
       "\n",
       "  }\n",
       "  if (root.Bokeh !== undefined) {\n",
       "    embed_document(root);\n",
       "  } else {\n",
       "    var attempts = 0;\n",
       "    var timer = setInterval(function(root) {\n",
       "      if (root.Bokeh !== undefined) {\n",
       "        clearInterval(timer);\n",
       "        embed_document(root);\n",
       "      } else {\n",
       "        attempts++;\n",
       "        if (attempts > 100) {\n",
       "          clearInterval(timer);\n",
       "          console.log(\"Bokeh: ERROR: Unable to run BokehJS code because BokehJS library is missing\");\n",
       "        }\n",
       "      }\n",
       "    }, 10, root)\n",
       "  }\n",
       "})(window);"
      ],
      "application/vnd.bokehjs_exec.v0+json": ""
     },
     "metadata": {
      "application/vnd.bokehjs_exec.v0+json": {
       "id": "2637"
      }
     },
     "output_type": "display_data"
    }
   ],
   "source": [
    "plot_state_curve(df, \"Michigan\")"
   ]
  },
  {
   "cell_type": "code",
   "execution_count": null,
   "metadata": {},
   "outputs": [],
   "source": []
  }
 ],
 "metadata": {
  "kernelspec": {
   "display_name": "Python 3",
   "language": "python",
   "name": "python3"
  },
  "language_info": {
   "codemirror_mode": {
    "name": "ipython",
    "version": 3
   },
   "file_extension": ".py",
   "mimetype": "text/x-python",
   "name": "python",
   "nbconvert_exporter": "python",
   "pygments_lexer": "ipython3",
   "version": "3.7.6"
  }
 },
 "nbformat": 4,
 "nbformat_minor": 4
}
